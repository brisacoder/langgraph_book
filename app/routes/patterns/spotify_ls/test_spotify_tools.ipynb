{
 "cells": [
  {
   "cell_type": "code",
   "execution_count": 2,
   "metadata": {},
   "outputs": [],
   "source": [
    "%%capture --no-stderr\n",
    "%pip install --quiet -U langgraph langchain-core langchain_openai python-dotenv langsmith pydantic spotipy"
   ]
  },
  {
   "cell_type": "code",
   "execution_count": null,
   "metadata": {},
   "outputs": [],
   "source": [
    "%pip install --quiet -U jupyterlab-lsp\n",
    "%pip install --quiet -U \"python-lsp-server[all]\""
   ]
  },
  {
   "cell_type": "code",
   "execution_count": 2,
   "metadata": {},
   "outputs": [],
   "source": [
    "## Setup logging\n",
    "import logging\n",
    "import os\n",
    "from dotenv import load_dotenv\n",
    "\n",
    "load_dotenv(override=True)\n",
    "logger = logging.getLogger(__name__)\n",
    "\n",
    "# Configure logging\n",
    "logging.basicConfig(\n",
    "    level=logging.INFO,\n",
    "    format='%(asctime)s - %(levelname)s - %(message)s',  # Define the format\n",
    "    handlers=[logging.StreamHandler()]  # Output to the console\n",
    ")"
   ]
  },
  {
   "cell_type": "code",
   "execution_count": 2,
   "metadata": {},
   "outputs": [],
   "source": [
    "from langgraph.prebuilt import ToolNode\n",
    "from spotify_tools import find_top_tracks, get_playlists, create_spotify_playlist, get_track_list_from_playlist, add_tracks_to_playlist, filter_artists, get_artists_from_playlist\n",
    "from plan import validate_plan\n",
    "\n",
    "tools = [get_playlists, create_spotify_playlist, add_tracks_to_playlist, filter_artists, validate_plan, get_artists_from_playlist, get_track_list_from_playlist, find_top_tracks]\n",
    "# tools = [get_playlists, get_track_list, create_spotify_playlist, add_tracks_to_playlist, search_tool]\n",
    "tool_node = ToolNode(tools)"
   ]
  },
  {
   "cell_type": "code",
   "execution_count": 5,
   "metadata": {},
   "outputs": [
    {
     "name": "stdout",
     "output_type": "stream",
     "text": [
      "[{'type': 'function', 'function': {'name': 'get_playlists', 'description': 'Retrieves all Spotify Playlist IDs. Each playlist includes the Spotify URI and other relevant data\\n\\nReturns:\\n    List[Playlist]: A list of Spotify Playlist IDs', 'parameters': {'properties': {}, 'type': 'object'}}}, {'type': 'function', 'function': {'name': 'create_spotify_playlist', 'description': 'Creates a new playlist on Spotify.\\n\\nThis function only creates the playlist; it does not add tracks.\\nSee add_tracks_to_playlist() to add tracks to a existing playlist\\n\\nArgs:\\n    name (str): The name of the new playlist.\\n    description (str): The description of the playlist.\\n\\nReturns:\\n    Dict[str, Any]: Dictionary representing a Playlist', 'parameters': {'properties': {'name': {'type': 'string'}, 'description': {'type': 'string'}}, 'required': ['name', 'description'], 'type': 'object'}}}, {'type': 'function', 'function': {'name': 'add_tracks_to_playlist', 'description': 'Adds tracks to a Spotify playlist.\\n\\nArgs:\\n    playlist_id (SpotifyID): Spotify ID of the playlist.\\n    tracks (List[SpotifyID]): List of Spotify ID tracks\\n\\nReturns:\\n    Dict[str, Any]: A dictionary indicating success or error.', 'parameters': {'properties': {'playlist_id': {'type': 'string'}, 'tracks': {'items': {'type': 'string'}, 'type': 'array'}}, 'required': ['playlist_id', 'tracks'], 'type': 'object'}}}, {'type': 'function', 'function': {'name': 'filter_artists', 'description': 'Checks `new_artists` against an existing Playlist. It returns a set\\n of artists that can be used in a new playlist.\\n\\nIn essense it will perform set operation `new-artists` - `existing-artists`\\nArgs:\\n    playlist_id (SpotifyID): Spotify playlist ID in the format <base-62 number>\\n    new_artists (List[SpotifyID]): List of artists Spotify IDs\\n\\nReturns:\\n    Dict[str, Set[SpotifyID]]: List of artists Spotify IDs that can be used in a new playlist', 'parameters': {'properties': {'playlist_id': {'type': 'string'}, 'new_artists': {'items': {'type': 'string'}, 'type': 'array'}}, 'required': ['playlist_id', 'new_artists'], 'type': 'object'}}}, {'type': 'function', 'function': {'name': 'validate_plan', 'description': 'Validates a step-by-step plan to solve a problem\\n\\nArgs:\\n    plan (Plan): a step-by-step plan to solve a problem\\n\\nReturns:\\n    bool: whether plan is okay or not', 'parameters': {'properties': {'plan': {'additionalProperties': False, 'properties': {'steps': {'description': 'List of steps constituting the plan, supporting advanced planning structures. Each step (or sub-step as  applicable) must be atomic, focused on a specific goal, and the entire plan must be complete, verifiable, and reproducible.', 'items': {'additionalProperties': False, 'description': 'Represents a unit of work that can be an action, loop, branch, or parallel execution.', 'properties': {'step_number': {'description': 'The sequential number of the step in the plan.', 'type': 'integer'}, 'name': {'description': \"URL-friendly name for the task, e.g., 'deploy-application'. Must not contain spaces or special characters.\", 'type': 'string'}, 'type': {'description': \"Type of the step. Possible values: 'action', 'loop', 'branch', 'parallel'.\", 'type': 'string'}, 'description': {'description': 'A detailed description of the task', 'type': 'string'}, 'success_criteria': {'description': 'Clear and verifiable criteria for task completion', 'type': 'string'}, 'tool': {'anyOf': [{'type': 'string'}, {'type': 'null'}], 'default': None, 'description': 'A `Tool` instance required for the step, if applicable.'}, 'action': {'anyOf': [{'type': 'string'}, {'type': 'null'}], 'default': None, 'description': 'Action description in plain English.'}, 'condition': {'anyOf': [{'type': 'string'}, {'type': 'null'}], 'default': None, 'description': 'Condition expression for loops and branches.'}, 'substeps': {'anyOf': [{'items': {'additionalProperties': False, 'description': 'Represents a unit of work that can be an action, loop, branch, or parallel execution.', 'properties': {'step_number': {'description': 'The sequential number of the sub-step in the plan.', 'title': 'Step Number', 'type': 'integer'}, 'name': {'description': 'URL-friendly name for the sub-step. Must not contain spaces or special characters.', 'title': 'Name', 'type': 'string'}, 'type': {'description': \"Type of the sub-step. Possible values: 'action', 'branch', 'parallel'.\", 'title': 'Type', 'type': 'string'}, 'description': {'description': 'A detailed description of the sub-step.', 'title': 'Description', 'type': 'string'}, 'success_criteria': {'description': 'Clear and verifiable criteria for sub-step completion.', 'title': 'Success Criteria', 'type': 'string'}, 'tool': {'anyOf': [{'type': 'string'}, {'type': 'null'}], 'default': None, 'description': 'A `Tool` instance required for the sub-step, if applicable.', 'title': 'Tool'}, 'action': {'anyOf': [{'type': 'string'}, {'type': 'null'}], 'default': None, 'description': 'Action description in plain English.', 'title': 'Action'}, 'condition': {'anyOf': [{'type': 'string'}, {'type': 'null'}], 'default': None, 'description': 'Condition expression for branches.', 'title': 'Condition'}}, 'required': ['step_number', 'name', 'type', 'description', 'success_criteria'], 'title': 'SubStep', 'type': 'object'}, 'type': 'array'}, {'type': 'null'}], 'default': [], 'description': 'Nested substeps for loops, branches, or parallel execution.'}}, 'required': ['step_number', 'name', 'type', 'description', 'success_criteria'], 'type': 'object'}, 'type': 'array'}, 'Reasoning': {'description': 'OpenAI should capture here the entire reasoning sequence used to create  the plan', 'type': 'string'}}, 'required': ['steps', 'Reasoning'], 'type': 'object'}}, 'required': ['plan'], 'type': 'object'}}}, {'type': 'function', 'function': {'name': 'get_artists_from_playlist', 'description': 'Get the list of artists from a Spotify playlist\\n\\nArgs:\\n    playlist_id (SpotifyID): Spotify playlist ID in base-62 number\\n\\nReturns:\\n    Dict[SpotifyID, str]: A dictionary where keys=SpotifyID name and value=artist name', 'parameters': {'properties': {'playlist_id': {'type': 'string'}}, 'required': ['playlist_id'], 'type': 'object'}}}, {'type': 'function', 'function': {'name': 'get_track_list_from_playlist', 'description': 'Retrieves the track list for a specific Spotify playlist.\\n\\nArgs:\\n    playlist_id (SpotifyID): Spotify playlist ID in the format <base-62 number>\\n\\nReturns:\\n    List[Dict[str, Any]]: A list of Tracks', 'parameters': {'properties': {'playlist_id': {'type': 'string'}}, 'required': ['playlist_id'], 'type': 'object'}}}, {'type': 'function', 'function': {'name': 'find_top_tracks', 'description': 'Find top tracks for each of Spotify artists on the list.\\n\\nArgs:\\n    artists (List[SpotifyID]): List of Spotify artists IDs in <base-62 number>\\n\\nReturns:\\n   List[SpotifyID]: A list of Spotify track IDs.', 'parameters': {'properties': {'artists': {'items': {'type': 'string'}, 'type': 'array'}}, 'required': ['artists'], 'type': 'object'}}}]\n"
     ]
    }
   ],
   "source": [
    "from langchain_core.utils.function_calling import convert_to_openai_function\n",
    "import json\n",
    "\n",
    "\n",
    "def wrap_as_tool(function):\n",
    "    # Use convert_to_openai_function to get the OpenAI Tool representation\n",
    "    openai_function = convert_to_openai_function(function)\n",
    "\n",
    "    # Wrap it in the desired structure\n",
    "    return {\"type\": \"function\", \"function\": openai_function}\n",
    "\n",
    "tools_name_to_desc = [wrap_as_tool(tool) for tool in tools]\n",
    "print(f\"{tools_name_to_desc}\")\n"
   ]
  },
  {
   "cell_type": "code",
   "execution_count": 5,
   "metadata": {},
   "outputs": [],
   "source": [
    "from langchain_core.messages import AIMessage\n",
    "message_with_single_tool_call = AIMessage(\n",
    "    content=\"\",\n",
    "    tool_calls=[\n",
    "        {\n",
    "            \"name\": \"find_similar_artists\",\n",
    "            \"args\" : {\"artists\": [\"spotify:artist:4uk9cWBqeiel7tO1w9MPe0\", \"spotify:artist:01aC2ikO4Xgb2LUpf9JfKp\", \"spotify:artist:4NpFxQe2UvRCAjto3JqlSl\"]},\n",
    "            \"id\": \"tool_call_id\",\n",
    "            \"type\": \"tool_call\",\n",
    "        }\n",
    "    ],\n",
    ")"
   ]
  },
  {
   "cell_type": "code",
   "execution_count": 7,
   "metadata": {},
   "outputs": [
    {
     "name": "stderr",
     "output_type": "stream",
     "text": [
      "2024-12-02 23:49:07,426 - INFO - User authentication requires interaction with your web browser. Once you enter your credentials and give authorization, you will be redirected to a url.  Paste that url you were directed to to complete the authorization.\n",
      "2024-12-02 23:49:07,506 - INFO - Opened https://accounts.spotify.com/authorize?client_id=73dde5f5fcc54ef999b16118c1703326&response_type=code&redirect_uri=http%3A%2F%2Flocalhost%3A33333&scope=+playlist-modify-private++playlist-modify-public+user-library-modify in your browser\n",
      "2024-12-02 23:49:10,731 - ERROR - HTTP Error for GET to https://api.spotify.com/v1/artists/4uk9cWBqeiel7tO1w9MPe0/related-artists with Params: {} returned 404 due to Not Found\n",
      "2024-12-02 23:49:26,762 - ERROR - Unexpected error for artist spotify:artist:4uk9cWBqeiel7tO1w9MPe0: http status: 404, code:-1 - https://api.spotify.com/v1/artists/4uk9cWBqeiel7tO1w9MPe0/related-artists:\n",
      " Not Found, reason: None\n",
      "2024-12-02 23:49:26,830 - ERROR - HTTP Error for GET to https://api.spotify.com/v1/artists/01aC2ikO4Xgb2LUpf9JfKp/related-artists with Params: {} returned 404 due to Not Found\n",
      "2024-12-02 23:49:26,832 - ERROR - Unexpected error for artist spotify:artist:01aC2ikO4Xgb2LUpf9JfKp: http status: 404, code:-1 - https://api.spotify.com/v1/artists/01aC2ikO4Xgb2LUpf9JfKp/related-artists:\n",
      " Not Found, reason: None\n",
      "2024-12-02 23:49:26,896 - ERROR - HTTP Error for GET to https://api.spotify.com/v1/artists/4NpFxQe2UvRCAjto3JqlSl/related-artists with Params: {} returned 404 due to Not Found\n",
      "2024-12-02 23:49:26,899 - ERROR - Unexpected error for artist spotify:artist:4NpFxQe2UvRCAjto3JqlSl: http status: 404, code:-1 - https://api.spotify.com/v1/artists/4NpFxQe2UvRCAjto3JqlSl/related-artists:\n",
      " Not Found, reason: None\n"
     ]
    },
    {
     "name": "stdout",
     "output_type": "stream",
     "text": [
      "=================================\u001b[1m Tool Message \u001b[0m=================================\n",
      "Name: find_similar_artists\n",
      "\n",
      "{}\n"
     ]
    }
   ],
   "source": [
    "response = tool_node.invoke({\"messages\": [message_with_single_tool_call]})\n",
    "tool_message = response[\"messages\"][0]\n",
    "tool_message.pretty_print()"
   ]
  },
  {
   "cell_type": "markdown",
   "metadata": {},
   "source": [
    "# Test find_top_tracks()"
   ]
  },
  {
   "cell_type": "code",
   "execution_count": null,
   "metadata": {},
   "outputs": [],
   "source": [
    "from langchain_core.messages import AIMessage\n",
    "message_with_single_tool_call = AIMessage(\n",
    "    content=\"\",\n",
    "    tool_calls=[\n",
    "        {\n",
    "            \"name\": \"find_top_tracks\",\n",
    "            \"args\" : {\"artists\": [\"spotify:artist:6vYg01ZFt1nREsUDMDPUYX\", \"spotify:artist:4NpFxQe2UvRCAjto3JqlSl\"]},\n",
    "            \"id\": \"tool_call_id\",\n",
    "            \"type\": \"tool_call\",\n",
    "        }\n",
    "    ],\n",
    ")"
   ]
  },
  {
   "cell_type": "code",
   "execution_count": null,
   "metadata": {},
   "outputs": [],
   "source": [
    "response = tool_node.invoke({\"messages\": [message_with_single_tool_call]})\n",
    "tool_message = response[\"messages\"][0]\n",
    "# tool_message.pretty_print()\n",
    "response"
   ]
  },
  {
   "cell_type": "markdown",
   "metadata": {},
   "source": [
    "# Test find similar artists"
   ]
  },
  {
   "cell_type": "code",
   "execution_count": null,
   "metadata": {},
   "outputs": [],
   "source": [
    "artist_uris = [\n",
    "    \"spotify:artist:01aC2ikO4Xgb2LUpf9JfKp\", \"spotify:artist:1iEaqWaYpKo9x0OrEq7Q7z\",\n",
    "    \"spotify:artist:0RqtSIYZmd4fiBKVFqyIqD\", \"spotify:artist:7jdFEYD2LTYjfwxOdlVjmc\",\n",
    "    \"spotify:artist:7Ln80lUS6He07XvHI8qqHH\", \"spotify:artist:4pejUc4iciQfgdX6OKulQn\",\n",
    "    \"spotify:artist:0Nrwy16xCPXG8AwkMbcVvo\", \"spotify:artist:1xKrH6GSh9CJh8nYwbqW7B\",\n",
    "    \"spotify:artist:6vYg01ZFt1nREsUDMDPUYX\", \"spotify:artist:0bZCak2tcRMY1dzEIuwF42\",\n",
    "    \"spotify:artist:4NpFxQe2UvRCAjto3JqlSl\", \"spotify:artist:26opZSJcXshCmCwxgZQmBc\",\n",
    "    \"spotify:artist:3xYXYzm9H3RzyQgBrYwIcx\", \"spotify:artist:13ZEDW6vyBF12HYcZRr4EV\",\n",
    "    \"spotify:artist:4YLtscXsxbVgi031ovDDdh\", \"spotify:artist:5VPCIIfZPK8KPsgz4jmOEC\",\n",
    "    \"spotify:artist:1l9I7G8J8AnMScWQwlNJ4M\", \"spotify:artist:12Chz98pHFMPJEknJQMWvI\",\n",
    "    \"spotify:artist:5HsS48kuvghKcNpwOaAvB5\", \"spotify:artist:7mnBLXK823vNxN3UWB7Gfz\",\n",
    "    \"spotify:artist:3mVWMgLc7bcyCBtL2ymZwK\", \"spotify:artist:2ziB7fzrXBoh1HUPS6sVFn\",\n",
    "    \"spotify:artist:2gqMBdyddvN82dzZt4ZF14\", \"spotify:artist:2PqsalqLh5RT6FSy9DrGZh\",\n",
    "    \"spotify:artist:26T3LtbuGT1Fu9m0eRq5X3\", \"spotify:artist:3jdirYL01245TvAH39GfM6\",\n",
    "    \"spotify:artist:3TNt4aUIxgfy9aoaft5Jj2\", \"spotify:artist:2ueoLVCXQ948OfhVvAy3Nn\",\n",
    "    \"spotify:artist:49qiE8dj4JuNdpYGRPdKbF\", \"spotify:artist:6hQS54VPpxunuwR0W7usuo\",\n",
    "    \"spotify:artist:66YGDwn22fjphzqGCSIbbK\", \"spotify:artist:6lyMYewq2SuTFIXgiv7OxH\",\n",
    "    \"spotify:artist:5tFRohaO5yEsuJxmMnlCO9\", \"spotify:artist:16GcWuvvybAoaHr0NqT8Eh\",\n",
    "    \"spotify:artist:0qLNsNKm8bQcMoRFkR8Hmh\", \"spotify:artist:75dQReiBOHN37fQgWQrIAJ\",\n",
    "    \"spotify:artist:3yEnArbNHyTCwMRvD9SBy4\", \"spotify:artist:4rfE3kN2zKNC9L9tt3iVOg\",\n",
    "    \"spotify:artist:5P1oS9DUTPEqcrmXDmX4p8\", \"spotify:artist:3WyGjUsOZJRiT9re5pZYxL\",\n",
    "    \"spotify:artist:7sMcWECQxLm7EoKdRlSCAn\", \"spotify:artist:4uk9cWBqeiel7tO1w9MPe0\",\n",
    "    \"spotify:artist:4S47feOS2ATuhc7Ao5ilfG\", \"spotify:artist:14ZxDAK6ITtZZqPdiWrvSn\",\n",
    "    \"spotify:artist:1moxjboGR7GNWYIMWsRjgG\", \"spotify:artist:7I3bkknknQkIiatWiupQgD\",\n",
    "    \"spotify:artist:2qk9voo8llSGYcZ6xrBzKx\", \"spotify:artist:6GI52t8N5F02MxU0g5U69P\",\n",
    "    \"spotify:artist:1fZpYWNWdL5Z3wrDtISFUH\", \"spotify:artist:6XyAI3jtlsss5mJjAAJXzE\",\n",
    "    \"spotify:artist:5hPR4Atp3QY2ztiAcz1inl\", \"spotify:artist:5kuJibJcwOC53s3OkoGMRA\",\n",
    "    \"spotify:artist:2x9SpqnPi8rlE9pjHBwmSC\", \"spotify:artist:7MhMgCo0Bl0Kukl93PZbYS\",\n",
    "    \"spotify:artist:7J2lZBANizgPNfUzux31PV\", \"spotify:artist:6LufpoVlIYKQCu9Gjpk8B7\",\n",
    "    \"spotify:artist:5rZUNweztKBI1Xy3XhYHoJ\", \"spotify:artist:246dkjvS1zLTtiykXe5h60\",\n",
    "    \"spotify:artist:1zNqQNIdeOUZHb8zbZRFMX\", \"spotify:artist:22bE4uQ6baNwSHPVcDxLCe\",\n",
    "    \"spotify:artist:1HY2Jd0NmPuamShAr6KMms\", \"spotify:artist:4xac3zhHlBm5QDxbZeqgeR\",\n",
    "    \"spotify:artist:3lDpdwM8KILepMHqBWUhIA\", \"spotify:artist:3EaMbsBlExxNxLvTJcZvDq\",\n",
    "    \"spotify:artist:0XHiH53dHrvbwfjYM7en7I\", \"spotify:artist:6cSxzHrQgGc4I4Ck5Gewej\",\n",
    "    \"spotify:artist:69tiO1fG8VWduDl3ji2qhI\", \"spotify:artist:251UrhgNbMr15NLzQ2KyKq\",\n",
    "    \"spotify:artist:1QAJqy2dA3ihHBFIHRphZj\", \"spotify:artist:2FXC3k01G6Gw61bmprjgqS\",\n",
    "    \"spotify:artist:7jy3rLJdDQY21OgRLCZ9sD\", \"spotify:artist:6VDdCwrBM4qQaGxoAyxyJC\",\n",
    "    \"spotify:artist:3kjuyTCjPG1WMFCiyc5IuB\", \"spotify:artist:49zZ2lRNpfwWfUnASUxCYW\",\n",
    "    \"spotify:artist:4F84IBURUo98rz4r61KF70\", \"spotify:artist:1Xyo4u8uXC1ZmMpatF05PJ\",\n",
    "    \"spotify:artist:29mRqqZ15WaYjEsKNzcRkv\", \"spotify:artist:3hv9jJF3adDNsBSIQDqcjp\",\n",
    "    \"spotify:artist:6Q192DXotxtaysaqNPy5yR\", \"spotify:artist:6YWdHD3R863Apw1hkx3BwC\",\n",
    "    \"spotify:artist:66jsWaGhzSpHH1KRF34Oq3\", \"spotify:artist:6D6rjLdxyE5vwhMlkuQq0E\",\n",
    "    \"spotify:artist:1CcPlAmcnJjC4FnaPVzv2v\", \"spotify:artist:6eU0jV2eEZ8XTM7EmlguK6\",\n",
    "    \"spotify:artist:356c8AN5YWKvz86B4Sb1yf\", \"spotify:artist:33qOK5uJ8AR2xuQQAhHump\",\n",
    "    \"spotify:artist:3JulrApLVT81sb2HkfwMks\", \"spotify:artist:3Z7thZHrtFvqp8OpPffPKp\",\n",
    "    \"spotify:artist:090VebphoycdEyH165iMqc\", \"spotify:artist:1UfzhwcOR4yfX7yHTPfC9m\",\n",
    "    \"spotify:artist:0MASTEXfUt3bpiyGOoEaur\"\n",
    "]\n"
   ]
  },
  {
   "cell_type": "code",
   "execution_count": null,
   "metadata": {},
   "outputs": [],
   "source": [
    "from langgraph.prebuilt import ToolNode\n",
    "from spotify_tools import find_similar_artists\n",
    "\n",
    "tools = [find_similar_artists]\n",
    "tool_node = ToolNode(tools)"
   ]
  },
  {
   "cell_type": "code",
   "execution_count": null,
   "metadata": {},
   "outputs": [],
   "source": [
    "from langchain_core.messages import HumanMessage\n",
    "from langchain_openai import ChatOpenAI\n",
    "import json\n",
    "\n",
    "llm = ChatOpenAI(model=os.getenv(\"OPENAI_MODEL_NAME\"), temperature=1.0)\n",
    "# llm_with_tools = llm.bind_tools(tools, strict=True, parallel_tool_calls=False)\n",
    "llm_with_tools = llm.bind_tools(tools, strict=True)\n",
    "prompt = f\"\"\"\n",
    "For each artist in the Spotify URI list below, find 3-4 artists of a similar music style\n",
    "\n",
    "{json.dumps(artist_uris)}\n",
    "\"\"\"\n",
    "human_message = HumanMessage(prompt)"
   ]
  },
  {
   "cell_type": "code",
   "execution_count": null,
   "metadata": {},
   "outputs": [],
   "source": [
    "ai_message = llm_with_tools.invoke([human_message])"
   ]
  },
  {
   "cell_type": "code",
   "execution_count": null,
   "metadata": {},
   "outputs": [],
   "source": [
    "ai_message.pretty_print()"
   ]
  },
  {
   "cell_type": "markdown",
   "metadata": {},
   "source": [
    "# Test Create Spotify"
   ]
  },
  {
   "cell_type": "code",
   "execution_count": null,
   "metadata": {},
   "outputs": [],
   "source": [
    "from langchain_core.messages import AIMessage\n",
    "message_with_single_tool_call = AIMessage(\n",
    "    content=\"\",\n",
    "    tool_calls=[\n",
    "        {\n",
    "            \"name\": \"create_spotify_playlist\",\n",
    "            \"args\" : {\"name\": \"Test 3\", \"description\": \"A carefully curated collection of soulful rock and blues tracks, featuring rising stars and post-2010 successes, delivering a seamless and energetic listening experience\"},\n",
    "            \"id\": \"tool_call_id\",\n",
    "            \"type\": \"tool_call\",\n",
    "        }\n",
    "    ],\n",
    ")"
   ]
  },
  {
   "cell_type": "code",
   "execution_count": null,
   "metadata": {},
   "outputs": [],
   "source": [
    "from langgraph.prebuilt import ToolNode\n",
    "from spotify_tools import create_spotify_playlist\n",
    "\n",
    "tools = [create_spotify_playlist]\n",
    "tool_node = ToolNode(tools)"
   ]
  },
  {
   "cell_type": "code",
   "execution_count": null,
   "metadata": {},
   "outputs": [],
   "source": [
    "response = tool_node.invoke({\"messages\": [message_with_single_tool_call]})\n",
    "tool_message = response[\"messages\"][0]\n",
    "# tool_message.pretty_print()\n",
    "response"
   ]
  },
  {
   "cell_type": "code",
   "execution_count": 4,
   "metadata": {},
   "outputs": [
    {
     "name": "stderr",
     "output_type": "stream",
     "text": [
      "2024-12-05 11:04:35,688 - INFO - HTTP Request: POST https://api.openai.com/v1/chat/completions \"HTTP/1.1 200 OK\"\n"
     ]
    },
    {
     "data": {
      "text/plain": [
       "AIMessage(content=\"If you're a fan of The Record Company, you might enjoy artists with a similar blues-rock and roots rock sound. Here are a few recommendations:\\n\\n1. **The Black Keys** - Known for their garage rock and blues-infused style, The Black Keys offer a gritty sound with catchy hooks, similar to The Record Company's vibe.\\n\\n2. **Nathaniel Rateliff & The Night Sweats** - This band combines elements of soul, rock, and blues, delivering energetic performances and a sound that might appeal to fans of The Record Company.\\n\\n3. **Gary Clark Jr.** - Renowned for his fusion of rock, blues, and soul, Gary Clark Jr. offers powerful guitar work and dynamic performances, making his music a great companion for listeners who appreciate The Record Company's style.\\n\\nThese artists share a similar energy and musical aesthetic, making them worth exploring.\", additional_kwargs={'refusal': None}, response_metadata={'token_usage': {'completion_tokens': 173, 'prompt_tokens': 21, 'total_tokens': 194, 'completion_tokens_details': {'accepted_prediction_tokens': 0, 'audio_tokens': 0, 'reasoning_tokens': 0, 'rejected_prediction_tokens': 0}, 'prompt_tokens_details': {'audio_tokens': 0, 'cached_tokens': 0}}, 'model_name': 'gpt-4o-2024-08-06', 'system_fingerprint': 'fp_7f6be3efb0', 'finish_reason': 'stop', 'logprobs': None}, id='run-f4678fe1-0540-4d14-8e72-0472d57f58f0-0', usage_metadata={'input_tokens': 21, 'output_tokens': 173, 'total_tokens': 194, 'input_token_details': {'audio': 0, 'cache_read': 0}, 'output_token_details': {'audio': 0, 'reasoning': 0}})"
      ]
     },
     "execution_count": 4,
     "metadata": {},
     "output_type": "execute_result"
    }
   ],
   "source": [
    "from langchain_core.messages import HumanMessage\n",
    "from langchain_openai import ChatOpenAI\n",
    "\n",
    "llm = ChatOpenAI(model=os.getenv(\"OPENAI_MODEL_NAME\"), temperature=1.0)\n",
    "# llm_with_tools = llm.bind_tools(tools, strict=True, parallel_tool_calls=False)\n",
    "prompt = f\"\"\"Please provide 2-3 artists similar to \"The Record Company\"\n",
    "\"\"\"\n",
    "human_message = HumanMessage(prompt)\n",
    "llm.invoke([human_message])"
   ]
  }
 ],
 "metadata": {
  "kernelspec": {
   "display_name": ".venv",
   "language": "python",
   "name": "python3"
  },
  "language_info": {
   "codemirror_mode": {
    "name": "ipython",
    "version": 3
   },
   "file_extension": ".py",
   "mimetype": "text/x-python",
   "name": "python",
   "nbconvert_exporter": "python",
   "pygments_lexer": "ipython3",
   "version": "3.13.0"
  }
 },
 "nbformat": 4,
 "nbformat_minor": 2
}
