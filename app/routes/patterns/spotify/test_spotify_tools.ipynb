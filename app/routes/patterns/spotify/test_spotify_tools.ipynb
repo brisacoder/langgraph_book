{
 "cells": [
  {
   "cell_type": "code",
   "execution_count": 2,
   "metadata": {},
   "outputs": [],
   "source": [
    "%%capture --no-stderr\n",
    "%pip install --quiet -U langgraph langchain-core langchain_openai python-dotenv langsmith pydantic spotipy"
   ]
  },
  {
   "cell_type": "code",
   "execution_count": 3,
   "metadata": {},
   "outputs": [
    {
     "name": "stdout",
     "output_type": "stream",
     "text": [
      "Note: you may need to restart the kernel to use updated packages.\n",
      "Note: you may need to restart the kernel to use updated packages.\n"
     ]
    }
   ],
   "source": [
    "%pip install --quiet -U jupyterlab-lsp\n",
    "%pip install --quiet -U \"python-lsp-server[all]\""
   ]
  },
  {
   "cell_type": "code",
   "execution_count": 1,
   "metadata": {},
   "outputs": [],
   "source": [
    "## Setup logging\n",
    "import logging\n",
    "import os\n",
    "from dotenv import load_dotenv\n",
    "\n",
    "load_dotenv(override=True)\n",
    "logger = logging.getLogger(__name__)\n",
    "\n",
    "# Configure logging\n",
    "logging.basicConfig(\n",
    "    level=logging.INFO,\n",
    "    format='%(asctime)s - %(levelname)s - %(message)s',  # Define the format\n",
    "    handlers=[logging.StreamHandler()]  # Output to the console\n",
    ")"
   ]
  },
  {
   "cell_type": "code",
   "execution_count": 1,
   "metadata": {},
   "outputs": [],
   "source": [
    "from langgraph.prebuilt import ToolNode\n",
    "from spotify_tools import get_playlists, create_spotify_playlist, get_track_list, add_tracks_to_playlist, filter_artists, get_artists_from_playlist, find_similar_artists\n",
    "from plan import validate_plan\n",
    "\n",
    "tools = [get_playlists, create_spotify_playlist, add_tracks_to_playlist, filter_artists, validate_plan, get_artists_from_playlist, find_similar_artists, get_track_list]\n",
    "# tools = [get_playlists, get_track_list, create_spotify_playlist, add_tracks_to_playlist, search_tool]\n",
    "tool_node = ToolNode(tools)"
   ]
  },
  {
   "cell_type": "code",
   "execution_count": 8,
   "metadata": {},
   "outputs": [],
   "source": [
    "from langchain_core.messages import AIMessage\n",
    "message_with_single_tool_call = AIMessage(\n",
    "    content=\"\",\n",
    "    tool_calls=[\n",
    "        {\n",
    "            \"name\": \"find_similar_artists\",\n",
    "            \"args\" : {\"artists\": [\"spotify:artist:6vYg01ZFt1nREsUDMDPUYX\", \"spotify:artist:4NpFxQe2UvRCAjto3JqlSl\"]},\n",
    "            \"id\": \"tool_call_id\",\n",
    "            \"type\": \"tool_call\",\n",
    "        }\n",
    "    ],\n",
    ")"
   ]
  },
  {
   "cell_type": "code",
   "execution_count": 10,
   "metadata": {},
   "outputs": [
    {
     "name": "stdout",
     "output_type": "stream",
     "text": [
      "=================================\u001b[1m Tool Message \u001b[0m=================================\n",
      "Name: find_similar_artists\n",
      "\n",
      "{'spotify:artist:2ziB7fzrXBoh1HUPS6sVFn', 'spotify:artist:4wo1267SJuUfHgasdlfNfc', 'spotify:artist:692LYMl7s0bV6X3iduX5rG', 'spotify:artist:4U33udokhmKATsu8UoqUEN', 'spotify:artist:2uAduWnHf7kmOLazXpsGl1', 'spotify:artist:4Ayh1SXnVpYPCVR4190RXw', 'spotify:artist:5sD1ZLf2dGQ9gQ3YJl1eAd', 'spotify:artist:1Jl8u1U1GtBlwocZK5LWZv', 'spotify:artist:1VN3hs1Ra3vupNT3zN3baC', 'spotify:artist:1w5Kfo2jwwIPruYS2UWh56', 'spotify:artist:4tX2TplrkIP4v05BNC903e', 'spotify:artist:7jy3rLJdDQY21OgRLCZ9sD', 'spotify:artist:35mDUnsSVfkJpgjIXHsPC5', 'spotify:artist:3P5NW1wQjcWpR0VsT1m0xr', 'spotify:artist:2UZMlIwnkgAEDBsw1Rejkn', 'spotify:artist:3yEnArbNHyTCwMRvD9SBy4', 'spotify:artist:521Jw1ixgckc0WJHhm2Klu', 'spotify:artist:4MVyzYMgTwdP7Z49wAZHx0', 'spotify:artist:04HjibunL2jGRLEqVEMfZY', 'spotify:artist:5vCQg5Rpc7l4cPDRuR7Hdz', 'spotify:artist:2UazAtjfzqBF0Nho2awK4z', 'spotify:artist:00tVTdpEhQQw1bqdu8RCx2', 'spotify:artist:5DkVuI87mfB0mNCCUxj3CF', 'spotify:artist:40N10exWtaCVUtBMftQn3t', 'spotify:artist:7sMcWECQxLm7EoKdRlSCAn', 'spotify:artist:36QJpDe2go2KgaRleHCDTp', 'spotify:artist:01aC2ikO4Xgb2LUpf9JfKp', 'spotify:artist:5krkohEVJYw0qoB5VWwxaC', 'spotify:artist:3Ig1cmnFAUxpTEYVjTRkLo', 'spotify:artist:7mnBLXK823vNxN3UWB7Gfz', 'spotify:artist:356c8AN5YWKvz86B4Sb1yf', 'spotify:artist:714osTgzZrkyf3SGjggpfY', 'spotify:artist:5r1bdqzhgRoHC3YcCV6N5a', 'spotify:artist:22bE4uQ6baNwSHPVcDxLCe', 'spotify:artist:6u5mhJXgAKPTj6YVlZSPY9', 'spotify:artist:6kbzJ40luXJ5IKnSpWr7SD', 'spotify:artist:776Uo845nYHJpNaStv1Ds4', 'spotify:artist:0L8ExT028jH3ddEcZwqJJ5', 'spotify:artist:0XBRd3N11rCbh0s8qHf41m', 'spotify:artist:1lOQRP0UJWmpoDWBa8PB0B'}\n"
     ]
    }
   ],
   "source": [
    "response = tool_node.invoke({\"messages\": [message_with_single_tool_call]})\n",
    "tool_message = response[\"messages\"][0]\n",
    "tool_message.pretty_print()"
   ]
  }
 ],
 "metadata": {
  "kernelspec": {
   "display_name": ".venv",
   "language": "python",
   "name": "python3"
  },
  "language_info": {
   "codemirror_mode": {
    "name": "ipython",
    "version": 3
   },
   "file_extension": ".py",
   "mimetype": "text/x-python",
   "name": "python",
   "nbconvert_exporter": "python",
   "pygments_lexer": "ipython3",
   "version": "3.12.5"
  }
 },
 "nbformat": 4,
 "nbformat_minor": 2
}
