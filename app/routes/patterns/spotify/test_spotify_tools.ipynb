{
 "cells": [
  {
   "cell_type": "code",
   "execution_count": null,
   "metadata": {},
   "outputs": [],
   "source": [
    "%%capture --no-stderr\n",
    "%pip install --quiet -U langgraph langchain-core langchain_openai python-dotenv langsmith pydantic spotipy"
   ]
  },
  {
   "cell_type": "code",
   "execution_count": null,
   "metadata": {},
   "outputs": [],
   "source": [
    "%pip install --quiet -U jupyterlab-lsp\n",
    "%pip install --quiet -U \"python-lsp-server[all]\""
   ]
  },
  {
   "cell_type": "code",
   "execution_count": null,
   "metadata": {},
   "outputs": [],
   "source": [
    "## Setup logging\n",
    "import logging\n",
    "import os\n",
    "from dotenv import load_dotenv\n",
    "\n",
    "load_dotenv(override=True)\n",
    "logger = logging.getLogger(__name__)\n",
    "\n",
    "# Configure logging\n",
    "logging.basicConfig(\n",
    "    level=logging.INFO,\n",
    "    format='%(asctime)s - %(levelname)s - %(message)s',  # Define the format\n",
    "    handlers=[logging.StreamHandler()]  # Output to the console\n",
    ")"
   ]
  },
  {
   "cell_type": "code",
   "execution_count": null,
   "metadata": {},
   "outputs": [],
   "source": [
    "from langgraph.prebuilt import ToolNode\n",
    "from spotify_tools import find_top_tracks, get_playlists, create_spotify_playlist, get_track_list_from_playlist, add_tracks_to_playlist, filter_artists, get_artists_from_playlist, find_similar_artists\n",
    "from plan import validate_plan\n",
    "\n",
    "tools = [get_playlists, create_spotify_playlist, add_tracks_to_playlist, filter_artists, validate_plan, get_artists_from_playlist, find_similar_artists, get_track_list_from_playlist, find_top_tracks]\n",
    "# tools = [get_playlists, get_track_list, create_spotify_playlist, add_tracks_to_playlist, search_tool]\n",
    "tool_node = ToolNode(tools)"
   ]
  },
  {
   "cell_type": "code",
   "execution_count": null,
   "metadata": {},
   "outputs": [],
   "source": [
    "from langchain_core.messages import AIMessage\n",
    "message_with_single_tool_call = AIMessage(\n",
    "    content=\"\",\n",
    "    tool_calls=[\n",
    "        {\n",
    "            \"name\": \"find_similar_artists\",\n",
    "            \"args\" : {\"artists\": [\"spotify:artist:6vYg01ZFt1nREsUDMDPUYX\", \"spotify:artist:4NpFxQe2UvRCAjto3JqlSl\"]},\n",
    "            \"id\": \"tool_call_id\",\n",
    "            \"type\": \"tool_call\",\n",
    "        }\n",
    "    ],\n",
    ")"
   ]
  },
  {
   "cell_type": "code",
   "execution_count": null,
   "metadata": {},
   "outputs": [],
   "source": [
    "response = tool_node.invoke({\"messages\": [message_with_single_tool_call]})\n",
    "tool_message = response[\"messages\"][0]\n",
    "tool_message.pretty_print()"
   ]
  },
  {
   "cell_type": "markdown",
   "metadata": {},
   "source": [
    "# Test find_top_tracks()"
   ]
  },
  {
   "cell_type": "code",
   "execution_count": 2,
   "metadata": {},
   "outputs": [],
   "source": [
    "from langchain_core.messages import AIMessage\n",
    "message_with_single_tool_call = AIMessage(\n",
    "    content=\"\",\n",
    "    tool_calls=[\n",
    "        {\n",
    "            \"name\": \"find_top_tracks\",\n",
    "            \"args\" : {\"artists\": [\"spotify:artist:6vYg01ZFt1nREsUDMDPUYX\", \"spotify:artist:4NpFxQe2UvRCAjto3JqlSl\"]},\n",
    "            \"id\": \"tool_call_id\",\n",
    "            \"type\": \"tool_call\",\n",
    "        }\n",
    "    ],\n",
    ")"
   ]
  },
  {
   "cell_type": "code",
   "execution_count": 3,
   "metadata": {},
   "outputs": [
    {
     "data": {
      "text/plain": [
       "{'messages': [ToolMessage(content='[\"spotify:track:3xRzUblYGZhVs52fMjii7R\", \"spotify:track:0clyiEoEGDH8vGP7QRdS70\", \"spotify:track:11SXMhxJZPCcS5JWIwWuIX\", \"spotify:track:33b8AZ0yAFogx28aKkT1BM\", \"spotify:track:7nUBKIFijTXrZuq0k2nsgZ\", \"spotify:track:0UqNIatgH3yQrJwqajOM2G\", \"spotify:track:5PiDPyXpgEDNapsnJ3MbUs\", \"spotify:track:4N3uyBW6gxMcnWPY8YMctM\", \"spotify:track:2dZRsYQUm4MJ5HlshwNQVu\", \"spotify:track:12piutB7roc8bcU9CNeK0q\", \"spotify:track:7aOor99o8NNLZYElOXlBG1\", \"spotify:track:1BfR5GMOgW0peHkPxrwf11\", \"spotify:track:4iya38ctQ1httyA6NOG9oW\", \"spotify:track:32BEasyNQgqXQJKoVa0fUw\", \"spotify:track:0zlaa4AmbFE7MVDijsyD9Q\", \"spotify:track:0iYBNrznkCwhN3xCmNVJpo\", \"spotify:track:2ZMI0QNoqU9fQZFirR9WpK\", \"spotify:track:4rhUBIlzi7zgV7TryhVujl\", \"spotify:track:6jXwOrrBoutMICNxckeDNQ\", \"spotify:track:3qaRqV7dTbQV2VVMhd0ejd\"]', name='find_top_tracks', tool_call_id='tool_call_id')]}"
      ]
     },
     "execution_count": 3,
     "metadata": {},
     "output_type": "execute_result"
    }
   ],
   "source": [
    "response = tool_node.invoke({\"messages\": [message_with_single_tool_call]})\n",
    "tool_message = response[\"messages\"][0]\n",
    "# tool_message.pretty_print()\n",
    "response"
   ]
  }
 ],
 "metadata": {
  "kernelspec": {
   "display_name": ".venv",
   "language": "python",
   "name": "python3"
  },
  "language_info": {
   "codemirror_mode": {
    "name": "ipython",
    "version": 3
   },
   "file_extension": ".py",
   "mimetype": "text/x-python",
   "name": "python",
   "nbconvert_exporter": "python",
   "pygments_lexer": "ipython3",
   "version": "3.12.5"
  }
 },
 "nbformat": 4,
 "nbformat_minor": 2
}
