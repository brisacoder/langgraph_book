{
 "cells": [
  {
   "cell_type": "code",
   "execution_count": null,
   "metadata": {},
   "outputs": [],
   "source": [
    "%%capture --no-stderr\n",
    "%pip install --quiet -U langgraph langchain-core langchain_openai python-dotenv langsmith pydantic spotipy"
   ]
  },
  {
   "cell_type": "code",
   "execution_count": null,
   "metadata": {},
   "outputs": [],
   "source": [
    "%pip install --quiet -U jupyterlab-lsp\n",
    "%pip install --quiet -U \"python-lsp-server[all]\""
   ]
  },
  {
   "cell_type": "code",
   "execution_count": null,
   "metadata": {},
   "outputs": [],
   "source": [
    "## Setup logging\n",
    "import logging\n",
    "import os\n",
    "from dotenv import load_dotenv\n",
    "\n",
    "load_dotenv(override=True)\n",
    "logger = logging.getLogger(__name__)\n",
    "\n",
    "# Configure logging\n",
    "logging.basicConfig(\n",
    "    level=logging.INFO,\n",
    "    format='%(asctime)s - %(levelname)s - %(message)s',  # Define the format\n",
    "    handlers=[logging.StreamHandler()]  # Output to the console\n",
    ")"
   ]
  },
  {
   "cell_type": "markdown",
   "metadata": {},
   "source": [
    "# Define Spotify URI type"
   ]
  },
  {
   "cell_type": "code",
   "execution_count": 1,
   "metadata": {},
   "outputs": [],
   "source": [
    "from typing import List, NewType\n",
    "\n",
    "# Define a custom URI type\n",
    "SpotifyURI = NewType('SpotifyURI', str)"
   ]
  },
  {
   "cell_type": "markdown",
   "metadata": {},
   "source": [
    "# Define Spotify Track and Playlist Models"
   ]
  },
  {
   "cell_type": "code",
   "execution_count": 2,
   "metadata": {},
   "outputs": [],
   "source": [
    "from typing import List, Dict, Optional\n",
    "from pydantic import BaseModel, Field\n",
    "\n",
    "# Define a Pydantic model for Playlist\n",
    "class Playlist(BaseModel):\n",
    "    \"\"\"\n",
    "    A model representing a Spotify playlist.\n",
    "    \"\"\"\n",
    "    id: str = Field(..., description=\"The unique identifier for the playlist.\")\n",
    "    uri: str = Field(..., description=\"The Spotify URI for the playlist.\")\n",
    "    name: str = Field(..., description=\"The name of the playlist.\")\n",
    "    description: Optional[str] = Field(None, description=\"The playlist's description.\")\n",
    "    owner: Optional[str] = Field(None, description=\"The display name of the playlist's owner.\")\n",
    "    tracks_total: Optional[int] = Field(None, description=\"The total number of tracks in the playlist.\")\n",
    "    is_public: Optional[bool] = Field(None, description=\"Indicates if the playlist is public.\")\n",
    "    collaborative: Optional[bool] = Field(None, description=\"Indicates if the playlist is collaborative.\")\n",
    "    snapshot_id: Optional[str] = Field(None, description=\"The version identifier for the current playlist.\")\n",
    "\n",
    "# Define a Pydantic model for Track\n",
    "class Track(BaseModel):\n",
    "    \"\"\"\n",
    "    A model representing a Spotify track.\n",
    "    \"\"\"\n",
    "    id: str = Field(..., description=\"The unique identifier for the track.\")\n",
    "    uri: str = Field(..., description=\"The Spotify URI for the track.\")\n",
    "    name: str = Field(..., description=\"The name of the track.\")\n",
    "    artists: List[str] = Field(..., description=\"A list of artists who performed the track.\")\n",
    "    album: str = Field(..., description=\"The name of the album the track is from.\")\n",
    "    duration_ms: Optional[int] = Field(None, description=\"The track length in milliseconds.\")\n",
    "    explicit: Optional[bool] = Field(None, description=\"Indicates if the track has explicit content.\")\n",
    "    popularity: Optional[int] = Field(None, description=\"The popularity of the track (0-100).\")\n",
    "\n",
    "\n",
    "# Define a Pydantic model for Tracks\n",
    "class Tracks(BaseModel):\n",
    "    \"\"\"\n",
    "    A model representing a collection of Spotify tracks.\n",
    "    \"\"\"\n",
    "    tracks: List[Track] = Field(..., description=\"A list of Track objects.\")\n",
    "    total: Optional[int] = Field(None, description=\"Total number of tracks in the collection.\")\n",
    "    playlist_name: Optional[str] = Field(None, description=\"Name of the playlist.\")\n",
    "\n",
    "    class Config:\n",
    "        \"\"\"\n",
    "        Configuration for the Tracks model.\n",
    "        \"\"\"\n",
    "        str_strip_whitespace = True"
   ]
  },
  {
   "cell_type": "code",
   "execution_count": 3,
   "metadata": {},
   "outputs": [],
   "source": [
    "from typing import Dict, List, Any, Annotated, Set\n",
    "from typing import Annotated\n",
    "from typing_extensions import TypedDict\n",
    "from langchain_core.messages import BaseMessage\n",
    "from langgraph.graph.message import add_messages\n",
    "\n",
    "\n",
    "class State(TypedDict, total=False):\n",
    "    \"\"\"\n",
    "    Represents the state of the conversation and Spotify information\n",
    "\n",
    "    Attributes:\n",
    "        playlists (List[Playlist]): A list of Spotify Playlists.\n",
    "        tracks (List[Track]): Track list for a Spotify Playlist\n",
    "        new_playlist: (Playlist) : New Spotify playlist data\n",
    "        new_tracks: (List[Track]): Tracks for the new playlist\n",
    "    \"\"\"\n",
    "    new_playlist: Playlist\n",
    "    new_tracks: List[Track]\n",
    "    valid_artists: Set[str]\n",
    "    candidate_artists : Set[str]\n",
    "    playlists: List[Playlist]\n",
    "    tracks: List[Track]\n",
    "    artists: Set[str]\n",
    "    messages: Annotated[List[BaseMessage], add_messages]\n",
    "\n",
    "state: State = State()\n",
    "\n",
    "def get_state():\n",
    "    return state"
   ]
  },
  {
   "cell_type": "markdown",
   "metadata": {},
   "source": [
    "# Define Spotify Tools"
   ]
  },
  {
   "cell_type": "code",
   "execution_count": 4,
   "metadata": {},
   "outputs": [],
   "source": [
    "import os\n",
    "import spotipy\n",
    "from spotipy.oauth2 import SpotifyClientCredentials\n",
    "from langchain_core.tools import tool\n",
    "from typing import List, NewType, Set\n",
    "import json\n",
    "\n",
    "\n",
    "def get_spotify_client() -> spotipy.Spotify:\n",
    "    \"\"\"\n",
    "    Initializes and returns a Spotify client with user authentication.\n",
    "\n",
    "    Returns:\n",
    "        spotipy.Spotify: An authenticated Spotify client.\n",
    "    \"\"\"\n",
    "    auth_manager = SpotifyClientCredentials(\n",
    "        client_id=os.environ.get(\"SPOTIFY_CLIENT_ID\"),\n",
    "        client_secret=os.environ.get(\"SPOTIFY_CLIENT_SECRET\"),\n",
    "    )\n",
    "    return spotipy.Spotify(auth_manager=auth_manager)\n",
    "\n",
    "\n",
    "@tool\n",
    "def get_playlists() -> Dict[str, List[Playlist]]:\n",
    "    \"\"\"\n",
    "    Retrieves a list of the user's Spotify playlists.\n",
    "\n",
    "    Returns:\n",
    "        Dict[str, List[Playlist]]: A dictionary containing a list of Playlist models under the 'playlists' key.\n",
    "    \"\"\"\n",
    "    sp = get_spotify_client()\n",
    "    playlists: List[Playlist] = []\n",
    "\n",
    "    try:\n",
    "        # Fetch the current user's playlists with pagination\n",
    "        playlists_raw = sp.user_playlists(user=os.getenv(\"SPOTIFY_USER_ID\"), limit=100)\n",
    "        while playlists_raw:\n",
    "            for playlist_data in playlists_raw['items']:\n",
    "                # Map API data to the Playlist model\n",
    "                playlist = Playlist(\n",
    "                    id=playlist_data['id'],\n",
    "                    uri=playlist_data['uri'],\n",
    "                    name=playlist_data['name'],\n",
    "                    description=playlist_data.get('description'),\n",
    "                    owner=playlist_data['owner']['display_name'],\n",
    "                    tracks_total=playlist_data['tracks']['total'],\n",
    "                    is_public=playlist_data.get('public'),\n",
    "                    collaborative=playlist_data.get('collaborative'),\n",
    "                    snapshot_id=playlist_data.get('snapshot_id')\n",
    "                )\n",
    "                playlists.append(playlist)\n",
    "            # Check if there is a next page\n",
    "            if playlists_raw['next']:\n",
    "                playlists_raw = sp.next(playlists_raw)\n",
    "            else:\n",
    "                break\n",
    "    except spotipy.SpotifyException as e:\n",
    "        return {\"error\": str(e)}\n",
    "\n",
    "    # Save state\n",
    "    state: State= get_state()\n",
    "    state[\"playlists\"] = playlists\n",
    "\n",
    "    # Serialize the playlists to JSON-serializable dictionaries\n",
    "    serialized_playlists = [playlist.model_dump() for playlist in playlists]\n",
    "    return {\"playlists\": serialized_playlists}\n",
    "\n",
    "\n",
    "@tool\n",
    "def get_track_list(playlist_id: SpotifyURI) -> Dict[str, List[Track]]:\n",
    "    \"\"\"\n",
    "    Retrieves the track list for a specific Spotify playlist.\n",
    "\n",
    "    Args:\n",
    "        playlist_id (SpotifyURI): Spotify playlist URI in the format spotify:playlist:<base-62 number>\n",
    "\n",
    "    Returns:\n",
    "        Dict[str, List[Track]]: A dictionary containing a list of Track models under the 'tracks' key.\n",
    "    \"\"\"\n",
    "    sp = get_spotify_client()\n",
    "    playlist_tracks: List[Track] = []\n",
    "    playlist_artists: Set[str] = set()\n",
    "\n",
    "    try:\n",
    "        # Fetch the playlist's tracks with pagination\n",
    "        playlist = sp.user_playlist(user=os.getenv(\"SPOTIFY_USER_ID\"), playlist_id=playlist_id)\n",
    "        if 'tracks' in playlist:\n",
    "            tracks = playlist[\"tracks\"]\n",
    "            while tracks:\n",
    "                for item in tracks['items']:\n",
    "                    track_data = item['track']\n",
    "                    # Map API data to the Track model\n",
    "                    track = Track(\n",
    "                        id=track_data['id'],\n",
    "                        uri=track_data['uri'],\n",
    "                        name=track_data['name'],\n",
    "                        artists=[artist['name'] for artist in track_data['artists']],\n",
    "                        album=track_data['album']['name'],\n",
    "                        duration_ms=track_data.get('duration_ms'),\n",
    "                        explicit=track_data.get('explicit'),\n",
    "                        popularity=track_data.get('popularity')\n",
    "                    )\n",
    "                    playlist_tracks.append(track)\n",
    "                    [playlist_artists.add(artist['name']) for artist in track_data['artists']]\n",
    "                # Check if there is a next page\n",
    "                if tracks['next']:\n",
    "                    # TODO unclear in this case\n",
    "                    tracks = sp.next(tracks)\n",
    "                else:\n",
    "                    break\n",
    "    except spotipy.SpotifyException as e:\n",
    "        return {\"error\": str(e)}\n",
    "\n",
    "\n",
    "    # Save state\n",
    "    state: State= get_state()\n",
    "    state[\"tracks\"] = playlist_tracks\n",
    "    state[\"artists\"] = playlist_artists\n",
    "\n",
    "    # Serialize the tracks to JSON-serializable dictionaries\n",
    "    serialized_tracks = [track.model_dump() for track in playlist_tracks]\n",
    "    return {\"tracks\": serialized_tracks}\n",
    "\n",
    "\n",
    "@tool\n",
    "def create_spotify_playlist(name: str, description: str = \"Agentic Playlist\") -> Dict[str, Playlist]:\n",
    "    \"\"\"\n",
    "    Creates a new playlist on Spotify.\n",
    "\n",
    "    This function only creates the playlist; it does not add tracks.\n",
    "    See tool add_tracks_to_playlist() to add tracks to a existing playlist\n",
    "\n",
    "    Args:\n",
    "        name (str): The name of the new playlist.\n",
    "        description (str, optional): The description of the playlist.\n",
    "\n",
    "    Returns:\n",
    "        Dict[str, Playlist]: A dictionary containing the new Playlist model under the 'new_playlist' key.\n",
    "    \"\"\"\n",
    "    sp = get_spotify_client()\n",
    "    try:\n",
    "        # Create a new playlist\n",
    "        new_playlist_data = sp.user_playlist_create(\n",
    "            user=os.getenv(\"SPOTIFY_USER_ID\"),\n",
    "            name=name,\n",
    "            public=True,\n",
    "            description=description\n",
    "        )\n",
    "        # Map API data to the Playlist model\n",
    "        new_playlist = Playlist(\n",
    "            id=new_playlist_data['id'],\n",
    "            uri=new_playlist_data['uri'],\n",
    "            name=new_playlist_data['name'],\n",
    "            description=new_playlist_data.get('description'),\n",
    "            owner=new_playlist_data['owner']['display_name'],\n",
    "            tracks_total=new_playlist_data['tracks']['total'],\n",
    "            is_public=new_playlist_data.get('public'),\n",
    "            collaborative=new_playlist_data.get('collaborative'),\n",
    "            snapshot_id=new_playlist_data.get('snapshot_id')\n",
    "        )\n",
    "        state: State = get_state()\n",
    "        state[\"new_playlist\"] = new_playlist\n",
    "    except spotipy.SpotifyException as e:\n",
    "        return {\"error\": str(e)}\n",
    "    return {\"new_playlist\": new_playlist.model_dump()}\n",
    "\n",
    "@tool\n",
    "def add_tracks_to_playlist(playlist_id: str, tracks: Tracks) -> Dict[str, Any]:\n",
    "    \"\"\"\n",
    "    Adds tracks to a Spotify playlist.\n",
    "\n",
    "    Args:\n",
    "        playlist_id (str): ID of the playlist.\n",
    "        tracks (Tracks): Spotify Pydantic Model of a List of tracks\n",
    "\n",
    "    Returns:\n",
    "        Dict[str, Any]: A dictionary indicating success or error.\n",
    "    \"\"\"\n",
    "    sp = get_spotify_client()\n",
    "    try:\n",
    "        sp.playlist_add_items(playlist_id=playlist_id, items=tracks)\n",
    "    except spotipy.SpotifyException as e:\n",
    "        return {\"error\": str(e)}\n",
    "    return {\"success\": True} \n",
    "\n",
    "@tool\n",
    "def check_artists(playlist_id: str, artists: List[str]) -> Dict[str, List[str]]:\n",
    "    \"\"\"\n",
    "    Check a list of artists for a new Playlist against a existing Playlist\n",
    "\n",
    "    Args:\n",
    "        playlist_id (SpotifyURI): Spotify playlist URI in the format spotify:playlist:<base-62 number>\n",
    "        artists (str): A list of new artist names\n",
    "\n",
    "    Returns:\n",
    "        Dict[str, Set[str]]: Dict with a Set of artists that can be used in the new playlist\n",
    "    \"\"\"\n",
    "    state: State = get_state()\n",
    "    state['candidate_artists'] = set(artists)\n",
    "    valid_artists = state['candidate_artists'] - state[\"artists\"]\n",
    "    state[\"valid_artists\"] = valid_artists\n",
    "    return {\"valid_artists\": valid_artists}\n",
    "\n"
   ]
  },
  {
   "cell_type": "markdown",
   "metadata": {},
   "source": [
    "# Define Search Tool"
   ]
  },
  {
   "cell_type": "code",
   "execution_count": 5,
   "metadata": {},
   "outputs": [
    {
     "data": {
      "text/plain": [
       "'A search engine optimized for comprehensive, accurate, and trusted results. Useful for when you need to answer questions about current events. Input should be a search query.'"
      ]
     },
     "execution_count": 5,
     "metadata": {},
     "output_type": "execute_result"
    }
   ],
   "source": [
    "from langchain_community.tools.tavily_search import TavilySearchResults\n",
    "\n",
    "search_tool = TavilySearchResults(\n",
    "    max_results=50,\n",
    "    include_answer=True,\n",
    "    include_raw_content=True,\n",
    "    include_images=True,\n",
    "    # search_depth=\"advanced\",\n",
    "    # include_domains = []\n",
    "    # exclude_domains = []\n",
    ")\n",
    "name = search_tool.get_name()\n",
    "desc = search_tool.description\n",
    "desc"
   ]
  },
  {
   "cell_type": "markdown",
   "metadata": {},
   "source": [
    "# Define Plan Model"
   ]
  },
  {
   "cell_type": "code",
   "execution_count": 6,
   "metadata": {},
   "outputs": [],
   "source": [
    "class Step(BaseModel):\n",
    "    \"\"\"\n",
    "    The `Step` class represents an atomic unit of work within a plan. Each task must be focused on a single, clear objective and should not encompass multiple, unrelated activities.\n",
    "\n",
    "    Key Points:\n",
    "    - A task should perform one specific function and should not combine different activities. \n",
    "    - Each task should have a clear, verifiable success criterion that is achievable through the task's activities alone.\n",
    "    - Steps must be URL-friendly, without spaces or special characters in their names.\n",
    "    \n",
    "    **Examples of What a Task Should NOT Do:**\n",
    "    - \"Create a playlist and add tracks\" (This task mixes playlist creation with track management.)\n",
    "    - \"Search new artists and apply filtering.\" (This task combines artist search with its management, which should be separated.)\n",
    "    - \"Collect all relevant information about the playlist Spotify and User\" (This task has two action items)\n",
    "\n",
    "    Attributes:\n",
    "    - `name` (str): URL-friendly name for the task, e.g., 'deploy-application'. Must not contain spaces or special characters.\n",
    "    - `description` (str): A detailed description of the task, e.g., 'Deploy the application to the Kubernetes cluster using Helm.'\n",
    "    - `success_criteria` (str): Clear and verifiable criteria for task completion, e.g., 'Application is successfully deployed and running in the Kubernetes cluster, as verified by checking the deployment status with 'kubectl get deployments'.' Each task must be atomic and focus on one thing only.\n",
    "    - `tools` (List[str]): List of `Tool Calling` instances required for the task, specifying which tools are needed.\n",
    "\n",
    "    \"\"\"    \n",
    "    name: str = Field(..., description=\"URL-friendly name for the task, e.g., 'deploy-application'. Must not contain spaces or special characters.\")\n",
    "    description: str = Field(..., description=\"A detailed description of the task, e.g., 'Deploy the application to the Kubernetes cluster using Helm.'\")\n",
    "    success_criteria: str = Field(..., description=\"Clear and verifiable criteria for task completion, e.g., 'Application is successfully deployed and running in the Kubernetes cluster, as verified by checking the deployment status with 'kubectl get deployments'.' Each task must be atomic and focus on one thing only.\")\n",
    "    tools: List[str] = Field(..., description=\"List of `Tool` instances required for the task, specifying which tools are needed.\")\n",
    "\n",
    "    class Config:\n",
    "        \"\"\"Configuration for the Task model.\"\"\"\n",
    "        json_schema_extra = {\n",
    "            \"description\": \"The `Task` class represents an atomic unit of work that involves using specific tools to achieve a clear goal.\"\n",
    "            # Removed 'examples' as it is now handled at the field level\n",
    "        }\n",
    "\n",
    "\n",
    "class Plan(BaseModel):\n",
    "    steps: List[Step] = Field(\n",
    "        ..., \n",
    "        description=(\n",
    "            \"A list of `Steps` that constitute the plan. Each step must be atomic, \"\n",
    "            \"focused on a specific goal, and the entire plan must be complete, verifiable, \"\n",
    "            \"and reproducible.\"\n",
    "        )\n",
    "    )\n",
    "    Reasoning: str = Field(\n",
    "        ..., \n",
    "        description=(\n",
    "            \"OpenAI should capture here the entire reasoning sequence used to create \"\n",
    "            \" the plan\"\n",
    "        )\n",
    "    )"
   ]
  },
  {
   "cell_type": "code",
   "execution_count": 7,
   "metadata": {},
   "outputs": [],
   "source": [
    "@tool\n",
    "def validate_plan(plan: Plan) -> bool:\n",
    "    \"\"\"\n",
    "    Validates a step-by-step plan to solve a problem\n",
    "\n",
    "    Args:\n",
    "        plan (Plan): a step-by-step plan to solve a problem\n",
    "\n",
    "    Returns:\n",
    "        bool: whether plan is okay or not\n",
    "    \"\"\"\n",
    "    return True"
   ]
  },
  {
   "cell_type": "markdown",
   "metadata": {},
   "source": [
    "# Create ToolNode"
   ]
  },
  {
   "cell_type": "code",
   "execution_count": 8,
   "metadata": {},
   "outputs": [],
   "source": [
    "from langgraph.prebuilt import ToolNode\n",
    "\n",
    "tools = [get_playlists, get_track_list, create_spotify_playlist, add_tracks_to_playlist, check_artists, validate_plan, search_tool]\n",
    "# tools = [get_playlists, get_track_list, create_spotify_playlist, add_tracks_to_playlist, search_tool]\n",
    "tool_node = ToolNode(tools)"
   ]
  },
  {
   "cell_type": "markdown",
   "metadata": {},
   "source": [
    "# Manual Test of Tool Infra"
   ]
  },
  {
   "cell_type": "code",
   "execution_count": null,
   "metadata": {},
   "outputs": [],
   "source": [
    "from langchain_core.messages import AIMessage, HumanMessage\n",
    "message_with_single_tool_call = AIMessage(\n",
    "    content=\"\",\n",
    "    tool_calls=[\n",
    "        {\n",
    "            \"name\": \"get_playlists\",\n",
    "            \"args\" : {},\n",
    "            \"id\": \"tool_call_id\",\n",
    "            \"type\": \"tool_call\",\n",
    "        }\n",
    "    ],\n",
    ")\n",
    "\n",
    "# tool_node.invoke({\"messages\": [message_with_single_tool_call]})"
   ]
  },
  {
   "cell_type": "markdown",
   "metadata": {},
   "source": [
    "# Bind Tools to Model"
   ]
  },
  {
   "cell_type": "code",
   "execution_count": 9,
   "metadata": {},
   "outputs": [],
   "source": [
    "from langchain_openai import ChatOpenAI\n",
    "\n",
    "llm = ChatOpenAI(model=os.getenv(\"OPENAI_MODEL_NAME\"), temperature=0.8)\n",
    "llm_with_tools = llm.bind_tools(tools)"
   ]
  },
  {
   "cell_type": "markdown",
   "metadata": {},
   "source": [
    "# Define Prompt"
   ]
  },
  {
   "cell_type": "code",
   "execution_count": 10,
   "metadata": {},
   "outputs": [],
   "source": [
    "prompt = \"\"\"\n",
    "Create and execute a step-by-step plan with atomic tasks to solve the following problem:\n",
    "\n",
    "**Objective:** Build a Spotify playlist with tracks that have the same vibe and genres as my 'New Rock and Blues' playlist, following the rules below.\n",
    "\n",
    "**Rules:**\n",
    "\n",
    "1. **For each artist in the 'New Rock and Blues' playlist, find 3-4 artists of the similar music style**\n",
    "\n",
    "2 .**Exclude Artists that are part of the  'New Rock and Blues' Playlist:**\n",
    "\n",
    "3. **Focus on Post-2010 Success:** Only include tracks from artists who achieved success after the year 2010.\n",
    "\n",
    "4. **Minimum Number of New Artists:** Include tracks from at least 40 different artists not present in the 'New Rock and Blues' playlist.\n",
    "\n",
    "5. **For each new artist, use your Knowledge Base to recommend 3-4 tracks that match the vibe and genres.\n",
    "\n",
    "6. **Arrange for Smooth Listening Experience:** Organize the tracks to create a smooth listening experience, considering tempo, energy, and mood, using best practices.\n",
    "\n",
    "7. **Playlist Length:** Ensure the new playlist contains at least 100 tracks.\n",
    "\n",
    "**Instructions:**\n",
    "\n",
    "- Follow the rules strictly to meet the objective.\n",
    "- Every step must have a single atomic action and outcome\n",
    "- Prefer using a tool if available instead of your Knowledge Base\n",
    "- clearly state at all times what step you are working on\n",
    "- Step(s) should be repeated any number of times to achieve the desired outcome.\n",
    "- Do not ask for user confirmation\n",
    "\"\"\"\n"
   ]
  },
  {
   "cell_type": "markdown",
   "metadata": {},
   "source": [
    "# First Message"
   ]
  },
  {
   "cell_type": "code",
   "execution_count": 11,
   "metadata": {},
   "outputs": [],
   "source": [
    "from langchain_core.messages import HumanMessage\n",
    "\n",
    "human_message = HumanMessage(prompt)\n",
    "ai_tool_call_message = llm_with_tools.invoke([human_message])"
   ]
  },
  {
   "cell_type": "code",
   "execution_count": 12,
   "metadata": {},
   "outputs": [
    {
     "name": "stdout",
     "output_type": "stream",
     "text": [
      "==================================\u001b[1m Ai Message \u001b[0m==================================\n",
      "Tool Calls:\n",
      "  validate_plan (call_QDZiF7kTB8o6XzN5kYRFdRv3)\n",
      " Call ID: call_QDZiF7kTB8o6XzN5kYRFdRv3\n",
      "  Args:\n",
      "    plan: {'steps': [{'name': 'get_new_rock_and_blues_playlist', 'description': \"Retrieve the 'New Rock and Blues' playlist to understand the existing artists and tracks.\", 'success_criteria': \"Successfully retrieved the 'New Rock and Blues' playlist and identified the artists and tracks within it.\", 'tools': ['functions.get_playlists']}, {'name': 'find_3_4_similar_artists', 'description': \"For each artist in the 'New Rock and Blues' playlist, use the knowledge base to find 3-4 artists of similar music style not present in the playlist.\", 'success_criteria': \"Identified 3-4 similar artists for each artist in the 'New Rock and Blues' playlist, excluding those already present in the playlist.\", 'tools': []}, {'name': 'exclude_existing_artists', 'description': \"Exclude artists already present in the 'New Rock and Blues' playlist from the new list of similar artists.\", 'success_criteria': \"A list of similar artists is created, excluding those already present in the 'New Rock and Blues' playlist.\", 'tools': ['functions.check_artists']}, {'name': 'filter_post_2010_success', 'description': 'Filter the list of similar artists to include only those who achieved success post-2010.', 'success_criteria': 'Filtered list of artists who achieved success after 2010.', 'tools': []}, {'name': 'recommend_tracks_for_new_artists', 'description': 'For each new artist, recommend 3-4 tracks that match the vibe and genres from the knowledge base.', 'success_criteria': 'Recommended 3-4 tracks for each new artist that match the desired vibe and genres.', 'tools': []}, {'name': 'create_new_playlist', 'description': 'Create a new Spotify playlist for the recommended tracks.', 'success_criteria': 'Successfully created a new Spotify playlist with a given name and description.', 'tools': ['functions.create_spotify_playlist']}, {'name': 'add_tracks_to_playlist', 'description': 'Add the recommended tracks to the new Spotify playlist.', 'success_criteria': 'Successfully added at least 100 tracks from the recommended list to the new playlist.', 'tools': ['functions.add_tracks_to_playlist']}, {'name': 'arrange_for_smooth_listening', 'description': 'Organize the tracks in the new playlist to ensure a smooth listening experience by considering tempo, energy, and mood.', 'success_criteria': 'The tracks are organized in a manner that provides a smooth listening experience.', 'tools': []}], 'Reasoning': 'To build a Spotify playlist that matches the vibe and genre of an existing playlist, we need to systematically gather similar artists and their tracks while adhering to specific rules. The plan involves retrieving the existing playlist, finding similar artists, excluding specific artists, filtering based on success criteria, recommending tracks, and creating the playlist. Each step is designed to handle a single task, making it manageable and verifiable. Tools are used where applicable to automate and simplify processes.'}\n"
     ]
    }
   ],
   "source": [
    "ai_tool_call_message.pretty_print()"
   ]
  },
  {
   "cell_type": "markdown",
   "metadata": {},
   "source": [
    "# chat_prompt_template holds all messages (Human, AI, Tool)"
   ]
  },
  {
   "cell_type": "code",
   "execution_count": 13,
   "metadata": {},
   "outputs": [
    {
     "data": {
      "text/plain": [
       "[HumanMessage(content=\"\\nCreate and execute a step-by-step plan with atomic tasks to solve the following problem:\\n\\n**Objective:** Build a Spotify playlist with tracks that have the same vibe and genres as my 'New Rock and Blues' playlist, following the rules below.\\n\\n**Rules:**\\n\\n1. **For each artist in the 'New Rock and Blues' playlist, find 3-4 artists of the similar music style**\\n\\n2 .**Exclude Artists that are part of the  'New Rock and Blues' Playlist:**\\n\\n3. **Focus on Post-2010 Success:** Only include tracks from artists who achieved success after the year 2010.\\n\\n4. **Minimum Number of New Artists:** Include tracks from at least 40 different artists not present in the 'New Rock and Blues' playlist.\\n\\n5. **For each new artist, use your Knowledge Base to recommend 3-4 tracks that match the vibe and genres.\\n\\n6. **Arrange for Smooth Listening Experience:** Organize the tracks to create a smooth listening experience, considering tempo, energy, and mood, using best practices.\\n\\n7. **Playlist Length:** Ensure the new playlist contains at least 100 tracks.\\n\\n**Instructions:**\\n\\n- Follow the rules strictly to meet the objective.\\n- Every step must have a single atomic action and outcome\\n- Prefer using a tool if available instead of your Knowledge Base\\n- clearly state at all times what step you are working on\\n- Step(s) should be repeated any number of times to achieve the desired outcome.\\n- Do not ask for user confirmation\\n\", additional_kwargs={}, response_metadata={}),\n",
       " AIMessage(content='', additional_kwargs={'tool_calls': [{'id': 'call_QDZiF7kTB8o6XzN5kYRFdRv3', 'function': {'arguments': '{\"plan\":{\"steps\":[{\"name\":\"get_new_rock_and_blues_playlist\",\"description\":\"Retrieve the \\'New Rock and Blues\\' playlist to understand the existing artists and tracks.\",\"success_criteria\":\"Successfully retrieved the \\'New Rock and Blues\\' playlist and identified the artists and tracks within it.\",\"tools\":[\"functions.get_playlists\"]},{\"name\":\"find_3_4_similar_artists\",\"description\":\"For each artist in the \\'New Rock and Blues\\' playlist, use the knowledge base to find 3-4 artists of similar music style not present in the playlist.\",\"success_criteria\":\"Identified 3-4 similar artists for each artist in the \\'New Rock and Blues\\' playlist, excluding those already present in the playlist.\",\"tools\":[]},{\"name\":\"exclude_existing_artists\",\"description\":\"Exclude artists already present in the \\'New Rock and Blues\\' playlist from the new list of similar artists.\",\"success_criteria\":\"A list of similar artists is created, excluding those already present in the \\'New Rock and Blues\\' playlist.\",\"tools\":[\"functions.check_artists\"]},{\"name\":\"filter_post_2010_success\",\"description\":\"Filter the list of similar artists to include only those who achieved success post-2010.\",\"success_criteria\":\"Filtered list of artists who achieved success after 2010.\",\"tools\":[]},{\"name\":\"recommend_tracks_for_new_artists\",\"description\":\"For each new artist, recommend 3-4 tracks that match the vibe and genres from the knowledge base.\",\"success_criteria\":\"Recommended 3-4 tracks for each new artist that match the desired vibe and genres.\",\"tools\":[]},{\"name\":\"create_new_playlist\",\"description\":\"Create a new Spotify playlist for the recommended tracks.\",\"success_criteria\":\"Successfully created a new Spotify playlist with a given name and description.\",\"tools\":[\"functions.create_spotify_playlist\"]},{\"name\":\"add_tracks_to_playlist\",\"description\":\"Add the recommended tracks to the new Spotify playlist.\",\"success_criteria\":\"Successfully added at least 100 tracks from the recommended list to the new playlist.\",\"tools\":[\"functions.add_tracks_to_playlist\"]},{\"name\":\"arrange_for_smooth_listening\",\"description\":\"Organize the tracks in the new playlist to ensure a smooth listening experience by considering tempo, energy, and mood.\",\"success_criteria\":\"The tracks are organized in a manner that provides a smooth listening experience.\",\"tools\":[]}],\"Reasoning\":\"To build a Spotify playlist that matches the vibe and genre of an existing playlist, we need to systematically gather similar artists and their tracks while adhering to specific rules. The plan involves retrieving the existing playlist, finding similar artists, excluding specific artists, filtering based on success criteria, recommending tracks, and creating the playlist. Each step is designed to handle a single task, making it manageable and verifiable. Tools are used where applicable to automate and simplify processes.\"}}', 'name': 'validate_plan'}, 'type': 'function'}], 'refusal': None}, response_metadata={'token_usage': {'completion_tokens': 573, 'prompt_tokens': 1250, 'total_tokens': 1823, 'completion_tokens_details': {'accepted_prediction_tokens': 0, 'audio_tokens': 0, 'reasoning_tokens': 0, 'rejected_prediction_tokens': 0}, 'prompt_tokens_details': {'audio_tokens': 0, 'cached_tokens': 0}}, 'model_name': 'gpt-4o-2024-08-06', 'system_fingerprint': 'fp_45cf54deae', 'finish_reason': 'tool_calls', 'logprobs': None}, id='run-08b34360-426e-44bf-b963-bf03d2d39dfc-0', tool_calls=[{'name': 'validate_plan', 'args': {'plan': {'steps': [{'name': 'get_new_rock_and_blues_playlist', 'description': \"Retrieve the 'New Rock and Blues' playlist to understand the existing artists and tracks.\", 'success_criteria': \"Successfully retrieved the 'New Rock and Blues' playlist and identified the artists and tracks within it.\", 'tools': ['functions.get_playlists']}, {'name': 'find_3_4_similar_artists', 'description': \"For each artist in the 'New Rock and Blues' playlist, use the knowledge base to find 3-4 artists of similar music style not present in the playlist.\", 'success_criteria': \"Identified 3-4 similar artists for each artist in the 'New Rock and Blues' playlist, excluding those already present in the playlist.\", 'tools': []}, {'name': 'exclude_existing_artists', 'description': \"Exclude artists already present in the 'New Rock and Blues' playlist from the new list of similar artists.\", 'success_criteria': \"A list of similar artists is created, excluding those already present in the 'New Rock and Blues' playlist.\", 'tools': ['functions.check_artists']}, {'name': 'filter_post_2010_success', 'description': 'Filter the list of similar artists to include only those who achieved success post-2010.', 'success_criteria': 'Filtered list of artists who achieved success after 2010.', 'tools': []}, {'name': 'recommend_tracks_for_new_artists', 'description': 'For each new artist, recommend 3-4 tracks that match the vibe and genres from the knowledge base.', 'success_criteria': 'Recommended 3-4 tracks for each new artist that match the desired vibe and genres.', 'tools': []}, {'name': 'create_new_playlist', 'description': 'Create a new Spotify playlist for the recommended tracks.', 'success_criteria': 'Successfully created a new Spotify playlist with a given name and description.', 'tools': ['functions.create_spotify_playlist']}, {'name': 'add_tracks_to_playlist', 'description': 'Add the recommended tracks to the new Spotify playlist.', 'success_criteria': 'Successfully added at least 100 tracks from the recommended list to the new playlist.', 'tools': ['functions.add_tracks_to_playlist']}, {'name': 'arrange_for_smooth_listening', 'description': 'Organize the tracks in the new playlist to ensure a smooth listening experience by considering tempo, energy, and mood.', 'success_criteria': 'The tracks are organized in a manner that provides a smooth listening experience.', 'tools': []}], 'Reasoning': 'To build a Spotify playlist that matches the vibe and genre of an existing playlist, we need to systematically gather similar artists and their tracks while adhering to specific rules. The plan involves retrieving the existing playlist, finding similar artists, excluding specific artists, filtering based on success criteria, recommending tracks, and creating the playlist. Each step is designed to handle a single task, making it manageable and verifiable. Tools are used where applicable to automate and simplify processes.'}}, 'id': 'call_QDZiF7kTB8o6XzN5kYRFdRv3', 'type': 'tool_call'}], usage_metadata={'input_tokens': 1250, 'output_tokens': 573, 'total_tokens': 1823, 'input_token_details': {'audio': 0, 'cache_read': 0}, 'output_token_details': {'audio': 0, 'reasoning': 0}})]"
      ]
     },
     "execution_count": 13,
     "metadata": {},
     "output_type": "execute_result"
    }
   ],
   "source": [
    "from langchain_core.prompts import ChatPromptTemplate, MessagesPlaceholder\n",
    "\n",
    "chat_prompt_template: ChatPromptTemplate = human_message + ai_tool_call_message\n",
    "chat_prompt_template.format_messages()"
   ]
  },
  {
   "cell_type": "markdown",
   "metadata": {},
   "source": [
    "# Check for Tools in Message"
   ]
  },
  {
   "cell_type": "code",
   "execution_count": 14,
   "metadata": {},
   "outputs": [
    {
     "name": "stdout",
     "output_type": "stream",
     "text": [
      "[StructuredTool(name='validate_plan', description='Validates a step-by-step plan to solve a problem\\n\\nArgs:\\n    plan (Plan): a step-by-step plan to solve a problem\\n\\nReturns:\\n    bool: whether plan is okay or not', args_schema=<class 'langchain_core.utils.pydantic.validate_plan'>, func=<function validate_plan at 0x0000024E61ADADE0>)]\n"
     ]
    }
   ],
   "source": [
    "from langchain_core.messages import ToolMessage\n",
    "\n",
    "tools_in_ai_message = []\n",
    "tools_by_name = {tool.name: tool for tool in tools}\n",
    "messages = chat_prompt_template.format_messages()\n",
    "for tool_call in messages[-1].tool_calls:\n",
    "    tool = tools_by_name[tool_call[\"name\"]]\n",
    "    tools_in_ai_message.append(tool)\n",
    "    # observation = tool.invoke(tool_call[\"args\"])\n",
    "    # result.append(ToolMessage(content=observation, tool_call_id=tool_call[\"id\"]))\n",
    "if len(tools_in_ai_message) == 0 or len(tools_in_ai_message) > 1:\n",
    "    raise ValueError\n",
    "else:\n",
    "    print(tools_in_ai_message)"
   ]
  },
  {
   "cell_type": "markdown",
   "metadata": {},
   "source": [
    "# Tool Call (should be validate_plan())"
   ]
  },
  {
   "cell_type": "code",
   "execution_count": 15,
   "metadata": {},
   "outputs": [
    {
     "name": "stdout",
     "output_type": "stream",
     "text": [
      "=================================\u001b[1m Tool Message \u001b[0m=================================\n",
      "Name: validate_plan\n",
      "\n",
      "true\n"
     ]
    }
   ],
   "source": [
    "messages = chat_prompt_template.format_messages()\n",
    "response = tool_node.invoke({\"messages\": messages})\n",
    "tool_message = response[\"messages\"][0]\n",
    "tool_message.pretty_print()"
   ]
  },
  {
   "cell_type": "code",
   "execution_count": 16,
   "metadata": {},
   "outputs": [
    {
     "data": {
      "text/plain": [
       "[HumanMessage(content=\"\\nCreate and execute a step-by-step plan with atomic tasks to solve the following problem:\\n\\n**Objective:** Build a Spotify playlist with tracks that have the same vibe and genres as my 'New Rock and Blues' playlist, following the rules below.\\n\\n**Rules:**\\n\\n1. **For each artist in the 'New Rock and Blues' playlist, find 3-4 artists of the similar music style**\\n\\n2 .**Exclude Artists that are part of the  'New Rock and Blues' Playlist:**\\n\\n3. **Focus on Post-2010 Success:** Only include tracks from artists who achieved success after the year 2010.\\n\\n4. **Minimum Number of New Artists:** Include tracks from at least 40 different artists not present in the 'New Rock and Blues' playlist.\\n\\n5. **For each new artist, use your Knowledge Base to recommend 3-4 tracks that match the vibe and genres.\\n\\n6. **Arrange for Smooth Listening Experience:** Organize the tracks to create a smooth listening experience, considering tempo, energy, and mood, using best practices.\\n\\n7. **Playlist Length:** Ensure the new playlist contains at least 100 tracks.\\n\\n**Instructions:**\\n\\n- Follow the rules strictly to meet the objective.\\n- Every step must have a single atomic action and outcome\\n- Prefer using a tool if available instead of your Knowledge Base\\n- clearly state at all times what step you are working on\\n- Step(s) should be repeated any number of times to achieve the desired outcome.\\n- Do not ask for user confirmation\\n\", additional_kwargs={}, response_metadata={}),\n",
       " AIMessage(content='', additional_kwargs={'tool_calls': [{'id': 'call_QDZiF7kTB8o6XzN5kYRFdRv3', 'function': {'arguments': '{\"plan\":{\"steps\":[{\"name\":\"get_new_rock_and_blues_playlist\",\"description\":\"Retrieve the \\'New Rock and Blues\\' playlist to understand the existing artists and tracks.\",\"success_criteria\":\"Successfully retrieved the \\'New Rock and Blues\\' playlist and identified the artists and tracks within it.\",\"tools\":[\"functions.get_playlists\"]},{\"name\":\"find_3_4_similar_artists\",\"description\":\"For each artist in the \\'New Rock and Blues\\' playlist, use the knowledge base to find 3-4 artists of similar music style not present in the playlist.\",\"success_criteria\":\"Identified 3-4 similar artists for each artist in the \\'New Rock and Blues\\' playlist, excluding those already present in the playlist.\",\"tools\":[]},{\"name\":\"exclude_existing_artists\",\"description\":\"Exclude artists already present in the \\'New Rock and Blues\\' playlist from the new list of similar artists.\",\"success_criteria\":\"A list of similar artists is created, excluding those already present in the \\'New Rock and Blues\\' playlist.\",\"tools\":[\"functions.check_artists\"]},{\"name\":\"filter_post_2010_success\",\"description\":\"Filter the list of similar artists to include only those who achieved success post-2010.\",\"success_criteria\":\"Filtered list of artists who achieved success after 2010.\",\"tools\":[]},{\"name\":\"recommend_tracks_for_new_artists\",\"description\":\"For each new artist, recommend 3-4 tracks that match the vibe and genres from the knowledge base.\",\"success_criteria\":\"Recommended 3-4 tracks for each new artist that match the desired vibe and genres.\",\"tools\":[]},{\"name\":\"create_new_playlist\",\"description\":\"Create a new Spotify playlist for the recommended tracks.\",\"success_criteria\":\"Successfully created a new Spotify playlist with a given name and description.\",\"tools\":[\"functions.create_spotify_playlist\"]},{\"name\":\"add_tracks_to_playlist\",\"description\":\"Add the recommended tracks to the new Spotify playlist.\",\"success_criteria\":\"Successfully added at least 100 tracks from the recommended list to the new playlist.\",\"tools\":[\"functions.add_tracks_to_playlist\"]},{\"name\":\"arrange_for_smooth_listening\",\"description\":\"Organize the tracks in the new playlist to ensure a smooth listening experience by considering tempo, energy, and mood.\",\"success_criteria\":\"The tracks are organized in a manner that provides a smooth listening experience.\",\"tools\":[]}],\"Reasoning\":\"To build a Spotify playlist that matches the vibe and genre of an existing playlist, we need to systematically gather similar artists and their tracks while adhering to specific rules. The plan involves retrieving the existing playlist, finding similar artists, excluding specific artists, filtering based on success criteria, recommending tracks, and creating the playlist. Each step is designed to handle a single task, making it manageable and verifiable. Tools are used where applicable to automate and simplify processes.\"}}', 'name': 'validate_plan'}, 'type': 'function'}], 'refusal': None}, response_metadata={'token_usage': {'completion_tokens': 573, 'prompt_tokens': 1250, 'total_tokens': 1823, 'completion_tokens_details': {'accepted_prediction_tokens': 0, 'audio_tokens': 0, 'reasoning_tokens': 0, 'rejected_prediction_tokens': 0}, 'prompt_tokens_details': {'audio_tokens': 0, 'cached_tokens': 0}}, 'model_name': 'gpt-4o-2024-08-06', 'system_fingerprint': 'fp_45cf54deae', 'finish_reason': 'tool_calls', 'logprobs': None}, id='run-08b34360-426e-44bf-b963-bf03d2d39dfc-0', tool_calls=[{'name': 'validate_plan', 'args': {'plan': {'steps': [{'name': 'get_new_rock_and_blues_playlist', 'description': \"Retrieve the 'New Rock and Blues' playlist to understand the existing artists and tracks.\", 'success_criteria': \"Successfully retrieved the 'New Rock and Blues' playlist and identified the artists and tracks within it.\", 'tools': ['functions.get_playlists']}, {'name': 'find_3_4_similar_artists', 'description': \"For each artist in the 'New Rock and Blues' playlist, use the knowledge base to find 3-4 artists of similar music style not present in the playlist.\", 'success_criteria': \"Identified 3-4 similar artists for each artist in the 'New Rock and Blues' playlist, excluding those already present in the playlist.\", 'tools': []}, {'name': 'exclude_existing_artists', 'description': \"Exclude artists already present in the 'New Rock and Blues' playlist from the new list of similar artists.\", 'success_criteria': \"A list of similar artists is created, excluding those already present in the 'New Rock and Blues' playlist.\", 'tools': ['functions.check_artists']}, {'name': 'filter_post_2010_success', 'description': 'Filter the list of similar artists to include only those who achieved success post-2010.', 'success_criteria': 'Filtered list of artists who achieved success after 2010.', 'tools': []}, {'name': 'recommend_tracks_for_new_artists', 'description': 'For each new artist, recommend 3-4 tracks that match the vibe and genres from the knowledge base.', 'success_criteria': 'Recommended 3-4 tracks for each new artist that match the desired vibe and genres.', 'tools': []}, {'name': 'create_new_playlist', 'description': 'Create a new Spotify playlist for the recommended tracks.', 'success_criteria': 'Successfully created a new Spotify playlist with a given name and description.', 'tools': ['functions.create_spotify_playlist']}, {'name': 'add_tracks_to_playlist', 'description': 'Add the recommended tracks to the new Spotify playlist.', 'success_criteria': 'Successfully added at least 100 tracks from the recommended list to the new playlist.', 'tools': ['functions.add_tracks_to_playlist']}, {'name': 'arrange_for_smooth_listening', 'description': 'Organize the tracks in the new playlist to ensure a smooth listening experience by considering tempo, energy, and mood.', 'success_criteria': 'The tracks are organized in a manner that provides a smooth listening experience.', 'tools': []}], 'Reasoning': 'To build a Spotify playlist that matches the vibe and genre of an existing playlist, we need to systematically gather similar artists and their tracks while adhering to specific rules. The plan involves retrieving the existing playlist, finding similar artists, excluding specific artists, filtering based on success criteria, recommending tracks, and creating the playlist. Each step is designed to handle a single task, making it manageable and verifiable. Tools are used where applicable to automate and simplify processes.'}}, 'id': 'call_QDZiF7kTB8o6XzN5kYRFdRv3', 'type': 'tool_call'}], usage_metadata={'input_tokens': 1250, 'output_tokens': 573, 'total_tokens': 1823, 'input_token_details': {'audio': 0, 'cache_read': 0}, 'output_token_details': {'audio': 0, 'reasoning': 0}}),\n",
       " ToolMessage(content='true', name='validate_plan', tool_call_id='call_QDZiF7kTB8o6XzN5kYRFdRv3')]"
      ]
     },
     "execution_count": 16,
     "metadata": {},
     "output_type": "execute_result"
    }
   ],
   "source": [
    "chat_prompt_template += tool_message\n",
    "chat_prompt_template.format_messages()"
   ]
  },
  {
   "cell_type": "markdown",
   "metadata": {},
   "source": [
    "# Send tool result to LLM"
   ]
  },
  {
   "cell_type": "code",
   "execution_count": 17,
   "metadata": {},
   "outputs": [
    {
     "name": "stdout",
     "output_type": "stream",
     "text": [
      "==================================\u001b[1m Ai Message \u001b[0m==================================\n",
      "\n",
      "The plan to create a new Spotify playlist based on the 'New Rock and Blues' playlist has been validated. Here's the step-by-step plan:\n",
      "\n",
      "### Step 1: Retrieve the 'New Rock and Blues' Playlist\n",
      "- **Objective:** Retrieve the 'New Rock and Blues' playlist to understand the existing artists and tracks.\n",
      "- **Tools:** `functions.get_playlists`\n",
      "- **Outcome:** Successfully retrieved the 'New Rock and Blues' playlist and identified the artists and tracks within it.\n",
      "\n",
      "### Step 2: Find 3-4 Similar Artists\n",
      "- **Objective:** For each artist in the 'New Rock and Blues' playlist, use the knowledge base to find 3-4 artists of similar music style not present in the playlist.\n",
      "- **Outcome:** Identified 3-4 similar artists for each artist in the 'New Rock and Blues' playlist, excluding those already present in the playlist.\n",
      "\n",
      "### Step 3: Exclude Existing Artists\n",
      "- **Objective:** Exclude artists already present in the 'New Rock and Blues' playlist from the new list of similar artists.\n",
      "- **Tools:** `functions.check_artists`\n",
      "- **Outcome:** A list of similar artists is created, excluding those already present in the 'New Rock and Blues' playlist.\n",
      "\n",
      "### Step 4: Filter for Post-2010 Success\n",
      "- **Objective:** Filter the list of similar artists to include only those who achieved success post-2010.\n",
      "- **Outcome:** Filtered list of artists who achieved success after 2010.\n",
      "\n",
      "### Step 5: Recommend Tracks for New Artists\n",
      "- **Objective:** For each new artist, recommend 3-4 tracks that match the vibe and genres from the knowledge base.\n",
      "- **Outcome:** Recommended 3-4 tracks for each new artist that match the desired vibe and genres.\n",
      "\n",
      "### Step 6: Create New Playlist\n",
      "- **Objective:** Create a new Spotify playlist for the recommended tracks.\n",
      "- **Tools:** `functions.create_spotify_playlist`\n",
      "- **Outcome:** Successfully created a new Spotify playlist with a given name and description.\n",
      "\n",
      "### Step 7: Add Tracks to Playlist\n",
      "- **Objective:** Add the recommended tracks to the new Spotify playlist.\n",
      "- **Tools:** `functions.add_tracks_to_playlist`\n",
      "- **Outcome:** Successfully added at least 100 tracks from the recommended list to the new playlist.\n",
      "\n",
      "### Step 8: Arrange for Smooth Listening\n",
      "- **Objective:** Organize the tracks in the new playlist to ensure a smooth listening experience by considering tempo, energy, and mood.\n",
      "- **Outcome:** The tracks are organized in a manner that provides a smooth listening experience.\n",
      "\n",
      "Let's begin executing the plan, starting with Step 1 to retrieve the 'New Rock and Blues' playlist.\n",
      "Tool Calls:\n",
      "  get_playlists (call_DEhPZG9Tht7UTOh27WAnlNBh)\n",
      " Call ID: call_DEhPZG9Tht7UTOh27WAnlNBh\n",
      "  Args:\n"
     ]
    }
   ],
   "source": [
    "ai_tool_call_message = llm_with_tools.invoke(chat_prompt_template.format_messages())\n",
    "ai_tool_call_message.pretty_print()"
   ]
  },
  {
   "cell_type": "markdown",
   "metadata": {},
   "source": [
    "# Tool Call (should be get_playlists())"
   ]
  },
  {
   "cell_type": "code",
   "execution_count": null,
   "metadata": {},
   "outputs": [
    {
     "data": {
      "text/plain": [
       "{'messages': [ToolMessage(content='{\"playlists\": [{\"id\": \"2dbYK5b7J0F7IdH5n1TEUK\", \"uri\": \"spotify:playlist:2dbYK5b7J0F7IdH5n1TEUK\", \"name\": \"RPreacher\", \"description\": \"\", \"owner\": \"Ray\", \"tracks_total\": 3, \"is_public\": true, \"collaborative\": false, \"snapshot_id\": \"AAAABG1lhIiRJT/NE9RpP4K6UnmZWixo\"}, {\"id\": \"4ack9YtUhdxRayJDAqlfQe\", \"uri\": \"spotify:playlist:4ack9YtUhdxRayJDAqlfQe\", \"name\": \"RP Bossa Nova Chill \", \"description\": \"\", \"owner\": \"Ray\", \"tracks_total\": 30, \"is_public\": true, \"collaborative\": false, \"snapshot_id\": \"AAAAIThdM9g/YPQwj7nuoHhewWyLoKEi\"}, {\"id\": \"75NW18NgdZuZeifrcjxKlZ\", \"uri\": \"spotify:playlist:75NW18NgdZuZeifrcjxKlZ\", \"name\": \"GVF\", \"description\": \"\", \"owner\": \"Ray\", \"tracks_total\": 11, \"is_public\": true, \"collaborative\": false, \"snapshot_id\": \"AAAADKZNV9h+cfi1PbOi6yjNHMe8mLWC\"}, {\"id\": \"5iyONtUO21O88xw8pBblwh\", \"uri\": \"spotify:playlist:5iyONtUO21O88xw8pBblwh\", \"name\": \"Now And Then\", \"description\": \"\", \"owner\": \"Ray\", \"tracks_total\": 7, \"is_public\": true, \"collaborative\": false, \"snapshot_id\": \"AAAACBkT0vD6HHtLpUO7hEOCzClgABvP\"}, {\"id\": \"4SDSUMg2HJcGFmHlupsU7U\", \"uri\": \"spotify:playlist:4SDSUMg2HJcGFmHlupsU7U\", \"name\": \"Jazz classics\", \"description\": \"\", \"owner\": \"Ray\", \"tracks_total\": 251, \"is_public\": true, \"collaborative\": false, \"snapshot_id\": \"AAAAA8p/xZVmAcTsRpsMlQtRepRFmbfo\"}, {\"id\": \"5fBxLG2wLAPVpx83402rHl\", \"uri\": \"spotify:playlist:5fBxLG2wLAPVpx83402rHl\", \"name\": \"Acdc\", \"description\": \"\", \"owner\": \"Ray\", \"tracks_total\": 26, \"is_public\": true, \"collaborative\": false, \"snapshot_id\": \"AAAAG+HaorntGV3LHad9bEcICDGFD56C\"}, {\"id\": \"17Yxm5hQbkbZwDcCTuiDXC\", \"uri\": \"spotify:playlist:17Yxm5hQbkbZwDcCTuiDXC\", \"name\": \"einaudi\", \"description\": \"\", \"owner\": \"Ray\", \"tracks_total\": 18, \"is_public\": true, \"collaborative\": false, \"snapshot_id\": \"AAAAF9qEdgDunVs0NC8jBUoE/CdMF7jq\"}, {\"id\": \"2X6GccWfIqPWO6VYx405nO\", \"uri\": \"spotify:playlist:2X6GccWfIqPWO6VYx405nO\", \"name\": \"Eric Clapton Blues\", \"description\": \"\", \"owner\": \"Ray\", \"tracks_total\": 24, \"is_public\": true, \"collaborative\": false, \"snapshot_id\": \"AAAAH4q+4xxgg62OXnIHbsNVZPC1LL1Q\"}, {\"id\": \"3smVXe8y8w8nt4lFH0HBkW\", \"uri\": \"spotify:playlist:3smVXe8y8w8nt4lFH0HBkW\", \"name\": \"Alchemy: Dire Straits\", \"description\": \"\", \"owner\": \"Ray\", \"tracks_total\": 10, \"is_public\": true, \"collaborative\": false, \"snapshot_id\": \"AAAAD45w+Oq6Z1xq7iMwF6iFkfWoT87p\"}, {\"id\": \"2ifRZBXnX7UmIPUlGet5WZ\", \"uri\": \"spotify:playlist:2ifRZBXnX7UmIPUlGet5WZ\", \"name\": \"Blues\", \"description\": \"\", \"owner\": \"Ray\", \"tracks_total\": 67, \"is_public\": true, \"collaborative\": false, \"snapshot_id\": \"AAAAVVh4N/reGLwCIcv89XjeUDHPPeAQ\"}, {\"id\": \"5nn2ePtd9gYEEDL3XnACCB\", \"uri\": \"spotify:playlist:5nn2ePtd9gYEEDL3XnACCB\", \"name\": \"brazil\", \"description\": \"\", \"owner\": \"Ray\", \"tracks_total\": 62, \"is_public\": true, \"collaborative\": false, \"snapshot_id\": \"AAAAV9cqXazKhP9K8MYZTPAqS7yFP1hq\"}, {\"id\": \"6YAntoKNXuogPKdV26b6XE\", \"uri\": \"spotify:playlist:6YAntoKNXuogPKdV26b6XE\", \"name\": \"CCR\", \"description\": \"\", \"owner\": \"Ray\", \"tracks_total\": 17, \"is_public\": true, \"collaborative\": false, \"snapshot_id\": \"AAAAEw4Fg6uyrf9reMIEnkNruUB2nRbg\"}, {\"id\": \"2VHkZvOMCkLF3B7TsKerKD\", \"uri\": \"spotify:playlist:2VHkZvOMCkLF3B7TsKerKD\", \"name\": \"Chill\", \"description\": \"\", \"owner\": \"Ray\", \"tracks_total\": 53, \"is_public\": true, \"collaborative\": false, \"snapshot_id\": \"AAAAOhAKCSjCgKZOV6OTiSZohe9Isj7C\"}, {\"id\": \"508lbLx9XUkHv5Xb45hxTP\", \"uri\": \"spotify:playlist:508lbLx9XUkHv5Xb45hxTP\", \"name\": \"Classic Rock\", \"description\": \"\", \"owner\": \"Ray\", \"tracks_total\": 306, \"is_public\": true, \"collaborative\": false, \"snapshot_id\": \"AAABRtPd9z/BoPLPCUOJBrUyXci7+r1n\"}, {\"id\": \"7zzDMq1sPwkZPYeqOQJ9qS\", \"uri\": \"spotify:playlist:7zzDMq1sPwkZPYeqOQJ9qS\", \"name\": \"The New Four Seasons - Vivaldi Recomposed\", \"description\": \"\", \"owner\": \"Ray\", \"tracks_total\": 13, \"is_public\": true, \"collaborative\": false, \"snapshot_id\": \"AAAAAsi2q+bxREAMmVWVTWHt10bpB6fa\"}, {\"id\": \"4l8WcaYlPkuVPXVGxMIca3\", \"uri\": \"spotify:playlist:4l8WcaYlPkuVPXVGxMIca3\", \"name\": \"New Study\", \"description\": \"\", \"owner\": \"Ray\", \"tracks_total\": 11, \"is_public\": true, \"collaborative\": false, \"snapshot_id\": \"AAAAEL23paVLvTGrRFTKquh+DNiGzrt7\"}, {\"id\": \"0Wr2Z9vroQ9IXKaokFHldt\", \"uri\": \"spotify:playlist:0Wr2Z9vroQ9IXKaokFHldt\", \"name\": \"Islands - Essential Einaudi (Deluxe Version)\", \"description\": \"\", \"owner\": \"Ray\", \"tracks_total\": 27, \"is_public\": true, \"collaborative\": false, \"snapshot_id\": \"AAAAAmPd/R11xxXnmQE5LY4VHJOmc2Si\"}, {\"id\": \"780Yx65yiaLtBYM76neBYC\", \"uri\": \"spotify:playlist:780Yx65yiaLtBYM76neBYC\", \"name\": \"Gioachino Rossini – Rossini: Overtures\", \"description\": \"\", \"owner\": \"Ray\", \"tracks_total\": 8, \"is_public\": true, \"collaborative\": false, \"snapshot_id\": \"AAAAAk/j3UaxYxxJ2E3uDuvkTHY7CyA3\"}, {\"id\": \"76rUGmzqh1OhyheEOUDYNp\", \"uri\": \"spotify:playlist:76rUGmzqh1OhyheEOUDYNp\", \"name\": \"Frédéric Chopin – Chopin: Nocturnes\", \"description\": \"\", \"owner\": \"Ray\", \"tracks_total\": 19, \"is_public\": true, \"collaborative\": false, \"snapshot_id\": \"AAAAAojQZUHMvW1fqFvaPCPZw651RTcR\"}, {\"id\": \"5qcHJodVJd8AEOT2cCvxEm\", \"uri\": \"spotify:playlist:5qcHJodVJd8AEOT2cCvxEm\", \"name\": \"Frédéric Chopin – Chopin: Nocturnes - Sony Classical Originals 2\", \"description\": \"\", \"owner\": \"Ray\", \"tracks_total\": 19, \"is_public\": true, \"collaborative\": false, \"snapshot_id\": \"AAAAAosFti6TgoD7O3TfPlfPiFc7yKj2\"}, {\"id\": \"7hr9yYAJLXDoJ5sKBhm8Af\", \"uri\": \"spotify:playlist:7hr9yYAJLXDoJ5sKBhm8Af\", \"name\": \"Antonio Vivaldi – Vivaldi: Guitar Concertos\", \"description\": \"\", \"owner\": \"Ray\", \"tracks_total\": 15, \"is_public\": true, \"collaborative\": false, \"snapshot_id\": \"AAAAAq5lTrQQYp3SUTtJrmlIdHbyh5CZ\"}, {\"id\": \"4ruyjAXs6VHU8ZYJqXsUiN\", \"uri\": \"spotify:playlist:4ruyjAXs6VHU8ZYJqXsUiN\", \"name\": \"Sergei Rachmaninoff – Rachmaninoff Plays Rachmaninoff: Concertos Nos. 2 and 3\", \"description\": \"\", \"owner\": \"Ray\", \"tracks_total\": 6, \"is_public\": true, \"collaborative\": false, \"snapshot_id\": \"AAAAAnd4DV7yCmI2VX7w0BB64um7bJem\"}, {\"id\": \"4GYOeGfC7fSephEi3UYh0W\", \"uri\": \"spotify:playlist:4GYOeGfC7fSephEi3UYh0W\", \"name\": \"Erik Satie – Satie: Gymnopédies, Gnossiennes & Other Works\", \"description\": \"\", \"owner\": \"Ray\", \"tracks_total\": 27, \"is_public\": true, \"collaborative\": false, \"snapshot_id\": \"AAAAAnslTVllUSPnBdYh2FMu1DtFAzVs\"}, {\"id\": \"2lop6NfhiYA07UzhWUCyc2\", \"uri\": \"spotify:playlist:2lop6NfhiYA07UzhWUCyc2\", \"name\": \"Classical Masters\", \"description\": \"\", \"owner\": \"Ray\", \"tracks_total\": 29, \"is_public\": true, \"collaborative\": false, \"snapshot_id\": \"AAAAIv8IPFeim0+gMauDLlofBPiDknYa\"}, {\"id\": \"2RUN05cfOlR09kJUvTAEPk\", \"uri\": \"spotify:playlist:2RUN05cfOlR09kJUvTAEPk\", \"name\": \"Evil Woman\", \"description\": \"\", \"owner\": \"Ray\", \"tracks_total\": 11, \"is_public\": true, \"collaborative\": false, \"snapshot_id\": \"AAAADYR9TeZBCOAQTx+qJaL78t/qalhZ\"}, {\"id\": \"3DEKSWlDt8Qors1NpYLXwt\", \"uri\": \"spotify:playlist:3DEKSWlDt8Qors1NpYLXwt\", \"name\": \"Hits 2000\", \"description\": \"\", \"owner\": \"Ray\", \"tracks_total\": 121, \"is_public\": true, \"collaborative\": false, \"snapshot_id\": \"AAAAsUV20d2iEtoXYqXPHsTzbFeyJfVJ\"}, {\"id\": \"7FgZOBK0lhTZz7gMJeV7gs\", \"uri\": \"spotify:playlist:7FgZOBK0lhTZz7gMJeV7gs\", \"name\": \"Insomniac\", \"description\": \"\", \"owner\": \"Ray\", \"tracks_total\": 182, \"is_public\": true, \"collaborative\": false, \"snapshot_id\": \"AAAA4Cmc8w8KuivAczjvfXId2sSkEm/h\"}, {\"id\": \"6DgcAL9oygPekQLDY2mFDq\", \"uri\": \"spotify:playlist:6DgcAL9oygPekQLDY2mFDq\", \"name\": \"Jean-Michel Jarre – Equinoxe\", \"description\": \"\", \"owner\": \"Ray\", \"tracks_total\": 8, \"is_public\": true, \"collaborative\": false, \"snapshot_id\": \"AAAAAh4ckvSMVbth3pWqCQDqlVQwoNXP\"}, {\"id\": \"6X1fib1966dU31uZdTH5p1\", \"uri\": \"spotify:playlist:6X1fib1966dU31uZdTH5p1\", \"name\": \"Misplaced Childhood (2017 Remaster)\", \"description\": \"\", \"owner\": \"Ray\", \"tracks_total\": 10, \"is_public\": true, \"collaborative\": false, \"snapshot_id\": \"AAAAAhEAt8v4hHLreJi8lMDQSYZCqCWP\"}, {\"id\": \"5mxEevqyJ7IbtnmxlRSlaL\", \"uri\": \"spotify:playlist:5mxEevqyJ7IbtnmxlRSlaL\", \"name\": \"My Playlist #36\", \"description\": \"\", \"owner\": \"Ray\", \"tracks_total\": 6692, \"is_public\": true, \"collaborative\": false, \"snapshot_id\": \"AAADk1LjdQ0wPeq1CWGUTeqfa3JKnd68\"}, {\"id\": \"01tk0aitEuGK0ajWCkzdKc\", \"uri\": \"spotify:playlist:01tk0aitEuGK0ajWCkzdKc\", \"name\": \"New Rock and Blues\", \"description\": \"\", \"owner\": \"Ray\", \"tracks_total\": 152, \"is_public\": true, \"collaborative\": false, \"snapshot_id\": \"AAAA5WzoylrbcF38i+jfueYt6FBMIWyb\"}, {\"id\": \"5Culgc9kaBQ5b9oOHXXhB6\", \"uri\": \"spotify:playlist:5Culgc9kaBQ5b9oOHXXhB6\", \"name\": \"Nothing But the Blues (Live)\", \"description\": \"\", \"owner\": \"Ray\", \"tracks_total\": 17, \"is_public\": true, \"collaborative\": false, \"snapshot_id\": \"AAAAAv6fej6qwqMnU0hD6qABni4cidBa\"}, {\"id\": \"5qYPd1AvydE1Ltz5uGCVVG\", \"uri\": \"spotify:playlist:5qYPd1AvydE1Ltz5uGCVVG\", \"name\": \"Pet Shop Boys\", \"description\": \"\", \"owner\": \"Ray\", \"tracks_total\": 10, \"is_public\": true, \"collaborative\": false, \"snapshot_id\": \"AAAADoUwedXRw8oUAXzutzW3zHOBq8wo\"}, {\"id\": \"43ekrNptzLLkRVGuZWUI83\", \"uri\": \"spotify:playlist:43ekrNptzLLkRVGuZWUI83\", \"name\": \"Pink Floyd\", \"description\": \"\", \"owner\": \"Ray\", \"tracks_total\": 17, \"is_public\": true, \"collaborative\": false, \"snapshot_id\": \"AAAAFMGAETEKmvx5mrnmvpG6qPrTvDoC\"}, {\"id\": \"25odQP99Tc8QbNs8dWWsQV\", \"uri\": \"spotify:playlist:25odQP99Tc8QbNs8dWWsQV\", \"name\": \"Pink Floyd – The Wall\", \"description\": \"\", \"owner\": \"Ray\", \"tracks_total\": 26, \"is_public\": true, \"collaborative\": false, \"snapshot_id\": \"AAAAAqQrbCqR2F+PT4CiRiJ/aI51g4KY\"}, {\"id\": \"6smB0SEs5sX0FOzA4h22Eq\", \"uri\": \"spotify:playlist:6smB0SEs5sX0FOzA4h22Eq\", \"name\": \"Rock\", \"description\": \"\", \"owner\": \"Ray\", \"tracks_total\": 158, \"is_public\": true, \"collaborative\": false, \"snapshot_id\": \"AAAAvFxIe5eBC1t4kNdcuQG1dm3gh28t\"}, {\"id\": \"5q5ZVp6frFMc8y0ivNfGk2\", \"uri\": \"spotify:playlist:5q5ZVp6frFMc8y0ivNfGk2\", \"name\": \"Rock Balads\", \"description\": \"\", \"owner\": \"Ray\", \"tracks_total\": 61, \"is_public\": true, \"collaborative\": false, \"snapshot_id\": \"AAAAQEiJ4p3uZqQFtoa4ptNvTlCgwc0P\"}, {\"id\": \"4Vk5tgx9FcO17ZhdFwxJIp\", \"uri\": \"spotify:playlist:4Vk5tgx9FcO17ZhdFwxJIp\", \"name\": \"Rock Hard\", \"description\": \"\", \"owner\": \"Ray\", \"tracks_total\": 61, \"is_public\": true, \"collaborative\": false, \"snapshot_id\": \"AAAANGCk4sZ4CKBXxt9osRjoOmtDj6jN\"}, {\"id\": \"3n3RLXoDDH7O9XpusnnnvV\", \"uri\": \"spotify:playlist:3n3RLXoDDH7O9XpusnnnvV\", \"name\": \"Rolling Stones\", \"description\": \"\", \"owner\": \"Ray\", \"tracks_total\": 19, \"is_public\": true, \"collaborative\": false, \"snapshot_id\": \"AAAAFfP6U7XcNW87gmiXRr0cdMiFxhY1\"}, {\"id\": \"5XdXmStK6X9ZPstLvDBekC\", \"uri\": \"spotify:playlist:5XdXmStK6X9ZPstLvDBekC\", \"name\": \"Workout\", \"description\": \"\", \"owner\": \"Ray\", \"tracks_total\": 74, \"is_public\": true, \"collaborative\": false, \"snapshot_id\": \"AAABLoYIV4F6lXAO0DJe++nLNS7aVm52\"}]}', name='get_playlists', tool_call_id='call_DEhPZG9Tht7UTOh27WAnlNBh')]}"
      ]
     },
     "execution_count": 18,
     "metadata": {},
     "output_type": "execute_result"
    }
   ],
   "source": [
    "chat_prompt_template += ai_tool_call_message\n",
    "messages = chat_prompt_template.format_messages()\n",
    "response = tool_node.invoke({\"messages\": messages})"
   ]
  },
  {
   "cell_type": "code",
   "execution_count": 19,
   "metadata": {},
   "outputs": [
    {
     "name": "stdout",
     "output_type": "stream",
     "text": [
      "=================================\u001b[1m Tool Message \u001b[0m=================================\n",
      "Name: get_playlists\n",
      "\n",
      "{\"playlists\": [{\"id\": \"2dbYK5b7J0F7IdH5n1TEUK\", \"uri\": \"spotify:playlist:2dbYK5b7J0F7IdH5n1TEUK\", \"name\": \"RPreacher\", \"description\": \"\", \"owner\": \"Ray\", \"tracks_total\": 3, \"is_public\": true, \"collaborative\": false, \"snapshot_id\": \"AAAABG1lhIiRJT/NE9RpP4K6UnmZWixo\"}, {\"id\": \"4ack9YtUhdxRayJDAqlfQe\", \"uri\": \"spotify:playlist:4ack9YtUhdxRayJDAqlfQe\", \"name\": \"RP Bossa Nova Chill \", \"description\": \"\", \"owner\": \"Ray\", \"tracks_total\": 30, \"is_public\": true, \"collaborative\": false, \"snapshot_id\": \"AAAAIThdM9g/YPQwj7nuoHhewWyLoKEi\"}, {\"id\": \"75NW18NgdZuZeifrcjxKlZ\", \"uri\": \"spotify:playlist:75NW18NgdZuZeifrcjxKlZ\", \"name\": \"GVF\", \"description\": \"\", \"owner\": \"Ray\", \"tracks_total\": 11, \"is_public\": true, \"collaborative\": false, \"snapshot_id\": \"AAAADKZNV9h+cfi1PbOi6yjNHMe8mLWC\"}, {\"id\": \"5iyONtUO21O88xw8pBblwh\", \"uri\": \"spotify:playlist:5iyONtUO21O88xw8pBblwh\", \"name\": \"Now And Then\", \"description\": \"\", \"owner\": \"Ray\", \"tracks_total\": 7, \"is_public\": true, \"collaborative\": false, \"snapshot_id\": \"AAAACBkT0vD6HHtLpUO7hEOCzClgABvP\"}, {\"id\": \"4SDSUMg2HJcGFmHlupsU7U\", \"uri\": \"spotify:playlist:4SDSUMg2HJcGFmHlupsU7U\", \"name\": \"Jazz classics\", \"description\": \"\", \"owner\": \"Ray\", \"tracks_total\": 251, \"is_public\": true, \"collaborative\": false, \"snapshot_id\": \"AAAAA8p/xZVmAcTsRpsMlQtRepRFmbfo\"}, {\"id\": \"5fBxLG2wLAPVpx83402rHl\", \"uri\": \"spotify:playlist:5fBxLG2wLAPVpx83402rHl\", \"name\": \"Acdc\", \"description\": \"\", \"owner\": \"Ray\", \"tracks_total\": 26, \"is_public\": true, \"collaborative\": false, \"snapshot_id\": \"AAAAG+HaorntGV3LHad9bEcICDGFD56C\"}, {\"id\": \"17Yxm5hQbkbZwDcCTuiDXC\", \"uri\": \"spotify:playlist:17Yxm5hQbkbZwDcCTuiDXC\", \"name\": \"einaudi\", \"description\": \"\", \"owner\": \"Ray\", \"tracks_total\": 18, \"is_public\": true, \"collaborative\": false, \"snapshot_id\": \"AAAAF9qEdgDunVs0NC8jBUoE/CdMF7jq\"}, {\"id\": \"2X6GccWfIqPWO6VYx405nO\", \"uri\": \"spotify:playlist:2X6GccWfIqPWO6VYx405nO\", \"name\": \"Eric Clapton Blues\", \"description\": \"\", \"owner\": \"Ray\", \"tracks_total\": 24, \"is_public\": true, \"collaborative\": false, \"snapshot_id\": \"AAAAH4q+4xxgg62OXnIHbsNVZPC1LL1Q\"}, {\"id\": \"3smVXe8y8w8nt4lFH0HBkW\", \"uri\": \"spotify:playlist:3smVXe8y8w8nt4lFH0HBkW\", \"name\": \"Alchemy: Dire Straits\", \"description\": \"\", \"owner\": \"Ray\", \"tracks_total\": 10, \"is_public\": true, \"collaborative\": false, \"snapshot_id\": \"AAAAD45w+Oq6Z1xq7iMwF6iFkfWoT87p\"}, {\"id\": \"2ifRZBXnX7UmIPUlGet5WZ\", \"uri\": \"spotify:playlist:2ifRZBXnX7UmIPUlGet5WZ\", \"name\": \"Blues\", \"description\": \"\", \"owner\": \"Ray\", \"tracks_total\": 67, \"is_public\": true, \"collaborative\": false, \"snapshot_id\": \"AAAAVVh4N/reGLwCIcv89XjeUDHPPeAQ\"}, {\"id\": \"5nn2ePtd9gYEEDL3XnACCB\", \"uri\": \"spotify:playlist:5nn2ePtd9gYEEDL3XnACCB\", \"name\": \"brazil\", \"description\": \"\", \"owner\": \"Ray\", \"tracks_total\": 62, \"is_public\": true, \"collaborative\": false, \"snapshot_id\": \"AAAAV9cqXazKhP9K8MYZTPAqS7yFP1hq\"}, {\"id\": \"6YAntoKNXuogPKdV26b6XE\", \"uri\": \"spotify:playlist:6YAntoKNXuogPKdV26b6XE\", \"name\": \"CCR\", \"description\": \"\", \"owner\": \"Ray\", \"tracks_total\": 17, \"is_public\": true, \"collaborative\": false, \"snapshot_id\": \"AAAAEw4Fg6uyrf9reMIEnkNruUB2nRbg\"}, {\"id\": \"2VHkZvOMCkLF3B7TsKerKD\", \"uri\": \"spotify:playlist:2VHkZvOMCkLF3B7TsKerKD\", \"name\": \"Chill\", \"description\": \"\", \"owner\": \"Ray\", \"tracks_total\": 53, \"is_public\": true, \"collaborative\": false, \"snapshot_id\": \"AAAAOhAKCSjCgKZOV6OTiSZohe9Isj7C\"}, {\"id\": \"508lbLx9XUkHv5Xb45hxTP\", \"uri\": \"spotify:playlist:508lbLx9XUkHv5Xb45hxTP\", \"name\": \"Classic Rock\", \"description\": \"\", \"owner\": \"Ray\", \"tracks_total\": 306, \"is_public\": true, \"collaborative\": false, \"snapshot_id\": \"AAABRtPd9z/BoPLPCUOJBrUyXci7+r1n\"}, {\"id\": \"7zzDMq1sPwkZPYeqOQJ9qS\", \"uri\": \"spotify:playlist:7zzDMq1sPwkZPYeqOQJ9qS\", \"name\": \"The New Four Seasons - Vivaldi Recomposed\", \"description\": \"\", \"owner\": \"Ray\", \"tracks_total\": 13, \"is_public\": true, \"collaborative\": false, \"snapshot_id\": \"AAAAAsi2q+bxREAMmVWVTWHt10bpB6fa\"}, {\"id\": \"4l8WcaYlPkuVPXVGxMIca3\", \"uri\": \"spotify:playlist:4l8WcaYlPkuVPXVGxMIca3\", \"name\": \"New Study\", \"description\": \"\", \"owner\": \"Ray\", \"tracks_total\": 11, \"is_public\": true, \"collaborative\": false, \"snapshot_id\": \"AAAAEL23paVLvTGrRFTKquh+DNiGzrt7\"}, {\"id\": \"0Wr2Z9vroQ9IXKaokFHldt\", \"uri\": \"spotify:playlist:0Wr2Z9vroQ9IXKaokFHldt\", \"name\": \"Islands - Essential Einaudi (Deluxe Version)\", \"description\": \"\", \"owner\": \"Ray\", \"tracks_total\": 27, \"is_public\": true, \"collaborative\": false, \"snapshot_id\": \"AAAAAmPd/R11xxXnmQE5LY4VHJOmc2Si\"}, {\"id\": \"780Yx65yiaLtBYM76neBYC\", \"uri\": \"spotify:playlist:780Yx65yiaLtBYM76neBYC\", \"name\": \"Gioachino Rossini – Rossini: Overtures\", \"description\": \"\", \"owner\": \"Ray\", \"tracks_total\": 8, \"is_public\": true, \"collaborative\": false, \"snapshot_id\": \"AAAAAk/j3UaxYxxJ2E3uDuvkTHY7CyA3\"}, {\"id\": \"76rUGmzqh1OhyheEOUDYNp\", \"uri\": \"spotify:playlist:76rUGmzqh1OhyheEOUDYNp\", \"name\": \"Frédéric Chopin – Chopin: Nocturnes\", \"description\": \"\", \"owner\": \"Ray\", \"tracks_total\": 19, \"is_public\": true, \"collaborative\": false, \"snapshot_id\": \"AAAAAojQZUHMvW1fqFvaPCPZw651RTcR\"}, {\"id\": \"5qcHJodVJd8AEOT2cCvxEm\", \"uri\": \"spotify:playlist:5qcHJodVJd8AEOT2cCvxEm\", \"name\": \"Frédéric Chopin – Chopin: Nocturnes - Sony Classical Originals 2\", \"description\": \"\", \"owner\": \"Ray\", \"tracks_total\": 19, \"is_public\": true, \"collaborative\": false, \"snapshot_id\": \"AAAAAosFti6TgoD7O3TfPlfPiFc7yKj2\"}, {\"id\": \"7hr9yYAJLXDoJ5sKBhm8Af\", \"uri\": \"spotify:playlist:7hr9yYAJLXDoJ5sKBhm8Af\", \"name\": \"Antonio Vivaldi – Vivaldi: Guitar Concertos\", \"description\": \"\", \"owner\": \"Ray\", \"tracks_total\": 15, \"is_public\": true, \"collaborative\": false, \"snapshot_id\": \"AAAAAq5lTrQQYp3SUTtJrmlIdHbyh5CZ\"}, {\"id\": \"4ruyjAXs6VHU8ZYJqXsUiN\", \"uri\": \"spotify:playlist:4ruyjAXs6VHU8ZYJqXsUiN\", \"name\": \"Sergei Rachmaninoff – Rachmaninoff Plays Rachmaninoff: Concertos Nos. 2 and 3\", \"description\": \"\", \"owner\": \"Ray\", \"tracks_total\": 6, \"is_public\": true, \"collaborative\": false, \"snapshot_id\": \"AAAAAnd4DV7yCmI2VX7w0BB64um7bJem\"}, {\"id\": \"4GYOeGfC7fSephEi3UYh0W\", \"uri\": \"spotify:playlist:4GYOeGfC7fSephEi3UYh0W\", \"name\": \"Erik Satie – Satie: Gymnopédies, Gnossiennes & Other Works\", \"description\": \"\", \"owner\": \"Ray\", \"tracks_total\": 27, \"is_public\": true, \"collaborative\": false, \"snapshot_id\": \"AAAAAnslTVllUSPnBdYh2FMu1DtFAzVs\"}, {\"id\": \"2lop6NfhiYA07UzhWUCyc2\", \"uri\": \"spotify:playlist:2lop6NfhiYA07UzhWUCyc2\", \"name\": \"Classical Masters\", \"description\": \"\", \"owner\": \"Ray\", \"tracks_total\": 29, \"is_public\": true, \"collaborative\": false, \"snapshot_id\": \"AAAAIv8IPFeim0+gMauDLlofBPiDknYa\"}, {\"id\": \"2RUN05cfOlR09kJUvTAEPk\", \"uri\": \"spotify:playlist:2RUN05cfOlR09kJUvTAEPk\", \"name\": \"Evil Woman\", \"description\": \"\", \"owner\": \"Ray\", \"tracks_total\": 11, \"is_public\": true, \"collaborative\": false, \"snapshot_id\": \"AAAADYR9TeZBCOAQTx+qJaL78t/qalhZ\"}, {\"id\": \"3DEKSWlDt8Qors1NpYLXwt\", \"uri\": \"spotify:playlist:3DEKSWlDt8Qors1NpYLXwt\", \"name\": \"Hits 2000\", \"description\": \"\", \"owner\": \"Ray\", \"tracks_total\": 121, \"is_public\": true, \"collaborative\": false, \"snapshot_id\": \"AAAAsUV20d2iEtoXYqXPHsTzbFeyJfVJ\"}, {\"id\": \"7FgZOBK0lhTZz7gMJeV7gs\", \"uri\": \"spotify:playlist:7FgZOBK0lhTZz7gMJeV7gs\", \"name\": \"Insomniac\", \"description\": \"\", \"owner\": \"Ray\", \"tracks_total\": 182, \"is_public\": true, \"collaborative\": false, \"snapshot_id\": \"AAAA4Cmc8w8KuivAczjvfXId2sSkEm/h\"}, {\"id\": \"6DgcAL9oygPekQLDY2mFDq\", \"uri\": \"spotify:playlist:6DgcAL9oygPekQLDY2mFDq\", \"name\": \"Jean-Michel Jarre – Equinoxe\", \"description\": \"\", \"owner\": \"Ray\", \"tracks_total\": 8, \"is_public\": true, \"collaborative\": false, \"snapshot_id\": \"AAAAAh4ckvSMVbth3pWqCQDqlVQwoNXP\"}, {\"id\": \"6X1fib1966dU31uZdTH5p1\", \"uri\": \"spotify:playlist:6X1fib1966dU31uZdTH5p1\", \"name\": \"Misplaced Childhood (2017 Remaster)\", \"description\": \"\", \"owner\": \"Ray\", \"tracks_total\": 10, \"is_public\": true, \"collaborative\": false, \"snapshot_id\": \"AAAAAhEAt8v4hHLreJi8lMDQSYZCqCWP\"}, {\"id\": \"5mxEevqyJ7IbtnmxlRSlaL\", \"uri\": \"spotify:playlist:5mxEevqyJ7IbtnmxlRSlaL\", \"name\": \"My Playlist #36\", \"description\": \"\", \"owner\": \"Ray\", \"tracks_total\": 6692, \"is_public\": true, \"collaborative\": false, \"snapshot_id\": \"AAADk1LjdQ0wPeq1CWGUTeqfa3JKnd68\"}, {\"id\": \"01tk0aitEuGK0ajWCkzdKc\", \"uri\": \"spotify:playlist:01tk0aitEuGK0ajWCkzdKc\", \"name\": \"New Rock and Blues\", \"description\": \"\", \"owner\": \"Ray\", \"tracks_total\": 152, \"is_public\": true, \"collaborative\": false, \"snapshot_id\": \"AAAA5WzoylrbcF38i+jfueYt6FBMIWyb\"}, {\"id\": \"5Culgc9kaBQ5b9oOHXXhB6\", \"uri\": \"spotify:playlist:5Culgc9kaBQ5b9oOHXXhB6\", \"name\": \"Nothing But the Blues (Live)\", \"description\": \"\", \"owner\": \"Ray\", \"tracks_total\": 17, \"is_public\": true, \"collaborative\": false, \"snapshot_id\": \"AAAAAv6fej6qwqMnU0hD6qABni4cidBa\"}, {\"id\": \"5qYPd1AvydE1Ltz5uGCVVG\", \"uri\": \"spotify:playlist:5qYPd1AvydE1Ltz5uGCVVG\", \"name\": \"Pet Shop Boys\", \"description\": \"\", \"owner\": \"Ray\", \"tracks_total\": 10, \"is_public\": true, \"collaborative\": false, \"snapshot_id\": \"AAAADoUwedXRw8oUAXzutzW3zHOBq8wo\"}, {\"id\": \"43ekrNptzLLkRVGuZWUI83\", \"uri\": \"spotify:playlist:43ekrNptzLLkRVGuZWUI83\", \"name\": \"Pink Floyd\", \"description\": \"\", \"owner\": \"Ray\", \"tracks_total\": 17, \"is_public\": true, \"collaborative\": false, \"snapshot_id\": \"AAAAFMGAETEKmvx5mrnmvpG6qPrTvDoC\"}, {\"id\": \"25odQP99Tc8QbNs8dWWsQV\", \"uri\": \"spotify:playlist:25odQP99Tc8QbNs8dWWsQV\", \"name\": \"Pink Floyd – The Wall\", \"description\": \"\", \"owner\": \"Ray\", \"tracks_total\": 26, \"is_public\": true, \"collaborative\": false, \"snapshot_id\": \"AAAAAqQrbCqR2F+PT4CiRiJ/aI51g4KY\"}, {\"id\": \"6smB0SEs5sX0FOzA4h22Eq\", \"uri\": \"spotify:playlist:6smB0SEs5sX0FOzA4h22Eq\", \"name\": \"Rock\", \"description\": \"\", \"owner\": \"Ray\", \"tracks_total\": 158, \"is_public\": true, \"collaborative\": false, \"snapshot_id\": \"AAAAvFxIe5eBC1t4kNdcuQG1dm3gh28t\"}, {\"id\": \"5q5ZVp6frFMc8y0ivNfGk2\", \"uri\": \"spotify:playlist:5q5ZVp6frFMc8y0ivNfGk2\", \"name\": \"Rock Balads\", \"description\": \"\", \"owner\": \"Ray\", \"tracks_total\": 61, \"is_public\": true, \"collaborative\": false, \"snapshot_id\": \"AAAAQEiJ4p3uZqQFtoa4ptNvTlCgwc0P\"}, {\"id\": \"4Vk5tgx9FcO17ZhdFwxJIp\", \"uri\": \"spotify:playlist:4Vk5tgx9FcO17ZhdFwxJIp\", \"name\": \"Rock Hard\", \"description\": \"\", \"owner\": \"Ray\", \"tracks_total\": 61, \"is_public\": true, \"collaborative\": false, \"snapshot_id\": \"AAAANGCk4sZ4CKBXxt9osRjoOmtDj6jN\"}, {\"id\": \"3n3RLXoDDH7O9XpusnnnvV\", \"uri\": \"spotify:playlist:3n3RLXoDDH7O9XpusnnnvV\", \"name\": \"Rolling Stones\", \"description\": \"\", \"owner\": \"Ray\", \"tracks_total\": 19, \"is_public\": true, \"collaborative\": false, \"snapshot_id\": \"AAAAFfP6U7XcNW87gmiXRr0cdMiFxhY1\"}, {\"id\": \"5XdXmStK6X9ZPstLvDBekC\", \"uri\": \"spotify:playlist:5XdXmStK6X9ZPstLvDBekC\", \"name\": \"Workout\", \"description\": \"\", \"owner\": \"Ray\", \"tracks_total\": 74, \"is_public\": true, \"collaborative\": false, \"snapshot_id\": \"AAABLoYIV4F6lXAO0DJe++nLNS7aVm52\"}]}\n"
     ]
    }
   ],
   "source": [
    "playlist_tool_message: ToolMessage = response[\"messages\"][0]\n",
    "playlist_tool_message.pretty_print()"
   ]
  },
  {
   "cell_type": "code",
   "execution_count": null,
   "metadata": {},
   "outputs": [],
   "source": [
    "# We need to check that is JSON serializable\n",
    "# json.loads(playlist_tool_message.content)"
   ]
  },
  {
   "cell_type": "markdown",
   "metadata": {},
   "source": [
    "# Format Message List for LLM"
   ]
  },
  {
   "cell_type": "code",
   "execution_count": null,
   "metadata": {},
   "outputs": [
    {
     "data": {
      "text/plain": [
       "[HumanMessage(content=\"\\nCreate and execute a step-by-step plan with atomic tasks to solve the following problem:\\n\\n**Objective:** Build a Spotify playlist with tracks that have the same vibe and genres as my 'New Rock and Blues' playlist, following the rules below.\\n\\n**Rules:**\\n\\n1. **For each artist in the 'New Rock and Blues' playlist, find 3-4 artists of the similar music style**\\n\\n2 .**Exclude Artists that are part of the  'New Rock and Blues' Playlist:**\\n\\n3. **Focus on Post-2010 Success:** Only include tracks from artists who achieved success after the year 2010.\\n\\n4. **Minimum Number of New Artists:** Include tracks from at least 40 different artists not present in the 'New Rock and Blues' playlist.\\n\\n5. **For each new artist, use your Knowledge Base to recommend 3-4 tracks that match the vibe and genres.\\n\\n6. **Arrange for Smooth Listening Experience:** Organize the tracks to create a smooth listening experience, considering tempo, energy, and mood, using best practices.\\n\\n7. **Playlist Length:** Ensure the new playlist contains at least 100 tracks.\\n\\n**Instructions:**\\n\\n- Follow the rules strictly to meet the objective.\\n- Every step must have a single atomic action and outcome\\n- Prefer using a tool if available instead of your Knowledge Base\\n- clearly state at all times what step you are working on\\n- Step(s) should be repeated any number of times to achieve the desired outcome.\\n- Do not ask for user confirmation\\n\", additional_kwargs={}, response_metadata={}),\n",
       " AIMessage(content='', additional_kwargs={'tool_calls': [{'id': 'call_QDZiF7kTB8o6XzN5kYRFdRv3', 'function': {'arguments': '{\"plan\":{\"steps\":[{\"name\":\"get_new_rock_and_blues_playlist\",\"description\":\"Retrieve the \\'New Rock and Blues\\' playlist to understand the existing artists and tracks.\",\"success_criteria\":\"Successfully retrieved the \\'New Rock and Blues\\' playlist and identified the artists and tracks within it.\",\"tools\":[\"functions.get_playlists\"]},{\"name\":\"find_3_4_similar_artists\",\"description\":\"For each artist in the \\'New Rock and Blues\\' playlist, use the knowledge base to find 3-4 artists of similar music style not present in the playlist.\",\"success_criteria\":\"Identified 3-4 similar artists for each artist in the \\'New Rock and Blues\\' playlist, excluding those already present in the playlist.\",\"tools\":[]},{\"name\":\"exclude_existing_artists\",\"description\":\"Exclude artists already present in the \\'New Rock and Blues\\' playlist from the new list of similar artists.\",\"success_criteria\":\"A list of similar artists is created, excluding those already present in the \\'New Rock and Blues\\' playlist.\",\"tools\":[\"functions.check_artists\"]},{\"name\":\"filter_post_2010_success\",\"description\":\"Filter the list of similar artists to include only those who achieved success post-2010.\",\"success_criteria\":\"Filtered list of artists who achieved success after 2010.\",\"tools\":[]},{\"name\":\"recommend_tracks_for_new_artists\",\"description\":\"For each new artist, recommend 3-4 tracks that match the vibe and genres from the knowledge base.\",\"success_criteria\":\"Recommended 3-4 tracks for each new artist that match the desired vibe and genres.\",\"tools\":[]},{\"name\":\"create_new_playlist\",\"description\":\"Create a new Spotify playlist for the recommended tracks.\",\"success_criteria\":\"Successfully created a new Spotify playlist with a given name and description.\",\"tools\":[\"functions.create_spotify_playlist\"]},{\"name\":\"add_tracks_to_playlist\",\"description\":\"Add the recommended tracks to the new Spotify playlist.\",\"success_criteria\":\"Successfully added at least 100 tracks from the recommended list to the new playlist.\",\"tools\":[\"functions.add_tracks_to_playlist\"]},{\"name\":\"arrange_for_smooth_listening\",\"description\":\"Organize the tracks in the new playlist to ensure a smooth listening experience by considering tempo, energy, and mood.\",\"success_criteria\":\"The tracks are organized in a manner that provides a smooth listening experience.\",\"tools\":[]}],\"Reasoning\":\"To build a Spotify playlist that matches the vibe and genre of an existing playlist, we need to systematically gather similar artists and their tracks while adhering to specific rules. The plan involves retrieving the existing playlist, finding similar artists, excluding specific artists, filtering based on success criteria, recommending tracks, and creating the playlist. Each step is designed to handle a single task, making it manageable and verifiable. Tools are used where applicable to automate and simplify processes.\"}}', 'name': 'validate_plan'}, 'type': 'function'}], 'refusal': None}, response_metadata={'token_usage': {'completion_tokens': 573, 'prompt_tokens': 1250, 'total_tokens': 1823, 'completion_tokens_details': {'accepted_prediction_tokens': 0, 'audio_tokens': 0, 'reasoning_tokens': 0, 'rejected_prediction_tokens': 0}, 'prompt_tokens_details': {'audio_tokens': 0, 'cached_tokens': 0}}, 'model_name': 'gpt-4o-2024-08-06', 'system_fingerprint': 'fp_45cf54deae', 'finish_reason': 'tool_calls', 'logprobs': None}, id='run-08b34360-426e-44bf-b963-bf03d2d39dfc-0', tool_calls=[{'name': 'validate_plan', 'args': {'plan': {'steps': [{'name': 'get_new_rock_and_blues_playlist', 'description': \"Retrieve the 'New Rock and Blues' playlist to understand the existing artists and tracks.\", 'success_criteria': \"Successfully retrieved the 'New Rock and Blues' playlist and identified the artists and tracks within it.\", 'tools': ['functions.get_playlists']}, {'name': 'find_3_4_similar_artists', 'description': \"For each artist in the 'New Rock and Blues' playlist, use the knowledge base to find 3-4 artists of similar music style not present in the playlist.\", 'success_criteria': \"Identified 3-4 similar artists for each artist in the 'New Rock and Blues' playlist, excluding those already present in the playlist.\", 'tools': []}, {'name': 'exclude_existing_artists', 'description': \"Exclude artists already present in the 'New Rock and Blues' playlist from the new list of similar artists.\", 'success_criteria': \"A list of similar artists is created, excluding those already present in the 'New Rock and Blues' playlist.\", 'tools': ['functions.check_artists']}, {'name': 'filter_post_2010_success', 'description': 'Filter the list of similar artists to include only those who achieved success post-2010.', 'success_criteria': 'Filtered list of artists who achieved success after 2010.', 'tools': []}, {'name': 'recommend_tracks_for_new_artists', 'description': 'For each new artist, recommend 3-4 tracks that match the vibe and genres from the knowledge base.', 'success_criteria': 'Recommended 3-4 tracks for each new artist that match the desired vibe and genres.', 'tools': []}, {'name': 'create_new_playlist', 'description': 'Create a new Spotify playlist for the recommended tracks.', 'success_criteria': 'Successfully created a new Spotify playlist with a given name and description.', 'tools': ['functions.create_spotify_playlist']}, {'name': 'add_tracks_to_playlist', 'description': 'Add the recommended tracks to the new Spotify playlist.', 'success_criteria': 'Successfully added at least 100 tracks from the recommended list to the new playlist.', 'tools': ['functions.add_tracks_to_playlist']}, {'name': 'arrange_for_smooth_listening', 'description': 'Organize the tracks in the new playlist to ensure a smooth listening experience by considering tempo, energy, and mood.', 'success_criteria': 'The tracks are organized in a manner that provides a smooth listening experience.', 'tools': []}], 'Reasoning': 'To build a Spotify playlist that matches the vibe and genre of an existing playlist, we need to systematically gather similar artists and their tracks while adhering to specific rules. The plan involves retrieving the existing playlist, finding similar artists, excluding specific artists, filtering based on success criteria, recommending tracks, and creating the playlist. Each step is designed to handle a single task, making it manageable and verifiable. Tools are used where applicable to automate and simplify processes.'}}, 'id': 'call_QDZiF7kTB8o6XzN5kYRFdRv3', 'type': 'tool_call'}], usage_metadata={'input_tokens': 1250, 'output_tokens': 573, 'total_tokens': 1823, 'input_token_details': {'audio': 0, 'cache_read': 0}, 'output_token_details': {'audio': 0, 'reasoning': 0}}),\n",
       " ToolMessage(content='true', name='validate_plan', tool_call_id='call_QDZiF7kTB8o6XzN5kYRFdRv3'),\n",
       " AIMessage(content=\"The plan to create a new Spotify playlist based on the 'New Rock and Blues' playlist has been validated. Here's the step-by-step plan:\\n\\n### Step 1: Retrieve the 'New Rock and Blues' Playlist\\n- **Objective:** Retrieve the 'New Rock and Blues' playlist to understand the existing artists and tracks.\\n- **Tools:** `functions.get_playlists`\\n- **Outcome:** Successfully retrieved the 'New Rock and Blues' playlist and identified the artists and tracks within it.\\n\\n### Step 2: Find 3-4 Similar Artists\\n- **Objective:** For each artist in the 'New Rock and Blues' playlist, use the knowledge base to find 3-4 artists of similar music style not present in the playlist.\\n- **Outcome:** Identified 3-4 similar artists for each artist in the 'New Rock and Blues' playlist, excluding those already present in the playlist.\\n\\n### Step 3: Exclude Existing Artists\\n- **Objective:** Exclude artists already present in the 'New Rock and Blues' playlist from the new list of similar artists.\\n- **Tools:** `functions.check_artists`\\n- **Outcome:** A list of similar artists is created, excluding those already present in the 'New Rock and Blues' playlist.\\n\\n### Step 4: Filter for Post-2010 Success\\n- **Objective:** Filter the list of similar artists to include only those who achieved success post-2010.\\n- **Outcome:** Filtered list of artists who achieved success after 2010.\\n\\n### Step 5: Recommend Tracks for New Artists\\n- **Objective:** For each new artist, recommend 3-4 tracks that match the vibe and genres from the knowledge base.\\n- **Outcome:** Recommended 3-4 tracks for each new artist that match the desired vibe and genres.\\n\\n### Step 6: Create New Playlist\\n- **Objective:** Create a new Spotify playlist for the recommended tracks.\\n- **Tools:** `functions.create_spotify_playlist`\\n- **Outcome:** Successfully created a new Spotify playlist with a given name and description.\\n\\n### Step 7: Add Tracks to Playlist\\n- **Objective:** Add the recommended tracks to the new Spotify playlist.\\n- **Tools:** `functions.add_tracks_to_playlist`\\n- **Outcome:** Successfully added at least 100 tracks from the recommended list to the new playlist.\\n\\n### Step 8: Arrange for Smooth Listening\\n- **Objective:** Organize the tracks in the new playlist to ensure a smooth listening experience by considering tempo, energy, and mood.\\n- **Outcome:** The tracks are organized in a manner that provides a smooth listening experience.\\n\\nLet's begin executing the plan, starting with Step 1 to retrieve the 'New Rock and Blues' playlist.\", additional_kwargs={'tool_calls': [{'id': 'call_DEhPZG9Tht7UTOh27WAnlNBh', 'function': {'arguments': '{}', 'name': 'get_playlists'}, 'type': 'function'}], 'refusal': None}, response_metadata={'token_usage': {'completion_tokens': 560, 'prompt_tokens': 1832, 'total_tokens': 2392, 'completion_tokens_details': {'accepted_prediction_tokens': 0, 'audio_tokens': 0, 'reasoning_tokens': 0, 'rejected_prediction_tokens': 0}, 'prompt_tokens_details': {'audio_tokens': 0, 'cached_tokens': 0}}, 'model_name': 'gpt-4o-2024-08-06', 'system_fingerprint': 'fp_45cf54deae', 'finish_reason': 'tool_calls', 'logprobs': None}, id='run-69047fe7-0353-4d3f-a31c-202d1ae255f4-0', tool_calls=[{'name': 'get_playlists', 'args': {}, 'id': 'call_DEhPZG9Tht7UTOh27WAnlNBh', 'type': 'tool_call'}], usage_metadata={'input_tokens': 1832, 'output_tokens': 560, 'total_tokens': 2392, 'input_token_details': {'audio': 0, 'cache_read': 0}, 'output_token_details': {'audio': 0, 'reasoning': 0}}),\n",
       " ToolMessage(content='{\"playlists\": [{\"id\": \"2dbYK5b7J0F7IdH5n1TEUK\", \"uri\": \"spotify:playlist:2dbYK5b7J0F7IdH5n1TEUK\", \"name\": \"RPreacher\", \"description\": \"\", \"owner\": \"Ray\", \"tracks_total\": 3, \"is_public\": true, \"collaborative\": false, \"snapshot_id\": \"AAAABG1lhIiRJT/NE9RpP4K6UnmZWixo\"}, {\"id\": \"4ack9YtUhdxRayJDAqlfQe\", \"uri\": \"spotify:playlist:4ack9YtUhdxRayJDAqlfQe\", \"name\": \"RP Bossa Nova Chill \", \"description\": \"\", \"owner\": \"Ray\", \"tracks_total\": 30, \"is_public\": true, \"collaborative\": false, \"snapshot_id\": \"AAAAIThdM9g/YPQwj7nuoHhewWyLoKEi\"}, {\"id\": \"75NW18NgdZuZeifrcjxKlZ\", \"uri\": \"spotify:playlist:75NW18NgdZuZeifrcjxKlZ\", \"name\": \"GVF\", \"description\": \"\", \"owner\": \"Ray\", \"tracks_total\": 11, \"is_public\": true, \"collaborative\": false, \"snapshot_id\": \"AAAADKZNV9h+cfi1PbOi6yjNHMe8mLWC\"}, {\"id\": \"5iyONtUO21O88xw8pBblwh\", \"uri\": \"spotify:playlist:5iyONtUO21O88xw8pBblwh\", \"name\": \"Now And Then\", \"description\": \"\", \"owner\": \"Ray\", \"tracks_total\": 7, \"is_public\": true, \"collaborative\": false, \"snapshot_id\": \"AAAACBkT0vD6HHtLpUO7hEOCzClgABvP\"}, {\"id\": \"4SDSUMg2HJcGFmHlupsU7U\", \"uri\": \"spotify:playlist:4SDSUMg2HJcGFmHlupsU7U\", \"name\": \"Jazz classics\", \"description\": \"\", \"owner\": \"Ray\", \"tracks_total\": 251, \"is_public\": true, \"collaborative\": false, \"snapshot_id\": \"AAAAA8p/xZVmAcTsRpsMlQtRepRFmbfo\"}, {\"id\": \"5fBxLG2wLAPVpx83402rHl\", \"uri\": \"spotify:playlist:5fBxLG2wLAPVpx83402rHl\", \"name\": \"Acdc\", \"description\": \"\", \"owner\": \"Ray\", \"tracks_total\": 26, \"is_public\": true, \"collaborative\": false, \"snapshot_id\": \"AAAAG+HaorntGV3LHad9bEcICDGFD56C\"}, {\"id\": \"17Yxm5hQbkbZwDcCTuiDXC\", \"uri\": \"spotify:playlist:17Yxm5hQbkbZwDcCTuiDXC\", \"name\": \"einaudi\", \"description\": \"\", \"owner\": \"Ray\", \"tracks_total\": 18, \"is_public\": true, \"collaborative\": false, \"snapshot_id\": \"AAAAF9qEdgDunVs0NC8jBUoE/CdMF7jq\"}, {\"id\": \"2X6GccWfIqPWO6VYx405nO\", \"uri\": \"spotify:playlist:2X6GccWfIqPWO6VYx405nO\", \"name\": \"Eric Clapton Blues\", \"description\": \"\", \"owner\": \"Ray\", \"tracks_total\": 24, \"is_public\": true, \"collaborative\": false, \"snapshot_id\": \"AAAAH4q+4xxgg62OXnIHbsNVZPC1LL1Q\"}, {\"id\": \"3smVXe8y8w8nt4lFH0HBkW\", \"uri\": \"spotify:playlist:3smVXe8y8w8nt4lFH0HBkW\", \"name\": \"Alchemy: Dire Straits\", \"description\": \"\", \"owner\": \"Ray\", \"tracks_total\": 10, \"is_public\": true, \"collaborative\": false, \"snapshot_id\": \"AAAAD45w+Oq6Z1xq7iMwF6iFkfWoT87p\"}, {\"id\": \"2ifRZBXnX7UmIPUlGet5WZ\", \"uri\": \"spotify:playlist:2ifRZBXnX7UmIPUlGet5WZ\", \"name\": \"Blues\", \"description\": \"\", \"owner\": \"Ray\", \"tracks_total\": 67, \"is_public\": true, \"collaborative\": false, \"snapshot_id\": \"AAAAVVh4N/reGLwCIcv89XjeUDHPPeAQ\"}, {\"id\": \"5nn2ePtd9gYEEDL3XnACCB\", \"uri\": \"spotify:playlist:5nn2ePtd9gYEEDL3XnACCB\", \"name\": \"brazil\", \"description\": \"\", \"owner\": \"Ray\", \"tracks_total\": 62, \"is_public\": true, \"collaborative\": false, \"snapshot_id\": \"AAAAV9cqXazKhP9K8MYZTPAqS7yFP1hq\"}, {\"id\": \"6YAntoKNXuogPKdV26b6XE\", \"uri\": \"spotify:playlist:6YAntoKNXuogPKdV26b6XE\", \"name\": \"CCR\", \"description\": \"\", \"owner\": \"Ray\", \"tracks_total\": 17, \"is_public\": true, \"collaborative\": false, \"snapshot_id\": \"AAAAEw4Fg6uyrf9reMIEnkNruUB2nRbg\"}, {\"id\": \"2VHkZvOMCkLF3B7TsKerKD\", \"uri\": \"spotify:playlist:2VHkZvOMCkLF3B7TsKerKD\", \"name\": \"Chill\", \"description\": \"\", \"owner\": \"Ray\", \"tracks_total\": 53, \"is_public\": true, \"collaborative\": false, \"snapshot_id\": \"AAAAOhAKCSjCgKZOV6OTiSZohe9Isj7C\"}, {\"id\": \"508lbLx9XUkHv5Xb45hxTP\", \"uri\": \"spotify:playlist:508lbLx9XUkHv5Xb45hxTP\", \"name\": \"Classic Rock\", \"description\": \"\", \"owner\": \"Ray\", \"tracks_total\": 306, \"is_public\": true, \"collaborative\": false, \"snapshot_id\": \"AAABRtPd9z/BoPLPCUOJBrUyXci7+r1n\"}, {\"id\": \"7zzDMq1sPwkZPYeqOQJ9qS\", \"uri\": \"spotify:playlist:7zzDMq1sPwkZPYeqOQJ9qS\", \"name\": \"The New Four Seasons - Vivaldi Recomposed\", \"description\": \"\", \"owner\": \"Ray\", \"tracks_total\": 13, \"is_public\": true, \"collaborative\": false, \"snapshot_id\": \"AAAAAsi2q+bxREAMmVWVTWHt10bpB6fa\"}, {\"id\": \"4l8WcaYlPkuVPXVGxMIca3\", \"uri\": \"spotify:playlist:4l8WcaYlPkuVPXVGxMIca3\", \"name\": \"New Study\", \"description\": \"\", \"owner\": \"Ray\", \"tracks_total\": 11, \"is_public\": true, \"collaborative\": false, \"snapshot_id\": \"AAAAEL23paVLvTGrRFTKquh+DNiGzrt7\"}, {\"id\": \"0Wr2Z9vroQ9IXKaokFHldt\", \"uri\": \"spotify:playlist:0Wr2Z9vroQ9IXKaokFHldt\", \"name\": \"Islands - Essential Einaudi (Deluxe Version)\", \"description\": \"\", \"owner\": \"Ray\", \"tracks_total\": 27, \"is_public\": true, \"collaborative\": false, \"snapshot_id\": \"AAAAAmPd/R11xxXnmQE5LY4VHJOmc2Si\"}, {\"id\": \"780Yx65yiaLtBYM76neBYC\", \"uri\": \"spotify:playlist:780Yx65yiaLtBYM76neBYC\", \"name\": \"Gioachino Rossini – Rossini: Overtures\", \"description\": \"\", \"owner\": \"Ray\", \"tracks_total\": 8, \"is_public\": true, \"collaborative\": false, \"snapshot_id\": \"AAAAAk/j3UaxYxxJ2E3uDuvkTHY7CyA3\"}, {\"id\": \"76rUGmzqh1OhyheEOUDYNp\", \"uri\": \"spotify:playlist:76rUGmzqh1OhyheEOUDYNp\", \"name\": \"Frédéric Chopin – Chopin: Nocturnes\", \"description\": \"\", \"owner\": \"Ray\", \"tracks_total\": 19, \"is_public\": true, \"collaborative\": false, \"snapshot_id\": \"AAAAAojQZUHMvW1fqFvaPCPZw651RTcR\"}, {\"id\": \"5qcHJodVJd8AEOT2cCvxEm\", \"uri\": \"spotify:playlist:5qcHJodVJd8AEOT2cCvxEm\", \"name\": \"Frédéric Chopin – Chopin: Nocturnes - Sony Classical Originals 2\", \"description\": \"\", \"owner\": \"Ray\", \"tracks_total\": 19, \"is_public\": true, \"collaborative\": false, \"snapshot_id\": \"AAAAAosFti6TgoD7O3TfPlfPiFc7yKj2\"}, {\"id\": \"7hr9yYAJLXDoJ5sKBhm8Af\", \"uri\": \"spotify:playlist:7hr9yYAJLXDoJ5sKBhm8Af\", \"name\": \"Antonio Vivaldi – Vivaldi: Guitar Concertos\", \"description\": \"\", \"owner\": \"Ray\", \"tracks_total\": 15, \"is_public\": true, \"collaborative\": false, \"snapshot_id\": \"AAAAAq5lTrQQYp3SUTtJrmlIdHbyh5CZ\"}, {\"id\": \"4ruyjAXs6VHU8ZYJqXsUiN\", \"uri\": \"spotify:playlist:4ruyjAXs6VHU8ZYJqXsUiN\", \"name\": \"Sergei Rachmaninoff – Rachmaninoff Plays Rachmaninoff: Concertos Nos. 2 and 3\", \"description\": \"\", \"owner\": \"Ray\", \"tracks_total\": 6, \"is_public\": true, \"collaborative\": false, \"snapshot_id\": \"AAAAAnd4DV7yCmI2VX7w0BB64um7bJem\"}, {\"id\": \"4GYOeGfC7fSephEi3UYh0W\", \"uri\": \"spotify:playlist:4GYOeGfC7fSephEi3UYh0W\", \"name\": \"Erik Satie – Satie: Gymnopédies, Gnossiennes & Other Works\", \"description\": \"\", \"owner\": \"Ray\", \"tracks_total\": 27, \"is_public\": true, \"collaborative\": false, \"snapshot_id\": \"AAAAAnslTVllUSPnBdYh2FMu1DtFAzVs\"}, {\"id\": \"2lop6NfhiYA07UzhWUCyc2\", \"uri\": \"spotify:playlist:2lop6NfhiYA07UzhWUCyc2\", \"name\": \"Classical Masters\", \"description\": \"\", \"owner\": \"Ray\", \"tracks_total\": 29, \"is_public\": true, \"collaborative\": false, \"snapshot_id\": \"AAAAIv8IPFeim0+gMauDLlofBPiDknYa\"}, {\"id\": \"2RUN05cfOlR09kJUvTAEPk\", \"uri\": \"spotify:playlist:2RUN05cfOlR09kJUvTAEPk\", \"name\": \"Evil Woman\", \"description\": \"\", \"owner\": \"Ray\", \"tracks_total\": 11, \"is_public\": true, \"collaborative\": false, \"snapshot_id\": \"AAAADYR9TeZBCOAQTx+qJaL78t/qalhZ\"}, {\"id\": \"3DEKSWlDt8Qors1NpYLXwt\", \"uri\": \"spotify:playlist:3DEKSWlDt8Qors1NpYLXwt\", \"name\": \"Hits 2000\", \"description\": \"\", \"owner\": \"Ray\", \"tracks_total\": 121, \"is_public\": true, \"collaborative\": false, \"snapshot_id\": \"AAAAsUV20d2iEtoXYqXPHsTzbFeyJfVJ\"}, {\"id\": \"7FgZOBK0lhTZz7gMJeV7gs\", \"uri\": \"spotify:playlist:7FgZOBK0lhTZz7gMJeV7gs\", \"name\": \"Insomniac\", \"description\": \"\", \"owner\": \"Ray\", \"tracks_total\": 182, \"is_public\": true, \"collaborative\": false, \"snapshot_id\": \"AAAA4Cmc8w8KuivAczjvfXId2sSkEm/h\"}, {\"id\": \"6DgcAL9oygPekQLDY2mFDq\", \"uri\": \"spotify:playlist:6DgcAL9oygPekQLDY2mFDq\", \"name\": \"Jean-Michel Jarre – Equinoxe\", \"description\": \"\", \"owner\": \"Ray\", \"tracks_total\": 8, \"is_public\": true, \"collaborative\": false, \"snapshot_id\": \"AAAAAh4ckvSMVbth3pWqCQDqlVQwoNXP\"}, {\"id\": \"6X1fib1966dU31uZdTH5p1\", \"uri\": \"spotify:playlist:6X1fib1966dU31uZdTH5p1\", \"name\": \"Misplaced Childhood (2017 Remaster)\", \"description\": \"\", \"owner\": \"Ray\", \"tracks_total\": 10, \"is_public\": true, \"collaborative\": false, \"snapshot_id\": \"AAAAAhEAt8v4hHLreJi8lMDQSYZCqCWP\"}, {\"id\": \"5mxEevqyJ7IbtnmxlRSlaL\", \"uri\": \"spotify:playlist:5mxEevqyJ7IbtnmxlRSlaL\", \"name\": \"My Playlist #36\", \"description\": \"\", \"owner\": \"Ray\", \"tracks_total\": 6692, \"is_public\": true, \"collaborative\": false, \"snapshot_id\": \"AAADk1LjdQ0wPeq1CWGUTeqfa3JKnd68\"}, {\"id\": \"01tk0aitEuGK0ajWCkzdKc\", \"uri\": \"spotify:playlist:01tk0aitEuGK0ajWCkzdKc\", \"name\": \"New Rock and Blues\", \"description\": \"\", \"owner\": \"Ray\", \"tracks_total\": 152, \"is_public\": true, \"collaborative\": false, \"snapshot_id\": \"AAAA5WzoylrbcF38i+jfueYt6FBMIWyb\"}, {\"id\": \"5Culgc9kaBQ5b9oOHXXhB6\", \"uri\": \"spotify:playlist:5Culgc9kaBQ5b9oOHXXhB6\", \"name\": \"Nothing But the Blues (Live)\", \"description\": \"\", \"owner\": \"Ray\", \"tracks_total\": 17, \"is_public\": true, \"collaborative\": false, \"snapshot_id\": \"AAAAAv6fej6qwqMnU0hD6qABni4cidBa\"}, {\"id\": \"5qYPd1AvydE1Ltz5uGCVVG\", \"uri\": \"spotify:playlist:5qYPd1AvydE1Ltz5uGCVVG\", \"name\": \"Pet Shop Boys\", \"description\": \"\", \"owner\": \"Ray\", \"tracks_total\": 10, \"is_public\": true, \"collaborative\": false, \"snapshot_id\": \"AAAADoUwedXRw8oUAXzutzW3zHOBq8wo\"}, {\"id\": \"43ekrNptzLLkRVGuZWUI83\", \"uri\": \"spotify:playlist:43ekrNptzLLkRVGuZWUI83\", \"name\": \"Pink Floyd\", \"description\": \"\", \"owner\": \"Ray\", \"tracks_total\": 17, \"is_public\": true, \"collaborative\": false, \"snapshot_id\": \"AAAAFMGAETEKmvx5mrnmvpG6qPrTvDoC\"}, {\"id\": \"25odQP99Tc8QbNs8dWWsQV\", \"uri\": \"spotify:playlist:25odQP99Tc8QbNs8dWWsQV\", \"name\": \"Pink Floyd – The Wall\", \"description\": \"\", \"owner\": \"Ray\", \"tracks_total\": 26, \"is_public\": true, \"collaborative\": false, \"snapshot_id\": \"AAAAAqQrbCqR2F+PT4CiRiJ/aI51g4KY\"}, {\"id\": \"6smB0SEs5sX0FOzA4h22Eq\", \"uri\": \"spotify:playlist:6smB0SEs5sX0FOzA4h22Eq\", \"name\": \"Rock\", \"description\": \"\", \"owner\": \"Ray\", \"tracks_total\": 158, \"is_public\": true, \"collaborative\": false, \"snapshot_id\": \"AAAAvFxIe5eBC1t4kNdcuQG1dm3gh28t\"}, {\"id\": \"5q5ZVp6frFMc8y0ivNfGk2\", \"uri\": \"spotify:playlist:5q5ZVp6frFMc8y0ivNfGk2\", \"name\": \"Rock Balads\", \"description\": \"\", \"owner\": \"Ray\", \"tracks_total\": 61, \"is_public\": true, \"collaborative\": false, \"snapshot_id\": \"AAAAQEiJ4p3uZqQFtoa4ptNvTlCgwc0P\"}, {\"id\": \"4Vk5tgx9FcO17ZhdFwxJIp\", \"uri\": \"spotify:playlist:4Vk5tgx9FcO17ZhdFwxJIp\", \"name\": \"Rock Hard\", \"description\": \"\", \"owner\": \"Ray\", \"tracks_total\": 61, \"is_public\": true, \"collaborative\": false, \"snapshot_id\": \"AAAANGCk4sZ4CKBXxt9osRjoOmtDj6jN\"}, {\"id\": \"3n3RLXoDDH7O9XpusnnnvV\", \"uri\": \"spotify:playlist:3n3RLXoDDH7O9XpusnnnvV\", \"name\": \"Rolling Stones\", \"description\": \"\", \"owner\": \"Ray\", \"tracks_total\": 19, \"is_public\": true, \"collaborative\": false, \"snapshot_id\": \"AAAAFfP6U7XcNW87gmiXRr0cdMiFxhY1\"}, {\"id\": \"5XdXmStK6X9ZPstLvDBekC\", \"uri\": \"spotify:playlist:5XdXmStK6X9ZPstLvDBekC\", \"name\": \"Workout\", \"description\": \"\", \"owner\": \"Ray\", \"tracks_total\": 74, \"is_public\": true, \"collaborative\": false, \"snapshot_id\": \"AAABLoYIV4F6lXAO0DJe++nLNS7aVm52\"}]}', name='get_playlists', tool_call_id='call_DEhPZG9Tht7UTOh27WAnlNBh')]"
      ]
     },
     "execution_count": 20,
     "metadata": {},
     "output_type": "execute_result"
    }
   ],
   "source": [
    "chat_prompt_template += playlist_tool_message\n",
    "messages = chat_prompt_template.format_messages()"
   ]
  },
  {
   "cell_type": "markdown",
   "metadata": {},
   "source": [
    "# Send Playlists Results to LLM"
   ]
  },
  {
   "cell_type": "code",
   "execution_count": null,
   "metadata": {},
   "outputs": [
    {
     "name": "stdout",
     "output_type": "stream",
     "text": [
      "==================================\u001b[1m Ai Message \u001b[0m==================================\n",
      "Tool Calls:\n",
      "  get_track_list (call_JOAphVlbRljY9ia8CNP1U0SY)\n",
      " Call ID: call_JOAphVlbRljY9ia8CNP1U0SY\n",
      "  Args:\n",
      "    playlist_id: 01tk0aitEuGK0ajWCkzdKc\n"
     ]
    }
   ],
   "source": [
    "ai_tool_call_message = llm_with_tools.invoke(messages)\n",
    "ai_tool_call_message.pretty_print()"
   ]
  },
  {
   "cell_type": "code",
   "execution_count": 22,
   "metadata": {},
   "outputs": [],
   "source": [
    "chat_prompt_template += ai_tool_call_message\n",
    "messages = chat_prompt_template.format_messages()"
   ]
  },
  {
   "cell_type": "markdown",
   "metadata": {},
   "source": [
    "# Tool Call (get_track_list)"
   ]
  },
  {
   "cell_type": "code",
   "execution_count": 23,
   "metadata": {},
   "outputs": [],
   "source": [
    "response = tool_node.invoke({\"messages\": messages})\n",
    "track_list_tool_message: ToolMessage = response[\"messages\"][0]"
   ]
  },
  {
   "cell_type": "markdown",
   "metadata": {},
   "source": [
    "# Decode AI Tool Call message"
   ]
  },
  {
   "cell_type": "code",
   "execution_count": 24,
   "metadata": {},
   "outputs": [
    {
     "name": "stdout",
     "output_type": "stream",
     "text": [
      "=================================\u001b[1m Tool Message \u001b[0m=================================\n",
      "Name: get_track_list\n",
      "\n",
      "{\"tracks\": [{\"id\": \"59oXRNRnmmTbwgkZkV7l4g\", \"uri\": \"spotify:track:59oXRNRnmmTbwgkZkV7l4g\", \"name\": \"Low Down Rolling Stone\", \"artists\": [\"Gary Clark Jr.\"], \"album\": \"This Land\", \"duration_ms\": 258200, \"explicit\": false, \"popularity\": 46}, {\"id\": \"2TmVlVk2t6d9MoqLNasfgS\", \"uri\": \"spotify:track:2TmVlVk2t6d9MoqLNasfgS\", \"name\": \"Take Me Away\", \"artists\": [\"Ayron Jones\"], \"album\": \"Child Of The State\", \"duration_ms\": 246932, \"explicit\": true, \"popularity\": 41}, {\"id\": \"5UMD1Iz7yyVK8Q5FLsVt3q\", \"uri\": \"spotify:track:5UMD1Iz7yyVK8Q5FLsVt3q\", \"name\": \"Walk On Water\", \"artists\": [\"Thirty Seconds To Mars\"], \"album\": \"Walk On Water\", \"duration_ms\": 188227, \"explicit\": false, \"popularity\": 0}, {\"id\": \"0Tr5G2mE56eLUGvCaXRM8I\", \"uri\": \"spotify:track:0Tr5G2mE56eLUGvCaXRM8I\", \"name\": \"No Good\", \"artists\": [\"KALEO\"], \"album\": \"A/B\", \"duration_ms\": 234240, \"explicit\": false, \"popularity\": 64}, {\"id\": \"7e8utCy2JlSB8dRHKi49xM\", \"uri\": \"spotify:track:7e8utCy2JlSB8dRHKi49xM\", \"name\": \"Fluorescent Adolescent\", \"artists\": [\"Arctic Monkeys\"], \"album\": \"Favourite Worst Nightmare (Standard Version)\", \"duration_ms\": 173493, \"explicit\": false, \"popularity\": 69}, {\"id\": \"1D3YGmST01Ba0WRiT7THPG\", \"uri\": \"spotify:track:1D3YGmST01Ba0WRiT7THPG\", \"name\": \"I Sat by the Ocean\", \"artists\": [\"Queens of the Stone Age\"], \"album\": \"...Like Clockwork\", \"duration_ms\": 235586, \"explicit\": false, \"popularity\": 61}, {\"id\": \"7ne867SdHbopGYjxVNyRFM\", \"uri\": \"spotify:track:7ne867SdHbopGYjxVNyRFM\", \"name\": \"Lost Cause\", \"artists\": [\"Black Pistol Fire\"], \"album\": \"Deadbeat Graffiti\", \"duration_ms\": 212120, \"explicit\": false, \"popularity\": 41}, {\"id\": \"3tA2Khh4RpQThUoX22PQAG\", \"uri\": \"spotify:track:3tA2Khh4RpQThUoX22PQAG\", \"name\": \"Legendary\", \"artists\": [\"Welshly Arms\"], \"album\": \"Legendary\", \"duration_ms\": 230696, \"explicit\": false, \"popularity\": 0}, {\"id\": \"0UqNIatgH3yQrJwqajOM2G\", \"uri\": \"spotify:track:0UqNIatgH3yQrJwqajOM2G\", \"name\": \"How High\", \"artists\": [\"The Record Company\"], \"album\": \"Play Loud\", \"duration_ms\": 192840, \"explicit\": false, \"popularity\": 36}, {\"id\": \"3nGWzFBJ5tMzHWAgs16fK6\", \"uri\": \"spotify:track:3nGWzFBJ5tMzHWAgs16fK6\", \"name\": \"What Makes A Good Man?\", \"artists\": [\"The Heavy\"], \"album\": \"The Glorious Dead\", \"duration_ms\": 226380, \"explicit\": false, \"popularity\": 55}, {\"id\": \"52LL3IFB8N3PaJmoZ8Xii1\", \"uri\": \"spotify:track:52LL3IFB8N3PaJmoZ8Xii1\", \"name\": \"The Way You Used To Do\", \"artists\": [\"Queens of the Stone Age\"], \"album\": \"Villains\", \"duration_ms\": 274281, \"explicit\": false, \"popularity\": 56}, {\"id\": \"7aOor99o8NNLZYElOXlBG1\", \"uri\": \"spotify:track:7aOor99o8NNLZYElOXlBG1\", \"name\": \"Highway Tune\", \"artists\": [\"Greta Van Fleet\"], \"album\": \"From The Fires\", \"duration_ms\": 180640, \"explicit\": false, \"popularity\": 68}, {\"id\": \"6Q6ByVmO7mtrbmhq3q1ALF\", \"uri\": \"spotify:track:6Q6ByVmO7mtrbmhq3q1ALF\", \"name\": \"Gasoline\", \"artists\": [\"Whiskey Myers\"], \"album\": \"Whiskey Myers\", \"duration_ms\": 239114, \"explicit\": false, \"popularity\": 0}, {\"id\": \"3Ozx6IrGdoQyAworJzvBDE\", \"uri\": \"spotify:track:3Ozx6IrGdoQyAworJzvBDE\", \"name\": \"Sleeping on the Blacktop\", \"artists\": [\"Colter Wall\"], \"album\": \"Imaginary Appalachia\", \"duration_ms\": 192480, \"explicit\": false, \"popularity\": 5}, {\"id\": \"0fbR95FEaJUxiQYaqZZukv\", \"uri\": \"spotify:track:0fbR95FEaJUxiQYaqZZukv\", \"name\": \"Whitehouse Road\", \"artists\": [\"Tyler Childers\"], \"album\": \"Purgatory\", \"duration_ms\": 280786, \"explicit\": false, \"popularity\": 68}, {\"id\": \"3olGkpomYOWwRZsbFTZqiX\", \"uri\": \"spotify:track:3olGkpomYOWwRZsbFTZqiX\", \"name\": \"Devil Always Made Me Think Twice\", \"artists\": [\"Chris Stapleton\"], \"album\": \"Starting Over\", \"duration_ms\": 231720, \"explicit\": false, \"popularity\": 66}, {\"id\": \"1nO9qYFTq5ZkiiXnaXbBEH\", \"uri\": \"spotify:track:1nO9qYFTq5ZkiiXnaXbBEH\", \"name\": \"One By One\", \"artists\": [\"The Blue Stones\"], \"album\": \"Hidden Gems\", \"duration_ms\": 251266, \"explicit\": false, \"popularity\": 0}, {\"id\": \"5SSX2AJTtYjpk0x2p0LnUA\", \"uri\": \"spotify:track:5SSX2AJTtYjpk0x2p0LnUA\", \"name\": \"Step Aside\", \"artists\": [\"Goodbye June\"], \"album\": \"See Where The Night Goes\", \"duration_ms\": 247895, \"explicit\": true, \"popularity\": 0}, {\"id\": \"4VqPOruhp5EdPBeR92t6lQ\", \"uri\": \"spotify:track:4VqPOruhp5EdPBeR92t6lQ\", \"name\": \"Uprising\", \"artists\": [\"Muse\"], \"album\": \"The Resistance\", \"duration_ms\": 304840, \"explicit\": false, \"popularity\": 74}, {\"id\": \"58ge6dfP91o9oXMzq3XkIS\", \"uri\": \"spotify:track:58ge6dfP91o9oXMzq3XkIS\", \"name\": \"505\", \"artists\": [\"Arctic Monkeys\"], \"album\": \"Favourite Worst Nightmare (Standard Version)\", \"duration_ms\": 253586, \"explicit\": false, \"popularity\": 79}, {\"id\": \"0NdTUS4UiNYCNn5FgVqKQY\", \"uri\": \"spotify:track:0NdTUS4UiNYCNn5FgVqKQY\", \"name\": \"Snap Out Of It\", \"artists\": [\"Arctic Monkeys\"], \"album\": \"AM\", \"duration_ms\": 193030, \"explicit\": false, \"popularity\": 76}, {\"id\": \"3nhzPKCm2yqGmgEhdAg19u\", \"uri\": \"spotify:track:3nhzPKCm2yqGmgEhdAg19u\", \"name\": \"Four Out Of Five\", \"artists\": [\"Arctic Monkeys\"], \"album\": \"Tranquility Base Hotel & Casino\", \"duration_ms\": 312346, \"explicit\": false, \"popularity\": 1}, {\"id\": \"7EIQp9sfTNlf26Df6kHaMg\", \"uri\": \"spotify:track:7EIQp9sfTNlf26Df6kHaMg\", \"name\": \"Kill Or Be Kind\", \"artists\": [\"Samantha Fish\"], \"album\": \"Kill Or Be Kind\", \"duration_ms\": 225373, \"explicit\": false, \"popularity\": 0}, {\"id\": \"6JsiDFQRx7GHcuf2UroSYB\", \"uri\": \"spotify:track:6JsiDFQRx7GHcuf2UroSYB\", \"name\": \"Black Holes (Solid Ground)\", \"artists\": [\"The Blue Stones\"], \"album\": \"Black Holes\", \"duration_ms\": 185960, \"explicit\": false, \"popularity\": 0}, {\"id\": \"1PXsUXSM3LF2XNSkmIldPb\", \"uri\": \"spotify:track:1PXsUXSM3LF2XNSkmIldPb\", \"name\": \"Little Black Submarines\", \"artists\": [\"The Black Keys\"], \"album\": \"El Camino\", \"duration_ms\": 251266, \"explicit\": false, \"popularity\": 63}, {\"id\": \"4ElxyEI2mMVsY1oRaMqsa3\", \"uri\": \"spotify:track:4ElxyEI2mMVsY1oRaMqsa3\", \"name\": \"Fools Gold\", \"artists\": [\"The Arcs\"], \"album\": \"30th Century Records Compilation, Vol. 1\", \"duration_ms\": 242466, \"explicit\": false, \"popularity\": 0}, {\"id\": \"0o995gJCGebaza0LWybToU\", \"uri\": \"spotify:track:0o995gJCGebaza0LWybToU\", \"name\": \"Doesn't Remind Me\", \"artists\": [\"Audioslave\"], \"album\": \"Out of Exile\", \"duration_ms\": 255000, \"explicit\": false, \"popularity\": 59}, {\"id\": \"6Oxs28sGtuS3RYlOmIu5K7\", \"uri\": \"spotify:track:6Oxs28sGtuS3RYlOmIu5K7\", \"name\": \"Stand For Myself\", \"artists\": [\"Yola\"], \"album\": \"Stand For Myself\", \"duration_ms\": 253253, \"explicit\": false, \"popularity\": 38}, {\"id\": \"1Lm6CHHgYrRGKKOmCFMEwy\", \"uri\": \"spotify:track:1Lm6CHHgYrRGKKOmCFMEwy\", \"name\": \"Hole In The Middle\", \"artists\": [\"Emily Jane White\"], \"album\": \"Dark Undercoat (Bonus Track Version)\", \"duration_ms\": 206760, \"explicit\": false, \"popularity\": 29}, {\"id\": \"5n0CTysih20NYdT2S0Wpe8\", \"uri\": \"spotify:track:5n0CTysih20NYdT2S0Wpe8\", \"name\": \"Trouble\", \"artists\": [\"Cage The Elephant\"], \"album\": \"Tell Me I'm Pretty\", \"duration_ms\": 225973, \"explicit\": false, \"popularity\": 69}, {\"id\": \"7lPQL4PJ66RfNtZcdUsAud\", \"uri\": \"spotify:track:7lPQL4PJ66RfNtZcdUsAud\", \"name\": \"Everyone's a Winner\", \"artists\": [\"Jackyl\"], \"album\": \"ROWYCO\", \"duration_ms\": 256000, \"explicit\": false, \"popularity\": 37}, {\"id\": \"3kBBjItT7JnKi28k68dGkr\", \"uri\": \"spotify:track:3kBBjItT7JnKi28k68dGkr\", \"name\": \"Spitting Off the Edge of the World\", \"artists\": [\"Yeah Yeah Yeahs\", \"Perfume Genius\"], \"album\": \"Spitting Off the Edge of the World\", \"duration_ms\": 257746, \"explicit\": false, \"popularity\": 0}, {\"id\": \"3V1H6liHwCDcWeqdPJabOM\", \"uri\": \"spotify:track:3V1H6liHwCDcWeqdPJabOM\", \"name\": \"Wicked Game - Acoustic; Live\", \"artists\": [\"Stone Sour\"], \"album\": \"Come What(ever) May [10th Anniversary Edition]\", \"duration_ms\": 267253, \"explicit\": false, \"popularity\": 62}, {\"id\": \"0Sjz8pTu8vcVvGP5rtyh3Q\", \"uri\": \"spotify:track:0Sjz8pTu8vcVvGP5rtyh3Q\", \"name\": \"Tonight You Are Mine\", \"artists\": [\"The Technicolors\"], \"album\": \"Ultraviolet Disguise (Deluxe Edition)\", \"duration_ms\": 230000, \"explicit\": false, \"popularity\": 55}, {\"id\": \"5YdTiKZQc2rmUD81RUiVGI\", \"uri\": \"spotify:track:5YdTiKZQc2rmUD81RUiVGI\", \"name\": \"Ritual\", \"artists\": [\"Reignwolf\"], \"album\": \"Hear Me Out\", \"duration_ms\": 200999, \"explicit\": false, \"popularity\": 45}, {\"id\": \"3YuaBvuZqcwN3CEAyyoaei\", \"uri\": \"spotify:track:3YuaBvuZqcwN3CEAyyoaei\", \"name\": \"Like a Stone\", \"artists\": [\"Audioslave\"], \"album\": \"Audioslave\", \"duration_ms\": 293960, \"explicit\": false, \"popularity\": 78}, {\"id\": \"0v55XuHDYNj4ELPzpRnNo0\", \"uri\": \"spotify:track:0v55XuHDYNj4ELPzpRnNo0\", \"name\": \"Fade Into You\", \"artists\": [\"Inhaler\"], \"album\": \"Falling In\", \"duration_ms\": 315491, \"explicit\": false, \"popularity\": 48}, {\"id\": \"5H7Z2DdWYT9ctLSuKzqkSb\", \"uri\": \"spotify:track:5H7Z2DdWYT9ctLSuKzqkSb\", \"name\": \"Golden Dandelions - Acoustic\", \"artists\": [\"Barns Courtney\"], \"album\": \"Golden Dandelions (Acoustic)\", \"duration_ms\": 202576, \"explicit\": false, \"popularity\": 39}, {\"id\": \"1EuvOdyyzhFUP2z3gfr6xz\", \"uri\": \"spotify:track:1EuvOdyyzhFUP2z3gfr6xz\", \"name\": \"Hold On\", \"artists\": [\"Alabama Shakes\"], \"album\": \"Boys & Girls\", \"duration_ms\": 226186, \"explicit\": false, \"popularity\": 58}, {\"id\": \"6GyDY0yE47rfk8pcuKhioh\", \"uri\": \"spotify:track:6GyDY0yE47rfk8pcuKhioh\", \"name\": \"Make It Wit Chu\", \"artists\": [\"Queens of the Stone Age\"], \"album\": \"Era Vulgaris\", \"duration_ms\": 290493, \"explicit\": false, \"popularity\": 64}, {\"id\": \"2xZAvIqgf1jJ30oPyUoXdw\", \"uri\": \"spotify:track:2xZAvIqgf1jJ30oPyUoXdw\", \"name\": \"Born Of Frustration\", \"artists\": [\"James\"], \"album\": \"Fresh As A Daisy - The Singles\", \"duration_ms\": 276026, \"explicit\": false, \"popularity\": 45}, {\"id\": \"5AKYyNPYhumqKeOMhdEgQO\", \"uri\": \"spotify:track:5AKYyNPYhumqKeOMhdEgQO\", \"name\": \"I Saw You Close Your Eyes\", \"artists\": [\"Local Natives\"], \"album\": \"I Saw You Close Your Eyes\", \"duration_ms\": 216840, \"explicit\": false, \"popularity\": 49}, {\"id\": \"5jCp5A9hMitx5zeo5Djofm\", \"uri\": \"spotify:track:5jCp5A9hMitx5zeo5Djofm\", \"name\": \"Pretty Peggy\", \"artists\": [\"Wolfmother\"], \"album\": \"Victorious\", \"duration_ms\": 229000, \"explicit\": false, \"popularity\": 40}, {\"id\": \"2qwDT631uzIInZ24TXhpP2\", \"uri\": \"spotify:track:2qwDT631uzIInZ24TXhpP2\", \"name\": \"Hope in Hell\", \"artists\": [\"Black Pistol Fire\"], \"album\": \"Look Alive\", \"duration_ms\": 267426, \"explicit\": true, \"popularity\": 35}, {\"id\": \"3qaRqV7dTbQV2VVMhd0ejd\", \"uri\": \"spotify:track:3qaRqV7dTbQV2VVMhd0ejd\", \"name\": \"Built By Nations\", \"artists\": [\"Greta Van Fleet\"], \"album\": \"The Battle at Garden’s Gate\", \"duration_ms\": 238985, \"explicit\": false, \"popularity\": 53}, {\"id\": \"5GZq8P4Iy2smHngL07Pcuo\", \"uri\": \"spotify:track:5GZq8P4Iy2smHngL07Pcuo\", \"name\": \"Heavy Soul\", \"artists\": [\"The Black Keys\"], \"album\": \"The Big Come Up\", \"duration_ms\": 128893, \"explicit\": false, \"popularity\": 61}, {\"id\": \"5vdNoFezjTsQTrZxPK8tDg\", \"uri\": \"spotify:track:5vdNoFezjTsQTrZxPK8tDg\", \"name\": \"Golden Dandelions\", \"artists\": [\"Barns Courtney\"], \"album\": \"The Attractions Of Youth\", \"duration_ms\": 204826, \"explicit\": false, \"popularity\": 50}, {\"id\": \"6zSekCO8d6oK2tsEBuxQPp\", \"uri\": \"spotify:track:6zSekCO8d6oK2tsEBuxQPp\", \"name\": \"Daisy\", \"artists\": [\"Goodbye June\"], \"album\": \"Magic Valley\", \"duration_ms\": 184856, \"explicit\": false, \"popularity\": 35}, {\"id\": \"2qesyq9h4j7R4kx7p9dRTB\", \"uri\": \"spotify:track:2qesyq9h4j7R4kx7p9dRTB\", \"name\": \"The Arc\", \"artists\": [\"The Arcs\"], \"album\": \"Yours, Dreamily,\", \"duration_ms\": 232146, \"explicit\": false, \"popularity\": 40}, {\"id\": \"02bJ6uGeHKfNOhIc9qyA8e\", \"uri\": \"spotify:track:02bJ6uGeHKfNOhIc9qyA8e\", \"name\": \"Wild Child\", \"artists\": [\"The Black Keys\"], \"album\": \"Dropout Boogie\", \"duration_ms\": 164866, \"explicit\": false, \"popularity\": 65}, {\"id\": \"6PtIXICwmoxCgLjw2zApDs\", \"uri\": \"spotify:track:6PtIXICwmoxCgLjw2zApDs\", \"name\": \"Young Lady, You're Scaring Me\", \"artists\": [\"Ron Gallo\"], \"album\": \"HEAVY META\", \"duration_ms\": 220538, \"explicit\": false, \"popularity\": 6}, {\"id\": \"0Rxgdpe1zgZ6ZzHgxSaYEJ\", \"uri\": \"spotify:track:0Rxgdpe1zgZ6ZzHgxSaYEJ\", \"name\": \"Waiting for the Thunder\", \"artists\": [\"Blackberry Smoke\"], \"album\": \"Like an Arrow\", \"duration_ms\": 247008, \"explicit\": false, \"popularity\": 50}, {\"id\": \"1VJ7wyKWyXuhLxCMnk8EMT\", \"uri\": \"spotify:track:1VJ7wyKWyXuhLxCMnk8EMT\", \"name\": \"Shake Me Down\", \"artists\": [\"Broken Witt Rebels\"], \"album\": \"Broken Witt Rebels\", \"duration_ms\": 225626, \"explicit\": false, \"popularity\": 0}, {\"id\": \"5xwiy888BI0JaJP1Jvytvy\", \"uri\": \"spotify:track:5xwiy888BI0JaJP1Jvytvy\", \"name\": \"Hold on I'm Coming\", \"artists\": [\"Welshly Arms\"], \"album\": \"Covers\", \"duration_ms\": 233026, \"explicit\": false, \"popularity\": 0}, {\"id\": \"3xMQOd1C3TXsjQ3pmzOmkC\", \"uri\": \"spotify:track:3xMQOd1C3TXsjQ3pmzOmkC\", \"name\": \"Weight of Love\", \"artists\": [\"The Black Keys\"], \"album\": \"Turn Blue\", \"duration_ms\": 410186, \"explicit\": false, \"popularity\": 55}, {\"id\": \"5Ep66lg6KdXjX30U5SBQRQ\", \"uri\": \"spotify:track:5Ep66lg6KdXjX30U5SBQRQ\", \"name\": \"Bad Moves\", \"artists\": [\"The Bones of J.R. Jones\"], \"album\": \"A Celebration\", \"duration_ms\": 246800, \"explicit\": false, \"popularity\": 30}, {\"id\": \"1dX6oGAG5PaexuPj29PsYd\", \"uri\": \"spotify:track:1dX6oGAG5PaexuPj29PsYd\", \"name\": \"I Can't Go on Without You\", \"artists\": [\"KALEO\"], \"album\": \"A/B\", \"duration_ms\": 377000, \"explicit\": false, \"popularity\": 59}, {\"id\": \"136kGRT2lLY01C9i21TURw\", \"uri\": \"spotify:track:136kGRT2lLY01C9i21TURw\", \"name\": \"Break My Baby - Stripped Back\", \"artists\": [\"KALEO\"], \"album\": \"Break My Baby - Stripped Back\", \"duration_ms\": 210532, \"explicit\": false, \"popularity\": 44}, {\"id\": \"0xgm9ojDGh01nTsreKg0oL\", \"uri\": \"spotify:track:0xgm9ojDGh01nTsreKg0oL\", \"name\": \"Missing At Sea\", \"artists\": [\"Maggie Bjorklund\"], \"album\": \"Shaken\", \"duration_ms\": 218626, \"explicit\": false, \"popularity\": 0}, {\"id\": \"54DIzLw4LLxB3n1XiiQftU\", \"uri\": \"spotify:track:54DIzLw4LLxB3n1XiiQftU\", \"name\": \"Age Of Man\", \"artists\": [\"Greta Van Fleet\"], \"album\": \"Anthem Of The Peaceful Army\", \"duration_ms\": 366186, \"explicit\": false, \"popularity\": 51}, {\"id\": \"5lm0T8DfaVOK4HWCmEXvPw\", \"uri\": \"spotify:track:5lm0T8DfaVOK4HWCmEXvPw\", \"name\": \"Golden Songs\", \"artists\": [\"Last Train\"], \"album\": \"Weathering\", \"duration_ms\": 218000, \"explicit\": false, \"popularity\": 36}, {\"id\": \"6vUPPEN2V2lZ78b6DyEIjZ\", \"uri\": \"spotify:track:6vUPPEN2V2lZ78b6DyEIjZ\", \"name\": \"What It's Like\", \"artists\": [\"Everlast\"], \"album\": \"Whitey Ford Sings the Blues\", \"duration_ms\": 303133, \"explicit\": true, \"popularity\": 69}, {\"id\": \"0vQYe6g8bNbdUKnUnXdQQV\", \"uri\": \"spotify:track:0vQYe6g8bNbdUKnUnXdQQV\", \"name\": \"My Love - Edit\", \"artists\": [\"Florence + The Machine\"], \"album\": \"My Love\", \"duration_ms\": 177511, \"explicit\": false, \"popularity\": 43}, {\"id\": \"5bICqYTxNBwSq1QM0WjvDj\", \"uri\": \"spotify:track:5bICqYTxNBwSq1QM0WjvDj\", \"name\": \"Our Special Place\", \"artists\": [\"The Heavy\"], \"album\": \"In The Morning/You Don’t Know\", \"duration_ms\": 217506, \"explicit\": false, \"popularity\": 31}, {\"id\": \"7LZN7FkxHZk6maiN6NdI2i\", \"uri\": \"spotify:track:7LZN7FkxHZk6maiN6NdI2i\", \"name\": \"Dark Days\", \"artists\": [\"Local Natives\"], \"album\": \"Sunlit Youth\", \"duration_ms\": 180413, \"explicit\": false, \"popularity\": 55}, {\"id\": \"7MlDNspYwfqnHxORufupwq\", \"uri\": \"spotify:track:7MlDNspYwfqnHxORufupwq\", \"name\": \"Sex, Drugs, Etc.\", \"artists\": [\"Beach Weather\"], \"album\": \"Pineapple Sunrise\", \"duration_ms\": 196784, \"explicit\": false, \"popularity\": 82}, {\"id\": \"55meRTYBw8S5q7KF3DkjL7\", \"uri\": \"spotify:track:55meRTYBw8S5q7KF3DkjL7\", \"name\": \"The Bandit\", \"artists\": [\"Kings of Leon\"], \"album\": \"The Bandit / 100,000 People\", \"duration_ms\": 250961, \"explicit\": false, \"popularity\": 43}, {\"id\": \"6Bj34xowKpBf7s8vTKTJW9\", \"uri\": \"spotify:track:6Bj34xowKpBf7s8vTKTJW9\", \"name\": \"Joy\", \"artists\": [\"Santana\", \"Chris Stapleton\"], \"album\": \"Blessings and Miracles\", \"duration_ms\": 226853, \"explicit\": false, \"popularity\": 0}, {\"id\": \"22ojTkfbwYxyMJwOPhDvUV\", \"uri\": \"spotify:track:22ojTkfbwYxyMJwOPhDvUV\", \"name\": \"The Perfect Parts\", \"artists\": [\"Shakey Graves\"], \"album\": \"And The War Came\", \"duration_ms\": 236440, \"explicit\": false, \"popularity\": 3}, {\"id\": \"4MP3R0itL0A32onspZXcur\", \"uri\": \"spotify:track:4MP3R0itL0A32onspZXcur\", \"name\": \"Fairlies\", \"artists\": [\"Grian Chatten\"], \"album\": \"Fairlies\", \"duration_ms\": 250173, \"explicit\": false, \"popularity\": 0}, {\"id\": \"1bloF1LHgUVvPJLxrzxgu7\", \"uri\": \"spotify:track:1bloF1LHgUVvPJLxrzxgu7\", \"name\": \"Automobile\", \"artists\": [\"KALEO\"], \"album\": \"A/B\", \"duration_ms\": 186906, \"explicit\": false, \"popularity\": 56}, {\"id\": \"5Vnny8AlKRnPZ3wQNouf2T\", \"uri\": \"spotify:track:5Vnny8AlKRnPZ3wQNouf2T\", \"name\": \"Don't Let Me\", \"artists\": [\"Morningsiders\"], \"album\": \"A Little Lift\", \"duration_ms\": 183850, \"explicit\": false, \"popularity\": 55}, {\"id\": \"2EWpa5XnAuSn0sIkSSIhYk\", \"uri\": \"spotify:track:2EWpa5XnAuSn0sIkSSIhYk\", \"name\": \"Wish I Knew You\", \"artists\": [\"The Revivalists\"], \"album\": \"Men Amongst Mountains\", \"duration_ms\": 274093, \"explicit\": false, \"popularity\": 65}, {\"id\": \"6aBUnkXuCEQQHAlTokv9or\", \"uri\": \"spotify:track:6aBUnkXuCEQQHAlTokv9or\", \"name\": \"This Must Be the Place (Naive Melody) - 2005 Remaster\", \"artists\": [\"Talking Heads\"], \"album\": \"Speaking in Tongues (Deluxe Version)\", \"duration_ms\": 296146, \"explicit\": false, \"popularity\": 69}, {\"id\": \"2TNyNqT3RBXhtNV7OiAgiC\", \"uri\": \"spotify:track:2TNyNqT3RBXhtNV7OiAgiC\", \"name\": \"The Narcissist\", \"artists\": [\"Blur\"], \"album\": \"The Ballad of Darren\", \"duration_ms\": 245225, \"explicit\": false, \"popularity\": 49}, {\"id\": \"2B44GIBurvsKCiNb34Xrnj\", \"uri\": \"spotify:track:2B44GIBurvsKCiNb34Xrnj\", \"name\": \"Please Forgive Me\", \"artists\": [\"David Gray\"], \"album\": \"White Ladder\", \"duration_ms\": 335266, \"explicit\": false, \"popularity\": 7}, {\"id\": \"2AqbEQUDhuT2r1flcPuRRx\", \"uri\": \"spotify:track:2AqbEQUDhuT2r1flcPuRRx\", \"name\": \"Midnight Rider\", \"artists\": [\"Sharon Jones & The Dap-Kings\"], \"album\": \"Midnight Rider\", \"duration_ms\": 197526, \"explicit\": false, \"popularity\": 41}, {\"id\": \"6St9uiBUG4L7LvVNuUcm8a\", \"uri\": \"spotify:track:6St9uiBUG4L7LvVNuUcm8a\", \"name\": \"Roll The Credits\", \"artists\": [\"Danielle Ponder\"], \"album\": \"Roll The Credits\", \"duration_ms\": 253411, \"explicit\": true, \"popularity\": 40}, {\"id\": \"2Kxe8BLU9n7yULCuRBwjX6\", \"uri\": \"spotify:track:2Kxe8BLU9n7yULCuRBwjX6\", \"name\": \"I Wanna Make It Wit Chu - Live At Brixton Academy / 2005\", \"artists\": [\"Queens of the Stone Age\"], \"album\": \"Over The Years And Through The Woods (Live At Brixton Academy / 2005)\", \"duration_ms\": 267746, \"explicit\": false, \"popularity\": 29}, {\"id\": \"0RiRZpuVRbi7oqRdSMwhQY\", \"uri\": \"spotify:track:0RiRZpuVRbi7oqRdSMwhQY\", \"name\": \"Sunflower - Spider-Man: Into the Spider-Verse\", \"artists\": [\"Post Malone\", \"Swae Lee\"], \"album\": \"Hollywood's Bleeding\", \"duration_ms\": 157560, \"explicit\": false, \"popularity\": 81}, {\"id\": \"3BHFResGQiUvbYToUdaDQz\", \"uri\": \"spotify:track:3BHFResGQiUvbYToUdaDQz\", \"name\": \"Enough Is Enough\", \"artists\": [\"Post Malone\"], \"album\": \"AUSTIN\", \"duration_ms\": 165175, \"explicit\": true, \"popularity\": 63}, {\"id\": \"5YW7oSt4jHBO7yE9XER2Be\", \"uri\": \"spotify:track:5YW7oSt4jHBO7yE9XER2Be\", \"name\": \"Sweet Sounds Of Heaven (feat. Lady Gaga)\", \"artists\": [\"The Rolling Stones\", \"Lady Gaga\"], \"album\": \"Sweet Sounds Of Heaven\", \"duration_ms\": 442667, \"explicit\": false, \"popularity\": 42}, {\"id\": \"365TSrFPqM66giaxJuafR3\", \"uri\": \"spotify:track:365TSrFPqM66giaxJuafR3\", \"name\": \"Shine A Little Light\", \"artists\": [\"The Black Keys\"], \"album\": \"\\\"Let's Rock\\\"\", \"duration_ms\": 196776, \"explicit\": false, \"popularity\": 51}, {\"id\": \"3bwAS8cN7Xtzvv5UurJOOX\", \"uri\": \"spotify:track:3bwAS8cN7Xtzvv5UurJOOX\", \"name\": \"I Am the Highway\", \"artists\": [\"Audioslave\"], \"album\": \"Audioslave\", \"duration_ms\": 334906, \"explicit\": false, \"popularity\": 63}, {\"id\": \"0fCwTrRNfoNk962ati8n2K\", \"uri\": \"spotify:track:0fCwTrRNfoNk962ati8n2K\", \"name\": \"All Your'n\", \"artists\": [\"Tyler Childers\"], \"album\": \"Country Squire\", \"duration_ms\": 218280, \"explicit\": false, \"popularity\": 77}, {\"id\": \"3PeDt4Q8YIFDRph5UhxAaA\", \"uri\": \"spotify:track:3PeDt4Q8YIFDRph5UhxAaA\", \"name\": \"Going Down South\", \"artists\": [\"The Black Keys\"], \"album\": \"Delta Kream\", \"duration_ms\": 228972, \"explicit\": false, \"popularity\": 36}, {\"id\": \"4PTfrK6IhnTOd7SRpH17EK\", \"uri\": \"spotify:track:4PTfrK6IhnTOd7SRpH17EK\", \"name\": \"Find a Way\", \"artists\": [\"Robert Randolph & The Family Band\"], \"album\": \"Got Soul\", \"duration_ms\": 236786, \"explicit\": false, \"popularity\": 31}, {\"id\": \"3Zm5SMUA3JH98Aty7Zc0xr\", \"uri\": \"spotify:track:3Zm5SMUA3JH98Aty7Zc0xr\", \"name\": \"Kiss This\", \"artists\": [\"The Struts\"], \"album\": \"Everybody Wants\", \"duration_ms\": 177840, \"explicit\": false, \"popularity\": 53}, {\"id\": \"11SXMhxJZPCcS5JWIwWuIX\", \"uri\": \"spotify:track:11SXMhxJZPCcS5JWIwWuIX\", \"name\": \"Rita Mae Young\", \"artists\": [\"The Record Company\"], \"album\": \"Give It Back To You\", \"duration_ms\": 261120, \"explicit\": false, \"popularity\": 44}, {\"id\": \"7IfskrsLpZhR3IdFqcLPzB\", \"uri\": \"spotify:track:7IfskrsLpZhR3IdFqcLPzB\", \"name\": \"Picturing Love\", \"artists\": [\"July Talk\"], \"album\": \"Touch\", \"duration_ms\": 215000, \"explicit\": false, \"popularity\": 30}, {\"id\": \"7MjRtWS2teufvOiMM0BARZ\", \"uri\": \"spotify:track:7MjRtWS2teufvOiMM0BARZ\", \"name\": \"Nearly Forgot My Broken Heart\", \"artists\": [\"Chris Cornell\"], \"album\": \"Higher Truth\", \"duration_ms\": 234426, \"explicit\": false, \"popularity\": 55}, {\"id\": \"4qtNNM21rJ94TSmVMCWfit\", \"uri\": \"spotify:track:4qtNNM21rJ94TSmVMCWfit\", \"name\": \"On My Way\", \"artists\": [\"Sons Of The East\"], \"album\": \"Palomar Parade\", \"duration_ms\": 211579, \"explicit\": false, \"popularity\": 50}, {\"id\": \"6fAJL7dFFaAlRgrmXKvctr\", \"uri\": \"spotify:track:6fAJL7dFFaAlRgrmXKvctr\", \"name\": \"The Good Life\", \"artists\": [\"The Bones of J.R. Jones\"], \"album\": \"Slow Lightning\", \"duration_ms\": 238186, \"explicit\": false, \"popularity\": 28}, {\"id\": \"0i5QVxsK3IvEDbUjTA64Li\", \"uri\": \"spotify:track:0i5QVxsK3IvEDbUjTA64Li\", \"name\": \"Silver Lining\", \"artists\": [\"Mt. Joy\"], \"album\": \"Mt. Joy\", \"duration_ms\": 198600, \"explicit\": false, \"popularity\": 33}, {\"id\": \"5k5z54qOiDgsx0As3xY74s\", \"uri\": \"spotify:track:5k5z54qOiDgsx0As3xY74s\", \"name\": \"Pistol Made of Bones\", \"artists\": [\"The Arcs\"], \"album\": \"Yours, Dreamily,\", \"duration_ms\": 202960, \"explicit\": false, \"popularity\": 35}, {\"id\": \"6FR7CxgunBBN1jYJxsX8uZ\", \"uri\": \"spotify:track:6FR7CxgunBBN1jYJxsX8uZ\", \"name\": \"Bad Things\", \"artists\": [\"Rayland Baxter\"], \"album\": \"Ashkelon\", \"duration_ms\": 313867, \"explicit\": false, \"popularity\": 42}, {\"id\": \"0yc6Gst2xkRu0eMLeRMGCX\", \"uri\": \"spotify:track:0yc6Gst2xkRu0eMLeRMGCX\", \"name\": \"Apocalypse\", \"artists\": [\"Cigarettes After Sex\"], \"album\": \"Cigarettes After Sex\", \"duration_ms\": 290616, \"explicit\": false, \"popularity\": 87}, {\"id\": \"6JmSfynzr6E0QllQZNEXEb\", \"uri\": \"spotify:track:6JmSfynzr6E0QllQZNEXEb\", \"name\": \"Angel of Small Death and the Codeine Scene\", \"artists\": [\"Hozier\"], \"album\": \"Hozier (Expanded Edition)\", \"duration_ms\": 219213, \"explicit\": false, \"popularity\": 63}, {\"id\": \"4rhUBIlzi7zgV7TryhVujl\", \"uri\": \"spotify:track:4rhUBIlzi7zgV7TryhVujl\", \"name\": \"Edge Of Darkness\", \"artists\": [\"Greta Van Fleet\"], \"album\": \"From The Fires\", \"duration_ms\": 268400, \"explicit\": false, \"popularity\": 54}, {\"id\": \"2ZMI0QNoqU9fQZFirR9WpK\", \"uri\": \"spotify:track:2ZMI0QNoqU9fQZFirR9WpK\", \"name\": \"When The Curtain Falls\", \"artists\": [\"Greta Van Fleet\"], \"album\": \"Anthem Of The Peaceful Army\", \"duration_ms\": 222960, \"explicit\": false, \"popularity\": 55}, {\"id\": \"0ntQJM78wzOLVeCUAW7Y45\", \"uri\": \"spotify:track:0ntQJM78wzOLVeCUAW7Y45\", \"name\": \"Sex on Fire\", \"artists\": [\"Kings of Leon\"], \"album\": \"Only By The Night\", \"duration_ms\": 203346, \"explicit\": false, \"popularity\": 82}, {\"id\": \"5VGlqQANWDKJFl0MBG3sg2\", \"uri\": \"spotify:track:5VGlqQANWDKJFl0MBG3sg2\", \"name\": \"Use Somebody\", \"artists\": [\"Kings of Leon\"], \"album\": \"Only By The Night\", \"duration_ms\": 230760, \"explicit\": false, \"popularity\": 76}, {\"id\": \"3kdMzXOcrDIdSWLdONHNK5\", \"uri\": \"spotify:track:3kdMzXOcrDIdSWLdONHNK5\", \"name\": \"The Sky Is A Neighborhood\", \"artists\": [\"Foo Fighters\"], \"album\": \"Concrete and Gold\", \"duration_ms\": 244573, \"explicit\": false, \"popularity\": 58}, {\"id\": \"3omXshBamrREltcf24gYDC\", \"uri\": \"spotify:track:3omXshBamrREltcf24gYDC\", \"name\": \"First\", \"artists\": [\"Cold War Kids\"], \"album\": \"Hold My Home\", \"duration_ms\": 200360, \"explicit\": false, \"popularity\": 66}, {\"id\": \"5iItYl3Q6wCnKVfpK1uNVf\", \"uri\": \"spotify:track:5iItYl3Q6wCnKVfpK1uNVf\", \"name\": \"The Suburbs\", \"artists\": [\"Arcade Fire\"], \"album\": \"The Suburbs (Deluxe)\", \"duration_ms\": 315026, \"explicit\": false, \"popularity\": 61}, {\"id\": \"1YzIpqwnj5M8qylwn1Tr9Z\", \"uri\": \"spotify:track:1YzIpqwnj5M8qylwn1Tr9Z\", \"name\": \"Keep The Wolves Away\", \"artists\": [\"Uncle Lucius\"], \"album\": \"And You Are Me\", \"duration_ms\": 275520, \"explicit\": false, \"popularity\": 72}, {\"id\": \"6Hmj7SrLRbreLVfVS7mV1S\", \"uri\": \"spotify:track:6Hmj7SrLRbreLVfVS7mV1S\", \"name\": \"Wake Up\", \"artists\": [\"Arcade Fire\"], \"album\": \"Funeral\", \"duration_ms\": 335333, \"explicit\": false, \"popularity\": 60}, {\"id\": \"4JFet0crxTPHFV2n1ZqZKV\", \"uri\": \"spotify:track:4JFet0crxTPHFV2n1ZqZKV\", \"name\": \"Burning\", \"artists\": [\"Yeah Yeah Yeahs\"], \"album\": \"Cool It Down\", \"duration_ms\": 245120, \"explicit\": false, \"popularity\": 50}, {\"id\": \"1CS7Sd1u5tWkstBhpssyjP\", \"uri\": \"spotify:track:1CS7Sd1u5tWkstBhpssyjP\", \"name\": \"Take Me to Church\", \"artists\": [\"Hozier\"], \"album\": \"Hozier (Expanded Edition)\", \"duration_ms\": 241693, \"explicit\": false, \"popularity\": 79}, {\"id\": \"32BEasyNQgqXQJKoVa0fUw\", \"uri\": \"spotify:track:32BEasyNQgqXQJKoVa0fUw\", \"name\": \"Black Smoke Rising\", \"artists\": [\"Greta Van Fleet\"], \"album\": \"From The Fires\", \"duration_ms\": 259893, \"explicit\": false, \"popularity\": 62}, {\"id\": \"0O2SYh5AZ0y8MAPOVC4Mxz\", \"uri\": \"spotify:track:0O2SYh5AZ0y8MAPOVC4Mxz\", \"name\": \"Ball and Biscuit\", \"artists\": [\"The White Stripes\"], \"album\": \"Elephant\", \"duration_ms\": 438551, \"explicit\": false, \"popularity\": 51}, {\"id\": \"12YYFvwwuYiw010ONgfYlW\", \"uri\": \"spotify:track:12YYFvwwuYiw010ONgfYlW\", \"name\": \"A Change Is Gonna Come\", \"artists\": [\"Greta Van Fleet\"], \"album\": \"From The Fires\", \"duration_ms\": 197080, \"explicit\": false, \"popularity\": 53}, {\"id\": \"0zlaa4AmbFE7MVDijsyD9Q\", \"uri\": \"spotify:track:0zlaa4AmbFE7MVDijsyD9Q\", \"name\": \"Heat Above\", \"artists\": [\"Greta Van Fleet\"], \"album\": \"The Battle at Garden’s Gate\", \"duration_ms\": 341255, \"explicit\": false, \"popularity\": 60}, {\"id\": \"07p7PALHp6ZcD5tmlbO94N\", \"uri\": \"spotify:track:07p7PALHp6ZcD5tmlbO94N\", \"name\": \"Stardust Chords\", \"artists\": [\"Greta Van Fleet\"], \"album\": \"The Battle at Garden’s Gate\", \"duration_ms\": 297489, \"explicit\": false, \"popularity\": 51}, {\"id\": \"1IhnbJZ7FywEL7YCyLKDgv\", \"uri\": \"spotify:track:1IhnbJZ7FywEL7YCyLKDgv\", \"name\": \"Cold Desert\", \"artists\": [\"Kings of Leon\"], \"album\": \"Only By The Night\", \"duration_ms\": 334706, \"explicit\": false, \"popularity\": 47}, {\"id\": \"0VjIjW4GlUZAMYd2vXMi3b\", \"uri\": \"spotify:track:0VjIjW4GlUZAMYd2vXMi3b\", \"name\": \"Blinding Lights\", \"artists\": [\"The Weeknd\"], \"album\": \"After Hours\", \"duration_ms\": 200040, \"explicit\": false, \"popularity\": 87}, {\"id\": \"51cFoZgKkZJhQa9iHy0EcD\", \"uri\": \"spotify:track:51cFoZgKkZJhQa9iHy0EcD\", \"name\": \"Talk to Me\", \"artists\": [\"The Record Company\"], \"album\": \"Talk to Me\", \"duration_ms\": 242576, \"explicit\": false, \"popularity\": 26}, {\"id\": \"78QqHqG4VAorNST1N45wAb\", \"uri\": \"spotify:track:78QqHqG4VAorNST1N45wAb\", \"name\": \"I’m Getting Better (And I’m Feeling It Right Now)\", \"artists\": [\"The Record Company\"], \"album\": \"All Of This Life\", \"duration_ms\": 195480, \"explicit\": false, \"popularity\": 29}, {\"id\": \"1iZcrUgzStiMKTgsdSeuLO\", \"uri\": \"spotify:track:1iZcrUgzStiMKTgsdSeuLO\", \"name\": \"Goodbye To The Hard Life\", \"artists\": [\"The Record Company\"], \"album\": \"All Of This Life\", \"duration_ms\": 252160, \"explicit\": false, \"popularity\": 14}, {\"id\": \"4Tw7K0152qOkG48fuOF0V6\", \"uri\": \"spotify:track:4Tw7K0152qOkG48fuOF0V6\", \"name\": \"You And Me Now\", \"artists\": [\"The Record Company\"], \"album\": \"All Of This Life\", \"duration_ms\": 354573, \"explicit\": false, \"popularity\": 24}, {\"id\": \"319zpJMCzpz50Uz0PsjlJN\", \"uri\": \"spotify:track:319zpJMCzpz50Uz0PsjlJN\", \"name\": \"I Got Mine\", \"artists\": [\"The Black Keys\"], \"album\": \"Attack & Release\", \"duration_ms\": 239146, \"explicit\": false, \"popularity\": 51}, {\"id\": \"6m8QC3Gs7MAQJDQdFGjdme\", \"uri\": \"spotify:track:6m8QC3Gs7MAQJDQdFGjdme\", \"name\": \"Make Me Feel Alright\", \"artists\": [\"Robert Finley\"], \"album\": \"Sharecropper's Son\", \"duration_ms\": 223706, \"explicit\": false, \"popularity\": 28}, {\"id\": \"6kopmMZiyLmw7h66uXcXR7\", \"uri\": \"spotify:track:6kopmMZiyLmw7h66uXcXR7\", \"name\": \"Valerie (feat. Amy Winehouse) - Version Revisited\", \"artists\": [\"Mark Ronson\", \"Amy Winehouse\"], \"album\": \"Version\", \"duration_ms\": 219413, \"explicit\": false, \"popularity\": 80}, {\"id\": \"7uuWlqHI41LkdXn4pcqI1h\", \"uri\": \"spotify:track:7uuWlqHI41LkdXn4pcqI1h\", \"name\": \"Speak of the Devil\", \"artists\": [\"Black Pistol Fire\"], \"album\": \"Deadbeat Graffiti\", \"duration_ms\": 299400, \"explicit\": false, \"popularity\": 36}, {\"id\": \"6nWLyTkbR9xsmmY1jioPTV\", \"uri\": \"spotify:track:6nWLyTkbR9xsmmY1jioPTV\", \"name\": \"Every Chance I Get (I Want You In The Flesh)\", \"artists\": [\"Dan Auerbach\"], \"album\": \"Every Chance I Get (I Want You In The Flesh)\", \"duration_ms\": 248004, \"explicit\": false, \"popularity\": 41}, {\"id\": \"4xXglb2SBiHnqPMQiItlrG\", \"uri\": \"spotify:track:4xXglb2SBiHnqPMQiItlrG\", \"name\": \"Let Loose\", \"artists\": [\"Mt. Joy\"], \"album\": \"Rearrange Us\", \"duration_ms\": 221946, \"explicit\": false, \"popularity\": 15}, {\"id\": \"7daWU6T6qzj6W2e8wVDg3D\", \"uri\": \"spotify:track:7daWU6T6qzj6W2e8wVDg3D\", \"name\": \"Thousand Mile Night\", \"artists\": [\"Jonah Tolchin\"], \"album\": \"Thousand Mile Night\", \"duration_ms\": 233173, \"explicit\": false, \"popularity\": 36}, {\"id\": \"4c7iXNRiy72rMXfRTR9V0V\", \"uri\": \"spotify:track:4c7iXNRiy72rMXfRTR9V0V\", \"name\": \"On The Game\", \"artists\": [\"The Black Keys\"], \"album\": \"Ohio Players\", \"duration_ms\": 242838, \"explicit\": false, \"popularity\": 48}, {\"id\": \"3PGowEqdhqHBbzlO90NaXB\", \"uri\": \"spotify:track:3PGowEqdhqHBbzlO90NaXB\", \"name\": \"I Found Heaven (In My Darkest Days)\", \"artists\": [\"The Record Company\"], \"album\": \"The 4th Album\", \"duration_ms\": 304821, \"explicit\": false, \"popularity\": 20}, {\"id\": \"2cgQvJIxwZrUJpWw5D8Fo4\", \"uri\": \"spotify:track:2cgQvJIxwZrUJpWw5D8Fo4\", \"name\": \"Goodbye Yellow Brick Road\", \"artists\": [\"Yola\"], \"album\": \"Walk Through Fire (Deluxe Edition)\", \"duration_ms\": 204117, \"explicit\": false, \"popularity\": 42}, {\"id\": \"6jXwOrrBoutMICNxckeDNQ\", \"uri\": \"spotify:track:6jXwOrrBoutMICNxckeDNQ\", \"name\": \"Meeting The Master\", \"artists\": [\"Greta Van Fleet\"], \"album\": \"Starcatcher\", \"duration_ms\": 312084, \"explicit\": false, \"popularity\": 52}, {\"id\": \"5fb0p81SAZBkZEvmLAfGKz\", \"uri\": \"spotify:track:5fb0p81SAZBkZEvmLAfGKz\", \"name\": \"Smooth Sailing\", \"artists\": [\"Queens of the Stone Age\"], \"album\": \"...Like Clockwork\", \"duration_ms\": 291400, \"explicit\": true, \"popularity\": 50}, {\"id\": \"2VprRdTmbgyjXnDzHIcfNl\", \"uri\": \"spotify:track:2VprRdTmbgyjXnDzHIcfNl\", \"name\": \"Rolling In The Deep - Recorded At Spotify Studios NYC\", \"artists\": [\"Greta Van Fleet\"], \"album\": \"Spotify Singles\", \"duration_ms\": 237653, \"explicit\": false, \"popularity\": 52}, {\"id\": \"3lOok0REf4j3790abX26PR\", \"uri\": \"spotify:track:3lOok0REf4j3790abX26PR\", \"name\": \"Do You Feel It?\", \"artists\": [\"Chaos Chaos\"], \"album\": \"Committed to the Crime\", \"duration_ms\": 250712, \"explicit\": false, \"popularity\": 54}, {\"id\": \"5cjaDxaXyRlxGgGjRlte7m\", \"uri\": \"spotify:track:5cjaDxaXyRlxGgGjRlte7m\", \"name\": \"Daydream In Blue\", \"artists\": [\"I Monster\"], \"album\": \"Neveroddoreven\", \"duration_ms\": 223666, \"explicit\": false, \"popularity\": 60}, {\"id\": \"0uGSkZ9yfiyh5Z0Z97zhwd\", \"uri\": \"spotify:track:0uGSkZ9yfiyh5Z0Z97zhwd\", \"name\": \"Sacred The Thread\", \"artists\": [\"Greta Van Fleet\"], \"album\": \"Starcatcher\", \"duration_ms\": 321710, \"explicit\": false, \"popularity\": 42}, {\"id\": \"0clyiEoEGDH8vGP7QRdS70\", \"uri\": \"spotify:track:0clyiEoEGDH8vGP7QRdS70\", \"name\": \"Turn Me Loose\", \"artists\": [\"The Record Company\"], \"album\": \"Give It Back To You\", \"duration_ms\": 200546, \"explicit\": false, \"popularity\": 45}, {\"id\": \"6ckUX8cgcqjoNGTd2A2Pvd\", \"uri\": \"spotify:track:6ckUX8cgcqjoNGTd2A2Pvd\", \"name\": \"Always Alright\", \"artists\": [\"Alabama Shakes\"], \"album\": \"Always Alright\", \"duration_ms\": 249169, \"explicit\": true, \"popularity\": 57}, {\"id\": \"6d4FWjx72iuRWzn1HwywLK\", \"uri\": \"spotify:track:6d4FWjx72iuRWzn1HwywLK\", \"name\": \"Colors\", \"artists\": [\"Black Pumas\"], \"album\": \"Black Pumas\", \"duration_ms\": 246586, \"explicit\": false, \"popularity\": 64}, {\"id\": \"6r5HyhBuTlCWgvxz8hKvJ9\", \"uri\": \"spotify:track:6r5HyhBuTlCWgvxz8hKvJ9\", \"name\": \"This Crooked City\", \"artists\": [\"The Record Company\"], \"album\": \"Give It Back To You\", \"duration_ms\": 274306, \"explicit\": false, \"popularity\": 24}, {\"id\": \"6NL8rMMfoTLJacdIB60xuw\", \"uri\": \"spotify:track:6NL8rMMfoTLJacdIB60xuw\", \"name\": \"Memphis Sun\", \"artists\": [\"Rival Sons\"], \"album\": \"Before the Fire\", \"duration_ms\": 230240, \"explicit\": false, \"popularity\": 33}, {\"id\": \"4yzozDNjvW7acuGonXwfvA\", \"uri\": \"spotify:track:4yzozDNjvW7acuGonXwfvA\", \"name\": \"The Vampyre of Time and Memory\", \"artists\": [\"Queens of the Stone Age\"], \"album\": \"...Like Clockwork\", \"duration_ms\": 214586, \"explicit\": false, \"popularity\": 51}, {\"id\": \"6bNKaxRx9rmad2DJMX6vUa\", \"uri\": \"spotify:track:6bNKaxRx9rmad2DJMX6vUa\", \"name\": \"Hound Dog\", \"artists\": [\"The Record Company\"], \"album\": \"Hound Dog\", \"duration_ms\": 199000, \"explicit\": false, \"popularity\": 22}, {\"id\": \"3KovbvpV7cqIw4gg2CihPu\", \"uri\": \"spotify:track:3KovbvpV7cqIw4gg2CihPu\", \"name\": \"I Ain't The Same\", \"artists\": [\"Alabama Shakes\"], \"album\": \"Boys & Girls\", \"duration_ms\": 175800, \"explicit\": false, \"popularity\": 41}, {\"id\": \"4iu49FeQQGiUh2Dn1A8qCl\", \"uri\": \"spotify:track:4iu49FeQQGiUh2Dn1A8qCl\", \"name\": \"Don't Owe You a Thang\", \"artists\": [\"Gary Clark Jr.\"], \"album\": \"The Bright Lights EP\", \"duration_ms\": 215866, \"explicit\": false, \"popularity\": 48}, {\"id\": \"40hHmaHKIzNRT166MjNV0q\", \"uri\": \"spotify:track:40hHmaHKIzNRT166MjNV0q\", \"name\": \"Where You Been Before\", \"artists\": [\"Black Pistol Fire\"], \"album\": \"Black Pistol Fire\", \"duration_ms\": 229784, \"explicit\": false, \"popularity\": 32}, {\"id\": \"2C4jYVZId6mxISa3HrBvGM\", \"uri\": \"spotify:track:2C4jYVZId6mxISa3HrBvGM\", \"name\": \"Skinny\", \"artists\": [\"KALEO\"], \"album\": \"Surface Sounds\", \"duration_ms\": 222316, \"explicit\": true, \"popularity\": 51}, {\"id\": \"17phhZDn6oGtzMe56NuWvj\", \"uri\": \"spotify:track:17phhZDn6oGtzMe56NuWvj\", \"name\": \"Lose Control\", \"artists\": [\"Teddy Swims\"], \"album\": \"I've Tried Everything But Therapy (Part 1)\", \"duration_ms\": 210688, \"explicit\": false, \"popularity\": 89}, {\"id\": \"08V2nQqzQGvAV5e0W0zRfr\", \"uri\": \"spotify:track:08V2nQqzQGvAV5e0W0zRfr\", \"name\": \"Glory Box\", \"artists\": [\"John Martyn\"], \"album\": \"The Church With One Bell\", \"duration_ms\": 344840, \"explicit\": false, \"popularity\": 45}, {\"id\": \"1MJDGqfcYX9ZGmFyYYDpGx\", \"uri\": \"spotify:track:1MJDGqfcYX9ZGmFyYYDpGx\", \"name\": \"History Repeating - Knee Length Mix\", \"artists\": [\"Propellerheads\", \"Shirley Bassey\"], \"album\": \"History Repeating\", \"duration_ms\": 244200, \"explicit\": false, \"popularity\": 17}, {\"id\": \"6IY3cC281mz9q0bViUEldz\", \"uri\": \"spotify:track:6IY3cC281mz9q0bViUEldz\", \"name\": \"It's A Trip!\", \"artists\": [\"Joywave\"], \"album\": \"Content\", \"duration_ms\": 183524, \"explicit\": false, \"popularity\": 55}, {\"id\": \"7apxI2PH7Jgf2gkfDFy5DV\", \"uri\": \"spotify:track:7apxI2PH7Jgf2gkfDFy5DV\", \"name\": \"Quite Contrary\", \"artists\": [\"Parker Millsap\"], \"album\": \"Parker Millsap\", \"duration_ms\": 288173, \"explicit\": false, \"popularity\": 29}]}\n"
     ]
    }
   ],
   "source": [
    "track_list_tool_message.pretty_print()"
   ]
  },
  {
   "cell_type": "code",
   "execution_count": null,
   "metadata": {},
   "outputs": [],
   "source": [
    "# json.loads(track_list_tool_message.content)"
   ]
  },
  {
   "cell_type": "markdown",
   "metadata": {},
   "source": [
    "# Add Tool message containing playlist tracks to list of messages"
   ]
  },
  {
   "cell_type": "code",
   "execution_count": 25,
   "metadata": {},
   "outputs": [
    {
     "data": {
      "text/plain": [
       "[HumanMessage(content=\"\\nCreate and execute a step-by-step plan with atomic tasks to solve the following problem:\\n\\n**Objective:** Build a Spotify playlist with tracks that have the same vibe and genres as my 'New Rock and Blues' playlist, following the rules below.\\n\\n**Rules:**\\n\\n1. **For each artist in the 'New Rock and Blues' playlist, find 3-4 artists of the similar music style**\\n\\n2 .**Exclude Artists that are part of the  'New Rock and Blues' Playlist:**\\n\\n3. **Focus on Post-2010 Success:** Only include tracks from artists who achieved success after the year 2010.\\n\\n4. **Minimum Number of New Artists:** Include tracks from at least 40 different artists not present in the 'New Rock and Blues' playlist.\\n\\n5. **For each new artist, use your Knowledge Base to recommend 3-4 tracks that match the vibe and genres.\\n\\n6. **Arrange for Smooth Listening Experience:** Organize the tracks to create a smooth listening experience, considering tempo, energy, and mood, using best practices.\\n\\n7. **Playlist Length:** Ensure the new playlist contains at least 100 tracks.\\n\\n**Instructions:**\\n\\n- Follow the rules strictly to meet the objective.\\n- Every step must have a single atomic action and outcome\\n- Prefer using a tool if available instead of your Knowledge Base\\n- clearly state at all times what step you are working on\\n- Step(s) should be repeated any number of times to achieve the desired outcome.\\n- Do not ask for user confirmation\\n\", additional_kwargs={}, response_metadata={}),\n",
       " AIMessage(content='', additional_kwargs={'tool_calls': [{'id': 'call_QDZiF7kTB8o6XzN5kYRFdRv3', 'function': {'arguments': '{\"plan\":{\"steps\":[{\"name\":\"get_new_rock_and_blues_playlist\",\"description\":\"Retrieve the \\'New Rock and Blues\\' playlist to understand the existing artists and tracks.\",\"success_criteria\":\"Successfully retrieved the \\'New Rock and Blues\\' playlist and identified the artists and tracks within it.\",\"tools\":[\"functions.get_playlists\"]},{\"name\":\"find_3_4_similar_artists\",\"description\":\"For each artist in the \\'New Rock and Blues\\' playlist, use the knowledge base to find 3-4 artists of similar music style not present in the playlist.\",\"success_criteria\":\"Identified 3-4 similar artists for each artist in the \\'New Rock and Blues\\' playlist, excluding those already present in the playlist.\",\"tools\":[]},{\"name\":\"exclude_existing_artists\",\"description\":\"Exclude artists already present in the \\'New Rock and Blues\\' playlist from the new list of similar artists.\",\"success_criteria\":\"A list of similar artists is created, excluding those already present in the \\'New Rock and Blues\\' playlist.\",\"tools\":[\"functions.check_artists\"]},{\"name\":\"filter_post_2010_success\",\"description\":\"Filter the list of similar artists to include only those who achieved success post-2010.\",\"success_criteria\":\"Filtered list of artists who achieved success after 2010.\",\"tools\":[]},{\"name\":\"recommend_tracks_for_new_artists\",\"description\":\"For each new artist, recommend 3-4 tracks that match the vibe and genres from the knowledge base.\",\"success_criteria\":\"Recommended 3-4 tracks for each new artist that match the desired vibe and genres.\",\"tools\":[]},{\"name\":\"create_new_playlist\",\"description\":\"Create a new Spotify playlist for the recommended tracks.\",\"success_criteria\":\"Successfully created a new Spotify playlist with a given name and description.\",\"tools\":[\"functions.create_spotify_playlist\"]},{\"name\":\"add_tracks_to_playlist\",\"description\":\"Add the recommended tracks to the new Spotify playlist.\",\"success_criteria\":\"Successfully added at least 100 tracks from the recommended list to the new playlist.\",\"tools\":[\"functions.add_tracks_to_playlist\"]},{\"name\":\"arrange_for_smooth_listening\",\"description\":\"Organize the tracks in the new playlist to ensure a smooth listening experience by considering tempo, energy, and mood.\",\"success_criteria\":\"The tracks are organized in a manner that provides a smooth listening experience.\",\"tools\":[]}],\"Reasoning\":\"To build a Spotify playlist that matches the vibe and genre of an existing playlist, we need to systematically gather similar artists and their tracks while adhering to specific rules. The plan involves retrieving the existing playlist, finding similar artists, excluding specific artists, filtering based on success criteria, recommending tracks, and creating the playlist. Each step is designed to handle a single task, making it manageable and verifiable. Tools are used where applicable to automate and simplify processes.\"}}', 'name': 'validate_plan'}, 'type': 'function'}], 'refusal': None}, response_metadata={'token_usage': {'completion_tokens': 573, 'prompt_tokens': 1250, 'total_tokens': 1823, 'completion_tokens_details': {'accepted_prediction_tokens': 0, 'audio_tokens': 0, 'reasoning_tokens': 0, 'rejected_prediction_tokens': 0}, 'prompt_tokens_details': {'audio_tokens': 0, 'cached_tokens': 0}}, 'model_name': 'gpt-4o-2024-08-06', 'system_fingerprint': 'fp_45cf54deae', 'finish_reason': 'tool_calls', 'logprobs': None}, id='run-08b34360-426e-44bf-b963-bf03d2d39dfc-0', tool_calls=[{'name': 'validate_plan', 'args': {'plan': {'steps': [{'name': 'get_new_rock_and_blues_playlist', 'description': \"Retrieve the 'New Rock and Blues' playlist to understand the existing artists and tracks.\", 'success_criteria': \"Successfully retrieved the 'New Rock and Blues' playlist and identified the artists and tracks within it.\", 'tools': ['functions.get_playlists']}, {'name': 'find_3_4_similar_artists', 'description': \"For each artist in the 'New Rock and Blues' playlist, use the knowledge base to find 3-4 artists of similar music style not present in the playlist.\", 'success_criteria': \"Identified 3-4 similar artists for each artist in the 'New Rock and Blues' playlist, excluding those already present in the playlist.\", 'tools': []}, {'name': 'exclude_existing_artists', 'description': \"Exclude artists already present in the 'New Rock and Blues' playlist from the new list of similar artists.\", 'success_criteria': \"A list of similar artists is created, excluding those already present in the 'New Rock and Blues' playlist.\", 'tools': ['functions.check_artists']}, {'name': 'filter_post_2010_success', 'description': 'Filter the list of similar artists to include only those who achieved success post-2010.', 'success_criteria': 'Filtered list of artists who achieved success after 2010.', 'tools': []}, {'name': 'recommend_tracks_for_new_artists', 'description': 'For each new artist, recommend 3-4 tracks that match the vibe and genres from the knowledge base.', 'success_criteria': 'Recommended 3-4 tracks for each new artist that match the desired vibe and genres.', 'tools': []}, {'name': 'create_new_playlist', 'description': 'Create a new Spotify playlist for the recommended tracks.', 'success_criteria': 'Successfully created a new Spotify playlist with a given name and description.', 'tools': ['functions.create_spotify_playlist']}, {'name': 'add_tracks_to_playlist', 'description': 'Add the recommended tracks to the new Spotify playlist.', 'success_criteria': 'Successfully added at least 100 tracks from the recommended list to the new playlist.', 'tools': ['functions.add_tracks_to_playlist']}, {'name': 'arrange_for_smooth_listening', 'description': 'Organize the tracks in the new playlist to ensure a smooth listening experience by considering tempo, energy, and mood.', 'success_criteria': 'The tracks are organized in a manner that provides a smooth listening experience.', 'tools': []}], 'Reasoning': 'To build a Spotify playlist that matches the vibe and genre of an existing playlist, we need to systematically gather similar artists and their tracks while adhering to specific rules. The plan involves retrieving the existing playlist, finding similar artists, excluding specific artists, filtering based on success criteria, recommending tracks, and creating the playlist. Each step is designed to handle a single task, making it manageable and verifiable. Tools are used where applicable to automate and simplify processes.'}}, 'id': 'call_QDZiF7kTB8o6XzN5kYRFdRv3', 'type': 'tool_call'}], usage_metadata={'input_tokens': 1250, 'output_tokens': 573, 'total_tokens': 1823, 'input_token_details': {'audio': 0, 'cache_read': 0}, 'output_token_details': {'audio': 0, 'reasoning': 0}}),\n",
       " ToolMessage(content='true', name='validate_plan', tool_call_id='call_QDZiF7kTB8o6XzN5kYRFdRv3'),\n",
       " AIMessage(content=\"The plan to create a new Spotify playlist based on the 'New Rock and Blues' playlist has been validated. Here's the step-by-step plan:\\n\\n### Step 1: Retrieve the 'New Rock and Blues' Playlist\\n- **Objective:** Retrieve the 'New Rock and Blues' playlist to understand the existing artists and tracks.\\n- **Tools:** `functions.get_playlists`\\n- **Outcome:** Successfully retrieved the 'New Rock and Blues' playlist and identified the artists and tracks within it.\\n\\n### Step 2: Find 3-4 Similar Artists\\n- **Objective:** For each artist in the 'New Rock and Blues' playlist, use the knowledge base to find 3-4 artists of similar music style not present in the playlist.\\n- **Outcome:** Identified 3-4 similar artists for each artist in the 'New Rock and Blues' playlist, excluding those already present in the playlist.\\n\\n### Step 3: Exclude Existing Artists\\n- **Objective:** Exclude artists already present in the 'New Rock and Blues' playlist from the new list of similar artists.\\n- **Tools:** `functions.check_artists`\\n- **Outcome:** A list of similar artists is created, excluding those already present in the 'New Rock and Blues' playlist.\\n\\n### Step 4: Filter for Post-2010 Success\\n- **Objective:** Filter the list of similar artists to include only those who achieved success post-2010.\\n- **Outcome:** Filtered list of artists who achieved success after 2010.\\n\\n### Step 5: Recommend Tracks for New Artists\\n- **Objective:** For each new artist, recommend 3-4 tracks that match the vibe and genres from the knowledge base.\\n- **Outcome:** Recommended 3-4 tracks for each new artist that match the desired vibe and genres.\\n\\n### Step 6: Create New Playlist\\n- **Objective:** Create a new Spotify playlist for the recommended tracks.\\n- **Tools:** `functions.create_spotify_playlist`\\n- **Outcome:** Successfully created a new Spotify playlist with a given name and description.\\n\\n### Step 7: Add Tracks to Playlist\\n- **Objective:** Add the recommended tracks to the new Spotify playlist.\\n- **Tools:** `functions.add_tracks_to_playlist`\\n- **Outcome:** Successfully added at least 100 tracks from the recommended list to the new playlist.\\n\\n### Step 8: Arrange for Smooth Listening\\n- **Objective:** Organize the tracks in the new playlist to ensure a smooth listening experience by considering tempo, energy, and mood.\\n- **Outcome:** The tracks are organized in a manner that provides a smooth listening experience.\\n\\nLet's begin executing the plan, starting with Step 1 to retrieve the 'New Rock and Blues' playlist.\", additional_kwargs={'tool_calls': [{'id': 'call_DEhPZG9Tht7UTOh27WAnlNBh', 'function': {'arguments': '{}', 'name': 'get_playlists'}, 'type': 'function'}], 'refusal': None}, response_metadata={'token_usage': {'completion_tokens': 560, 'prompt_tokens': 1832, 'total_tokens': 2392, 'completion_tokens_details': {'accepted_prediction_tokens': 0, 'audio_tokens': 0, 'reasoning_tokens': 0, 'rejected_prediction_tokens': 0}, 'prompt_tokens_details': {'audio_tokens': 0, 'cached_tokens': 0}}, 'model_name': 'gpt-4o-2024-08-06', 'system_fingerprint': 'fp_45cf54deae', 'finish_reason': 'tool_calls', 'logprobs': None}, id='run-69047fe7-0353-4d3f-a31c-202d1ae255f4-0', tool_calls=[{'name': 'get_playlists', 'args': {}, 'id': 'call_DEhPZG9Tht7UTOh27WAnlNBh', 'type': 'tool_call'}], usage_metadata={'input_tokens': 1832, 'output_tokens': 560, 'total_tokens': 2392, 'input_token_details': {'audio': 0, 'cache_read': 0}, 'output_token_details': {'audio': 0, 'reasoning': 0}}),\n",
       " ToolMessage(content='{\"playlists\": [{\"id\": \"2dbYK5b7J0F7IdH5n1TEUK\", \"uri\": \"spotify:playlist:2dbYK5b7J0F7IdH5n1TEUK\", \"name\": \"RPreacher\", \"description\": \"\", \"owner\": \"Ray\", \"tracks_total\": 3, \"is_public\": true, \"collaborative\": false, \"snapshot_id\": \"AAAABG1lhIiRJT/NE9RpP4K6UnmZWixo\"}, {\"id\": \"4ack9YtUhdxRayJDAqlfQe\", \"uri\": \"spotify:playlist:4ack9YtUhdxRayJDAqlfQe\", \"name\": \"RP Bossa Nova Chill \", \"description\": \"\", \"owner\": \"Ray\", \"tracks_total\": 30, \"is_public\": true, \"collaborative\": false, \"snapshot_id\": \"AAAAIThdM9g/YPQwj7nuoHhewWyLoKEi\"}, {\"id\": \"75NW18NgdZuZeifrcjxKlZ\", \"uri\": \"spotify:playlist:75NW18NgdZuZeifrcjxKlZ\", \"name\": \"GVF\", \"description\": \"\", \"owner\": \"Ray\", \"tracks_total\": 11, \"is_public\": true, \"collaborative\": false, \"snapshot_id\": \"AAAADKZNV9h+cfi1PbOi6yjNHMe8mLWC\"}, {\"id\": \"5iyONtUO21O88xw8pBblwh\", \"uri\": \"spotify:playlist:5iyONtUO21O88xw8pBblwh\", \"name\": \"Now And Then\", \"description\": \"\", \"owner\": \"Ray\", \"tracks_total\": 7, \"is_public\": true, \"collaborative\": false, \"snapshot_id\": \"AAAACBkT0vD6HHtLpUO7hEOCzClgABvP\"}, {\"id\": \"4SDSUMg2HJcGFmHlupsU7U\", \"uri\": \"spotify:playlist:4SDSUMg2HJcGFmHlupsU7U\", \"name\": \"Jazz classics\", \"description\": \"\", \"owner\": \"Ray\", \"tracks_total\": 251, \"is_public\": true, \"collaborative\": false, \"snapshot_id\": \"AAAAA8p/xZVmAcTsRpsMlQtRepRFmbfo\"}, {\"id\": \"5fBxLG2wLAPVpx83402rHl\", \"uri\": \"spotify:playlist:5fBxLG2wLAPVpx83402rHl\", \"name\": \"Acdc\", \"description\": \"\", \"owner\": \"Ray\", \"tracks_total\": 26, \"is_public\": true, \"collaborative\": false, \"snapshot_id\": \"AAAAG+HaorntGV3LHad9bEcICDGFD56C\"}, {\"id\": \"17Yxm5hQbkbZwDcCTuiDXC\", \"uri\": \"spotify:playlist:17Yxm5hQbkbZwDcCTuiDXC\", \"name\": \"einaudi\", \"description\": \"\", \"owner\": \"Ray\", \"tracks_total\": 18, \"is_public\": true, \"collaborative\": false, \"snapshot_id\": \"AAAAF9qEdgDunVs0NC8jBUoE/CdMF7jq\"}, {\"id\": \"2X6GccWfIqPWO6VYx405nO\", \"uri\": \"spotify:playlist:2X6GccWfIqPWO6VYx405nO\", \"name\": \"Eric Clapton Blues\", \"description\": \"\", \"owner\": \"Ray\", \"tracks_total\": 24, \"is_public\": true, \"collaborative\": false, \"snapshot_id\": \"AAAAH4q+4xxgg62OXnIHbsNVZPC1LL1Q\"}, {\"id\": \"3smVXe8y8w8nt4lFH0HBkW\", \"uri\": \"spotify:playlist:3smVXe8y8w8nt4lFH0HBkW\", \"name\": \"Alchemy: Dire Straits\", \"description\": \"\", \"owner\": \"Ray\", \"tracks_total\": 10, \"is_public\": true, \"collaborative\": false, \"snapshot_id\": \"AAAAD45w+Oq6Z1xq7iMwF6iFkfWoT87p\"}, {\"id\": \"2ifRZBXnX7UmIPUlGet5WZ\", \"uri\": \"spotify:playlist:2ifRZBXnX7UmIPUlGet5WZ\", \"name\": \"Blues\", \"description\": \"\", \"owner\": \"Ray\", \"tracks_total\": 67, \"is_public\": true, \"collaborative\": false, \"snapshot_id\": \"AAAAVVh4N/reGLwCIcv89XjeUDHPPeAQ\"}, {\"id\": \"5nn2ePtd9gYEEDL3XnACCB\", \"uri\": \"spotify:playlist:5nn2ePtd9gYEEDL3XnACCB\", \"name\": \"brazil\", \"description\": \"\", \"owner\": \"Ray\", \"tracks_total\": 62, \"is_public\": true, \"collaborative\": false, \"snapshot_id\": \"AAAAV9cqXazKhP9K8MYZTPAqS7yFP1hq\"}, {\"id\": \"6YAntoKNXuogPKdV26b6XE\", \"uri\": \"spotify:playlist:6YAntoKNXuogPKdV26b6XE\", \"name\": \"CCR\", \"description\": \"\", \"owner\": \"Ray\", \"tracks_total\": 17, \"is_public\": true, \"collaborative\": false, \"snapshot_id\": \"AAAAEw4Fg6uyrf9reMIEnkNruUB2nRbg\"}, {\"id\": \"2VHkZvOMCkLF3B7TsKerKD\", \"uri\": \"spotify:playlist:2VHkZvOMCkLF3B7TsKerKD\", \"name\": \"Chill\", \"description\": \"\", \"owner\": \"Ray\", \"tracks_total\": 53, \"is_public\": true, \"collaborative\": false, \"snapshot_id\": \"AAAAOhAKCSjCgKZOV6OTiSZohe9Isj7C\"}, {\"id\": \"508lbLx9XUkHv5Xb45hxTP\", \"uri\": \"spotify:playlist:508lbLx9XUkHv5Xb45hxTP\", \"name\": \"Classic Rock\", \"description\": \"\", \"owner\": \"Ray\", \"tracks_total\": 306, \"is_public\": true, \"collaborative\": false, \"snapshot_id\": \"AAABRtPd9z/BoPLPCUOJBrUyXci7+r1n\"}, {\"id\": \"7zzDMq1sPwkZPYeqOQJ9qS\", \"uri\": \"spotify:playlist:7zzDMq1sPwkZPYeqOQJ9qS\", \"name\": \"The New Four Seasons - Vivaldi Recomposed\", \"description\": \"\", \"owner\": \"Ray\", \"tracks_total\": 13, \"is_public\": true, \"collaborative\": false, \"snapshot_id\": \"AAAAAsi2q+bxREAMmVWVTWHt10bpB6fa\"}, {\"id\": \"4l8WcaYlPkuVPXVGxMIca3\", \"uri\": \"spotify:playlist:4l8WcaYlPkuVPXVGxMIca3\", \"name\": \"New Study\", \"description\": \"\", \"owner\": \"Ray\", \"tracks_total\": 11, \"is_public\": true, \"collaborative\": false, \"snapshot_id\": \"AAAAEL23paVLvTGrRFTKquh+DNiGzrt7\"}, {\"id\": \"0Wr2Z9vroQ9IXKaokFHldt\", \"uri\": \"spotify:playlist:0Wr2Z9vroQ9IXKaokFHldt\", \"name\": \"Islands - Essential Einaudi (Deluxe Version)\", \"description\": \"\", \"owner\": \"Ray\", \"tracks_total\": 27, \"is_public\": true, \"collaborative\": false, \"snapshot_id\": \"AAAAAmPd/R11xxXnmQE5LY4VHJOmc2Si\"}, {\"id\": \"780Yx65yiaLtBYM76neBYC\", \"uri\": \"spotify:playlist:780Yx65yiaLtBYM76neBYC\", \"name\": \"Gioachino Rossini – Rossini: Overtures\", \"description\": \"\", \"owner\": \"Ray\", \"tracks_total\": 8, \"is_public\": true, \"collaborative\": false, \"snapshot_id\": \"AAAAAk/j3UaxYxxJ2E3uDuvkTHY7CyA3\"}, {\"id\": \"76rUGmzqh1OhyheEOUDYNp\", \"uri\": \"spotify:playlist:76rUGmzqh1OhyheEOUDYNp\", \"name\": \"Frédéric Chopin – Chopin: Nocturnes\", \"description\": \"\", \"owner\": \"Ray\", \"tracks_total\": 19, \"is_public\": true, \"collaborative\": false, \"snapshot_id\": \"AAAAAojQZUHMvW1fqFvaPCPZw651RTcR\"}, {\"id\": \"5qcHJodVJd8AEOT2cCvxEm\", \"uri\": \"spotify:playlist:5qcHJodVJd8AEOT2cCvxEm\", \"name\": \"Frédéric Chopin – Chopin: Nocturnes - Sony Classical Originals 2\", \"description\": \"\", \"owner\": \"Ray\", \"tracks_total\": 19, \"is_public\": true, \"collaborative\": false, \"snapshot_id\": \"AAAAAosFti6TgoD7O3TfPlfPiFc7yKj2\"}, {\"id\": \"7hr9yYAJLXDoJ5sKBhm8Af\", \"uri\": \"spotify:playlist:7hr9yYAJLXDoJ5sKBhm8Af\", \"name\": \"Antonio Vivaldi – Vivaldi: Guitar Concertos\", \"description\": \"\", \"owner\": \"Ray\", \"tracks_total\": 15, \"is_public\": true, \"collaborative\": false, \"snapshot_id\": \"AAAAAq5lTrQQYp3SUTtJrmlIdHbyh5CZ\"}, {\"id\": \"4ruyjAXs6VHU8ZYJqXsUiN\", \"uri\": \"spotify:playlist:4ruyjAXs6VHU8ZYJqXsUiN\", \"name\": \"Sergei Rachmaninoff – Rachmaninoff Plays Rachmaninoff: Concertos Nos. 2 and 3\", \"description\": \"\", \"owner\": \"Ray\", \"tracks_total\": 6, \"is_public\": true, \"collaborative\": false, \"snapshot_id\": \"AAAAAnd4DV7yCmI2VX7w0BB64um7bJem\"}, {\"id\": \"4GYOeGfC7fSephEi3UYh0W\", \"uri\": \"spotify:playlist:4GYOeGfC7fSephEi3UYh0W\", \"name\": \"Erik Satie – Satie: Gymnopédies, Gnossiennes & Other Works\", \"description\": \"\", \"owner\": \"Ray\", \"tracks_total\": 27, \"is_public\": true, \"collaborative\": false, \"snapshot_id\": \"AAAAAnslTVllUSPnBdYh2FMu1DtFAzVs\"}, {\"id\": \"2lop6NfhiYA07UzhWUCyc2\", \"uri\": \"spotify:playlist:2lop6NfhiYA07UzhWUCyc2\", \"name\": \"Classical Masters\", \"description\": \"\", \"owner\": \"Ray\", \"tracks_total\": 29, \"is_public\": true, \"collaborative\": false, \"snapshot_id\": \"AAAAIv8IPFeim0+gMauDLlofBPiDknYa\"}, {\"id\": \"2RUN05cfOlR09kJUvTAEPk\", \"uri\": \"spotify:playlist:2RUN05cfOlR09kJUvTAEPk\", \"name\": \"Evil Woman\", \"description\": \"\", \"owner\": \"Ray\", \"tracks_total\": 11, \"is_public\": true, \"collaborative\": false, \"snapshot_id\": \"AAAADYR9TeZBCOAQTx+qJaL78t/qalhZ\"}, {\"id\": \"3DEKSWlDt8Qors1NpYLXwt\", \"uri\": \"spotify:playlist:3DEKSWlDt8Qors1NpYLXwt\", \"name\": \"Hits 2000\", \"description\": \"\", \"owner\": \"Ray\", \"tracks_total\": 121, \"is_public\": true, \"collaborative\": false, \"snapshot_id\": \"AAAAsUV20d2iEtoXYqXPHsTzbFeyJfVJ\"}, {\"id\": \"7FgZOBK0lhTZz7gMJeV7gs\", \"uri\": \"spotify:playlist:7FgZOBK0lhTZz7gMJeV7gs\", \"name\": \"Insomniac\", \"description\": \"\", \"owner\": \"Ray\", \"tracks_total\": 182, \"is_public\": true, \"collaborative\": false, \"snapshot_id\": \"AAAA4Cmc8w8KuivAczjvfXId2sSkEm/h\"}, {\"id\": \"6DgcAL9oygPekQLDY2mFDq\", \"uri\": \"spotify:playlist:6DgcAL9oygPekQLDY2mFDq\", \"name\": \"Jean-Michel Jarre – Equinoxe\", \"description\": \"\", \"owner\": \"Ray\", \"tracks_total\": 8, \"is_public\": true, \"collaborative\": false, \"snapshot_id\": \"AAAAAh4ckvSMVbth3pWqCQDqlVQwoNXP\"}, {\"id\": \"6X1fib1966dU31uZdTH5p1\", \"uri\": \"spotify:playlist:6X1fib1966dU31uZdTH5p1\", \"name\": \"Misplaced Childhood (2017 Remaster)\", \"description\": \"\", \"owner\": \"Ray\", \"tracks_total\": 10, \"is_public\": true, \"collaborative\": false, \"snapshot_id\": \"AAAAAhEAt8v4hHLreJi8lMDQSYZCqCWP\"}, {\"id\": \"5mxEevqyJ7IbtnmxlRSlaL\", \"uri\": \"spotify:playlist:5mxEevqyJ7IbtnmxlRSlaL\", \"name\": \"My Playlist #36\", \"description\": \"\", \"owner\": \"Ray\", \"tracks_total\": 6692, \"is_public\": true, \"collaborative\": false, \"snapshot_id\": \"AAADk1LjdQ0wPeq1CWGUTeqfa3JKnd68\"}, {\"id\": \"01tk0aitEuGK0ajWCkzdKc\", \"uri\": \"spotify:playlist:01tk0aitEuGK0ajWCkzdKc\", \"name\": \"New Rock and Blues\", \"description\": \"\", \"owner\": \"Ray\", \"tracks_total\": 152, \"is_public\": true, \"collaborative\": false, \"snapshot_id\": \"AAAA5WzoylrbcF38i+jfueYt6FBMIWyb\"}, {\"id\": \"5Culgc9kaBQ5b9oOHXXhB6\", \"uri\": \"spotify:playlist:5Culgc9kaBQ5b9oOHXXhB6\", \"name\": \"Nothing But the Blues (Live)\", \"description\": \"\", \"owner\": \"Ray\", \"tracks_total\": 17, \"is_public\": true, \"collaborative\": false, \"snapshot_id\": \"AAAAAv6fej6qwqMnU0hD6qABni4cidBa\"}, {\"id\": \"5qYPd1AvydE1Ltz5uGCVVG\", \"uri\": \"spotify:playlist:5qYPd1AvydE1Ltz5uGCVVG\", \"name\": \"Pet Shop Boys\", \"description\": \"\", \"owner\": \"Ray\", \"tracks_total\": 10, \"is_public\": true, \"collaborative\": false, \"snapshot_id\": \"AAAADoUwedXRw8oUAXzutzW3zHOBq8wo\"}, {\"id\": \"43ekrNptzLLkRVGuZWUI83\", \"uri\": \"spotify:playlist:43ekrNptzLLkRVGuZWUI83\", \"name\": \"Pink Floyd\", \"description\": \"\", \"owner\": \"Ray\", \"tracks_total\": 17, \"is_public\": true, \"collaborative\": false, \"snapshot_id\": \"AAAAFMGAETEKmvx5mrnmvpG6qPrTvDoC\"}, {\"id\": \"25odQP99Tc8QbNs8dWWsQV\", \"uri\": \"spotify:playlist:25odQP99Tc8QbNs8dWWsQV\", \"name\": \"Pink Floyd – The Wall\", \"description\": \"\", \"owner\": \"Ray\", \"tracks_total\": 26, \"is_public\": true, \"collaborative\": false, \"snapshot_id\": \"AAAAAqQrbCqR2F+PT4CiRiJ/aI51g4KY\"}, {\"id\": \"6smB0SEs5sX0FOzA4h22Eq\", \"uri\": \"spotify:playlist:6smB0SEs5sX0FOzA4h22Eq\", \"name\": \"Rock\", \"description\": \"\", \"owner\": \"Ray\", \"tracks_total\": 158, \"is_public\": true, \"collaborative\": false, \"snapshot_id\": \"AAAAvFxIe5eBC1t4kNdcuQG1dm3gh28t\"}, {\"id\": \"5q5ZVp6frFMc8y0ivNfGk2\", \"uri\": \"spotify:playlist:5q5ZVp6frFMc8y0ivNfGk2\", \"name\": \"Rock Balads\", \"description\": \"\", \"owner\": \"Ray\", \"tracks_total\": 61, \"is_public\": true, \"collaborative\": false, \"snapshot_id\": \"AAAAQEiJ4p3uZqQFtoa4ptNvTlCgwc0P\"}, {\"id\": \"4Vk5tgx9FcO17ZhdFwxJIp\", \"uri\": \"spotify:playlist:4Vk5tgx9FcO17ZhdFwxJIp\", \"name\": \"Rock Hard\", \"description\": \"\", \"owner\": \"Ray\", \"tracks_total\": 61, \"is_public\": true, \"collaborative\": false, \"snapshot_id\": \"AAAANGCk4sZ4CKBXxt9osRjoOmtDj6jN\"}, {\"id\": \"3n3RLXoDDH7O9XpusnnnvV\", \"uri\": \"spotify:playlist:3n3RLXoDDH7O9XpusnnnvV\", \"name\": \"Rolling Stones\", \"description\": \"\", \"owner\": \"Ray\", \"tracks_total\": 19, \"is_public\": true, \"collaborative\": false, \"snapshot_id\": \"AAAAFfP6U7XcNW87gmiXRr0cdMiFxhY1\"}, {\"id\": \"5XdXmStK6X9ZPstLvDBekC\", \"uri\": \"spotify:playlist:5XdXmStK6X9ZPstLvDBekC\", \"name\": \"Workout\", \"description\": \"\", \"owner\": \"Ray\", \"tracks_total\": 74, \"is_public\": true, \"collaborative\": false, \"snapshot_id\": \"AAABLoYIV4F6lXAO0DJe++nLNS7aVm52\"}]}', name='get_playlists', tool_call_id='call_DEhPZG9Tht7UTOh27WAnlNBh'),\n",
       " AIMessage(content='', additional_kwargs={'tool_calls': [{'id': 'call_JOAphVlbRljY9ia8CNP1U0SY', 'function': {'arguments': '{\"playlist_id\":\"01tk0aitEuGK0ajWCkzdKc\"}', 'name': 'get_track_list'}, 'type': 'function'}], 'refusal': None}, response_metadata={'token_usage': {'completion_tokens': 28, 'prompt_tokens': 6850, 'total_tokens': 6878, 'completion_tokens_details': {'accepted_prediction_tokens': 0, 'audio_tokens': 0, 'reasoning_tokens': 0, 'rejected_prediction_tokens': 0}, 'prompt_tokens_details': {'audio_tokens': 0, 'cached_tokens': 2304}}, 'model_name': 'gpt-4o-2024-08-06', 'system_fingerprint': 'fp_45cf54deae', 'finish_reason': 'tool_calls', 'logprobs': None}, id='run-725b08fd-463b-41f8-b392-ad1e3bc713c4-0', tool_calls=[{'name': 'get_track_list', 'args': {'playlist_id': '01tk0aitEuGK0ajWCkzdKc'}, 'id': 'call_JOAphVlbRljY9ia8CNP1U0SY', 'type': 'tool_call'}], usage_metadata={'input_tokens': 6850, 'output_tokens': 28, 'total_tokens': 6878, 'input_token_details': {'audio': 0, 'cache_read': 2304}, 'output_token_details': {'audio': 0, 'reasoning': 0}}),\n",
       " ToolMessage(content='{\"tracks\": [{\"id\": \"59oXRNRnmmTbwgkZkV7l4g\", \"uri\": \"spotify:track:59oXRNRnmmTbwgkZkV7l4g\", \"name\": \"Low Down Rolling Stone\", \"artists\": [\"Gary Clark Jr.\"], \"album\": \"This Land\", \"duration_ms\": 258200, \"explicit\": false, \"popularity\": 46}, {\"id\": \"2TmVlVk2t6d9MoqLNasfgS\", \"uri\": \"spotify:track:2TmVlVk2t6d9MoqLNasfgS\", \"name\": \"Take Me Away\", \"artists\": [\"Ayron Jones\"], \"album\": \"Child Of The State\", \"duration_ms\": 246932, \"explicit\": true, \"popularity\": 41}, {\"id\": \"5UMD1Iz7yyVK8Q5FLsVt3q\", \"uri\": \"spotify:track:5UMD1Iz7yyVK8Q5FLsVt3q\", \"name\": \"Walk On Water\", \"artists\": [\"Thirty Seconds To Mars\"], \"album\": \"Walk On Water\", \"duration_ms\": 188227, \"explicit\": false, \"popularity\": 0}, {\"id\": \"0Tr5G2mE56eLUGvCaXRM8I\", \"uri\": \"spotify:track:0Tr5G2mE56eLUGvCaXRM8I\", \"name\": \"No Good\", \"artists\": [\"KALEO\"], \"album\": \"A/B\", \"duration_ms\": 234240, \"explicit\": false, \"popularity\": 64}, {\"id\": \"7e8utCy2JlSB8dRHKi49xM\", \"uri\": \"spotify:track:7e8utCy2JlSB8dRHKi49xM\", \"name\": \"Fluorescent Adolescent\", \"artists\": [\"Arctic Monkeys\"], \"album\": \"Favourite Worst Nightmare (Standard Version)\", \"duration_ms\": 173493, \"explicit\": false, \"popularity\": 69}, {\"id\": \"1D3YGmST01Ba0WRiT7THPG\", \"uri\": \"spotify:track:1D3YGmST01Ba0WRiT7THPG\", \"name\": \"I Sat by the Ocean\", \"artists\": [\"Queens of the Stone Age\"], \"album\": \"...Like Clockwork\", \"duration_ms\": 235586, \"explicit\": false, \"popularity\": 61}, {\"id\": \"7ne867SdHbopGYjxVNyRFM\", \"uri\": \"spotify:track:7ne867SdHbopGYjxVNyRFM\", \"name\": \"Lost Cause\", \"artists\": [\"Black Pistol Fire\"], \"album\": \"Deadbeat Graffiti\", \"duration_ms\": 212120, \"explicit\": false, \"popularity\": 41}, {\"id\": \"3tA2Khh4RpQThUoX22PQAG\", \"uri\": \"spotify:track:3tA2Khh4RpQThUoX22PQAG\", \"name\": \"Legendary\", \"artists\": [\"Welshly Arms\"], \"album\": \"Legendary\", \"duration_ms\": 230696, \"explicit\": false, \"popularity\": 0}, {\"id\": \"0UqNIatgH3yQrJwqajOM2G\", \"uri\": \"spotify:track:0UqNIatgH3yQrJwqajOM2G\", \"name\": \"How High\", \"artists\": [\"The Record Company\"], \"album\": \"Play Loud\", \"duration_ms\": 192840, \"explicit\": false, \"popularity\": 36}, {\"id\": \"3nGWzFBJ5tMzHWAgs16fK6\", \"uri\": \"spotify:track:3nGWzFBJ5tMzHWAgs16fK6\", \"name\": \"What Makes A Good Man?\", \"artists\": [\"The Heavy\"], \"album\": \"The Glorious Dead\", \"duration_ms\": 226380, \"explicit\": false, \"popularity\": 55}, {\"id\": \"52LL3IFB8N3PaJmoZ8Xii1\", \"uri\": \"spotify:track:52LL3IFB8N3PaJmoZ8Xii1\", \"name\": \"The Way You Used To Do\", \"artists\": [\"Queens of the Stone Age\"], \"album\": \"Villains\", \"duration_ms\": 274281, \"explicit\": false, \"popularity\": 56}, {\"id\": \"7aOor99o8NNLZYElOXlBG1\", \"uri\": \"spotify:track:7aOor99o8NNLZYElOXlBG1\", \"name\": \"Highway Tune\", \"artists\": [\"Greta Van Fleet\"], \"album\": \"From The Fires\", \"duration_ms\": 180640, \"explicit\": false, \"popularity\": 68}, {\"id\": \"6Q6ByVmO7mtrbmhq3q1ALF\", \"uri\": \"spotify:track:6Q6ByVmO7mtrbmhq3q1ALF\", \"name\": \"Gasoline\", \"artists\": [\"Whiskey Myers\"], \"album\": \"Whiskey Myers\", \"duration_ms\": 239114, \"explicit\": false, \"popularity\": 0}, {\"id\": \"3Ozx6IrGdoQyAworJzvBDE\", \"uri\": \"spotify:track:3Ozx6IrGdoQyAworJzvBDE\", \"name\": \"Sleeping on the Blacktop\", \"artists\": [\"Colter Wall\"], \"album\": \"Imaginary Appalachia\", \"duration_ms\": 192480, \"explicit\": false, \"popularity\": 5}, {\"id\": \"0fbR95FEaJUxiQYaqZZukv\", \"uri\": \"spotify:track:0fbR95FEaJUxiQYaqZZukv\", \"name\": \"Whitehouse Road\", \"artists\": [\"Tyler Childers\"], \"album\": \"Purgatory\", \"duration_ms\": 280786, \"explicit\": false, \"popularity\": 68}, {\"id\": \"3olGkpomYOWwRZsbFTZqiX\", \"uri\": \"spotify:track:3olGkpomYOWwRZsbFTZqiX\", \"name\": \"Devil Always Made Me Think Twice\", \"artists\": [\"Chris Stapleton\"], \"album\": \"Starting Over\", \"duration_ms\": 231720, \"explicit\": false, \"popularity\": 66}, {\"id\": \"1nO9qYFTq5ZkiiXnaXbBEH\", \"uri\": \"spotify:track:1nO9qYFTq5ZkiiXnaXbBEH\", \"name\": \"One By One\", \"artists\": [\"The Blue Stones\"], \"album\": \"Hidden Gems\", \"duration_ms\": 251266, \"explicit\": false, \"popularity\": 0}, {\"id\": \"5SSX2AJTtYjpk0x2p0LnUA\", \"uri\": \"spotify:track:5SSX2AJTtYjpk0x2p0LnUA\", \"name\": \"Step Aside\", \"artists\": [\"Goodbye June\"], \"album\": \"See Where The Night Goes\", \"duration_ms\": 247895, \"explicit\": true, \"popularity\": 0}, {\"id\": \"4VqPOruhp5EdPBeR92t6lQ\", \"uri\": \"spotify:track:4VqPOruhp5EdPBeR92t6lQ\", \"name\": \"Uprising\", \"artists\": [\"Muse\"], \"album\": \"The Resistance\", \"duration_ms\": 304840, \"explicit\": false, \"popularity\": 74}, {\"id\": \"58ge6dfP91o9oXMzq3XkIS\", \"uri\": \"spotify:track:58ge6dfP91o9oXMzq3XkIS\", \"name\": \"505\", \"artists\": [\"Arctic Monkeys\"], \"album\": \"Favourite Worst Nightmare (Standard Version)\", \"duration_ms\": 253586, \"explicit\": false, \"popularity\": 79}, {\"id\": \"0NdTUS4UiNYCNn5FgVqKQY\", \"uri\": \"spotify:track:0NdTUS4UiNYCNn5FgVqKQY\", \"name\": \"Snap Out Of It\", \"artists\": [\"Arctic Monkeys\"], \"album\": \"AM\", \"duration_ms\": 193030, \"explicit\": false, \"popularity\": 76}, {\"id\": \"3nhzPKCm2yqGmgEhdAg19u\", \"uri\": \"spotify:track:3nhzPKCm2yqGmgEhdAg19u\", \"name\": \"Four Out Of Five\", \"artists\": [\"Arctic Monkeys\"], \"album\": \"Tranquility Base Hotel & Casino\", \"duration_ms\": 312346, \"explicit\": false, \"popularity\": 1}, {\"id\": \"7EIQp9sfTNlf26Df6kHaMg\", \"uri\": \"spotify:track:7EIQp9sfTNlf26Df6kHaMg\", \"name\": \"Kill Or Be Kind\", \"artists\": [\"Samantha Fish\"], \"album\": \"Kill Or Be Kind\", \"duration_ms\": 225373, \"explicit\": false, \"popularity\": 0}, {\"id\": \"6JsiDFQRx7GHcuf2UroSYB\", \"uri\": \"spotify:track:6JsiDFQRx7GHcuf2UroSYB\", \"name\": \"Black Holes (Solid Ground)\", \"artists\": [\"The Blue Stones\"], \"album\": \"Black Holes\", \"duration_ms\": 185960, \"explicit\": false, \"popularity\": 0}, {\"id\": \"1PXsUXSM3LF2XNSkmIldPb\", \"uri\": \"spotify:track:1PXsUXSM3LF2XNSkmIldPb\", \"name\": \"Little Black Submarines\", \"artists\": [\"The Black Keys\"], \"album\": \"El Camino\", \"duration_ms\": 251266, \"explicit\": false, \"popularity\": 63}, {\"id\": \"4ElxyEI2mMVsY1oRaMqsa3\", \"uri\": \"spotify:track:4ElxyEI2mMVsY1oRaMqsa3\", \"name\": \"Fools Gold\", \"artists\": [\"The Arcs\"], \"album\": \"30th Century Records Compilation, Vol. 1\", \"duration_ms\": 242466, \"explicit\": false, \"popularity\": 0}, {\"id\": \"0o995gJCGebaza0LWybToU\", \"uri\": \"spotify:track:0o995gJCGebaza0LWybToU\", \"name\": \"Doesn\\'t Remind Me\", \"artists\": [\"Audioslave\"], \"album\": \"Out of Exile\", \"duration_ms\": 255000, \"explicit\": false, \"popularity\": 59}, {\"id\": \"6Oxs28sGtuS3RYlOmIu5K7\", \"uri\": \"spotify:track:6Oxs28sGtuS3RYlOmIu5K7\", \"name\": \"Stand For Myself\", \"artists\": [\"Yola\"], \"album\": \"Stand For Myself\", \"duration_ms\": 253253, \"explicit\": false, \"popularity\": 38}, {\"id\": \"1Lm6CHHgYrRGKKOmCFMEwy\", \"uri\": \"spotify:track:1Lm6CHHgYrRGKKOmCFMEwy\", \"name\": \"Hole In The Middle\", \"artists\": [\"Emily Jane White\"], \"album\": \"Dark Undercoat (Bonus Track Version)\", \"duration_ms\": 206760, \"explicit\": false, \"popularity\": 29}, {\"id\": \"5n0CTysih20NYdT2S0Wpe8\", \"uri\": \"spotify:track:5n0CTysih20NYdT2S0Wpe8\", \"name\": \"Trouble\", \"artists\": [\"Cage The Elephant\"], \"album\": \"Tell Me I\\'m Pretty\", \"duration_ms\": 225973, \"explicit\": false, \"popularity\": 69}, {\"id\": \"7lPQL4PJ66RfNtZcdUsAud\", \"uri\": \"spotify:track:7lPQL4PJ66RfNtZcdUsAud\", \"name\": \"Everyone\\'s a Winner\", \"artists\": [\"Jackyl\"], \"album\": \"ROWYCO\", \"duration_ms\": 256000, \"explicit\": false, \"popularity\": 37}, {\"id\": \"3kBBjItT7JnKi28k68dGkr\", \"uri\": \"spotify:track:3kBBjItT7JnKi28k68dGkr\", \"name\": \"Spitting Off the Edge of the World\", \"artists\": [\"Yeah Yeah Yeahs\", \"Perfume Genius\"], \"album\": \"Spitting Off the Edge of the World\", \"duration_ms\": 257746, \"explicit\": false, \"popularity\": 0}, {\"id\": \"3V1H6liHwCDcWeqdPJabOM\", \"uri\": \"spotify:track:3V1H6liHwCDcWeqdPJabOM\", \"name\": \"Wicked Game - Acoustic; Live\", \"artists\": [\"Stone Sour\"], \"album\": \"Come What(ever) May [10th Anniversary Edition]\", \"duration_ms\": 267253, \"explicit\": false, \"popularity\": 62}, {\"id\": \"0Sjz8pTu8vcVvGP5rtyh3Q\", \"uri\": \"spotify:track:0Sjz8pTu8vcVvGP5rtyh3Q\", \"name\": \"Tonight You Are Mine\", \"artists\": [\"The Technicolors\"], \"album\": \"Ultraviolet Disguise (Deluxe Edition)\", \"duration_ms\": 230000, \"explicit\": false, \"popularity\": 55}, {\"id\": \"5YdTiKZQc2rmUD81RUiVGI\", \"uri\": \"spotify:track:5YdTiKZQc2rmUD81RUiVGI\", \"name\": \"Ritual\", \"artists\": [\"Reignwolf\"], \"album\": \"Hear Me Out\", \"duration_ms\": 200999, \"explicit\": false, \"popularity\": 45}, {\"id\": \"3YuaBvuZqcwN3CEAyyoaei\", \"uri\": \"spotify:track:3YuaBvuZqcwN3CEAyyoaei\", \"name\": \"Like a Stone\", \"artists\": [\"Audioslave\"], \"album\": \"Audioslave\", \"duration_ms\": 293960, \"explicit\": false, \"popularity\": 78}, {\"id\": \"0v55XuHDYNj4ELPzpRnNo0\", \"uri\": \"spotify:track:0v55XuHDYNj4ELPzpRnNo0\", \"name\": \"Fade Into You\", \"artists\": [\"Inhaler\"], \"album\": \"Falling In\", \"duration_ms\": 315491, \"explicit\": false, \"popularity\": 48}, {\"id\": \"5H7Z2DdWYT9ctLSuKzqkSb\", \"uri\": \"spotify:track:5H7Z2DdWYT9ctLSuKzqkSb\", \"name\": \"Golden Dandelions - Acoustic\", \"artists\": [\"Barns Courtney\"], \"album\": \"Golden Dandelions (Acoustic)\", \"duration_ms\": 202576, \"explicit\": false, \"popularity\": 39}, {\"id\": \"1EuvOdyyzhFUP2z3gfr6xz\", \"uri\": \"spotify:track:1EuvOdyyzhFUP2z3gfr6xz\", \"name\": \"Hold On\", \"artists\": [\"Alabama Shakes\"], \"album\": \"Boys & Girls\", \"duration_ms\": 226186, \"explicit\": false, \"popularity\": 58}, {\"id\": \"6GyDY0yE47rfk8pcuKhioh\", \"uri\": \"spotify:track:6GyDY0yE47rfk8pcuKhioh\", \"name\": \"Make It Wit Chu\", \"artists\": [\"Queens of the Stone Age\"], \"album\": \"Era Vulgaris\", \"duration_ms\": 290493, \"explicit\": false, \"popularity\": 64}, {\"id\": \"2xZAvIqgf1jJ30oPyUoXdw\", \"uri\": \"spotify:track:2xZAvIqgf1jJ30oPyUoXdw\", \"name\": \"Born Of Frustration\", \"artists\": [\"James\"], \"album\": \"Fresh As A Daisy - The Singles\", \"duration_ms\": 276026, \"explicit\": false, \"popularity\": 45}, {\"id\": \"5AKYyNPYhumqKeOMhdEgQO\", \"uri\": \"spotify:track:5AKYyNPYhumqKeOMhdEgQO\", \"name\": \"I Saw You Close Your Eyes\", \"artists\": [\"Local Natives\"], \"album\": \"I Saw You Close Your Eyes\", \"duration_ms\": 216840, \"explicit\": false, \"popularity\": 49}, {\"id\": \"5jCp5A9hMitx5zeo5Djofm\", \"uri\": \"spotify:track:5jCp5A9hMitx5zeo5Djofm\", \"name\": \"Pretty Peggy\", \"artists\": [\"Wolfmother\"], \"album\": \"Victorious\", \"duration_ms\": 229000, \"explicit\": false, \"popularity\": 40}, {\"id\": \"2qwDT631uzIInZ24TXhpP2\", \"uri\": \"spotify:track:2qwDT631uzIInZ24TXhpP2\", \"name\": \"Hope in Hell\", \"artists\": [\"Black Pistol Fire\"], \"album\": \"Look Alive\", \"duration_ms\": 267426, \"explicit\": true, \"popularity\": 35}, {\"id\": \"3qaRqV7dTbQV2VVMhd0ejd\", \"uri\": \"spotify:track:3qaRqV7dTbQV2VVMhd0ejd\", \"name\": \"Built By Nations\", \"artists\": [\"Greta Van Fleet\"], \"album\": \"The Battle at Garden’s Gate\", \"duration_ms\": 238985, \"explicit\": false, \"popularity\": 53}, {\"id\": \"5GZq8P4Iy2smHngL07Pcuo\", \"uri\": \"spotify:track:5GZq8P4Iy2smHngL07Pcuo\", \"name\": \"Heavy Soul\", \"artists\": [\"The Black Keys\"], \"album\": \"The Big Come Up\", \"duration_ms\": 128893, \"explicit\": false, \"popularity\": 61}, {\"id\": \"5vdNoFezjTsQTrZxPK8tDg\", \"uri\": \"spotify:track:5vdNoFezjTsQTrZxPK8tDg\", \"name\": \"Golden Dandelions\", \"artists\": [\"Barns Courtney\"], \"album\": \"The Attractions Of Youth\", \"duration_ms\": 204826, \"explicit\": false, \"popularity\": 50}, {\"id\": \"6zSekCO8d6oK2tsEBuxQPp\", \"uri\": \"spotify:track:6zSekCO8d6oK2tsEBuxQPp\", \"name\": \"Daisy\", \"artists\": [\"Goodbye June\"], \"album\": \"Magic Valley\", \"duration_ms\": 184856, \"explicit\": false, \"popularity\": 35}, {\"id\": \"2qesyq9h4j7R4kx7p9dRTB\", \"uri\": \"spotify:track:2qesyq9h4j7R4kx7p9dRTB\", \"name\": \"The Arc\", \"artists\": [\"The Arcs\"], \"album\": \"Yours, Dreamily,\", \"duration_ms\": 232146, \"explicit\": false, \"popularity\": 40}, {\"id\": \"02bJ6uGeHKfNOhIc9qyA8e\", \"uri\": \"spotify:track:02bJ6uGeHKfNOhIc9qyA8e\", \"name\": \"Wild Child\", \"artists\": [\"The Black Keys\"], \"album\": \"Dropout Boogie\", \"duration_ms\": 164866, \"explicit\": false, \"popularity\": 65}, {\"id\": \"6PtIXICwmoxCgLjw2zApDs\", \"uri\": \"spotify:track:6PtIXICwmoxCgLjw2zApDs\", \"name\": \"Young Lady, You\\'re Scaring Me\", \"artists\": [\"Ron Gallo\"], \"album\": \"HEAVY META\", \"duration_ms\": 220538, \"explicit\": false, \"popularity\": 6}, {\"id\": \"0Rxgdpe1zgZ6ZzHgxSaYEJ\", \"uri\": \"spotify:track:0Rxgdpe1zgZ6ZzHgxSaYEJ\", \"name\": \"Waiting for the Thunder\", \"artists\": [\"Blackberry Smoke\"], \"album\": \"Like an Arrow\", \"duration_ms\": 247008, \"explicit\": false, \"popularity\": 50}, {\"id\": \"1VJ7wyKWyXuhLxCMnk8EMT\", \"uri\": \"spotify:track:1VJ7wyKWyXuhLxCMnk8EMT\", \"name\": \"Shake Me Down\", \"artists\": [\"Broken Witt Rebels\"], \"album\": \"Broken Witt Rebels\", \"duration_ms\": 225626, \"explicit\": false, \"popularity\": 0}, {\"id\": \"5xwiy888BI0JaJP1Jvytvy\", \"uri\": \"spotify:track:5xwiy888BI0JaJP1Jvytvy\", \"name\": \"Hold on I\\'m Coming\", \"artists\": [\"Welshly Arms\"], \"album\": \"Covers\", \"duration_ms\": 233026, \"explicit\": false, \"popularity\": 0}, {\"id\": \"3xMQOd1C3TXsjQ3pmzOmkC\", \"uri\": \"spotify:track:3xMQOd1C3TXsjQ3pmzOmkC\", \"name\": \"Weight of Love\", \"artists\": [\"The Black Keys\"], \"album\": \"Turn Blue\", \"duration_ms\": 410186, \"explicit\": false, \"popularity\": 55}, {\"id\": \"5Ep66lg6KdXjX30U5SBQRQ\", \"uri\": \"spotify:track:5Ep66lg6KdXjX30U5SBQRQ\", \"name\": \"Bad Moves\", \"artists\": [\"The Bones of J.R. Jones\"], \"album\": \"A Celebration\", \"duration_ms\": 246800, \"explicit\": false, \"popularity\": 30}, {\"id\": \"1dX6oGAG5PaexuPj29PsYd\", \"uri\": \"spotify:track:1dX6oGAG5PaexuPj29PsYd\", \"name\": \"I Can\\'t Go on Without You\", \"artists\": [\"KALEO\"], \"album\": \"A/B\", \"duration_ms\": 377000, \"explicit\": false, \"popularity\": 59}, {\"id\": \"136kGRT2lLY01C9i21TURw\", \"uri\": \"spotify:track:136kGRT2lLY01C9i21TURw\", \"name\": \"Break My Baby - Stripped Back\", \"artists\": [\"KALEO\"], \"album\": \"Break My Baby - Stripped Back\", \"duration_ms\": 210532, \"explicit\": false, \"popularity\": 44}, {\"id\": \"0xgm9ojDGh01nTsreKg0oL\", \"uri\": \"spotify:track:0xgm9ojDGh01nTsreKg0oL\", \"name\": \"Missing At Sea\", \"artists\": [\"Maggie Bjorklund\"], \"album\": \"Shaken\", \"duration_ms\": 218626, \"explicit\": false, \"popularity\": 0}, {\"id\": \"54DIzLw4LLxB3n1XiiQftU\", \"uri\": \"spotify:track:54DIzLw4LLxB3n1XiiQftU\", \"name\": \"Age Of Man\", \"artists\": [\"Greta Van Fleet\"], \"album\": \"Anthem Of The Peaceful Army\", \"duration_ms\": 366186, \"explicit\": false, \"popularity\": 51}, {\"id\": \"5lm0T8DfaVOK4HWCmEXvPw\", \"uri\": \"spotify:track:5lm0T8DfaVOK4HWCmEXvPw\", \"name\": \"Golden Songs\", \"artists\": [\"Last Train\"], \"album\": \"Weathering\", \"duration_ms\": 218000, \"explicit\": false, \"popularity\": 36}, {\"id\": \"6vUPPEN2V2lZ78b6DyEIjZ\", \"uri\": \"spotify:track:6vUPPEN2V2lZ78b6DyEIjZ\", \"name\": \"What It\\'s Like\", \"artists\": [\"Everlast\"], \"album\": \"Whitey Ford Sings the Blues\", \"duration_ms\": 303133, \"explicit\": true, \"popularity\": 69}, {\"id\": \"0vQYe6g8bNbdUKnUnXdQQV\", \"uri\": \"spotify:track:0vQYe6g8bNbdUKnUnXdQQV\", \"name\": \"My Love - Edit\", \"artists\": [\"Florence + The Machine\"], \"album\": \"My Love\", \"duration_ms\": 177511, \"explicit\": false, \"popularity\": 43}, {\"id\": \"5bICqYTxNBwSq1QM0WjvDj\", \"uri\": \"spotify:track:5bICqYTxNBwSq1QM0WjvDj\", \"name\": \"Our Special Place\", \"artists\": [\"The Heavy\"], \"album\": \"In The Morning/You Don’t Know\", \"duration_ms\": 217506, \"explicit\": false, \"popularity\": 31}, {\"id\": \"7LZN7FkxHZk6maiN6NdI2i\", \"uri\": \"spotify:track:7LZN7FkxHZk6maiN6NdI2i\", \"name\": \"Dark Days\", \"artists\": [\"Local Natives\"], \"album\": \"Sunlit Youth\", \"duration_ms\": 180413, \"explicit\": false, \"popularity\": 55}, {\"id\": \"7MlDNspYwfqnHxORufupwq\", \"uri\": \"spotify:track:7MlDNspYwfqnHxORufupwq\", \"name\": \"Sex, Drugs, Etc.\", \"artists\": [\"Beach Weather\"], \"album\": \"Pineapple Sunrise\", \"duration_ms\": 196784, \"explicit\": false, \"popularity\": 82}, {\"id\": \"55meRTYBw8S5q7KF3DkjL7\", \"uri\": \"spotify:track:55meRTYBw8S5q7KF3DkjL7\", \"name\": \"The Bandit\", \"artists\": [\"Kings of Leon\"], \"album\": \"The Bandit / 100,000 People\", \"duration_ms\": 250961, \"explicit\": false, \"popularity\": 43}, {\"id\": \"6Bj34xowKpBf7s8vTKTJW9\", \"uri\": \"spotify:track:6Bj34xowKpBf7s8vTKTJW9\", \"name\": \"Joy\", \"artists\": [\"Santana\", \"Chris Stapleton\"], \"album\": \"Blessings and Miracles\", \"duration_ms\": 226853, \"explicit\": false, \"popularity\": 0}, {\"id\": \"22ojTkfbwYxyMJwOPhDvUV\", \"uri\": \"spotify:track:22ojTkfbwYxyMJwOPhDvUV\", \"name\": \"The Perfect Parts\", \"artists\": [\"Shakey Graves\"], \"album\": \"And The War Came\", \"duration_ms\": 236440, \"explicit\": false, \"popularity\": 3}, {\"id\": \"4MP3R0itL0A32onspZXcur\", \"uri\": \"spotify:track:4MP3R0itL0A32onspZXcur\", \"name\": \"Fairlies\", \"artists\": [\"Grian Chatten\"], \"album\": \"Fairlies\", \"duration_ms\": 250173, \"explicit\": false, \"popularity\": 0}, {\"id\": \"1bloF1LHgUVvPJLxrzxgu7\", \"uri\": \"spotify:track:1bloF1LHgUVvPJLxrzxgu7\", \"name\": \"Automobile\", \"artists\": [\"KALEO\"], \"album\": \"A/B\", \"duration_ms\": 186906, \"explicit\": false, \"popularity\": 56}, {\"id\": \"5Vnny8AlKRnPZ3wQNouf2T\", \"uri\": \"spotify:track:5Vnny8AlKRnPZ3wQNouf2T\", \"name\": \"Don\\'t Let Me\", \"artists\": [\"Morningsiders\"], \"album\": \"A Little Lift\", \"duration_ms\": 183850, \"explicit\": false, \"popularity\": 55}, {\"id\": \"2EWpa5XnAuSn0sIkSSIhYk\", \"uri\": \"spotify:track:2EWpa5XnAuSn0sIkSSIhYk\", \"name\": \"Wish I Knew You\", \"artists\": [\"The Revivalists\"], \"album\": \"Men Amongst Mountains\", \"duration_ms\": 274093, \"explicit\": false, \"popularity\": 65}, {\"id\": \"6aBUnkXuCEQQHAlTokv9or\", \"uri\": \"spotify:track:6aBUnkXuCEQQHAlTokv9or\", \"name\": \"This Must Be the Place (Naive Melody) - 2005 Remaster\", \"artists\": [\"Talking Heads\"], \"album\": \"Speaking in Tongues (Deluxe Version)\", \"duration_ms\": 296146, \"explicit\": false, \"popularity\": 69}, {\"id\": \"2TNyNqT3RBXhtNV7OiAgiC\", \"uri\": \"spotify:track:2TNyNqT3RBXhtNV7OiAgiC\", \"name\": \"The Narcissist\", \"artists\": [\"Blur\"], \"album\": \"The Ballad of Darren\", \"duration_ms\": 245225, \"explicit\": false, \"popularity\": 49}, {\"id\": \"2B44GIBurvsKCiNb34Xrnj\", \"uri\": \"spotify:track:2B44GIBurvsKCiNb34Xrnj\", \"name\": \"Please Forgive Me\", \"artists\": [\"David Gray\"], \"album\": \"White Ladder\", \"duration_ms\": 335266, \"explicit\": false, \"popularity\": 7}, {\"id\": \"2AqbEQUDhuT2r1flcPuRRx\", \"uri\": \"spotify:track:2AqbEQUDhuT2r1flcPuRRx\", \"name\": \"Midnight Rider\", \"artists\": [\"Sharon Jones & The Dap-Kings\"], \"album\": \"Midnight Rider\", \"duration_ms\": 197526, \"explicit\": false, \"popularity\": 41}, {\"id\": \"6St9uiBUG4L7LvVNuUcm8a\", \"uri\": \"spotify:track:6St9uiBUG4L7LvVNuUcm8a\", \"name\": \"Roll The Credits\", \"artists\": [\"Danielle Ponder\"], \"album\": \"Roll The Credits\", \"duration_ms\": 253411, \"explicit\": true, \"popularity\": 40}, {\"id\": \"2Kxe8BLU9n7yULCuRBwjX6\", \"uri\": \"spotify:track:2Kxe8BLU9n7yULCuRBwjX6\", \"name\": \"I Wanna Make It Wit Chu - Live At Brixton Academy / 2005\", \"artists\": [\"Queens of the Stone Age\"], \"album\": \"Over The Years And Through The Woods (Live At Brixton Academy / 2005)\", \"duration_ms\": 267746, \"explicit\": false, \"popularity\": 29}, {\"id\": \"0RiRZpuVRbi7oqRdSMwhQY\", \"uri\": \"spotify:track:0RiRZpuVRbi7oqRdSMwhQY\", \"name\": \"Sunflower - Spider-Man: Into the Spider-Verse\", \"artists\": [\"Post Malone\", \"Swae Lee\"], \"album\": \"Hollywood\\'s Bleeding\", \"duration_ms\": 157560, \"explicit\": false, \"popularity\": 81}, {\"id\": \"3BHFResGQiUvbYToUdaDQz\", \"uri\": \"spotify:track:3BHFResGQiUvbYToUdaDQz\", \"name\": \"Enough Is Enough\", \"artists\": [\"Post Malone\"], \"album\": \"AUSTIN\", \"duration_ms\": 165175, \"explicit\": true, \"popularity\": 63}, {\"id\": \"5YW7oSt4jHBO7yE9XER2Be\", \"uri\": \"spotify:track:5YW7oSt4jHBO7yE9XER2Be\", \"name\": \"Sweet Sounds Of Heaven (feat. Lady Gaga)\", \"artists\": [\"The Rolling Stones\", \"Lady Gaga\"], \"album\": \"Sweet Sounds Of Heaven\", \"duration_ms\": 442667, \"explicit\": false, \"popularity\": 42}, {\"id\": \"365TSrFPqM66giaxJuafR3\", \"uri\": \"spotify:track:365TSrFPqM66giaxJuafR3\", \"name\": \"Shine A Little Light\", \"artists\": [\"The Black Keys\"], \"album\": \"\\\\\"Let\\'s Rock\\\\\"\", \"duration_ms\": 196776, \"explicit\": false, \"popularity\": 51}, {\"id\": \"3bwAS8cN7Xtzvv5UurJOOX\", \"uri\": \"spotify:track:3bwAS8cN7Xtzvv5UurJOOX\", \"name\": \"I Am the Highway\", \"artists\": [\"Audioslave\"], \"album\": \"Audioslave\", \"duration_ms\": 334906, \"explicit\": false, \"popularity\": 63}, {\"id\": \"0fCwTrRNfoNk962ati8n2K\", \"uri\": \"spotify:track:0fCwTrRNfoNk962ati8n2K\", \"name\": \"All Your\\'n\", \"artists\": [\"Tyler Childers\"], \"album\": \"Country Squire\", \"duration_ms\": 218280, \"explicit\": false, \"popularity\": 77}, {\"id\": \"3PeDt4Q8YIFDRph5UhxAaA\", \"uri\": \"spotify:track:3PeDt4Q8YIFDRph5UhxAaA\", \"name\": \"Going Down South\", \"artists\": [\"The Black Keys\"], \"album\": \"Delta Kream\", \"duration_ms\": 228972, \"explicit\": false, \"popularity\": 36}, {\"id\": \"4PTfrK6IhnTOd7SRpH17EK\", \"uri\": \"spotify:track:4PTfrK6IhnTOd7SRpH17EK\", \"name\": \"Find a Way\", \"artists\": [\"Robert Randolph & The Family Band\"], \"album\": \"Got Soul\", \"duration_ms\": 236786, \"explicit\": false, \"popularity\": 31}, {\"id\": \"3Zm5SMUA3JH98Aty7Zc0xr\", \"uri\": \"spotify:track:3Zm5SMUA3JH98Aty7Zc0xr\", \"name\": \"Kiss This\", \"artists\": [\"The Struts\"], \"album\": \"Everybody Wants\", \"duration_ms\": 177840, \"explicit\": false, \"popularity\": 53}, {\"id\": \"11SXMhxJZPCcS5JWIwWuIX\", \"uri\": \"spotify:track:11SXMhxJZPCcS5JWIwWuIX\", \"name\": \"Rita Mae Young\", \"artists\": [\"The Record Company\"], \"album\": \"Give It Back To You\", \"duration_ms\": 261120, \"explicit\": false, \"popularity\": 44}, {\"id\": \"7IfskrsLpZhR3IdFqcLPzB\", \"uri\": \"spotify:track:7IfskrsLpZhR3IdFqcLPzB\", \"name\": \"Picturing Love\", \"artists\": [\"July Talk\"], \"album\": \"Touch\", \"duration_ms\": 215000, \"explicit\": false, \"popularity\": 30}, {\"id\": \"7MjRtWS2teufvOiMM0BARZ\", \"uri\": \"spotify:track:7MjRtWS2teufvOiMM0BARZ\", \"name\": \"Nearly Forgot My Broken Heart\", \"artists\": [\"Chris Cornell\"], \"album\": \"Higher Truth\", \"duration_ms\": 234426, \"explicit\": false, \"popularity\": 55}, {\"id\": \"4qtNNM21rJ94TSmVMCWfit\", \"uri\": \"spotify:track:4qtNNM21rJ94TSmVMCWfit\", \"name\": \"On My Way\", \"artists\": [\"Sons Of The East\"], \"album\": \"Palomar Parade\", \"duration_ms\": 211579, \"explicit\": false, \"popularity\": 50}, {\"id\": \"6fAJL7dFFaAlRgrmXKvctr\", \"uri\": \"spotify:track:6fAJL7dFFaAlRgrmXKvctr\", \"name\": \"The Good Life\", \"artists\": [\"The Bones of J.R. Jones\"], \"album\": \"Slow Lightning\", \"duration_ms\": 238186, \"explicit\": false, \"popularity\": 28}, {\"id\": \"0i5QVxsK3IvEDbUjTA64Li\", \"uri\": \"spotify:track:0i5QVxsK3IvEDbUjTA64Li\", \"name\": \"Silver Lining\", \"artists\": [\"Mt. Joy\"], \"album\": \"Mt. Joy\", \"duration_ms\": 198600, \"explicit\": false, \"popularity\": 33}, {\"id\": \"5k5z54qOiDgsx0As3xY74s\", \"uri\": \"spotify:track:5k5z54qOiDgsx0As3xY74s\", \"name\": \"Pistol Made of Bones\", \"artists\": [\"The Arcs\"], \"album\": \"Yours, Dreamily,\", \"duration_ms\": 202960, \"explicit\": false, \"popularity\": 35}, {\"id\": \"6FR7CxgunBBN1jYJxsX8uZ\", \"uri\": \"spotify:track:6FR7CxgunBBN1jYJxsX8uZ\", \"name\": \"Bad Things\", \"artists\": [\"Rayland Baxter\"], \"album\": \"Ashkelon\", \"duration_ms\": 313867, \"explicit\": false, \"popularity\": 42}, {\"id\": \"0yc6Gst2xkRu0eMLeRMGCX\", \"uri\": \"spotify:track:0yc6Gst2xkRu0eMLeRMGCX\", \"name\": \"Apocalypse\", \"artists\": [\"Cigarettes After Sex\"], \"album\": \"Cigarettes After Sex\", \"duration_ms\": 290616, \"explicit\": false, \"popularity\": 87}, {\"id\": \"6JmSfynzr6E0QllQZNEXEb\", \"uri\": \"spotify:track:6JmSfynzr6E0QllQZNEXEb\", \"name\": \"Angel of Small Death and the Codeine Scene\", \"artists\": [\"Hozier\"], \"album\": \"Hozier (Expanded Edition)\", \"duration_ms\": 219213, \"explicit\": false, \"popularity\": 63}, {\"id\": \"4rhUBIlzi7zgV7TryhVujl\", \"uri\": \"spotify:track:4rhUBIlzi7zgV7TryhVujl\", \"name\": \"Edge Of Darkness\", \"artists\": [\"Greta Van Fleet\"], \"album\": \"From The Fires\", \"duration_ms\": 268400, \"explicit\": false, \"popularity\": 54}, {\"id\": \"2ZMI0QNoqU9fQZFirR9WpK\", \"uri\": \"spotify:track:2ZMI0QNoqU9fQZFirR9WpK\", \"name\": \"When The Curtain Falls\", \"artists\": [\"Greta Van Fleet\"], \"album\": \"Anthem Of The Peaceful Army\", \"duration_ms\": 222960, \"explicit\": false, \"popularity\": 55}, {\"id\": \"0ntQJM78wzOLVeCUAW7Y45\", \"uri\": \"spotify:track:0ntQJM78wzOLVeCUAW7Y45\", \"name\": \"Sex on Fire\", \"artists\": [\"Kings of Leon\"], \"album\": \"Only By The Night\", \"duration_ms\": 203346, \"explicit\": false, \"popularity\": 82}, {\"id\": \"5VGlqQANWDKJFl0MBG3sg2\", \"uri\": \"spotify:track:5VGlqQANWDKJFl0MBG3sg2\", \"name\": \"Use Somebody\", \"artists\": [\"Kings of Leon\"], \"album\": \"Only By The Night\", \"duration_ms\": 230760, \"explicit\": false, \"popularity\": 76}, {\"id\": \"3kdMzXOcrDIdSWLdONHNK5\", \"uri\": \"spotify:track:3kdMzXOcrDIdSWLdONHNK5\", \"name\": \"The Sky Is A Neighborhood\", \"artists\": [\"Foo Fighters\"], \"album\": \"Concrete and Gold\", \"duration_ms\": 244573, \"explicit\": false, \"popularity\": 58}, {\"id\": \"3omXshBamrREltcf24gYDC\", \"uri\": \"spotify:track:3omXshBamrREltcf24gYDC\", \"name\": \"First\", \"artists\": [\"Cold War Kids\"], \"album\": \"Hold My Home\", \"duration_ms\": 200360, \"explicit\": false, \"popularity\": 66}, {\"id\": \"5iItYl3Q6wCnKVfpK1uNVf\", \"uri\": \"spotify:track:5iItYl3Q6wCnKVfpK1uNVf\", \"name\": \"The Suburbs\", \"artists\": [\"Arcade Fire\"], \"album\": \"The Suburbs (Deluxe)\", \"duration_ms\": 315026, \"explicit\": false, \"popularity\": 61}, {\"id\": \"1YzIpqwnj5M8qylwn1Tr9Z\", \"uri\": \"spotify:track:1YzIpqwnj5M8qylwn1Tr9Z\", \"name\": \"Keep The Wolves Away\", \"artists\": [\"Uncle Lucius\"], \"album\": \"And You Are Me\", \"duration_ms\": 275520, \"explicit\": false, \"popularity\": 72}, {\"id\": \"6Hmj7SrLRbreLVfVS7mV1S\", \"uri\": \"spotify:track:6Hmj7SrLRbreLVfVS7mV1S\", \"name\": \"Wake Up\", \"artists\": [\"Arcade Fire\"], \"album\": \"Funeral\", \"duration_ms\": 335333, \"explicit\": false, \"popularity\": 60}, {\"id\": \"4JFet0crxTPHFV2n1ZqZKV\", \"uri\": \"spotify:track:4JFet0crxTPHFV2n1ZqZKV\", \"name\": \"Burning\", \"artists\": [\"Yeah Yeah Yeahs\"], \"album\": \"Cool It Down\", \"duration_ms\": 245120, \"explicit\": false, \"popularity\": 50}, {\"id\": \"1CS7Sd1u5tWkstBhpssyjP\", \"uri\": \"spotify:track:1CS7Sd1u5tWkstBhpssyjP\", \"name\": \"Take Me to Church\", \"artists\": [\"Hozier\"], \"album\": \"Hozier (Expanded Edition)\", \"duration_ms\": 241693, \"explicit\": false, \"popularity\": 79}, {\"id\": \"32BEasyNQgqXQJKoVa0fUw\", \"uri\": \"spotify:track:32BEasyNQgqXQJKoVa0fUw\", \"name\": \"Black Smoke Rising\", \"artists\": [\"Greta Van Fleet\"], \"album\": \"From The Fires\", \"duration_ms\": 259893, \"explicit\": false, \"popularity\": 62}, {\"id\": \"0O2SYh5AZ0y8MAPOVC4Mxz\", \"uri\": \"spotify:track:0O2SYh5AZ0y8MAPOVC4Mxz\", \"name\": \"Ball and Biscuit\", \"artists\": [\"The White Stripes\"], \"album\": \"Elephant\", \"duration_ms\": 438551, \"explicit\": false, \"popularity\": 51}, {\"id\": \"12YYFvwwuYiw010ONgfYlW\", \"uri\": \"spotify:track:12YYFvwwuYiw010ONgfYlW\", \"name\": \"A Change Is Gonna Come\", \"artists\": [\"Greta Van Fleet\"], \"album\": \"From The Fires\", \"duration_ms\": 197080, \"explicit\": false, \"popularity\": 53}, {\"id\": \"0zlaa4AmbFE7MVDijsyD9Q\", \"uri\": \"spotify:track:0zlaa4AmbFE7MVDijsyD9Q\", \"name\": \"Heat Above\", \"artists\": [\"Greta Van Fleet\"], \"album\": \"The Battle at Garden’s Gate\", \"duration_ms\": 341255, \"explicit\": false, \"popularity\": 60}, {\"id\": \"07p7PALHp6ZcD5tmlbO94N\", \"uri\": \"spotify:track:07p7PALHp6ZcD5tmlbO94N\", \"name\": \"Stardust Chords\", \"artists\": [\"Greta Van Fleet\"], \"album\": \"The Battle at Garden’s Gate\", \"duration_ms\": 297489, \"explicit\": false, \"popularity\": 51}, {\"id\": \"1IhnbJZ7FywEL7YCyLKDgv\", \"uri\": \"spotify:track:1IhnbJZ7FywEL7YCyLKDgv\", \"name\": \"Cold Desert\", \"artists\": [\"Kings of Leon\"], \"album\": \"Only By The Night\", \"duration_ms\": 334706, \"explicit\": false, \"popularity\": 47}, {\"id\": \"0VjIjW4GlUZAMYd2vXMi3b\", \"uri\": \"spotify:track:0VjIjW4GlUZAMYd2vXMi3b\", \"name\": \"Blinding Lights\", \"artists\": [\"The Weeknd\"], \"album\": \"After Hours\", \"duration_ms\": 200040, \"explicit\": false, \"popularity\": 87}, {\"id\": \"51cFoZgKkZJhQa9iHy0EcD\", \"uri\": \"spotify:track:51cFoZgKkZJhQa9iHy0EcD\", \"name\": \"Talk to Me\", \"artists\": [\"The Record Company\"], \"album\": \"Talk to Me\", \"duration_ms\": 242576, \"explicit\": false, \"popularity\": 26}, {\"id\": \"78QqHqG4VAorNST1N45wAb\", \"uri\": \"spotify:track:78QqHqG4VAorNST1N45wAb\", \"name\": \"I’m Getting Better (And I’m Feeling It Right Now)\", \"artists\": [\"The Record Company\"], \"album\": \"All Of This Life\", \"duration_ms\": 195480, \"explicit\": false, \"popularity\": 29}, {\"id\": \"1iZcrUgzStiMKTgsdSeuLO\", \"uri\": \"spotify:track:1iZcrUgzStiMKTgsdSeuLO\", \"name\": \"Goodbye To The Hard Life\", \"artists\": [\"The Record Company\"], \"album\": \"All Of This Life\", \"duration_ms\": 252160, \"explicit\": false, \"popularity\": 14}, {\"id\": \"4Tw7K0152qOkG48fuOF0V6\", \"uri\": \"spotify:track:4Tw7K0152qOkG48fuOF0V6\", \"name\": \"You And Me Now\", \"artists\": [\"The Record Company\"], \"album\": \"All Of This Life\", \"duration_ms\": 354573, \"explicit\": false, \"popularity\": 24}, {\"id\": \"319zpJMCzpz50Uz0PsjlJN\", \"uri\": \"spotify:track:319zpJMCzpz50Uz0PsjlJN\", \"name\": \"I Got Mine\", \"artists\": [\"The Black Keys\"], \"album\": \"Attack & Release\", \"duration_ms\": 239146, \"explicit\": false, \"popularity\": 51}, {\"id\": \"6m8QC3Gs7MAQJDQdFGjdme\", \"uri\": \"spotify:track:6m8QC3Gs7MAQJDQdFGjdme\", \"name\": \"Make Me Feel Alright\", \"artists\": [\"Robert Finley\"], \"album\": \"Sharecropper\\'s Son\", \"duration_ms\": 223706, \"explicit\": false, \"popularity\": 28}, {\"id\": \"6kopmMZiyLmw7h66uXcXR7\", \"uri\": \"spotify:track:6kopmMZiyLmw7h66uXcXR7\", \"name\": \"Valerie (feat. Amy Winehouse) - Version Revisited\", \"artists\": [\"Mark Ronson\", \"Amy Winehouse\"], \"album\": \"Version\", \"duration_ms\": 219413, \"explicit\": false, \"popularity\": 80}, {\"id\": \"7uuWlqHI41LkdXn4pcqI1h\", \"uri\": \"spotify:track:7uuWlqHI41LkdXn4pcqI1h\", \"name\": \"Speak of the Devil\", \"artists\": [\"Black Pistol Fire\"], \"album\": \"Deadbeat Graffiti\", \"duration_ms\": 299400, \"explicit\": false, \"popularity\": 36}, {\"id\": \"6nWLyTkbR9xsmmY1jioPTV\", \"uri\": \"spotify:track:6nWLyTkbR9xsmmY1jioPTV\", \"name\": \"Every Chance I Get (I Want You In The Flesh)\", \"artists\": [\"Dan Auerbach\"], \"album\": \"Every Chance I Get (I Want You In The Flesh)\", \"duration_ms\": 248004, \"explicit\": false, \"popularity\": 41}, {\"id\": \"4xXglb2SBiHnqPMQiItlrG\", \"uri\": \"spotify:track:4xXglb2SBiHnqPMQiItlrG\", \"name\": \"Let Loose\", \"artists\": [\"Mt. Joy\"], \"album\": \"Rearrange Us\", \"duration_ms\": 221946, \"explicit\": false, \"popularity\": 15}, {\"id\": \"7daWU6T6qzj6W2e8wVDg3D\", \"uri\": \"spotify:track:7daWU6T6qzj6W2e8wVDg3D\", \"name\": \"Thousand Mile Night\", \"artists\": [\"Jonah Tolchin\"], \"album\": \"Thousand Mile Night\", \"duration_ms\": 233173, \"explicit\": false, \"popularity\": 36}, {\"id\": \"4c7iXNRiy72rMXfRTR9V0V\", \"uri\": \"spotify:track:4c7iXNRiy72rMXfRTR9V0V\", \"name\": \"On The Game\", \"artists\": [\"The Black Keys\"], \"album\": \"Ohio Players\", \"duration_ms\": 242838, \"explicit\": false, \"popularity\": 48}, {\"id\": \"3PGowEqdhqHBbzlO90NaXB\", \"uri\": \"spotify:track:3PGowEqdhqHBbzlO90NaXB\", \"name\": \"I Found Heaven (In My Darkest Days)\", \"artists\": [\"The Record Company\"], \"album\": \"The 4th Album\", \"duration_ms\": 304821, \"explicit\": false, \"popularity\": 20}, {\"id\": \"2cgQvJIxwZrUJpWw5D8Fo4\", \"uri\": \"spotify:track:2cgQvJIxwZrUJpWw5D8Fo4\", \"name\": \"Goodbye Yellow Brick Road\", \"artists\": [\"Yola\"], \"album\": \"Walk Through Fire (Deluxe Edition)\", \"duration_ms\": 204117, \"explicit\": false, \"popularity\": 42}, {\"id\": \"6jXwOrrBoutMICNxckeDNQ\", \"uri\": \"spotify:track:6jXwOrrBoutMICNxckeDNQ\", \"name\": \"Meeting The Master\", \"artists\": [\"Greta Van Fleet\"], \"album\": \"Starcatcher\", \"duration_ms\": 312084, \"explicit\": false, \"popularity\": 52}, {\"id\": \"5fb0p81SAZBkZEvmLAfGKz\", \"uri\": \"spotify:track:5fb0p81SAZBkZEvmLAfGKz\", \"name\": \"Smooth Sailing\", \"artists\": [\"Queens of the Stone Age\"], \"album\": \"...Like Clockwork\", \"duration_ms\": 291400, \"explicit\": true, \"popularity\": 50}, {\"id\": \"2VprRdTmbgyjXnDzHIcfNl\", \"uri\": \"spotify:track:2VprRdTmbgyjXnDzHIcfNl\", \"name\": \"Rolling In The Deep - Recorded At Spotify Studios NYC\", \"artists\": [\"Greta Van Fleet\"], \"album\": \"Spotify Singles\", \"duration_ms\": 237653, \"explicit\": false, \"popularity\": 52}, {\"id\": \"3lOok0REf4j3790abX26PR\", \"uri\": \"spotify:track:3lOok0REf4j3790abX26PR\", \"name\": \"Do You Feel It?\", \"artists\": [\"Chaos Chaos\"], \"album\": \"Committed to the Crime\", \"duration_ms\": 250712, \"explicit\": false, \"popularity\": 54}, {\"id\": \"5cjaDxaXyRlxGgGjRlte7m\", \"uri\": \"spotify:track:5cjaDxaXyRlxGgGjRlte7m\", \"name\": \"Daydream In Blue\", \"artists\": [\"I Monster\"], \"album\": \"Neveroddoreven\", \"duration_ms\": 223666, \"explicit\": false, \"popularity\": 60}, {\"id\": \"0uGSkZ9yfiyh5Z0Z97zhwd\", \"uri\": \"spotify:track:0uGSkZ9yfiyh5Z0Z97zhwd\", \"name\": \"Sacred The Thread\", \"artists\": [\"Greta Van Fleet\"], \"album\": \"Starcatcher\", \"duration_ms\": 321710, \"explicit\": false, \"popularity\": 42}, {\"id\": \"0clyiEoEGDH8vGP7QRdS70\", \"uri\": \"spotify:track:0clyiEoEGDH8vGP7QRdS70\", \"name\": \"Turn Me Loose\", \"artists\": [\"The Record Company\"], \"album\": \"Give It Back To You\", \"duration_ms\": 200546, \"explicit\": false, \"popularity\": 45}, {\"id\": \"6ckUX8cgcqjoNGTd2A2Pvd\", \"uri\": \"spotify:track:6ckUX8cgcqjoNGTd2A2Pvd\", \"name\": \"Always Alright\", \"artists\": [\"Alabama Shakes\"], \"album\": \"Always Alright\", \"duration_ms\": 249169, \"explicit\": true, \"popularity\": 57}, {\"id\": \"6d4FWjx72iuRWzn1HwywLK\", \"uri\": \"spotify:track:6d4FWjx72iuRWzn1HwywLK\", \"name\": \"Colors\", \"artists\": [\"Black Pumas\"], \"album\": \"Black Pumas\", \"duration_ms\": 246586, \"explicit\": false, \"popularity\": 64}, {\"id\": \"6r5HyhBuTlCWgvxz8hKvJ9\", \"uri\": \"spotify:track:6r5HyhBuTlCWgvxz8hKvJ9\", \"name\": \"This Crooked City\", \"artists\": [\"The Record Company\"], \"album\": \"Give It Back To You\", \"duration_ms\": 274306, \"explicit\": false, \"popularity\": 24}, {\"id\": \"6NL8rMMfoTLJacdIB60xuw\", \"uri\": \"spotify:track:6NL8rMMfoTLJacdIB60xuw\", \"name\": \"Memphis Sun\", \"artists\": [\"Rival Sons\"], \"album\": \"Before the Fire\", \"duration_ms\": 230240, \"explicit\": false, \"popularity\": 33}, {\"id\": \"4yzozDNjvW7acuGonXwfvA\", \"uri\": \"spotify:track:4yzozDNjvW7acuGonXwfvA\", \"name\": \"The Vampyre of Time and Memory\", \"artists\": [\"Queens of the Stone Age\"], \"album\": \"...Like Clockwork\", \"duration_ms\": 214586, \"explicit\": false, \"popularity\": 51}, {\"id\": \"6bNKaxRx9rmad2DJMX6vUa\", \"uri\": \"spotify:track:6bNKaxRx9rmad2DJMX6vUa\", \"name\": \"Hound Dog\", \"artists\": [\"The Record Company\"], \"album\": \"Hound Dog\", \"duration_ms\": 199000, \"explicit\": false, \"popularity\": 22}, {\"id\": \"3KovbvpV7cqIw4gg2CihPu\", \"uri\": \"spotify:track:3KovbvpV7cqIw4gg2CihPu\", \"name\": \"I Ain\\'t The Same\", \"artists\": [\"Alabama Shakes\"], \"album\": \"Boys & Girls\", \"duration_ms\": 175800, \"explicit\": false, \"popularity\": 41}, {\"id\": \"4iu49FeQQGiUh2Dn1A8qCl\", \"uri\": \"spotify:track:4iu49FeQQGiUh2Dn1A8qCl\", \"name\": \"Don\\'t Owe You a Thang\", \"artists\": [\"Gary Clark Jr.\"], \"album\": \"The Bright Lights EP\", \"duration_ms\": 215866, \"explicit\": false, \"popularity\": 48}, {\"id\": \"40hHmaHKIzNRT166MjNV0q\", \"uri\": \"spotify:track:40hHmaHKIzNRT166MjNV0q\", \"name\": \"Where You Been Before\", \"artists\": [\"Black Pistol Fire\"], \"album\": \"Black Pistol Fire\", \"duration_ms\": 229784, \"explicit\": false, \"popularity\": 32}, {\"id\": \"2C4jYVZId6mxISa3HrBvGM\", \"uri\": \"spotify:track:2C4jYVZId6mxISa3HrBvGM\", \"name\": \"Skinny\", \"artists\": [\"KALEO\"], \"album\": \"Surface Sounds\", \"duration_ms\": 222316, \"explicit\": true, \"popularity\": 51}, {\"id\": \"17phhZDn6oGtzMe56NuWvj\", \"uri\": \"spotify:track:17phhZDn6oGtzMe56NuWvj\", \"name\": \"Lose Control\", \"artists\": [\"Teddy Swims\"], \"album\": \"I\\'ve Tried Everything But Therapy (Part 1)\", \"duration_ms\": 210688, \"explicit\": false, \"popularity\": 89}, {\"id\": \"08V2nQqzQGvAV5e0W0zRfr\", \"uri\": \"spotify:track:08V2nQqzQGvAV5e0W0zRfr\", \"name\": \"Glory Box\", \"artists\": [\"John Martyn\"], \"album\": \"The Church With One Bell\", \"duration_ms\": 344840, \"explicit\": false, \"popularity\": 45}, {\"id\": \"1MJDGqfcYX9ZGmFyYYDpGx\", \"uri\": \"spotify:track:1MJDGqfcYX9ZGmFyYYDpGx\", \"name\": \"History Repeating - Knee Length Mix\", \"artists\": [\"Propellerheads\", \"Shirley Bassey\"], \"album\": \"History Repeating\", \"duration_ms\": 244200, \"explicit\": false, \"popularity\": 17}, {\"id\": \"6IY3cC281mz9q0bViUEldz\", \"uri\": \"spotify:track:6IY3cC281mz9q0bViUEldz\", \"name\": \"It\\'s A Trip!\", \"artists\": [\"Joywave\"], \"album\": \"Content\", \"duration_ms\": 183524, \"explicit\": false, \"popularity\": 55}, {\"id\": \"7apxI2PH7Jgf2gkfDFy5DV\", \"uri\": \"spotify:track:7apxI2PH7Jgf2gkfDFy5DV\", \"name\": \"Quite Contrary\", \"artists\": [\"Parker Millsap\"], \"album\": \"Parker Millsap\", \"duration_ms\": 288173, \"explicit\": false, \"popularity\": 29}]}', name='get_track_list', tool_call_id='call_JOAphVlbRljY9ia8CNP1U0SY')]"
      ]
     },
     "execution_count": 25,
     "metadata": {},
     "output_type": "execute_result"
    }
   ],
   "source": [
    "chat_prompt_template += track_list_tool_message\n",
    "chat_prompt_template.format_messages()"
   ]
  },
  {
   "cell_type": "markdown",
   "metadata": {},
   "source": [
    "# Send Tool Result to LLM"
   ]
  },
  {
   "cell_type": "code",
   "execution_count": null,
   "metadata": {},
   "outputs": [],
   "source": [
    "# llm_with_structured_output = llm.with_structured_output(schema=Tracks, method='function_calling', include_raw=True)\n",
    "# response = llm_with_structured_output.invoke(chat_prompt_template.format_messages())\n",
    "# response\n",
    "response = llm_with_tools.invoke(chat_prompt_template.format_messages())\n",
    "response"
   ]
  },
  {
   "cell_type": "code",
   "execution_count": null,
   "metadata": {},
   "outputs": [],
   "source": [
    "response.pretty_print()"
   ]
  },
  {
   "cell_type": "code",
   "execution_count": null,
   "metadata": {},
   "outputs": [],
   "source": [
    "chat_prompt_template += response\n",
    "chat_prompt_template.format_messages()"
   ]
  },
  {
   "cell_type": "markdown",
   "metadata": {},
   "source": [
    "# Tool Call (check_artists)"
   ]
  },
  {
   "cell_type": "code",
   "execution_count": null,
   "metadata": {},
   "outputs": [],
   "source": [
    "response = tool_node.invoke({\"messages\": [response]})"
   ]
  },
  {
   "cell_type": "code",
   "execution_count": null,
   "metadata": {},
   "outputs": [],
   "source": [
    "check_artist_tool_message: ToolMessage = response[\"messages\"][0]\n",
    "check_artist_tool_message.pretty_print()"
   ]
  },
  {
   "cell_type": "code",
   "execution_count": null,
   "metadata": {},
   "outputs": [],
   "source": [
    "# We recreate the ToolMessage to take care of UNicode characters\n",
    "tool_message = ToolMessage(content=check_artist_tool_message.content, name=check_artist_tool_message.name, tool_call_id=check_artist_tool_message.tool_call_id)\n",
    "tool_message.pretty_print()"
   ]
  },
  {
   "cell_type": "code",
   "execution_count": null,
   "metadata": {},
   "outputs": [],
   "source": [
    "chat_prompt_template += tool_message\n",
    "chat_prompt_template.format_messages()"
   ]
  },
  {
   "cell_type": "code",
   "execution_count": null,
   "metadata": {},
   "outputs": [],
   "source": [
    "response = llm_with_tools.invoke(chat_prompt_template.format_messages())"
   ]
  },
  {
   "cell_type": "code",
   "execution_count": null,
   "metadata": {},
   "outputs": [],
   "source": [
    "response.pretty_print()"
   ]
  },
  {
   "cell_type": "code",
   "execution_count": null,
   "metadata": {},
   "outputs": [],
   "source": [
    "chat_prompt_template += response\n",
    "chat_prompt_template.format_messages()"
   ]
  },
  {
   "cell_type": "code",
   "execution_count": null,
   "metadata": {},
   "outputs": [],
   "source": [
    "response = tool_node.invoke({\"messages\": [response]})"
   ]
  },
  {
   "cell_type": "code",
   "execution_count": null,
   "metadata": {},
   "outputs": [],
   "source": [
    "response"
   ]
  }
 ],
 "metadata": {
  "kernelspec": {
   "display_name": ".venv",
   "language": "python",
   "name": "python3"
  },
  "language_info": {
   "codemirror_mode": {
    "name": "ipython",
    "version": 3
   },
   "file_extension": ".py",
   "mimetype": "text/x-python",
   "name": "python",
   "nbconvert_exporter": "python",
   "pygments_lexer": "ipython3",
   "version": "3.12.5"
  }
 },
 "nbformat": 4,
 "nbformat_minor": 2
}
