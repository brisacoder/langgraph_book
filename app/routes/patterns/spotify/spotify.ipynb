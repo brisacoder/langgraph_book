{
 "cells": [
  {
   "cell_type": "code",
   "execution_count": null,
   "metadata": {},
   "outputs": [],
   "source": [
    "%%capture --no-stderr\n",
    "%pip install --quiet -U langgraph langchain-core langchain_openai python-dotenv langsmith pydantic spotipy"
   ]
  },
  {
   "cell_type": "code",
   "execution_count": null,
   "metadata": {},
   "outputs": [],
   "source": [
    "%pip install --quiet -U jupyterlab-lsp\n",
    "%pip install --quiet -U \"python-lsp-server[all]\""
   ]
  },
  {
   "cell_type": "code",
   "execution_count": null,
   "metadata": {},
   "outputs": [],
   "source": [
    "## Setup logging\n",
    "import logging\n",
    "import os\n",
    "from dotenv import load_dotenv\n",
    "\n",
    "load_dotenv(override=True)\n",
    "logger = logging.getLogger(__name__)\n",
    "\n",
    "# Configure logging\n",
    "logging.basicConfig(\n",
    "    level=logging.INFO,\n",
    "    format='%(asctime)s - %(levelname)s - %(message)s',  # Define the format\n",
    "    handlers=[logging.StreamHandler()]  # Output to the console\n",
    ")"
   ]
  },
  {
   "cell_type": "markdown",
   "metadata": {},
   "source": [
    "# Define Search Tool"
   ]
  },
  {
   "cell_type": "code",
   "execution_count": 191,
   "metadata": {},
   "outputs": [
    {
     "data": {
      "text/plain": [
       "'A search engine optimized for comprehensive, accurate, and trusted results. Useful for when you need to answer questions about current events. Input should be a search query.'"
      ]
     },
     "execution_count": 191,
     "metadata": {},
     "output_type": "execute_result"
    }
   ],
   "source": [
    "from langchain_community.tools.tavily_search import TavilySearchResults\n",
    "\n",
    "search_tool = TavilySearchResults(\n",
    "    max_results=50,\n",
    "    include_answer=True,\n",
    "    include_raw_content=True,\n",
    "    include_images=True,\n",
    "    # search_depth=\"advanced\",\n",
    "    # include_domains = []\n",
    "    # exclude_domains = []\n",
    ")\n",
    "name = search_tool.get_name()\n",
    "desc = search_tool.description\n",
    "desc"
   ]
  },
  {
   "cell_type": "markdown",
   "metadata": {},
   "source": [
    "# Create ToolNode"
   ]
  },
  {
   "cell_type": "code",
   "execution_count": 194,
   "metadata": {},
   "outputs": [],
   "source": [
    "from langgraph.prebuilt import ToolNode\n",
    "from spotify_tools import get_playlists, get_track_list, create_spotify_playlist, add_tracks_to_playlist, filter_artists, get_artists_from_playlist, find_similar_artist\n",
    "from plan import validate_plan\n",
    "\n",
    "tools = [get_playlists, get_track_list, create_spotify_playlist, add_tracks_to_playlist, filter_artists, validate_plan, get_artists_from_playlist, search_tool, find_similar_artist]\n",
    "# tools = [get_playlists, get_track_list, create_spotify_playlist, add_tracks_to_playlist, search_tool]\n",
    "tool_node = ToolNode(tools)"
   ]
  },
  {
   "cell_type": "markdown",
   "metadata": {},
   "source": [
    "# Manual Test of Tool Infra"
   ]
  },
  {
   "cell_type": "code",
   "execution_count": null,
   "metadata": {},
   "outputs": [],
   "source": [
    "from langchain_core.messages import AIMessage, HumanMessage\n",
    "message_with_single_tool_call = AIMessage(\n",
    "    content=\"\",\n",
    "    tool_calls=[\n",
    "        {\n",
    "            \"name\": \"get_playlists\",\n",
    "            \"args\" : {},\n",
    "            \"id\": \"tool_call_id\",\n",
    "            \"type\": \"tool_call\",\n",
    "        }\n",
    "    ],\n",
    ")\n",
    "\n",
    "# tool_node.invoke({\"messages\": [message_with_single_tool_call]})"
   ]
  },
  {
   "cell_type": "markdown",
   "metadata": {},
   "source": [
    "# Bind Tools to Model"
   ]
  },
  {
   "cell_type": "code",
   "execution_count": 195,
   "metadata": {},
   "outputs": [],
   "source": [
    "from langchain_openai import ChatOpenAI\n",
    "\n",
    "llm = ChatOpenAI(model=os.getenv(\"OPENAI_MODEL_NAME\"), temperature=0.8)\n",
    "llm_with_tools = llm.bind_tools(tools)"
   ]
  },
  {
   "cell_type": "markdown",
   "metadata": {},
   "source": [
    "# Define Prompt"
   ]
  },
  {
   "cell_type": "code",
   "execution_count": 196,
   "metadata": {},
   "outputs": [],
   "source": [
    "prompt = \"\"\"\n",
    "Create and execute a step-by-step plan with atomic tasks to solve the following problem:\n",
    "\n",
    "**Objective:** Build a Spotify playlist with tracks that have the same vibe and genres as my 'New Rock and Blues' playlist, following the rules below.\n",
    "\n",
    "**Rules:**\n",
    "\n",
    "1. **For each artist in the 'New Rock and Blues' playlist, find 3-4 artists of the similar music style**\n",
    "\n",
    "2 .**Remove from the new artist list those that are already present in the 'New Rock and Blues' Playlist**\n",
    "\n",
    "3. **Focus on Post-2010 Success:** Only include tracks from artists who achieved success after the year 2010.\n",
    "\n",
    "4. **Minimum Number of New Artists:** Include tracks from at least 40 different artists not present in the 'New Rock and Blues' playlist.\n",
    "\n",
    "5. **Recommend 3-4 tracks for each new artist.\n",
    "\n",
    "6. **Arrange for Smooth Listening Experience:** Organize the tracks to create a smooth listening experience, considering tempo, energy, and mood, using best practices.\n",
    "\n",
    "7. **Playlist Length:** Ensure the new playlist contains at least 100 tracks.\n",
    "\n",
    "**Instructions:**\n",
    "\n",
    "- Follow the rules strictly to meet the objective.\n",
    "- Prefer using a tool if available, instead of your Knowledge Base\n",
    "- In your responses always state the step you are working on\n",
    "- Step(s) should be repeated any number of times to achieve the desired outcome.\n",
    "- Do not ask for user confirmation\n",
    "\"\"\"\n"
   ]
  },
  {
   "cell_type": "markdown",
   "metadata": {},
   "source": [
    "# First Message"
   ]
  },
  {
   "cell_type": "code",
   "execution_count": 197,
   "metadata": {},
   "outputs": [
    {
     "name": "stderr",
     "output_type": "stream",
     "text": [
      "2024-11-12 19:06:09,726 - INFO - HTTP Request: POST https://api.openai.com/v1/chat/completions \"HTTP/1.1 200 OK\"\n"
     ]
    }
   ],
   "source": [
    "from langchain_core.messages import HumanMessage\n",
    "\n",
    "human_message = HumanMessage(prompt)\n",
    "ai_tool_call_message = llm_with_tools.invoke([human_message])"
   ]
  },
  {
   "cell_type": "code",
   "execution_count": 198,
   "metadata": {},
   "outputs": [
    {
     "name": "stdout",
     "output_type": "stream",
     "text": [
      "==================================\u001b[1m Ai Message \u001b[0m==================================\n",
      "Tool Calls:\n",
      "  validate_plan (call_TwCeO2eE8kt9x9gbxvGFfaur)\n",
      " Call ID: call_TwCeO2eE8kt9x9gbxvGFfaur\n",
      "  Args:\n",
      "    plan: {'steps': [{'name': 'get_artists', 'description': \"Retrieve the list of unique artists from the 'New Rock and Blues' playlist.\", 'success_criteria': \"Successfully obtained a list of all unique artists from the 'New Rock and Blues' playlist.\", 'tool': 'functions.get_artists_from_playlist', 'action': \"Call the 'get_artists_from_playlist' function with the playlist ID of 'New Rock and Blues'.\"}, {'name': 'find_similar_artists', 'description': \"Find 3-4 similar artists for each artist in the 'New Rock and Blues' playlist.\", 'success_criteria': 'A list of similar artists for each original artist is obtained, with each artist having 3-4 similar artists listed.', 'tool': 'functions.find_similar_artist', 'action': \"Call the 'find_similar_artist' function for each artist obtained in the previous step.\"}, {'name': 'filter_existing_artists', 'description': \"Remove artists already present in the 'New Rock and Blues' Playlist from the list of new similar artists.\", 'success_criteria': \"A filtered list of new artists that are not present in the 'New Rock and Blues' playlist is obtained.\", 'tool': 'functions.filter_artists', 'action': \"Call the 'filter_artists' function with the list of similar artists and the 'New Rock and Blues' playlist ID.\"}, {'name': 'filter_post_2010_success', 'description': 'Filter artists who achieved success after the year 2010.', 'success_criteria': 'A list of artists who gained success post-2010 is obtained.', 'tool': 'functions.tavily_search_results_json', 'action': \"Research each artist's success timeline to ensure they gained recognition post-2010.\"}, {'name': 'recommend_tracks', 'description': 'Recommend 3-4 tracks for each new artist.', 'success_criteria': \"Successfully compiled a list of 3-4 tracks for each new artist, focusing on the same vibe and genre as 'New Rock and Blues'.\", 'tool': 'functions.get_track_list', 'action': 'Retrieve tracks from playlists or albums of each artist.'}, {'name': 'organize_tracks', 'description': 'Organize tracks to create a smooth listening experience, considering tempo, energy, and mood.', 'success_criteria': 'Tracks arranged in an order that provides a smooth and enjoyable listening experience, considering transitions between tempo, energy, and mood.', 'tool': 'knowledge', 'action': 'Use best practices in playlist arrangement to sequence the tracks.'}, {'name': 'create_playlist', 'description': 'Create a new Spotify playlist with the compiled tracks.', 'success_criteria': 'A new Spotify playlist is created with at least 100 tracks from at least 40 different artists.', 'tool': 'functions.create_spotify_playlist', 'action': \"Call the 'create_spotify_playlist' function to create a new playlist on Spotify.\"}, {'name': 'add_tracks_to_playlist', 'description': 'Add the recommended and organized tracks to the newly created playlist.', 'success_criteria': 'All recommended tracks are successfully added to the new playlist.', 'tool': 'functions.add_tracks_to_playlist', 'action': \"Call the 'add_tracks_to_playlist' function with the new playlist ID and the list of organized tracks.\"}], 'Reasoning': 'The plan involves systematically gathering information on artists from an existing playlist, finding similar artists, filtering them according to the rules, compiling a selection of tracks, and organizing them into a new playlist. This process ensures that the new playlist aligns with the original vibe and genre while introducing new post-2010 artists.'}\n"
     ]
    }
   ],
   "source": [
    "ai_tool_call_message.pretty_print()"
   ]
  },
  {
   "cell_type": "code",
   "execution_count": 199,
   "metadata": {},
   "outputs": [
    {
     "data": {
      "text/plain": [
       "{'plan': {'steps': [{'name': 'get_artists',\n",
       "    'description': \"Retrieve the list of unique artists from the 'New Rock and Blues' playlist.\",\n",
       "    'success_criteria': \"Successfully obtained a list of all unique artists from the 'New Rock and Blues' playlist.\",\n",
       "    'tool': 'functions.get_artists_from_playlist',\n",
       "    'action': \"Call the 'get_artists_from_playlist' function with the playlist ID of 'New Rock and Blues'.\"},\n",
       "   {'name': 'find_similar_artists',\n",
       "    'description': \"Find 3-4 similar artists for each artist in the 'New Rock and Blues' playlist.\",\n",
       "    'success_criteria': 'A list of similar artists for each original artist is obtained, with each artist having 3-4 similar artists listed.',\n",
       "    'tool': 'functions.find_similar_artist',\n",
       "    'action': \"Call the 'find_similar_artist' function for each artist obtained in the previous step.\"},\n",
       "   {'name': 'filter_existing_artists',\n",
       "    'description': \"Remove artists already present in the 'New Rock and Blues' Playlist from the list of new similar artists.\",\n",
       "    'success_criteria': \"A filtered list of new artists that are not present in the 'New Rock and Blues' playlist is obtained.\",\n",
       "    'tool': 'functions.filter_artists',\n",
       "    'action': \"Call the 'filter_artists' function with the list of similar artists and the 'New Rock and Blues' playlist ID.\"},\n",
       "   {'name': 'filter_post_2010_success',\n",
       "    'description': 'Filter artists who achieved success after the year 2010.',\n",
       "    'success_criteria': 'A list of artists who gained success post-2010 is obtained.',\n",
       "    'tool': 'functions.tavily_search_results_json',\n",
       "    'action': \"Research each artist's success timeline to ensure they gained recognition post-2010.\"},\n",
       "   {'name': 'recommend_tracks',\n",
       "    'description': 'Recommend 3-4 tracks for each new artist.',\n",
       "    'success_criteria': \"Successfully compiled a list of 3-4 tracks for each new artist, focusing on the same vibe and genre as 'New Rock and Blues'.\",\n",
       "    'tool': 'functions.get_track_list',\n",
       "    'action': 'Retrieve tracks from playlists or albums of each artist.'},\n",
       "   {'name': 'organize_tracks',\n",
       "    'description': 'Organize tracks to create a smooth listening experience, considering tempo, energy, and mood.',\n",
       "    'success_criteria': 'Tracks arranged in an order that provides a smooth and enjoyable listening experience, considering transitions between tempo, energy, and mood.',\n",
       "    'tool': 'knowledge',\n",
       "    'action': 'Use best practices in playlist arrangement to sequence the tracks.'},\n",
       "   {'name': 'create_playlist',\n",
       "    'description': 'Create a new Spotify playlist with the compiled tracks.',\n",
       "    'success_criteria': 'A new Spotify playlist is created with at least 100 tracks from at least 40 different artists.',\n",
       "    'tool': 'functions.create_spotify_playlist',\n",
       "    'action': \"Call the 'create_spotify_playlist' function to create a new playlist on Spotify.\"},\n",
       "   {'name': 'add_tracks_to_playlist',\n",
       "    'description': 'Add the recommended and organized tracks to the newly created playlist.',\n",
       "    'success_criteria': 'All recommended tracks are successfully added to the new playlist.',\n",
       "    'tool': 'functions.add_tracks_to_playlist',\n",
       "    'action': \"Call the 'add_tracks_to_playlist' function with the new playlist ID and the list of organized tracks.\"}],\n",
       "  'Reasoning': 'The plan involves systematically gathering information on artists from an existing playlist, finding similar artists, filtering them according to the rules, compiling a selection of tracks, and organizing them into a new playlist. This process ensures that the new playlist aligns with the original vibe and genre while introducing new post-2010 artists.'}}"
      ]
     },
     "execution_count": 199,
     "metadata": {},
     "output_type": "execute_result"
    }
   ],
   "source": [
    "import json\n",
    "plan = ai_tool_call_message.additional_kwargs[\"tool_calls\"][0][\"function\"][\"arguments\"]\n",
    "json.loads(plan)"
   ]
  },
  {
   "cell_type": "markdown",
   "metadata": {},
   "source": [
    "# chat_prompt_template holds all messages (Human, AI, Tool)"
   ]
  },
  {
   "cell_type": "code",
   "execution_count": 200,
   "metadata": {},
   "outputs": [
    {
     "data": {
      "text/plain": [
       "[HumanMessage(content=\"\\nCreate and execute a step-by-step plan with atomic tasks to solve the following problem:\\n\\n**Objective:** Build a Spotify playlist with tracks that have the same vibe and genres as my 'New Rock and Blues' playlist, following the rules below.\\n\\n**Rules:**\\n\\n1. **For each artist in the 'New Rock and Blues' playlist, find 3-4 artists of the similar music style**\\n\\n2 .**Remove from the new artist list those that are already present in the 'New Rock and Blues' Playlist**\\n\\n3. **Focus on Post-2010 Success:** Only include tracks from artists who achieved success after the year 2010.\\n\\n4. **Minimum Number of New Artists:** Include tracks from at least 40 different artists not present in the 'New Rock and Blues' playlist.\\n\\n5. **Recommend 3-4 tracks for each new artist.\\n\\n6. **Arrange for Smooth Listening Experience:** Organize the tracks to create a smooth listening experience, considering tempo, energy, and mood, using best practices.\\n\\n7. **Playlist Length:** Ensure the new playlist contains at least 100 tracks.\\n\\n**Instructions:**\\n\\n- Follow the rules strictly to meet the objective.\\n- Prefer using a tool if available, instead of your Knowledge Base\\n- In your responses always state the step you are working on\\n- Step(s) should be repeated any number of times to achieve the desired outcome.\\n- Do not ask for user confirmation\\n\", additional_kwargs={}, response_metadata={}),\n",
       " AIMessage(content='', additional_kwargs={'tool_calls': [{'id': 'call_TwCeO2eE8kt9x9gbxvGFfaur', 'function': {'arguments': '{\"plan\":{\"steps\":[{\"name\":\"get_artists\",\"description\":\"Retrieve the list of unique artists from the \\'New Rock and Blues\\' playlist.\",\"success_criteria\":\"Successfully obtained a list of all unique artists from the \\'New Rock and Blues\\' playlist.\",\"tool\":\"functions.get_artists_from_playlist\",\"action\":\"Call the \\'get_artists_from_playlist\\' function with the playlist ID of \\'New Rock and Blues\\'.\"},{\"name\":\"find_similar_artists\",\"description\":\"Find 3-4 similar artists for each artist in the \\'New Rock and Blues\\' playlist.\",\"success_criteria\":\"A list of similar artists for each original artist is obtained, with each artist having 3-4 similar artists listed.\",\"tool\":\"functions.find_similar_artist\",\"action\":\"Call the \\'find_similar_artist\\' function for each artist obtained in the previous step.\"},{\"name\":\"filter_existing_artists\",\"description\":\"Remove artists already present in the \\'New Rock and Blues\\' Playlist from the list of new similar artists.\",\"success_criteria\":\"A filtered list of new artists that are not present in the \\'New Rock and Blues\\' playlist is obtained.\",\"tool\":\"functions.filter_artists\",\"action\":\"Call the \\'filter_artists\\' function with the list of similar artists and the \\'New Rock and Blues\\' playlist ID.\"},{\"name\":\"filter_post_2010_success\",\"description\":\"Filter artists who achieved success after the year 2010.\",\"success_criteria\":\"A list of artists who gained success post-2010 is obtained.\",\"tool\":\"functions.tavily_search_results_json\",\"action\":\"Research each artist\\'s success timeline to ensure they gained recognition post-2010.\"},{\"name\":\"recommend_tracks\",\"description\":\"Recommend 3-4 tracks for each new artist.\",\"success_criteria\":\"Successfully compiled a list of 3-4 tracks for each new artist, focusing on the same vibe and genre as \\'New Rock and Blues\\'.\",\"tool\":\"functions.get_track_list\",\"action\":\"Retrieve tracks from playlists or albums of each artist.\"},{\"name\":\"organize_tracks\",\"description\":\"Organize tracks to create a smooth listening experience, considering tempo, energy, and mood.\",\"success_criteria\":\"Tracks arranged in an order that provides a smooth and enjoyable listening experience, considering transitions between tempo, energy, and mood.\",\"tool\":\"knowledge\",\"action\":\"Use best practices in playlist arrangement to sequence the tracks.\"},{\"name\":\"create_playlist\",\"description\":\"Create a new Spotify playlist with the compiled tracks.\",\"success_criteria\":\"A new Spotify playlist is created with at least 100 tracks from at least 40 different artists.\",\"tool\":\"functions.create_spotify_playlist\",\"action\":\"Call the \\'create_spotify_playlist\\' function to create a new playlist on Spotify.\"},{\"name\":\"add_tracks_to_playlist\",\"description\":\"Add the recommended and organized tracks to the newly created playlist.\",\"success_criteria\":\"All recommended tracks are successfully added to the new playlist.\",\"tool\":\"functions.add_tracks_to_playlist\",\"action\":\"Call the \\'add_tracks_to_playlist\\' function with the new playlist ID and the list of organized tracks.\"}],\"Reasoning\":\"The plan involves systematically gathering information on artists from an existing playlist, finding similar artists, filtering them according to the rules, compiling a selection of tracks, and organizing them into a new playlist. This process ensures that the new playlist aligns with the original vibe and genre while introducing new post-2010 artists.\"}}', 'name': 'validate_plan'}, 'type': 'function'}], 'refusal': None}, response_metadata={'token_usage': {'completion_tokens': 690, 'prompt_tokens': 1417, 'total_tokens': 2107, 'completion_tokens_details': {'accepted_prediction_tokens': 0, 'audio_tokens': 0, 'reasoning_tokens': 0, 'rejected_prediction_tokens': 0}, 'prompt_tokens_details': {'audio_tokens': 0, 'cached_tokens': 0}}, 'model_name': 'gpt-4o-2024-08-06', 'system_fingerprint': 'fp_9ae7d34090', 'finish_reason': 'tool_calls', 'logprobs': None}, id='run-d4c53645-3edb-4ec8-b740-e12882c44edf-0', tool_calls=[{'name': 'validate_plan', 'args': {'plan': {'steps': [{'name': 'get_artists', 'description': \"Retrieve the list of unique artists from the 'New Rock and Blues' playlist.\", 'success_criteria': \"Successfully obtained a list of all unique artists from the 'New Rock and Blues' playlist.\", 'tool': 'functions.get_artists_from_playlist', 'action': \"Call the 'get_artists_from_playlist' function with the playlist ID of 'New Rock and Blues'.\"}, {'name': 'find_similar_artists', 'description': \"Find 3-4 similar artists for each artist in the 'New Rock and Blues' playlist.\", 'success_criteria': 'A list of similar artists for each original artist is obtained, with each artist having 3-4 similar artists listed.', 'tool': 'functions.find_similar_artist', 'action': \"Call the 'find_similar_artist' function for each artist obtained in the previous step.\"}, {'name': 'filter_existing_artists', 'description': \"Remove artists already present in the 'New Rock and Blues' Playlist from the list of new similar artists.\", 'success_criteria': \"A filtered list of new artists that are not present in the 'New Rock and Blues' playlist is obtained.\", 'tool': 'functions.filter_artists', 'action': \"Call the 'filter_artists' function with the list of similar artists and the 'New Rock and Blues' playlist ID.\"}, {'name': 'filter_post_2010_success', 'description': 'Filter artists who achieved success after the year 2010.', 'success_criteria': 'A list of artists who gained success post-2010 is obtained.', 'tool': 'functions.tavily_search_results_json', 'action': \"Research each artist's success timeline to ensure they gained recognition post-2010.\"}, {'name': 'recommend_tracks', 'description': 'Recommend 3-4 tracks for each new artist.', 'success_criteria': \"Successfully compiled a list of 3-4 tracks for each new artist, focusing on the same vibe and genre as 'New Rock and Blues'.\", 'tool': 'functions.get_track_list', 'action': 'Retrieve tracks from playlists or albums of each artist.'}, {'name': 'organize_tracks', 'description': 'Organize tracks to create a smooth listening experience, considering tempo, energy, and mood.', 'success_criteria': 'Tracks arranged in an order that provides a smooth and enjoyable listening experience, considering transitions between tempo, energy, and mood.', 'tool': 'knowledge', 'action': 'Use best practices in playlist arrangement to sequence the tracks.'}, {'name': 'create_playlist', 'description': 'Create a new Spotify playlist with the compiled tracks.', 'success_criteria': 'A new Spotify playlist is created with at least 100 tracks from at least 40 different artists.', 'tool': 'functions.create_spotify_playlist', 'action': \"Call the 'create_spotify_playlist' function to create a new playlist on Spotify.\"}, {'name': 'add_tracks_to_playlist', 'description': 'Add the recommended and organized tracks to the newly created playlist.', 'success_criteria': 'All recommended tracks are successfully added to the new playlist.', 'tool': 'functions.add_tracks_to_playlist', 'action': \"Call the 'add_tracks_to_playlist' function with the new playlist ID and the list of organized tracks.\"}], 'Reasoning': 'The plan involves systematically gathering information on artists from an existing playlist, finding similar artists, filtering them according to the rules, compiling a selection of tracks, and organizing them into a new playlist. This process ensures that the new playlist aligns with the original vibe and genre while introducing new post-2010 artists.'}}, 'id': 'call_TwCeO2eE8kt9x9gbxvGFfaur', 'type': 'tool_call'}], usage_metadata={'input_tokens': 1417, 'output_tokens': 690, 'total_tokens': 2107, 'input_token_details': {'audio': 0, 'cache_read': 0}, 'output_token_details': {'audio': 0, 'reasoning': 0}})]"
      ]
     },
     "execution_count": 200,
     "metadata": {},
     "output_type": "execute_result"
    }
   ],
   "source": [
    "from langchain_core.prompts import ChatPromptTemplate, MessagesPlaceholder\n",
    "\n",
    "chat_prompt_template: ChatPromptTemplate = human_message + ai_tool_call_message\n",
    "messages = chat_prompt_template.format_messages()\n",
    "messages"
   ]
  },
  {
   "cell_type": "markdown",
   "metadata": {},
   "source": [
    "# Check for Tools in Message"
   ]
  },
  {
   "cell_type": "code",
   "execution_count": 201,
   "metadata": {},
   "outputs": [
    {
     "name": "stdout",
     "output_type": "stream",
     "text": [
      "[StructuredTool(name='validate_plan', description='Validates a step-by-step plan to solve a problem\\n\\nArgs:\\n    plan (Plan): a step-by-step plan to solve a problem\\n\\nReturns:\\n    bool: whether plan is okay or not', args_schema=<class 'langchain_core.utils.pydantic.validate_plan'>, func=<function validate_plan at 0x0000024E12C600E0>)]\n"
     ]
    }
   ],
   "source": [
    "from langchain_core.messages import ToolMessage\n",
    "\n",
    "tools_in_ai_message = []\n",
    "tools_by_name = {tool.name: tool for tool in tools}\n",
    "messages = chat_prompt_template.format_messages()\n",
    "for tool_call in messages[-1].tool_calls:\n",
    "    tool = tools_by_name[tool_call[\"name\"]]\n",
    "    tools_in_ai_message.append(tool)\n",
    "    # observation = tool.invoke(tool_call[\"args\"])\n",
    "    # result.append(ToolMessage(content=observation, tool_call_id=tool_call[\"id\"]))\n",
    "if len(tools_in_ai_message) == 0 or len(tools_in_ai_message) > 1:\n",
    "    raise ValueError\n",
    "else:\n",
    "    print(tools_in_ai_message)"
   ]
  },
  {
   "cell_type": "markdown",
   "metadata": {},
   "source": [
    "# Tool Call (should be validate_plan())"
   ]
  },
  {
   "cell_type": "code",
   "execution_count": 202,
   "metadata": {},
   "outputs": [
    {
     "name": "stdout",
     "output_type": "stream",
     "text": [
      "=================================\u001b[1m Tool Message \u001b[0m=================================\n",
      "Name: validate_plan\n",
      "\n",
      "true\n"
     ]
    }
   ],
   "source": [
    "response = tool_node.invoke({\"messages\": messages})\n",
    "tool_message = response[\"messages\"][0]\n",
    "tool_message.pretty_print()"
   ]
  },
  {
   "cell_type": "code",
   "execution_count": 203,
   "metadata": {},
   "outputs": [
    {
     "data": {
      "text/plain": [
       "[HumanMessage(content=\"\\nCreate and execute a step-by-step plan with atomic tasks to solve the following problem:\\n\\n**Objective:** Build a Spotify playlist with tracks that have the same vibe and genres as my 'New Rock and Blues' playlist, following the rules below.\\n\\n**Rules:**\\n\\n1. **For each artist in the 'New Rock and Blues' playlist, find 3-4 artists of the similar music style**\\n\\n2 .**Remove from the new artist list those that are already present in the 'New Rock and Blues' Playlist**\\n\\n3. **Focus on Post-2010 Success:** Only include tracks from artists who achieved success after the year 2010.\\n\\n4. **Minimum Number of New Artists:** Include tracks from at least 40 different artists not present in the 'New Rock and Blues' playlist.\\n\\n5. **Recommend 3-4 tracks for each new artist.\\n\\n6. **Arrange for Smooth Listening Experience:** Organize the tracks to create a smooth listening experience, considering tempo, energy, and mood, using best practices.\\n\\n7. **Playlist Length:** Ensure the new playlist contains at least 100 tracks.\\n\\n**Instructions:**\\n\\n- Follow the rules strictly to meet the objective.\\n- Prefer using a tool if available, instead of your Knowledge Base\\n- In your responses always state the step you are working on\\n- Step(s) should be repeated any number of times to achieve the desired outcome.\\n- Do not ask for user confirmation\\n\", additional_kwargs={}, response_metadata={}),\n",
       " AIMessage(content='', additional_kwargs={'tool_calls': [{'id': 'call_TwCeO2eE8kt9x9gbxvGFfaur', 'function': {'arguments': '{\"plan\":{\"steps\":[{\"name\":\"get_artists\",\"description\":\"Retrieve the list of unique artists from the \\'New Rock and Blues\\' playlist.\",\"success_criteria\":\"Successfully obtained a list of all unique artists from the \\'New Rock and Blues\\' playlist.\",\"tool\":\"functions.get_artists_from_playlist\",\"action\":\"Call the \\'get_artists_from_playlist\\' function with the playlist ID of \\'New Rock and Blues\\'.\"},{\"name\":\"find_similar_artists\",\"description\":\"Find 3-4 similar artists for each artist in the \\'New Rock and Blues\\' playlist.\",\"success_criteria\":\"A list of similar artists for each original artist is obtained, with each artist having 3-4 similar artists listed.\",\"tool\":\"functions.find_similar_artist\",\"action\":\"Call the \\'find_similar_artist\\' function for each artist obtained in the previous step.\"},{\"name\":\"filter_existing_artists\",\"description\":\"Remove artists already present in the \\'New Rock and Blues\\' Playlist from the list of new similar artists.\",\"success_criteria\":\"A filtered list of new artists that are not present in the \\'New Rock and Blues\\' playlist is obtained.\",\"tool\":\"functions.filter_artists\",\"action\":\"Call the \\'filter_artists\\' function with the list of similar artists and the \\'New Rock and Blues\\' playlist ID.\"},{\"name\":\"filter_post_2010_success\",\"description\":\"Filter artists who achieved success after the year 2010.\",\"success_criteria\":\"A list of artists who gained success post-2010 is obtained.\",\"tool\":\"functions.tavily_search_results_json\",\"action\":\"Research each artist\\'s success timeline to ensure they gained recognition post-2010.\"},{\"name\":\"recommend_tracks\",\"description\":\"Recommend 3-4 tracks for each new artist.\",\"success_criteria\":\"Successfully compiled a list of 3-4 tracks for each new artist, focusing on the same vibe and genre as \\'New Rock and Blues\\'.\",\"tool\":\"functions.get_track_list\",\"action\":\"Retrieve tracks from playlists or albums of each artist.\"},{\"name\":\"organize_tracks\",\"description\":\"Organize tracks to create a smooth listening experience, considering tempo, energy, and mood.\",\"success_criteria\":\"Tracks arranged in an order that provides a smooth and enjoyable listening experience, considering transitions between tempo, energy, and mood.\",\"tool\":\"knowledge\",\"action\":\"Use best practices in playlist arrangement to sequence the tracks.\"},{\"name\":\"create_playlist\",\"description\":\"Create a new Spotify playlist with the compiled tracks.\",\"success_criteria\":\"A new Spotify playlist is created with at least 100 tracks from at least 40 different artists.\",\"tool\":\"functions.create_spotify_playlist\",\"action\":\"Call the \\'create_spotify_playlist\\' function to create a new playlist on Spotify.\"},{\"name\":\"add_tracks_to_playlist\",\"description\":\"Add the recommended and organized tracks to the newly created playlist.\",\"success_criteria\":\"All recommended tracks are successfully added to the new playlist.\",\"tool\":\"functions.add_tracks_to_playlist\",\"action\":\"Call the \\'add_tracks_to_playlist\\' function with the new playlist ID and the list of organized tracks.\"}],\"Reasoning\":\"The plan involves systematically gathering information on artists from an existing playlist, finding similar artists, filtering them according to the rules, compiling a selection of tracks, and organizing them into a new playlist. This process ensures that the new playlist aligns with the original vibe and genre while introducing new post-2010 artists.\"}}', 'name': 'validate_plan'}, 'type': 'function'}], 'refusal': None}, response_metadata={'token_usage': {'completion_tokens': 690, 'prompt_tokens': 1417, 'total_tokens': 2107, 'completion_tokens_details': {'accepted_prediction_tokens': 0, 'audio_tokens': 0, 'reasoning_tokens': 0, 'rejected_prediction_tokens': 0}, 'prompt_tokens_details': {'audio_tokens': 0, 'cached_tokens': 0}}, 'model_name': 'gpt-4o-2024-08-06', 'system_fingerprint': 'fp_9ae7d34090', 'finish_reason': 'tool_calls', 'logprobs': None}, id='run-d4c53645-3edb-4ec8-b740-e12882c44edf-0', tool_calls=[{'name': 'validate_plan', 'args': {'plan': {'steps': [{'name': 'get_artists', 'description': \"Retrieve the list of unique artists from the 'New Rock and Blues' playlist.\", 'success_criteria': \"Successfully obtained a list of all unique artists from the 'New Rock and Blues' playlist.\", 'tool': 'functions.get_artists_from_playlist', 'action': \"Call the 'get_artists_from_playlist' function with the playlist ID of 'New Rock and Blues'.\"}, {'name': 'find_similar_artists', 'description': \"Find 3-4 similar artists for each artist in the 'New Rock and Blues' playlist.\", 'success_criteria': 'A list of similar artists for each original artist is obtained, with each artist having 3-4 similar artists listed.', 'tool': 'functions.find_similar_artist', 'action': \"Call the 'find_similar_artist' function for each artist obtained in the previous step.\"}, {'name': 'filter_existing_artists', 'description': \"Remove artists already present in the 'New Rock and Blues' Playlist from the list of new similar artists.\", 'success_criteria': \"A filtered list of new artists that are not present in the 'New Rock and Blues' playlist is obtained.\", 'tool': 'functions.filter_artists', 'action': \"Call the 'filter_artists' function with the list of similar artists and the 'New Rock and Blues' playlist ID.\"}, {'name': 'filter_post_2010_success', 'description': 'Filter artists who achieved success after the year 2010.', 'success_criteria': 'A list of artists who gained success post-2010 is obtained.', 'tool': 'functions.tavily_search_results_json', 'action': \"Research each artist's success timeline to ensure they gained recognition post-2010.\"}, {'name': 'recommend_tracks', 'description': 'Recommend 3-4 tracks for each new artist.', 'success_criteria': \"Successfully compiled a list of 3-4 tracks for each new artist, focusing on the same vibe and genre as 'New Rock and Blues'.\", 'tool': 'functions.get_track_list', 'action': 'Retrieve tracks from playlists or albums of each artist.'}, {'name': 'organize_tracks', 'description': 'Organize tracks to create a smooth listening experience, considering tempo, energy, and mood.', 'success_criteria': 'Tracks arranged in an order that provides a smooth and enjoyable listening experience, considering transitions between tempo, energy, and mood.', 'tool': 'knowledge', 'action': 'Use best practices in playlist arrangement to sequence the tracks.'}, {'name': 'create_playlist', 'description': 'Create a new Spotify playlist with the compiled tracks.', 'success_criteria': 'A new Spotify playlist is created with at least 100 tracks from at least 40 different artists.', 'tool': 'functions.create_spotify_playlist', 'action': \"Call the 'create_spotify_playlist' function to create a new playlist on Spotify.\"}, {'name': 'add_tracks_to_playlist', 'description': 'Add the recommended and organized tracks to the newly created playlist.', 'success_criteria': 'All recommended tracks are successfully added to the new playlist.', 'tool': 'functions.add_tracks_to_playlist', 'action': \"Call the 'add_tracks_to_playlist' function with the new playlist ID and the list of organized tracks.\"}], 'Reasoning': 'The plan involves systematically gathering information on artists from an existing playlist, finding similar artists, filtering them according to the rules, compiling a selection of tracks, and organizing them into a new playlist. This process ensures that the new playlist aligns with the original vibe and genre while introducing new post-2010 artists.'}}, 'id': 'call_TwCeO2eE8kt9x9gbxvGFfaur', 'type': 'tool_call'}], usage_metadata={'input_tokens': 1417, 'output_tokens': 690, 'total_tokens': 2107, 'input_token_details': {'audio': 0, 'cache_read': 0}, 'output_token_details': {'audio': 0, 'reasoning': 0}}),\n",
       " ToolMessage(content='true', name='validate_plan', tool_call_id='call_TwCeO2eE8kt9x9gbxvGFfaur')]"
      ]
     },
     "execution_count": 203,
     "metadata": {},
     "output_type": "execute_result"
    }
   ],
   "source": [
    "chat_prompt_template += tool_message\n",
    "chat_prompt_template.format_messages()"
   ]
  },
  {
   "cell_type": "markdown",
   "metadata": {},
   "source": [
    "# Send tool result to LLM"
   ]
  },
  {
   "cell_type": "code",
   "execution_count": 204,
   "metadata": {},
   "outputs": [
    {
     "name": "stderr",
     "output_type": "stream",
     "text": [
      "2024-11-12 19:06:48,403 - INFO - HTTP Request: POST https://api.openai.com/v1/chat/completions \"HTTP/1.1 200 OK\"\n"
     ]
    },
    {
     "name": "stdout",
     "output_type": "stream",
     "text": [
      "==================================\u001b[1m Ai Message \u001b[0m==================================\n",
      "\n",
      "The plan has been validated and is ready for execution. Let's begin with Step 1.\n",
      "\n",
      "### Step 1: Get Artists\n",
      "**Objective:** Retrieve the list of unique artists from the 'New Rock and Blues' playlist.\n",
      "\n",
      "I will start by calling the function to get the unique artists from the 'New Rock and Blues' playlist.\n",
      "Tool Calls:\n",
      "  get_playlists (call_53p08hL3fpPRh29PfS3QZpMd)\n",
      " Call ID: call_53p08hL3fpPRh29PfS3QZpMd\n",
      "  Args:\n"
     ]
    }
   ],
   "source": [
    "ai_tool_call_message = llm_with_tools.invoke(chat_prompt_template.format_messages())\n",
    "ai_tool_call_message.pretty_print()"
   ]
  },
  {
   "cell_type": "markdown",
   "metadata": {},
   "source": [
    "# Tool Call (should be get_playlists())"
   ]
  },
  {
   "cell_type": "code",
   "execution_count": 205,
   "metadata": {},
   "outputs": [],
   "source": [
    "chat_prompt_template += ai_tool_call_message\n",
    "messages = chat_prompt_template.format_messages()\n",
    "response = tool_node.invoke({\"messages\": messages})"
   ]
  },
  {
   "cell_type": "code",
   "execution_count": 206,
   "metadata": {},
   "outputs": [
    {
     "name": "stdout",
     "output_type": "stream",
     "text": [
      "=================================\u001b[1m Tool Message \u001b[0m=================================\n",
      "Name: get_playlists\n",
      "\n",
      "{\"playlists\": [{\"id\": \"2dbYK5b7J0F7IdH5n1TEUK\", \"uri\": \"spotify:playlist:2dbYK5b7J0F7IdH5n1TEUK\", \"name\": \"RPreacher\", \"description\": \"\", \"owner\": \"Ray\", \"tracks_total\": 3, \"is_public\": true, \"collaborative\": false, \"snapshot_id\": \"AAAABG1lhIiRJT/NE9RpP4K6UnmZWixo\"}, {\"id\": \"4ack9YtUhdxRayJDAqlfQe\", \"uri\": \"spotify:playlist:4ack9YtUhdxRayJDAqlfQe\", \"name\": \"RP Bossa Nova Chill \", \"description\": \"\", \"owner\": \"Ray\", \"tracks_total\": 30, \"is_public\": true, \"collaborative\": false, \"snapshot_id\": \"AAAAIThdM9g/YPQwj7nuoHhewWyLoKEi\"}, {\"id\": \"75NW18NgdZuZeifrcjxKlZ\", \"uri\": \"spotify:playlist:75NW18NgdZuZeifrcjxKlZ\", \"name\": \"GVF\", \"description\": \"\", \"owner\": \"Ray\", \"tracks_total\": 11, \"is_public\": true, \"collaborative\": false, \"snapshot_id\": \"AAAADKZNV9h+cfi1PbOi6yjNHMe8mLWC\"}, {\"id\": \"5iyONtUO21O88xw8pBblwh\", \"uri\": \"spotify:playlist:5iyONtUO21O88xw8pBblwh\", \"name\": \"Now And Then\", \"description\": \"\", \"owner\": \"Ray\", \"tracks_total\": 7, \"is_public\": true, \"collaborative\": false, \"snapshot_id\": \"AAAACBkT0vD6HHtLpUO7hEOCzClgABvP\"}, {\"id\": \"4SDSUMg2HJcGFmHlupsU7U\", \"uri\": \"spotify:playlist:4SDSUMg2HJcGFmHlupsU7U\", \"name\": \"Jazz classics\", \"description\": \"\", \"owner\": \"Ray\", \"tracks_total\": 251, \"is_public\": true, \"collaborative\": false, \"snapshot_id\": \"AAAAA8p/xZVmAcTsRpsMlQtRepRFmbfo\"}, {\"id\": \"5fBxLG2wLAPVpx83402rHl\", \"uri\": \"spotify:playlist:5fBxLG2wLAPVpx83402rHl\", \"name\": \"Acdc\", \"description\": \"\", \"owner\": \"Ray\", \"tracks_total\": 26, \"is_public\": true, \"collaborative\": false, \"snapshot_id\": \"AAAAG+HaorntGV3LHad9bEcICDGFD56C\"}, {\"id\": \"17Yxm5hQbkbZwDcCTuiDXC\", \"uri\": \"spotify:playlist:17Yxm5hQbkbZwDcCTuiDXC\", \"name\": \"einaudi\", \"description\": \"\", \"owner\": \"Ray\", \"tracks_total\": 18, \"is_public\": true, \"collaborative\": false, \"snapshot_id\": \"AAAAF9qEdgDunVs0NC8jBUoE/CdMF7jq\"}, {\"id\": \"2X6GccWfIqPWO6VYx405nO\", \"uri\": \"spotify:playlist:2X6GccWfIqPWO6VYx405nO\", \"name\": \"Eric Clapton Blues\", \"description\": \"\", \"owner\": \"Ray\", \"tracks_total\": 24, \"is_public\": true, \"collaborative\": false, \"snapshot_id\": \"AAAAH4q+4xxgg62OXnIHbsNVZPC1LL1Q\"}, {\"id\": \"3smVXe8y8w8nt4lFH0HBkW\", \"uri\": \"spotify:playlist:3smVXe8y8w8nt4lFH0HBkW\", \"name\": \"Alchemy: Dire Straits\", \"description\": \"\", \"owner\": \"Ray\", \"tracks_total\": 10, \"is_public\": true, \"collaborative\": false, \"snapshot_id\": \"AAAAD45w+Oq6Z1xq7iMwF6iFkfWoT87p\"}, {\"id\": \"2ifRZBXnX7UmIPUlGet5WZ\", \"uri\": \"spotify:playlist:2ifRZBXnX7UmIPUlGet5WZ\", \"name\": \"Blues\", \"description\": \"\", \"owner\": \"Ray\", \"tracks_total\": 67, \"is_public\": true, \"collaborative\": false, \"snapshot_id\": \"AAAAVVh4N/reGLwCIcv89XjeUDHPPeAQ\"}, {\"id\": \"5nn2ePtd9gYEEDL3XnACCB\", \"uri\": \"spotify:playlist:5nn2ePtd9gYEEDL3XnACCB\", \"name\": \"brazil\", \"description\": \"\", \"owner\": \"Ray\", \"tracks_total\": 62, \"is_public\": true, \"collaborative\": false, \"snapshot_id\": \"AAAAV9cqXazKhP9K8MYZTPAqS7yFP1hq\"}, {\"id\": \"6YAntoKNXuogPKdV26b6XE\", \"uri\": \"spotify:playlist:6YAntoKNXuogPKdV26b6XE\", \"name\": \"CCR\", \"description\": \"\", \"owner\": \"Ray\", \"tracks_total\": 17, \"is_public\": true, \"collaborative\": false, \"snapshot_id\": \"AAAAEw4Fg6uyrf9reMIEnkNruUB2nRbg\"}, {\"id\": \"2VHkZvOMCkLF3B7TsKerKD\", \"uri\": \"spotify:playlist:2VHkZvOMCkLF3B7TsKerKD\", \"name\": \"Chill\", \"description\": \"\", \"owner\": \"Ray\", \"tracks_total\": 53, \"is_public\": true, \"collaborative\": false, \"snapshot_id\": \"AAAAOhAKCSjCgKZOV6OTiSZohe9Isj7C\"}, {\"id\": \"508lbLx9XUkHv5Xb45hxTP\", \"uri\": \"spotify:playlist:508lbLx9XUkHv5Xb45hxTP\", \"name\": \"Classic Rock\", \"description\": \"\", \"owner\": \"Ray\", \"tracks_total\": 306, \"is_public\": true, \"collaborative\": false, \"snapshot_id\": \"AAABRtPd9z/BoPLPCUOJBrUyXci7+r1n\"}, {\"id\": \"7zzDMq1sPwkZPYeqOQJ9qS\", \"uri\": \"spotify:playlist:7zzDMq1sPwkZPYeqOQJ9qS\", \"name\": \"The New Four Seasons - Vivaldi Recomposed\", \"description\": \"\", \"owner\": \"Ray\", \"tracks_total\": 13, \"is_public\": true, \"collaborative\": false, \"snapshot_id\": \"AAAAAsi2q+bxREAMmVWVTWHt10bpB6fa\"}, {\"id\": \"4l8WcaYlPkuVPXVGxMIca3\", \"uri\": \"spotify:playlist:4l8WcaYlPkuVPXVGxMIca3\", \"name\": \"New Study\", \"description\": \"\", \"owner\": \"Ray\", \"tracks_total\": 11, \"is_public\": true, \"collaborative\": false, \"snapshot_id\": \"AAAAEL23paVLvTGrRFTKquh+DNiGzrt7\"}, {\"id\": \"0Wr2Z9vroQ9IXKaokFHldt\", \"uri\": \"spotify:playlist:0Wr2Z9vroQ9IXKaokFHldt\", \"name\": \"Islands - Essential Einaudi (Deluxe Version)\", \"description\": \"\", \"owner\": \"Ray\", \"tracks_total\": 27, \"is_public\": true, \"collaborative\": false, \"snapshot_id\": \"AAAAAmPd/R11xxXnmQE5LY4VHJOmc2Si\"}, {\"id\": \"780Yx65yiaLtBYM76neBYC\", \"uri\": \"spotify:playlist:780Yx65yiaLtBYM76neBYC\", \"name\": \"Gioachino Rossini – Rossini: Overtures\", \"description\": \"\", \"owner\": \"Ray\", \"tracks_total\": 8, \"is_public\": true, \"collaborative\": false, \"snapshot_id\": \"AAAAAk/j3UaxYxxJ2E3uDuvkTHY7CyA3\"}, {\"id\": \"76rUGmzqh1OhyheEOUDYNp\", \"uri\": \"spotify:playlist:76rUGmzqh1OhyheEOUDYNp\", \"name\": \"Frédéric Chopin – Chopin: Nocturnes\", \"description\": \"\", \"owner\": \"Ray\", \"tracks_total\": 19, \"is_public\": true, \"collaborative\": false, \"snapshot_id\": \"AAAAAojQZUHMvW1fqFvaPCPZw651RTcR\"}, {\"id\": \"5qcHJodVJd8AEOT2cCvxEm\", \"uri\": \"spotify:playlist:5qcHJodVJd8AEOT2cCvxEm\", \"name\": \"Frédéric Chopin – Chopin: Nocturnes - Sony Classical Originals 2\", \"description\": \"\", \"owner\": \"Ray\", \"tracks_total\": 19, \"is_public\": true, \"collaborative\": false, \"snapshot_id\": \"AAAAAosFti6TgoD7O3TfPlfPiFc7yKj2\"}, {\"id\": \"7hr9yYAJLXDoJ5sKBhm8Af\", \"uri\": \"spotify:playlist:7hr9yYAJLXDoJ5sKBhm8Af\", \"name\": \"Antonio Vivaldi – Vivaldi: Guitar Concertos\", \"description\": \"\", \"owner\": \"Ray\", \"tracks_total\": 15, \"is_public\": true, \"collaborative\": false, \"snapshot_id\": \"AAAAAq5lTrQQYp3SUTtJrmlIdHbyh5CZ\"}, {\"id\": \"4ruyjAXs6VHU8ZYJqXsUiN\", \"uri\": \"spotify:playlist:4ruyjAXs6VHU8ZYJqXsUiN\", \"name\": \"Sergei Rachmaninoff – Rachmaninoff Plays Rachmaninoff: Concertos Nos. 2 and 3\", \"description\": \"\", \"owner\": \"Ray\", \"tracks_total\": 6, \"is_public\": true, \"collaborative\": false, \"snapshot_id\": \"AAAAAnd4DV7yCmI2VX7w0BB64um7bJem\"}, {\"id\": \"4GYOeGfC7fSephEi3UYh0W\", \"uri\": \"spotify:playlist:4GYOeGfC7fSephEi3UYh0W\", \"name\": \"Erik Satie – Satie: Gymnopédies, Gnossiennes & Other Works\", \"description\": \"\", \"owner\": \"Ray\", \"tracks_total\": 27, \"is_public\": true, \"collaborative\": false, \"snapshot_id\": \"AAAAAnslTVllUSPnBdYh2FMu1DtFAzVs\"}, {\"id\": \"2lop6NfhiYA07UzhWUCyc2\", \"uri\": \"spotify:playlist:2lop6NfhiYA07UzhWUCyc2\", \"name\": \"Classical Masters\", \"description\": \"\", \"owner\": \"Ray\", \"tracks_total\": 29, \"is_public\": true, \"collaborative\": false, \"snapshot_id\": \"AAAAIv8IPFeim0+gMauDLlofBPiDknYa\"}, {\"id\": \"2RUN05cfOlR09kJUvTAEPk\", \"uri\": \"spotify:playlist:2RUN05cfOlR09kJUvTAEPk\", \"name\": \"Evil Woman\", \"description\": \"\", \"owner\": \"Ray\", \"tracks_total\": 11, \"is_public\": true, \"collaborative\": false, \"snapshot_id\": \"AAAADYR9TeZBCOAQTx+qJaL78t/qalhZ\"}, {\"id\": \"3DEKSWlDt8Qors1NpYLXwt\", \"uri\": \"spotify:playlist:3DEKSWlDt8Qors1NpYLXwt\", \"name\": \"Hits 2000\", \"description\": \"\", \"owner\": \"Ray\", \"tracks_total\": 121, \"is_public\": true, \"collaborative\": false, \"snapshot_id\": \"AAAAsUV20d2iEtoXYqXPHsTzbFeyJfVJ\"}, {\"id\": \"7FgZOBK0lhTZz7gMJeV7gs\", \"uri\": \"spotify:playlist:7FgZOBK0lhTZz7gMJeV7gs\", \"name\": \"Insomniac\", \"description\": \"\", \"owner\": \"Ray\", \"tracks_total\": 182, \"is_public\": true, \"collaborative\": false, \"snapshot_id\": \"AAAA4Cmc8w8KuivAczjvfXId2sSkEm/h\"}, {\"id\": \"6DgcAL9oygPekQLDY2mFDq\", \"uri\": \"spotify:playlist:6DgcAL9oygPekQLDY2mFDq\", \"name\": \"Jean-Michel Jarre – Equinoxe\", \"description\": \"\", \"owner\": \"Ray\", \"tracks_total\": 8, \"is_public\": true, \"collaborative\": false, \"snapshot_id\": \"AAAAAh4ckvSMVbth3pWqCQDqlVQwoNXP\"}, {\"id\": \"6X1fib1966dU31uZdTH5p1\", \"uri\": \"spotify:playlist:6X1fib1966dU31uZdTH5p1\", \"name\": \"Misplaced Childhood (2017 Remaster)\", \"description\": \"\", \"owner\": \"Ray\", \"tracks_total\": 10, \"is_public\": true, \"collaborative\": false, \"snapshot_id\": \"AAAAAhEAt8v4hHLreJi8lMDQSYZCqCWP\"}, {\"id\": \"5mxEevqyJ7IbtnmxlRSlaL\", \"uri\": \"spotify:playlist:5mxEevqyJ7IbtnmxlRSlaL\", \"name\": \"My Playlist #36\", \"description\": \"\", \"owner\": \"Ray\", \"tracks_total\": 6692, \"is_public\": true, \"collaborative\": false, \"snapshot_id\": \"AAADk1LjdQ0wPeq1CWGUTeqfa3JKnd68\"}, {\"id\": \"01tk0aitEuGK0ajWCkzdKc\", \"uri\": \"spotify:playlist:01tk0aitEuGK0ajWCkzdKc\", \"name\": \"New Rock and Blues\", \"description\": \"\", \"owner\": \"Ray\", \"tracks_total\": 152, \"is_public\": true, \"collaborative\": false, \"snapshot_id\": \"AAAA5WzoylrbcF38i+jfueYt6FBMIWyb\"}, {\"id\": \"5Culgc9kaBQ5b9oOHXXhB6\", \"uri\": \"spotify:playlist:5Culgc9kaBQ5b9oOHXXhB6\", \"name\": \"Nothing But the Blues (Live)\", \"description\": \"\", \"owner\": \"Ray\", \"tracks_total\": 17, \"is_public\": true, \"collaborative\": false, \"snapshot_id\": \"AAAAAv6fej6qwqMnU0hD6qABni4cidBa\"}, {\"id\": \"5qYPd1AvydE1Ltz5uGCVVG\", \"uri\": \"spotify:playlist:5qYPd1AvydE1Ltz5uGCVVG\", \"name\": \"Pet Shop Boys\", \"description\": \"\", \"owner\": \"Ray\", \"tracks_total\": 10, \"is_public\": true, \"collaborative\": false, \"snapshot_id\": \"AAAADoUwedXRw8oUAXzutzW3zHOBq8wo\"}, {\"id\": \"43ekrNptzLLkRVGuZWUI83\", \"uri\": \"spotify:playlist:43ekrNptzLLkRVGuZWUI83\", \"name\": \"Pink Floyd\", \"description\": \"\", \"owner\": \"Ray\", \"tracks_total\": 17, \"is_public\": true, \"collaborative\": false, \"snapshot_id\": \"AAAAFMGAETEKmvx5mrnmvpG6qPrTvDoC\"}, {\"id\": \"25odQP99Tc8QbNs8dWWsQV\", \"uri\": \"spotify:playlist:25odQP99Tc8QbNs8dWWsQV\", \"name\": \"Pink Floyd – The Wall\", \"description\": \"\", \"owner\": \"Ray\", \"tracks_total\": 26, \"is_public\": true, \"collaborative\": false, \"snapshot_id\": \"AAAAAqQrbCqR2F+PT4CiRiJ/aI51g4KY\"}, {\"id\": \"6smB0SEs5sX0FOzA4h22Eq\", \"uri\": \"spotify:playlist:6smB0SEs5sX0FOzA4h22Eq\", \"name\": \"Rock\", \"description\": \"\", \"owner\": \"Ray\", \"tracks_total\": 158, \"is_public\": true, \"collaborative\": false, \"snapshot_id\": \"AAAAvFxIe5eBC1t4kNdcuQG1dm3gh28t\"}, {\"id\": \"5q5ZVp6frFMc8y0ivNfGk2\", \"uri\": \"spotify:playlist:5q5ZVp6frFMc8y0ivNfGk2\", \"name\": \"Rock Balads\", \"description\": \"\", \"owner\": \"Ray\", \"tracks_total\": 61, \"is_public\": true, \"collaborative\": false, \"snapshot_id\": \"AAAAQEiJ4p3uZqQFtoa4ptNvTlCgwc0P\"}, {\"id\": \"4Vk5tgx9FcO17ZhdFwxJIp\", \"uri\": \"spotify:playlist:4Vk5tgx9FcO17ZhdFwxJIp\", \"name\": \"Rock Hard\", \"description\": \"\", \"owner\": \"Ray\", \"tracks_total\": 61, \"is_public\": true, \"collaborative\": false, \"snapshot_id\": \"AAAANGCk4sZ4CKBXxt9osRjoOmtDj6jN\"}, {\"id\": \"3n3RLXoDDH7O9XpusnnnvV\", \"uri\": \"spotify:playlist:3n3RLXoDDH7O9XpusnnnvV\", \"name\": \"Rolling Stones\", \"description\": \"\", \"owner\": \"Ray\", \"tracks_total\": 19, \"is_public\": true, \"collaborative\": false, \"snapshot_id\": \"AAAAFfP6U7XcNW87gmiXRr0cdMiFxhY1\"}, {\"id\": \"5XdXmStK6X9ZPstLvDBekC\", \"uri\": \"spotify:playlist:5XdXmStK6X9ZPstLvDBekC\", \"name\": \"Workout\", \"description\": \"\", \"owner\": \"Ray\", \"tracks_total\": 74, \"is_public\": true, \"collaborative\": false, \"snapshot_id\": \"AAABLoYIV4F6lXAO0DJe++nLNS7aVm52\"}]}\n"
     ]
    }
   ],
   "source": [
    "playlist_tool_message: ToolMessage = response[\"messages\"][0]\n",
    "playlist_tool_message.pretty_print()"
   ]
  },
  {
   "cell_type": "code",
   "execution_count": null,
   "metadata": {},
   "outputs": [],
   "source": [
    "# We need to check that is JSON serializable\n",
    "# json.loads(playlist_tool_message.content)"
   ]
  },
  {
   "cell_type": "markdown",
   "metadata": {},
   "source": [
    "# Format Message List for LLM"
   ]
  },
  {
   "cell_type": "code",
   "execution_count": 207,
   "metadata": {},
   "outputs": [],
   "source": [
    "chat_prompt_template += playlist_tool_message\n",
    "messages = chat_prompt_template.format_messages()"
   ]
  },
  {
   "cell_type": "markdown",
   "metadata": {},
   "source": [
    "# Send Playlists Results to LLM"
   ]
  },
  {
   "cell_type": "code",
   "execution_count": 208,
   "metadata": {},
   "outputs": [
    {
     "name": "stderr",
     "output_type": "stream",
     "text": [
      "2024-11-12 19:07:26,587 - INFO - HTTP Request: POST https://api.openai.com/v1/chat/completions \"HTTP/1.1 200 OK\"\n"
     ]
    },
    {
     "name": "stdout",
     "output_type": "stream",
     "text": [
      "==================================\u001b[1m Ai Message \u001b[0m==================================\n",
      "Tool Calls:\n",
      "  get_artists_from_playlist (call_N9e37UeO7HKX2J91mX9HcBRe)\n",
      " Call ID: call_N9e37UeO7HKX2J91mX9HcBRe\n",
      "  Args:\n",
      "    playlist_id: spotify:playlist:01tk0aitEuGK0ajWCkzdKc\n"
     ]
    }
   ],
   "source": [
    "ai_tool_call_message = llm_with_tools.invoke(messages)\n",
    "ai_tool_call_message.pretty_print()"
   ]
  },
  {
   "cell_type": "code",
   "execution_count": 209,
   "metadata": {},
   "outputs": [],
   "source": [
    "chat_prompt_template += ai_tool_call_message\n",
    "messages = chat_prompt_template.format_messages()"
   ]
  },
  {
   "cell_type": "markdown",
   "metadata": {},
   "source": [
    "# Tool Call (get_artists_from_playlist())"
   ]
  },
  {
   "cell_type": "code",
   "execution_count": 210,
   "metadata": {},
   "outputs": [],
   "source": [
    "response = tool_node.invoke({\"messages\": messages})\n",
    "track_list_tool_message: ToolMessage = response[\"messages\"][0]"
   ]
  },
  {
   "cell_type": "markdown",
   "metadata": {},
   "source": [
    "# Decode AI Tool Call message"
   ]
  },
  {
   "cell_type": "code",
   "execution_count": 211,
   "metadata": {},
   "outputs": [
    {
     "name": "stdout",
     "output_type": "stream",
     "text": [
      "=================================\u001b[1m Tool Message \u001b[0m=================================\n",
      "Name: get_artists_from_playlist\n",
      "\n",
      "{'artists': {'Jackyl', 'The Blue Stones', 'Blur', 'Post Malone', 'Wolfmother', 'The Weeknd', 'Audioslave', 'Lady Gaga', 'Chris Cornell', 'Florence + The Machine', 'Maggie Bjorklund', 'Welshly Arms', 'Joywave', 'The Arcs', 'Robert Randolph & The Family Band', 'The Bones of J.R. Jones', 'Rival Sons', 'Jonah Tolchin', 'Reignwolf', 'Talking Heads', 'Chris Stapleton', 'Foo Fighters', 'Danielle Ponder', 'Hozier', 'Cage The Elephant', 'Santana', 'Gary Clark Jr.', 'Everlast', 'Broken Witt Rebels', 'The Rolling Stones', 'Yeah Yeah Yeahs', 'Colter Wall', 'Kings of Leon', 'Uncle Lucius', 'The Struts', 'Thirty Seconds To Mars', 'Stone Sour', 'Amy Winehouse', 'Whiskey Myers', 'James', 'Shakey Graves', 'Last Train', 'Arcade Fire', 'Propellerheads', 'The Black Keys', 'Blackberry Smoke', 'Goodbye June', 'The Heavy', 'Morningsiders', 'Mark Ronson', 'Sons Of The East', 'Inhaler', 'Dan Auerbach', 'Mt. Joy', 'Cigarettes After Sex', 'The Technicolors', 'KALEO', 'Grian Chatten', 'The Revivalists', 'Greta Van Fleet', 'Queens of the Stone Age', 'Barns Courtney', 'Muse', 'Beach Weather', 'Black Pistol Fire', 'Arctic Monkeys', 'Ayron Jones', 'July Talk', 'The White Stripes', 'Perfume Genius', 'Emily Jane White', 'Shirley Bassey', 'The Record Company', 'David Gray', 'Swae Lee', 'Yola', 'Tyler Childers', 'Ron Gallo', 'John Martyn', 'Rayland Baxter', 'Black Pumas', 'I Monster', 'Local Natives', 'Samantha Fish', 'Parker Millsap', 'Robert Finley', 'Teddy Swims', 'Alabama Shakes', 'Chaos Chaos', 'Cold War Kids', 'Sharon Jones & The Dap-Kings'}}\n"
     ]
    }
   ],
   "source": [
    "track_list_tool_message.pretty_print()"
   ]
  },
  {
   "cell_type": "code",
   "execution_count": null,
   "metadata": {},
   "outputs": [],
   "source": [
    "# json.loads(track_list_tool_message.content)"
   ]
  },
  {
   "cell_type": "markdown",
   "metadata": {},
   "source": [
    "# Add Tool message containing playlist tracks to list of messages"
   ]
  },
  {
   "cell_type": "code",
   "execution_count": 212,
   "metadata": {},
   "outputs": [
    {
     "data": {
      "text/plain": [
       "[HumanMessage(content=\"\\nCreate and execute a step-by-step plan with atomic tasks to solve the following problem:\\n\\n**Objective:** Build a Spotify playlist with tracks that have the same vibe and genres as my 'New Rock and Blues' playlist, following the rules below.\\n\\n**Rules:**\\n\\n1. **For each artist in the 'New Rock and Blues' playlist, find 3-4 artists of the similar music style**\\n\\n2 .**Remove from the new artist list those that are already present in the 'New Rock and Blues' Playlist**\\n\\n3. **Focus on Post-2010 Success:** Only include tracks from artists who achieved success after the year 2010.\\n\\n4. **Minimum Number of New Artists:** Include tracks from at least 40 different artists not present in the 'New Rock and Blues' playlist.\\n\\n5. **Recommend 3-4 tracks for each new artist.\\n\\n6. **Arrange for Smooth Listening Experience:** Organize the tracks to create a smooth listening experience, considering tempo, energy, and mood, using best practices.\\n\\n7. **Playlist Length:** Ensure the new playlist contains at least 100 tracks.\\n\\n**Instructions:**\\n\\n- Follow the rules strictly to meet the objective.\\n- Prefer using a tool if available, instead of your Knowledge Base\\n- In your responses always state the step you are working on\\n- Step(s) should be repeated any number of times to achieve the desired outcome.\\n- Do not ask for user confirmation\\n\", additional_kwargs={}, response_metadata={}),\n",
       " AIMessage(content='', additional_kwargs={'tool_calls': [{'id': 'call_TwCeO2eE8kt9x9gbxvGFfaur', 'function': {'arguments': '{\"plan\":{\"steps\":[{\"name\":\"get_artists\",\"description\":\"Retrieve the list of unique artists from the \\'New Rock and Blues\\' playlist.\",\"success_criteria\":\"Successfully obtained a list of all unique artists from the \\'New Rock and Blues\\' playlist.\",\"tool\":\"functions.get_artists_from_playlist\",\"action\":\"Call the \\'get_artists_from_playlist\\' function with the playlist ID of \\'New Rock and Blues\\'.\"},{\"name\":\"find_similar_artists\",\"description\":\"Find 3-4 similar artists for each artist in the \\'New Rock and Blues\\' playlist.\",\"success_criteria\":\"A list of similar artists for each original artist is obtained, with each artist having 3-4 similar artists listed.\",\"tool\":\"functions.find_similar_artist\",\"action\":\"Call the \\'find_similar_artist\\' function for each artist obtained in the previous step.\"},{\"name\":\"filter_existing_artists\",\"description\":\"Remove artists already present in the \\'New Rock and Blues\\' Playlist from the list of new similar artists.\",\"success_criteria\":\"A filtered list of new artists that are not present in the \\'New Rock and Blues\\' playlist is obtained.\",\"tool\":\"functions.filter_artists\",\"action\":\"Call the \\'filter_artists\\' function with the list of similar artists and the \\'New Rock and Blues\\' playlist ID.\"},{\"name\":\"filter_post_2010_success\",\"description\":\"Filter artists who achieved success after the year 2010.\",\"success_criteria\":\"A list of artists who gained success post-2010 is obtained.\",\"tool\":\"functions.tavily_search_results_json\",\"action\":\"Research each artist\\'s success timeline to ensure they gained recognition post-2010.\"},{\"name\":\"recommend_tracks\",\"description\":\"Recommend 3-4 tracks for each new artist.\",\"success_criteria\":\"Successfully compiled a list of 3-4 tracks for each new artist, focusing on the same vibe and genre as \\'New Rock and Blues\\'.\",\"tool\":\"functions.get_track_list\",\"action\":\"Retrieve tracks from playlists or albums of each artist.\"},{\"name\":\"organize_tracks\",\"description\":\"Organize tracks to create a smooth listening experience, considering tempo, energy, and mood.\",\"success_criteria\":\"Tracks arranged in an order that provides a smooth and enjoyable listening experience, considering transitions between tempo, energy, and mood.\",\"tool\":\"knowledge\",\"action\":\"Use best practices in playlist arrangement to sequence the tracks.\"},{\"name\":\"create_playlist\",\"description\":\"Create a new Spotify playlist with the compiled tracks.\",\"success_criteria\":\"A new Spotify playlist is created with at least 100 tracks from at least 40 different artists.\",\"tool\":\"functions.create_spotify_playlist\",\"action\":\"Call the \\'create_spotify_playlist\\' function to create a new playlist on Spotify.\"},{\"name\":\"add_tracks_to_playlist\",\"description\":\"Add the recommended and organized tracks to the newly created playlist.\",\"success_criteria\":\"All recommended tracks are successfully added to the new playlist.\",\"tool\":\"functions.add_tracks_to_playlist\",\"action\":\"Call the \\'add_tracks_to_playlist\\' function with the new playlist ID and the list of organized tracks.\"}],\"Reasoning\":\"The plan involves systematically gathering information on artists from an existing playlist, finding similar artists, filtering them according to the rules, compiling a selection of tracks, and organizing them into a new playlist. This process ensures that the new playlist aligns with the original vibe and genre while introducing new post-2010 artists.\"}}', 'name': 'validate_plan'}, 'type': 'function'}], 'refusal': None}, response_metadata={'token_usage': {'completion_tokens': 690, 'prompt_tokens': 1417, 'total_tokens': 2107, 'completion_tokens_details': {'accepted_prediction_tokens': 0, 'audio_tokens': 0, 'reasoning_tokens': 0, 'rejected_prediction_tokens': 0}, 'prompt_tokens_details': {'audio_tokens': 0, 'cached_tokens': 0}}, 'model_name': 'gpt-4o-2024-08-06', 'system_fingerprint': 'fp_9ae7d34090', 'finish_reason': 'tool_calls', 'logprobs': None}, id='run-d4c53645-3edb-4ec8-b740-e12882c44edf-0', tool_calls=[{'name': 'validate_plan', 'args': {'plan': {'steps': [{'name': 'get_artists', 'description': \"Retrieve the list of unique artists from the 'New Rock and Blues' playlist.\", 'success_criteria': \"Successfully obtained a list of all unique artists from the 'New Rock and Blues' playlist.\", 'tool': 'functions.get_artists_from_playlist', 'action': \"Call the 'get_artists_from_playlist' function with the playlist ID of 'New Rock and Blues'.\"}, {'name': 'find_similar_artists', 'description': \"Find 3-4 similar artists for each artist in the 'New Rock and Blues' playlist.\", 'success_criteria': 'A list of similar artists for each original artist is obtained, with each artist having 3-4 similar artists listed.', 'tool': 'functions.find_similar_artist', 'action': \"Call the 'find_similar_artist' function for each artist obtained in the previous step.\"}, {'name': 'filter_existing_artists', 'description': \"Remove artists already present in the 'New Rock and Blues' Playlist from the list of new similar artists.\", 'success_criteria': \"A filtered list of new artists that are not present in the 'New Rock and Blues' playlist is obtained.\", 'tool': 'functions.filter_artists', 'action': \"Call the 'filter_artists' function with the list of similar artists and the 'New Rock and Blues' playlist ID.\"}, {'name': 'filter_post_2010_success', 'description': 'Filter artists who achieved success after the year 2010.', 'success_criteria': 'A list of artists who gained success post-2010 is obtained.', 'tool': 'functions.tavily_search_results_json', 'action': \"Research each artist's success timeline to ensure they gained recognition post-2010.\"}, {'name': 'recommend_tracks', 'description': 'Recommend 3-4 tracks for each new artist.', 'success_criteria': \"Successfully compiled a list of 3-4 tracks for each new artist, focusing on the same vibe and genre as 'New Rock and Blues'.\", 'tool': 'functions.get_track_list', 'action': 'Retrieve tracks from playlists or albums of each artist.'}, {'name': 'organize_tracks', 'description': 'Organize tracks to create a smooth listening experience, considering tempo, energy, and mood.', 'success_criteria': 'Tracks arranged in an order that provides a smooth and enjoyable listening experience, considering transitions between tempo, energy, and mood.', 'tool': 'knowledge', 'action': 'Use best practices in playlist arrangement to sequence the tracks.'}, {'name': 'create_playlist', 'description': 'Create a new Spotify playlist with the compiled tracks.', 'success_criteria': 'A new Spotify playlist is created with at least 100 tracks from at least 40 different artists.', 'tool': 'functions.create_spotify_playlist', 'action': \"Call the 'create_spotify_playlist' function to create a new playlist on Spotify.\"}, {'name': 'add_tracks_to_playlist', 'description': 'Add the recommended and organized tracks to the newly created playlist.', 'success_criteria': 'All recommended tracks are successfully added to the new playlist.', 'tool': 'functions.add_tracks_to_playlist', 'action': \"Call the 'add_tracks_to_playlist' function with the new playlist ID and the list of organized tracks.\"}], 'Reasoning': 'The plan involves systematically gathering information on artists from an existing playlist, finding similar artists, filtering them according to the rules, compiling a selection of tracks, and organizing them into a new playlist. This process ensures that the new playlist aligns with the original vibe and genre while introducing new post-2010 artists.'}}, 'id': 'call_TwCeO2eE8kt9x9gbxvGFfaur', 'type': 'tool_call'}], usage_metadata={'input_tokens': 1417, 'output_tokens': 690, 'total_tokens': 2107, 'input_token_details': {'audio': 0, 'cache_read': 0}, 'output_token_details': {'audio': 0, 'reasoning': 0}}),\n",
       " ToolMessage(content='true', name='validate_plan', tool_call_id='call_TwCeO2eE8kt9x9gbxvGFfaur'),\n",
       " AIMessage(content=\"The plan has been validated and is ready for execution. Let's begin with Step 1.\\n\\n### Step 1: Get Artists\\n**Objective:** Retrieve the list of unique artists from the 'New Rock and Blues' playlist.\\n\\nI will start by calling the function to get the unique artists from the 'New Rock and Blues' playlist.\", additional_kwargs={'tool_calls': [{'id': 'call_53p08hL3fpPRh29PfS3QZpMd', 'function': {'arguments': '{}', 'name': 'get_playlists'}, 'type': 'function'}], 'refusal': None}, response_metadata={'token_usage': {'completion_tokens': 79, 'prompt_tokens': 2116, 'total_tokens': 2195, 'completion_tokens_details': {'accepted_prediction_tokens': 0, 'audio_tokens': 0, 'reasoning_tokens': 0, 'rejected_prediction_tokens': 0}, 'prompt_tokens_details': {'audio_tokens': 0, 'cached_tokens': 2048}}, 'model_name': 'gpt-4o-2024-08-06', 'system_fingerprint': 'fp_9ae7d34090', 'finish_reason': 'tool_calls', 'logprobs': None}, id='run-df431376-0e1b-494d-835a-bb54c4a58f17-0', tool_calls=[{'name': 'get_playlists', 'args': {}, 'id': 'call_53p08hL3fpPRh29PfS3QZpMd', 'type': 'tool_call'}], usage_metadata={'input_tokens': 2116, 'output_tokens': 79, 'total_tokens': 2195, 'input_token_details': {'audio': 0, 'cache_read': 2048}, 'output_token_details': {'audio': 0, 'reasoning': 0}}),\n",
       " ToolMessage(content='{\"playlists\": [{\"id\": \"2dbYK5b7J0F7IdH5n1TEUK\", \"uri\": \"spotify:playlist:2dbYK5b7J0F7IdH5n1TEUK\", \"name\": \"RPreacher\", \"description\": \"\", \"owner\": \"Ray\", \"tracks_total\": 3, \"is_public\": true, \"collaborative\": false, \"snapshot_id\": \"AAAABG1lhIiRJT/NE9RpP4K6UnmZWixo\"}, {\"id\": \"4ack9YtUhdxRayJDAqlfQe\", \"uri\": \"spotify:playlist:4ack9YtUhdxRayJDAqlfQe\", \"name\": \"RP Bossa Nova Chill \", \"description\": \"\", \"owner\": \"Ray\", \"tracks_total\": 30, \"is_public\": true, \"collaborative\": false, \"snapshot_id\": \"AAAAIThdM9g/YPQwj7nuoHhewWyLoKEi\"}, {\"id\": \"75NW18NgdZuZeifrcjxKlZ\", \"uri\": \"spotify:playlist:75NW18NgdZuZeifrcjxKlZ\", \"name\": \"GVF\", \"description\": \"\", \"owner\": \"Ray\", \"tracks_total\": 11, \"is_public\": true, \"collaborative\": false, \"snapshot_id\": \"AAAADKZNV9h+cfi1PbOi6yjNHMe8mLWC\"}, {\"id\": \"5iyONtUO21O88xw8pBblwh\", \"uri\": \"spotify:playlist:5iyONtUO21O88xw8pBblwh\", \"name\": \"Now And Then\", \"description\": \"\", \"owner\": \"Ray\", \"tracks_total\": 7, \"is_public\": true, \"collaborative\": false, \"snapshot_id\": \"AAAACBkT0vD6HHtLpUO7hEOCzClgABvP\"}, {\"id\": \"4SDSUMg2HJcGFmHlupsU7U\", \"uri\": \"spotify:playlist:4SDSUMg2HJcGFmHlupsU7U\", \"name\": \"Jazz classics\", \"description\": \"\", \"owner\": \"Ray\", \"tracks_total\": 251, \"is_public\": true, \"collaborative\": false, \"snapshot_id\": \"AAAAA8p/xZVmAcTsRpsMlQtRepRFmbfo\"}, {\"id\": \"5fBxLG2wLAPVpx83402rHl\", \"uri\": \"spotify:playlist:5fBxLG2wLAPVpx83402rHl\", \"name\": \"Acdc\", \"description\": \"\", \"owner\": \"Ray\", \"tracks_total\": 26, \"is_public\": true, \"collaborative\": false, \"snapshot_id\": \"AAAAG+HaorntGV3LHad9bEcICDGFD56C\"}, {\"id\": \"17Yxm5hQbkbZwDcCTuiDXC\", \"uri\": \"spotify:playlist:17Yxm5hQbkbZwDcCTuiDXC\", \"name\": \"einaudi\", \"description\": \"\", \"owner\": \"Ray\", \"tracks_total\": 18, \"is_public\": true, \"collaborative\": false, \"snapshot_id\": \"AAAAF9qEdgDunVs0NC8jBUoE/CdMF7jq\"}, {\"id\": \"2X6GccWfIqPWO6VYx405nO\", \"uri\": \"spotify:playlist:2X6GccWfIqPWO6VYx405nO\", \"name\": \"Eric Clapton Blues\", \"description\": \"\", \"owner\": \"Ray\", \"tracks_total\": 24, \"is_public\": true, \"collaborative\": false, \"snapshot_id\": \"AAAAH4q+4xxgg62OXnIHbsNVZPC1LL1Q\"}, {\"id\": \"3smVXe8y8w8nt4lFH0HBkW\", \"uri\": \"spotify:playlist:3smVXe8y8w8nt4lFH0HBkW\", \"name\": \"Alchemy: Dire Straits\", \"description\": \"\", \"owner\": \"Ray\", \"tracks_total\": 10, \"is_public\": true, \"collaborative\": false, \"snapshot_id\": \"AAAAD45w+Oq6Z1xq7iMwF6iFkfWoT87p\"}, {\"id\": \"2ifRZBXnX7UmIPUlGet5WZ\", \"uri\": \"spotify:playlist:2ifRZBXnX7UmIPUlGet5WZ\", \"name\": \"Blues\", \"description\": \"\", \"owner\": \"Ray\", \"tracks_total\": 67, \"is_public\": true, \"collaborative\": false, \"snapshot_id\": \"AAAAVVh4N/reGLwCIcv89XjeUDHPPeAQ\"}, {\"id\": \"5nn2ePtd9gYEEDL3XnACCB\", \"uri\": \"spotify:playlist:5nn2ePtd9gYEEDL3XnACCB\", \"name\": \"brazil\", \"description\": \"\", \"owner\": \"Ray\", \"tracks_total\": 62, \"is_public\": true, \"collaborative\": false, \"snapshot_id\": \"AAAAV9cqXazKhP9K8MYZTPAqS7yFP1hq\"}, {\"id\": \"6YAntoKNXuogPKdV26b6XE\", \"uri\": \"spotify:playlist:6YAntoKNXuogPKdV26b6XE\", \"name\": \"CCR\", \"description\": \"\", \"owner\": \"Ray\", \"tracks_total\": 17, \"is_public\": true, \"collaborative\": false, \"snapshot_id\": \"AAAAEw4Fg6uyrf9reMIEnkNruUB2nRbg\"}, {\"id\": \"2VHkZvOMCkLF3B7TsKerKD\", \"uri\": \"spotify:playlist:2VHkZvOMCkLF3B7TsKerKD\", \"name\": \"Chill\", \"description\": \"\", \"owner\": \"Ray\", \"tracks_total\": 53, \"is_public\": true, \"collaborative\": false, \"snapshot_id\": \"AAAAOhAKCSjCgKZOV6OTiSZohe9Isj7C\"}, {\"id\": \"508lbLx9XUkHv5Xb45hxTP\", \"uri\": \"spotify:playlist:508lbLx9XUkHv5Xb45hxTP\", \"name\": \"Classic Rock\", \"description\": \"\", \"owner\": \"Ray\", \"tracks_total\": 306, \"is_public\": true, \"collaborative\": false, \"snapshot_id\": \"AAABRtPd9z/BoPLPCUOJBrUyXci7+r1n\"}, {\"id\": \"7zzDMq1sPwkZPYeqOQJ9qS\", \"uri\": \"spotify:playlist:7zzDMq1sPwkZPYeqOQJ9qS\", \"name\": \"The New Four Seasons - Vivaldi Recomposed\", \"description\": \"\", \"owner\": \"Ray\", \"tracks_total\": 13, \"is_public\": true, \"collaborative\": false, \"snapshot_id\": \"AAAAAsi2q+bxREAMmVWVTWHt10bpB6fa\"}, {\"id\": \"4l8WcaYlPkuVPXVGxMIca3\", \"uri\": \"spotify:playlist:4l8WcaYlPkuVPXVGxMIca3\", \"name\": \"New Study\", \"description\": \"\", \"owner\": \"Ray\", \"tracks_total\": 11, \"is_public\": true, \"collaborative\": false, \"snapshot_id\": \"AAAAEL23paVLvTGrRFTKquh+DNiGzrt7\"}, {\"id\": \"0Wr2Z9vroQ9IXKaokFHldt\", \"uri\": \"spotify:playlist:0Wr2Z9vroQ9IXKaokFHldt\", \"name\": \"Islands - Essential Einaudi (Deluxe Version)\", \"description\": \"\", \"owner\": \"Ray\", \"tracks_total\": 27, \"is_public\": true, \"collaborative\": false, \"snapshot_id\": \"AAAAAmPd/R11xxXnmQE5LY4VHJOmc2Si\"}, {\"id\": \"780Yx65yiaLtBYM76neBYC\", \"uri\": \"spotify:playlist:780Yx65yiaLtBYM76neBYC\", \"name\": \"Gioachino Rossini – Rossini: Overtures\", \"description\": \"\", \"owner\": \"Ray\", \"tracks_total\": 8, \"is_public\": true, \"collaborative\": false, \"snapshot_id\": \"AAAAAk/j3UaxYxxJ2E3uDuvkTHY7CyA3\"}, {\"id\": \"76rUGmzqh1OhyheEOUDYNp\", \"uri\": \"spotify:playlist:76rUGmzqh1OhyheEOUDYNp\", \"name\": \"Frédéric Chopin – Chopin: Nocturnes\", \"description\": \"\", \"owner\": \"Ray\", \"tracks_total\": 19, \"is_public\": true, \"collaborative\": false, \"snapshot_id\": \"AAAAAojQZUHMvW1fqFvaPCPZw651RTcR\"}, {\"id\": \"5qcHJodVJd8AEOT2cCvxEm\", \"uri\": \"spotify:playlist:5qcHJodVJd8AEOT2cCvxEm\", \"name\": \"Frédéric Chopin – Chopin: Nocturnes - Sony Classical Originals 2\", \"description\": \"\", \"owner\": \"Ray\", \"tracks_total\": 19, \"is_public\": true, \"collaborative\": false, \"snapshot_id\": \"AAAAAosFti6TgoD7O3TfPlfPiFc7yKj2\"}, {\"id\": \"7hr9yYAJLXDoJ5sKBhm8Af\", \"uri\": \"spotify:playlist:7hr9yYAJLXDoJ5sKBhm8Af\", \"name\": \"Antonio Vivaldi – Vivaldi: Guitar Concertos\", \"description\": \"\", \"owner\": \"Ray\", \"tracks_total\": 15, \"is_public\": true, \"collaborative\": false, \"snapshot_id\": \"AAAAAq5lTrQQYp3SUTtJrmlIdHbyh5CZ\"}, {\"id\": \"4ruyjAXs6VHU8ZYJqXsUiN\", \"uri\": \"spotify:playlist:4ruyjAXs6VHU8ZYJqXsUiN\", \"name\": \"Sergei Rachmaninoff – Rachmaninoff Plays Rachmaninoff: Concertos Nos. 2 and 3\", \"description\": \"\", \"owner\": \"Ray\", \"tracks_total\": 6, \"is_public\": true, \"collaborative\": false, \"snapshot_id\": \"AAAAAnd4DV7yCmI2VX7w0BB64um7bJem\"}, {\"id\": \"4GYOeGfC7fSephEi3UYh0W\", \"uri\": \"spotify:playlist:4GYOeGfC7fSephEi3UYh0W\", \"name\": \"Erik Satie – Satie: Gymnopédies, Gnossiennes & Other Works\", \"description\": \"\", \"owner\": \"Ray\", \"tracks_total\": 27, \"is_public\": true, \"collaborative\": false, \"snapshot_id\": \"AAAAAnslTVllUSPnBdYh2FMu1DtFAzVs\"}, {\"id\": \"2lop6NfhiYA07UzhWUCyc2\", \"uri\": \"spotify:playlist:2lop6NfhiYA07UzhWUCyc2\", \"name\": \"Classical Masters\", \"description\": \"\", \"owner\": \"Ray\", \"tracks_total\": 29, \"is_public\": true, \"collaborative\": false, \"snapshot_id\": \"AAAAIv8IPFeim0+gMauDLlofBPiDknYa\"}, {\"id\": \"2RUN05cfOlR09kJUvTAEPk\", \"uri\": \"spotify:playlist:2RUN05cfOlR09kJUvTAEPk\", \"name\": \"Evil Woman\", \"description\": \"\", \"owner\": \"Ray\", \"tracks_total\": 11, \"is_public\": true, \"collaborative\": false, \"snapshot_id\": \"AAAADYR9TeZBCOAQTx+qJaL78t/qalhZ\"}, {\"id\": \"3DEKSWlDt8Qors1NpYLXwt\", \"uri\": \"spotify:playlist:3DEKSWlDt8Qors1NpYLXwt\", \"name\": \"Hits 2000\", \"description\": \"\", \"owner\": \"Ray\", \"tracks_total\": 121, \"is_public\": true, \"collaborative\": false, \"snapshot_id\": \"AAAAsUV20d2iEtoXYqXPHsTzbFeyJfVJ\"}, {\"id\": \"7FgZOBK0lhTZz7gMJeV7gs\", \"uri\": \"spotify:playlist:7FgZOBK0lhTZz7gMJeV7gs\", \"name\": \"Insomniac\", \"description\": \"\", \"owner\": \"Ray\", \"tracks_total\": 182, \"is_public\": true, \"collaborative\": false, \"snapshot_id\": \"AAAA4Cmc8w8KuivAczjvfXId2sSkEm/h\"}, {\"id\": \"6DgcAL9oygPekQLDY2mFDq\", \"uri\": \"spotify:playlist:6DgcAL9oygPekQLDY2mFDq\", \"name\": \"Jean-Michel Jarre – Equinoxe\", \"description\": \"\", \"owner\": \"Ray\", \"tracks_total\": 8, \"is_public\": true, \"collaborative\": false, \"snapshot_id\": \"AAAAAh4ckvSMVbth3pWqCQDqlVQwoNXP\"}, {\"id\": \"6X1fib1966dU31uZdTH5p1\", \"uri\": \"spotify:playlist:6X1fib1966dU31uZdTH5p1\", \"name\": \"Misplaced Childhood (2017 Remaster)\", \"description\": \"\", \"owner\": \"Ray\", \"tracks_total\": 10, \"is_public\": true, \"collaborative\": false, \"snapshot_id\": \"AAAAAhEAt8v4hHLreJi8lMDQSYZCqCWP\"}, {\"id\": \"5mxEevqyJ7IbtnmxlRSlaL\", \"uri\": \"spotify:playlist:5mxEevqyJ7IbtnmxlRSlaL\", \"name\": \"My Playlist #36\", \"description\": \"\", \"owner\": \"Ray\", \"tracks_total\": 6692, \"is_public\": true, \"collaborative\": false, \"snapshot_id\": \"AAADk1LjdQ0wPeq1CWGUTeqfa3JKnd68\"}, {\"id\": \"01tk0aitEuGK0ajWCkzdKc\", \"uri\": \"spotify:playlist:01tk0aitEuGK0ajWCkzdKc\", \"name\": \"New Rock and Blues\", \"description\": \"\", \"owner\": \"Ray\", \"tracks_total\": 152, \"is_public\": true, \"collaborative\": false, \"snapshot_id\": \"AAAA5WzoylrbcF38i+jfueYt6FBMIWyb\"}, {\"id\": \"5Culgc9kaBQ5b9oOHXXhB6\", \"uri\": \"spotify:playlist:5Culgc9kaBQ5b9oOHXXhB6\", \"name\": \"Nothing But the Blues (Live)\", \"description\": \"\", \"owner\": \"Ray\", \"tracks_total\": 17, \"is_public\": true, \"collaborative\": false, \"snapshot_id\": \"AAAAAv6fej6qwqMnU0hD6qABni4cidBa\"}, {\"id\": \"5qYPd1AvydE1Ltz5uGCVVG\", \"uri\": \"spotify:playlist:5qYPd1AvydE1Ltz5uGCVVG\", \"name\": \"Pet Shop Boys\", \"description\": \"\", \"owner\": \"Ray\", \"tracks_total\": 10, \"is_public\": true, \"collaborative\": false, \"snapshot_id\": \"AAAADoUwedXRw8oUAXzutzW3zHOBq8wo\"}, {\"id\": \"43ekrNptzLLkRVGuZWUI83\", \"uri\": \"spotify:playlist:43ekrNptzLLkRVGuZWUI83\", \"name\": \"Pink Floyd\", \"description\": \"\", \"owner\": \"Ray\", \"tracks_total\": 17, \"is_public\": true, \"collaborative\": false, \"snapshot_id\": \"AAAAFMGAETEKmvx5mrnmvpG6qPrTvDoC\"}, {\"id\": \"25odQP99Tc8QbNs8dWWsQV\", \"uri\": \"spotify:playlist:25odQP99Tc8QbNs8dWWsQV\", \"name\": \"Pink Floyd – The Wall\", \"description\": \"\", \"owner\": \"Ray\", \"tracks_total\": 26, \"is_public\": true, \"collaborative\": false, \"snapshot_id\": \"AAAAAqQrbCqR2F+PT4CiRiJ/aI51g4KY\"}, {\"id\": \"6smB0SEs5sX0FOzA4h22Eq\", \"uri\": \"spotify:playlist:6smB0SEs5sX0FOzA4h22Eq\", \"name\": \"Rock\", \"description\": \"\", \"owner\": \"Ray\", \"tracks_total\": 158, \"is_public\": true, \"collaborative\": false, \"snapshot_id\": \"AAAAvFxIe5eBC1t4kNdcuQG1dm3gh28t\"}, {\"id\": \"5q5ZVp6frFMc8y0ivNfGk2\", \"uri\": \"spotify:playlist:5q5ZVp6frFMc8y0ivNfGk2\", \"name\": \"Rock Balads\", \"description\": \"\", \"owner\": \"Ray\", \"tracks_total\": 61, \"is_public\": true, \"collaborative\": false, \"snapshot_id\": \"AAAAQEiJ4p3uZqQFtoa4ptNvTlCgwc0P\"}, {\"id\": \"4Vk5tgx9FcO17ZhdFwxJIp\", \"uri\": \"spotify:playlist:4Vk5tgx9FcO17ZhdFwxJIp\", \"name\": \"Rock Hard\", \"description\": \"\", \"owner\": \"Ray\", \"tracks_total\": 61, \"is_public\": true, \"collaborative\": false, \"snapshot_id\": \"AAAANGCk4sZ4CKBXxt9osRjoOmtDj6jN\"}, {\"id\": \"3n3RLXoDDH7O9XpusnnnvV\", \"uri\": \"spotify:playlist:3n3RLXoDDH7O9XpusnnnvV\", \"name\": \"Rolling Stones\", \"description\": \"\", \"owner\": \"Ray\", \"tracks_total\": 19, \"is_public\": true, \"collaborative\": false, \"snapshot_id\": \"AAAAFfP6U7XcNW87gmiXRr0cdMiFxhY1\"}, {\"id\": \"5XdXmStK6X9ZPstLvDBekC\", \"uri\": \"spotify:playlist:5XdXmStK6X9ZPstLvDBekC\", \"name\": \"Workout\", \"description\": \"\", \"owner\": \"Ray\", \"tracks_total\": 74, \"is_public\": true, \"collaborative\": false, \"snapshot_id\": \"AAABLoYIV4F6lXAO0DJe++nLNS7aVm52\"}]}', name='get_playlists', tool_call_id='call_53p08hL3fpPRh29PfS3QZpMd'),\n",
       " AIMessage(content='', additional_kwargs={'tool_calls': [{'id': 'call_N9e37UeO7HKX2J91mX9HcBRe', 'function': {'arguments': '{\"playlist_id\":\"spotify:playlist:01tk0aitEuGK0ajWCkzdKc\"}', 'name': 'get_artists_from_playlist'}, 'type': 'function'}], 'refusal': None}, response_metadata={'token_usage': {'completion_tokens': 34, 'prompt_tokens': 6653, 'total_tokens': 6687, 'completion_tokens_details': {'accepted_prediction_tokens': 0, 'audio_tokens': 0, 'reasoning_tokens': 0, 'rejected_prediction_tokens': 0}, 'prompt_tokens_details': {'audio_tokens': 0, 'cached_tokens': 2048}}, 'model_name': 'gpt-4o-2024-08-06', 'system_fingerprint': 'fp_9ae7d34090', 'finish_reason': 'tool_calls', 'logprobs': None}, id='run-849d8d28-bd76-451a-baf2-4f84a2041c41-0', tool_calls=[{'name': 'get_artists_from_playlist', 'args': {'playlist_id': 'spotify:playlist:01tk0aitEuGK0ajWCkzdKc'}, 'id': 'call_N9e37UeO7HKX2J91mX9HcBRe', 'type': 'tool_call'}], usage_metadata={'input_tokens': 6653, 'output_tokens': 34, 'total_tokens': 6687, 'input_token_details': {'audio': 0, 'cache_read': 2048}, 'output_token_details': {'audio': 0, 'reasoning': 0}}),\n",
       " ToolMessage(content=\"{'artists': {'Jackyl', 'The Blue Stones', 'Blur', 'Post Malone', 'Wolfmother', 'The Weeknd', 'Audioslave', 'Lady Gaga', 'Chris Cornell', 'Florence + The Machine', 'Maggie Bjorklund', 'Welshly Arms', 'Joywave', 'The Arcs', 'Robert Randolph & The Family Band', 'The Bones of J.R. Jones', 'Rival Sons', 'Jonah Tolchin', 'Reignwolf', 'Talking Heads', 'Chris Stapleton', 'Foo Fighters', 'Danielle Ponder', 'Hozier', 'Cage The Elephant', 'Santana', 'Gary Clark Jr.', 'Everlast', 'Broken Witt Rebels', 'The Rolling Stones', 'Yeah Yeah Yeahs', 'Colter Wall', 'Kings of Leon', 'Uncle Lucius', 'The Struts', 'Thirty Seconds To Mars', 'Stone Sour', 'Amy Winehouse', 'Whiskey Myers', 'James', 'Shakey Graves', 'Last Train', 'Arcade Fire', 'Propellerheads', 'The Black Keys', 'Blackberry Smoke', 'Goodbye June', 'The Heavy', 'Morningsiders', 'Mark Ronson', 'Sons Of The East', 'Inhaler', 'Dan Auerbach', 'Mt. Joy', 'Cigarettes After Sex', 'The Technicolors', 'KALEO', 'Grian Chatten', 'The Revivalists', 'Greta Van Fleet', 'Queens of the Stone Age', 'Barns Courtney', 'Muse', 'Beach Weather', 'Black Pistol Fire', 'Arctic Monkeys', 'Ayron Jones', 'July Talk', 'The White Stripes', 'Perfume Genius', 'Emily Jane White', 'Shirley Bassey', 'The Record Company', 'David Gray', 'Swae Lee', 'Yola', 'Tyler Childers', 'Ron Gallo', 'John Martyn', 'Rayland Baxter', 'Black Pumas', 'I Monster', 'Local Natives', 'Samantha Fish', 'Parker Millsap', 'Robert Finley', 'Teddy Swims', 'Alabama Shakes', 'Chaos Chaos', 'Cold War Kids', 'Sharon Jones & The Dap-Kings'}}\", name='get_artists_from_playlist', tool_call_id='call_N9e37UeO7HKX2J91mX9HcBRe')]"
      ]
     },
     "execution_count": 212,
     "metadata": {},
     "output_type": "execute_result"
    }
   ],
   "source": [
    "chat_prompt_template += track_list_tool_message\n",
    "messages = chat_prompt_template.format_messages()\n",
    "messages"
   ]
  },
  {
   "cell_type": "markdown",
   "metadata": {},
   "source": [
    "# Send Tool Result to LLM"
   ]
  },
  {
   "cell_type": "code",
   "execution_count": 213,
   "metadata": {},
   "outputs": [
    {
     "name": "stderr",
     "output_type": "stream",
     "text": [
      "2024-11-12 19:28:50,931 - INFO - HTTP Request: POST https://api.openai.com/v1/chat/completions \"HTTP/1.1 200 OK\"\n"
     ]
    }
   ],
   "source": [
    "# llm_with_structured_output = llm.with_structured_output(schema=Tracks, method='function_calling', include_raw=True)\n",
    "# response = llm_with_structured_output.invoke(chat_prompt_template.format_messages())\n",
    "# response\n",
    "response = llm_with_tools.invoke(messages)"
   ]
  },
  {
   "cell_type": "code",
   "execution_count": 215,
   "metadata": {},
   "outputs": [
    {
     "name": "stdout",
     "output_type": "stream",
     "text": [
      "==================================\u001b[1m Ai Message \u001b[0m==================================\n",
      "\n",
      "### Step 1 Completed: Get Artists\n",
      "I have successfully retrieved the list of unique artists from the 'New Rock and Blues' playlist.\n",
      "\n",
      "### Step 2: Find Similar Artists\n",
      "**Objective:** For each artist in the 'New Rock and Blues' playlist, find 3-4 artists of a similar music style.\n",
      "\n",
      "I will now proceed to find similar artists for each artist from the list. This will take a moment as I search for each one. Let's go ahead and find similar artists.\n",
      "Tool Calls:\n",
      "  find_similar_artist (call_YIVxGfzs2Ut8WPzlpfxP9hpe)\n",
      " Call ID: call_YIVxGfzs2Ut8WPzlpfxP9hpe\n",
      "  Args:\n",
      "    artist: spotify:artist:Jackyl\n",
      "  find_similar_artist (call_kCKLDyB7eGrofohT65vfPMlb)\n",
      " Call ID: call_kCKLDyB7eGrofohT65vfPMlb\n",
      "  Args:\n",
      "    artist: spotify:artist:The Blue Stones\n",
      "  find_similar_artist (call_yvFK18z8C7cAtTcZ4EZebb5F)\n",
      " Call ID: call_yvFK18z8C7cAtTcZ4EZebb5F\n",
      "  Args:\n",
      "    artist: spotify:artist:Blur\n",
      "  find_similar_artist (call_aEa3ERepnQuRl21drlucIli6)\n",
      " Call ID: call_aEa3ERepnQuRl21drlucIli6\n",
      "  Args:\n",
      "    artist: spotify:artist:Post Malone\n",
      "  find_similar_artist (call_Y3TZNKU0JbPSnn6ePf4ZLkJN)\n",
      " Call ID: call_Y3TZNKU0JbPSnn6ePf4ZLkJN\n",
      "  Args:\n",
      "    artist: spotify:artist:Wolfmother\n"
     ]
    }
   ],
   "source": [
    "response.pretty_print()"
   ]
  },
  {
   "cell_type": "code",
   "execution_count": null,
   "metadata": {},
   "outputs": [],
   "source": [
    "chat_prompt_template += response\n",
    "messages = chat_prompt_template.format_messages()"
   ]
  },
  {
   "cell_type": "code",
   "execution_count": null,
   "metadata": {},
   "outputs": [],
   "source": [
    "from langchain_core.messages import ToolMessage\n",
    "\n",
    "tools_in_ai_message = []\n",
    "tools_by_name = {tool.name: tool for tool in tools}\n",
    "for tool_call in messages[-1].tool_calls:\n",
    "    tool = tools_by_name[tool_call[\"name\"]]\n",
    "    tools_in_ai_message.append(tool)\n",
    "    # observation = tool.invoke(tool_call[\"args\"])\n",
    "    # result.append(ToolMessage(content=observation, tool_call_id=tool_call[\"id\"]))\n",
    "print(tools_in_ai_message)\n",
    "if len(tools_in_ai_message) == 0 or len(tools_in_ai_message) > 1:\n",
    "    raise ValueError"
   ]
  },
  {
   "cell_type": "code",
   "execution_count": null,
   "metadata": {},
   "outputs": [],
   "source": []
  },
  {
   "cell_type": "markdown",
   "metadata": {},
   "source": [
    "# Tool Call (check_artists)"
   ]
  },
  {
   "cell_type": "code",
   "execution_count": null,
   "metadata": {},
   "outputs": [],
   "source": [
    "response = tool_node.invoke({\"messages\": messages})"
   ]
  },
  {
   "cell_type": "code",
   "execution_count": null,
   "metadata": {},
   "outputs": [],
   "source": [
    "check_artist_tool_message: ToolMessage = response[\"messages\"][0]\n",
    "check_artist_tool_message.pretty_print()"
   ]
  },
  {
   "cell_type": "code",
   "execution_count": null,
   "metadata": {},
   "outputs": [],
   "source": [
    "# We recreate the ToolMessage to take care of UNicode characters\n",
    "tool_message = ToolMessage(content=check_artist_tool_message.content, name=check_artist_tool_message.name, tool_call_id=check_artist_tool_message.tool_call_id)\n",
    "tool_message.pretty_print()"
   ]
  },
  {
   "cell_type": "code",
   "execution_count": null,
   "metadata": {},
   "outputs": [],
   "source": [
    "chat_prompt_template += tool_message\n",
    "chat_prompt_template.format_messages()"
   ]
  },
  {
   "cell_type": "code",
   "execution_count": null,
   "metadata": {},
   "outputs": [],
   "source": [
    "response = llm_with_tools.invoke(chat_prompt_template.format_messages())"
   ]
  },
  {
   "cell_type": "code",
   "execution_count": null,
   "metadata": {},
   "outputs": [],
   "source": [
    "response.pretty_print()"
   ]
  },
  {
   "cell_type": "code",
   "execution_count": null,
   "metadata": {},
   "outputs": [],
   "source": [
    "chat_prompt_template += response\n",
    "chat_prompt_template.format_messages()"
   ]
  },
  {
   "cell_type": "code",
   "execution_count": null,
   "metadata": {},
   "outputs": [],
   "source": [
    "response = tool_node.invoke({\"messages\": [response]})"
   ]
  },
  {
   "cell_type": "code",
   "execution_count": null,
   "metadata": {},
   "outputs": [],
   "source": [
    "response"
   ]
  }
 ],
 "metadata": {
  "kernelspec": {
   "display_name": ".venv",
   "language": "python",
   "name": "python3"
  },
  "language_info": {
   "codemirror_mode": {
    "name": "ipython",
    "version": 3
   },
   "file_extension": ".py",
   "mimetype": "text/x-python",
   "name": "python",
   "nbconvert_exporter": "python",
   "pygments_lexer": "ipython3",
   "version": "3.12.5"
  }
 },
 "nbformat": 4,
 "nbformat_minor": 2
}
