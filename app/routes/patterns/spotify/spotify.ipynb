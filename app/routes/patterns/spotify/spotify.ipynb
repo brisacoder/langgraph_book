{
 "cells": [
  {
   "cell_type": "code",
   "execution_count": 1,
   "metadata": {},
   "outputs": [],
   "source": [
    "%%capture --no-stderr\n",
    "%pip install --quiet -U langgraph langchain-core langchain_openai python-dotenv langsmith pydantic spotipy"
   ]
  },
  {
   "cell_type": "code",
   "execution_count": 2,
   "metadata": {},
   "outputs": [
    {
     "name": "stdout",
     "output_type": "stream",
     "text": [
      "Note: you may need to restart the kernel to use updated packages.\n",
      "Note: you may need to restart the kernel to use updated packages.\n"
     ]
    }
   ],
   "source": [
    "%pip install --quiet -U jupyterlab-lsp\n",
    "%pip install --quiet -U \"python-lsp-server[all]\""
   ]
  },
  {
   "cell_type": "code",
   "execution_count": 3,
   "metadata": {},
   "outputs": [],
   "source": [
    "## Setup logging\n",
    "import logging\n",
    "import os\n",
    "from dotenv import load_dotenv\n",
    "\n",
    "load_dotenv(override=True)\n",
    "logger = logging.getLogger(__name__)\n",
    "\n",
    "# Configure logging\n",
    "logging.basicConfig(\n",
    "    level=logging.INFO,\n",
    "    format='%(asctime)s - %(levelname)s - %(message)s',  # Define the format\n",
    "    handlers=[logging.StreamHandler()]  # Output to the console\n",
    ")"
   ]
  },
  {
   "cell_type": "markdown",
   "metadata": {},
   "source": [
    "# Define Search Tool"
   ]
  },
  {
   "cell_type": "code",
   "execution_count": 4,
   "metadata": {},
   "outputs": [
    {
     "data": {
      "text/plain": [
       "'A search engine optimized for comprehensive, accurate, and trusted results. Useful for when you need to answer questions about current events. Input should be a search query.'"
      ]
     },
     "execution_count": 4,
     "metadata": {},
     "output_type": "execute_result"
    }
   ],
   "source": [
    "from langchain_community.tools.tavily_search import TavilySearchResults\n",
    "\n",
    "search_tool = TavilySearchResults(\n",
    "    max_results=50,\n",
    "    include_answer=True,\n",
    "    include_raw_content=True,\n",
    "    include_images=True,\n",
    "    # search_depth=\"advanced\",\n",
    "    # include_domains = []\n",
    "    # exclude_domains = []\n",
    ")\n",
    "name = search_tool.get_name()\n",
    "desc = search_tool.description\n",
    "desc"
   ]
  },
  {
   "cell_type": "markdown",
   "metadata": {},
   "source": [
    "# Create ToolNode"
   ]
  },
  {
   "cell_type": "code",
   "execution_count": 5,
   "metadata": {},
   "outputs": [],
   "source": [
    "from langgraph.prebuilt import ToolNode\n",
    "from spotify_tools import get_playlists, create_spotify_playlist, add_tracks_to_playlist, filter_artists, get_artists_from_playlist, find_similar_artists, find_top_tracks\n",
    "from plan import validate_plan\n",
    "\n",
    "tools = [get_playlists, create_spotify_playlist, add_tracks_to_playlist, filter_artists, validate_plan, get_artists_from_playlist, find_similar_artists, find_top_tracks, search_tool]\n",
    "tool_node = ToolNode(tools)"
   ]
  },
  {
   "cell_type": "markdown",
   "metadata": {},
   "source": [
    "# Bind Tools to Model"
   ]
  },
  {
   "cell_type": "code",
   "execution_count": 6,
   "metadata": {},
   "outputs": [],
   "source": [
    "from langchain_openai import ChatOpenAI\n",
    "\n",
    "llm = ChatOpenAI(model=os.getenv(\"OPENAI_MODEL_NAME\"), temperature=1.0)\n",
    "# llm_with_tools = llm.bind_tools(tools, strict=True, parallel_tool_calls=False)\n",
    "llm_with_tools = llm.bind_tools(tools, strict=True)"
   ]
  },
  {
   "cell_type": "markdown",
   "metadata": {},
   "source": [
    "# System Prompt"
   ]
  },
  {
   "cell_type": "code",
   "execution_count": 7,
   "metadata": {},
   "outputs": [],
   "source": [
    "from langchain_core.messages import SystemMessage\n",
    "from prompts import Prompts\n",
    "\n",
    "system_message = SystemMessage(Prompts.SYSTEM)\n"
   ]
  },
  {
   "cell_type": "markdown",
   "metadata": {},
   "source": [
    "# First Message"
   ]
  },
  {
   "cell_type": "code",
   "execution_count": 8,
   "metadata": {},
   "outputs": [
    {
     "name": "stderr",
     "output_type": "stream",
     "text": [
      "2024-11-14 22:07:12,572 - INFO - HTTP Request: POST https://api.openai.com/v1/chat/completions \"HTTP/1.1 200 OK\"\n"
     ]
    }
   ],
   "source": [
    "from langchain_core.messages import HumanMessage\n",
    "from prompts import Prompts\n",
    "\n",
    "human_message = HumanMessage(Prompts.SPOTIFY)\n",
    "llm_response = llm_with_tools.invoke([system_message, human_message])"
   ]
  },
  {
   "cell_type": "code",
   "execution_count": 9,
   "metadata": {},
   "outputs": [],
   "source": [
    "if llm_response.tool_calls is None or llm_response.tool_calls[0][\"name\"] != \"validate_plan\":\n",
    "    raise ValueError(\"should be tool message calling 'validate_plan'\")"
   ]
  },
  {
   "cell_type": "code",
   "execution_count": 10,
   "metadata": {},
   "outputs": [
    {
     "name": "stdout",
     "output_type": "stream",
     "text": [
      "==================================\u001b[1m Ai Message \u001b[0m==================================\n",
      "Tool Calls:\n",
      "  validate_plan (call_8Expmq22UFTWlgBZfqJ0YKct)\n",
      " Call ID: call_8Expmq22UFTWlgBZfqJ0YKct\n",
      "  Args:\n",
      "    plan: {'steps': [{'step_number': 1, 'name': 'retrieve-original-playlist-artists', 'type': 'action', 'description': \"Get a list of unique artists from the 'New Rock and Blues' playlist.\", 'success_criteria': 'Successfully retrieve a list of artists from the specified playlist.', 'tool': 'functions.get_artists_from_playlist', 'action': \"Call the function to retrieve artists from 'New Rock and Blues' playlist.\", 'condition': None, 'substeps': None}, {'step_number': 2, 'name': 'find-similar-artists', 'type': 'loop', 'description': 'For each artist in the retrieved list, find 3-4 similar artists.', 'success_criteria': 'Identify at least 3 similar artists for each artist in the original list.', 'tool': 'functions.find_similar_artists', 'action': None, 'condition': 'For each artist in the original list, execute the sub-steps.', 'substeps': [{'step_number': 1, 'name': 'get-similar-artists', 'type': 'action', 'description': 'Find similar artists for a given artist.', 'success_criteria': 'Successfully find similar artists.', 'tool': 'functions.find_similar_artists', 'action': 'Call the function with the artist ID to find similar artists.', 'condition': None}]}, {'step_number': 3, 'name': 'filter-existing-artists', 'type': 'action', 'description': \"Filter out artists from the new similar artists list that are already present in the 'New Rock and Blues' playlist.\", 'success_criteria': 'Remove all existing artists from the list of similar artists.', 'tool': 'functions.filter_artists', 'action': 'Use the filter function to remove existing artists from the new list.', 'condition': None, 'substeps': None}, {'step_number': 4, 'name': 'select-post-2010-artists', 'type': 'action', 'description': 'Select artists from the filtered list who have achieved success post-2010.', 'success_criteria': 'A list of artists who achieved success after 2010.', 'tool': None, 'action': 'Use available data or APIs to filter artists based on their successful debut.', 'condition': None, 'substeps': None}, {'step_number': 5, 'name': 'ensure-minimum-new-artists', 'type': 'branch', 'description': 'Check if the list of new artists contains at least 40 unique artists. If not, repeat earlier steps with different variations.', 'success_criteria': 'The list contains at least 40 unique new artists.', 'tool': None, 'action': None, 'condition': 'If the number of new artists is less than 40, iterate to find more artists.', 'substeps': [{'step_number': 1, 'name': 'repeat-similar-artist-search', 'type': 'action', 'description': 'Repeat the similar artist search with different parameters or retry failed attempts.', 'success_criteria': 'A list of sufficient new artists.', 'tool': None, 'action': 'Adjust the approach to expand the artist pool as needed.', 'condition': None}]}, {'step_number': 6, 'name': 'retrieve-top-tracks', 'type': 'action', 'description': 'For each new artist, find and recommend 3 top tracks.', 'success_criteria': 'List of 3 top tracks for each new artist.', 'tool': 'functions.find_top_tracks', 'action': 'Use the find_top_tracks function for each artist.', 'condition': None, 'substeps': None}, {'step_number': 7, 'name': 'arrange-tracks', 'type': 'action', 'description': 'Arrange tracks based on tempo, energy, and mood to ensure smooth listening.', 'success_criteria': 'A smoothly arranged list of tracks.', 'tool': None, 'action': 'Use best practices and available data to arrange the order of tracks.', 'condition': None, 'substeps': None}, {'step_number': 8, 'name': 'create-new-playlist', 'type': 'action', 'description': 'Create a new Spotify playlist with the name and description.', 'success_criteria': 'Successful creation of a new Spotify playlist.', 'tool': 'functions.create_spotify_playlist', 'action': \"Call the function to create a new playlist named 'Post-2010 Rock and Blues Vibes'.\", 'condition': None, 'substeps': None}, {'step_number': 9, 'name': 'add-tracks-to-playlist', 'type': 'action', 'description': 'Add the arranged tracks to the newly created playlist.', 'success_criteria': 'All tracks successfully added to the playlist.', 'tool': 'functions.add_tracks_to_playlist', 'action': 'Use the add_tracks_to_playlist function to populate the new playlist with tracks.', 'condition': None, 'substeps': None}], 'Reasoning': \"To create a playlist that matches the vibe and genre of the 'New Rock and Blues' playlist, we must first understand the artist pool and find similar artists maintaining freshness. The goal is to create a diverse playlist with contemporary influences, ensuring each aspect from artist selection to track arrangement aligns with the requirements. The structured plan ensures all steps are covered, dependencies handled, and objectives achieved efficiently.\"}\n"
     ]
    }
   ],
   "source": [
    "llm_response.pretty_print()"
   ]
  },
  {
   "cell_type": "code",
   "execution_count": 11,
   "metadata": {},
   "outputs": [
    {
     "data": {
      "text/plain": [
       "{'plan': {'steps': [{'step_number': 1,\n",
       "    'name': 'retrieve-original-playlist-artists',\n",
       "    'type': 'action',\n",
       "    'description': \"Get a list of unique artists from the 'New Rock and Blues' playlist.\",\n",
       "    'success_criteria': 'Successfully retrieve a list of artists from the specified playlist.',\n",
       "    'tool': 'functions.get_artists_from_playlist',\n",
       "    'action': \"Call the function to retrieve artists from 'New Rock and Blues' playlist.\",\n",
       "    'condition': None,\n",
       "    'substeps': None},\n",
       "   {'step_number': 2,\n",
       "    'name': 'find-similar-artists',\n",
       "    'type': 'loop',\n",
       "    'description': 'For each artist in the retrieved list, find 3-4 similar artists.',\n",
       "    'success_criteria': 'Identify at least 3 similar artists for each artist in the original list.',\n",
       "    'tool': 'functions.find_similar_artists',\n",
       "    'action': None,\n",
       "    'condition': 'For each artist in the original list, execute the sub-steps.',\n",
       "    'substeps': [{'step_number': 1,\n",
       "      'name': 'get-similar-artists',\n",
       "      'type': 'action',\n",
       "      'description': 'Find similar artists for a given artist.',\n",
       "      'success_criteria': 'Successfully find similar artists.',\n",
       "      'tool': 'functions.find_similar_artists',\n",
       "      'action': 'Call the function with the artist ID to find similar artists.',\n",
       "      'condition': None}]},\n",
       "   {'step_number': 3,\n",
       "    'name': 'filter-existing-artists',\n",
       "    'type': 'action',\n",
       "    'description': \"Filter out artists from the new similar artists list that are already present in the 'New Rock and Blues' playlist.\",\n",
       "    'success_criteria': 'Remove all existing artists from the list of similar artists.',\n",
       "    'tool': 'functions.filter_artists',\n",
       "    'action': 'Use the filter function to remove existing artists from the new list.',\n",
       "    'condition': None,\n",
       "    'substeps': None},\n",
       "   {'step_number': 4,\n",
       "    'name': 'select-post-2010-artists',\n",
       "    'type': 'action',\n",
       "    'description': 'Select artists from the filtered list who have achieved success post-2010.',\n",
       "    'success_criteria': 'A list of artists who achieved success after 2010.',\n",
       "    'tool': None,\n",
       "    'action': 'Use available data or APIs to filter artists based on their successful debut.',\n",
       "    'condition': None,\n",
       "    'substeps': None},\n",
       "   {'step_number': 5,\n",
       "    'name': 'ensure-minimum-new-artists',\n",
       "    'type': 'branch',\n",
       "    'description': 'Check if the list of new artists contains at least 40 unique artists. If not, repeat earlier steps with different variations.',\n",
       "    'success_criteria': 'The list contains at least 40 unique new artists.',\n",
       "    'tool': None,\n",
       "    'action': None,\n",
       "    'condition': 'If the number of new artists is less than 40, iterate to find more artists.',\n",
       "    'substeps': [{'step_number': 1,\n",
       "      'name': 'repeat-similar-artist-search',\n",
       "      'type': 'action',\n",
       "      'description': 'Repeat the similar artist search with different parameters or retry failed attempts.',\n",
       "      'success_criteria': 'A list of sufficient new artists.',\n",
       "      'tool': None,\n",
       "      'action': 'Adjust the approach to expand the artist pool as needed.',\n",
       "      'condition': None}]},\n",
       "   {'step_number': 6,\n",
       "    'name': 'retrieve-top-tracks',\n",
       "    'type': 'action',\n",
       "    'description': 'For each new artist, find and recommend 3 top tracks.',\n",
       "    'success_criteria': 'List of 3 top tracks for each new artist.',\n",
       "    'tool': 'functions.find_top_tracks',\n",
       "    'action': 'Use the find_top_tracks function for each artist.',\n",
       "    'condition': None,\n",
       "    'substeps': None},\n",
       "   {'step_number': 7,\n",
       "    'name': 'arrange-tracks',\n",
       "    'type': 'action',\n",
       "    'description': 'Arrange tracks based on tempo, energy, and mood to ensure smooth listening.',\n",
       "    'success_criteria': 'A smoothly arranged list of tracks.',\n",
       "    'tool': None,\n",
       "    'action': 'Use best practices and available data to arrange the order of tracks.',\n",
       "    'condition': None,\n",
       "    'substeps': None},\n",
       "   {'step_number': 8,\n",
       "    'name': 'create-new-playlist',\n",
       "    'type': 'action',\n",
       "    'description': 'Create a new Spotify playlist with the name and description.',\n",
       "    'success_criteria': 'Successful creation of a new Spotify playlist.',\n",
       "    'tool': 'functions.create_spotify_playlist',\n",
       "    'action': \"Call the function to create a new playlist named 'Post-2010 Rock and Blues Vibes'.\",\n",
       "    'condition': None,\n",
       "    'substeps': None},\n",
       "   {'step_number': 9,\n",
       "    'name': 'add-tracks-to-playlist',\n",
       "    'type': 'action',\n",
       "    'description': 'Add the arranged tracks to the newly created playlist.',\n",
       "    'success_criteria': 'All tracks successfully added to the playlist.',\n",
       "    'tool': 'functions.add_tracks_to_playlist',\n",
       "    'action': 'Use the add_tracks_to_playlist function to populate the new playlist with tracks.',\n",
       "    'condition': None,\n",
       "    'substeps': None}],\n",
       "  'Reasoning': \"To create a playlist that matches the vibe and genre of the 'New Rock and Blues' playlist, we must first understand the artist pool and find similar artists maintaining freshness. The goal is to create a diverse playlist with contemporary influences, ensuring each aspect from artist selection to track arrangement aligns with the requirements. The structured plan ensures all steps are covered, dependencies handled, and objectives achieved efficiently.\"}}"
      ]
     },
     "execution_count": 11,
     "metadata": {},
     "output_type": "execute_result"
    }
   ],
   "source": [
    "plan = llm_response.tool_calls[0][\"args\"]\n",
    "plan"
   ]
  },
  {
   "cell_type": "markdown",
   "metadata": {},
   "source": [
    "# chat_prompt_template holds all messages (Human, AI, Tool)"
   ]
  },
  {
   "cell_type": "code",
   "execution_count": 12,
   "metadata": {},
   "outputs": [
    {
     "data": {
      "text/plain": [
       "[SystemMessage(content=\"\\n    You are an AI language assistant designed to execute tasks with precision and attention to detail. Your primary objective is to follow the user's instructions thoroughly and exactly as specified, leaving no detail unaddressed.\\n\\n    Guidelines:\\n\\n    - **Carefully Read Instructions:** Before starting any task, read all user instructions thoroughly to ensure complete understanding.\\n\\n    - **Create a Detailed Plan:** Develop a step-by-step plan that addresses every aspect of the user's requirements. Validate this plan before execution.\\n\\n    - **Utilize Advanced Planning Structures:** Do not limit yourself to linear or sequential plans. Employ loops for repetitive tasks, branches for conditional logic, and other programming constructs to handle complex tasks and decision-making processes.\\n\\n    - **Follow Instructions Precisely:** Execute each step exactly as described, without omitting or altering any part of the instructions.\\n\\n    - **Be Thorough:** Ensure that all elements of the task are completed fully. If the task involves processing multiple items (e.g., a list of items), process each item individually, even if it requires multiple iterations or tool calls.\\n\\n    - **Handle Limitations Proactively:** If you encounter any limitations (such as processing limits), implement solutions like batching or looping to ensure all items are processed.\\n\\n    - **Provide Clear Updates:** In your responses, clearly state which step you are working on and provide updates on your progress, ensuring transparency.\\n\\n    - **Do Not Assume or Simplify:** Avoid making assumptions or simplifying tasks unless explicitly instructed by the user.\\n\\n    - **Maintain Professionalism:** Keep your language professional and focused, aiming to deliver exactly what the user has requested.\\n\\n    Your goal is to execute tasks with high accuracy and completeness, ensuring that the user's needs are fully met.\\n    \", additional_kwargs={}, response_metadata={}),\n",
       " HumanMessage(content=\"\\n    Create, validate, and execute a step-by-step plan with atomic tasks to solve the following problem:\\n\\n    **Objective:** Build a Spotify playlist with tracks that have the same vibe and genres as the playlist named 'New Rock and Blues', following the rules below.\\n\\n    **Rules:**\\n\\n    1. **For each artist in the 'New Rock and Blues' playlist, find 3-4 artists of a similar music style.** *Ensure that you process all artists, even if it requires multiple iterations or tool calls due to API limitations.*\\n\\n    2. **Remove from the new artist list those that are already present in the 'New Rock and Blues' Playlist.**\\n\\n    3. **Focus on Post-2010 Success:** Only include tracks from artists who achieved success after the year 2010.\\n\\n    4. **Minimum Number of New Artists:** Include tracks from at least 40 different artists not present in the 'New Rock and Blues' playlist.\\n\\n    5. **Recommend 3+ tracks for each new artist.**\\n\\n    6. **Arrange for Smooth Listening Experience:** Organize the tracks to create a smooth listening experience, considering tempo, energy, and mood, using best practices.\\n\\n    7. **Playlist Length:** Ensure the new playlist contains at least 100 tracks.\\n\\n    **Instructions:**\\n\\n    - You must validate the plan before starting to work on it.\\n    - Do not ask for user confirmation.\\n    \", additional_kwargs={}, response_metadata={}),\n",
       " AIMessage(content='', additional_kwargs={'tool_calls': [{'id': 'call_8Expmq22UFTWlgBZfqJ0YKct', 'function': {'arguments': '{\"plan\":{\"steps\":[{\"step_number\":1,\"name\":\"retrieve-original-playlist-artists\",\"type\":\"action\",\"description\":\"Get a list of unique artists from the \\'New Rock and Blues\\' playlist.\",\"success_criteria\":\"Successfully retrieve a list of artists from the specified playlist.\",\"tool\":\"functions.get_artists_from_playlist\",\"action\":\"Call the function to retrieve artists from \\'New Rock and Blues\\' playlist.\",\"condition\":null,\"substeps\":null},{\"step_number\":2,\"name\":\"find-similar-artists\",\"type\":\"loop\",\"description\":\"For each artist in the retrieved list, find 3-4 similar artists.\",\"success_criteria\":\"Identify at least 3 similar artists for each artist in the original list.\",\"tool\":\"functions.find_similar_artists\",\"action\":null,\"condition\":\"For each artist in the original list, execute the sub-steps.\",\"substeps\":[{\"step_number\":1,\"name\":\"get-similar-artists\",\"type\":\"action\",\"description\":\"Find similar artists for a given artist.\",\"success_criteria\":\"Successfully find similar artists.\",\"tool\":\"functions.find_similar_artists\",\"action\":\"Call the function with the artist ID to find similar artists.\",\"condition\":null}]},{\"step_number\":3,\"name\":\"filter-existing-artists\",\"type\":\"action\",\"description\":\"Filter out artists from the new similar artists list that are already present in the \\'New Rock and Blues\\' playlist.\",\"success_criteria\":\"Remove all existing artists from the list of similar artists.\",\"tool\":\"functions.filter_artists\",\"action\":\"Use the filter function to remove existing artists from the new list.\",\"condition\":null,\"substeps\":null},{\"step_number\":4,\"name\":\"select-post-2010-artists\",\"type\":\"action\",\"description\":\"Select artists from the filtered list who have achieved success post-2010.\",\"success_criteria\":\"A list of artists who achieved success after 2010.\",\"tool\":null,\"action\":\"Use available data or APIs to filter artists based on their successful debut.\",\"condition\":null,\"substeps\":null},{\"step_number\":5,\"name\":\"ensure-minimum-new-artists\",\"type\":\"branch\",\"description\":\"Check if the list of new artists contains at least 40 unique artists. If not, repeat earlier steps with different variations.\",\"success_criteria\":\"The list contains at least 40 unique new artists.\",\"tool\":null,\"action\":null,\"condition\":\"If the number of new artists is less than 40, iterate to find more artists.\",\"substeps\":[{\"step_number\":1,\"name\":\"repeat-similar-artist-search\",\"type\":\"action\",\"description\":\"Repeat the similar artist search with different parameters or retry failed attempts.\",\"success_criteria\":\"A list of sufficient new artists.\",\"tool\":null,\"action\":\"Adjust the approach to expand the artist pool as needed.\",\"condition\":null}]},{\"step_number\":6,\"name\":\"retrieve-top-tracks\",\"type\":\"action\",\"description\":\"For each new artist, find and recommend 3 top tracks.\",\"success_criteria\":\"List of 3 top tracks for each new artist.\",\"tool\":\"functions.find_top_tracks\",\"action\":\"Use the find_top_tracks function for each artist.\",\"condition\":null,\"substeps\":null},{\"step_number\":7,\"name\":\"arrange-tracks\",\"type\":\"action\",\"description\":\"Arrange tracks based on tempo, energy, and mood to ensure smooth listening.\",\"success_criteria\":\"A smoothly arranged list of tracks.\",\"tool\":null,\"action\":\"Use best practices and available data to arrange the order of tracks.\",\"condition\":null,\"substeps\":null},{\"step_number\":8,\"name\":\"create-new-playlist\",\"type\":\"action\",\"description\":\"Create a new Spotify playlist with the name and description.\",\"success_criteria\":\"Successful creation of a new Spotify playlist.\",\"tool\":\"functions.create_spotify_playlist\",\"action\":\"Call the function to create a new playlist named \\'Post-2010 Rock and Blues Vibes\\'.\",\"condition\":null,\"substeps\":null},{\"step_number\":9,\"name\":\"add-tracks-to-playlist\",\"type\":\"action\",\"description\":\"Add the arranged tracks to the newly created playlist.\",\"success_criteria\":\"All tracks successfully added to the playlist.\",\"tool\":\"functions.add_tracks_to_playlist\",\"action\":\"Use the add_tracks_to_playlist function to populate the new playlist with tracks.\",\"condition\":null,\"substeps\":null}],\"Reasoning\":\"To create a playlist that matches the vibe and genre of the \\'New Rock and Blues\\' playlist, we must first understand the artist pool and find similar artists maintaining freshness. The goal is to create a diverse playlist with contemporary influences, ensuring each aspect from artist selection to track arrangement aligns with the requirements. The structured plan ensures all steps are covered, dependencies handled, and objectives achieved efficiently.\"}}', 'name': 'validate_plan'}, 'type': 'function'}], 'refusal': None}, response_metadata={'token_usage': {'completion_tokens': 966, 'prompt_tokens': 1902, 'total_tokens': 2868, 'completion_tokens_details': {'accepted_prediction_tokens': 0, 'audio_tokens': 0, 'reasoning_tokens': 0, 'rejected_prediction_tokens': 0}, 'prompt_tokens_details': {'audio_tokens': 0, 'cached_tokens': 1152}}, 'model_name': 'gpt-4o-2024-08-06', 'system_fingerprint': 'fp_45cf54deae', 'finish_reason': 'tool_calls', 'logprobs': None}, id='run-859af6e9-fefd-4d02-a578-9d1e6648c34b-0', tool_calls=[{'name': 'validate_plan', 'args': {'plan': {'steps': [{'step_number': 1, 'name': 'retrieve-original-playlist-artists', 'type': 'action', 'description': \"Get a list of unique artists from the 'New Rock and Blues' playlist.\", 'success_criteria': 'Successfully retrieve a list of artists from the specified playlist.', 'tool': 'functions.get_artists_from_playlist', 'action': \"Call the function to retrieve artists from 'New Rock and Blues' playlist.\", 'condition': None, 'substeps': None}, {'step_number': 2, 'name': 'find-similar-artists', 'type': 'loop', 'description': 'For each artist in the retrieved list, find 3-4 similar artists.', 'success_criteria': 'Identify at least 3 similar artists for each artist in the original list.', 'tool': 'functions.find_similar_artists', 'action': None, 'condition': 'For each artist in the original list, execute the sub-steps.', 'substeps': [{'step_number': 1, 'name': 'get-similar-artists', 'type': 'action', 'description': 'Find similar artists for a given artist.', 'success_criteria': 'Successfully find similar artists.', 'tool': 'functions.find_similar_artists', 'action': 'Call the function with the artist ID to find similar artists.', 'condition': None}]}, {'step_number': 3, 'name': 'filter-existing-artists', 'type': 'action', 'description': \"Filter out artists from the new similar artists list that are already present in the 'New Rock and Blues' playlist.\", 'success_criteria': 'Remove all existing artists from the list of similar artists.', 'tool': 'functions.filter_artists', 'action': 'Use the filter function to remove existing artists from the new list.', 'condition': None, 'substeps': None}, {'step_number': 4, 'name': 'select-post-2010-artists', 'type': 'action', 'description': 'Select artists from the filtered list who have achieved success post-2010.', 'success_criteria': 'A list of artists who achieved success after 2010.', 'tool': None, 'action': 'Use available data or APIs to filter artists based on their successful debut.', 'condition': None, 'substeps': None}, {'step_number': 5, 'name': 'ensure-minimum-new-artists', 'type': 'branch', 'description': 'Check if the list of new artists contains at least 40 unique artists. If not, repeat earlier steps with different variations.', 'success_criteria': 'The list contains at least 40 unique new artists.', 'tool': None, 'action': None, 'condition': 'If the number of new artists is less than 40, iterate to find more artists.', 'substeps': [{'step_number': 1, 'name': 'repeat-similar-artist-search', 'type': 'action', 'description': 'Repeat the similar artist search with different parameters or retry failed attempts.', 'success_criteria': 'A list of sufficient new artists.', 'tool': None, 'action': 'Adjust the approach to expand the artist pool as needed.', 'condition': None}]}, {'step_number': 6, 'name': 'retrieve-top-tracks', 'type': 'action', 'description': 'For each new artist, find and recommend 3 top tracks.', 'success_criteria': 'List of 3 top tracks for each new artist.', 'tool': 'functions.find_top_tracks', 'action': 'Use the find_top_tracks function for each artist.', 'condition': None, 'substeps': None}, {'step_number': 7, 'name': 'arrange-tracks', 'type': 'action', 'description': 'Arrange tracks based on tempo, energy, and mood to ensure smooth listening.', 'success_criteria': 'A smoothly arranged list of tracks.', 'tool': None, 'action': 'Use best practices and available data to arrange the order of tracks.', 'condition': None, 'substeps': None}, {'step_number': 8, 'name': 'create-new-playlist', 'type': 'action', 'description': 'Create a new Spotify playlist with the name and description.', 'success_criteria': 'Successful creation of a new Spotify playlist.', 'tool': 'functions.create_spotify_playlist', 'action': \"Call the function to create a new playlist named 'Post-2010 Rock and Blues Vibes'.\", 'condition': None, 'substeps': None}, {'step_number': 9, 'name': 'add-tracks-to-playlist', 'type': 'action', 'description': 'Add the arranged tracks to the newly created playlist.', 'success_criteria': 'All tracks successfully added to the playlist.', 'tool': 'functions.add_tracks_to_playlist', 'action': 'Use the add_tracks_to_playlist function to populate the new playlist with tracks.', 'condition': None, 'substeps': None}], 'Reasoning': \"To create a playlist that matches the vibe and genre of the 'New Rock and Blues' playlist, we must first understand the artist pool and find similar artists maintaining freshness. The goal is to create a diverse playlist with contemporary influences, ensuring each aspect from artist selection to track arrangement aligns with the requirements. The structured plan ensures all steps are covered, dependencies handled, and objectives achieved efficiently.\"}}, 'id': 'call_8Expmq22UFTWlgBZfqJ0YKct', 'type': 'tool_call'}], usage_metadata={'input_tokens': 1902, 'output_tokens': 966, 'total_tokens': 2868, 'input_token_details': {'audio': 0, 'cache_read': 1152}, 'output_token_details': {'audio': 0, 'reasoning': 0}})]"
      ]
     },
     "execution_count": 12,
     "metadata": {},
     "output_type": "execute_result"
    }
   ],
   "source": [
    "from langchain_core.prompts import ChatPromptTemplate\n",
    "\n",
    "chat_prompt_template: ChatPromptTemplate = system_message + human_message + llm_response\n",
    "messages = chat_prompt_template.format_messages()\n",
    "messages"
   ]
  },
  {
   "cell_type": "markdown",
   "metadata": {},
   "source": [
    "# Check for Tools in Message"
   ]
  },
  {
   "cell_type": "code",
   "execution_count": 13,
   "metadata": {},
   "outputs": [
    {
     "name": "stdout",
     "output_type": "stream",
     "text": [
      "[StructuredTool(name='validate_plan', description='Validates a step-by-step plan to solve a problem\\n\\nArgs:\\n    plan (Plan): a step-by-step plan to solve a problem\\n\\nReturns:\\n    bool: whether plan is okay or not', args_schema=<class 'langchain_core.utils.pydantic.validate_plan'>, func=<function validate_plan at 0x0000018D0E0FFF60>)]\n"
     ]
    }
   ],
   "source": [
    "from langchain_core.messages import ToolMessage\n",
    "\n",
    "tools_in_ai_message = []\n",
    "tools_by_name = {tool.name: tool for tool in tools}\n",
    "messages = chat_prompt_template.format_messages()\n",
    "for tool_call in messages[-1].tool_calls:\n",
    "    tool = tools_by_name[tool_call[\"name\"]]\n",
    "    tools_in_ai_message.append(tool)\n",
    "    # observation = tool.invoke(tool_call[\"args\"])\n",
    "    # result.append(ToolMessage(content=observation, tool_call_id=tool_call[\"id\"]))\n",
    "if len(tools_in_ai_message) == 0:\n",
    "    raise ValueError\n",
    "else:\n",
    "    print(tools_in_ai_message)"
   ]
  },
  {
   "cell_type": "markdown",
   "metadata": {},
   "source": [
    "# Tool Call (should be validate_plan())"
   ]
  },
  {
   "cell_type": "code",
   "execution_count": 14,
   "metadata": {},
   "outputs": [
    {
     "name": "stdout",
     "output_type": "stream",
     "text": [
      "=================================\u001b[1m Tool Message \u001b[0m=================================\n",
      "Name: validate_plan\n",
      "\n",
      "true\n"
     ]
    }
   ],
   "source": [
    "tool_response = tool_node.invoke({\"messages\": messages})\n",
    "tool_message = tool_response[\"messages\"][0]\n",
    "tool_message.pretty_print()"
   ]
  },
  {
   "cell_type": "markdown",
   "metadata": {},
   "source": [
    "# Add Tool Response to Messages"
   ]
  },
  {
   "cell_type": "code",
   "execution_count": 15,
   "metadata": {},
   "outputs": [
    {
     "data": {
      "text/plain": [
       "[SystemMessage(content=\"\\n    You are an AI language assistant designed to execute tasks with precision and attention to detail. Your primary objective is to follow the user's instructions thoroughly and exactly as specified, leaving no detail unaddressed.\\n\\n    Guidelines:\\n\\n    - **Carefully Read Instructions:** Before starting any task, read all user instructions thoroughly to ensure complete understanding.\\n\\n    - **Create a Detailed Plan:** Develop a step-by-step plan that addresses every aspect of the user's requirements. Validate this plan before execution.\\n\\n    - **Utilize Advanced Planning Structures:** Do not limit yourself to linear or sequential plans. Employ loops for repetitive tasks, branches for conditional logic, and other programming constructs to handle complex tasks and decision-making processes.\\n\\n    - **Follow Instructions Precisely:** Execute each step exactly as described, without omitting or altering any part of the instructions.\\n\\n    - **Be Thorough:** Ensure that all elements of the task are completed fully. If the task involves processing multiple items (e.g., a list of items), process each item individually, even if it requires multiple iterations or tool calls.\\n\\n    - **Handle Limitations Proactively:** If you encounter any limitations (such as processing limits), implement solutions like batching or looping to ensure all items are processed.\\n\\n    - **Provide Clear Updates:** In your responses, clearly state which step you are working on and provide updates on your progress, ensuring transparency.\\n\\n    - **Do Not Assume or Simplify:** Avoid making assumptions or simplifying tasks unless explicitly instructed by the user.\\n\\n    - **Maintain Professionalism:** Keep your language professional and focused, aiming to deliver exactly what the user has requested.\\n\\n    Your goal is to execute tasks with high accuracy and completeness, ensuring that the user's needs are fully met.\\n    \", additional_kwargs={}, response_metadata={}),\n",
       " HumanMessage(content=\"\\n    Create, validate, and execute a step-by-step plan with atomic tasks to solve the following problem:\\n\\n    **Objective:** Build a Spotify playlist with tracks that have the same vibe and genres as the playlist named 'New Rock and Blues', following the rules below.\\n\\n    **Rules:**\\n\\n    1. **For each artist in the 'New Rock and Blues' playlist, find 3-4 artists of a similar music style.** *Ensure that you process all artists, even if it requires multiple iterations or tool calls due to API limitations.*\\n\\n    2. **Remove from the new artist list those that are already present in the 'New Rock and Blues' Playlist.**\\n\\n    3. **Focus on Post-2010 Success:** Only include tracks from artists who achieved success after the year 2010.\\n\\n    4. **Minimum Number of New Artists:** Include tracks from at least 40 different artists not present in the 'New Rock and Blues' playlist.\\n\\n    5. **Recommend 3+ tracks for each new artist.**\\n\\n    6. **Arrange for Smooth Listening Experience:** Organize the tracks to create a smooth listening experience, considering tempo, energy, and mood, using best practices.\\n\\n    7. **Playlist Length:** Ensure the new playlist contains at least 100 tracks.\\n\\n    **Instructions:**\\n\\n    - You must validate the plan before starting to work on it.\\n    - Do not ask for user confirmation.\\n    \", additional_kwargs={}, response_metadata={}),\n",
       " AIMessage(content='', additional_kwargs={'tool_calls': [{'id': 'call_8Expmq22UFTWlgBZfqJ0YKct', 'function': {'arguments': '{\"plan\":{\"steps\":[{\"step_number\":1,\"name\":\"retrieve-original-playlist-artists\",\"type\":\"action\",\"description\":\"Get a list of unique artists from the \\'New Rock and Blues\\' playlist.\",\"success_criteria\":\"Successfully retrieve a list of artists from the specified playlist.\",\"tool\":\"functions.get_artists_from_playlist\",\"action\":\"Call the function to retrieve artists from \\'New Rock and Blues\\' playlist.\",\"condition\":null,\"substeps\":null},{\"step_number\":2,\"name\":\"find-similar-artists\",\"type\":\"loop\",\"description\":\"For each artist in the retrieved list, find 3-4 similar artists.\",\"success_criteria\":\"Identify at least 3 similar artists for each artist in the original list.\",\"tool\":\"functions.find_similar_artists\",\"action\":null,\"condition\":\"For each artist in the original list, execute the sub-steps.\",\"substeps\":[{\"step_number\":1,\"name\":\"get-similar-artists\",\"type\":\"action\",\"description\":\"Find similar artists for a given artist.\",\"success_criteria\":\"Successfully find similar artists.\",\"tool\":\"functions.find_similar_artists\",\"action\":\"Call the function with the artist ID to find similar artists.\",\"condition\":null}]},{\"step_number\":3,\"name\":\"filter-existing-artists\",\"type\":\"action\",\"description\":\"Filter out artists from the new similar artists list that are already present in the \\'New Rock and Blues\\' playlist.\",\"success_criteria\":\"Remove all existing artists from the list of similar artists.\",\"tool\":\"functions.filter_artists\",\"action\":\"Use the filter function to remove existing artists from the new list.\",\"condition\":null,\"substeps\":null},{\"step_number\":4,\"name\":\"select-post-2010-artists\",\"type\":\"action\",\"description\":\"Select artists from the filtered list who have achieved success post-2010.\",\"success_criteria\":\"A list of artists who achieved success after 2010.\",\"tool\":null,\"action\":\"Use available data or APIs to filter artists based on their successful debut.\",\"condition\":null,\"substeps\":null},{\"step_number\":5,\"name\":\"ensure-minimum-new-artists\",\"type\":\"branch\",\"description\":\"Check if the list of new artists contains at least 40 unique artists. If not, repeat earlier steps with different variations.\",\"success_criteria\":\"The list contains at least 40 unique new artists.\",\"tool\":null,\"action\":null,\"condition\":\"If the number of new artists is less than 40, iterate to find more artists.\",\"substeps\":[{\"step_number\":1,\"name\":\"repeat-similar-artist-search\",\"type\":\"action\",\"description\":\"Repeat the similar artist search with different parameters or retry failed attempts.\",\"success_criteria\":\"A list of sufficient new artists.\",\"tool\":null,\"action\":\"Adjust the approach to expand the artist pool as needed.\",\"condition\":null}]},{\"step_number\":6,\"name\":\"retrieve-top-tracks\",\"type\":\"action\",\"description\":\"For each new artist, find and recommend 3 top tracks.\",\"success_criteria\":\"List of 3 top tracks for each new artist.\",\"tool\":\"functions.find_top_tracks\",\"action\":\"Use the find_top_tracks function for each artist.\",\"condition\":null,\"substeps\":null},{\"step_number\":7,\"name\":\"arrange-tracks\",\"type\":\"action\",\"description\":\"Arrange tracks based on tempo, energy, and mood to ensure smooth listening.\",\"success_criteria\":\"A smoothly arranged list of tracks.\",\"tool\":null,\"action\":\"Use best practices and available data to arrange the order of tracks.\",\"condition\":null,\"substeps\":null},{\"step_number\":8,\"name\":\"create-new-playlist\",\"type\":\"action\",\"description\":\"Create a new Spotify playlist with the name and description.\",\"success_criteria\":\"Successful creation of a new Spotify playlist.\",\"tool\":\"functions.create_spotify_playlist\",\"action\":\"Call the function to create a new playlist named \\'Post-2010 Rock and Blues Vibes\\'.\",\"condition\":null,\"substeps\":null},{\"step_number\":9,\"name\":\"add-tracks-to-playlist\",\"type\":\"action\",\"description\":\"Add the arranged tracks to the newly created playlist.\",\"success_criteria\":\"All tracks successfully added to the playlist.\",\"tool\":\"functions.add_tracks_to_playlist\",\"action\":\"Use the add_tracks_to_playlist function to populate the new playlist with tracks.\",\"condition\":null,\"substeps\":null}],\"Reasoning\":\"To create a playlist that matches the vibe and genre of the \\'New Rock and Blues\\' playlist, we must first understand the artist pool and find similar artists maintaining freshness. The goal is to create a diverse playlist with contemporary influences, ensuring each aspect from artist selection to track arrangement aligns with the requirements. The structured plan ensures all steps are covered, dependencies handled, and objectives achieved efficiently.\"}}', 'name': 'validate_plan'}, 'type': 'function'}], 'refusal': None}, response_metadata={'token_usage': {'completion_tokens': 966, 'prompt_tokens': 1902, 'total_tokens': 2868, 'completion_tokens_details': {'accepted_prediction_tokens': 0, 'audio_tokens': 0, 'reasoning_tokens': 0, 'rejected_prediction_tokens': 0}, 'prompt_tokens_details': {'audio_tokens': 0, 'cached_tokens': 1152}}, 'model_name': 'gpt-4o-2024-08-06', 'system_fingerprint': 'fp_45cf54deae', 'finish_reason': 'tool_calls', 'logprobs': None}, id='run-859af6e9-fefd-4d02-a578-9d1e6648c34b-0', tool_calls=[{'name': 'validate_plan', 'args': {'plan': {'steps': [{'step_number': 1, 'name': 'retrieve-original-playlist-artists', 'type': 'action', 'description': \"Get a list of unique artists from the 'New Rock and Blues' playlist.\", 'success_criteria': 'Successfully retrieve a list of artists from the specified playlist.', 'tool': 'functions.get_artists_from_playlist', 'action': \"Call the function to retrieve artists from 'New Rock and Blues' playlist.\", 'condition': None, 'substeps': None}, {'step_number': 2, 'name': 'find-similar-artists', 'type': 'loop', 'description': 'For each artist in the retrieved list, find 3-4 similar artists.', 'success_criteria': 'Identify at least 3 similar artists for each artist in the original list.', 'tool': 'functions.find_similar_artists', 'action': None, 'condition': 'For each artist in the original list, execute the sub-steps.', 'substeps': [{'step_number': 1, 'name': 'get-similar-artists', 'type': 'action', 'description': 'Find similar artists for a given artist.', 'success_criteria': 'Successfully find similar artists.', 'tool': 'functions.find_similar_artists', 'action': 'Call the function with the artist ID to find similar artists.', 'condition': None}]}, {'step_number': 3, 'name': 'filter-existing-artists', 'type': 'action', 'description': \"Filter out artists from the new similar artists list that are already present in the 'New Rock and Blues' playlist.\", 'success_criteria': 'Remove all existing artists from the list of similar artists.', 'tool': 'functions.filter_artists', 'action': 'Use the filter function to remove existing artists from the new list.', 'condition': None, 'substeps': None}, {'step_number': 4, 'name': 'select-post-2010-artists', 'type': 'action', 'description': 'Select artists from the filtered list who have achieved success post-2010.', 'success_criteria': 'A list of artists who achieved success after 2010.', 'tool': None, 'action': 'Use available data or APIs to filter artists based on their successful debut.', 'condition': None, 'substeps': None}, {'step_number': 5, 'name': 'ensure-minimum-new-artists', 'type': 'branch', 'description': 'Check if the list of new artists contains at least 40 unique artists. If not, repeat earlier steps with different variations.', 'success_criteria': 'The list contains at least 40 unique new artists.', 'tool': None, 'action': None, 'condition': 'If the number of new artists is less than 40, iterate to find more artists.', 'substeps': [{'step_number': 1, 'name': 'repeat-similar-artist-search', 'type': 'action', 'description': 'Repeat the similar artist search with different parameters or retry failed attempts.', 'success_criteria': 'A list of sufficient new artists.', 'tool': None, 'action': 'Adjust the approach to expand the artist pool as needed.', 'condition': None}]}, {'step_number': 6, 'name': 'retrieve-top-tracks', 'type': 'action', 'description': 'For each new artist, find and recommend 3 top tracks.', 'success_criteria': 'List of 3 top tracks for each new artist.', 'tool': 'functions.find_top_tracks', 'action': 'Use the find_top_tracks function for each artist.', 'condition': None, 'substeps': None}, {'step_number': 7, 'name': 'arrange-tracks', 'type': 'action', 'description': 'Arrange tracks based on tempo, energy, and mood to ensure smooth listening.', 'success_criteria': 'A smoothly arranged list of tracks.', 'tool': None, 'action': 'Use best practices and available data to arrange the order of tracks.', 'condition': None, 'substeps': None}, {'step_number': 8, 'name': 'create-new-playlist', 'type': 'action', 'description': 'Create a new Spotify playlist with the name and description.', 'success_criteria': 'Successful creation of a new Spotify playlist.', 'tool': 'functions.create_spotify_playlist', 'action': \"Call the function to create a new playlist named 'Post-2010 Rock and Blues Vibes'.\", 'condition': None, 'substeps': None}, {'step_number': 9, 'name': 'add-tracks-to-playlist', 'type': 'action', 'description': 'Add the arranged tracks to the newly created playlist.', 'success_criteria': 'All tracks successfully added to the playlist.', 'tool': 'functions.add_tracks_to_playlist', 'action': 'Use the add_tracks_to_playlist function to populate the new playlist with tracks.', 'condition': None, 'substeps': None}], 'Reasoning': \"To create a playlist that matches the vibe and genre of the 'New Rock and Blues' playlist, we must first understand the artist pool and find similar artists maintaining freshness. The goal is to create a diverse playlist with contemporary influences, ensuring each aspect from artist selection to track arrangement aligns with the requirements. The structured plan ensures all steps are covered, dependencies handled, and objectives achieved efficiently.\"}}, 'id': 'call_8Expmq22UFTWlgBZfqJ0YKct', 'type': 'tool_call'}], usage_metadata={'input_tokens': 1902, 'output_tokens': 966, 'total_tokens': 2868, 'input_token_details': {'audio': 0, 'cache_read': 1152}, 'output_token_details': {'audio': 0, 'reasoning': 0}}),\n",
       " ToolMessage(content='true', name='validate_plan', tool_call_id='call_8Expmq22UFTWlgBZfqJ0YKct')]"
      ]
     },
     "execution_count": 15,
     "metadata": {},
     "output_type": "execute_result"
    }
   ],
   "source": [
    "chat_prompt_template += tool_message\n",
    "chat_prompt_template.format_messages()"
   ]
  },
  {
   "cell_type": "markdown",
   "metadata": {},
   "source": [
    "# Send Messages with Tool result to LLM"
   ]
  },
  {
   "cell_type": "code",
   "execution_count": 16,
   "metadata": {},
   "outputs": [
    {
     "name": "stderr",
     "output_type": "stream",
     "text": [
      "2024-11-14 22:07:13,620 - INFO - HTTP Request: POST https://api.openai.com/v1/chat/completions \"HTTP/1.1 200 OK\"\n"
     ]
    },
    {
     "name": "stdout",
     "output_type": "stream",
     "text": [
      "==================================\u001b[1m Ai Message \u001b[0m==================================\n",
      "Tool Calls:\n",
      "  get_playlists (call_8QiYNgN1pL5bmd5e0l9tTrXs)\n",
      " Call ID: call_8QiYNgN1pL5bmd5e0l9tTrXs\n",
      "  Args:\n"
     ]
    }
   ],
   "source": [
    "llm_response = llm_with_tools.invoke(chat_prompt_template.format_messages())\n",
    "llm_response.pretty_print()"
   ]
  },
  {
   "cell_type": "markdown",
   "metadata": {},
   "source": [
    "# Validate correct tool call"
   ]
  },
  {
   "cell_type": "code",
   "execution_count": 17,
   "metadata": {},
   "outputs": [],
   "source": [
    "if llm_response.tool_calls is None or llm_response.tool_calls[0][\"name\"] != \"get_playlists\":\n",
    "    raise ValueError(\"should be tool message calling 'validate_plan'\")"
   ]
  },
  {
   "cell_type": "markdown",
   "metadata": {},
   "source": [
    "# Tool Call (should be get_playlists())"
   ]
  },
  {
   "cell_type": "code",
   "execution_count": 18,
   "metadata": {},
   "outputs": [],
   "source": [
    "chat_prompt_template += llm_response\n",
    "messages = chat_prompt_template.format_messages()\n",
    "tool_response = tool_node.invoke({\"messages\": messages})"
   ]
  },
  {
   "cell_type": "code",
   "execution_count": 19,
   "metadata": {},
   "outputs": [
    {
     "name": "stdout",
     "output_type": "stream",
     "text": [
      "=================================\u001b[1m Tool Message \u001b[0m=================================\n",
      "Name: get_playlists\n",
      "\n",
      "[{\"id\": \"2dbYK5b7J0F7IdH5n1TEUK\", \"name\": \"RPreacher\"}, {\"id\": \"4ack9YtUhdxRayJDAqlfQe\", \"name\": \"RP Bossa Nova Chill \"}, {\"id\": \"75NW18NgdZuZeifrcjxKlZ\", \"name\": \"GVF\"}, {\"id\": \"5iyONtUO21O88xw8pBblwh\", \"name\": \"Now And Then\"}, {\"id\": \"4SDSUMg2HJcGFmHlupsU7U\", \"name\": \"Jazz classics\"}, {\"id\": \"5fBxLG2wLAPVpx83402rHl\", \"name\": \"Acdc\"}, {\"id\": \"17Yxm5hQbkbZwDcCTuiDXC\", \"name\": \"einaudi\"}, {\"id\": \"2X6GccWfIqPWO6VYx405nO\", \"name\": \"Eric Clapton Blues\"}, {\"id\": \"3smVXe8y8w8nt4lFH0HBkW\", \"name\": \"Alchemy: Dire Straits\"}, {\"id\": \"2ifRZBXnX7UmIPUlGet5WZ\", \"name\": \"Blues\"}, {\"id\": \"5nn2ePtd9gYEEDL3XnACCB\", \"name\": \"brazil\"}, {\"id\": \"6YAntoKNXuogPKdV26b6XE\", \"name\": \"CCR\"}, {\"id\": \"2VHkZvOMCkLF3B7TsKerKD\", \"name\": \"Chill\"}, {\"id\": \"508lbLx9XUkHv5Xb45hxTP\", \"name\": \"Classic Rock\"}, {\"id\": \"7zzDMq1sPwkZPYeqOQJ9qS\", \"name\": \"The New Four Seasons - Vivaldi Recomposed\"}, {\"id\": \"4l8WcaYlPkuVPXVGxMIca3\", \"name\": \"New Study\"}, {\"id\": \"0Wr2Z9vroQ9IXKaokFHldt\", \"name\": \"Islands - Essential Einaudi (Deluxe Version)\"}, {\"id\": \"780Yx65yiaLtBYM76neBYC\", \"name\": \"Gioachino Rossini – Rossini: Overtures\"}, {\"id\": \"76rUGmzqh1OhyheEOUDYNp\", \"name\": \"Frédéric Chopin – Chopin: Nocturnes\"}, {\"id\": \"5qcHJodVJd8AEOT2cCvxEm\", \"name\": \"Frédéric Chopin – Chopin: Nocturnes - Sony Classical Originals 2\"}, {\"id\": \"7hr9yYAJLXDoJ5sKBhm8Af\", \"name\": \"Antonio Vivaldi – Vivaldi: Guitar Concertos\"}, {\"id\": \"4ruyjAXs6VHU8ZYJqXsUiN\", \"name\": \"Sergei Rachmaninoff – Rachmaninoff Plays Rachmaninoff: Concertos Nos. 2 and 3\"}, {\"id\": \"4GYOeGfC7fSephEi3UYh0W\", \"name\": \"Erik Satie – Satie: Gymnopédies, Gnossiennes & Other Works\"}, {\"id\": \"2lop6NfhiYA07UzhWUCyc2\", \"name\": \"Classical Masters\"}, {\"id\": \"2RUN05cfOlR09kJUvTAEPk\", \"name\": \"Evil Woman\"}, {\"id\": \"3DEKSWlDt8Qors1NpYLXwt\", \"name\": \"Hits 2000\"}, {\"id\": \"7FgZOBK0lhTZz7gMJeV7gs\", \"name\": \"Insomniac\"}, {\"id\": \"6DgcAL9oygPekQLDY2mFDq\", \"name\": \"Jean-Michel Jarre – Equinoxe\"}, {\"id\": \"6X1fib1966dU31uZdTH5p1\", \"name\": \"Misplaced Childhood (2017 Remaster)\"}, {\"id\": \"5mxEevqyJ7IbtnmxlRSlaL\", \"name\": \"My Playlist #36\"}, {\"id\": \"01tk0aitEuGK0ajWCkzdKc\", \"name\": \"New Rock and Blues\"}, {\"id\": \"5Culgc9kaBQ5b9oOHXXhB6\", \"name\": \"Nothing But the Blues (Live)\"}, {\"id\": \"5qYPd1AvydE1Ltz5uGCVVG\", \"name\": \"Pet Shop Boys\"}, {\"id\": \"43ekrNptzLLkRVGuZWUI83\", \"name\": \"Pink Floyd\"}, {\"id\": \"25odQP99Tc8QbNs8dWWsQV\", \"name\": \"Pink Floyd – The Wall\"}, {\"id\": \"6smB0SEs5sX0FOzA4h22Eq\", \"name\": \"Rock\"}, {\"id\": \"5q5ZVp6frFMc8y0ivNfGk2\", \"name\": \"Rock Balads\"}, {\"id\": \"4Vk5tgx9FcO17ZhdFwxJIp\", \"name\": \"Rock Hard\"}, {\"id\": \"3n3RLXoDDH7O9XpusnnnvV\", \"name\": \"Rolling Stones\"}, {\"id\": \"5XdXmStK6X9ZPstLvDBekC\", \"name\": \"Workout\"}]\n"
     ]
    }
   ],
   "source": [
    "from langchain_core.messages import ToolMessage\n",
    "\n",
    "tool_message: ToolMessage = tool_response[\"messages\"][0]\n",
    "tool_message.pretty_print()"
   ]
  },
  {
   "cell_type": "markdown",
   "metadata": {},
   "source": [
    "# Add Tool Response to Messages"
   ]
  },
  {
   "cell_type": "code",
   "execution_count": 20,
   "metadata": {},
   "outputs": [],
   "source": [
    "chat_prompt_template += tool_message\n",
    "messages = chat_prompt_template.format_messages()"
   ]
  },
  {
   "cell_type": "markdown",
   "metadata": {},
   "source": [
    "# Send Playlists Results to LLM"
   ]
  },
  {
   "cell_type": "code",
   "execution_count": 21,
   "metadata": {},
   "outputs": [
    {
     "name": "stderr",
     "output_type": "stream",
     "text": [
      "2024-11-14 22:08:50,307 - INFO - HTTP Request: POST https://api.openai.com/v1/chat/completions \"HTTP/1.1 200 OK\"\n"
     ]
    },
    {
     "name": "stdout",
     "output_type": "stream",
     "text": [
      "==================================\u001b[1m Ai Message \u001b[0m==================================\n",
      "Tool Calls:\n",
      "  get_artists_from_playlist (call_UxVc0RrZuP2cEkNAHdFgNqa4)\n",
      " Call ID: call_UxVc0RrZuP2cEkNAHdFgNqa4\n",
      "  Args:\n",
      "    playlist_id: 01tk0aitEuGK0ajWCkzdKc\n"
     ]
    }
   ],
   "source": [
    "llm_response = llm_with_tools.invoke(messages)\n",
    "llm_response.pretty_print()"
   ]
  },
  {
   "cell_type": "markdown",
   "metadata": {},
   "source": [
    "# Validate correct tool call"
   ]
  },
  {
   "cell_type": "code",
   "execution_count": 22,
   "metadata": {},
   "outputs": [],
   "source": [
    "if llm_response.tool_calls is None or llm_response.tool_calls[0][\"name\"] != \"get_artists_from_playlist\":\n",
    "    raise ValueError(\"should be tool message calling 'get_artists_from_playlist'\")"
   ]
  },
  {
   "cell_type": "markdown",
   "metadata": {},
   "source": [
    "# Add AI Tool Call to Messages"
   ]
  },
  {
   "cell_type": "code",
   "execution_count": 23,
   "metadata": {},
   "outputs": [],
   "source": [
    "chat_prompt_template += llm_response\n",
    "messages = chat_prompt_template.format_messages()"
   ]
  },
  {
   "cell_type": "markdown",
   "metadata": {},
   "source": [
    "# Tool Call (get_artists_from_playlist())"
   ]
  },
  {
   "cell_type": "code",
   "execution_count": 24,
   "metadata": {},
   "outputs": [
    {
     "name": "stdout",
     "output_type": "stream",
     "text": [
      "=================================\u001b[1m Tool Message \u001b[0m=================================\n",
      "Name: get_artists_from_playlist\n",
      "\n",
      "{\"01aC2ikO4Xgb2LUpf9JfKp\": \"Gary Clark Jr.\", \"1iEaqWaYpKo9x0OrEq7Q7z\": \"Ayron Jones\", \"0RqtSIYZmd4fiBKVFqyIqD\": \"Thirty Seconds To Mars\", \"7jdFEYD2LTYjfwxOdlVjmc\": \"KALEO\", \"7Ln80lUS6He07XvHI8qqHH\": \"Arctic Monkeys\", \"4pejUc4iciQfgdX6OKulQn\": \"Queens of the Stone Age\", \"0Nrwy16xCPXG8AwkMbcVvo\": \"Black Pistol Fire\", \"1xKrH6GSh9CJh8nYwbqW7B\": \"Welshly Arms\", \"6vYg01ZFt1nREsUDMDPUYX\": \"The Record Company\", \"0bZCak2tcRMY1dzEIuwF42\": \"The Heavy\", \"4NpFxQe2UvRCAjto3JqlSl\": \"Greta Van Fleet\", \"26opZSJcXshCmCwxgZQmBc\": \"Whiskey Myers\", \"3xYXYzm9H3RzyQgBrYwIcx\": \"Colter Wall\", \"13ZEDW6vyBF12HYcZRr4EV\": \"Tyler Childers\", \"4YLtscXsxbVgi031ovDDdh\": \"Chris Stapleton\", \"5VPCIIfZPK8KPsgz4jmOEC\": \"The Blue Stones\", \"1l9I7G8J8AnMScWQwlNJ4M\": \"Goodbye June\", \"12Chz98pHFMPJEknJQMWvI\": \"Muse\", \"5HsS48kuvghKcNpwOaAvB5\": \"Samantha Fish\", \"7mnBLXK823vNxN3UWB7Gfz\": \"The Black Keys\", \"3mVWMgLc7bcyCBtL2ymZwK\": \"The Arcs\", \"2ziB7fzrXBoh1HUPS6sVFn\": \"Audioslave\", \"2gqMBdyddvN82dzZt4ZF14\": \"Yola\", \"2PqsalqLh5RT6FSy9DrGZh\": \"Emily Jane White\", \"26T3LtbuGT1Fu9m0eRq5X3\": \"Cage The Elephant\", \"3jdirYL01245TvAH39GfM6\": \"Jackyl\", \"3TNt4aUIxgfy9aoaft5Jj2\": \"Yeah Yeah Yeahs\", \"2ueoLVCXQ948OfhVvAy3Nn\": \"Perfume Genius\", \"49qiE8dj4JuNdpYGRPdKbF\": \"Stone Sour\", \"6hQS54VPpxunuwR0W7usuo\": \"The Technicolors\", \"66YGDwn22fjphzqGCSIbbK\": \"Reignwolf\", \"6lyMYewq2SuTFIXgiv7OxH\": \"Inhaler\", \"5tFRohaO5yEsuJxmMnlCO9\": \"Barns Courtney\", \"16GcWuvvybAoaHr0NqT8Eh\": \"Alabama Shakes\", \"0qLNsNKm8bQcMoRFkR8Hmh\": \"James\", \"75dQReiBOHN37fQgWQrIAJ\": \"Local Natives\", \"3yEnArbNHyTCwMRvD9SBy4\": \"Wolfmother\", \"4rfE3kN2zKNC9L9tt3iVOg\": \"Ron Gallo\", \"5P1oS9DUTPEqcrmXDmX4p8\": \"Blackberry Smoke\", \"3WyGjUsOZJRiT9re5pZYxL\": \"Broken Witt Rebels\", \"7sMcWECQxLm7EoKdRlSCAn\": \"The Bones of J.R. Jones\", \"4uk9cWBqeiel7tO1w9MPe0\": \"Maggie Bjorklund\", \"4S47feOS2ATuhc7Ao5ilfG\": \"Last Train\", \"14ZxDAK6ITtZZqPdiWrvSn\": \"Everlast\", \"1moxjboGR7GNWYIMWsRjgG\": \"Florence + The Machine\", \"7I3bkknknQkIiatWiupQgD\": \"Beach Weather\", \"2qk9voo8llSGYcZ6xrBzKx\": \"Kings of Leon\", \"6GI52t8N5F02MxU0g5U69P\": \"Santana\", \"1fZpYWNWdL5Z3wrDtISFUH\": \"Shakey Graves\", \"6XyAI3jtlsss5mJjAAJXzE\": \"Grian Chatten\", \"5hPR4Atp3QY2ztiAcz1inl\": \"Morningsiders\", \"5kuJibJcwOC53s3OkoGMRA\": \"The Revivalists\", \"2x9SpqnPi8rlE9pjHBwmSC\": \"Talking Heads\", \"7MhMgCo0Bl0Kukl93PZbYS\": \"Blur\", \"7J2lZBANizgPNfUzux31PV\": \"David Gray\", \"6LufpoVlIYKQCu9Gjpk8B7\": \"Sharon Jones & The Dap-Kings\", \"5rZUNweztKBI1Xy3XhYHoJ\": \"Danielle Ponder\", \"246dkjvS1zLTtiykXe5h60\": \"Post Malone\", \"1zNqQNIdeOUZHb8zbZRFMX\": \"Swae Lee\", \"22bE4uQ6baNwSHPVcDxLCe\": \"The Rolling Stones\", \"1HY2Jd0NmPuamShAr6KMms\": \"Lady Gaga\", \"4xac3zhHlBm5QDxbZeqgeR\": \"Robert Randolph & The Family Band\", \"3lDpdwM8KILepMHqBWUhIA\": \"The Struts\", \"3EaMbsBlExxNxLvTJcZvDq\": \"July Talk\", \"0XHiH53dHrvbwfjYM7en7I\": \"Chris Cornell\", \"6cSxzHrQgGc4I4Ck5Gewej\": \"Sons Of The East\", \"69tiO1fG8VWduDl3ji2qhI\": \"Mt. Joy\", \"251UrhgNbMr15NLzQ2KyKq\": \"Rayland Baxter\", \"1QAJqy2dA3ihHBFIHRphZj\": \"Cigarettes After Sex\", \"2FXC3k01G6Gw61bmprjgqS\": \"Hozier\", \"7jy3rLJdDQY21OgRLCZ9sD\": \"Foo Fighters\", \"6VDdCwrBM4qQaGxoAyxyJC\": \"Cold War Kids\", \"3kjuyTCjPG1WMFCiyc5IuB\": \"Arcade Fire\", \"49zZ2lRNpfwWfUnASUxCYW\": \"Uncle Lucius\", \"4F84IBURUo98rz4r61KF70\": \"The White Stripes\", \"1Xyo4u8uXC1ZmMpatF05PJ\": \"The Weeknd\", \"29mRqqZ15WaYjEsKNzcRkv\": \"Robert Finley\", \"3hv9jJF3adDNsBSIQDqcjp\": \"Mark Ronson\", \"6Q192DXotxtaysaqNPy5yR\": \"Amy Winehouse\", \"6YWdHD3R863Apw1hkx3BwC\": \"Dan Auerbach\", \"66jsWaGhzSpHH1KRF34Oq3\": \"Jonah Tolchin\", \"6D6rjLdxyE5vwhMlkuQq0E\": \"Chaos Chaos\", \"1CcPlAmcnJjC4FnaPVzv2v\": \"I Monster\", \"6eU0jV2eEZ8XTM7EmlguK6\": \"Black Pumas\", \"356c8AN5YWKvz86B4Sb1yf\": \"Rival Sons\", \"33qOK5uJ8AR2xuQQAhHump\": \"Teddy Swims\", \"3JulrApLVT81sb2HkfwMks\": \"John Martyn\", \"3Z7thZHrtFvqp8OpPffPKp\": \"Propellerheads\", \"090VebphoycdEyH165iMqc\": \"Shirley Bassey\", \"1UfzhwcOR4yfX7yHTPfC9m\": \"Joywave\", \"0MASTEXfUt3bpiyGOoEaur\": \"Parker Millsap\"}\n"
     ]
    }
   ],
   "source": [
    "tool_response = tool_node.invoke({\"messages\": messages})\n",
    "tool_message: ToolMessage = tool_response[\"messages\"][0]\n",
    "tool_message.pretty_print()"
   ]
  },
  {
   "cell_type": "code",
   "execution_count": null,
   "metadata": {},
   "outputs": [],
   "source": [
    "# json.loads(track_list_tool_message.content)"
   ]
  },
  {
   "cell_type": "markdown",
   "metadata": {},
   "source": [
    "# Add Tool Response to Messages"
   ]
  },
  {
   "cell_type": "code",
   "execution_count": 25,
   "metadata": {},
   "outputs": [
    {
     "data": {
      "text/plain": [
       "[SystemMessage(content=\"\\n    You are an AI language assistant designed to execute tasks with precision and attention to detail. Your primary objective is to follow the user's instructions thoroughly and exactly as specified, leaving no detail unaddressed.\\n\\n    Guidelines:\\n\\n    - **Carefully Read Instructions:** Before starting any task, read all user instructions thoroughly to ensure complete understanding.\\n\\n    - **Create a Detailed Plan:** Develop a step-by-step plan that addresses every aspect of the user's requirements. Validate this plan before execution.\\n\\n    - **Utilize Advanced Planning Structures:** Do not limit yourself to linear or sequential plans. Employ loops for repetitive tasks, branches for conditional logic, and other programming constructs to handle complex tasks and decision-making processes.\\n\\n    - **Follow Instructions Precisely:** Execute each step exactly as described, without omitting or altering any part of the instructions.\\n\\n    - **Be Thorough:** Ensure that all elements of the task are completed fully. If the task involves processing multiple items (e.g., a list of items), process each item individually, even if it requires multiple iterations or tool calls.\\n\\n    - **Handle Limitations Proactively:** If you encounter any limitations (such as processing limits), implement solutions like batching or looping to ensure all items are processed.\\n\\n    - **Provide Clear Updates:** In your responses, clearly state which step you are working on and provide updates on your progress, ensuring transparency.\\n\\n    - **Do Not Assume or Simplify:** Avoid making assumptions or simplifying tasks unless explicitly instructed by the user.\\n\\n    - **Maintain Professionalism:** Keep your language professional and focused, aiming to deliver exactly what the user has requested.\\n\\n    Your goal is to execute tasks with high accuracy and completeness, ensuring that the user's needs are fully met.\\n    \", additional_kwargs={}, response_metadata={}),\n",
       " HumanMessage(content=\"\\n    Create, validate, and execute a step-by-step plan with atomic tasks to solve the following problem:\\n\\n    **Objective:** Build a Spotify playlist with tracks that have the same vibe and genres as the playlist named 'New Rock and Blues', following the rules below.\\n\\n    **Rules:**\\n\\n    1. **For each artist in the 'New Rock and Blues' playlist, find 3-4 artists of a similar music style.** *Ensure that you process all artists, even if it requires multiple iterations or tool calls due to API limitations.*\\n\\n    2. **Remove from the new artist list those that are already present in the 'New Rock and Blues' Playlist.**\\n\\n    3. **Focus on Post-2010 Success:** Only include tracks from artists who achieved success after the year 2010.\\n\\n    4. **Minimum Number of New Artists:** Include tracks from at least 40 different artists not present in the 'New Rock and Blues' playlist.\\n\\n    5. **Recommend 3+ tracks for each new artist.**\\n\\n    6. **Arrange for Smooth Listening Experience:** Organize the tracks to create a smooth listening experience, considering tempo, energy, and mood, using best practices.\\n\\n    7. **Playlist Length:** Ensure the new playlist contains at least 100 tracks.\\n\\n    **Instructions:**\\n\\n    - You must validate the plan before starting to work on it.\\n    - Do not ask for user confirmation.\\n    \", additional_kwargs={}, response_metadata={}),\n",
       " AIMessage(content='', additional_kwargs={'tool_calls': [{'id': 'call_8Expmq22UFTWlgBZfqJ0YKct', 'function': {'arguments': '{\"plan\":{\"steps\":[{\"step_number\":1,\"name\":\"retrieve-original-playlist-artists\",\"type\":\"action\",\"description\":\"Get a list of unique artists from the \\'New Rock and Blues\\' playlist.\",\"success_criteria\":\"Successfully retrieve a list of artists from the specified playlist.\",\"tool\":\"functions.get_artists_from_playlist\",\"action\":\"Call the function to retrieve artists from \\'New Rock and Blues\\' playlist.\",\"condition\":null,\"substeps\":null},{\"step_number\":2,\"name\":\"find-similar-artists\",\"type\":\"loop\",\"description\":\"For each artist in the retrieved list, find 3-4 similar artists.\",\"success_criteria\":\"Identify at least 3 similar artists for each artist in the original list.\",\"tool\":\"functions.find_similar_artists\",\"action\":null,\"condition\":\"For each artist in the original list, execute the sub-steps.\",\"substeps\":[{\"step_number\":1,\"name\":\"get-similar-artists\",\"type\":\"action\",\"description\":\"Find similar artists for a given artist.\",\"success_criteria\":\"Successfully find similar artists.\",\"tool\":\"functions.find_similar_artists\",\"action\":\"Call the function with the artist ID to find similar artists.\",\"condition\":null}]},{\"step_number\":3,\"name\":\"filter-existing-artists\",\"type\":\"action\",\"description\":\"Filter out artists from the new similar artists list that are already present in the \\'New Rock and Blues\\' playlist.\",\"success_criteria\":\"Remove all existing artists from the list of similar artists.\",\"tool\":\"functions.filter_artists\",\"action\":\"Use the filter function to remove existing artists from the new list.\",\"condition\":null,\"substeps\":null},{\"step_number\":4,\"name\":\"select-post-2010-artists\",\"type\":\"action\",\"description\":\"Select artists from the filtered list who have achieved success post-2010.\",\"success_criteria\":\"A list of artists who achieved success after 2010.\",\"tool\":null,\"action\":\"Use available data or APIs to filter artists based on their successful debut.\",\"condition\":null,\"substeps\":null},{\"step_number\":5,\"name\":\"ensure-minimum-new-artists\",\"type\":\"branch\",\"description\":\"Check if the list of new artists contains at least 40 unique artists. If not, repeat earlier steps with different variations.\",\"success_criteria\":\"The list contains at least 40 unique new artists.\",\"tool\":null,\"action\":null,\"condition\":\"If the number of new artists is less than 40, iterate to find more artists.\",\"substeps\":[{\"step_number\":1,\"name\":\"repeat-similar-artist-search\",\"type\":\"action\",\"description\":\"Repeat the similar artist search with different parameters or retry failed attempts.\",\"success_criteria\":\"A list of sufficient new artists.\",\"tool\":null,\"action\":\"Adjust the approach to expand the artist pool as needed.\",\"condition\":null}]},{\"step_number\":6,\"name\":\"retrieve-top-tracks\",\"type\":\"action\",\"description\":\"For each new artist, find and recommend 3 top tracks.\",\"success_criteria\":\"List of 3 top tracks for each new artist.\",\"tool\":\"functions.find_top_tracks\",\"action\":\"Use the find_top_tracks function for each artist.\",\"condition\":null,\"substeps\":null},{\"step_number\":7,\"name\":\"arrange-tracks\",\"type\":\"action\",\"description\":\"Arrange tracks based on tempo, energy, and mood to ensure smooth listening.\",\"success_criteria\":\"A smoothly arranged list of tracks.\",\"tool\":null,\"action\":\"Use best practices and available data to arrange the order of tracks.\",\"condition\":null,\"substeps\":null},{\"step_number\":8,\"name\":\"create-new-playlist\",\"type\":\"action\",\"description\":\"Create a new Spotify playlist with the name and description.\",\"success_criteria\":\"Successful creation of a new Spotify playlist.\",\"tool\":\"functions.create_spotify_playlist\",\"action\":\"Call the function to create a new playlist named \\'Post-2010 Rock and Blues Vibes\\'.\",\"condition\":null,\"substeps\":null},{\"step_number\":9,\"name\":\"add-tracks-to-playlist\",\"type\":\"action\",\"description\":\"Add the arranged tracks to the newly created playlist.\",\"success_criteria\":\"All tracks successfully added to the playlist.\",\"tool\":\"functions.add_tracks_to_playlist\",\"action\":\"Use the add_tracks_to_playlist function to populate the new playlist with tracks.\",\"condition\":null,\"substeps\":null}],\"Reasoning\":\"To create a playlist that matches the vibe and genre of the \\'New Rock and Blues\\' playlist, we must first understand the artist pool and find similar artists maintaining freshness. The goal is to create a diverse playlist with contemporary influences, ensuring each aspect from artist selection to track arrangement aligns with the requirements. The structured plan ensures all steps are covered, dependencies handled, and objectives achieved efficiently.\"}}', 'name': 'validate_plan'}, 'type': 'function'}], 'refusal': None}, response_metadata={'token_usage': {'completion_tokens': 966, 'prompt_tokens': 1902, 'total_tokens': 2868, 'completion_tokens_details': {'accepted_prediction_tokens': 0, 'audio_tokens': 0, 'reasoning_tokens': 0, 'rejected_prediction_tokens': 0}, 'prompt_tokens_details': {'audio_tokens': 0, 'cached_tokens': 1152}}, 'model_name': 'gpt-4o-2024-08-06', 'system_fingerprint': 'fp_45cf54deae', 'finish_reason': 'tool_calls', 'logprobs': None}, id='run-859af6e9-fefd-4d02-a578-9d1e6648c34b-0', tool_calls=[{'name': 'validate_plan', 'args': {'plan': {'steps': [{'step_number': 1, 'name': 'retrieve-original-playlist-artists', 'type': 'action', 'description': \"Get a list of unique artists from the 'New Rock and Blues' playlist.\", 'success_criteria': 'Successfully retrieve a list of artists from the specified playlist.', 'tool': 'functions.get_artists_from_playlist', 'action': \"Call the function to retrieve artists from 'New Rock and Blues' playlist.\", 'condition': None, 'substeps': None}, {'step_number': 2, 'name': 'find-similar-artists', 'type': 'loop', 'description': 'For each artist in the retrieved list, find 3-4 similar artists.', 'success_criteria': 'Identify at least 3 similar artists for each artist in the original list.', 'tool': 'functions.find_similar_artists', 'action': None, 'condition': 'For each artist in the original list, execute the sub-steps.', 'substeps': [{'step_number': 1, 'name': 'get-similar-artists', 'type': 'action', 'description': 'Find similar artists for a given artist.', 'success_criteria': 'Successfully find similar artists.', 'tool': 'functions.find_similar_artists', 'action': 'Call the function with the artist ID to find similar artists.', 'condition': None}]}, {'step_number': 3, 'name': 'filter-existing-artists', 'type': 'action', 'description': \"Filter out artists from the new similar artists list that are already present in the 'New Rock and Blues' playlist.\", 'success_criteria': 'Remove all existing artists from the list of similar artists.', 'tool': 'functions.filter_artists', 'action': 'Use the filter function to remove existing artists from the new list.', 'condition': None, 'substeps': None}, {'step_number': 4, 'name': 'select-post-2010-artists', 'type': 'action', 'description': 'Select artists from the filtered list who have achieved success post-2010.', 'success_criteria': 'A list of artists who achieved success after 2010.', 'tool': None, 'action': 'Use available data or APIs to filter artists based on their successful debut.', 'condition': None, 'substeps': None}, {'step_number': 5, 'name': 'ensure-minimum-new-artists', 'type': 'branch', 'description': 'Check if the list of new artists contains at least 40 unique artists. If not, repeat earlier steps with different variations.', 'success_criteria': 'The list contains at least 40 unique new artists.', 'tool': None, 'action': None, 'condition': 'If the number of new artists is less than 40, iterate to find more artists.', 'substeps': [{'step_number': 1, 'name': 'repeat-similar-artist-search', 'type': 'action', 'description': 'Repeat the similar artist search with different parameters or retry failed attempts.', 'success_criteria': 'A list of sufficient new artists.', 'tool': None, 'action': 'Adjust the approach to expand the artist pool as needed.', 'condition': None}]}, {'step_number': 6, 'name': 'retrieve-top-tracks', 'type': 'action', 'description': 'For each new artist, find and recommend 3 top tracks.', 'success_criteria': 'List of 3 top tracks for each new artist.', 'tool': 'functions.find_top_tracks', 'action': 'Use the find_top_tracks function for each artist.', 'condition': None, 'substeps': None}, {'step_number': 7, 'name': 'arrange-tracks', 'type': 'action', 'description': 'Arrange tracks based on tempo, energy, and mood to ensure smooth listening.', 'success_criteria': 'A smoothly arranged list of tracks.', 'tool': None, 'action': 'Use best practices and available data to arrange the order of tracks.', 'condition': None, 'substeps': None}, {'step_number': 8, 'name': 'create-new-playlist', 'type': 'action', 'description': 'Create a new Spotify playlist with the name and description.', 'success_criteria': 'Successful creation of a new Spotify playlist.', 'tool': 'functions.create_spotify_playlist', 'action': \"Call the function to create a new playlist named 'Post-2010 Rock and Blues Vibes'.\", 'condition': None, 'substeps': None}, {'step_number': 9, 'name': 'add-tracks-to-playlist', 'type': 'action', 'description': 'Add the arranged tracks to the newly created playlist.', 'success_criteria': 'All tracks successfully added to the playlist.', 'tool': 'functions.add_tracks_to_playlist', 'action': 'Use the add_tracks_to_playlist function to populate the new playlist with tracks.', 'condition': None, 'substeps': None}], 'Reasoning': \"To create a playlist that matches the vibe and genre of the 'New Rock and Blues' playlist, we must first understand the artist pool and find similar artists maintaining freshness. The goal is to create a diverse playlist with contemporary influences, ensuring each aspect from artist selection to track arrangement aligns with the requirements. The structured plan ensures all steps are covered, dependencies handled, and objectives achieved efficiently.\"}}, 'id': 'call_8Expmq22UFTWlgBZfqJ0YKct', 'type': 'tool_call'}], usage_metadata={'input_tokens': 1902, 'output_tokens': 966, 'total_tokens': 2868, 'input_token_details': {'audio': 0, 'cache_read': 1152}, 'output_token_details': {'audio': 0, 'reasoning': 0}}),\n",
       " ToolMessage(content='true', name='validate_plan', tool_call_id='call_8Expmq22UFTWlgBZfqJ0YKct'),\n",
       " AIMessage(content='', additional_kwargs={'tool_calls': [{'id': 'call_8QiYNgN1pL5bmd5e0l9tTrXs', 'function': {'arguments': '{}', 'name': 'get_playlists'}, 'type': 'function'}], 'refusal': None}, response_metadata={'token_usage': {'completion_tokens': 11, 'prompt_tokens': 2877, 'total_tokens': 2888, 'completion_tokens_details': {'accepted_prediction_tokens': 0, 'audio_tokens': 0, 'reasoning_tokens': 0, 'rejected_prediction_tokens': 0}, 'prompt_tokens_details': {'audio_tokens': 0, 'cached_tokens': 2816}}, 'model_name': 'gpt-4o-2024-08-06', 'system_fingerprint': 'fp_45cf54deae', 'finish_reason': 'tool_calls', 'logprobs': None}, id='run-cd37a829-3600-44c9-9d82-13c1ccd0e22d-0', tool_calls=[{'name': 'get_playlists', 'args': {}, 'id': 'call_8QiYNgN1pL5bmd5e0l9tTrXs', 'type': 'tool_call'}], usage_metadata={'input_tokens': 2877, 'output_tokens': 11, 'total_tokens': 2888, 'input_token_details': {'audio': 0, 'cache_read': 2816}, 'output_token_details': {'audio': 0, 'reasoning': 0}}),\n",
       " ToolMessage(content='[{\"id\": \"2dbYK5b7J0F7IdH5n1TEUK\", \"name\": \"RPreacher\"}, {\"id\": \"4ack9YtUhdxRayJDAqlfQe\", \"name\": \"RP Bossa Nova Chill \"}, {\"id\": \"75NW18NgdZuZeifrcjxKlZ\", \"name\": \"GVF\"}, {\"id\": \"5iyONtUO21O88xw8pBblwh\", \"name\": \"Now And Then\"}, {\"id\": \"4SDSUMg2HJcGFmHlupsU7U\", \"name\": \"Jazz classics\"}, {\"id\": \"5fBxLG2wLAPVpx83402rHl\", \"name\": \"Acdc\"}, {\"id\": \"17Yxm5hQbkbZwDcCTuiDXC\", \"name\": \"einaudi\"}, {\"id\": \"2X6GccWfIqPWO6VYx405nO\", \"name\": \"Eric Clapton Blues\"}, {\"id\": \"3smVXe8y8w8nt4lFH0HBkW\", \"name\": \"Alchemy: Dire Straits\"}, {\"id\": \"2ifRZBXnX7UmIPUlGet5WZ\", \"name\": \"Blues\"}, {\"id\": \"5nn2ePtd9gYEEDL3XnACCB\", \"name\": \"brazil\"}, {\"id\": \"6YAntoKNXuogPKdV26b6XE\", \"name\": \"CCR\"}, {\"id\": \"2VHkZvOMCkLF3B7TsKerKD\", \"name\": \"Chill\"}, {\"id\": \"508lbLx9XUkHv5Xb45hxTP\", \"name\": \"Classic Rock\"}, {\"id\": \"7zzDMq1sPwkZPYeqOQJ9qS\", \"name\": \"The New Four Seasons - Vivaldi Recomposed\"}, {\"id\": \"4l8WcaYlPkuVPXVGxMIca3\", \"name\": \"New Study\"}, {\"id\": \"0Wr2Z9vroQ9IXKaokFHldt\", \"name\": \"Islands - Essential Einaudi (Deluxe Version)\"}, {\"id\": \"780Yx65yiaLtBYM76neBYC\", \"name\": \"Gioachino Rossini – Rossini: Overtures\"}, {\"id\": \"76rUGmzqh1OhyheEOUDYNp\", \"name\": \"Frédéric Chopin – Chopin: Nocturnes\"}, {\"id\": \"5qcHJodVJd8AEOT2cCvxEm\", \"name\": \"Frédéric Chopin – Chopin: Nocturnes - Sony Classical Originals 2\"}, {\"id\": \"7hr9yYAJLXDoJ5sKBhm8Af\", \"name\": \"Antonio Vivaldi – Vivaldi: Guitar Concertos\"}, {\"id\": \"4ruyjAXs6VHU8ZYJqXsUiN\", \"name\": \"Sergei Rachmaninoff – Rachmaninoff Plays Rachmaninoff: Concertos Nos. 2 and 3\"}, {\"id\": \"4GYOeGfC7fSephEi3UYh0W\", \"name\": \"Erik Satie – Satie: Gymnopédies, Gnossiennes & Other Works\"}, {\"id\": \"2lop6NfhiYA07UzhWUCyc2\", \"name\": \"Classical Masters\"}, {\"id\": \"2RUN05cfOlR09kJUvTAEPk\", \"name\": \"Evil Woman\"}, {\"id\": \"3DEKSWlDt8Qors1NpYLXwt\", \"name\": \"Hits 2000\"}, {\"id\": \"7FgZOBK0lhTZz7gMJeV7gs\", \"name\": \"Insomniac\"}, {\"id\": \"6DgcAL9oygPekQLDY2mFDq\", \"name\": \"Jean-Michel Jarre – Equinoxe\"}, {\"id\": \"6X1fib1966dU31uZdTH5p1\", \"name\": \"Misplaced Childhood (2017 Remaster)\"}, {\"id\": \"5mxEevqyJ7IbtnmxlRSlaL\", \"name\": \"My Playlist #36\"}, {\"id\": \"01tk0aitEuGK0ajWCkzdKc\", \"name\": \"New Rock and Blues\"}, {\"id\": \"5Culgc9kaBQ5b9oOHXXhB6\", \"name\": \"Nothing But the Blues (Live)\"}, {\"id\": \"5qYPd1AvydE1Ltz5uGCVVG\", \"name\": \"Pet Shop Boys\"}, {\"id\": \"43ekrNptzLLkRVGuZWUI83\", \"name\": \"Pink Floyd\"}, {\"id\": \"25odQP99Tc8QbNs8dWWsQV\", \"name\": \"Pink Floyd – The Wall\"}, {\"id\": \"6smB0SEs5sX0FOzA4h22Eq\", \"name\": \"Rock\"}, {\"id\": \"5q5ZVp6frFMc8y0ivNfGk2\", \"name\": \"Rock Balads\"}, {\"id\": \"4Vk5tgx9FcO17ZhdFwxJIp\", \"name\": \"Rock Hard\"}, {\"id\": \"3n3RLXoDDH7O9XpusnnnvV\", \"name\": \"Rolling Stones\"}, {\"id\": \"5XdXmStK6X9ZPstLvDBekC\", \"name\": \"Workout\"}]', name='get_playlists', tool_call_id='call_8QiYNgN1pL5bmd5e0l9tTrXs'),\n",
       " AIMessage(content='', additional_kwargs={'tool_calls': [{'id': 'call_UxVc0RrZuP2cEkNAHdFgNqa4', 'function': {'arguments': '{\"playlist_id\":\"01tk0aitEuGK0ajWCkzdKc\"}', 'name': 'get_artists_from_playlist'}, 'type': 'function'}], 'refusal': None}, response_metadata={'token_usage': {'completion_tokens': 30, 'prompt_tokens': 4132, 'total_tokens': 4162, 'completion_tokens_details': {'accepted_prediction_tokens': 0, 'audio_tokens': 0, 'reasoning_tokens': 0, 'rejected_prediction_tokens': 0}, 'prompt_tokens_details': {'audio_tokens': 0, 'cached_tokens': 2816}}, 'model_name': 'gpt-4o-2024-08-06', 'system_fingerprint': 'fp_45cf54deae', 'finish_reason': 'tool_calls', 'logprobs': None}, id='run-17d20b07-ed0e-4466-9c15-24c1a580ef16-0', tool_calls=[{'name': 'get_artists_from_playlist', 'args': {'playlist_id': '01tk0aitEuGK0ajWCkzdKc'}, 'id': 'call_UxVc0RrZuP2cEkNAHdFgNqa4', 'type': 'tool_call'}], usage_metadata={'input_tokens': 4132, 'output_tokens': 30, 'total_tokens': 4162, 'input_token_details': {'audio': 0, 'cache_read': 2816}, 'output_token_details': {'audio': 0, 'reasoning': 0}}),\n",
       " ToolMessage(content='{\"01aC2ikO4Xgb2LUpf9JfKp\": \"Gary Clark Jr.\", \"1iEaqWaYpKo9x0OrEq7Q7z\": \"Ayron Jones\", \"0RqtSIYZmd4fiBKVFqyIqD\": \"Thirty Seconds To Mars\", \"7jdFEYD2LTYjfwxOdlVjmc\": \"KALEO\", \"7Ln80lUS6He07XvHI8qqHH\": \"Arctic Monkeys\", \"4pejUc4iciQfgdX6OKulQn\": \"Queens of the Stone Age\", \"0Nrwy16xCPXG8AwkMbcVvo\": \"Black Pistol Fire\", \"1xKrH6GSh9CJh8nYwbqW7B\": \"Welshly Arms\", \"6vYg01ZFt1nREsUDMDPUYX\": \"The Record Company\", \"0bZCak2tcRMY1dzEIuwF42\": \"The Heavy\", \"4NpFxQe2UvRCAjto3JqlSl\": \"Greta Van Fleet\", \"26opZSJcXshCmCwxgZQmBc\": \"Whiskey Myers\", \"3xYXYzm9H3RzyQgBrYwIcx\": \"Colter Wall\", \"13ZEDW6vyBF12HYcZRr4EV\": \"Tyler Childers\", \"4YLtscXsxbVgi031ovDDdh\": \"Chris Stapleton\", \"5VPCIIfZPK8KPsgz4jmOEC\": \"The Blue Stones\", \"1l9I7G8J8AnMScWQwlNJ4M\": \"Goodbye June\", \"12Chz98pHFMPJEknJQMWvI\": \"Muse\", \"5HsS48kuvghKcNpwOaAvB5\": \"Samantha Fish\", \"7mnBLXK823vNxN3UWB7Gfz\": \"The Black Keys\", \"3mVWMgLc7bcyCBtL2ymZwK\": \"The Arcs\", \"2ziB7fzrXBoh1HUPS6sVFn\": \"Audioslave\", \"2gqMBdyddvN82dzZt4ZF14\": \"Yola\", \"2PqsalqLh5RT6FSy9DrGZh\": \"Emily Jane White\", \"26T3LtbuGT1Fu9m0eRq5X3\": \"Cage The Elephant\", \"3jdirYL01245TvAH39GfM6\": \"Jackyl\", \"3TNt4aUIxgfy9aoaft5Jj2\": \"Yeah Yeah Yeahs\", \"2ueoLVCXQ948OfhVvAy3Nn\": \"Perfume Genius\", \"49qiE8dj4JuNdpYGRPdKbF\": \"Stone Sour\", \"6hQS54VPpxunuwR0W7usuo\": \"The Technicolors\", \"66YGDwn22fjphzqGCSIbbK\": \"Reignwolf\", \"6lyMYewq2SuTFIXgiv7OxH\": \"Inhaler\", \"5tFRohaO5yEsuJxmMnlCO9\": \"Barns Courtney\", \"16GcWuvvybAoaHr0NqT8Eh\": \"Alabama Shakes\", \"0qLNsNKm8bQcMoRFkR8Hmh\": \"James\", \"75dQReiBOHN37fQgWQrIAJ\": \"Local Natives\", \"3yEnArbNHyTCwMRvD9SBy4\": \"Wolfmother\", \"4rfE3kN2zKNC9L9tt3iVOg\": \"Ron Gallo\", \"5P1oS9DUTPEqcrmXDmX4p8\": \"Blackberry Smoke\", \"3WyGjUsOZJRiT9re5pZYxL\": \"Broken Witt Rebels\", \"7sMcWECQxLm7EoKdRlSCAn\": \"The Bones of J.R. Jones\", \"4uk9cWBqeiel7tO1w9MPe0\": \"Maggie Bjorklund\", \"4S47feOS2ATuhc7Ao5ilfG\": \"Last Train\", \"14ZxDAK6ITtZZqPdiWrvSn\": \"Everlast\", \"1moxjboGR7GNWYIMWsRjgG\": \"Florence + The Machine\", \"7I3bkknknQkIiatWiupQgD\": \"Beach Weather\", \"2qk9voo8llSGYcZ6xrBzKx\": \"Kings of Leon\", \"6GI52t8N5F02MxU0g5U69P\": \"Santana\", \"1fZpYWNWdL5Z3wrDtISFUH\": \"Shakey Graves\", \"6XyAI3jtlsss5mJjAAJXzE\": \"Grian Chatten\", \"5hPR4Atp3QY2ztiAcz1inl\": \"Morningsiders\", \"5kuJibJcwOC53s3OkoGMRA\": \"The Revivalists\", \"2x9SpqnPi8rlE9pjHBwmSC\": \"Talking Heads\", \"7MhMgCo0Bl0Kukl93PZbYS\": \"Blur\", \"7J2lZBANizgPNfUzux31PV\": \"David Gray\", \"6LufpoVlIYKQCu9Gjpk8B7\": \"Sharon Jones & The Dap-Kings\", \"5rZUNweztKBI1Xy3XhYHoJ\": \"Danielle Ponder\", \"246dkjvS1zLTtiykXe5h60\": \"Post Malone\", \"1zNqQNIdeOUZHb8zbZRFMX\": \"Swae Lee\", \"22bE4uQ6baNwSHPVcDxLCe\": \"The Rolling Stones\", \"1HY2Jd0NmPuamShAr6KMms\": \"Lady Gaga\", \"4xac3zhHlBm5QDxbZeqgeR\": \"Robert Randolph & The Family Band\", \"3lDpdwM8KILepMHqBWUhIA\": \"The Struts\", \"3EaMbsBlExxNxLvTJcZvDq\": \"July Talk\", \"0XHiH53dHrvbwfjYM7en7I\": \"Chris Cornell\", \"6cSxzHrQgGc4I4Ck5Gewej\": \"Sons Of The East\", \"69tiO1fG8VWduDl3ji2qhI\": \"Mt. Joy\", \"251UrhgNbMr15NLzQ2KyKq\": \"Rayland Baxter\", \"1QAJqy2dA3ihHBFIHRphZj\": \"Cigarettes After Sex\", \"2FXC3k01G6Gw61bmprjgqS\": \"Hozier\", \"7jy3rLJdDQY21OgRLCZ9sD\": \"Foo Fighters\", \"6VDdCwrBM4qQaGxoAyxyJC\": \"Cold War Kids\", \"3kjuyTCjPG1WMFCiyc5IuB\": \"Arcade Fire\", \"49zZ2lRNpfwWfUnASUxCYW\": \"Uncle Lucius\", \"4F84IBURUo98rz4r61KF70\": \"The White Stripes\", \"1Xyo4u8uXC1ZmMpatF05PJ\": \"The Weeknd\", \"29mRqqZ15WaYjEsKNzcRkv\": \"Robert Finley\", \"3hv9jJF3adDNsBSIQDqcjp\": \"Mark Ronson\", \"6Q192DXotxtaysaqNPy5yR\": \"Amy Winehouse\", \"6YWdHD3R863Apw1hkx3BwC\": \"Dan Auerbach\", \"66jsWaGhzSpHH1KRF34Oq3\": \"Jonah Tolchin\", \"6D6rjLdxyE5vwhMlkuQq0E\": \"Chaos Chaos\", \"1CcPlAmcnJjC4FnaPVzv2v\": \"I Monster\", \"6eU0jV2eEZ8XTM7EmlguK6\": \"Black Pumas\", \"356c8AN5YWKvz86B4Sb1yf\": \"Rival Sons\", \"33qOK5uJ8AR2xuQQAhHump\": \"Teddy Swims\", \"3JulrApLVT81sb2HkfwMks\": \"John Martyn\", \"3Z7thZHrtFvqp8OpPffPKp\": \"Propellerheads\", \"090VebphoycdEyH165iMqc\": \"Shirley Bassey\", \"1UfzhwcOR4yfX7yHTPfC9m\": \"Joywave\", \"0MASTEXfUt3bpiyGOoEaur\": \"Parker Millsap\"}', name='get_artists_from_playlist', tool_call_id='call_UxVc0RrZuP2cEkNAHdFgNqa4')]"
      ]
     },
     "execution_count": 25,
     "metadata": {},
     "output_type": "execute_result"
    }
   ],
   "source": [
    "chat_prompt_template += tool_message\n",
    "messages = chat_prompt_template.format_messages()\n",
    "messages"
   ]
  },
  {
   "cell_type": "markdown",
   "metadata": {},
   "source": [
    "# Send Tool Result to LLM"
   ]
  },
  {
   "cell_type": "code",
   "execution_count": 26,
   "metadata": {},
   "outputs": [
    {
     "name": "stderr",
     "output_type": "stream",
     "text": [
      "2024-11-14 22:09:26,450 - INFO - HTTP Request: POST https://api.openai.com/v1/chat/completions \"HTTP/1.1 200 OK\"\n"
     ]
    },
    {
     "name": "stdout",
     "output_type": "stream",
     "text": [
      "==================================\u001b[1m Ai Message \u001b[0m==================================\n",
      "Tool Calls:\n",
      "  find_similar_artists (call_rS3hAJ5o6nnjMMVlcMS7ir7N)\n",
      " Call ID: call_rS3hAJ5o6nnjMMVlcMS7ir7N\n",
      "  Args:\n",
      "    artists: ['01aC2ikO4Xgb2LUpf9JfKp', '1iEaqWaYpKo9x0OrEq7Q7z', '0RqtSIYZmd4fiBKVFqyIqD', '7jdFEYD2LTYjfwxOdlVjmc', '7Ln80lUS6He07XvHI8qqHH', '4pejUc4iciQfgdX6OKulQn', '0Nrwy16xCPXG8AwkMbcVvo', '1xKrH6GSh9CJh8nYwbqW7B', '6vYg01ZFt1nREsUDMDPUYX', '0bZCak2tcRMY1dzEIuwF42']\n",
      "  find_similar_artists (call_MaeruKdWgKnOZwaLSfPjb7WM)\n",
      " Call ID: call_MaeruKdWgKnOZwaLSfPjb7WM\n",
      "  Args:\n",
      "    artists: ['4NpFxQe2UvRCAjto3JqlSl', '26opZSJcXshCmCwxgZQmBc', '3xYXYzm9H3RzyQgBrYwIcx', '13ZEDW6vyBF12HYcZRr4EV', '4YLtscXsxbVgi031ovDDdh', '5VPCIIfZPK8KPsgz4jmOEC', '1l9I7G8J8AnMScWQwlNJ4M', '12Chz98pHFMPJEknJQMWvI', '5HsS48kuvghKcNpwOaAvB5', '7mnBLXK823vNxN3UWB7Gfz']\n",
      "  find_similar_artists (call_batK6msAcMbXsLGvElrcqJgq)\n",
      " Call ID: call_batK6msAcMbXsLGvElrcqJgq\n",
      "  Args:\n",
      "    artists: ['3mVWMgLc7bcyCBtL2ymZwK', '2ziB7fzrXBoh1HUPS6sVFn', '2gqMBdyddvN82dzZt4ZF14', '2PqsalqLh5RT6FSy9DrGZh', '26T3LtbuGT1Fu9m0eRq5X3', '3jdirYL01245TvAH39GfM6', '3TNt4aUIxgfy9aoaft5Jj2', '2ueoLVCXQ948OfhVvAy3Nn', '49qiE8dj4JuNdpYGRPdKbF', '6hQS54VPpxunuwR0W7usuo']\n",
      "  find_similar_artists (call_vKX74qjwWZdIE4VBtK08Tmy8)\n",
      " Call ID: call_vKX74qjwWZdIE4VBtK08Tmy8\n",
      "  Args:\n",
      "    artists: ['66YGDwn22fjphzqGCSIbbK', '6lyMYewq2SuTFIXgiv7OxH', '5tFRohaO5yEsuJxmMnlCO9', '16GcWuvvybAoaHr0NqT8Eh', '0qLNsNKm8bQcMoRFkR8Hmh', '75dQReiBOHN37fQgWQrIAJ', '3yEnArbNHyTCwMRvD9SBy4', '3WyGjUsOZJRiT9re5pZYxL', '7sMcWECQxLm7EoKdRlSCAn', '4uk9cWBqeiel7tO1w9MPe0']\n",
      "  find_similar_artists (call_xRQDvFID13XMDf1EoyTTCHOY)\n",
      " Call ID: call_xRQDvFID13XMDf1EoyTTCHOY\n",
      "  Args:\n",
      "    artists: ['4S47feOS2ATuhc7Ao5ilfG', '14ZxDAK6ITtZZqPdiWrvSn', '1moxjboGR7GNWYIMWsRjgG', '7I3bkknknQkIiatWiupQgD', '2qk9voo8llSGYcZ6xrBzKx', '6GI52t8N5F02MxU0g5U69P', '1fZpYWNWdL5Z3wrDtISFUH', '6XyAI3jtlsss5mJjAAJXzE', '5hPR4Atp3QY2ztiAcz1inl', '5kuJibJcwOC53s3OkoGMRA']\n",
      "  find_similar_artists (call_gKc709Rcc3GhNwuQSqqacV81)\n",
      " Call ID: call_gKc709Rcc3GhNwuQSqqacV81\n",
      "  Args:\n",
      "    artists: ['2x9SpqnPi8rlE9pjHBwmSC', '7MhMgCo0Bl0Kukl93PZbYS', '7J2lZBANizgPNfUzux31PV', '6LufpoVlIYKQCu9Gjpk8B7', '5rZUNweztKBI1Xy3XhYHoJ', '246dkjvS1zLTtiykXe5h60', '1zNqQNIdeOUZHb8zbZRFMX', '22bE4uQ6baNwSHPVcDxLCe', '1HY2Jd0NmPuamShAr6KMms', '4xac3zhHlBm5QDxbZeqgeR']\n",
      "  find_similar_artists (call_19jpRbSWcWh0xr7heo98JVY3)\n",
      " Call ID: call_19jpRbSWcWh0xr7heo98JVY3\n",
      "  Args:\n",
      "    artists: ['3lDpdwM8KILepMHqBWUhIA', '3EaMbsBlExxNxLvTJcZvDq', '0XHiH53dHrvbwfjYM7en7I', '6cSxzHrQgGc4I4Ck5Gewej', '69tiO1fG8VWduDl3ji2qhI', '251UrhgNbMr15NLzQ2KyKq', '1QAJqy2dA3ihHBFIHRphZj', '2FXC3k01G6Gw61bmprjgqS', '7jy3rLJdDQY21OgRLCZ9sD', '6VDdCwrBM4qQaGxoAyxyJC']\n",
      "  find_similar_artists (call_ZZXXemxsvboMVrgKUPrj56lr)\n",
      " Call ID: call_ZZXXemxsvboMVrgKUPrj56lr\n",
      "  Args:\n",
      "    artists: ['3kjuyTCjPG1WMFCiyc5IuB', '49zZ2lRNpfwWfUnASUxCYW', '4F84IBURUo98rz4r61KF70', '1Xyo4u8uXC1ZmMpatF05PJ', '29mRqqZ15WaYjEsKNzcRkv', '3hv9jJF3adDNsBSIQDqcjp', '6Q192DXotxtaysaqNPy5yR', '6YWdHD3R863Apw1hkx3BwC', '66jsWaGhzSpHH1KRF34Oq3', '6D6rjLdxyE5vwhMlkuQq0E']\n",
      "  find_similar_artists (call_GnVXvAUmcj4PBwp0xhd5gXZj)\n",
      " Call ID: call_GnVXvAUmcj4PBwp0xhd5gXZj\n",
      "  Args:\n",
      "    artists: ['1CcPlAmcnJjC4FnaPVzv2v', '6eU0jV2eEZ8XTM7EmlguK6', '356c8AN5YWKvz86B4Sb1yf', '33qOK5uJ8AR2xuQQAhHump', '3JulrApLVT81sb2HkfwMks', '3Z7thZHrtFvqp8OpPffPKp', '090VebphoycdEyH165iMqc', '1UfzhwcOR4yfX7yHTPfC9m', '0MASTEXfUt3bpiyGOoEaur']\n"
     ]
    }
   ],
   "source": [
    "llm_response = llm_with_tools.invoke(messages)\n",
    "llm_response.pretty_print()"
   ]
  },
  {
   "cell_type": "markdown",
   "metadata": {},
   "source": [
    "# AI Tool Call (find_similar_artist())"
   ]
  },
  {
   "cell_type": "code",
   "execution_count": null,
   "metadata": {},
   "outputs": [],
   "source": [
    "if llm_response.tool_calls is None or llm_response.tool_calls[0][\"name\"] != \"find_similar_artists\":\n",
    "    raise ValueError(\"should be tool message calling 'find_similar_artists'\")"
   ]
  },
  {
   "cell_type": "markdown",
   "metadata": {},
   "source": [
    "# Add AI Tool Call to Messages"
   ]
  },
  {
   "cell_type": "code",
   "execution_count": null,
   "metadata": {},
   "outputs": [],
   "source": [
    "chat_prompt_template += llm_response\n",
    "messages = chat_prompt_template.format_messages()\n",
    "messages"
   ]
  },
  {
   "cell_type": "markdown",
   "metadata": {},
   "source": [
    "# Tool Call (find_similar_artists())"
   ]
  },
  {
   "cell_type": "code",
   "execution_count": null,
   "metadata": {},
   "outputs": [],
   "source": [
    "tool_response = tool_node.invoke({\"messages\": messages})\n",
    "for tool_message in  tool_response[\"messages\"]:\n",
    "    tool_message.pretty_print()"
   ]
  },
  {
   "cell_type": "markdown",
   "metadata": {},
   "source": [
    "# Add Tool Response to Messages"
   ]
  },
  {
   "cell_type": "code",
   "execution_count": null,
   "metadata": {},
   "outputs": [],
   "source": [
    "chat_prompt_template += tool_response[\"messages\"]\n",
    "messages = chat_prompt_template.format_messages()\n",
    "messages"
   ]
  },
  {
   "cell_type": "markdown",
   "metadata": {},
   "source": [
    "# Send Tool Result to LLM"
   ]
  },
  {
   "cell_type": "code",
   "execution_count": null,
   "metadata": {},
   "outputs": [],
   "source": [
    "llm_response = llm_with_tools.invoke(messages)\n",
    "llm_response.pretty_print()"
   ]
  },
  {
   "cell_type": "code",
   "execution_count": null,
   "metadata": {},
   "outputs": [],
   "source": [
    "chat_prompt_template += llm_response\n",
    "messages = chat_prompt_template.format_messages()\n",
    "messages"
   ]
  },
  {
   "cell_type": "markdown",
   "metadata": {},
   "source": [
    "# Tool Call"
   ]
  },
  {
   "cell_type": "code",
   "execution_count": null,
   "metadata": {},
   "outputs": [],
   "source": [
    "if llm_response.tool_calls is None or llm_response.tool_calls[0][\"name\"] != \"filter_artists\":\n",
    "    raise ValueError(\"should be tool message calling 'filter_artists'\")"
   ]
  },
  {
   "cell_type": "code",
   "execution_count": null,
   "metadata": {},
   "outputs": [],
   "source": [
    "tool_response = tool_node.invoke({\"messages\": messages})\n",
    "for tool_message in  tool_response[\"messages\"]:\n",
    "    tool_message.pretty_print()"
   ]
  },
  {
   "cell_type": "code",
   "execution_count": null,
   "metadata": {},
   "outputs": [],
   "source": [
    "chat_prompt_template += tool_response[\"messages\"]\n",
    "messages = chat_prompt_template.format_messages()\n",
    "messages"
   ]
  },
  {
   "cell_type": "markdown",
   "metadata": {},
   "source": [
    "# Send Tool Result to LLM"
   ]
  },
  {
   "cell_type": "code",
   "execution_count": null,
   "metadata": {},
   "outputs": [],
   "source": [
    "llm_response = llm_with_tools.invoke(messages)\n",
    "llm_response.pretty_print()"
   ]
  },
  {
   "cell_type": "code",
   "execution_count": null,
   "metadata": {},
   "outputs": [],
   "source": [
    "chat_prompt_template += llm_response\n",
    "messages = chat_prompt_template.format_messages()\n",
    "messages"
   ]
  },
  {
   "cell_type": "code",
   "execution_count": null,
   "metadata": {},
   "outputs": [],
   "source": [
    "if llm_response.tool_calls is None or llm_response.tool_calls[0][\"name\"] != \"find_top_tracks\":\n",
    "    raise ValueError(\"should be tool message calling 'find_top_tracks'\")"
   ]
  },
  {
   "cell_type": "markdown",
   "metadata": {},
   "source": [
    "# Tool Call"
   ]
  },
  {
   "cell_type": "code",
   "execution_count": null,
   "metadata": {},
   "outputs": [],
   "source": [
    "tool_response = tool_node.invoke({\"messages\": messages})\n",
    "for tool_message in  tool_response[\"messages\"]:\n",
    "    tool_message.pretty_print()"
   ]
  },
  {
   "cell_type": "code",
   "execution_count": null,
   "metadata": {},
   "outputs": [],
   "source": [
    "chat_prompt_template += tool_response[\"messages\"]\n",
    "messages = chat_prompt_template.format_messages()\n",
    "messages"
   ]
  },
  {
   "cell_type": "markdown",
   "metadata": {},
   "source": [
    "# Send Tool Result to LLM"
   ]
  },
  {
   "cell_type": "code",
   "execution_count": null,
   "metadata": {},
   "outputs": [],
   "source": [
    "llm_response = llm_with_tools.invoke(messages)\n",
    "llm_response.pretty_print()"
   ]
  }
 ],
 "metadata": {
  "kernelspec": {
   "display_name": ".venv",
   "language": "python",
   "name": "python3"
  },
  "language_info": {
   "codemirror_mode": {
    "name": "ipython",
    "version": 3
   },
   "file_extension": ".py",
   "mimetype": "text/x-python",
   "name": "python",
   "nbconvert_exporter": "python",
   "pygments_lexer": "ipython3",
   "version": "3.12.5"
  }
 },
 "nbformat": 4,
 "nbformat_minor": 2
}
