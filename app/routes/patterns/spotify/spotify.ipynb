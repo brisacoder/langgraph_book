{
 "cells": [
  {
   "cell_type": "code",
   "execution_count": 27,
   "metadata": {},
   "outputs": [],
   "source": [
    "%%capture --no-stderr\n",
    "%pip install --quiet -U langgraph langchain-core langchain_openai python-dotenv langsmith pydantic spotipy"
   ]
  },
  {
   "cell_type": "code",
   "execution_count": 2,
   "metadata": {},
   "outputs": [
    {
     "name": "stdout",
     "output_type": "stream",
     "text": [
      "Note: you may need to restart the kernel to use updated packages.\n",
      "Note: you may need to restart the kernel to use updated packages.\n"
     ]
    }
   ],
   "source": [
    "%pip install --quiet -U jupyterlab-lsp\n",
    "%pip install --quiet -U \"python-lsp-server[all]\""
   ]
  },
  {
   "cell_type": "code",
   "execution_count": 1,
   "metadata": {},
   "outputs": [],
   "source": [
    "## Setup logging\n",
    "import logging\n",
    "import os\n",
    "from dotenv import load_dotenv\n",
    "\n",
    "load_dotenv(override=True)\n",
    "logger = logging.getLogger(__name__)\n",
    "\n",
    "# Configure logging\n",
    "logging.basicConfig(\n",
    "    level=logging.INFO,\n",
    "    format='%(asctime)s - %(levelname)s - %(message)s',  # Define the format\n",
    "    handlers=[logging.StreamHandler()]  # Output to the console\n",
    ")"
   ]
  },
  {
   "cell_type": "markdown",
   "metadata": {},
   "source": [
    "# Define Spotify URI type"
   ]
  },
  {
   "cell_type": "code",
   "execution_count": 2,
   "metadata": {},
   "outputs": [],
   "source": [
    "from typing import List, NewType\n",
    "\n",
    "# Define a custom URI type\n",
    "SpotifyURI = NewType('SpotifyURI', str)"
   ]
  },
  {
   "cell_type": "code",
   "execution_count": 3,
   "metadata": {},
   "outputs": [],
   "source": [
    "from typing import List, Dict, Optional\n",
    "from pydantic import BaseModel, Field\n",
    "\n",
    "# Define a Pydantic model for Playlist\n",
    "class Playlist(BaseModel):\n",
    "    \"\"\"\n",
    "    A model representing a Spotify playlist.\n",
    "    \"\"\"\n",
    "    id: str = Field(..., description=\"The unique identifier for the playlist.\")\n",
    "    uri: str = Field(..., description=\"The Spotify URI for the playlist.\")\n",
    "    name: str = Field(..., description=\"The name of the playlist.\")\n",
    "    description: Optional[str] = Field(None, description=\"The playlist's description.\")\n",
    "    owner: Optional[str] = Field(None, description=\"The display name of the playlist's owner.\")\n",
    "    tracks_total: Optional[int] = Field(None, description=\"The total number of tracks in the playlist.\")\n",
    "    is_public: Optional[bool] = Field(None, description=\"Indicates if the playlist is public.\")\n",
    "    collaborative: Optional[bool] = Field(None, description=\"Indicates if the playlist is collaborative.\")\n",
    "    snapshot_id: Optional[str] = Field(None, description=\"The version identifier for the current playlist.\")\n",
    "\n",
    "# Define a Pydantic model for Track\n",
    "class Track(BaseModel):\n",
    "    \"\"\"\n",
    "    A model representing a Spotify track.\n",
    "    \"\"\"\n",
    "    id: str = Field(..., description=\"The unique identifier for the track.\")\n",
    "    uri: str = Field(..., description=\"The Spotify URI for the track.\")\n",
    "    name: str = Field(..., description=\"The name of the track.\")\n",
    "    artists: List[str] = Field(..., description=\"A list of artists who performed the track.\")\n",
    "    album: str = Field(..., description=\"The name of the album the track is from.\")\n",
    "    duration_ms: Optional[int] = Field(None, description=\"The track length in milliseconds.\")\n",
    "    explicit: Optional[bool] = Field(None, description=\"Indicates if the track has explicit content.\")\n",
    "    popularity: Optional[int] = Field(None, description=\"The popularity of the track (0-100).\")"
   ]
  },
  {
   "cell_type": "code",
   "execution_count": 4,
   "metadata": {},
   "outputs": [],
   "source": [
    "from typing import Dict, List, Any, Annotated\n",
    "from typing import Annotated\n",
    "from typing_extensions import TypedDict\n",
    "from langchain_core.messages import AIMessage, HumanMessage, BaseMessage, ToolMessage\n",
    "from langgraph.graph.message import add_messages\n",
    "\n",
    "\n",
    "class State(TypedDict):\n",
    "    \"\"\"\n",
    "    Represents the state of the conversation and Spotify information\n",
    "\n",
    "    Attributes:\n",
    "        playlists (List[Playlist]): A list of Spotify Playlists.\n",
    "        tracks (List[Track]): Track list for a Spotify Playlist\n",
    "        new_playlist: (Playlist) : New Spotify playlist data\n",
    "        new_tracks: (List[Track]): Tracks for the new playlist\n",
    "    \"\"\"\n",
    "    new_playlist: Playlist\n",
    "    new_tracks: List[Track]\n",
    "    playlists: List[Playlist]\n",
    "    tracks: List[Track]\n",
    "    messages: Annotated[List[BaseMessage], add_messages]\n"
   ]
  },
  {
   "cell_type": "markdown",
   "metadata": {},
   "source": [
    "# Define Spotify Tools"
   ]
  },
  {
   "cell_type": "code",
   "execution_count": null,
   "metadata": {},
   "outputs": [],
   "source": [
    "import os\n",
    "import spotipy\n",
    "from spotipy.oauth2 import SpotifyClientCredentials\n",
    "from langchain_core.tools import tool\n",
    "from typing import List, NewType\n",
    "import json\n",
    "\n",
    "\n",
    "def get_spotify_client() -> spotipy.Spotify:\n",
    "    \"\"\"\n",
    "    Initializes and returns a Spotify client with user authentication.\n",
    "\n",
    "    Returns:\n",
    "        spotipy.Spotify: An authenticated Spotify client.\n",
    "    \"\"\"\n",
    "    auth_manager = SpotifyClientCredentials(\n",
    "        client_id=os.environ.get(\"SPOTIFY_CLIENT_ID\"),\n",
    "        client_secret=os.environ.get(\"SPOTIFY_CLIENT_SECRET\"),\n",
    "    )\n",
    "    return spotipy.Spotify(auth_manager=auth_manager)\n",
    "\n",
    "\n",
    "@tool\n",
    "def get_playlists() -> Dict[str, List[Playlist]]:\n",
    "    \"\"\"\n",
    "    Retrieves a list of the user's Spotify playlists.\n",
    "\n",
    "    Returns:\n",
    "        Dict[str, List[Playlist]]: A dictionary containing a list of Playlist models under the 'playlists' key.\n",
    "    \"\"\"\n",
    "    sp = get_spotify_client()\n",
    "    playlists: List[Playlist] = []\n",
    "\n",
    "    try:\n",
    "        # Fetch the current user's playlists with pagination\n",
    "        playlists_raw = sp.user_playlists(user=os.getenv(\"SPOTIFY_USER_ID\"), limit=100)\n",
    "        while playlists_raw:\n",
    "            for playlist_data in playlists_raw['items']:\n",
    "                # Map API data to the Playlist model\n",
    "                playlist = Playlist(\n",
    "                    id=playlist_data['id'],\n",
    "                    uri=playlist_data['uri'],\n",
    "                    name=playlist_data['name'],\n",
    "                    description=playlist_data.get('description'),\n",
    "                    owner=playlist_data['owner']['display_name'],\n",
    "                    tracks_total=playlist_data['tracks']['total'],\n",
    "                    is_public=playlist_data.get('public'),\n",
    "                    collaborative=playlist_data.get('collaborative'),\n",
    "                    snapshot_id=playlist_data.get('snapshot_id')\n",
    "                )\n",
    "                playlists.append(playlist)\n",
    "            # Check if there is a next page\n",
    "            if playlists_raw['next']:\n",
    "                playlists_raw = sp.next(playlists_raw)\n",
    "            else:\n",
    "                break\n",
    "    except spotipy.SpotifyException as e:\n",
    "        return {\"error\": str(e)}\n",
    "\n",
    "    # Serialize the playlists to JSON-serializable dictionaries\n",
    "    serialized_playlists = [playlist.model_dump() for playlist in playlists]\n",
    "    return {\"playlists\": serialized_playlists}\n",
    "\n",
    "\n",
    "@tool\n",
    "def get_track_list(playlist_id: str) -> Dict[str, List[Track]]:\n",
    "    \"\"\"\n",
    "    Retrieves the track list for a specific Spotify playlist.\n",
    "\n",
    "    Args:\n",
    "        playlist_id (str): The unique identifier of the Spotify playlist.\n",
    "\n",
    "    Returns:\n",
    "        Dict[str, List[Track]]: A dictionary containing a list of Track models under the 'tracks' key.\n",
    "    \"\"\"\n",
    "    sp = get_spotify_client()\n",
    "    playlist_tracks: List[Track] = []\n",
    "\n",
    "    try:\n",
    "        # Fetch the playlist's tracks with pagination\n",
    "        playlist = sp.user_playlist(user=os.getenv(\"SPOTIFY_USER_ID\"), playlist_id=playlist_id)\n",
    "        if 'tracks' in playlist:\n",
    "            tracks = playlist[\"tracks\"]\n",
    "            while tracks:\n",
    "                for item in tracks['items']:\n",
    "                    track_data = item['track']\n",
    "                    # Map API data to the Track model\n",
    "                    track = Track(\n",
    "                        id=track_data['id'],\n",
    "                        uri=track_data['uri'],\n",
    "                        name=track_data['name'],\n",
    "                        artists=[artist['name'] for artist in track_data['artists']],\n",
    "                        album=track_data['album']['name'],\n",
    "                        duration_ms=track_data.get('duration_ms'),\n",
    "                        explicit=track_data.get('explicit'),\n",
    "                        popularity=track_data.get('popularity')\n",
    "                    )\n",
    "                    playlist_tracks.append(track)\n",
    "                # Check if there is a next page\n",
    "                if tracks['next']:\n",
    "                    # TODO unclear in this case\n",
    "                    tracks = sp.next(tracks)\n",
    "                else:\n",
    "                    break\n",
    "    except spotipy.SpotifyException as e:\n",
    "        return {\"error\": str(e)}\n",
    "\n",
    "    # Serialize the tracks to JSON-serializable dictionaries\n",
    "    serialized_tracks = [track.model_dump() for track in tracks]\n",
    "    return {\"tracks\": serialized_tracks}\n",
    "\n",
    "\n",
    "@tool\n",
    "def create_spotify_playlist(name: str, description: str = \"Agentic Playlist\") -> Dict[str, Playlist]:\n",
    "    \"\"\"\n",
    "    Creates a new playlist on Spotify.\n",
    "\n",
    "    This function only creates the playlist; it does not add tracks.\n",
    "\n",
    "    Args:\n",
    "        name (str): The name of the new playlist.\n",
    "        description (str, optional): The description of the playlist.\n",
    "\n",
    "    Returns:\n",
    "        Dict[str, Playlist]: A dictionary containing the new Playlist model under the 'new_playlist' key.\n",
    "    \"\"\"\n",
    "    sp = get_spotify_client()\n",
    "    try:\n",
    "        # Retrieve the current user's ID\n",
    "        user_id = sp.current_user()['id']\n",
    "        # Create a new playlist\n",
    "        new_playlist_data = sp.user_playlist_create(\n",
    "            user=user_id,\n",
    "            name=name,\n",
    "            public=True,\n",
    "            description=description\n",
    "        )\n",
    "        # Map API data to the Playlist model\n",
    "        new_playlist = Playlist(\n",
    "            id=new_playlist_data['id'],\n",
    "            uri=new_playlist_data['uri'],\n",
    "            name=new_playlist_data['name'],\n",
    "            description=new_playlist_data.get('description'),\n",
    "            owner=new_playlist_data['owner']['display_name'],\n",
    "            tracks_total=new_playlist_data['tracks']['total'],\n",
    "            is_public=new_playlist_data.get('public'),\n",
    "            collaborative=new_playlist_data.get('collaborative'),\n",
    "            snapshot_id=new_playlist_data.get('snapshot_id')\n",
    "        )\n",
    "    except spotipy.SpotifyException as e:\n",
    "        return {\"error\": str(e)}\n",
    "    return {\"new_playlist\": new_playlist.model_dump()}\n",
    "\n",
    "@tool\n",
    "def add_tracks_to_playlist(playlist_id: str, tracks: List[SpotifyURI]) -> Dict[str, Any]:\n",
    "    \"\"\"\n",
    "    Adds tracks to a Spotify playlist.\n",
    "\n",
    "    Args:\n",
    "        playlist_id (str): ID of the playlist.\n",
    "        tracks (List[SpotifyURI]): List of Spotify track URIs.\n",
    "\n",
    "    Returns:\n",
    "        Dict[str, Any]: A dictionary indicating success or error.\n",
    "    \"\"\"\n",
    "    sp = get_spotify_client()\n",
    "    try:\n",
    "        sp.playlist_add_items(playlist_id=playlist_id, items=tracks)\n",
    "    except spotipy.SpotifyException as e:\n",
    "        return {\"error\": str(e)}\n",
    "    return {\"success\": True} \n",
    "\n"
   ]
  },
  {
   "cell_type": "markdown",
   "metadata": {},
   "source": [
    "# Define Search Tool"
   ]
  },
  {
   "cell_type": "code",
   "execution_count": 6,
   "metadata": {},
   "outputs": [
    {
     "data": {
      "text/plain": [
       "'A search engine optimized for comprehensive, accurate, and trusted results. Useful for when you need to answer questions about current events. Input should be a search query.'"
      ]
     },
     "execution_count": 6,
     "metadata": {},
     "output_type": "execute_result"
    }
   ],
   "source": [
    "from langchain_community.tools.tavily_search import TavilySearchResults\n",
    "\n",
    "search_tool = TavilySearchResults(\n",
    "    max_results=5,\n",
    "    include_answer=True,\n",
    "    include_raw_content=True,\n",
    "    include_images=True,\n",
    "    # search_depth=\"advanced\",\n",
    "    # include_domains = []\n",
    "    # exclude_domains = []\n",
    ")\n",
    "name = search_tool.get_name()\n",
    "desc = search_tool.description\n",
    "desc"
   ]
  },
  {
   "cell_type": "markdown",
   "metadata": {},
   "source": [
    "# Create ToolNode"
   ]
  },
  {
   "cell_type": "code",
   "execution_count": 7,
   "metadata": {},
   "outputs": [],
   "source": [
    "from langgraph.prebuilt import ToolNode\n",
    "\n",
    "tools = [get_playlists, get_track_list, create_spotify_playlist, add_tracks_to_playlist, search_tool]\n",
    "tool_node = ToolNode(tools)"
   ]
  },
  {
   "cell_type": "markdown",
   "metadata": {},
   "source": [
    "# Manual Test of Tool Infra"
   ]
  },
  {
   "cell_type": "code",
   "execution_count": 164,
   "metadata": {},
   "outputs": [
    {
     "data": {
      "text/plain": [
       "{'messages': [ToolMessage(content='{\"playlists\": [\"1, spotify:playlist:2dbYK5b7J0F7IdH5n1TEUK,  RPreacher\", \"2, spotify:playlist:4ack9YtUhdxRayJDAqlfQe,  RP Bossa Nova Chill \", \"3, spotify:playlist:75NW18NgdZuZeifrcjxKlZ,  GVF\", \"4, spotify:playlist:5iyONtUO21O88xw8pBblwh,  Now And Then\", \"5, spotify:playlist:4SDSUMg2HJcGFmHlupsU7U,  Jazz classics\", \"6, spotify:playlist:5fBxLG2wLAPVpx83402rHl,  Acdc\", \"7, spotify:playlist:17Yxm5hQbkbZwDcCTuiDXC,  einaudi\", \"8, spotify:playlist:2X6GccWfIqPWO6VYx405nO,  Eric Clapton Blues\", \"9, spotify:playlist:3smVXe8y8w8nt4lFH0HBkW,  Alchemy: Dire Straits\", \"10, spotify:playlist:2ifRZBXnX7UmIPUlGet5WZ,  Blues\", \"11, spotify:playlist:5nn2ePtd9gYEEDL3XnACCB,  brazil\", \"12, spotify:playlist:6YAntoKNXuogPKdV26b6XE,  CCR\", \"13, spotify:playlist:2VHkZvOMCkLF3B7TsKerKD,  Chill\", \"14, spotify:playlist:508lbLx9XUkHv5Xb45hxTP,  Classic Rock\", \"15, spotify:playlist:7zzDMq1sPwkZPYeqOQJ9qS,  The New Four Seasons - Vivaldi Recomposed\", \"16, spotify:playlist:4l8WcaYlPkuVPXVGxMIca3,  New Study\", \"17, spotify:playlist:0Wr2Z9vroQ9IXKaokFHldt,  Islands - Essential Einaudi (Deluxe Version)\", \"18, spotify:playlist:780Yx65yiaLtBYM76neBYC,  Gioachino Rossini – Rossini: Overtures\", \"19, spotify:playlist:76rUGmzqh1OhyheEOUDYNp,  Frédéric Chopin – Chopin: Nocturnes\", \"20, spotify:playlist:5qcHJodVJd8AEOT2cCvxEm,  Frédéric Chopin – Chopin: Nocturnes - Sony Classical Originals 2\", \"21, spotify:playlist:7hr9yYAJLXDoJ5sKBhm8Af,  Antonio Vivaldi – Vivaldi: Guitar Concertos\", \"22, spotify:playlist:4ruyjAXs6VHU8ZYJqXsUiN,  Sergei Rachmaninoff – Rachmaninoff Plays Rachmaninoff: Concertos Nos. 2 and 3\", \"23, spotify:playlist:4GYOeGfC7fSephEi3UYh0W,  Erik Satie – Satie: Gymnopédies, Gnossiennes & Other Works\", \"24, spotify:playlist:2lop6NfhiYA07UzhWUCyc2,  Classical Masters\", \"25, spotify:playlist:2RUN05cfOlR09kJUvTAEPk,  Evil Woman\", \"26, spotify:playlist:3DEKSWlDt8Qors1NpYLXwt,  Hits 2000\", \"27, spotify:playlist:7FgZOBK0lhTZz7gMJeV7gs,  Insomniac\", \"28, spotify:playlist:6DgcAL9oygPekQLDY2mFDq,  Jean-Michel Jarre – Equinoxe\", \"29, spotify:playlist:6X1fib1966dU31uZdTH5p1,  Misplaced Childhood (2017 Remaster)\", \"30, spotify:playlist:5mxEevqyJ7IbtnmxlRSlaL,  My Playlist #36\", \"31, spotify:playlist:01tk0aitEuGK0ajWCkzdKc,  New Rock\", \"32, spotify:playlist:5Culgc9kaBQ5b9oOHXXhB6,  Nothing But the Blues (Live)\", \"33, spotify:playlist:5qYPd1AvydE1Ltz5uGCVVG,  Pet Shop Boys\", \"34, spotify:playlist:43ekrNptzLLkRVGuZWUI83,  Pink Floyd\", \"35, spotify:playlist:25odQP99Tc8QbNs8dWWsQV,  Pink Floyd – The Wall\", \"36, spotify:playlist:6smB0SEs5sX0FOzA4h22Eq,  Rock\", \"37, spotify:playlist:5q5ZVp6frFMc8y0ivNfGk2,  Rock Balads\", \"38, spotify:playlist:4Vk5tgx9FcO17ZhdFwxJIp,  Rock Hard\", \"39, spotify:playlist:3n3RLXoDDH7O9XpusnnnvV,  Rolling Stones\", \"40, spotify:playlist:5XdXmStK6X9ZPstLvDBekC,  Workout\"]}', name='get_playlists', tool_call_id='tool_call_id')]}"
      ]
     },
     "execution_count": 164,
     "metadata": {},
     "output_type": "execute_result"
    }
   ],
   "source": [
    "from langchain_core.messages import AIMessage, HumanMessage\n",
    "message_with_single_tool_call = AIMessage(\n",
    "    content=\"\",\n",
    "    tool_calls=[\n",
    "        {\n",
    "            \"name\": \"get_playlists\",\n",
    "            \"args\" : {},\n",
    "            \"id\": \"tool_call_id\",\n",
    "            \"type\": \"tool_call\",\n",
    "        }\n",
    "    ],\n",
    ")\n",
    "\n",
    "tool_node.invoke({\"messages\": [message_with_single_tool_call]})"
   ]
  },
  {
   "cell_type": "markdown",
   "metadata": {},
   "source": [
    "# Bind Tools to Model"
   ]
  },
  {
   "cell_type": "code",
   "execution_count": 8,
   "metadata": {},
   "outputs": [],
   "source": [
    "from langchain_openai import ChatOpenAI\n",
    "\n",
    "llm = ChatOpenAI(model=os.getenv(\"OPENAI_MODEL_NAME\"))\n",
    "llm_with_tools = llm.bind_tools(tools)"
   ]
  },
  {
   "cell_type": "markdown",
   "metadata": {},
   "source": [
    "# Define Prompt"
   ]
  },
  {
   "cell_type": "code",
   "execution_count": 9,
   "metadata": {},
   "outputs": [],
   "source": [
    "prompt = \"\"\"\n",
    "Create and execute a step-by-step plan with atomic tasks to solve the following problem:\n",
    "\n",
    "Build a Spotify Playlist with tracks of the same vibe as my 'New Rock' playlist. Here are some rules\n",
    "\n",
    "1 - Only suggest tracks from artist not present on the 'New Rock' playlist\n",
    "2 - Artist should have achieved success after year 2010\n",
    "3 - Do not use 'The Raconteurs' as an artist in the new playlist\n",
    "4 - Playlist should have around 100 tracks\n",
    "5 - Arrange the tracks to create a smooth listening experience, considering tempo, energy, and mood.\n",
    "6 - Add some hidden gems\n",
    "7 - Use your knowledge as a recommendation music system. Think carefully and thoroughly. \n",
    "\"\"\""
   ]
  },
  {
   "cell_type": "markdown",
   "metadata": {},
   "source": [
    "# First Message"
   ]
  },
  {
   "cell_type": "code",
   "execution_count": 10,
   "metadata": {},
   "outputs": [
    {
     "name": "stderr",
     "output_type": "stream",
     "text": [
      "2024-11-11 18:52:41,471 - INFO - HTTP Request: POST https://api.openai.com/v1/chat/completions \"HTTP/1.1 200 OK\"\n"
     ]
    },
    {
     "data": {
      "text/plain": [
       "AIMessage(content='To create a Spotify playlist that matches the vibe of your \"New Rock\" playlist while adhering to the given rules, here\\'s a step-by-step plan with atomic tasks:\\n\\n### Step 1: Gather Information\\n1. **Retrieve Existing Playlist Details**\\n   - Fetch the list of your Spotify playlists to identify the \"New Rock\" playlist.\\n   - Retrieve the track list from the \"New Rock\" playlist to understand its vibe and collect data on the artists featured.\\n\\n### Step 2: Research and Analyze\\n2. **Identify Similar Artists**\\n   - Search for artists similar to those in the \"New Rock\" playlist who achieved success after 2010, excluding \"The Raconteurs.\"\\n\\n3. **Find Hidden Gems**\\n   - Research lesser-known tracks or upcoming artists that fit the vibe of the \"New Rock\" playlist and have gained some recognition post-2010.\\n\\n### Step 3: Curate New Playlist\\n4. **Select Tracks**\\n   - Choose around 100 tracks from the identified artists, ensuring no artists from the \"New Rock\" playlist are repeated.\\n   - Include hidden gems to add uniqueness to the playlist.\\n\\n5. **Arrange Tracks**\\n   - Arrange the selected tracks to ensure a smooth listening experience, considering factors like tempo, energy, and mood transitions.\\n\\n### Step 4: Create and Populate Playlist\\n6. **Create a New Spotify Playlist**\\n   - Create a new playlist on Spotify with a suitable name and description.\\n\\n7. **Add Tracks to Playlist**\\n   - Add the curated and arranged tracks to the newly created Spotify playlist.\\n\\n### Step 5: Final Review and Adjustments\\n8. **Listen and Adjust**\\n   - Listen to the playlist to ensure smooth transitions and overall coherence.\\n   - Make any necessary adjustments to the track order or replace tracks that disrupt the flow.\\n\\nNow, let\\'s execute Step 1 by retrieving the existing playlist details and its track list.', additional_kwargs={'tool_calls': [{'id': 'call_sZbWE5ONJlQeXOrjoCOXDmQ8', 'function': {'arguments': '{}', 'name': 'get_playlists'}, 'type': 'function'}], 'refusal': None}, response_metadata={'token_usage': {'completion_tokens': 395, 'prompt_tokens': 498, 'total_tokens': 893, 'completion_tokens_details': {'accepted_prediction_tokens': 0, 'audio_tokens': 0, 'reasoning_tokens': 0, 'rejected_prediction_tokens': 0}, 'prompt_tokens_details': {'audio_tokens': 0, 'cached_tokens': 0}}, 'model_name': 'gpt-4o-2024-08-06', 'system_fingerprint': 'fp_45cf54deae', 'finish_reason': 'tool_calls', 'logprobs': None}, id='run-25fda942-0a93-4451-b27a-d1a4e895d444-0', tool_calls=[{'name': 'get_playlists', 'args': {}, 'id': 'call_sZbWE5ONJlQeXOrjoCOXDmQ8', 'type': 'tool_call'}], usage_metadata={'input_tokens': 498, 'output_tokens': 395, 'total_tokens': 893, 'input_token_details': {'audio': 0, 'cache_read': 0}, 'output_token_details': {'audio': 0, 'reasoning': 0}})"
      ]
     },
     "execution_count": 10,
     "metadata": {},
     "output_type": "execute_result"
    }
   ],
   "source": [
    "from langchain_core.messages import AIMessage, HumanMessage\n",
    "\n",
    "human_message = HumanMessage(prompt)\n",
    "ai_tool_call_message = llm_with_tools.invoke([human_message])\n",
    "ai_tool_call_message\n",
    "#print(f\"tool_call_message: {tool_call_message.pretty_print()}\")\n"
   ]
  },
  {
   "cell_type": "code",
   "execution_count": 11,
   "metadata": {},
   "outputs": [
    {
     "name": "stdout",
     "output_type": "stream",
     "text": [
      "To create a Spotify playlist that matches the vibe of your \"New Rock\" playlist while adhering to the given rules, here's a step-by-step plan with atomic tasks:\n",
      "\n",
      "### Step 1: Gather Information\n",
      "1. **Retrieve Existing Playlist Details**\n",
      "   - Fetch the list of your Spotify playlists to identify the \"New Rock\" playlist.\n",
      "   - Retrieve the track list from the \"New Rock\" playlist to understand its vibe and collect data on the artists featured.\n",
      "\n",
      "### Step 2: Research and Analyze\n",
      "2. **Identify Similar Artists**\n",
      "   - Search for artists similar to those in the \"New Rock\" playlist who achieved success after 2010, excluding \"The Raconteurs.\"\n",
      "\n",
      "3. **Find Hidden Gems**\n",
      "   - Research lesser-known tracks or upcoming artists that fit the vibe of the \"New Rock\" playlist and have gained some recognition post-2010.\n",
      "\n",
      "### Step 3: Curate New Playlist\n",
      "4. **Select Tracks**\n",
      "   - Choose around 100 tracks from the identified artists, ensuring no artists from the \"New Rock\" playlist are repeated.\n",
      "   - Include hidden gems to add uniqueness to the playlist.\n",
      "\n",
      "5. **Arrange Tracks**\n",
      "   - Arrange the selected tracks to ensure a smooth listening experience, considering factors like tempo, energy, and mood transitions.\n",
      "\n",
      "### Step 4: Create and Populate Playlist\n",
      "6. **Create a New Spotify Playlist**\n",
      "   - Create a new playlist on Spotify with a suitable name and description.\n",
      "\n",
      "7. **Add Tracks to Playlist**\n",
      "   - Add the curated and arranged tracks to the newly created Spotify playlist.\n",
      "\n",
      "### Step 5: Final Review and Adjustments\n",
      "8. **Listen and Adjust**\n",
      "   - Listen to the playlist to ensure smooth transitions and overall coherence.\n",
      "   - Make any necessary adjustments to the track order or replace tracks that disrupt the flow.\n",
      "\n",
      "Now, let's execute Step 1 by retrieving the existing playlist details and its track list.\n"
     ]
    }
   ],
   "source": [
    "print(ai_tool_call_message.content)"
   ]
  },
  {
   "cell_type": "markdown",
   "metadata": {},
   "source": [
    "# chat_prompt_template holds all the messages (Human, AI, Tool)"
   ]
  },
  {
   "cell_type": "code",
   "execution_count": 12,
   "metadata": {},
   "outputs": [
    {
     "data": {
      "text/plain": [
       "[HumanMessage(content=\"\\nCreate and execute a step-by-step plan with atomic tasks to solve the following problem:\\n\\nBuild a Spotify Playlist with tracks of the same vibe as my 'New Rock' playlist. Here are some rules\\n\\n1 - Only suggest tracks from artist not present on the 'New Rock' playlist\\n2 - Artist should have achieved success after year 2010\\n3 - Do not use 'The Raconteurs' as an artist in the new playlist\\n4 - Playlist should have around 100 tracks\\n5 - Arrange the tracks to create a smooth listening experience, considering tempo, energy, and mood.\\n6 - Add some hidden gems\\n7 - Use your knowledge as a recommendation music system. Think carefully and thoroughly. \\n\", additional_kwargs={}, response_metadata={}),\n",
       " AIMessage(content='To create a Spotify playlist that matches the vibe of your \"New Rock\" playlist while adhering to the given rules, here\\'s a step-by-step plan with atomic tasks:\\n\\n### Step 1: Gather Information\\n1. **Retrieve Existing Playlist Details**\\n   - Fetch the list of your Spotify playlists to identify the \"New Rock\" playlist.\\n   - Retrieve the track list from the \"New Rock\" playlist to understand its vibe and collect data on the artists featured.\\n\\n### Step 2: Research and Analyze\\n2. **Identify Similar Artists**\\n   - Search for artists similar to those in the \"New Rock\" playlist who achieved success after 2010, excluding \"The Raconteurs.\"\\n\\n3. **Find Hidden Gems**\\n   - Research lesser-known tracks or upcoming artists that fit the vibe of the \"New Rock\" playlist and have gained some recognition post-2010.\\n\\n### Step 3: Curate New Playlist\\n4. **Select Tracks**\\n   - Choose around 100 tracks from the identified artists, ensuring no artists from the \"New Rock\" playlist are repeated.\\n   - Include hidden gems to add uniqueness to the playlist.\\n\\n5. **Arrange Tracks**\\n   - Arrange the selected tracks to ensure a smooth listening experience, considering factors like tempo, energy, and mood transitions.\\n\\n### Step 4: Create and Populate Playlist\\n6. **Create a New Spotify Playlist**\\n   - Create a new playlist on Spotify with a suitable name and description.\\n\\n7. **Add Tracks to Playlist**\\n   - Add the curated and arranged tracks to the newly created Spotify playlist.\\n\\n### Step 5: Final Review and Adjustments\\n8. **Listen and Adjust**\\n   - Listen to the playlist to ensure smooth transitions and overall coherence.\\n   - Make any necessary adjustments to the track order or replace tracks that disrupt the flow.\\n\\nNow, let\\'s execute Step 1 by retrieving the existing playlist details and its track list.', additional_kwargs={'tool_calls': [{'id': 'call_sZbWE5ONJlQeXOrjoCOXDmQ8', 'function': {'arguments': '{}', 'name': 'get_playlists'}, 'type': 'function'}], 'refusal': None}, response_metadata={'token_usage': {'completion_tokens': 395, 'prompt_tokens': 498, 'total_tokens': 893, 'completion_tokens_details': {'accepted_prediction_tokens': 0, 'audio_tokens': 0, 'reasoning_tokens': 0, 'rejected_prediction_tokens': 0}, 'prompt_tokens_details': {'audio_tokens': 0, 'cached_tokens': 0}}, 'model_name': 'gpt-4o-2024-08-06', 'system_fingerprint': 'fp_45cf54deae', 'finish_reason': 'tool_calls', 'logprobs': None}, id='run-25fda942-0a93-4451-b27a-d1a4e895d444-0', tool_calls=[{'name': 'get_playlists', 'args': {}, 'id': 'call_sZbWE5ONJlQeXOrjoCOXDmQ8', 'type': 'tool_call'}], usage_metadata={'input_tokens': 498, 'output_tokens': 395, 'total_tokens': 893, 'input_token_details': {'audio': 0, 'cache_read': 0}, 'output_token_details': {'audio': 0, 'reasoning': 0}})]"
      ]
     },
     "execution_count": 12,
     "metadata": {},
     "output_type": "execute_result"
    }
   ],
   "source": [
    "from langchain_core.prompts import ChatPromptTemplate, MessagesPlaceholder\n",
    "\n",
    "chat_prompt_template: ChatPromptTemplate = human_message + ai_tool_call_message\n",
    "chat_prompt_template.format_messages()"
   ]
  },
  {
   "cell_type": "markdown",
   "metadata": {},
   "source": [
    "# Tool Call (get_playlists)"
   ]
  },
  {
   "cell_type": "code",
   "execution_count": 13,
   "metadata": {},
   "outputs": [
    {
     "data": {
      "text/plain": [
       "{'messages': [ToolMessage(content='{\"playlists\": [{\"id\": \"2dbYK5b7J0F7IdH5n1TEUK\", \"uri\": \"spotify:playlist:2dbYK5b7J0F7IdH5n1TEUK\", \"name\": \"RPreacher\", \"description\": \"\", \"owner\": \"Ray\", \"tracks_total\": 3, \"is_public\": true, \"collaborative\": false, \"snapshot_id\": \"AAAABG1lhIiRJT/NE9RpP4K6UnmZWixo\"}, {\"id\": \"4ack9YtUhdxRayJDAqlfQe\", \"uri\": \"spotify:playlist:4ack9YtUhdxRayJDAqlfQe\", \"name\": \"RP Bossa Nova Chill \", \"description\": \"\", \"owner\": \"Ray\", \"tracks_total\": 30, \"is_public\": true, \"collaborative\": false, \"snapshot_id\": \"AAAAIThdM9g/YPQwj7nuoHhewWyLoKEi\"}, {\"id\": \"75NW18NgdZuZeifrcjxKlZ\", \"uri\": \"spotify:playlist:75NW18NgdZuZeifrcjxKlZ\", \"name\": \"GVF\", \"description\": \"\", \"owner\": \"Ray\", \"tracks_total\": 11, \"is_public\": true, \"collaborative\": false, \"snapshot_id\": \"AAAADKZNV9h+cfi1PbOi6yjNHMe8mLWC\"}, {\"id\": \"5iyONtUO21O88xw8pBblwh\", \"uri\": \"spotify:playlist:5iyONtUO21O88xw8pBblwh\", \"name\": \"Now And Then\", \"description\": \"\", \"owner\": \"Ray\", \"tracks_total\": 7, \"is_public\": true, \"collaborative\": false, \"snapshot_id\": \"AAAACBkT0vD6HHtLpUO7hEOCzClgABvP\"}, {\"id\": \"4SDSUMg2HJcGFmHlupsU7U\", \"uri\": \"spotify:playlist:4SDSUMg2HJcGFmHlupsU7U\", \"name\": \"Jazz classics\", \"description\": \"\", \"owner\": \"Ray\", \"tracks_total\": 251, \"is_public\": true, \"collaborative\": false, \"snapshot_id\": \"AAAAA8p/xZVmAcTsRpsMlQtRepRFmbfo\"}, {\"id\": \"5fBxLG2wLAPVpx83402rHl\", \"uri\": \"spotify:playlist:5fBxLG2wLAPVpx83402rHl\", \"name\": \"Acdc\", \"description\": \"\", \"owner\": \"Ray\", \"tracks_total\": 26, \"is_public\": true, \"collaborative\": false, \"snapshot_id\": \"AAAAG+HaorntGV3LHad9bEcICDGFD56C\"}, {\"id\": \"17Yxm5hQbkbZwDcCTuiDXC\", \"uri\": \"spotify:playlist:17Yxm5hQbkbZwDcCTuiDXC\", \"name\": \"einaudi\", \"description\": \"\", \"owner\": \"Ray\", \"tracks_total\": 18, \"is_public\": true, \"collaborative\": false, \"snapshot_id\": \"AAAAF9qEdgDunVs0NC8jBUoE/CdMF7jq\"}, {\"id\": \"2X6GccWfIqPWO6VYx405nO\", \"uri\": \"spotify:playlist:2X6GccWfIqPWO6VYx405nO\", \"name\": \"Eric Clapton Blues\", \"description\": \"\", \"owner\": \"Ray\", \"tracks_total\": 24, \"is_public\": true, \"collaborative\": false, \"snapshot_id\": \"AAAAH4q+4xxgg62OXnIHbsNVZPC1LL1Q\"}, {\"id\": \"3smVXe8y8w8nt4lFH0HBkW\", \"uri\": \"spotify:playlist:3smVXe8y8w8nt4lFH0HBkW\", \"name\": \"Alchemy: Dire Straits\", \"description\": \"\", \"owner\": \"Ray\", \"tracks_total\": 10, \"is_public\": true, \"collaborative\": false, \"snapshot_id\": \"AAAAD45w+Oq6Z1xq7iMwF6iFkfWoT87p\"}, {\"id\": \"2ifRZBXnX7UmIPUlGet5WZ\", \"uri\": \"spotify:playlist:2ifRZBXnX7UmIPUlGet5WZ\", \"name\": \"Blues\", \"description\": \"\", \"owner\": \"Ray\", \"tracks_total\": 67, \"is_public\": true, \"collaborative\": false, \"snapshot_id\": \"AAAAVVh4N/reGLwCIcv89XjeUDHPPeAQ\"}, {\"id\": \"5nn2ePtd9gYEEDL3XnACCB\", \"uri\": \"spotify:playlist:5nn2ePtd9gYEEDL3XnACCB\", \"name\": \"brazil\", \"description\": \"\", \"owner\": \"Ray\", \"tracks_total\": 62, \"is_public\": true, \"collaborative\": false, \"snapshot_id\": \"AAAAV9cqXazKhP9K8MYZTPAqS7yFP1hq\"}, {\"id\": \"6YAntoKNXuogPKdV26b6XE\", \"uri\": \"spotify:playlist:6YAntoKNXuogPKdV26b6XE\", \"name\": \"CCR\", \"description\": \"\", \"owner\": \"Ray\", \"tracks_total\": 17, \"is_public\": true, \"collaborative\": false, \"snapshot_id\": \"AAAAEw4Fg6uyrf9reMIEnkNruUB2nRbg\"}, {\"id\": \"2VHkZvOMCkLF3B7TsKerKD\", \"uri\": \"spotify:playlist:2VHkZvOMCkLF3B7TsKerKD\", \"name\": \"Chill\", \"description\": \"\", \"owner\": \"Ray\", \"tracks_total\": 53, \"is_public\": true, \"collaborative\": false, \"snapshot_id\": \"AAAAOhAKCSjCgKZOV6OTiSZohe9Isj7C\"}, {\"id\": \"508lbLx9XUkHv5Xb45hxTP\", \"uri\": \"spotify:playlist:508lbLx9XUkHv5Xb45hxTP\", \"name\": \"Classic Rock\", \"description\": \"\", \"owner\": \"Ray\", \"tracks_total\": 306, \"is_public\": true, \"collaborative\": false, \"snapshot_id\": \"AAABRtPd9z/BoPLPCUOJBrUyXci7+r1n\"}, {\"id\": \"7zzDMq1sPwkZPYeqOQJ9qS\", \"uri\": \"spotify:playlist:7zzDMq1sPwkZPYeqOQJ9qS\", \"name\": \"The New Four Seasons - Vivaldi Recomposed\", \"description\": \"\", \"owner\": \"Ray\", \"tracks_total\": 13, \"is_public\": true, \"collaborative\": false, \"snapshot_id\": \"AAAAAsi2q+bxREAMmVWVTWHt10bpB6fa\"}, {\"id\": \"4l8WcaYlPkuVPXVGxMIca3\", \"uri\": \"spotify:playlist:4l8WcaYlPkuVPXVGxMIca3\", \"name\": \"New Study\", \"description\": \"\", \"owner\": \"Ray\", \"tracks_total\": 11, \"is_public\": true, \"collaborative\": false, \"snapshot_id\": \"AAAAEL23paVLvTGrRFTKquh+DNiGzrt7\"}, {\"id\": \"0Wr2Z9vroQ9IXKaokFHldt\", \"uri\": \"spotify:playlist:0Wr2Z9vroQ9IXKaokFHldt\", \"name\": \"Islands - Essential Einaudi (Deluxe Version)\", \"description\": \"\", \"owner\": \"Ray\", \"tracks_total\": 27, \"is_public\": true, \"collaborative\": false, \"snapshot_id\": \"AAAAAmPd/R11xxXnmQE5LY4VHJOmc2Si\"}, {\"id\": \"780Yx65yiaLtBYM76neBYC\", \"uri\": \"spotify:playlist:780Yx65yiaLtBYM76neBYC\", \"name\": \"Gioachino Rossini – Rossini: Overtures\", \"description\": \"\", \"owner\": \"Ray\", \"tracks_total\": 8, \"is_public\": true, \"collaborative\": false, \"snapshot_id\": \"AAAAAk/j3UaxYxxJ2E3uDuvkTHY7CyA3\"}, {\"id\": \"76rUGmzqh1OhyheEOUDYNp\", \"uri\": \"spotify:playlist:76rUGmzqh1OhyheEOUDYNp\", \"name\": \"Frédéric Chopin – Chopin: Nocturnes\", \"description\": \"\", \"owner\": \"Ray\", \"tracks_total\": 19, \"is_public\": true, \"collaborative\": false, \"snapshot_id\": \"AAAAAojQZUHMvW1fqFvaPCPZw651RTcR\"}, {\"id\": \"5qcHJodVJd8AEOT2cCvxEm\", \"uri\": \"spotify:playlist:5qcHJodVJd8AEOT2cCvxEm\", \"name\": \"Frédéric Chopin – Chopin: Nocturnes - Sony Classical Originals 2\", \"description\": \"\", \"owner\": \"Ray\", \"tracks_total\": 19, \"is_public\": true, \"collaborative\": false, \"snapshot_id\": \"AAAAAosFti6TgoD7O3TfPlfPiFc7yKj2\"}, {\"id\": \"7hr9yYAJLXDoJ5sKBhm8Af\", \"uri\": \"spotify:playlist:7hr9yYAJLXDoJ5sKBhm8Af\", \"name\": \"Antonio Vivaldi – Vivaldi: Guitar Concertos\", \"description\": \"\", \"owner\": \"Ray\", \"tracks_total\": 15, \"is_public\": true, \"collaborative\": false, \"snapshot_id\": \"AAAAAq5lTrQQYp3SUTtJrmlIdHbyh5CZ\"}, {\"id\": \"4ruyjAXs6VHU8ZYJqXsUiN\", \"uri\": \"spotify:playlist:4ruyjAXs6VHU8ZYJqXsUiN\", \"name\": \"Sergei Rachmaninoff – Rachmaninoff Plays Rachmaninoff: Concertos Nos. 2 and 3\", \"description\": \"\", \"owner\": \"Ray\", \"tracks_total\": 6, \"is_public\": true, \"collaborative\": false, \"snapshot_id\": \"AAAAAnd4DV7yCmI2VX7w0BB64um7bJem\"}, {\"id\": \"4GYOeGfC7fSephEi3UYh0W\", \"uri\": \"spotify:playlist:4GYOeGfC7fSephEi3UYh0W\", \"name\": \"Erik Satie – Satie: Gymnopédies, Gnossiennes & Other Works\", \"description\": \"\", \"owner\": \"Ray\", \"tracks_total\": 27, \"is_public\": true, \"collaborative\": false, \"snapshot_id\": \"AAAAAnslTVllUSPnBdYh2FMu1DtFAzVs\"}, {\"id\": \"2lop6NfhiYA07UzhWUCyc2\", \"uri\": \"spotify:playlist:2lop6NfhiYA07UzhWUCyc2\", \"name\": \"Classical Masters\", \"description\": \"\", \"owner\": \"Ray\", \"tracks_total\": 29, \"is_public\": true, \"collaborative\": false, \"snapshot_id\": \"AAAAIv8IPFeim0+gMauDLlofBPiDknYa\"}, {\"id\": \"2RUN05cfOlR09kJUvTAEPk\", \"uri\": \"spotify:playlist:2RUN05cfOlR09kJUvTAEPk\", \"name\": \"Evil Woman\", \"description\": \"\", \"owner\": \"Ray\", \"tracks_total\": 11, \"is_public\": true, \"collaborative\": false, \"snapshot_id\": \"AAAADYR9TeZBCOAQTx+qJaL78t/qalhZ\"}, {\"id\": \"3DEKSWlDt8Qors1NpYLXwt\", \"uri\": \"spotify:playlist:3DEKSWlDt8Qors1NpYLXwt\", \"name\": \"Hits 2000\", \"description\": \"\", \"owner\": \"Ray\", \"tracks_total\": 121, \"is_public\": true, \"collaborative\": false, \"snapshot_id\": \"AAAAsUV20d2iEtoXYqXPHsTzbFeyJfVJ\"}, {\"id\": \"7FgZOBK0lhTZz7gMJeV7gs\", \"uri\": \"spotify:playlist:7FgZOBK0lhTZz7gMJeV7gs\", \"name\": \"Insomniac\", \"description\": \"\", \"owner\": \"Ray\", \"tracks_total\": 182, \"is_public\": true, \"collaborative\": false, \"snapshot_id\": \"AAAA4Cmc8w8KuivAczjvfXId2sSkEm/h\"}, {\"id\": \"6DgcAL9oygPekQLDY2mFDq\", \"uri\": \"spotify:playlist:6DgcAL9oygPekQLDY2mFDq\", \"name\": \"Jean-Michel Jarre – Equinoxe\", \"description\": \"\", \"owner\": \"Ray\", \"tracks_total\": 8, \"is_public\": true, \"collaborative\": false, \"snapshot_id\": \"AAAAAh4ckvSMVbth3pWqCQDqlVQwoNXP\"}, {\"id\": \"6X1fib1966dU31uZdTH5p1\", \"uri\": \"spotify:playlist:6X1fib1966dU31uZdTH5p1\", \"name\": \"Misplaced Childhood (2017 Remaster)\", \"description\": \"\", \"owner\": \"Ray\", \"tracks_total\": 10, \"is_public\": true, \"collaborative\": false, \"snapshot_id\": \"AAAAAhEAt8v4hHLreJi8lMDQSYZCqCWP\"}, {\"id\": \"5mxEevqyJ7IbtnmxlRSlaL\", \"uri\": \"spotify:playlist:5mxEevqyJ7IbtnmxlRSlaL\", \"name\": \"My Playlist #36\", \"description\": \"\", \"owner\": \"Ray\", \"tracks_total\": 6692, \"is_public\": true, \"collaborative\": false, \"snapshot_id\": \"AAADk1LjdQ0wPeq1CWGUTeqfa3JKnd68\"}, {\"id\": \"01tk0aitEuGK0ajWCkzdKc\", \"uri\": \"spotify:playlist:01tk0aitEuGK0ajWCkzdKc\", \"name\": \"New Rock\", \"description\": \"\", \"owner\": \"Ray\", \"tracks_total\": 152, \"is_public\": true, \"collaborative\": false, \"snapshot_id\": \"AAAA5GI4hdwwxecjV0XNEPWsmyDWpMlS\"}, {\"id\": \"5Culgc9kaBQ5b9oOHXXhB6\", \"uri\": \"spotify:playlist:5Culgc9kaBQ5b9oOHXXhB6\", \"name\": \"Nothing But the Blues (Live)\", \"description\": \"\", \"owner\": \"Ray\", \"tracks_total\": 17, \"is_public\": true, \"collaborative\": false, \"snapshot_id\": \"AAAAAv6fej6qwqMnU0hD6qABni4cidBa\"}, {\"id\": \"5qYPd1AvydE1Ltz5uGCVVG\", \"uri\": \"spotify:playlist:5qYPd1AvydE1Ltz5uGCVVG\", \"name\": \"Pet Shop Boys\", \"description\": \"\", \"owner\": \"Ray\", \"tracks_total\": 10, \"is_public\": true, \"collaborative\": false, \"snapshot_id\": \"AAAADoUwedXRw8oUAXzutzW3zHOBq8wo\"}, {\"id\": \"43ekrNptzLLkRVGuZWUI83\", \"uri\": \"spotify:playlist:43ekrNptzLLkRVGuZWUI83\", \"name\": \"Pink Floyd\", \"description\": \"\", \"owner\": \"Ray\", \"tracks_total\": 17, \"is_public\": true, \"collaborative\": false, \"snapshot_id\": \"AAAAFMGAETEKmvx5mrnmvpG6qPrTvDoC\"}, {\"id\": \"25odQP99Tc8QbNs8dWWsQV\", \"uri\": \"spotify:playlist:25odQP99Tc8QbNs8dWWsQV\", \"name\": \"Pink Floyd – The Wall\", \"description\": \"\", \"owner\": \"Ray\", \"tracks_total\": 26, \"is_public\": true, \"collaborative\": false, \"snapshot_id\": \"AAAAAqQrbCqR2F+PT4CiRiJ/aI51g4KY\"}, {\"id\": \"6smB0SEs5sX0FOzA4h22Eq\", \"uri\": \"spotify:playlist:6smB0SEs5sX0FOzA4h22Eq\", \"name\": \"Rock\", \"description\": \"\", \"owner\": \"Ray\", \"tracks_total\": 158, \"is_public\": true, \"collaborative\": false, \"snapshot_id\": \"AAAAvFxIe5eBC1t4kNdcuQG1dm3gh28t\"}, {\"id\": \"5q5ZVp6frFMc8y0ivNfGk2\", \"uri\": \"spotify:playlist:5q5ZVp6frFMc8y0ivNfGk2\", \"name\": \"Rock Balads\", \"description\": \"\", \"owner\": \"Ray\", \"tracks_total\": 61, \"is_public\": true, \"collaborative\": false, \"snapshot_id\": \"AAAAQEiJ4p3uZqQFtoa4ptNvTlCgwc0P\"}, {\"id\": \"4Vk5tgx9FcO17ZhdFwxJIp\", \"uri\": \"spotify:playlist:4Vk5tgx9FcO17ZhdFwxJIp\", \"name\": \"Rock Hard\", \"description\": \"\", \"owner\": \"Ray\", \"tracks_total\": 61, \"is_public\": true, \"collaborative\": false, \"snapshot_id\": \"AAAANGCk4sZ4CKBXxt9osRjoOmtDj6jN\"}, {\"id\": \"3n3RLXoDDH7O9XpusnnnvV\", \"uri\": \"spotify:playlist:3n3RLXoDDH7O9XpusnnnvV\", \"name\": \"Rolling Stones\", \"description\": \"\", \"owner\": \"Ray\", \"tracks_total\": 19, \"is_public\": true, \"collaborative\": false, \"snapshot_id\": \"AAAAFfP6U7XcNW87gmiXRr0cdMiFxhY1\"}, {\"id\": \"5XdXmStK6X9ZPstLvDBekC\", \"uri\": \"spotify:playlist:5XdXmStK6X9ZPstLvDBekC\", \"name\": \"Workout\", \"description\": \"\", \"owner\": \"Ray\", \"tracks_total\": 74, \"is_public\": true, \"collaborative\": false, \"snapshot_id\": \"AAABLoYIV4F6lXAO0DJe++nLNS7aVm52\"}]}', name='get_playlists', tool_call_id='call_sZbWE5ONJlQeXOrjoCOXDmQ8')]}"
      ]
     },
     "execution_count": 13,
     "metadata": {},
     "output_type": "execute_result"
    }
   ],
   "source": [
    "import json\n",
    "from langchain_core.messages import ToolMessage\n",
    "\n",
    "response = tool_node.invoke({\"messages\": [ai_tool_call_message]})\n",
    "response\n"
   ]
  },
  {
   "cell_type": "code",
   "execution_count": 14,
   "metadata": {},
   "outputs": [
    {
     "data": {
      "text/plain": [
       "ToolMessage(content='{\"playlists\": [{\"id\": \"2dbYK5b7J0F7IdH5n1TEUK\", \"uri\": \"spotify:playlist:2dbYK5b7J0F7IdH5n1TEUK\", \"name\": \"RPreacher\", \"description\": \"\", \"owner\": \"Ray\", \"tracks_total\": 3, \"is_public\": true, \"collaborative\": false, \"snapshot_id\": \"AAAABG1lhIiRJT/NE9RpP4K6UnmZWixo\"}, {\"id\": \"4ack9YtUhdxRayJDAqlfQe\", \"uri\": \"spotify:playlist:4ack9YtUhdxRayJDAqlfQe\", \"name\": \"RP Bossa Nova Chill \", \"description\": \"\", \"owner\": \"Ray\", \"tracks_total\": 30, \"is_public\": true, \"collaborative\": false, \"snapshot_id\": \"AAAAIThdM9g/YPQwj7nuoHhewWyLoKEi\"}, {\"id\": \"75NW18NgdZuZeifrcjxKlZ\", \"uri\": \"spotify:playlist:75NW18NgdZuZeifrcjxKlZ\", \"name\": \"GVF\", \"description\": \"\", \"owner\": \"Ray\", \"tracks_total\": 11, \"is_public\": true, \"collaborative\": false, \"snapshot_id\": \"AAAADKZNV9h+cfi1PbOi6yjNHMe8mLWC\"}, {\"id\": \"5iyONtUO21O88xw8pBblwh\", \"uri\": \"spotify:playlist:5iyONtUO21O88xw8pBblwh\", \"name\": \"Now And Then\", \"description\": \"\", \"owner\": \"Ray\", \"tracks_total\": 7, \"is_public\": true, \"collaborative\": false, \"snapshot_id\": \"AAAACBkT0vD6HHtLpUO7hEOCzClgABvP\"}, {\"id\": \"4SDSUMg2HJcGFmHlupsU7U\", \"uri\": \"spotify:playlist:4SDSUMg2HJcGFmHlupsU7U\", \"name\": \"Jazz classics\", \"description\": \"\", \"owner\": \"Ray\", \"tracks_total\": 251, \"is_public\": true, \"collaborative\": false, \"snapshot_id\": \"AAAAA8p/xZVmAcTsRpsMlQtRepRFmbfo\"}, {\"id\": \"5fBxLG2wLAPVpx83402rHl\", \"uri\": \"spotify:playlist:5fBxLG2wLAPVpx83402rHl\", \"name\": \"Acdc\", \"description\": \"\", \"owner\": \"Ray\", \"tracks_total\": 26, \"is_public\": true, \"collaborative\": false, \"snapshot_id\": \"AAAAG+HaorntGV3LHad9bEcICDGFD56C\"}, {\"id\": \"17Yxm5hQbkbZwDcCTuiDXC\", \"uri\": \"spotify:playlist:17Yxm5hQbkbZwDcCTuiDXC\", \"name\": \"einaudi\", \"description\": \"\", \"owner\": \"Ray\", \"tracks_total\": 18, \"is_public\": true, \"collaborative\": false, \"snapshot_id\": \"AAAAF9qEdgDunVs0NC8jBUoE/CdMF7jq\"}, {\"id\": \"2X6GccWfIqPWO6VYx405nO\", \"uri\": \"spotify:playlist:2X6GccWfIqPWO6VYx405nO\", \"name\": \"Eric Clapton Blues\", \"description\": \"\", \"owner\": \"Ray\", \"tracks_total\": 24, \"is_public\": true, \"collaborative\": false, \"snapshot_id\": \"AAAAH4q+4xxgg62OXnIHbsNVZPC1LL1Q\"}, {\"id\": \"3smVXe8y8w8nt4lFH0HBkW\", \"uri\": \"spotify:playlist:3smVXe8y8w8nt4lFH0HBkW\", \"name\": \"Alchemy: Dire Straits\", \"description\": \"\", \"owner\": \"Ray\", \"tracks_total\": 10, \"is_public\": true, \"collaborative\": false, \"snapshot_id\": \"AAAAD45w+Oq6Z1xq7iMwF6iFkfWoT87p\"}, {\"id\": \"2ifRZBXnX7UmIPUlGet5WZ\", \"uri\": \"spotify:playlist:2ifRZBXnX7UmIPUlGet5WZ\", \"name\": \"Blues\", \"description\": \"\", \"owner\": \"Ray\", \"tracks_total\": 67, \"is_public\": true, \"collaborative\": false, \"snapshot_id\": \"AAAAVVh4N/reGLwCIcv89XjeUDHPPeAQ\"}, {\"id\": \"5nn2ePtd9gYEEDL3XnACCB\", \"uri\": \"spotify:playlist:5nn2ePtd9gYEEDL3XnACCB\", \"name\": \"brazil\", \"description\": \"\", \"owner\": \"Ray\", \"tracks_total\": 62, \"is_public\": true, \"collaborative\": false, \"snapshot_id\": \"AAAAV9cqXazKhP9K8MYZTPAqS7yFP1hq\"}, {\"id\": \"6YAntoKNXuogPKdV26b6XE\", \"uri\": \"spotify:playlist:6YAntoKNXuogPKdV26b6XE\", \"name\": \"CCR\", \"description\": \"\", \"owner\": \"Ray\", \"tracks_total\": 17, \"is_public\": true, \"collaborative\": false, \"snapshot_id\": \"AAAAEw4Fg6uyrf9reMIEnkNruUB2nRbg\"}, {\"id\": \"2VHkZvOMCkLF3B7TsKerKD\", \"uri\": \"spotify:playlist:2VHkZvOMCkLF3B7TsKerKD\", \"name\": \"Chill\", \"description\": \"\", \"owner\": \"Ray\", \"tracks_total\": 53, \"is_public\": true, \"collaborative\": false, \"snapshot_id\": \"AAAAOhAKCSjCgKZOV6OTiSZohe9Isj7C\"}, {\"id\": \"508lbLx9XUkHv5Xb45hxTP\", \"uri\": \"spotify:playlist:508lbLx9XUkHv5Xb45hxTP\", \"name\": \"Classic Rock\", \"description\": \"\", \"owner\": \"Ray\", \"tracks_total\": 306, \"is_public\": true, \"collaborative\": false, \"snapshot_id\": \"AAABRtPd9z/BoPLPCUOJBrUyXci7+r1n\"}, {\"id\": \"7zzDMq1sPwkZPYeqOQJ9qS\", \"uri\": \"spotify:playlist:7zzDMq1sPwkZPYeqOQJ9qS\", \"name\": \"The New Four Seasons - Vivaldi Recomposed\", \"description\": \"\", \"owner\": \"Ray\", \"tracks_total\": 13, \"is_public\": true, \"collaborative\": false, \"snapshot_id\": \"AAAAAsi2q+bxREAMmVWVTWHt10bpB6fa\"}, {\"id\": \"4l8WcaYlPkuVPXVGxMIca3\", \"uri\": \"spotify:playlist:4l8WcaYlPkuVPXVGxMIca3\", \"name\": \"New Study\", \"description\": \"\", \"owner\": \"Ray\", \"tracks_total\": 11, \"is_public\": true, \"collaborative\": false, \"snapshot_id\": \"AAAAEL23paVLvTGrRFTKquh+DNiGzrt7\"}, {\"id\": \"0Wr2Z9vroQ9IXKaokFHldt\", \"uri\": \"spotify:playlist:0Wr2Z9vroQ9IXKaokFHldt\", \"name\": \"Islands - Essential Einaudi (Deluxe Version)\", \"description\": \"\", \"owner\": \"Ray\", \"tracks_total\": 27, \"is_public\": true, \"collaborative\": false, \"snapshot_id\": \"AAAAAmPd/R11xxXnmQE5LY4VHJOmc2Si\"}, {\"id\": \"780Yx65yiaLtBYM76neBYC\", \"uri\": \"spotify:playlist:780Yx65yiaLtBYM76neBYC\", \"name\": \"Gioachino Rossini – Rossini: Overtures\", \"description\": \"\", \"owner\": \"Ray\", \"tracks_total\": 8, \"is_public\": true, \"collaborative\": false, \"snapshot_id\": \"AAAAAk/j3UaxYxxJ2E3uDuvkTHY7CyA3\"}, {\"id\": \"76rUGmzqh1OhyheEOUDYNp\", \"uri\": \"spotify:playlist:76rUGmzqh1OhyheEOUDYNp\", \"name\": \"Frédéric Chopin – Chopin: Nocturnes\", \"description\": \"\", \"owner\": \"Ray\", \"tracks_total\": 19, \"is_public\": true, \"collaborative\": false, \"snapshot_id\": \"AAAAAojQZUHMvW1fqFvaPCPZw651RTcR\"}, {\"id\": \"5qcHJodVJd8AEOT2cCvxEm\", \"uri\": \"spotify:playlist:5qcHJodVJd8AEOT2cCvxEm\", \"name\": \"Frédéric Chopin – Chopin: Nocturnes - Sony Classical Originals 2\", \"description\": \"\", \"owner\": \"Ray\", \"tracks_total\": 19, \"is_public\": true, \"collaborative\": false, \"snapshot_id\": \"AAAAAosFti6TgoD7O3TfPlfPiFc7yKj2\"}, {\"id\": \"7hr9yYAJLXDoJ5sKBhm8Af\", \"uri\": \"spotify:playlist:7hr9yYAJLXDoJ5sKBhm8Af\", \"name\": \"Antonio Vivaldi – Vivaldi: Guitar Concertos\", \"description\": \"\", \"owner\": \"Ray\", \"tracks_total\": 15, \"is_public\": true, \"collaborative\": false, \"snapshot_id\": \"AAAAAq5lTrQQYp3SUTtJrmlIdHbyh5CZ\"}, {\"id\": \"4ruyjAXs6VHU8ZYJqXsUiN\", \"uri\": \"spotify:playlist:4ruyjAXs6VHU8ZYJqXsUiN\", \"name\": \"Sergei Rachmaninoff – Rachmaninoff Plays Rachmaninoff: Concertos Nos. 2 and 3\", \"description\": \"\", \"owner\": \"Ray\", \"tracks_total\": 6, \"is_public\": true, \"collaborative\": false, \"snapshot_id\": \"AAAAAnd4DV7yCmI2VX7w0BB64um7bJem\"}, {\"id\": \"4GYOeGfC7fSephEi3UYh0W\", \"uri\": \"spotify:playlist:4GYOeGfC7fSephEi3UYh0W\", \"name\": \"Erik Satie – Satie: Gymnopédies, Gnossiennes & Other Works\", \"description\": \"\", \"owner\": \"Ray\", \"tracks_total\": 27, \"is_public\": true, \"collaborative\": false, \"snapshot_id\": \"AAAAAnslTVllUSPnBdYh2FMu1DtFAzVs\"}, {\"id\": \"2lop6NfhiYA07UzhWUCyc2\", \"uri\": \"spotify:playlist:2lop6NfhiYA07UzhWUCyc2\", \"name\": \"Classical Masters\", \"description\": \"\", \"owner\": \"Ray\", \"tracks_total\": 29, \"is_public\": true, \"collaborative\": false, \"snapshot_id\": \"AAAAIv8IPFeim0+gMauDLlofBPiDknYa\"}, {\"id\": \"2RUN05cfOlR09kJUvTAEPk\", \"uri\": \"spotify:playlist:2RUN05cfOlR09kJUvTAEPk\", \"name\": \"Evil Woman\", \"description\": \"\", \"owner\": \"Ray\", \"tracks_total\": 11, \"is_public\": true, \"collaborative\": false, \"snapshot_id\": \"AAAADYR9TeZBCOAQTx+qJaL78t/qalhZ\"}, {\"id\": \"3DEKSWlDt8Qors1NpYLXwt\", \"uri\": \"spotify:playlist:3DEKSWlDt8Qors1NpYLXwt\", \"name\": \"Hits 2000\", \"description\": \"\", \"owner\": \"Ray\", \"tracks_total\": 121, \"is_public\": true, \"collaborative\": false, \"snapshot_id\": \"AAAAsUV20d2iEtoXYqXPHsTzbFeyJfVJ\"}, {\"id\": \"7FgZOBK0lhTZz7gMJeV7gs\", \"uri\": \"spotify:playlist:7FgZOBK0lhTZz7gMJeV7gs\", \"name\": \"Insomniac\", \"description\": \"\", \"owner\": \"Ray\", \"tracks_total\": 182, \"is_public\": true, \"collaborative\": false, \"snapshot_id\": \"AAAA4Cmc8w8KuivAczjvfXId2sSkEm/h\"}, {\"id\": \"6DgcAL9oygPekQLDY2mFDq\", \"uri\": \"spotify:playlist:6DgcAL9oygPekQLDY2mFDq\", \"name\": \"Jean-Michel Jarre – Equinoxe\", \"description\": \"\", \"owner\": \"Ray\", \"tracks_total\": 8, \"is_public\": true, \"collaborative\": false, \"snapshot_id\": \"AAAAAh4ckvSMVbth3pWqCQDqlVQwoNXP\"}, {\"id\": \"6X1fib1966dU31uZdTH5p1\", \"uri\": \"spotify:playlist:6X1fib1966dU31uZdTH5p1\", \"name\": \"Misplaced Childhood (2017 Remaster)\", \"description\": \"\", \"owner\": \"Ray\", \"tracks_total\": 10, \"is_public\": true, \"collaborative\": false, \"snapshot_id\": \"AAAAAhEAt8v4hHLreJi8lMDQSYZCqCWP\"}, {\"id\": \"5mxEevqyJ7IbtnmxlRSlaL\", \"uri\": \"spotify:playlist:5mxEevqyJ7IbtnmxlRSlaL\", \"name\": \"My Playlist #36\", \"description\": \"\", \"owner\": \"Ray\", \"tracks_total\": 6692, \"is_public\": true, \"collaborative\": false, \"snapshot_id\": \"AAADk1LjdQ0wPeq1CWGUTeqfa3JKnd68\"}, {\"id\": \"01tk0aitEuGK0ajWCkzdKc\", \"uri\": \"spotify:playlist:01tk0aitEuGK0ajWCkzdKc\", \"name\": \"New Rock\", \"description\": \"\", \"owner\": \"Ray\", \"tracks_total\": 152, \"is_public\": true, \"collaborative\": false, \"snapshot_id\": \"AAAA5GI4hdwwxecjV0XNEPWsmyDWpMlS\"}, {\"id\": \"5Culgc9kaBQ5b9oOHXXhB6\", \"uri\": \"spotify:playlist:5Culgc9kaBQ5b9oOHXXhB6\", \"name\": \"Nothing But the Blues (Live)\", \"description\": \"\", \"owner\": \"Ray\", \"tracks_total\": 17, \"is_public\": true, \"collaborative\": false, \"snapshot_id\": \"AAAAAv6fej6qwqMnU0hD6qABni4cidBa\"}, {\"id\": \"5qYPd1AvydE1Ltz5uGCVVG\", \"uri\": \"spotify:playlist:5qYPd1AvydE1Ltz5uGCVVG\", \"name\": \"Pet Shop Boys\", \"description\": \"\", \"owner\": \"Ray\", \"tracks_total\": 10, \"is_public\": true, \"collaborative\": false, \"snapshot_id\": \"AAAADoUwedXRw8oUAXzutzW3zHOBq8wo\"}, {\"id\": \"43ekrNptzLLkRVGuZWUI83\", \"uri\": \"spotify:playlist:43ekrNptzLLkRVGuZWUI83\", \"name\": \"Pink Floyd\", \"description\": \"\", \"owner\": \"Ray\", \"tracks_total\": 17, \"is_public\": true, \"collaborative\": false, \"snapshot_id\": \"AAAAFMGAETEKmvx5mrnmvpG6qPrTvDoC\"}, {\"id\": \"25odQP99Tc8QbNs8dWWsQV\", \"uri\": \"spotify:playlist:25odQP99Tc8QbNs8dWWsQV\", \"name\": \"Pink Floyd – The Wall\", \"description\": \"\", \"owner\": \"Ray\", \"tracks_total\": 26, \"is_public\": true, \"collaborative\": false, \"snapshot_id\": \"AAAAAqQrbCqR2F+PT4CiRiJ/aI51g4KY\"}, {\"id\": \"6smB0SEs5sX0FOzA4h22Eq\", \"uri\": \"spotify:playlist:6smB0SEs5sX0FOzA4h22Eq\", \"name\": \"Rock\", \"description\": \"\", \"owner\": \"Ray\", \"tracks_total\": 158, \"is_public\": true, \"collaborative\": false, \"snapshot_id\": \"AAAAvFxIe5eBC1t4kNdcuQG1dm3gh28t\"}, {\"id\": \"5q5ZVp6frFMc8y0ivNfGk2\", \"uri\": \"spotify:playlist:5q5ZVp6frFMc8y0ivNfGk2\", \"name\": \"Rock Balads\", \"description\": \"\", \"owner\": \"Ray\", \"tracks_total\": 61, \"is_public\": true, \"collaborative\": false, \"snapshot_id\": \"AAAAQEiJ4p3uZqQFtoa4ptNvTlCgwc0P\"}, {\"id\": \"4Vk5tgx9FcO17ZhdFwxJIp\", \"uri\": \"spotify:playlist:4Vk5tgx9FcO17ZhdFwxJIp\", \"name\": \"Rock Hard\", \"description\": \"\", \"owner\": \"Ray\", \"tracks_total\": 61, \"is_public\": true, \"collaborative\": false, \"snapshot_id\": \"AAAANGCk4sZ4CKBXxt9osRjoOmtDj6jN\"}, {\"id\": \"3n3RLXoDDH7O9XpusnnnvV\", \"uri\": \"spotify:playlist:3n3RLXoDDH7O9XpusnnnvV\", \"name\": \"Rolling Stones\", \"description\": \"\", \"owner\": \"Ray\", \"tracks_total\": 19, \"is_public\": true, \"collaborative\": false, \"snapshot_id\": \"AAAAFfP6U7XcNW87gmiXRr0cdMiFxhY1\"}, {\"id\": \"5XdXmStK6X9ZPstLvDBekC\", \"uri\": \"spotify:playlist:5XdXmStK6X9ZPstLvDBekC\", \"name\": \"Workout\", \"description\": \"\", \"owner\": \"Ray\", \"tracks_total\": 74, \"is_public\": true, \"collaborative\": false, \"snapshot_id\": \"AAABLoYIV4F6lXAO0DJe++nLNS7aVm52\"}]}', name='get_playlists', tool_call_id='call_sZbWE5ONJlQeXOrjoCOXDmQ8')"
      ]
     },
     "execution_count": 14,
     "metadata": {},
     "output_type": "execute_result"
    }
   ],
   "source": [
    "message_list: List[ToolMessage] = response[\"messages\"]\n",
    "playlist_tool_message: ToolMessage = message_list[0]\n",
    "playlist_tool_message"
   ]
  },
  {
   "cell_type": "code",
   "execution_count": 15,
   "metadata": {},
   "outputs": [
    {
     "data": {
      "text/plain": [
       "{'playlists': [{'id': '2dbYK5b7J0F7IdH5n1TEUK',\n",
       "   'uri': 'spotify:playlist:2dbYK5b7J0F7IdH5n1TEUK',\n",
       "   'name': 'RPreacher',\n",
       "   'description': '',\n",
       "   'owner': 'Ray',\n",
       "   'tracks_total': 3,\n",
       "   'is_public': True,\n",
       "   'collaborative': False,\n",
       "   'snapshot_id': 'AAAABG1lhIiRJT/NE9RpP4K6UnmZWixo'},\n",
       "  {'id': '4ack9YtUhdxRayJDAqlfQe',\n",
       "   'uri': 'spotify:playlist:4ack9YtUhdxRayJDAqlfQe',\n",
       "   'name': 'RP Bossa Nova Chill ',\n",
       "   'description': '',\n",
       "   'owner': 'Ray',\n",
       "   'tracks_total': 30,\n",
       "   'is_public': True,\n",
       "   'collaborative': False,\n",
       "   'snapshot_id': 'AAAAIThdM9g/YPQwj7nuoHhewWyLoKEi'},\n",
       "  {'id': '75NW18NgdZuZeifrcjxKlZ',\n",
       "   'uri': 'spotify:playlist:75NW18NgdZuZeifrcjxKlZ',\n",
       "   'name': 'GVF',\n",
       "   'description': '',\n",
       "   'owner': 'Ray',\n",
       "   'tracks_total': 11,\n",
       "   'is_public': True,\n",
       "   'collaborative': False,\n",
       "   'snapshot_id': 'AAAADKZNV9h+cfi1PbOi6yjNHMe8mLWC'},\n",
       "  {'id': '5iyONtUO21O88xw8pBblwh',\n",
       "   'uri': 'spotify:playlist:5iyONtUO21O88xw8pBblwh',\n",
       "   'name': 'Now And Then',\n",
       "   'description': '',\n",
       "   'owner': 'Ray',\n",
       "   'tracks_total': 7,\n",
       "   'is_public': True,\n",
       "   'collaborative': False,\n",
       "   'snapshot_id': 'AAAACBkT0vD6HHtLpUO7hEOCzClgABvP'},\n",
       "  {'id': '4SDSUMg2HJcGFmHlupsU7U',\n",
       "   'uri': 'spotify:playlist:4SDSUMg2HJcGFmHlupsU7U',\n",
       "   'name': 'Jazz classics',\n",
       "   'description': '',\n",
       "   'owner': 'Ray',\n",
       "   'tracks_total': 251,\n",
       "   'is_public': True,\n",
       "   'collaborative': False,\n",
       "   'snapshot_id': 'AAAAA8p/xZVmAcTsRpsMlQtRepRFmbfo'},\n",
       "  {'id': '5fBxLG2wLAPVpx83402rHl',\n",
       "   'uri': 'spotify:playlist:5fBxLG2wLAPVpx83402rHl',\n",
       "   'name': 'Acdc',\n",
       "   'description': '',\n",
       "   'owner': 'Ray',\n",
       "   'tracks_total': 26,\n",
       "   'is_public': True,\n",
       "   'collaborative': False,\n",
       "   'snapshot_id': 'AAAAG+HaorntGV3LHad9bEcICDGFD56C'},\n",
       "  {'id': '17Yxm5hQbkbZwDcCTuiDXC',\n",
       "   'uri': 'spotify:playlist:17Yxm5hQbkbZwDcCTuiDXC',\n",
       "   'name': 'einaudi',\n",
       "   'description': '',\n",
       "   'owner': 'Ray',\n",
       "   'tracks_total': 18,\n",
       "   'is_public': True,\n",
       "   'collaborative': False,\n",
       "   'snapshot_id': 'AAAAF9qEdgDunVs0NC8jBUoE/CdMF7jq'},\n",
       "  {'id': '2X6GccWfIqPWO6VYx405nO',\n",
       "   'uri': 'spotify:playlist:2X6GccWfIqPWO6VYx405nO',\n",
       "   'name': 'Eric Clapton Blues',\n",
       "   'description': '',\n",
       "   'owner': 'Ray',\n",
       "   'tracks_total': 24,\n",
       "   'is_public': True,\n",
       "   'collaborative': False,\n",
       "   'snapshot_id': 'AAAAH4q+4xxgg62OXnIHbsNVZPC1LL1Q'},\n",
       "  {'id': '3smVXe8y8w8nt4lFH0HBkW',\n",
       "   'uri': 'spotify:playlist:3smVXe8y8w8nt4lFH0HBkW',\n",
       "   'name': 'Alchemy: Dire Straits',\n",
       "   'description': '',\n",
       "   'owner': 'Ray',\n",
       "   'tracks_total': 10,\n",
       "   'is_public': True,\n",
       "   'collaborative': False,\n",
       "   'snapshot_id': 'AAAAD45w+Oq6Z1xq7iMwF6iFkfWoT87p'},\n",
       "  {'id': '2ifRZBXnX7UmIPUlGet5WZ',\n",
       "   'uri': 'spotify:playlist:2ifRZBXnX7UmIPUlGet5WZ',\n",
       "   'name': 'Blues',\n",
       "   'description': '',\n",
       "   'owner': 'Ray',\n",
       "   'tracks_total': 67,\n",
       "   'is_public': True,\n",
       "   'collaborative': False,\n",
       "   'snapshot_id': 'AAAAVVh4N/reGLwCIcv89XjeUDHPPeAQ'},\n",
       "  {'id': '5nn2ePtd9gYEEDL3XnACCB',\n",
       "   'uri': 'spotify:playlist:5nn2ePtd9gYEEDL3XnACCB',\n",
       "   'name': 'brazil',\n",
       "   'description': '',\n",
       "   'owner': 'Ray',\n",
       "   'tracks_total': 62,\n",
       "   'is_public': True,\n",
       "   'collaborative': False,\n",
       "   'snapshot_id': 'AAAAV9cqXazKhP9K8MYZTPAqS7yFP1hq'},\n",
       "  {'id': '6YAntoKNXuogPKdV26b6XE',\n",
       "   'uri': 'spotify:playlist:6YAntoKNXuogPKdV26b6XE',\n",
       "   'name': 'CCR',\n",
       "   'description': '',\n",
       "   'owner': 'Ray',\n",
       "   'tracks_total': 17,\n",
       "   'is_public': True,\n",
       "   'collaborative': False,\n",
       "   'snapshot_id': 'AAAAEw4Fg6uyrf9reMIEnkNruUB2nRbg'},\n",
       "  {'id': '2VHkZvOMCkLF3B7TsKerKD',\n",
       "   'uri': 'spotify:playlist:2VHkZvOMCkLF3B7TsKerKD',\n",
       "   'name': 'Chill',\n",
       "   'description': '',\n",
       "   'owner': 'Ray',\n",
       "   'tracks_total': 53,\n",
       "   'is_public': True,\n",
       "   'collaborative': False,\n",
       "   'snapshot_id': 'AAAAOhAKCSjCgKZOV6OTiSZohe9Isj7C'},\n",
       "  {'id': '508lbLx9XUkHv5Xb45hxTP',\n",
       "   'uri': 'spotify:playlist:508lbLx9XUkHv5Xb45hxTP',\n",
       "   'name': 'Classic Rock',\n",
       "   'description': '',\n",
       "   'owner': 'Ray',\n",
       "   'tracks_total': 306,\n",
       "   'is_public': True,\n",
       "   'collaborative': False,\n",
       "   'snapshot_id': 'AAABRtPd9z/BoPLPCUOJBrUyXci7+r1n'},\n",
       "  {'id': '7zzDMq1sPwkZPYeqOQJ9qS',\n",
       "   'uri': 'spotify:playlist:7zzDMq1sPwkZPYeqOQJ9qS',\n",
       "   'name': 'The New Four Seasons - Vivaldi Recomposed',\n",
       "   'description': '',\n",
       "   'owner': 'Ray',\n",
       "   'tracks_total': 13,\n",
       "   'is_public': True,\n",
       "   'collaborative': False,\n",
       "   'snapshot_id': 'AAAAAsi2q+bxREAMmVWVTWHt10bpB6fa'},\n",
       "  {'id': '4l8WcaYlPkuVPXVGxMIca3',\n",
       "   'uri': 'spotify:playlist:4l8WcaYlPkuVPXVGxMIca3',\n",
       "   'name': 'New Study',\n",
       "   'description': '',\n",
       "   'owner': 'Ray',\n",
       "   'tracks_total': 11,\n",
       "   'is_public': True,\n",
       "   'collaborative': False,\n",
       "   'snapshot_id': 'AAAAEL23paVLvTGrRFTKquh+DNiGzrt7'},\n",
       "  {'id': '0Wr2Z9vroQ9IXKaokFHldt',\n",
       "   'uri': 'spotify:playlist:0Wr2Z9vroQ9IXKaokFHldt',\n",
       "   'name': 'Islands - Essential Einaudi (Deluxe Version)',\n",
       "   'description': '',\n",
       "   'owner': 'Ray',\n",
       "   'tracks_total': 27,\n",
       "   'is_public': True,\n",
       "   'collaborative': False,\n",
       "   'snapshot_id': 'AAAAAmPd/R11xxXnmQE5LY4VHJOmc2Si'},\n",
       "  {'id': '780Yx65yiaLtBYM76neBYC',\n",
       "   'uri': 'spotify:playlist:780Yx65yiaLtBYM76neBYC',\n",
       "   'name': 'Gioachino Rossini – Rossini: Overtures',\n",
       "   'description': '',\n",
       "   'owner': 'Ray',\n",
       "   'tracks_total': 8,\n",
       "   'is_public': True,\n",
       "   'collaborative': False,\n",
       "   'snapshot_id': 'AAAAAk/j3UaxYxxJ2E3uDuvkTHY7CyA3'},\n",
       "  {'id': '76rUGmzqh1OhyheEOUDYNp',\n",
       "   'uri': 'spotify:playlist:76rUGmzqh1OhyheEOUDYNp',\n",
       "   'name': 'Frédéric Chopin – Chopin: Nocturnes',\n",
       "   'description': '',\n",
       "   'owner': 'Ray',\n",
       "   'tracks_total': 19,\n",
       "   'is_public': True,\n",
       "   'collaborative': False,\n",
       "   'snapshot_id': 'AAAAAojQZUHMvW1fqFvaPCPZw651RTcR'},\n",
       "  {'id': '5qcHJodVJd8AEOT2cCvxEm',\n",
       "   'uri': 'spotify:playlist:5qcHJodVJd8AEOT2cCvxEm',\n",
       "   'name': 'Frédéric Chopin – Chopin: Nocturnes - Sony Classical Originals 2',\n",
       "   'description': '',\n",
       "   'owner': 'Ray',\n",
       "   'tracks_total': 19,\n",
       "   'is_public': True,\n",
       "   'collaborative': False,\n",
       "   'snapshot_id': 'AAAAAosFti6TgoD7O3TfPlfPiFc7yKj2'},\n",
       "  {'id': '7hr9yYAJLXDoJ5sKBhm8Af',\n",
       "   'uri': 'spotify:playlist:7hr9yYAJLXDoJ5sKBhm8Af',\n",
       "   'name': 'Antonio Vivaldi – Vivaldi: Guitar Concertos',\n",
       "   'description': '',\n",
       "   'owner': 'Ray',\n",
       "   'tracks_total': 15,\n",
       "   'is_public': True,\n",
       "   'collaborative': False,\n",
       "   'snapshot_id': 'AAAAAq5lTrQQYp3SUTtJrmlIdHbyh5CZ'},\n",
       "  {'id': '4ruyjAXs6VHU8ZYJqXsUiN',\n",
       "   'uri': 'spotify:playlist:4ruyjAXs6VHU8ZYJqXsUiN',\n",
       "   'name': 'Sergei Rachmaninoff – Rachmaninoff Plays Rachmaninoff: Concertos Nos. 2 and 3',\n",
       "   'description': '',\n",
       "   'owner': 'Ray',\n",
       "   'tracks_total': 6,\n",
       "   'is_public': True,\n",
       "   'collaborative': False,\n",
       "   'snapshot_id': 'AAAAAnd4DV7yCmI2VX7w0BB64um7bJem'},\n",
       "  {'id': '4GYOeGfC7fSephEi3UYh0W',\n",
       "   'uri': 'spotify:playlist:4GYOeGfC7fSephEi3UYh0W',\n",
       "   'name': 'Erik Satie – Satie: Gymnopédies, Gnossiennes & Other Works',\n",
       "   'description': '',\n",
       "   'owner': 'Ray',\n",
       "   'tracks_total': 27,\n",
       "   'is_public': True,\n",
       "   'collaborative': False,\n",
       "   'snapshot_id': 'AAAAAnslTVllUSPnBdYh2FMu1DtFAzVs'},\n",
       "  {'id': '2lop6NfhiYA07UzhWUCyc2',\n",
       "   'uri': 'spotify:playlist:2lop6NfhiYA07UzhWUCyc2',\n",
       "   'name': 'Classical Masters',\n",
       "   'description': '',\n",
       "   'owner': 'Ray',\n",
       "   'tracks_total': 29,\n",
       "   'is_public': True,\n",
       "   'collaborative': False,\n",
       "   'snapshot_id': 'AAAAIv8IPFeim0+gMauDLlofBPiDknYa'},\n",
       "  {'id': '2RUN05cfOlR09kJUvTAEPk',\n",
       "   'uri': 'spotify:playlist:2RUN05cfOlR09kJUvTAEPk',\n",
       "   'name': 'Evil Woman',\n",
       "   'description': '',\n",
       "   'owner': 'Ray',\n",
       "   'tracks_total': 11,\n",
       "   'is_public': True,\n",
       "   'collaborative': False,\n",
       "   'snapshot_id': 'AAAADYR9TeZBCOAQTx+qJaL78t/qalhZ'},\n",
       "  {'id': '3DEKSWlDt8Qors1NpYLXwt',\n",
       "   'uri': 'spotify:playlist:3DEKSWlDt8Qors1NpYLXwt',\n",
       "   'name': 'Hits 2000',\n",
       "   'description': '',\n",
       "   'owner': 'Ray',\n",
       "   'tracks_total': 121,\n",
       "   'is_public': True,\n",
       "   'collaborative': False,\n",
       "   'snapshot_id': 'AAAAsUV20d2iEtoXYqXPHsTzbFeyJfVJ'},\n",
       "  {'id': '7FgZOBK0lhTZz7gMJeV7gs',\n",
       "   'uri': 'spotify:playlist:7FgZOBK0lhTZz7gMJeV7gs',\n",
       "   'name': 'Insomniac',\n",
       "   'description': '',\n",
       "   'owner': 'Ray',\n",
       "   'tracks_total': 182,\n",
       "   'is_public': True,\n",
       "   'collaborative': False,\n",
       "   'snapshot_id': 'AAAA4Cmc8w8KuivAczjvfXId2sSkEm/h'},\n",
       "  {'id': '6DgcAL9oygPekQLDY2mFDq',\n",
       "   'uri': 'spotify:playlist:6DgcAL9oygPekQLDY2mFDq',\n",
       "   'name': 'Jean-Michel Jarre – Equinoxe',\n",
       "   'description': '',\n",
       "   'owner': 'Ray',\n",
       "   'tracks_total': 8,\n",
       "   'is_public': True,\n",
       "   'collaborative': False,\n",
       "   'snapshot_id': 'AAAAAh4ckvSMVbth3pWqCQDqlVQwoNXP'},\n",
       "  {'id': '6X1fib1966dU31uZdTH5p1',\n",
       "   'uri': 'spotify:playlist:6X1fib1966dU31uZdTH5p1',\n",
       "   'name': 'Misplaced Childhood (2017 Remaster)',\n",
       "   'description': '',\n",
       "   'owner': 'Ray',\n",
       "   'tracks_total': 10,\n",
       "   'is_public': True,\n",
       "   'collaborative': False,\n",
       "   'snapshot_id': 'AAAAAhEAt8v4hHLreJi8lMDQSYZCqCWP'},\n",
       "  {'id': '5mxEevqyJ7IbtnmxlRSlaL',\n",
       "   'uri': 'spotify:playlist:5mxEevqyJ7IbtnmxlRSlaL',\n",
       "   'name': 'My Playlist #36',\n",
       "   'description': '',\n",
       "   'owner': 'Ray',\n",
       "   'tracks_total': 6692,\n",
       "   'is_public': True,\n",
       "   'collaborative': False,\n",
       "   'snapshot_id': 'AAADk1LjdQ0wPeq1CWGUTeqfa3JKnd68'},\n",
       "  {'id': '01tk0aitEuGK0ajWCkzdKc',\n",
       "   'uri': 'spotify:playlist:01tk0aitEuGK0ajWCkzdKc',\n",
       "   'name': 'New Rock',\n",
       "   'description': '',\n",
       "   'owner': 'Ray',\n",
       "   'tracks_total': 152,\n",
       "   'is_public': True,\n",
       "   'collaborative': False,\n",
       "   'snapshot_id': 'AAAA5GI4hdwwxecjV0XNEPWsmyDWpMlS'},\n",
       "  {'id': '5Culgc9kaBQ5b9oOHXXhB6',\n",
       "   'uri': 'spotify:playlist:5Culgc9kaBQ5b9oOHXXhB6',\n",
       "   'name': 'Nothing But the Blues (Live)',\n",
       "   'description': '',\n",
       "   'owner': 'Ray',\n",
       "   'tracks_total': 17,\n",
       "   'is_public': True,\n",
       "   'collaborative': False,\n",
       "   'snapshot_id': 'AAAAAv6fej6qwqMnU0hD6qABni4cidBa'},\n",
       "  {'id': '5qYPd1AvydE1Ltz5uGCVVG',\n",
       "   'uri': 'spotify:playlist:5qYPd1AvydE1Ltz5uGCVVG',\n",
       "   'name': 'Pet Shop Boys',\n",
       "   'description': '',\n",
       "   'owner': 'Ray',\n",
       "   'tracks_total': 10,\n",
       "   'is_public': True,\n",
       "   'collaborative': False,\n",
       "   'snapshot_id': 'AAAADoUwedXRw8oUAXzutzW3zHOBq8wo'},\n",
       "  {'id': '43ekrNptzLLkRVGuZWUI83',\n",
       "   'uri': 'spotify:playlist:43ekrNptzLLkRVGuZWUI83',\n",
       "   'name': 'Pink Floyd',\n",
       "   'description': '',\n",
       "   'owner': 'Ray',\n",
       "   'tracks_total': 17,\n",
       "   'is_public': True,\n",
       "   'collaborative': False,\n",
       "   'snapshot_id': 'AAAAFMGAETEKmvx5mrnmvpG6qPrTvDoC'},\n",
       "  {'id': '25odQP99Tc8QbNs8dWWsQV',\n",
       "   'uri': 'spotify:playlist:25odQP99Tc8QbNs8dWWsQV',\n",
       "   'name': 'Pink Floyd – The Wall',\n",
       "   'description': '',\n",
       "   'owner': 'Ray',\n",
       "   'tracks_total': 26,\n",
       "   'is_public': True,\n",
       "   'collaborative': False,\n",
       "   'snapshot_id': 'AAAAAqQrbCqR2F+PT4CiRiJ/aI51g4KY'},\n",
       "  {'id': '6smB0SEs5sX0FOzA4h22Eq',\n",
       "   'uri': 'spotify:playlist:6smB0SEs5sX0FOzA4h22Eq',\n",
       "   'name': 'Rock',\n",
       "   'description': '',\n",
       "   'owner': 'Ray',\n",
       "   'tracks_total': 158,\n",
       "   'is_public': True,\n",
       "   'collaborative': False,\n",
       "   'snapshot_id': 'AAAAvFxIe5eBC1t4kNdcuQG1dm3gh28t'},\n",
       "  {'id': '5q5ZVp6frFMc8y0ivNfGk2',\n",
       "   'uri': 'spotify:playlist:5q5ZVp6frFMc8y0ivNfGk2',\n",
       "   'name': 'Rock Balads',\n",
       "   'description': '',\n",
       "   'owner': 'Ray',\n",
       "   'tracks_total': 61,\n",
       "   'is_public': True,\n",
       "   'collaborative': False,\n",
       "   'snapshot_id': 'AAAAQEiJ4p3uZqQFtoa4ptNvTlCgwc0P'},\n",
       "  {'id': '4Vk5tgx9FcO17ZhdFwxJIp',\n",
       "   'uri': 'spotify:playlist:4Vk5tgx9FcO17ZhdFwxJIp',\n",
       "   'name': 'Rock Hard',\n",
       "   'description': '',\n",
       "   'owner': 'Ray',\n",
       "   'tracks_total': 61,\n",
       "   'is_public': True,\n",
       "   'collaborative': False,\n",
       "   'snapshot_id': 'AAAANGCk4sZ4CKBXxt9osRjoOmtDj6jN'},\n",
       "  {'id': '3n3RLXoDDH7O9XpusnnnvV',\n",
       "   'uri': 'spotify:playlist:3n3RLXoDDH7O9XpusnnnvV',\n",
       "   'name': 'Rolling Stones',\n",
       "   'description': '',\n",
       "   'owner': 'Ray',\n",
       "   'tracks_total': 19,\n",
       "   'is_public': True,\n",
       "   'collaborative': False,\n",
       "   'snapshot_id': 'AAAAFfP6U7XcNW87gmiXRr0cdMiFxhY1'},\n",
       "  {'id': '5XdXmStK6X9ZPstLvDBekC',\n",
       "   'uri': 'spotify:playlist:5XdXmStK6X9ZPstLvDBekC',\n",
       "   'name': 'Workout',\n",
       "   'description': '',\n",
       "   'owner': 'Ray',\n",
       "   'tracks_total': 74,\n",
       "   'is_public': True,\n",
       "   'collaborative': False,\n",
       "   'snapshot_id': 'AAABLoYIV4F6lXAO0DJe++nLNS7aVm52'}]}"
      ]
     },
     "execution_count": 15,
     "metadata": {},
     "output_type": "execute_result"
    }
   ],
   "source": [
    "json.loads(playlist_tool_message.content)"
   ]
  },
  {
   "cell_type": "code",
   "execution_count": 16,
   "metadata": {},
   "outputs": [
    {
     "data": {
      "text/plain": [
       "ToolMessage(content='{\"playlists\": [{\"id\": \"2dbYK5b7J0F7IdH5n1TEUK\", \"uri\": \"spotify:playlist:2dbYK5b7J0F7IdH5n1TEUK\", \"name\": \"RPreacher\", \"description\": \"\", \"owner\": \"Ray\", \"tracks_total\": 3, \"is_public\": true, \"collaborative\": false, \"snapshot_id\": \"AAAABG1lhIiRJT/NE9RpP4K6UnmZWixo\"}, {\"id\": \"4ack9YtUhdxRayJDAqlfQe\", \"uri\": \"spotify:playlist:4ack9YtUhdxRayJDAqlfQe\", \"name\": \"RP Bossa Nova Chill \", \"description\": \"\", \"owner\": \"Ray\", \"tracks_total\": 30, \"is_public\": true, \"collaborative\": false, \"snapshot_id\": \"AAAAIThdM9g/YPQwj7nuoHhewWyLoKEi\"}, {\"id\": \"75NW18NgdZuZeifrcjxKlZ\", \"uri\": \"spotify:playlist:75NW18NgdZuZeifrcjxKlZ\", \"name\": \"GVF\", \"description\": \"\", \"owner\": \"Ray\", \"tracks_total\": 11, \"is_public\": true, \"collaborative\": false, \"snapshot_id\": \"AAAADKZNV9h+cfi1PbOi6yjNHMe8mLWC\"}, {\"id\": \"5iyONtUO21O88xw8pBblwh\", \"uri\": \"spotify:playlist:5iyONtUO21O88xw8pBblwh\", \"name\": \"Now And Then\", \"description\": \"\", \"owner\": \"Ray\", \"tracks_total\": 7, \"is_public\": true, \"collaborative\": false, \"snapshot_id\": \"AAAACBkT0vD6HHtLpUO7hEOCzClgABvP\"}, {\"id\": \"4SDSUMg2HJcGFmHlupsU7U\", \"uri\": \"spotify:playlist:4SDSUMg2HJcGFmHlupsU7U\", \"name\": \"Jazz classics\", \"description\": \"\", \"owner\": \"Ray\", \"tracks_total\": 251, \"is_public\": true, \"collaborative\": false, \"snapshot_id\": \"AAAAA8p/xZVmAcTsRpsMlQtRepRFmbfo\"}, {\"id\": \"5fBxLG2wLAPVpx83402rHl\", \"uri\": \"spotify:playlist:5fBxLG2wLAPVpx83402rHl\", \"name\": \"Acdc\", \"description\": \"\", \"owner\": \"Ray\", \"tracks_total\": 26, \"is_public\": true, \"collaborative\": false, \"snapshot_id\": \"AAAAG+HaorntGV3LHad9bEcICDGFD56C\"}, {\"id\": \"17Yxm5hQbkbZwDcCTuiDXC\", \"uri\": \"spotify:playlist:17Yxm5hQbkbZwDcCTuiDXC\", \"name\": \"einaudi\", \"description\": \"\", \"owner\": \"Ray\", \"tracks_total\": 18, \"is_public\": true, \"collaborative\": false, \"snapshot_id\": \"AAAAF9qEdgDunVs0NC8jBUoE/CdMF7jq\"}, {\"id\": \"2X6GccWfIqPWO6VYx405nO\", \"uri\": \"spotify:playlist:2X6GccWfIqPWO6VYx405nO\", \"name\": \"Eric Clapton Blues\", \"description\": \"\", \"owner\": \"Ray\", \"tracks_total\": 24, \"is_public\": true, \"collaborative\": false, \"snapshot_id\": \"AAAAH4q+4xxgg62OXnIHbsNVZPC1LL1Q\"}, {\"id\": \"3smVXe8y8w8nt4lFH0HBkW\", \"uri\": \"spotify:playlist:3smVXe8y8w8nt4lFH0HBkW\", \"name\": \"Alchemy: Dire Straits\", \"description\": \"\", \"owner\": \"Ray\", \"tracks_total\": 10, \"is_public\": true, \"collaborative\": false, \"snapshot_id\": \"AAAAD45w+Oq6Z1xq7iMwF6iFkfWoT87p\"}, {\"id\": \"2ifRZBXnX7UmIPUlGet5WZ\", \"uri\": \"spotify:playlist:2ifRZBXnX7UmIPUlGet5WZ\", \"name\": \"Blues\", \"description\": \"\", \"owner\": \"Ray\", \"tracks_total\": 67, \"is_public\": true, \"collaborative\": false, \"snapshot_id\": \"AAAAVVh4N/reGLwCIcv89XjeUDHPPeAQ\"}, {\"id\": \"5nn2ePtd9gYEEDL3XnACCB\", \"uri\": \"spotify:playlist:5nn2ePtd9gYEEDL3XnACCB\", \"name\": \"brazil\", \"description\": \"\", \"owner\": \"Ray\", \"tracks_total\": 62, \"is_public\": true, \"collaborative\": false, \"snapshot_id\": \"AAAAV9cqXazKhP9K8MYZTPAqS7yFP1hq\"}, {\"id\": \"6YAntoKNXuogPKdV26b6XE\", \"uri\": \"spotify:playlist:6YAntoKNXuogPKdV26b6XE\", \"name\": \"CCR\", \"description\": \"\", \"owner\": \"Ray\", \"tracks_total\": 17, \"is_public\": true, \"collaborative\": false, \"snapshot_id\": \"AAAAEw4Fg6uyrf9reMIEnkNruUB2nRbg\"}, {\"id\": \"2VHkZvOMCkLF3B7TsKerKD\", \"uri\": \"spotify:playlist:2VHkZvOMCkLF3B7TsKerKD\", \"name\": \"Chill\", \"description\": \"\", \"owner\": \"Ray\", \"tracks_total\": 53, \"is_public\": true, \"collaborative\": false, \"snapshot_id\": \"AAAAOhAKCSjCgKZOV6OTiSZohe9Isj7C\"}, {\"id\": \"508lbLx9XUkHv5Xb45hxTP\", \"uri\": \"spotify:playlist:508lbLx9XUkHv5Xb45hxTP\", \"name\": \"Classic Rock\", \"description\": \"\", \"owner\": \"Ray\", \"tracks_total\": 306, \"is_public\": true, \"collaborative\": false, \"snapshot_id\": \"AAABRtPd9z/BoPLPCUOJBrUyXci7+r1n\"}, {\"id\": \"7zzDMq1sPwkZPYeqOQJ9qS\", \"uri\": \"spotify:playlist:7zzDMq1sPwkZPYeqOQJ9qS\", \"name\": \"The New Four Seasons - Vivaldi Recomposed\", \"description\": \"\", \"owner\": \"Ray\", \"tracks_total\": 13, \"is_public\": true, \"collaborative\": false, \"snapshot_id\": \"AAAAAsi2q+bxREAMmVWVTWHt10bpB6fa\"}, {\"id\": \"4l8WcaYlPkuVPXVGxMIca3\", \"uri\": \"spotify:playlist:4l8WcaYlPkuVPXVGxMIca3\", \"name\": \"New Study\", \"description\": \"\", \"owner\": \"Ray\", \"tracks_total\": 11, \"is_public\": true, \"collaborative\": false, \"snapshot_id\": \"AAAAEL23paVLvTGrRFTKquh+DNiGzrt7\"}, {\"id\": \"0Wr2Z9vroQ9IXKaokFHldt\", \"uri\": \"spotify:playlist:0Wr2Z9vroQ9IXKaokFHldt\", \"name\": \"Islands - Essential Einaudi (Deluxe Version)\", \"description\": \"\", \"owner\": \"Ray\", \"tracks_total\": 27, \"is_public\": true, \"collaborative\": false, \"snapshot_id\": \"AAAAAmPd/R11xxXnmQE5LY4VHJOmc2Si\"}, {\"id\": \"780Yx65yiaLtBYM76neBYC\", \"uri\": \"spotify:playlist:780Yx65yiaLtBYM76neBYC\", \"name\": \"Gioachino Rossini – Rossini: Overtures\", \"description\": \"\", \"owner\": \"Ray\", \"tracks_total\": 8, \"is_public\": true, \"collaborative\": false, \"snapshot_id\": \"AAAAAk/j3UaxYxxJ2E3uDuvkTHY7CyA3\"}, {\"id\": \"76rUGmzqh1OhyheEOUDYNp\", \"uri\": \"spotify:playlist:76rUGmzqh1OhyheEOUDYNp\", \"name\": \"Frédéric Chopin – Chopin: Nocturnes\", \"description\": \"\", \"owner\": \"Ray\", \"tracks_total\": 19, \"is_public\": true, \"collaborative\": false, \"snapshot_id\": \"AAAAAojQZUHMvW1fqFvaPCPZw651RTcR\"}, {\"id\": \"5qcHJodVJd8AEOT2cCvxEm\", \"uri\": \"spotify:playlist:5qcHJodVJd8AEOT2cCvxEm\", \"name\": \"Frédéric Chopin – Chopin: Nocturnes - Sony Classical Originals 2\", \"description\": \"\", \"owner\": \"Ray\", \"tracks_total\": 19, \"is_public\": true, \"collaborative\": false, \"snapshot_id\": \"AAAAAosFti6TgoD7O3TfPlfPiFc7yKj2\"}, {\"id\": \"7hr9yYAJLXDoJ5sKBhm8Af\", \"uri\": \"spotify:playlist:7hr9yYAJLXDoJ5sKBhm8Af\", \"name\": \"Antonio Vivaldi – Vivaldi: Guitar Concertos\", \"description\": \"\", \"owner\": \"Ray\", \"tracks_total\": 15, \"is_public\": true, \"collaborative\": false, \"snapshot_id\": \"AAAAAq5lTrQQYp3SUTtJrmlIdHbyh5CZ\"}, {\"id\": \"4ruyjAXs6VHU8ZYJqXsUiN\", \"uri\": \"spotify:playlist:4ruyjAXs6VHU8ZYJqXsUiN\", \"name\": \"Sergei Rachmaninoff – Rachmaninoff Plays Rachmaninoff: Concertos Nos. 2 and 3\", \"description\": \"\", \"owner\": \"Ray\", \"tracks_total\": 6, \"is_public\": true, \"collaborative\": false, \"snapshot_id\": \"AAAAAnd4DV7yCmI2VX7w0BB64um7bJem\"}, {\"id\": \"4GYOeGfC7fSephEi3UYh0W\", \"uri\": \"spotify:playlist:4GYOeGfC7fSephEi3UYh0W\", \"name\": \"Erik Satie – Satie: Gymnopédies, Gnossiennes & Other Works\", \"description\": \"\", \"owner\": \"Ray\", \"tracks_total\": 27, \"is_public\": true, \"collaborative\": false, \"snapshot_id\": \"AAAAAnslTVllUSPnBdYh2FMu1DtFAzVs\"}, {\"id\": \"2lop6NfhiYA07UzhWUCyc2\", \"uri\": \"spotify:playlist:2lop6NfhiYA07UzhWUCyc2\", \"name\": \"Classical Masters\", \"description\": \"\", \"owner\": \"Ray\", \"tracks_total\": 29, \"is_public\": true, \"collaborative\": false, \"snapshot_id\": \"AAAAIv8IPFeim0+gMauDLlofBPiDknYa\"}, {\"id\": \"2RUN05cfOlR09kJUvTAEPk\", \"uri\": \"spotify:playlist:2RUN05cfOlR09kJUvTAEPk\", \"name\": \"Evil Woman\", \"description\": \"\", \"owner\": \"Ray\", \"tracks_total\": 11, \"is_public\": true, \"collaborative\": false, \"snapshot_id\": \"AAAADYR9TeZBCOAQTx+qJaL78t/qalhZ\"}, {\"id\": \"3DEKSWlDt8Qors1NpYLXwt\", \"uri\": \"spotify:playlist:3DEKSWlDt8Qors1NpYLXwt\", \"name\": \"Hits 2000\", \"description\": \"\", \"owner\": \"Ray\", \"tracks_total\": 121, \"is_public\": true, \"collaborative\": false, \"snapshot_id\": \"AAAAsUV20d2iEtoXYqXPHsTzbFeyJfVJ\"}, {\"id\": \"7FgZOBK0lhTZz7gMJeV7gs\", \"uri\": \"spotify:playlist:7FgZOBK0lhTZz7gMJeV7gs\", \"name\": \"Insomniac\", \"description\": \"\", \"owner\": \"Ray\", \"tracks_total\": 182, \"is_public\": true, \"collaborative\": false, \"snapshot_id\": \"AAAA4Cmc8w8KuivAczjvfXId2sSkEm/h\"}, {\"id\": \"6DgcAL9oygPekQLDY2mFDq\", \"uri\": \"spotify:playlist:6DgcAL9oygPekQLDY2mFDq\", \"name\": \"Jean-Michel Jarre – Equinoxe\", \"description\": \"\", \"owner\": \"Ray\", \"tracks_total\": 8, \"is_public\": true, \"collaborative\": false, \"snapshot_id\": \"AAAAAh4ckvSMVbth3pWqCQDqlVQwoNXP\"}, {\"id\": \"6X1fib1966dU31uZdTH5p1\", \"uri\": \"spotify:playlist:6X1fib1966dU31uZdTH5p1\", \"name\": \"Misplaced Childhood (2017 Remaster)\", \"description\": \"\", \"owner\": \"Ray\", \"tracks_total\": 10, \"is_public\": true, \"collaborative\": false, \"snapshot_id\": \"AAAAAhEAt8v4hHLreJi8lMDQSYZCqCWP\"}, {\"id\": \"5mxEevqyJ7IbtnmxlRSlaL\", \"uri\": \"spotify:playlist:5mxEevqyJ7IbtnmxlRSlaL\", \"name\": \"My Playlist #36\", \"description\": \"\", \"owner\": \"Ray\", \"tracks_total\": 6692, \"is_public\": true, \"collaborative\": false, \"snapshot_id\": \"AAADk1LjdQ0wPeq1CWGUTeqfa3JKnd68\"}, {\"id\": \"01tk0aitEuGK0ajWCkzdKc\", \"uri\": \"spotify:playlist:01tk0aitEuGK0ajWCkzdKc\", \"name\": \"New Rock\", \"description\": \"\", \"owner\": \"Ray\", \"tracks_total\": 152, \"is_public\": true, \"collaborative\": false, \"snapshot_id\": \"AAAA5GI4hdwwxecjV0XNEPWsmyDWpMlS\"}, {\"id\": \"5Culgc9kaBQ5b9oOHXXhB6\", \"uri\": \"spotify:playlist:5Culgc9kaBQ5b9oOHXXhB6\", \"name\": \"Nothing But the Blues (Live)\", \"description\": \"\", \"owner\": \"Ray\", \"tracks_total\": 17, \"is_public\": true, \"collaborative\": false, \"snapshot_id\": \"AAAAAv6fej6qwqMnU0hD6qABni4cidBa\"}, {\"id\": \"5qYPd1AvydE1Ltz5uGCVVG\", \"uri\": \"spotify:playlist:5qYPd1AvydE1Ltz5uGCVVG\", \"name\": \"Pet Shop Boys\", \"description\": \"\", \"owner\": \"Ray\", \"tracks_total\": 10, \"is_public\": true, \"collaborative\": false, \"snapshot_id\": \"AAAADoUwedXRw8oUAXzutzW3zHOBq8wo\"}, {\"id\": \"43ekrNptzLLkRVGuZWUI83\", \"uri\": \"spotify:playlist:43ekrNptzLLkRVGuZWUI83\", \"name\": \"Pink Floyd\", \"description\": \"\", \"owner\": \"Ray\", \"tracks_total\": 17, \"is_public\": true, \"collaborative\": false, \"snapshot_id\": \"AAAAFMGAETEKmvx5mrnmvpG6qPrTvDoC\"}, {\"id\": \"25odQP99Tc8QbNs8dWWsQV\", \"uri\": \"spotify:playlist:25odQP99Tc8QbNs8dWWsQV\", \"name\": \"Pink Floyd – The Wall\", \"description\": \"\", \"owner\": \"Ray\", \"tracks_total\": 26, \"is_public\": true, \"collaborative\": false, \"snapshot_id\": \"AAAAAqQrbCqR2F+PT4CiRiJ/aI51g4KY\"}, {\"id\": \"6smB0SEs5sX0FOzA4h22Eq\", \"uri\": \"spotify:playlist:6smB0SEs5sX0FOzA4h22Eq\", \"name\": \"Rock\", \"description\": \"\", \"owner\": \"Ray\", \"tracks_total\": 158, \"is_public\": true, \"collaborative\": false, \"snapshot_id\": \"AAAAvFxIe5eBC1t4kNdcuQG1dm3gh28t\"}, {\"id\": \"5q5ZVp6frFMc8y0ivNfGk2\", \"uri\": \"spotify:playlist:5q5ZVp6frFMc8y0ivNfGk2\", \"name\": \"Rock Balads\", \"description\": \"\", \"owner\": \"Ray\", \"tracks_total\": 61, \"is_public\": true, \"collaborative\": false, \"snapshot_id\": \"AAAAQEiJ4p3uZqQFtoa4ptNvTlCgwc0P\"}, {\"id\": \"4Vk5tgx9FcO17ZhdFwxJIp\", \"uri\": \"spotify:playlist:4Vk5tgx9FcO17ZhdFwxJIp\", \"name\": \"Rock Hard\", \"description\": \"\", \"owner\": \"Ray\", \"tracks_total\": 61, \"is_public\": true, \"collaborative\": false, \"snapshot_id\": \"AAAANGCk4sZ4CKBXxt9osRjoOmtDj6jN\"}, {\"id\": \"3n3RLXoDDH7O9XpusnnnvV\", \"uri\": \"spotify:playlist:3n3RLXoDDH7O9XpusnnnvV\", \"name\": \"Rolling Stones\", \"description\": \"\", \"owner\": \"Ray\", \"tracks_total\": 19, \"is_public\": true, \"collaborative\": false, \"snapshot_id\": \"AAAAFfP6U7XcNW87gmiXRr0cdMiFxhY1\"}, {\"id\": \"5XdXmStK6X9ZPstLvDBekC\", \"uri\": \"spotify:playlist:5XdXmStK6X9ZPstLvDBekC\", \"name\": \"Workout\", \"description\": \"\", \"owner\": \"Ray\", \"tracks_total\": 74, \"is_public\": true, \"collaborative\": false, \"snapshot_id\": \"AAABLoYIV4F6lXAO0DJe++nLNS7aVm52\"}]}', name='get_playlists', tool_call_id='call_sZbWE5ONJlQeXOrjoCOXDmQ8')"
      ]
     },
     "execution_count": 16,
     "metadata": {},
     "output_type": "execute_result"
    }
   ],
   "source": [
    "# We recreate the ToolMessage to take care of UNicode characters\n",
    "tool_message = ToolMessage(content=playlist_tool_message.content, name=playlist_tool_message.name, tool_call_id=playlist_tool_message.tool_call_id)\n",
    "tool_message"
   ]
  },
  {
   "cell_type": "markdown",
   "metadata": {},
   "source": [
    "# Add To message template list"
   ]
  },
  {
   "cell_type": "code",
   "execution_count": 17,
   "metadata": {},
   "outputs": [],
   "source": [
    "chat_prompt_template += tool_message"
   ]
  },
  {
   "cell_type": "markdown",
   "metadata": {},
   "source": [
    "# Format Message List for LLM"
   ]
  },
  {
   "cell_type": "code",
   "execution_count": 18,
   "metadata": {},
   "outputs": [
    {
     "data": {
      "text/plain": [
       "[HumanMessage(content=\"\\nCreate and execute a step-by-step plan with atomic tasks to solve the following problem:\\n\\nBuild a Spotify Playlist with tracks of the same vibe as my 'New Rock' playlist. Here are some rules\\n\\n1 - Only suggest tracks from artist not present on the 'New Rock' playlist\\n2 - Artist should have achieved success after year 2010\\n3 - Do not use 'The Raconteurs' as an artist in the new playlist\\n4 - Playlist should have around 100 tracks\\n5 - Arrange the tracks to create a smooth listening experience, considering tempo, energy, and mood.\\n6 - Add some hidden gems\\n7 - Use your knowledge as a recommendation music system. Think carefully and thoroughly. \\n\", additional_kwargs={}, response_metadata={}),\n",
       " AIMessage(content='To create a Spotify playlist that matches the vibe of your \"New Rock\" playlist while adhering to the given rules, here\\'s a step-by-step plan with atomic tasks:\\n\\n### Step 1: Gather Information\\n1. **Retrieve Existing Playlist Details**\\n   - Fetch the list of your Spotify playlists to identify the \"New Rock\" playlist.\\n   - Retrieve the track list from the \"New Rock\" playlist to understand its vibe and collect data on the artists featured.\\n\\n### Step 2: Research and Analyze\\n2. **Identify Similar Artists**\\n   - Search for artists similar to those in the \"New Rock\" playlist who achieved success after 2010, excluding \"The Raconteurs.\"\\n\\n3. **Find Hidden Gems**\\n   - Research lesser-known tracks or upcoming artists that fit the vibe of the \"New Rock\" playlist and have gained some recognition post-2010.\\n\\n### Step 3: Curate New Playlist\\n4. **Select Tracks**\\n   - Choose around 100 tracks from the identified artists, ensuring no artists from the \"New Rock\" playlist are repeated.\\n   - Include hidden gems to add uniqueness to the playlist.\\n\\n5. **Arrange Tracks**\\n   - Arrange the selected tracks to ensure a smooth listening experience, considering factors like tempo, energy, and mood transitions.\\n\\n### Step 4: Create and Populate Playlist\\n6. **Create a New Spotify Playlist**\\n   - Create a new playlist on Spotify with a suitable name and description.\\n\\n7. **Add Tracks to Playlist**\\n   - Add the curated and arranged tracks to the newly created Spotify playlist.\\n\\n### Step 5: Final Review and Adjustments\\n8. **Listen and Adjust**\\n   - Listen to the playlist to ensure smooth transitions and overall coherence.\\n   - Make any necessary adjustments to the track order or replace tracks that disrupt the flow.\\n\\nNow, let\\'s execute Step 1 by retrieving the existing playlist details and its track list.', additional_kwargs={'tool_calls': [{'id': 'call_sZbWE5ONJlQeXOrjoCOXDmQ8', 'function': {'arguments': '{}', 'name': 'get_playlists'}, 'type': 'function'}], 'refusal': None}, response_metadata={'token_usage': {'completion_tokens': 395, 'prompt_tokens': 498, 'total_tokens': 893, 'completion_tokens_details': {'accepted_prediction_tokens': 0, 'audio_tokens': 0, 'reasoning_tokens': 0, 'rejected_prediction_tokens': 0}, 'prompt_tokens_details': {'audio_tokens': 0, 'cached_tokens': 0}}, 'model_name': 'gpt-4o-2024-08-06', 'system_fingerprint': 'fp_45cf54deae', 'finish_reason': 'tool_calls', 'logprobs': None}, id='run-25fda942-0a93-4451-b27a-d1a4e895d444-0', tool_calls=[{'name': 'get_playlists', 'args': {}, 'id': 'call_sZbWE5ONJlQeXOrjoCOXDmQ8', 'type': 'tool_call'}], usage_metadata={'input_tokens': 498, 'output_tokens': 395, 'total_tokens': 893, 'input_token_details': {'audio': 0, 'cache_read': 0}, 'output_token_details': {'audio': 0, 'reasoning': 0}}),\n",
       " ToolMessage(content='{\"playlists\": [{\"id\": \"2dbYK5b7J0F7IdH5n1TEUK\", \"uri\": \"spotify:playlist:2dbYK5b7J0F7IdH5n1TEUK\", \"name\": \"RPreacher\", \"description\": \"\", \"owner\": \"Ray\", \"tracks_total\": 3, \"is_public\": true, \"collaborative\": false, \"snapshot_id\": \"AAAABG1lhIiRJT/NE9RpP4K6UnmZWixo\"}, {\"id\": \"4ack9YtUhdxRayJDAqlfQe\", \"uri\": \"spotify:playlist:4ack9YtUhdxRayJDAqlfQe\", \"name\": \"RP Bossa Nova Chill \", \"description\": \"\", \"owner\": \"Ray\", \"tracks_total\": 30, \"is_public\": true, \"collaborative\": false, \"snapshot_id\": \"AAAAIThdM9g/YPQwj7nuoHhewWyLoKEi\"}, {\"id\": \"75NW18NgdZuZeifrcjxKlZ\", \"uri\": \"spotify:playlist:75NW18NgdZuZeifrcjxKlZ\", \"name\": \"GVF\", \"description\": \"\", \"owner\": \"Ray\", \"tracks_total\": 11, \"is_public\": true, \"collaborative\": false, \"snapshot_id\": \"AAAADKZNV9h+cfi1PbOi6yjNHMe8mLWC\"}, {\"id\": \"5iyONtUO21O88xw8pBblwh\", \"uri\": \"spotify:playlist:5iyONtUO21O88xw8pBblwh\", \"name\": \"Now And Then\", \"description\": \"\", \"owner\": \"Ray\", \"tracks_total\": 7, \"is_public\": true, \"collaborative\": false, \"snapshot_id\": \"AAAACBkT0vD6HHtLpUO7hEOCzClgABvP\"}, {\"id\": \"4SDSUMg2HJcGFmHlupsU7U\", \"uri\": \"spotify:playlist:4SDSUMg2HJcGFmHlupsU7U\", \"name\": \"Jazz classics\", \"description\": \"\", \"owner\": \"Ray\", \"tracks_total\": 251, \"is_public\": true, \"collaborative\": false, \"snapshot_id\": \"AAAAA8p/xZVmAcTsRpsMlQtRepRFmbfo\"}, {\"id\": \"5fBxLG2wLAPVpx83402rHl\", \"uri\": \"spotify:playlist:5fBxLG2wLAPVpx83402rHl\", \"name\": \"Acdc\", \"description\": \"\", \"owner\": \"Ray\", \"tracks_total\": 26, \"is_public\": true, \"collaborative\": false, \"snapshot_id\": \"AAAAG+HaorntGV3LHad9bEcICDGFD56C\"}, {\"id\": \"17Yxm5hQbkbZwDcCTuiDXC\", \"uri\": \"spotify:playlist:17Yxm5hQbkbZwDcCTuiDXC\", \"name\": \"einaudi\", \"description\": \"\", \"owner\": \"Ray\", \"tracks_total\": 18, \"is_public\": true, \"collaborative\": false, \"snapshot_id\": \"AAAAF9qEdgDunVs0NC8jBUoE/CdMF7jq\"}, {\"id\": \"2X6GccWfIqPWO6VYx405nO\", \"uri\": \"spotify:playlist:2X6GccWfIqPWO6VYx405nO\", \"name\": \"Eric Clapton Blues\", \"description\": \"\", \"owner\": \"Ray\", \"tracks_total\": 24, \"is_public\": true, \"collaborative\": false, \"snapshot_id\": \"AAAAH4q+4xxgg62OXnIHbsNVZPC1LL1Q\"}, {\"id\": \"3smVXe8y8w8nt4lFH0HBkW\", \"uri\": \"spotify:playlist:3smVXe8y8w8nt4lFH0HBkW\", \"name\": \"Alchemy: Dire Straits\", \"description\": \"\", \"owner\": \"Ray\", \"tracks_total\": 10, \"is_public\": true, \"collaborative\": false, \"snapshot_id\": \"AAAAD45w+Oq6Z1xq7iMwF6iFkfWoT87p\"}, {\"id\": \"2ifRZBXnX7UmIPUlGet5WZ\", \"uri\": \"spotify:playlist:2ifRZBXnX7UmIPUlGet5WZ\", \"name\": \"Blues\", \"description\": \"\", \"owner\": \"Ray\", \"tracks_total\": 67, \"is_public\": true, \"collaborative\": false, \"snapshot_id\": \"AAAAVVh4N/reGLwCIcv89XjeUDHPPeAQ\"}, {\"id\": \"5nn2ePtd9gYEEDL3XnACCB\", \"uri\": \"spotify:playlist:5nn2ePtd9gYEEDL3XnACCB\", \"name\": \"brazil\", \"description\": \"\", \"owner\": \"Ray\", \"tracks_total\": 62, \"is_public\": true, \"collaborative\": false, \"snapshot_id\": \"AAAAV9cqXazKhP9K8MYZTPAqS7yFP1hq\"}, {\"id\": \"6YAntoKNXuogPKdV26b6XE\", \"uri\": \"spotify:playlist:6YAntoKNXuogPKdV26b6XE\", \"name\": \"CCR\", \"description\": \"\", \"owner\": \"Ray\", \"tracks_total\": 17, \"is_public\": true, \"collaborative\": false, \"snapshot_id\": \"AAAAEw4Fg6uyrf9reMIEnkNruUB2nRbg\"}, {\"id\": \"2VHkZvOMCkLF3B7TsKerKD\", \"uri\": \"spotify:playlist:2VHkZvOMCkLF3B7TsKerKD\", \"name\": \"Chill\", \"description\": \"\", \"owner\": \"Ray\", \"tracks_total\": 53, \"is_public\": true, \"collaborative\": false, \"snapshot_id\": \"AAAAOhAKCSjCgKZOV6OTiSZohe9Isj7C\"}, {\"id\": \"508lbLx9XUkHv5Xb45hxTP\", \"uri\": \"spotify:playlist:508lbLx9XUkHv5Xb45hxTP\", \"name\": \"Classic Rock\", \"description\": \"\", \"owner\": \"Ray\", \"tracks_total\": 306, \"is_public\": true, \"collaborative\": false, \"snapshot_id\": \"AAABRtPd9z/BoPLPCUOJBrUyXci7+r1n\"}, {\"id\": \"7zzDMq1sPwkZPYeqOQJ9qS\", \"uri\": \"spotify:playlist:7zzDMq1sPwkZPYeqOQJ9qS\", \"name\": \"The New Four Seasons - Vivaldi Recomposed\", \"description\": \"\", \"owner\": \"Ray\", \"tracks_total\": 13, \"is_public\": true, \"collaborative\": false, \"snapshot_id\": \"AAAAAsi2q+bxREAMmVWVTWHt10bpB6fa\"}, {\"id\": \"4l8WcaYlPkuVPXVGxMIca3\", \"uri\": \"spotify:playlist:4l8WcaYlPkuVPXVGxMIca3\", \"name\": \"New Study\", \"description\": \"\", \"owner\": \"Ray\", \"tracks_total\": 11, \"is_public\": true, \"collaborative\": false, \"snapshot_id\": \"AAAAEL23paVLvTGrRFTKquh+DNiGzrt7\"}, {\"id\": \"0Wr2Z9vroQ9IXKaokFHldt\", \"uri\": \"spotify:playlist:0Wr2Z9vroQ9IXKaokFHldt\", \"name\": \"Islands - Essential Einaudi (Deluxe Version)\", \"description\": \"\", \"owner\": \"Ray\", \"tracks_total\": 27, \"is_public\": true, \"collaborative\": false, \"snapshot_id\": \"AAAAAmPd/R11xxXnmQE5LY4VHJOmc2Si\"}, {\"id\": \"780Yx65yiaLtBYM76neBYC\", \"uri\": \"spotify:playlist:780Yx65yiaLtBYM76neBYC\", \"name\": \"Gioachino Rossini – Rossini: Overtures\", \"description\": \"\", \"owner\": \"Ray\", \"tracks_total\": 8, \"is_public\": true, \"collaborative\": false, \"snapshot_id\": \"AAAAAk/j3UaxYxxJ2E3uDuvkTHY7CyA3\"}, {\"id\": \"76rUGmzqh1OhyheEOUDYNp\", \"uri\": \"spotify:playlist:76rUGmzqh1OhyheEOUDYNp\", \"name\": \"Frédéric Chopin – Chopin: Nocturnes\", \"description\": \"\", \"owner\": \"Ray\", \"tracks_total\": 19, \"is_public\": true, \"collaborative\": false, \"snapshot_id\": \"AAAAAojQZUHMvW1fqFvaPCPZw651RTcR\"}, {\"id\": \"5qcHJodVJd8AEOT2cCvxEm\", \"uri\": \"spotify:playlist:5qcHJodVJd8AEOT2cCvxEm\", \"name\": \"Frédéric Chopin – Chopin: Nocturnes - Sony Classical Originals 2\", \"description\": \"\", \"owner\": \"Ray\", \"tracks_total\": 19, \"is_public\": true, \"collaborative\": false, \"snapshot_id\": \"AAAAAosFti6TgoD7O3TfPlfPiFc7yKj2\"}, {\"id\": \"7hr9yYAJLXDoJ5sKBhm8Af\", \"uri\": \"spotify:playlist:7hr9yYAJLXDoJ5sKBhm8Af\", \"name\": \"Antonio Vivaldi – Vivaldi: Guitar Concertos\", \"description\": \"\", \"owner\": \"Ray\", \"tracks_total\": 15, \"is_public\": true, \"collaborative\": false, \"snapshot_id\": \"AAAAAq5lTrQQYp3SUTtJrmlIdHbyh5CZ\"}, {\"id\": \"4ruyjAXs6VHU8ZYJqXsUiN\", \"uri\": \"spotify:playlist:4ruyjAXs6VHU8ZYJqXsUiN\", \"name\": \"Sergei Rachmaninoff – Rachmaninoff Plays Rachmaninoff: Concertos Nos. 2 and 3\", \"description\": \"\", \"owner\": \"Ray\", \"tracks_total\": 6, \"is_public\": true, \"collaborative\": false, \"snapshot_id\": \"AAAAAnd4DV7yCmI2VX7w0BB64um7bJem\"}, {\"id\": \"4GYOeGfC7fSephEi3UYh0W\", \"uri\": \"spotify:playlist:4GYOeGfC7fSephEi3UYh0W\", \"name\": \"Erik Satie – Satie: Gymnopédies, Gnossiennes & Other Works\", \"description\": \"\", \"owner\": \"Ray\", \"tracks_total\": 27, \"is_public\": true, \"collaborative\": false, \"snapshot_id\": \"AAAAAnslTVllUSPnBdYh2FMu1DtFAzVs\"}, {\"id\": \"2lop6NfhiYA07UzhWUCyc2\", \"uri\": \"spotify:playlist:2lop6NfhiYA07UzhWUCyc2\", \"name\": \"Classical Masters\", \"description\": \"\", \"owner\": \"Ray\", \"tracks_total\": 29, \"is_public\": true, \"collaborative\": false, \"snapshot_id\": \"AAAAIv8IPFeim0+gMauDLlofBPiDknYa\"}, {\"id\": \"2RUN05cfOlR09kJUvTAEPk\", \"uri\": \"spotify:playlist:2RUN05cfOlR09kJUvTAEPk\", \"name\": \"Evil Woman\", \"description\": \"\", \"owner\": \"Ray\", \"tracks_total\": 11, \"is_public\": true, \"collaborative\": false, \"snapshot_id\": \"AAAADYR9TeZBCOAQTx+qJaL78t/qalhZ\"}, {\"id\": \"3DEKSWlDt8Qors1NpYLXwt\", \"uri\": \"spotify:playlist:3DEKSWlDt8Qors1NpYLXwt\", \"name\": \"Hits 2000\", \"description\": \"\", \"owner\": \"Ray\", \"tracks_total\": 121, \"is_public\": true, \"collaborative\": false, \"snapshot_id\": \"AAAAsUV20d2iEtoXYqXPHsTzbFeyJfVJ\"}, {\"id\": \"7FgZOBK0lhTZz7gMJeV7gs\", \"uri\": \"spotify:playlist:7FgZOBK0lhTZz7gMJeV7gs\", \"name\": \"Insomniac\", \"description\": \"\", \"owner\": \"Ray\", \"tracks_total\": 182, \"is_public\": true, \"collaborative\": false, \"snapshot_id\": \"AAAA4Cmc8w8KuivAczjvfXId2sSkEm/h\"}, {\"id\": \"6DgcAL9oygPekQLDY2mFDq\", \"uri\": \"spotify:playlist:6DgcAL9oygPekQLDY2mFDq\", \"name\": \"Jean-Michel Jarre – Equinoxe\", \"description\": \"\", \"owner\": \"Ray\", \"tracks_total\": 8, \"is_public\": true, \"collaborative\": false, \"snapshot_id\": \"AAAAAh4ckvSMVbth3pWqCQDqlVQwoNXP\"}, {\"id\": \"6X1fib1966dU31uZdTH5p1\", \"uri\": \"spotify:playlist:6X1fib1966dU31uZdTH5p1\", \"name\": \"Misplaced Childhood (2017 Remaster)\", \"description\": \"\", \"owner\": \"Ray\", \"tracks_total\": 10, \"is_public\": true, \"collaborative\": false, \"snapshot_id\": \"AAAAAhEAt8v4hHLreJi8lMDQSYZCqCWP\"}, {\"id\": \"5mxEevqyJ7IbtnmxlRSlaL\", \"uri\": \"spotify:playlist:5mxEevqyJ7IbtnmxlRSlaL\", \"name\": \"My Playlist #36\", \"description\": \"\", \"owner\": \"Ray\", \"tracks_total\": 6692, \"is_public\": true, \"collaborative\": false, \"snapshot_id\": \"AAADk1LjdQ0wPeq1CWGUTeqfa3JKnd68\"}, {\"id\": \"01tk0aitEuGK0ajWCkzdKc\", \"uri\": \"spotify:playlist:01tk0aitEuGK0ajWCkzdKc\", \"name\": \"New Rock\", \"description\": \"\", \"owner\": \"Ray\", \"tracks_total\": 152, \"is_public\": true, \"collaborative\": false, \"snapshot_id\": \"AAAA5GI4hdwwxecjV0XNEPWsmyDWpMlS\"}, {\"id\": \"5Culgc9kaBQ5b9oOHXXhB6\", \"uri\": \"spotify:playlist:5Culgc9kaBQ5b9oOHXXhB6\", \"name\": \"Nothing But the Blues (Live)\", \"description\": \"\", \"owner\": \"Ray\", \"tracks_total\": 17, \"is_public\": true, \"collaborative\": false, \"snapshot_id\": \"AAAAAv6fej6qwqMnU0hD6qABni4cidBa\"}, {\"id\": \"5qYPd1AvydE1Ltz5uGCVVG\", \"uri\": \"spotify:playlist:5qYPd1AvydE1Ltz5uGCVVG\", \"name\": \"Pet Shop Boys\", \"description\": \"\", \"owner\": \"Ray\", \"tracks_total\": 10, \"is_public\": true, \"collaborative\": false, \"snapshot_id\": \"AAAADoUwedXRw8oUAXzutzW3zHOBq8wo\"}, {\"id\": \"43ekrNptzLLkRVGuZWUI83\", \"uri\": \"spotify:playlist:43ekrNptzLLkRVGuZWUI83\", \"name\": \"Pink Floyd\", \"description\": \"\", \"owner\": \"Ray\", \"tracks_total\": 17, \"is_public\": true, \"collaborative\": false, \"snapshot_id\": \"AAAAFMGAETEKmvx5mrnmvpG6qPrTvDoC\"}, {\"id\": \"25odQP99Tc8QbNs8dWWsQV\", \"uri\": \"spotify:playlist:25odQP99Tc8QbNs8dWWsQV\", \"name\": \"Pink Floyd – The Wall\", \"description\": \"\", \"owner\": \"Ray\", \"tracks_total\": 26, \"is_public\": true, \"collaborative\": false, \"snapshot_id\": \"AAAAAqQrbCqR2F+PT4CiRiJ/aI51g4KY\"}, {\"id\": \"6smB0SEs5sX0FOzA4h22Eq\", \"uri\": \"spotify:playlist:6smB0SEs5sX0FOzA4h22Eq\", \"name\": \"Rock\", \"description\": \"\", \"owner\": \"Ray\", \"tracks_total\": 158, \"is_public\": true, \"collaborative\": false, \"snapshot_id\": \"AAAAvFxIe5eBC1t4kNdcuQG1dm3gh28t\"}, {\"id\": \"5q5ZVp6frFMc8y0ivNfGk2\", \"uri\": \"spotify:playlist:5q5ZVp6frFMc8y0ivNfGk2\", \"name\": \"Rock Balads\", \"description\": \"\", \"owner\": \"Ray\", \"tracks_total\": 61, \"is_public\": true, \"collaborative\": false, \"snapshot_id\": \"AAAAQEiJ4p3uZqQFtoa4ptNvTlCgwc0P\"}, {\"id\": \"4Vk5tgx9FcO17ZhdFwxJIp\", \"uri\": \"spotify:playlist:4Vk5tgx9FcO17ZhdFwxJIp\", \"name\": \"Rock Hard\", \"description\": \"\", \"owner\": \"Ray\", \"tracks_total\": 61, \"is_public\": true, \"collaborative\": false, \"snapshot_id\": \"AAAANGCk4sZ4CKBXxt9osRjoOmtDj6jN\"}, {\"id\": \"3n3RLXoDDH7O9XpusnnnvV\", \"uri\": \"spotify:playlist:3n3RLXoDDH7O9XpusnnnvV\", \"name\": \"Rolling Stones\", \"description\": \"\", \"owner\": \"Ray\", \"tracks_total\": 19, \"is_public\": true, \"collaborative\": false, \"snapshot_id\": \"AAAAFfP6U7XcNW87gmiXRr0cdMiFxhY1\"}, {\"id\": \"5XdXmStK6X9ZPstLvDBekC\", \"uri\": \"spotify:playlist:5XdXmStK6X9ZPstLvDBekC\", \"name\": \"Workout\", \"description\": \"\", \"owner\": \"Ray\", \"tracks_total\": 74, \"is_public\": true, \"collaborative\": false, \"snapshot_id\": \"AAABLoYIV4F6lXAO0DJe++nLNS7aVm52\"}]}', name='get_playlists', tool_call_id='call_sZbWE5ONJlQeXOrjoCOXDmQ8')]"
      ]
     },
     "execution_count": 18,
     "metadata": {},
     "output_type": "execute_result"
    }
   ],
   "source": [
    "from langchain_core.prompts import ChatPromptTemplate, MessagesPlaceholder\n",
    "\n",
    "chat_prompt_template.format_messages()"
   ]
  },
  {
   "cell_type": "markdown",
   "metadata": {},
   "source": [
    "# Send Playlists Results to LLM"
   ]
  },
  {
   "cell_type": "code",
   "execution_count": 19,
   "metadata": {},
   "outputs": [
    {
     "name": "stderr",
     "output_type": "stream",
     "text": [
      "2024-11-11 18:53:06,978 - INFO - HTTP Request: POST https://api.openai.com/v1/chat/completions \"HTTP/1.1 200 OK\"\n"
     ]
    }
   ],
   "source": [
    "ai_tool_call_message_2 = llm_with_tools.invoke(chat_prompt_template.format_messages())"
   ]
  },
  {
   "cell_type": "code",
   "execution_count": 20,
   "metadata": {},
   "outputs": [
    {
     "data": {
      "text/plain": [
       "[HumanMessage(content=\"\\nCreate and execute a step-by-step plan with atomic tasks to solve the following problem:\\n\\nBuild a Spotify Playlist with tracks of the same vibe as my 'New Rock' playlist. Here are some rules\\n\\n1 - Only suggest tracks from artist not present on the 'New Rock' playlist\\n2 - Artist should have achieved success after year 2010\\n3 - Do not use 'The Raconteurs' as an artist in the new playlist\\n4 - Playlist should have around 100 tracks\\n5 - Arrange the tracks to create a smooth listening experience, considering tempo, energy, and mood.\\n6 - Add some hidden gems\\n7 - Use your knowledge as a recommendation music system. Think carefully and thoroughly. \\n\", additional_kwargs={}, response_metadata={}),\n",
       " AIMessage(content='To create a Spotify playlist that matches the vibe of your \"New Rock\" playlist while adhering to the given rules, here\\'s a step-by-step plan with atomic tasks:\\n\\n### Step 1: Gather Information\\n1. **Retrieve Existing Playlist Details**\\n   - Fetch the list of your Spotify playlists to identify the \"New Rock\" playlist.\\n   - Retrieve the track list from the \"New Rock\" playlist to understand its vibe and collect data on the artists featured.\\n\\n### Step 2: Research and Analyze\\n2. **Identify Similar Artists**\\n   - Search for artists similar to those in the \"New Rock\" playlist who achieved success after 2010, excluding \"The Raconteurs.\"\\n\\n3. **Find Hidden Gems**\\n   - Research lesser-known tracks or upcoming artists that fit the vibe of the \"New Rock\" playlist and have gained some recognition post-2010.\\n\\n### Step 3: Curate New Playlist\\n4. **Select Tracks**\\n   - Choose around 100 tracks from the identified artists, ensuring no artists from the \"New Rock\" playlist are repeated.\\n   - Include hidden gems to add uniqueness to the playlist.\\n\\n5. **Arrange Tracks**\\n   - Arrange the selected tracks to ensure a smooth listening experience, considering factors like tempo, energy, and mood transitions.\\n\\n### Step 4: Create and Populate Playlist\\n6. **Create a New Spotify Playlist**\\n   - Create a new playlist on Spotify with a suitable name and description.\\n\\n7. **Add Tracks to Playlist**\\n   - Add the curated and arranged tracks to the newly created Spotify playlist.\\n\\n### Step 5: Final Review and Adjustments\\n8. **Listen and Adjust**\\n   - Listen to the playlist to ensure smooth transitions and overall coherence.\\n   - Make any necessary adjustments to the track order or replace tracks that disrupt the flow.\\n\\nNow, let\\'s execute Step 1 by retrieving the existing playlist details and its track list.', additional_kwargs={'tool_calls': [{'id': 'call_sZbWE5ONJlQeXOrjoCOXDmQ8', 'function': {'arguments': '{}', 'name': 'get_playlists'}, 'type': 'function'}], 'refusal': None}, response_metadata={'token_usage': {'completion_tokens': 395, 'prompt_tokens': 498, 'total_tokens': 893, 'completion_tokens_details': {'accepted_prediction_tokens': 0, 'audio_tokens': 0, 'reasoning_tokens': 0, 'rejected_prediction_tokens': 0}, 'prompt_tokens_details': {'audio_tokens': 0, 'cached_tokens': 0}}, 'model_name': 'gpt-4o-2024-08-06', 'system_fingerprint': 'fp_45cf54deae', 'finish_reason': 'tool_calls', 'logprobs': None}, id='run-25fda942-0a93-4451-b27a-d1a4e895d444-0', tool_calls=[{'name': 'get_playlists', 'args': {}, 'id': 'call_sZbWE5ONJlQeXOrjoCOXDmQ8', 'type': 'tool_call'}], usage_metadata={'input_tokens': 498, 'output_tokens': 395, 'total_tokens': 893, 'input_token_details': {'audio': 0, 'cache_read': 0}, 'output_token_details': {'audio': 0, 'reasoning': 0}}),\n",
       " ToolMessage(content='{\"playlists\": [{\"id\": \"2dbYK5b7J0F7IdH5n1TEUK\", \"uri\": \"spotify:playlist:2dbYK5b7J0F7IdH5n1TEUK\", \"name\": \"RPreacher\", \"description\": \"\", \"owner\": \"Ray\", \"tracks_total\": 3, \"is_public\": true, \"collaborative\": false, \"snapshot_id\": \"AAAABG1lhIiRJT/NE9RpP4K6UnmZWixo\"}, {\"id\": \"4ack9YtUhdxRayJDAqlfQe\", \"uri\": \"spotify:playlist:4ack9YtUhdxRayJDAqlfQe\", \"name\": \"RP Bossa Nova Chill \", \"description\": \"\", \"owner\": \"Ray\", \"tracks_total\": 30, \"is_public\": true, \"collaborative\": false, \"snapshot_id\": \"AAAAIThdM9g/YPQwj7nuoHhewWyLoKEi\"}, {\"id\": \"75NW18NgdZuZeifrcjxKlZ\", \"uri\": \"spotify:playlist:75NW18NgdZuZeifrcjxKlZ\", \"name\": \"GVF\", \"description\": \"\", \"owner\": \"Ray\", \"tracks_total\": 11, \"is_public\": true, \"collaborative\": false, \"snapshot_id\": \"AAAADKZNV9h+cfi1PbOi6yjNHMe8mLWC\"}, {\"id\": \"5iyONtUO21O88xw8pBblwh\", \"uri\": \"spotify:playlist:5iyONtUO21O88xw8pBblwh\", \"name\": \"Now And Then\", \"description\": \"\", \"owner\": \"Ray\", \"tracks_total\": 7, \"is_public\": true, \"collaborative\": false, \"snapshot_id\": \"AAAACBkT0vD6HHtLpUO7hEOCzClgABvP\"}, {\"id\": \"4SDSUMg2HJcGFmHlupsU7U\", \"uri\": \"spotify:playlist:4SDSUMg2HJcGFmHlupsU7U\", \"name\": \"Jazz classics\", \"description\": \"\", \"owner\": \"Ray\", \"tracks_total\": 251, \"is_public\": true, \"collaborative\": false, \"snapshot_id\": \"AAAAA8p/xZVmAcTsRpsMlQtRepRFmbfo\"}, {\"id\": \"5fBxLG2wLAPVpx83402rHl\", \"uri\": \"spotify:playlist:5fBxLG2wLAPVpx83402rHl\", \"name\": \"Acdc\", \"description\": \"\", \"owner\": \"Ray\", \"tracks_total\": 26, \"is_public\": true, \"collaborative\": false, \"snapshot_id\": \"AAAAG+HaorntGV3LHad9bEcICDGFD56C\"}, {\"id\": \"17Yxm5hQbkbZwDcCTuiDXC\", \"uri\": \"spotify:playlist:17Yxm5hQbkbZwDcCTuiDXC\", \"name\": \"einaudi\", \"description\": \"\", \"owner\": \"Ray\", \"tracks_total\": 18, \"is_public\": true, \"collaborative\": false, \"snapshot_id\": \"AAAAF9qEdgDunVs0NC8jBUoE/CdMF7jq\"}, {\"id\": \"2X6GccWfIqPWO6VYx405nO\", \"uri\": \"spotify:playlist:2X6GccWfIqPWO6VYx405nO\", \"name\": \"Eric Clapton Blues\", \"description\": \"\", \"owner\": \"Ray\", \"tracks_total\": 24, \"is_public\": true, \"collaborative\": false, \"snapshot_id\": \"AAAAH4q+4xxgg62OXnIHbsNVZPC1LL1Q\"}, {\"id\": \"3smVXe8y8w8nt4lFH0HBkW\", \"uri\": \"spotify:playlist:3smVXe8y8w8nt4lFH0HBkW\", \"name\": \"Alchemy: Dire Straits\", \"description\": \"\", \"owner\": \"Ray\", \"tracks_total\": 10, \"is_public\": true, \"collaborative\": false, \"snapshot_id\": \"AAAAD45w+Oq6Z1xq7iMwF6iFkfWoT87p\"}, {\"id\": \"2ifRZBXnX7UmIPUlGet5WZ\", \"uri\": \"spotify:playlist:2ifRZBXnX7UmIPUlGet5WZ\", \"name\": \"Blues\", \"description\": \"\", \"owner\": \"Ray\", \"tracks_total\": 67, \"is_public\": true, \"collaborative\": false, \"snapshot_id\": \"AAAAVVh4N/reGLwCIcv89XjeUDHPPeAQ\"}, {\"id\": \"5nn2ePtd9gYEEDL3XnACCB\", \"uri\": \"spotify:playlist:5nn2ePtd9gYEEDL3XnACCB\", \"name\": \"brazil\", \"description\": \"\", \"owner\": \"Ray\", \"tracks_total\": 62, \"is_public\": true, \"collaborative\": false, \"snapshot_id\": \"AAAAV9cqXazKhP9K8MYZTPAqS7yFP1hq\"}, {\"id\": \"6YAntoKNXuogPKdV26b6XE\", \"uri\": \"spotify:playlist:6YAntoKNXuogPKdV26b6XE\", \"name\": \"CCR\", \"description\": \"\", \"owner\": \"Ray\", \"tracks_total\": 17, \"is_public\": true, \"collaborative\": false, \"snapshot_id\": \"AAAAEw4Fg6uyrf9reMIEnkNruUB2nRbg\"}, {\"id\": \"2VHkZvOMCkLF3B7TsKerKD\", \"uri\": \"spotify:playlist:2VHkZvOMCkLF3B7TsKerKD\", \"name\": \"Chill\", \"description\": \"\", \"owner\": \"Ray\", \"tracks_total\": 53, \"is_public\": true, \"collaborative\": false, \"snapshot_id\": \"AAAAOhAKCSjCgKZOV6OTiSZohe9Isj7C\"}, {\"id\": \"508lbLx9XUkHv5Xb45hxTP\", \"uri\": \"spotify:playlist:508lbLx9XUkHv5Xb45hxTP\", \"name\": \"Classic Rock\", \"description\": \"\", \"owner\": \"Ray\", \"tracks_total\": 306, \"is_public\": true, \"collaborative\": false, \"snapshot_id\": \"AAABRtPd9z/BoPLPCUOJBrUyXci7+r1n\"}, {\"id\": \"7zzDMq1sPwkZPYeqOQJ9qS\", \"uri\": \"spotify:playlist:7zzDMq1sPwkZPYeqOQJ9qS\", \"name\": \"The New Four Seasons - Vivaldi Recomposed\", \"description\": \"\", \"owner\": \"Ray\", \"tracks_total\": 13, \"is_public\": true, \"collaborative\": false, \"snapshot_id\": \"AAAAAsi2q+bxREAMmVWVTWHt10bpB6fa\"}, {\"id\": \"4l8WcaYlPkuVPXVGxMIca3\", \"uri\": \"spotify:playlist:4l8WcaYlPkuVPXVGxMIca3\", \"name\": \"New Study\", \"description\": \"\", \"owner\": \"Ray\", \"tracks_total\": 11, \"is_public\": true, \"collaborative\": false, \"snapshot_id\": \"AAAAEL23paVLvTGrRFTKquh+DNiGzrt7\"}, {\"id\": \"0Wr2Z9vroQ9IXKaokFHldt\", \"uri\": \"spotify:playlist:0Wr2Z9vroQ9IXKaokFHldt\", \"name\": \"Islands - Essential Einaudi (Deluxe Version)\", \"description\": \"\", \"owner\": \"Ray\", \"tracks_total\": 27, \"is_public\": true, \"collaborative\": false, \"snapshot_id\": \"AAAAAmPd/R11xxXnmQE5LY4VHJOmc2Si\"}, {\"id\": \"780Yx65yiaLtBYM76neBYC\", \"uri\": \"spotify:playlist:780Yx65yiaLtBYM76neBYC\", \"name\": \"Gioachino Rossini – Rossini: Overtures\", \"description\": \"\", \"owner\": \"Ray\", \"tracks_total\": 8, \"is_public\": true, \"collaborative\": false, \"snapshot_id\": \"AAAAAk/j3UaxYxxJ2E3uDuvkTHY7CyA3\"}, {\"id\": \"76rUGmzqh1OhyheEOUDYNp\", \"uri\": \"spotify:playlist:76rUGmzqh1OhyheEOUDYNp\", \"name\": \"Frédéric Chopin – Chopin: Nocturnes\", \"description\": \"\", \"owner\": \"Ray\", \"tracks_total\": 19, \"is_public\": true, \"collaborative\": false, \"snapshot_id\": \"AAAAAojQZUHMvW1fqFvaPCPZw651RTcR\"}, {\"id\": \"5qcHJodVJd8AEOT2cCvxEm\", \"uri\": \"spotify:playlist:5qcHJodVJd8AEOT2cCvxEm\", \"name\": \"Frédéric Chopin – Chopin: Nocturnes - Sony Classical Originals 2\", \"description\": \"\", \"owner\": \"Ray\", \"tracks_total\": 19, \"is_public\": true, \"collaborative\": false, \"snapshot_id\": \"AAAAAosFti6TgoD7O3TfPlfPiFc7yKj2\"}, {\"id\": \"7hr9yYAJLXDoJ5sKBhm8Af\", \"uri\": \"spotify:playlist:7hr9yYAJLXDoJ5sKBhm8Af\", \"name\": \"Antonio Vivaldi – Vivaldi: Guitar Concertos\", \"description\": \"\", \"owner\": \"Ray\", \"tracks_total\": 15, \"is_public\": true, \"collaborative\": false, \"snapshot_id\": \"AAAAAq5lTrQQYp3SUTtJrmlIdHbyh5CZ\"}, {\"id\": \"4ruyjAXs6VHU8ZYJqXsUiN\", \"uri\": \"spotify:playlist:4ruyjAXs6VHU8ZYJqXsUiN\", \"name\": \"Sergei Rachmaninoff – Rachmaninoff Plays Rachmaninoff: Concertos Nos. 2 and 3\", \"description\": \"\", \"owner\": \"Ray\", \"tracks_total\": 6, \"is_public\": true, \"collaborative\": false, \"snapshot_id\": \"AAAAAnd4DV7yCmI2VX7w0BB64um7bJem\"}, {\"id\": \"4GYOeGfC7fSephEi3UYh0W\", \"uri\": \"spotify:playlist:4GYOeGfC7fSephEi3UYh0W\", \"name\": \"Erik Satie – Satie: Gymnopédies, Gnossiennes & Other Works\", \"description\": \"\", \"owner\": \"Ray\", \"tracks_total\": 27, \"is_public\": true, \"collaborative\": false, \"snapshot_id\": \"AAAAAnslTVllUSPnBdYh2FMu1DtFAzVs\"}, {\"id\": \"2lop6NfhiYA07UzhWUCyc2\", \"uri\": \"spotify:playlist:2lop6NfhiYA07UzhWUCyc2\", \"name\": \"Classical Masters\", \"description\": \"\", \"owner\": \"Ray\", \"tracks_total\": 29, \"is_public\": true, \"collaborative\": false, \"snapshot_id\": \"AAAAIv8IPFeim0+gMauDLlofBPiDknYa\"}, {\"id\": \"2RUN05cfOlR09kJUvTAEPk\", \"uri\": \"spotify:playlist:2RUN05cfOlR09kJUvTAEPk\", \"name\": \"Evil Woman\", \"description\": \"\", \"owner\": \"Ray\", \"tracks_total\": 11, \"is_public\": true, \"collaborative\": false, \"snapshot_id\": \"AAAADYR9TeZBCOAQTx+qJaL78t/qalhZ\"}, {\"id\": \"3DEKSWlDt8Qors1NpYLXwt\", \"uri\": \"spotify:playlist:3DEKSWlDt8Qors1NpYLXwt\", \"name\": \"Hits 2000\", \"description\": \"\", \"owner\": \"Ray\", \"tracks_total\": 121, \"is_public\": true, \"collaborative\": false, \"snapshot_id\": \"AAAAsUV20d2iEtoXYqXPHsTzbFeyJfVJ\"}, {\"id\": \"7FgZOBK0lhTZz7gMJeV7gs\", \"uri\": \"spotify:playlist:7FgZOBK0lhTZz7gMJeV7gs\", \"name\": \"Insomniac\", \"description\": \"\", \"owner\": \"Ray\", \"tracks_total\": 182, \"is_public\": true, \"collaborative\": false, \"snapshot_id\": \"AAAA4Cmc8w8KuivAczjvfXId2sSkEm/h\"}, {\"id\": \"6DgcAL9oygPekQLDY2mFDq\", \"uri\": \"spotify:playlist:6DgcAL9oygPekQLDY2mFDq\", \"name\": \"Jean-Michel Jarre – Equinoxe\", \"description\": \"\", \"owner\": \"Ray\", \"tracks_total\": 8, \"is_public\": true, \"collaborative\": false, \"snapshot_id\": \"AAAAAh4ckvSMVbth3pWqCQDqlVQwoNXP\"}, {\"id\": \"6X1fib1966dU31uZdTH5p1\", \"uri\": \"spotify:playlist:6X1fib1966dU31uZdTH5p1\", \"name\": \"Misplaced Childhood (2017 Remaster)\", \"description\": \"\", \"owner\": \"Ray\", \"tracks_total\": 10, \"is_public\": true, \"collaborative\": false, \"snapshot_id\": \"AAAAAhEAt8v4hHLreJi8lMDQSYZCqCWP\"}, {\"id\": \"5mxEevqyJ7IbtnmxlRSlaL\", \"uri\": \"spotify:playlist:5mxEevqyJ7IbtnmxlRSlaL\", \"name\": \"My Playlist #36\", \"description\": \"\", \"owner\": \"Ray\", \"tracks_total\": 6692, \"is_public\": true, \"collaborative\": false, \"snapshot_id\": \"AAADk1LjdQ0wPeq1CWGUTeqfa3JKnd68\"}, {\"id\": \"01tk0aitEuGK0ajWCkzdKc\", \"uri\": \"spotify:playlist:01tk0aitEuGK0ajWCkzdKc\", \"name\": \"New Rock\", \"description\": \"\", \"owner\": \"Ray\", \"tracks_total\": 152, \"is_public\": true, \"collaborative\": false, \"snapshot_id\": \"AAAA5GI4hdwwxecjV0XNEPWsmyDWpMlS\"}, {\"id\": \"5Culgc9kaBQ5b9oOHXXhB6\", \"uri\": \"spotify:playlist:5Culgc9kaBQ5b9oOHXXhB6\", \"name\": \"Nothing But the Blues (Live)\", \"description\": \"\", \"owner\": \"Ray\", \"tracks_total\": 17, \"is_public\": true, \"collaborative\": false, \"snapshot_id\": \"AAAAAv6fej6qwqMnU0hD6qABni4cidBa\"}, {\"id\": \"5qYPd1AvydE1Ltz5uGCVVG\", \"uri\": \"spotify:playlist:5qYPd1AvydE1Ltz5uGCVVG\", \"name\": \"Pet Shop Boys\", \"description\": \"\", \"owner\": \"Ray\", \"tracks_total\": 10, \"is_public\": true, \"collaborative\": false, \"snapshot_id\": \"AAAADoUwedXRw8oUAXzutzW3zHOBq8wo\"}, {\"id\": \"43ekrNptzLLkRVGuZWUI83\", \"uri\": \"spotify:playlist:43ekrNptzLLkRVGuZWUI83\", \"name\": \"Pink Floyd\", \"description\": \"\", \"owner\": \"Ray\", \"tracks_total\": 17, \"is_public\": true, \"collaborative\": false, \"snapshot_id\": \"AAAAFMGAETEKmvx5mrnmvpG6qPrTvDoC\"}, {\"id\": \"25odQP99Tc8QbNs8dWWsQV\", \"uri\": \"spotify:playlist:25odQP99Tc8QbNs8dWWsQV\", \"name\": \"Pink Floyd – The Wall\", \"description\": \"\", \"owner\": \"Ray\", \"tracks_total\": 26, \"is_public\": true, \"collaborative\": false, \"snapshot_id\": \"AAAAAqQrbCqR2F+PT4CiRiJ/aI51g4KY\"}, {\"id\": \"6smB0SEs5sX0FOzA4h22Eq\", \"uri\": \"spotify:playlist:6smB0SEs5sX0FOzA4h22Eq\", \"name\": \"Rock\", \"description\": \"\", \"owner\": \"Ray\", \"tracks_total\": 158, \"is_public\": true, \"collaborative\": false, \"snapshot_id\": \"AAAAvFxIe5eBC1t4kNdcuQG1dm3gh28t\"}, {\"id\": \"5q5ZVp6frFMc8y0ivNfGk2\", \"uri\": \"spotify:playlist:5q5ZVp6frFMc8y0ivNfGk2\", \"name\": \"Rock Balads\", \"description\": \"\", \"owner\": \"Ray\", \"tracks_total\": 61, \"is_public\": true, \"collaborative\": false, \"snapshot_id\": \"AAAAQEiJ4p3uZqQFtoa4ptNvTlCgwc0P\"}, {\"id\": \"4Vk5tgx9FcO17ZhdFwxJIp\", \"uri\": \"spotify:playlist:4Vk5tgx9FcO17ZhdFwxJIp\", \"name\": \"Rock Hard\", \"description\": \"\", \"owner\": \"Ray\", \"tracks_total\": 61, \"is_public\": true, \"collaborative\": false, \"snapshot_id\": \"AAAANGCk4sZ4CKBXxt9osRjoOmtDj6jN\"}, {\"id\": \"3n3RLXoDDH7O9XpusnnnvV\", \"uri\": \"spotify:playlist:3n3RLXoDDH7O9XpusnnnvV\", \"name\": \"Rolling Stones\", \"description\": \"\", \"owner\": \"Ray\", \"tracks_total\": 19, \"is_public\": true, \"collaborative\": false, \"snapshot_id\": \"AAAAFfP6U7XcNW87gmiXRr0cdMiFxhY1\"}, {\"id\": \"5XdXmStK6X9ZPstLvDBekC\", \"uri\": \"spotify:playlist:5XdXmStK6X9ZPstLvDBekC\", \"name\": \"Workout\", \"description\": \"\", \"owner\": \"Ray\", \"tracks_total\": 74, \"is_public\": true, \"collaborative\": false, \"snapshot_id\": \"AAABLoYIV4F6lXAO0DJe++nLNS7aVm52\"}]}', name='get_playlists', tool_call_id='call_sZbWE5ONJlQeXOrjoCOXDmQ8'),\n",
       " AIMessage(content='', additional_kwargs={'tool_calls': [{'id': 'call_mThDigWsGnlWv6fXcG85MRs5', 'function': {'arguments': '{\"playlist_id\":\"01tk0aitEuGK0ajWCkzdKc\"}', 'name': 'get_track_list'}, 'type': 'function'}], 'refusal': None}, response_metadata={'token_usage': {'completion_tokens': 28, 'prompt_tokens': 5348, 'total_tokens': 5376, 'completion_tokens_details': {'accepted_prediction_tokens': 0, 'audio_tokens': 0, 'reasoning_tokens': 0, 'rejected_prediction_tokens': 0}, 'prompt_tokens_details': {'audio_tokens': 0, 'cached_tokens': 0}}, 'model_name': 'gpt-4o-2024-08-06', 'system_fingerprint': 'fp_45cf54deae', 'finish_reason': 'tool_calls', 'logprobs': None}, id='run-1d4cb5c8-394d-49f2-95bc-75b5f8eca621-0', tool_calls=[{'name': 'get_track_list', 'args': {'playlist_id': '01tk0aitEuGK0ajWCkzdKc'}, 'id': 'call_mThDigWsGnlWv6fXcG85MRs5', 'type': 'tool_call'}], usage_metadata={'input_tokens': 5348, 'output_tokens': 28, 'total_tokens': 5376, 'input_token_details': {'audio': 0, 'cache_read': 0}, 'output_token_details': {'audio': 0, 'reasoning': 0}})]"
      ]
     },
     "execution_count": 20,
     "metadata": {},
     "output_type": "execute_result"
    }
   ],
   "source": [
    "chat_prompt_template += ai_tool_call_message_2\n",
    "chat_prompt_template.format_messages()"
   ]
  },
  {
   "cell_type": "markdown",
   "metadata": {},
   "source": [
    "# Tool Call (get_track_list)"
   ]
  },
  {
   "cell_type": "code",
   "execution_count": null,
   "metadata": {},
   "outputs": [],
   "source": [
    "response = tool_node.invoke({\"messages\": [ai_tool_call_message_2]})\n",
    "response"
   ]
  },
  {
   "cell_type": "markdown",
   "metadata": {},
   "source": [
    "# Decode AI Tool Call message"
   ]
  },
  {
   "cell_type": "code",
   "execution_count": 173,
   "metadata": {},
   "outputs": [],
   "source": [
    "track_list_tool_message = response[\"messages\"][0]"
   ]
  },
  {
   "cell_type": "code",
   "execution_count": 174,
   "metadata": {},
   "outputs": [],
   "source": [
    "content = json.loads(track_list_tool_message.content)\n",
    "tracks_raw = content[\"tracks\"][\"items\"]   # full raw spotify tracks data"
   ]
  },
  {
   "cell_type": "markdown",
   "metadata": {},
   "source": [
    "# Track List Model"
   ]
  },
  {
   "cell_type": "code",
   "execution_count": 175,
   "metadata": {},
   "outputs": [],
   "source": [
    "from pydantic import BaseModel, Field\n",
    "from typing import List, Optional\n",
    "\n",
    "class Track(BaseModel):\n",
    "    \"\"\"This class represents a single track\"\"\"\n",
    "    artist: str = Field(..., description=\"The artist of the track\")\n",
    "    name: str = Field(..., description=\"The name of the track\")\n",
    "\n",
    "class Tracks(BaseModel):\n",
    "    \"\"\"This class contains the track list for a Spotify playlist\"\"\"\n",
    "    tracks: Optional[List[Track]] = Field(None, description=\"A list of Track objects representing the playlist tracks\")\n"
   ]
  },
  {
   "cell_type": "code",
   "execution_count": 176,
   "metadata": {},
   "outputs": [],
   "source": [
    "# Display track name and artist in the format <trackname>:<artist>\n",
    "\n",
    "track_list = []\n",
    "\n",
    "for item in tracks_raw:\n",
    "    track = item['track']\n",
    "    track_name = track['name']\n",
    "    artist_name = track['artists'][0]['name']\n",
    "    track = Track(artist=artist_name, name=track_name)\n",
    "    track_list.append(track)  # Taking only the first artist\n",
    "    # print(f\"{track_name}:{artist_name}\")\n",
    "\n",
    "tracks = Tracks(tracks=track_list)\n",
    "# print(tracks.model_dump_json(indent=2))"
   ]
  },
  {
   "cell_type": "markdown",
   "metadata": {},
   "source": [
    "# Create Track List ToolMessage for LLM"
   ]
  },
  {
   "cell_type": "code",
   "execution_count": 177,
   "metadata": {},
   "outputs": [],
   "source": [
    "tool_message = ToolMessage(content=tracks.model_dump_json(indent=2), name=track_list_tool_message.name, tool_call_id=track_list_tool_message.tool_call_id)"
   ]
  },
  {
   "cell_type": "markdown",
   "metadata": {},
   "source": [
    "# Add Tool message containing playlist tracks to list of messages"
   ]
  },
  {
   "cell_type": "code",
   "execution_count": 178,
   "metadata": {},
   "outputs": [],
   "source": [
    "chat_prompt_template += tool_message"
   ]
  },
  {
   "cell_type": "code",
   "execution_count": 179,
   "metadata": {},
   "outputs": [
    {
     "data": {
      "text/plain": [
       "[HumanMessage(content=\"\\nBuild a Spotify Playlist with tracks of the same vibe as my 'New Rock' playlist. Here are some rules\\n\\n1 - Only suggest tracks from artist not present on the 'New Rock' playlist\\n2 - Artist should have achieved success after year 2010\\n3 - Do not use 'The Raconteurs' as an artist\\n4 - Playlist should have around 100 tracks\\n5 - Feel free to add some hidden gems\\n\", additional_kwargs={}, response_metadata={}),\n",
       " AIMessage(content='', additional_kwargs={'tool_calls': [{'id': 'call_qMkFqJ5eP6s5pZ9VdtCM2ZOw', 'function': {'arguments': '{}', 'name': 'get_playlists'}, 'type': 'function'}], 'refusal': None}, response_metadata={'token_usage': {'completion_tokens': 11, 'prompt_tokens': 222, 'total_tokens': 233, 'completion_tokens_details': {'accepted_prediction_tokens': 0, 'audio_tokens': 0, 'reasoning_tokens': 0, 'rejected_prediction_tokens': 0}, 'prompt_tokens_details': {'audio_tokens': 0, 'cached_tokens': 0}}, 'model_name': 'gpt-4o-2024-08-06', 'system_fingerprint': 'fp_45cf54deae', 'finish_reason': 'tool_calls', 'logprobs': None}, id='run-d0237e69-cf60-4bf2-b530-e7452e68301a-0', tool_calls=[{'name': 'get_playlists', 'args': {}, 'id': 'call_qMkFqJ5eP6s5pZ9VdtCM2ZOw', 'type': 'tool_call'}], usage_metadata={'input_tokens': 222, 'output_tokens': 11, 'total_tokens': 233, 'input_token_details': {'audio': 0, 'cache_read': 0}, 'output_token_details': {'audio': 0, 'reasoning': 0}}),\n",
       " ToolMessage(content='{\"playlists\": [\"1, spotify:playlist:2dbYK5b7J0F7IdH5n1TEUK,  RPreacher\", \"2, spotify:playlist:4ack9YtUhdxRayJDAqlfQe,  RP Bossa Nova Chill \", \"3, spotify:playlist:75NW18NgdZuZeifrcjxKlZ,  GVF\", \"4, spotify:playlist:5iyONtUO21O88xw8pBblwh,  Now And Then\", \"5, spotify:playlist:4SDSUMg2HJcGFmHlupsU7U,  Jazz classics\", \"6, spotify:playlist:5fBxLG2wLAPVpx83402rHl,  Acdc\", \"7, spotify:playlist:17Yxm5hQbkbZwDcCTuiDXC,  einaudi\", \"8, spotify:playlist:2X6GccWfIqPWO6VYx405nO,  Eric Clapton Blues\", \"9, spotify:playlist:3smVXe8y8w8nt4lFH0HBkW,  Alchemy: Dire Straits\", \"10, spotify:playlist:2ifRZBXnX7UmIPUlGet5WZ,  Blues\", \"11, spotify:playlist:5nn2ePtd9gYEEDL3XnACCB,  brazil\", \"12, spotify:playlist:6YAntoKNXuogPKdV26b6XE,  CCR\", \"13, spotify:playlist:2VHkZvOMCkLF3B7TsKerKD,  Chill\", \"14, spotify:playlist:508lbLx9XUkHv5Xb45hxTP,  Classic Rock\", \"15, spotify:playlist:7zzDMq1sPwkZPYeqOQJ9qS,  The New Four Seasons - Vivaldi Recomposed\", \"16, spotify:playlist:4l8WcaYlPkuVPXVGxMIca3,  New Study\", \"17, spotify:playlist:0Wr2Z9vroQ9IXKaokFHldt,  Islands - Essential Einaudi (Deluxe Version)\", \"18, spotify:playlist:780Yx65yiaLtBYM76neBYC,  Gioachino Rossini \\\\u2013 Rossini: Overtures\", \"19, spotify:playlist:76rUGmzqh1OhyheEOUDYNp,  Fr\\\\u00e9d\\\\u00e9ric Chopin \\\\u2013 Chopin: Nocturnes\", \"20, spotify:playlist:5qcHJodVJd8AEOT2cCvxEm,  Fr\\\\u00e9d\\\\u00e9ric Chopin \\\\u2013 Chopin: Nocturnes - Sony Classical Originals 2\", \"21, spotify:playlist:7hr9yYAJLXDoJ5sKBhm8Af,  Antonio Vivaldi \\\\u2013 Vivaldi: Guitar Concertos\", \"22, spotify:playlist:4ruyjAXs6VHU8ZYJqXsUiN,  Sergei Rachmaninoff \\\\u2013 Rachmaninoff Plays Rachmaninoff: Concertos Nos. 2 and 3\", \"23, spotify:playlist:4GYOeGfC7fSephEi3UYh0W,  Erik Satie \\\\u2013 Satie: Gymnop\\\\u00e9dies, Gnossiennes & Other Works\", \"24, spotify:playlist:2lop6NfhiYA07UzhWUCyc2,  Classical Masters\", \"25, spotify:playlist:2RUN05cfOlR09kJUvTAEPk,  Evil Woman\", \"26, spotify:playlist:3DEKSWlDt8Qors1NpYLXwt,  Hits 2000\", \"27, spotify:playlist:7FgZOBK0lhTZz7gMJeV7gs,  Insomniac\", \"28, spotify:playlist:6DgcAL9oygPekQLDY2mFDq,  Jean-Michel Jarre \\\\u2013 Equinoxe\", \"29, spotify:playlist:6X1fib1966dU31uZdTH5p1,  Misplaced Childhood (2017 Remaster)\", \"30, spotify:playlist:5mxEevqyJ7IbtnmxlRSlaL,  My Playlist #36\", \"31, spotify:playlist:01tk0aitEuGK0ajWCkzdKc,  New Rock\", \"32, spotify:playlist:5Culgc9kaBQ5b9oOHXXhB6,  Nothing But the Blues (Live)\", \"33, spotify:playlist:5qYPd1AvydE1Ltz5uGCVVG,  Pet Shop Boys\", \"34, spotify:playlist:43ekrNptzLLkRVGuZWUI83,  Pink Floyd\", \"35, spotify:playlist:25odQP99Tc8QbNs8dWWsQV,  Pink Floyd \\\\u2013 The Wall\", \"36, spotify:playlist:6smB0SEs5sX0FOzA4h22Eq,  Rock\", \"37, spotify:playlist:5q5ZVp6frFMc8y0ivNfGk2,  Rock Balads\", \"38, spotify:playlist:4Vk5tgx9FcO17ZhdFwxJIp,  Rock Hard\", \"39, spotify:playlist:3n3RLXoDDH7O9XpusnnnvV,  Rolling Stones\", \"40, spotify:playlist:5XdXmStK6X9ZPstLvDBekC,  Workout\"]}', name='get_playlists', tool_call_id='call_qMkFqJ5eP6s5pZ9VdtCM2ZOw'),\n",
       " AIMessage(content='', additional_kwargs={'tool_calls': [{'id': 'call_Rvjus8FS2I98RBcGqsy1sF6c', 'function': {'arguments': '{\"playlist_id\":\"01tk0aitEuGK0ajWCkzdKc\"}', 'name': 'get_track_list'}, 'type': 'function'}], 'refusal': None}, response_metadata={'token_usage': {'completion_tokens': 28, 'prompt_tokens': 1508, 'total_tokens': 1536, 'completion_tokens_details': {'accepted_prediction_tokens': 0, 'audio_tokens': 0, 'reasoning_tokens': 0, 'rejected_prediction_tokens': 0}, 'prompt_tokens_details': {'audio_tokens': 0, 'cached_tokens': 0}}, 'model_name': 'gpt-4o-2024-08-06', 'system_fingerprint': 'fp_45cf54deae', 'finish_reason': 'tool_calls', 'logprobs': None}, id='run-cfd0805f-fe4e-41c2-9a76-936ad1b7360a-0', tool_calls=[{'name': 'get_track_list', 'args': {'playlist_id': '01tk0aitEuGK0ajWCkzdKc'}, 'id': 'call_Rvjus8FS2I98RBcGqsy1sF6c', 'type': 'tool_call'}], usage_metadata={'input_tokens': 1508, 'output_tokens': 28, 'total_tokens': 1536, 'input_token_details': {'audio': 0, 'cache_read': 0}, 'output_token_details': {'audio': 0, 'reasoning': 0}}),\n",
       " ToolMessage(content='{\\n  \"tracks\": [\\n    {\\n      \"artist\": \"Gary Clark Jr.\",\\n      \"name\": \"Low Down Rolling Stone\"\\n    },\\n    {\\n      \"artist\": \"Ayron Jones\",\\n      \"name\": \"Take Me Away\"\\n    },\\n    {\\n      \"artist\": \"Thirty Seconds To Mars\",\\n      \"name\": \"Walk On Water\"\\n    },\\n    {\\n      \"artist\": \"KALEO\",\\n      \"name\": \"No Good\"\\n    },\\n    {\\n      \"artist\": \"Arctic Monkeys\",\\n      \"name\": \"Fluorescent Adolescent\"\\n    },\\n    {\\n      \"artist\": \"Queens of the Stone Age\",\\n      \"name\": \"I Sat by the Ocean\"\\n    },\\n    {\\n      \"artist\": \"Black Pistol Fire\",\\n      \"name\": \"Lost Cause\"\\n    },\\n    {\\n      \"artist\": \"Welshly Arms\",\\n      \"name\": \"Legendary\"\\n    },\\n    {\\n      \"artist\": \"The Record Company\",\\n      \"name\": \"How High\"\\n    },\\n    {\\n      \"artist\": \"The Heavy\",\\n      \"name\": \"What Makes A Good Man?\"\\n    },\\n    {\\n      \"artist\": \"Queens of the Stone Age\",\\n      \"name\": \"The Way You Used To Do\"\\n    },\\n    {\\n      \"artist\": \"Greta Van Fleet\",\\n      \"name\": \"Highway Tune\"\\n    },\\n    {\\n      \"artist\": \"Whiskey Myers\",\\n      \"name\": \"Gasoline\"\\n    },\\n    {\\n      \"artist\": \"Colter Wall\",\\n      \"name\": \"Sleeping on the Blacktop\"\\n    },\\n    {\\n      \"artist\": \"Tyler Childers\",\\n      \"name\": \"Whitehouse Road\"\\n    },\\n    {\\n      \"artist\": \"Chris Stapleton\",\\n      \"name\": \"Devil Always Made Me Think Twice\"\\n    },\\n    {\\n      \"artist\": \"The Blue Stones\",\\n      \"name\": \"One By One\"\\n    },\\n    {\\n      \"artist\": \"Goodbye June\",\\n      \"name\": \"Step Aside\"\\n    },\\n    {\\n      \"artist\": \"Muse\",\\n      \"name\": \"Uprising\"\\n    },\\n    {\\n      \"artist\": \"Arctic Monkeys\",\\n      \"name\": \"505\"\\n    },\\n    {\\n      \"artist\": \"Arctic Monkeys\",\\n      \"name\": \"Snap Out Of It\"\\n    },\\n    {\\n      \"artist\": \"Arctic Monkeys\",\\n      \"name\": \"Four Out Of Five\"\\n    },\\n    {\\n      \"artist\": \"Samantha Fish\",\\n      \"name\": \"Kill Or Be Kind\"\\n    },\\n    {\\n      \"artist\": \"The Blue Stones\",\\n      \"name\": \"Black Holes (Solid Ground)\"\\n    },\\n    {\\n      \"artist\": \"The Black Keys\",\\n      \"name\": \"Little Black Submarines\"\\n    },\\n    {\\n      \"artist\": \"The Arcs\",\\n      \"name\": \"Fools Gold\"\\n    },\\n    {\\n      \"artist\": \"Audioslave\",\\n      \"name\": \"Doesn\\'t Remind Me\"\\n    },\\n    {\\n      \"artist\": \"Yola\",\\n      \"name\": \"Stand For Myself\"\\n    },\\n    {\\n      \"artist\": \"Emily Jane White\",\\n      \"name\": \"Hole In The Middle\"\\n    },\\n    {\\n      \"artist\": \"Cage The Elephant\",\\n      \"name\": \"Trouble\"\\n    },\\n    {\\n      \"artist\": \"Jackyl\",\\n      \"name\": \"Everyone\\'s a Winner\"\\n    },\\n    {\\n      \"artist\": \"Yeah Yeah Yeahs\",\\n      \"name\": \"Spitting Off the Edge of the World\"\\n    },\\n    {\\n      \"artist\": \"Stone Sour\",\\n      \"name\": \"Wicked Game - Acoustic; Live\"\\n    },\\n    {\\n      \"artist\": \"The Technicolors\",\\n      \"name\": \"Tonight You Are Mine\"\\n    },\\n    {\\n      \"artist\": \"Reignwolf\",\\n      \"name\": \"Ritual\"\\n    },\\n    {\\n      \"artist\": \"Audioslave\",\\n      \"name\": \"Like a Stone\"\\n    },\\n    {\\n      \"artist\": \"Inhaler\",\\n      \"name\": \"Fade Into You\"\\n    },\\n    {\\n      \"artist\": \"Barns Courtney\",\\n      \"name\": \"Golden Dandelions - Acoustic\"\\n    },\\n    {\\n      \"artist\": \"Alabama Shakes\",\\n      \"name\": \"Hold On\"\\n    },\\n    {\\n      \"artist\": \"Queens of the Stone Age\",\\n      \"name\": \"Make It Wit Chu\"\\n    },\\n    {\\n      \"artist\": \"James\",\\n      \"name\": \"Born Of Frustration\"\\n    },\\n    {\\n      \"artist\": \"Local Natives\",\\n      \"name\": \"I Saw You Close Your Eyes\"\\n    },\\n    {\\n      \"artist\": \"Wolfmother\",\\n      \"name\": \"Pretty Peggy\"\\n    },\\n    {\\n      \"artist\": \"Black Pistol Fire\",\\n      \"name\": \"Hope in Hell\"\\n    },\\n    {\\n      \"artist\": \"Greta Van Fleet\",\\n      \"name\": \"Built By Nations\"\\n    },\\n    {\\n      \"artist\": \"The Black Keys\",\\n      \"name\": \"Heavy Soul\"\\n    },\\n    {\\n      \"artist\": \"Barns Courtney\",\\n      \"name\": \"Golden Dandelions\"\\n    },\\n    {\\n      \"artist\": \"Goodbye June\",\\n      \"name\": \"Daisy\"\\n    },\\n    {\\n      \"artist\": \"The Arcs\",\\n      \"name\": \"The Arc\"\\n    },\\n    {\\n      \"artist\": \"The Black Keys\",\\n      \"name\": \"Wild Child\"\\n    },\\n    {\\n      \"artist\": \"Ron Gallo\",\\n      \"name\": \"Young Lady, You\\'re Scaring Me\"\\n    },\\n    {\\n      \"artist\": \"Blackberry Smoke\",\\n      \"name\": \"Waiting for the Thunder\"\\n    },\\n    {\\n      \"artist\": \"Broken Witt Rebels\",\\n      \"name\": \"Shake Me Down\"\\n    },\\n    {\\n      \"artist\": \"Welshly Arms\",\\n      \"name\": \"Hold on I\\'m Coming\"\\n    },\\n    {\\n      \"artist\": \"The Black Keys\",\\n      \"name\": \"Weight of Love\"\\n    },\\n    {\\n      \"artist\": \"The Bones of J.R. Jones\",\\n      \"name\": \"Bad Moves\"\\n    },\\n    {\\n      \"artist\": \"KALEO\",\\n      \"name\": \"I Can\\'t Go on Without You\"\\n    },\\n    {\\n      \"artist\": \"KALEO\",\\n      \"name\": \"Break My Baby - Stripped Back\"\\n    },\\n    {\\n      \"artist\": \"Maggie Bjorklund\",\\n      \"name\": \"Missing At Sea\"\\n    },\\n    {\\n      \"artist\": \"Greta Van Fleet\",\\n      \"name\": \"Age Of Man\"\\n    },\\n    {\\n      \"artist\": \"Last Train\",\\n      \"name\": \"Golden Songs\"\\n    },\\n    {\\n      \"artist\": \"Everlast\",\\n      \"name\": \"What It\\'s Like\"\\n    },\\n    {\\n      \"artist\": \"Florence + The Machine\",\\n      \"name\": \"My Love - Edit\"\\n    },\\n    {\\n      \"artist\": \"The Heavy\",\\n      \"name\": \"Our Special Place\"\\n    },\\n    {\\n      \"artist\": \"Local Natives\",\\n      \"name\": \"Dark Days\"\\n    },\\n    {\\n      \"artist\": \"Beach Weather\",\\n      \"name\": \"Sex, Drugs, Etc.\"\\n    },\\n    {\\n      \"artist\": \"Kings of Leon\",\\n      \"name\": \"The Bandit\"\\n    },\\n    {\\n      \"artist\": \"Santana\",\\n      \"name\": \"Joy\"\\n    },\\n    {\\n      \"artist\": \"Shakey Graves\",\\n      \"name\": \"The Perfect Parts\"\\n    },\\n    {\\n      \"artist\": \"Grian Chatten\",\\n      \"name\": \"Fairlies\"\\n    },\\n    {\\n      \"artist\": \"KALEO\",\\n      \"name\": \"Automobile\"\\n    },\\n    {\\n      \"artist\": \"Morningsiders\",\\n      \"name\": \"Don\\'t Let Me\"\\n    },\\n    {\\n      \"artist\": \"The Revivalists\",\\n      \"name\": \"Wish I Knew You\"\\n    },\\n    {\\n      \"artist\": \"Talking Heads\",\\n      \"name\": \"This Must Be the Place (Naive Melody) - 2005 Remaster\"\\n    },\\n    {\\n      \"artist\": \"Blur\",\\n      \"name\": \"The Narcissist\"\\n    },\\n    {\\n      \"artist\": \"David Gray\",\\n      \"name\": \"Please Forgive Me\"\\n    },\\n    {\\n      \"artist\": \"Sharon Jones & The Dap-Kings\",\\n      \"name\": \"Midnight Rider\"\\n    },\\n    {\\n      \"artist\": \"Danielle Ponder\",\\n      \"name\": \"Roll The Credits\"\\n    },\\n    {\\n      \"artist\": \"Queens of the Stone Age\",\\n      \"name\": \"I Wanna Make It Wit Chu - Live At Brixton Academy / 2005\"\\n    },\\n    {\\n      \"artist\": \"Post Malone\",\\n      \"name\": \"Sunflower - Spider-Man: Into the Spider-Verse\"\\n    },\\n    {\\n      \"artist\": \"Post Malone\",\\n      \"name\": \"Enough Is Enough\"\\n    },\\n    {\\n      \"artist\": \"The Rolling Stones\",\\n      \"name\": \"Sweet Sounds Of Heaven (feat. Lady Gaga)\"\\n    },\\n    {\\n      \"artist\": \"The Black Keys\",\\n      \"name\": \"Shine A Little Light\"\\n    },\\n    {\\n      \"artist\": \"Audioslave\",\\n      \"name\": \"I Am the Highway\"\\n    },\\n    {\\n      \"artist\": \"Tyler Childers\",\\n      \"name\": \"All Your\\'n\"\\n    },\\n    {\\n      \"artist\": \"The Black Keys\",\\n      \"name\": \"Going Down South\"\\n    },\\n    {\\n      \"artist\": \"Robert Randolph & The Family Band\",\\n      \"name\": \"Find a Way\"\\n    },\\n    {\\n      \"artist\": \"The Struts\",\\n      \"name\": \"Kiss This\"\\n    },\\n    {\\n      \"artist\": \"The Record Company\",\\n      \"name\": \"Rita Mae Young\"\\n    },\\n    {\\n      \"artist\": \"July Talk\",\\n      \"name\": \"Picturing Love\"\\n    },\\n    {\\n      \"artist\": \"Chris Cornell\",\\n      \"name\": \"Nearly Forgot My Broken Heart\"\\n    },\\n    {\\n      \"artist\": \"Sons Of The East\",\\n      \"name\": \"On My Way\"\\n    },\\n    {\\n      \"artist\": \"The Bones of J.R. Jones\",\\n      \"name\": \"The Good Life\"\\n    },\\n    {\\n      \"artist\": \"Mt. Joy\",\\n      \"name\": \"Silver Lining\"\\n    },\\n    {\\n      \"artist\": \"The Arcs\",\\n      \"name\": \"Pistol Made of Bones\"\\n    },\\n    {\\n      \"artist\": \"Rayland Baxter\",\\n      \"name\": \"Bad Things\"\\n    },\\n    {\\n      \"artist\": \"Cigarettes After Sex\",\\n      \"name\": \"Apocalypse\"\\n    },\\n    {\\n      \"artist\": \"Hozier\",\\n      \"name\": \"Angel of Small Death and the Codeine Scene\"\\n    },\\n    {\\n      \"artist\": \"Greta Van Fleet\",\\n      \"name\": \"Edge Of Darkness\"\\n    },\\n    {\\n      \"artist\": \"Greta Van Fleet\",\\n      \"name\": \"When The Curtain Falls\"\\n    }\\n  ]\\n}', name='get_track_list', tool_call_id='call_Rvjus8FS2I98RBcGqsy1sF6c')]"
      ]
     },
     "execution_count": 179,
     "metadata": {},
     "output_type": "execute_result"
    }
   ],
   "source": [
    "chat_prompt_template.format_messages()"
   ]
  },
  {
   "cell_type": "markdown",
   "metadata": {},
   "source": [
    "# Send Tool Result to LLM"
   ]
  },
  {
   "cell_type": "code",
   "execution_count": 180,
   "metadata": {},
   "outputs": [
    {
     "name": "stderr",
     "output_type": "stream",
     "text": [
      "2024-11-11 02:08:15,426 - INFO - HTTP Request: POST https://api.openai.com/v1/chat/completions \"HTTP/1.1 200 OK\"\n"
     ]
    },
    {
     "data": {
      "text/plain": [
       "Tracks(tracks=[Track(artist='Royal Blood', name='Figure It Out'), Track(artist='The Struts', name='Could Have Been Me'), Track(artist='Highly Suspect', name='My Name Is Human'), Track(artist='Nothing But Thieves', name='Amsterdam'), Track(artist='Rival Sons', name='Pressure and Time'), Track(artist='The Amazons', name='In My Mind'), Track(artist='Shame', name='Concrete'), Track(artist='Wolf Alice', name='Giant Peach'), Track(artist='IDLES', name='Danny Nedelko'), Track(artist='Fontaines D.C.', name='Boys in the Better Land'), Track(artist='Black Honey', name='Corrine'), Track(artist='The Vaccines', name=\"I Can't Quit\"), Track(artist='Courtney Barnett', name='Pedestrian at Best'), Track(artist='Fidlar', name='40oz. On Repeat'), Track(artist='King Gizzard & The Lizard Wizard', name='Rattlesnake'), Track(artist='The Mysterines', name=\"Love's Not Enough\"), Track(artist='The Nude Party', name='Chevrolet Van'), Track(artist='Greta Van Fleet', name='Safari Song'), Track(artist='Sam Fender', name='Hypersonic Missiles'), Track(artist='The Killers', name='Caution'), Track(artist='The Wombats', name='Turn'), Track(artist='Frank Carter & The Rattlesnakes', name='Crowbar'), Track(artist='YONAKA', name='Seize the Power'), Track(artist='The Amazons', name='Mother'), Track(artist='Inhaler', name='My Honest Face'), Track(artist='Gang of Youths', name='Let Me Down Easy'), Track(artist='The Snuts', name='Glasgow'), Track(artist='Vistas', name='Tigerblood'), Track(artist='Sports Team', name=\"Here's The Thing\"), Track(artist='Viagra Boys', name='Sports'), Track(artist='Fontaines D.C.', name=\"A Hero's Death\"), Track(artist='IDLES', name='Model Village'), Track(artist='The Mysterines', name='I Win Every Time'), Track(artist='The Big Moon', name='Your Light'), Track(artist='Sea Girls', name='All I Want To Hear You Say'), Track(artist='The Reytons', name='Red Smoke'), Track(artist='Sleaford Mods', name='Mork n Mindy'), Track(artist='Squid', name='Narrator'), Track(artist='Wet Leg', name='Chaise Longue'), Track(artist='Black Midi', name='John L'), Track(artist='Dry Cleaning', name='Scratchcard Lanyard'), Track(artist='Goat Girl', name='The Man'), Track(artist='LIFE', name='Moral Fibre'), Track(artist='The Lathums', name='How Beautiful Life Can Be'), Track(artist='Lime Cordiale', name='Robbery'), Track(artist=\"DMA's\", name='Silver'), Track(artist='The Chats', name='Smoko'), Track(artist='Amyl and The Sniffers', name='Guided by Angels'), Track(artist='The Beths', name='Dying to Believe'), Track(artist='The Blinders', name='Brave New World'), Track(artist='Blossoms', name='Your Girlfriend'), Track(artist='Fuzzy Sun', name='Fake It'), Track(artist='EASY LIFE', name='Nightmares'), Track(artist='The Royston Club', name='Mrs Narcissistic'), Track(artist='The Pale White', name='That Dress'), Track(artist='Black Pistol Fire', name='Hope in Hell'), Track(artist='Yonaka', name='F.W.T.B.'), Track(artist='The Academic', name='Bear Claws'), Track(artist='The Hunna', name=\"She's Casual\"), Track(artist='King Nun', name='Black Tree'), Track(artist='The Magic Gang', name='Take Back The Track'), Track(artist='The Sherlocks', name='Chasing Shadows'), Track(artist='Sunflower Bean', name='I Was a Fool'), Track(artist='The Coral', name='Lover Undiscovered'), Track(artist='The Rills', name='Stardog'), Track(artist='RAT BOY', name='Sign On'), Track(artist='Courtney Barnett', name='Avant Gardener'), Track(artist='Hinds', name='Good Bad Times'), Track(artist='The Vaccines', name='All My Friends Are Falling In Love'), Track(artist='The Regrettes', name='I Dare You'), Track(artist='The Mysterines', name='In My Head'), Track(artist='The Amazons', name='Doubt It'), Track(artist='YONAKA', name=\"Wouldn't Wanna Be Ya\"), Track(artist='The Snuts', name='Always'), Track(artist='Sea Girls', name='Open Up Your Head'), Track(artist='Inhaler', name='We Have to Move On'), Track(artist='The Reytons', name='Slice of Lime'), Track(artist='Fontaines D.C.', name='Televised Mind'), Track(artist='IDLES', name='Kill Them With Kindness'), Track(artist='The Blinders', name='Forty Days and Forty Nights'), Track(artist='The Sherlocks', name='End of the Earth'), Track(artist='The Lathums', name='The Great Escape'), Track(artist='Lime Cordiale', name='Inappropriate Behaviour'), Track(artist=\"DMA's\", name='The Glow'), Track(artist='The Chats', name='Pub Feed'), Track(artist='Amyl and The Sniffers', name=\"Some Mutts (Can't Be Muzzled)\"), Track(artist='The Beths', name='Jump Rope Gazers'), Track(artist='The Big Moon', name='Barcelona'), Track(artist='Squid', name='Paddling'), Track(artist='Sleaford Mods', name='Nudge It (feat. Amy Taylor)')])"
      ]
     },
     "execution_count": 180,
     "metadata": {},
     "output_type": "execute_result"
    }
   ],
   "source": [
    "llm_with_structured_output = llm.with_structured_output(schema=Tracks, method='json_schema')\n",
    "response = llm_with_structured_output.invoke(chat_prompt_template.format_messages())\n",
    "# response = llm_with_tools.invoke(chat_prompt_template.format_messages())\n",
    "response"
   ]
  },
  {
   "cell_type": "code",
   "execution_count": 181,
   "metadata": {},
   "outputs": [
    {
     "data": {
      "text/plain": [
       "[Track(artist='Royal Blood', name='Figure It Out'),\n",
       " Track(artist='The Struts', name='Could Have Been Me'),\n",
       " Track(artist='Highly Suspect', name='My Name Is Human'),\n",
       " Track(artist='Nothing But Thieves', name='Amsterdam'),\n",
       " Track(artist='Rival Sons', name='Pressure and Time'),\n",
       " Track(artist='The Amazons', name='In My Mind'),\n",
       " Track(artist='Shame', name='Concrete'),\n",
       " Track(artist='Wolf Alice', name='Giant Peach'),\n",
       " Track(artist='IDLES', name='Danny Nedelko'),\n",
       " Track(artist='Fontaines D.C.', name='Boys in the Better Land'),\n",
       " Track(artist='Black Honey', name='Corrine'),\n",
       " Track(artist='The Vaccines', name=\"I Can't Quit\"),\n",
       " Track(artist='Courtney Barnett', name='Pedestrian at Best'),\n",
       " Track(artist='Fidlar', name='40oz. On Repeat'),\n",
       " Track(artist='King Gizzard & The Lizard Wizard', name='Rattlesnake'),\n",
       " Track(artist='The Mysterines', name=\"Love's Not Enough\"),\n",
       " Track(artist='The Nude Party', name='Chevrolet Van'),\n",
       " Track(artist='Greta Van Fleet', name='Safari Song'),\n",
       " Track(artist='Sam Fender', name='Hypersonic Missiles'),\n",
       " Track(artist='The Killers', name='Caution'),\n",
       " Track(artist='The Wombats', name='Turn'),\n",
       " Track(artist='Frank Carter & The Rattlesnakes', name='Crowbar'),\n",
       " Track(artist='YONAKA', name='Seize the Power'),\n",
       " Track(artist='The Amazons', name='Mother'),\n",
       " Track(artist='Inhaler', name='My Honest Face'),\n",
       " Track(artist='Gang of Youths', name='Let Me Down Easy'),\n",
       " Track(artist='The Snuts', name='Glasgow'),\n",
       " Track(artist='Vistas', name='Tigerblood'),\n",
       " Track(artist='Sports Team', name=\"Here's The Thing\"),\n",
       " Track(artist='Viagra Boys', name='Sports'),\n",
       " Track(artist='Fontaines D.C.', name=\"A Hero's Death\"),\n",
       " Track(artist='IDLES', name='Model Village'),\n",
       " Track(artist='The Mysterines', name='I Win Every Time'),\n",
       " Track(artist='The Big Moon', name='Your Light'),\n",
       " Track(artist='Sea Girls', name='All I Want To Hear You Say'),\n",
       " Track(artist='The Reytons', name='Red Smoke'),\n",
       " Track(artist='Sleaford Mods', name='Mork n Mindy'),\n",
       " Track(artist='Squid', name='Narrator'),\n",
       " Track(artist='Wet Leg', name='Chaise Longue'),\n",
       " Track(artist='Black Midi', name='John L'),\n",
       " Track(artist='Dry Cleaning', name='Scratchcard Lanyard'),\n",
       " Track(artist='Goat Girl', name='The Man'),\n",
       " Track(artist='LIFE', name='Moral Fibre'),\n",
       " Track(artist='The Lathums', name='How Beautiful Life Can Be'),\n",
       " Track(artist='Lime Cordiale', name='Robbery'),\n",
       " Track(artist=\"DMA's\", name='Silver'),\n",
       " Track(artist='The Chats', name='Smoko'),\n",
       " Track(artist='Amyl and The Sniffers', name='Guided by Angels'),\n",
       " Track(artist='The Beths', name='Dying to Believe'),\n",
       " Track(artist='The Blinders', name='Brave New World'),\n",
       " Track(artist='Blossoms', name='Your Girlfriend'),\n",
       " Track(artist='Fuzzy Sun', name='Fake It'),\n",
       " Track(artist='EASY LIFE', name='Nightmares'),\n",
       " Track(artist='The Royston Club', name='Mrs Narcissistic'),\n",
       " Track(artist='The Pale White', name='That Dress'),\n",
       " Track(artist='Black Pistol Fire', name='Hope in Hell'),\n",
       " Track(artist='Yonaka', name='F.W.T.B.'),\n",
       " Track(artist='The Academic', name='Bear Claws'),\n",
       " Track(artist='The Hunna', name=\"She's Casual\"),\n",
       " Track(artist='King Nun', name='Black Tree'),\n",
       " Track(artist='The Magic Gang', name='Take Back The Track'),\n",
       " Track(artist='The Sherlocks', name='Chasing Shadows'),\n",
       " Track(artist='Sunflower Bean', name='I Was a Fool'),\n",
       " Track(artist='The Coral', name='Lover Undiscovered'),\n",
       " Track(artist='The Rills', name='Stardog'),\n",
       " Track(artist='RAT BOY', name='Sign On'),\n",
       " Track(artist='Courtney Barnett', name='Avant Gardener'),\n",
       " Track(artist='Hinds', name='Good Bad Times'),\n",
       " Track(artist='The Vaccines', name='All My Friends Are Falling In Love'),\n",
       " Track(artist='The Regrettes', name='I Dare You'),\n",
       " Track(artist='The Mysterines', name='In My Head'),\n",
       " Track(artist='The Amazons', name='Doubt It'),\n",
       " Track(artist='YONAKA', name=\"Wouldn't Wanna Be Ya\"),\n",
       " Track(artist='The Snuts', name='Always'),\n",
       " Track(artist='Sea Girls', name='Open Up Your Head'),\n",
       " Track(artist='Inhaler', name='We Have to Move On'),\n",
       " Track(artist='The Reytons', name='Slice of Lime'),\n",
       " Track(artist='Fontaines D.C.', name='Televised Mind'),\n",
       " Track(artist='IDLES', name='Kill Them With Kindness'),\n",
       " Track(artist='The Blinders', name='Forty Days and Forty Nights'),\n",
       " Track(artist='The Sherlocks', name='End of the Earth'),\n",
       " Track(artist='The Lathums', name='The Great Escape'),\n",
       " Track(artist='Lime Cordiale', name='Inappropriate Behaviour'),\n",
       " Track(artist=\"DMA's\", name='The Glow'),\n",
       " Track(artist='The Chats', name='Pub Feed'),\n",
       " Track(artist='Amyl and The Sniffers', name=\"Some Mutts (Can't Be Muzzled)\"),\n",
       " Track(artist='The Beths', name='Jump Rope Gazers'),\n",
       " Track(artist='The Big Moon', name='Barcelona'),\n",
       " Track(artist='Squid', name='Paddling'),\n",
       " Track(artist='Sleaford Mods', name='Nudge It (feat. Amy Taylor)')]"
      ]
     },
     "execution_count": 181,
     "metadata": {},
     "output_type": "execute_result"
    }
   ],
   "source": [
    "response.tracks"
   ]
  },
  {
   "cell_type": "code",
   "execution_count": 182,
   "metadata": {},
   "outputs": [
    {
     "name": "stderr",
     "output_type": "stream",
     "text": [
      "2024-11-11 02:08:37,499 - INFO - HTTP Request: POST https://api.openai.com/v1/chat/completions \"HTTP/1.1 200 OK\"\n"
     ]
    },
    {
     "data": {
      "text/plain": [
       "Tracks(tracks=[Track(artist='Royal Blood', name=\"Trouble's Coming\"), Track(artist='IDLES', name='Danny Nedelko'), Track(artist='Fontaines D.C.', name='Boys in the Better Land'), Track(artist='The Amazons', name='Mother'), Track(artist='Black Midi', name='John L'), Track(artist='King Gizzard & The Lizard Wizard', name='Self-Immolate'), Track(artist='Wolf Alice', name='Smile'), Track(artist='Biffy Clyro', name='Space'), Track(artist='The War on Drugs', name='Pain'), Track(artist='The Mysterines', name='In My Head'), Track(artist='Shame', name='Concrete'), Track(artist='Viagra Boys', name='Sports'), Track(artist='Sleaford Mods', name='Nudge It (feat. Amy Taylor)'), Track(artist='Parquet Courts', name='Wide Awake'), Track(artist='Courtney Barnett', name='Pedestrian at Best'), Track(artist='Tash Sultana', name='Jungle'), Track(artist='The Nude Party', name='Chevrolet Van'), Track(artist='Phoebe Bridgers', name='Kyoto'), Track(artist='Sam Fender', name='Seventeen Going Under'), Track(artist='The Chats', name='Smoko'), Track(artist='Squid', name='Narrator (feat. Martha Skye Murphy)'), Track(artist='Django Django', name='Glowing in the Dark'), Track(artist='The Big Moon', name='Your Light'), Track(artist='FIDLAR', name='By Myself'), Track(artist='Jade Bird', name='Uh Huh'), Track(artist='Middle Kids', name='R U 4 Me?'), Track(artist=\"DMA'S\", name='Silver'), Track(artist='The Vaccines', name=\"I Can't Quit\"), Track(artist='The Wombats', name='Greek Tragedy'), Track(artist='Catfish and the Bottlemen', name='Longshot'), Track(artist='The Snuts', name='Glasgow'), Track(artist='The Sherlocks', name='Chasing Shadows'), Track(artist='Palaye Royale', name='Nervous Breakdown'), Track(artist='Nothing But Thieves', name='Amsterdam'), Track(artist='Inhaler', name='My Honest Face'), Track(artist='The Hunna', name=\"She's Casual\"), Track(artist='The Staves', name='Good Woman'), Track(artist='Sports Team', name=\"Here's The Thing\"), Track(artist='The Magic Gang', name='Think'), Track(artist='Sea Girls', name='All I Want To Hear You Say'), Track(artist='The Strypes', name='Get Into It'), Track(artist='The Lathums', name='How Beautiful Life Can Be'), Track(artist='The Pale White', name='That Dress'), Track(artist='The Sherlocks', name='Live For The Moment'), Track(artist='The Academic', name='Bear Claws'), Track(artist='The Night Café', name='Finders Keepers'), Track(artist='VANT', name='Peace & Love'), Track(artist='The Blinders', name=\"I Can't Breathe Blues\"), Track(artist='Blossoms', name='Charlemagne'), Track(artist='Circa Waves', name='T-Shirt Weather'), Track(artist='The Japanese House', name='Saw You In A Dream'), Track(artist='The Slow Readers Club', name='Lunatic'), Track(artist='The Kooks', name='Be Who You Are'), Track(artist='The Courteeners', name='Not Nineteen Forever'), Track(artist='The Coral', name='In the Morning'), Track(artist='The Cribs', name=\"Men's Needs\"), Track(artist='The Subways', name='Rock & Roll Queen'), Track(artist='The Rifles', name='Romeo & Julie'), Track(artist='The Futureheads', name='Hounds of Love'), Track(artist='The Libertines', name=\"Can't Stand Me Now\"), Track(artist='The Rapture', name='House of Jealous Lovers'), Track(artist='The Last Shadow Puppets', name='The Age Of The Understatement'), Track(artist='The Vines', name='Get Free'), Track(artist='The Hives', name='Hate to Say I Told You So'), Track(artist='The Strokes', name='Reptilia'), Track(artist='The White Stripes', name='Blue Orchid'), Track(artist='Gerry Cinnamon', name='Belter'), Track(artist='The Fratellis', name='Chelsea Dagger'), Track(artist='Kasabian', name='Club Foot'), Track(artist='Arctic Monkeys', name='Arabella'), Track(artist='Foals', name='My Number'), Track(artist='Vampire Weekend', name='Diane Young'), Track(artist='Alt-J', name='Breezeblocks'), Track(artist='Tame Impala', name='Elephant'), Track(artist='The 1975', name='Sex'), Track(artist='Mumford & Sons', name='Little Lion Man'), Track(artist='Kings of Leon', name='Sex on Fire'), Track(artist='Imagine Dragons', name='Radioactive'), Track(artist='Bastille', name='Pompeii'), Track(artist='CHVRCHES', name='The Mother We Share'), Track(artist='Florence + The Machine', name='Shake It Out'), Track(artist='Lana Del Rey', name='Born To Die'), Track(artist='Hozier', name='Take Me To Church'), Track(artist='George Ezra', name='Budapest'), Track(artist='Sam Smith', name='Stay With Me')])"
      ]
     },
     "execution_count": 182,
     "metadata": {},
     "output_type": "execute_result"
    }
   ],
   "source": [
    "chat_prompt_template += HumanMessage(\"You have reused artists from the New Rock playlist, try again\")\n",
    "llm_with_structured_output = llm.with_structured_output(schema=Tracks, method='json_schema')\n",
    "response = llm_with_structured_output.invoke(chat_prompt_template.format_messages())\n",
    "response"
   ]
  },
  {
   "cell_type": "code",
   "execution_count": 184,
   "metadata": {},
   "outputs": [
    {
     "data": {
      "text/plain": [
       "[Track(artist='Royal Blood', name=\"Trouble's Coming\"),\n",
       " Track(artist='IDLES', name='Danny Nedelko'),\n",
       " Track(artist='Fontaines D.C.', name='Boys in the Better Land'),\n",
       " Track(artist='The Amazons', name='Mother'),\n",
       " Track(artist='Black Midi', name='John L'),\n",
       " Track(artist='King Gizzard & The Lizard Wizard', name='Self-Immolate'),\n",
       " Track(artist='Wolf Alice', name='Smile'),\n",
       " Track(artist='Biffy Clyro', name='Space'),\n",
       " Track(artist='The War on Drugs', name='Pain'),\n",
       " Track(artist='The Mysterines', name='In My Head'),\n",
       " Track(artist='Shame', name='Concrete'),\n",
       " Track(artist='Viagra Boys', name='Sports'),\n",
       " Track(artist='Sleaford Mods', name='Nudge It (feat. Amy Taylor)'),\n",
       " Track(artist='Parquet Courts', name='Wide Awake'),\n",
       " Track(artist='Courtney Barnett', name='Pedestrian at Best'),\n",
       " Track(artist='Tash Sultana', name='Jungle'),\n",
       " Track(artist='The Nude Party', name='Chevrolet Van'),\n",
       " Track(artist='Phoebe Bridgers', name='Kyoto'),\n",
       " Track(artist='Sam Fender', name='Seventeen Going Under'),\n",
       " Track(artist='The Chats', name='Smoko'),\n",
       " Track(artist='Squid', name='Narrator (feat. Martha Skye Murphy)'),\n",
       " Track(artist='Django Django', name='Glowing in the Dark'),\n",
       " Track(artist='The Big Moon', name='Your Light'),\n",
       " Track(artist='FIDLAR', name='By Myself'),\n",
       " Track(artist='Jade Bird', name='Uh Huh'),\n",
       " Track(artist='Middle Kids', name='R U 4 Me?'),\n",
       " Track(artist=\"DMA'S\", name='Silver'),\n",
       " Track(artist='The Vaccines', name=\"I Can't Quit\"),\n",
       " Track(artist='The Wombats', name='Greek Tragedy'),\n",
       " Track(artist='Catfish and the Bottlemen', name='Longshot'),\n",
       " Track(artist='The Snuts', name='Glasgow'),\n",
       " Track(artist='The Sherlocks', name='Chasing Shadows'),\n",
       " Track(artist='Palaye Royale', name='Nervous Breakdown'),\n",
       " Track(artist='Nothing But Thieves', name='Amsterdam'),\n",
       " Track(artist='Inhaler', name='My Honest Face'),\n",
       " Track(artist='The Hunna', name=\"She's Casual\"),\n",
       " Track(artist='The Staves', name='Good Woman'),\n",
       " Track(artist='Sports Team', name=\"Here's The Thing\"),\n",
       " Track(artist='The Magic Gang', name='Think'),\n",
       " Track(artist='Sea Girls', name='All I Want To Hear You Say'),\n",
       " Track(artist='The Strypes', name='Get Into It'),\n",
       " Track(artist='The Lathums', name='How Beautiful Life Can Be'),\n",
       " Track(artist='The Pale White', name='That Dress'),\n",
       " Track(artist='The Sherlocks', name='Live For The Moment'),\n",
       " Track(artist='The Academic', name='Bear Claws'),\n",
       " Track(artist='The Night Café', name='Finders Keepers'),\n",
       " Track(artist='VANT', name='Peace & Love'),\n",
       " Track(artist='The Blinders', name=\"I Can't Breathe Blues\"),\n",
       " Track(artist='Blossoms', name='Charlemagne'),\n",
       " Track(artist='Circa Waves', name='T-Shirt Weather'),\n",
       " Track(artist='The Japanese House', name='Saw You In A Dream'),\n",
       " Track(artist='The Slow Readers Club', name='Lunatic'),\n",
       " Track(artist='The Kooks', name='Be Who You Are'),\n",
       " Track(artist='The Courteeners', name='Not Nineteen Forever'),\n",
       " Track(artist='The Coral', name='In the Morning'),\n",
       " Track(artist='The Cribs', name=\"Men's Needs\"),\n",
       " Track(artist='The Subways', name='Rock & Roll Queen'),\n",
       " Track(artist='The Rifles', name='Romeo & Julie'),\n",
       " Track(artist='The Futureheads', name='Hounds of Love'),\n",
       " Track(artist='The Libertines', name=\"Can't Stand Me Now\"),\n",
       " Track(artist='The Rapture', name='House of Jealous Lovers'),\n",
       " Track(artist='The Last Shadow Puppets', name='The Age Of The Understatement'),\n",
       " Track(artist='The Vines', name='Get Free'),\n",
       " Track(artist='The Hives', name='Hate to Say I Told You So'),\n",
       " Track(artist='The Strokes', name='Reptilia'),\n",
       " Track(artist='The White Stripes', name='Blue Orchid'),\n",
       " Track(artist='Gerry Cinnamon', name='Belter'),\n",
       " Track(artist='The Fratellis', name='Chelsea Dagger'),\n",
       " Track(artist='Kasabian', name='Club Foot'),\n",
       " Track(artist='Arctic Monkeys', name='Arabella'),\n",
       " Track(artist='Foals', name='My Number'),\n",
       " Track(artist='Vampire Weekend', name='Diane Young'),\n",
       " Track(artist='Alt-J', name='Breezeblocks'),\n",
       " Track(artist='Tame Impala', name='Elephant'),\n",
       " Track(artist='The 1975', name='Sex'),\n",
       " Track(artist='Mumford & Sons', name='Little Lion Man'),\n",
       " Track(artist='Kings of Leon', name='Sex on Fire'),\n",
       " Track(artist='Imagine Dragons', name='Radioactive'),\n",
       " Track(artist='Bastille', name='Pompeii'),\n",
       " Track(artist='CHVRCHES', name='The Mother We Share'),\n",
       " Track(artist='Florence + The Machine', name='Shake It Out'),\n",
       " Track(artist='Lana Del Rey', name='Born To Die'),\n",
       " Track(artist='Hozier', name='Take Me To Church'),\n",
       " Track(artist='George Ezra', name='Budapest'),\n",
       " Track(artist='Sam Smith', name='Stay With Me')]"
      ]
     },
     "execution_count": 184,
     "metadata": {},
     "output_type": "execute_result"
    }
   ],
   "source": [
    "response.tracks"
   ]
  }
 ],
 "metadata": {
  "kernelspec": {
   "display_name": ".venv",
   "language": "python",
   "name": "python3"
  },
  "language_info": {
   "codemirror_mode": {
    "name": "ipython",
    "version": 3
   },
   "file_extension": ".py",
   "mimetype": "text/x-python",
   "name": "python",
   "nbconvert_exporter": "python",
   "pygments_lexer": "ipython3",
   "version": "3.12.5"
  }
 },
 "nbformat": 4,
 "nbformat_minor": 2
}
