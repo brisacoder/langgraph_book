{
 "cells": [
  {
   "cell_type": "code",
   "execution_count": 1,
   "metadata": {},
   "outputs": [],
   "source": [
    "%%capture --no-stderr\n",
    "%pip install --quiet -U langgraph langchain-core langchain_openai python-dotenv langsmith pydantic spotipy"
   ]
  },
  {
   "cell_type": "code",
   "execution_count": 2,
   "metadata": {},
   "outputs": [
    {
     "name": "stdout",
     "output_type": "stream",
     "text": [
      "Note: you may need to restart the kernel to use updated packages.\n",
      "Note: you may need to restart the kernel to use updated packages.\n"
     ]
    }
   ],
   "source": [
    "%pip install --quiet -U jupyterlab-lsp\n",
    "%pip install --quiet -U \"python-lsp-server[all]\""
   ]
  },
  {
   "cell_type": "code",
   "execution_count": 3,
   "metadata": {},
   "outputs": [],
   "source": [
    "## Setup logging\n",
    "import logging\n",
    "import os\n",
    "from dotenv import load_dotenv\n",
    "\n",
    "load_dotenv(override=True)\n",
    "logger = logging.getLogger(__name__)\n",
    "\n",
    "# Configure logging\n",
    "logging.basicConfig(\n",
    "    level=logging.INFO,\n",
    "    format='%(asctime)s - %(levelname)s - %(message)s',  # Define the format\n",
    "    handlers=[logging.StreamHandler()]  # Output to the console\n",
    ")"
   ]
  },
  {
   "cell_type": "markdown",
   "metadata": {},
   "source": [
    "# Define Search Tool"
   ]
  },
  {
   "cell_type": "code",
   "execution_count": 4,
   "metadata": {},
   "outputs": [
    {
     "data": {
      "text/plain": [
       "'A search engine optimized for comprehensive, accurate, and trusted results. Useful for when you need to answer questions about current events. Input should be a search query.'"
      ]
     },
     "execution_count": 4,
     "metadata": {},
     "output_type": "execute_result"
    }
   ],
   "source": [
    "from langchain_community.tools.tavily_search import TavilySearchResults\n",
    "\n",
    "search_tool = TavilySearchResults(\n",
    "    max_results=50,\n",
    "    include_answer=True,\n",
    "    include_raw_content=True,\n",
    "    include_images=True,\n",
    "    # search_depth=\"advanced\",\n",
    "    # include_domains = []\n",
    "    # exclude_domains = []\n",
    ")\n",
    "name = search_tool.get_name()\n",
    "desc = search_tool.description\n",
    "desc"
   ]
  },
  {
   "cell_type": "markdown",
   "metadata": {},
   "source": [
    "# Create ToolNode"
   ]
  },
  {
   "cell_type": "code",
   "execution_count": 5,
   "metadata": {},
   "outputs": [],
   "source": [
    "from langgraph.prebuilt import ToolNode\n",
    "from spotify_tools import get_playlists, create_spotify_playlist, get_track_list, add_tracks_to_playlist, filter_artists, get_artists_from_playlist, find_similar_artist\n",
    "from plan import validate_plan\n",
    "\n",
    "tools = [get_playlists, create_spotify_playlist, add_tracks_to_playlist, filter_artists, validate_plan, get_artists_from_playlist, search_tool, find_similar_artist, get_track_list]\n",
    "# tools = [get_playlists, get_track_list, create_spotify_playlist, add_tracks_to_playlist, search_tool]\n",
    "tool_node = ToolNode(tools)"
   ]
  },
  {
   "cell_type": "markdown",
   "metadata": {},
   "source": [
    "# Manual Test of Tool Infra"
   ]
  },
  {
   "cell_type": "code",
   "execution_count": 6,
   "metadata": {},
   "outputs": [],
   "source": [
    "from langchain_core.messages import AIMessage, HumanMessage\n",
    "message_with_single_tool_call = AIMessage(\n",
    "    content=\"\",\n",
    "    tool_calls=[\n",
    "        {\n",
    "            \"name\": \"get_playlists\",\n",
    "            \"args\" : {},\n",
    "            \"id\": \"tool_call_id\",\n",
    "            \"type\": \"tool_call\",\n",
    "        }\n",
    "    ],\n",
    ")\n",
    "\n",
    "# tool_node.invoke({\"messages\": [message_with_single_tool_call]})"
   ]
  },
  {
   "cell_type": "markdown",
   "metadata": {},
   "source": [
    "# Bind Tools to Model"
   ]
  },
  {
   "cell_type": "code",
   "execution_count": 7,
   "metadata": {},
   "outputs": [],
   "source": [
    "from langchain_openai import ChatOpenAI\n",
    "\n",
    "llm = ChatOpenAI(model=os.getenv(\"OPENAI_MODEL_NAME\"), temperature=0.8)\n",
    "llm_with_tools = llm.bind_tools(tools)"
   ]
  },
  {
   "cell_type": "markdown",
   "metadata": {},
   "source": [
    "# First Message"
   ]
  },
  {
   "cell_type": "code",
   "execution_count": 8,
   "metadata": {},
   "outputs": [
    {
     "name": "stderr",
     "output_type": "stream",
     "text": [
      "2024-11-12 22:19:55,701 - INFO - HTTP Request: POST https://api.openai.com/v1/chat/completions \"HTTP/1.1 200 OK\"\n"
     ]
    }
   ],
   "source": [
    "from langchain_core.messages import HumanMessage\n",
    "from prompts import Prompts\n",
    "\n",
    "human_message = HumanMessage(Prompts.SPOTIFY)\n",
    "ai_tool_call_message = llm_with_tools.invoke([human_message])"
   ]
  },
  {
   "cell_type": "code",
   "execution_count": 9,
   "metadata": {},
   "outputs": [
    {
     "name": "stdout",
     "output_type": "stream",
     "text": [
      "==================================\u001b[1m Ai Message \u001b[0m==================================\n",
      "Tool Calls:\n",
      "  validate_plan (call_NMtqaAtPk4wLYMhEafJeBaEI)\n",
      " Call ID: call_NMtqaAtPk4wLYMhEafJeBaEI\n",
      "  Args:\n",
      "    plan: {'steps': [{'name': 'retrieve-original-playlist-artists', 'description': \"Get the list of unique artists from the 'New Rock and Blues' playlist.\", 'success_criteria': 'Successfully retrieved a list of artist names and their Spotify URIs from the original playlist.', 'tool': 'functions.get_artists_from_playlist', 'action': 'Call the function to get a list of artists from the existing playlist.'}, {'name': 'find-similar-artists', 'description': \"For each artist in the 'New Rock and Blues' playlist, find 3-4 artists with a similar style.\", 'success_criteria': 'Found a list of 3-4 similar artists for each original artist.', 'tool': 'functions.find_similar_artist', 'action': 'Call the function to find similar artists for each artist from the original playlist.'}, {'name': 'filter-existing-artists', 'description': \"Remove artists from the new list who are already present in the 'New Rock and Blues' playlist.\", 'success_criteria': 'Filtered list of new artists that do not include any artist from the original playlist.', 'tool': 'functions.filter_artists', 'action': 'Call the function to filter out existing artists from the new list.'}, {'name': 'identify-post-2010-artists', 'description': 'Identify artists who achieved success post-2010 from the filtered list.', 'success_criteria': 'A list of artists from the filtered list who achieved success after 2010 is created.', 'tool': 'functions.tavily_search_results_json', 'action': 'Use the search tool to verify the success timeline for each artist.'}, {'name': 'select-tracks-for-new-artists', 'description': 'Recommend 3-4 tracks for each new artist.', 'success_criteria': 'A curated list of 3-4 tracks for each new artist meeting the post-2010 success criteria.', 'tool': 'functions.get_track_list', 'action': 'Retrieve tracks for each artist and select 3-4 suitable tracks.'}, {'name': 'create-new-playlist', 'description': \"Create a new playlist named 'New Rock and Blues Vibe' on Spotify.\", 'success_criteria': \"A new Spotify playlist named 'New Rock and Blues Vibe' is created successfully.\", 'tool': 'functions.create_spotify_playlist', 'action': 'Call the function to create a new playlist with the specified name.'}, {'name': 'add-tracks-to-playlist', 'description': 'Add the selected tracks to the new playlist.', 'success_criteria': 'Successfully added all selected tracks to the new playlist.', 'tool': 'functions.add_tracks_to_playlist', 'action': 'Add the curated list of tracks to the new Spotify playlist.'}], 'Reasoning': \"To build a playlist that matches the vibe of 'New Rock and Blues', we need to identify similar artists and tracks while adhering to specific rules. The plan involves using Spotify's artist similarity data, filtering based on historical success, and curating tracks to ensure a smooth listening experience. Each step focuses on a specific task, ensuring the rules are followed and the objective is met efficiently.\"}\n"
     ]
    }
   ],
   "source": [
    "ai_tool_call_message.pretty_print()"
   ]
  },
  {
   "cell_type": "code",
   "execution_count": 10,
   "metadata": {},
   "outputs": [
    {
     "data": {
      "text/plain": [
       "{'plan': {'steps': [{'name': 'retrieve-original-playlist-artists',\n",
       "    'description': \"Get the list of unique artists from the 'New Rock and Blues' playlist.\",\n",
       "    'success_criteria': 'Successfully retrieved a list of artist names and their Spotify URIs from the original playlist.',\n",
       "    'tool': 'functions.get_artists_from_playlist',\n",
       "    'action': 'Call the function to get a list of artists from the existing playlist.'},\n",
       "   {'name': 'find-similar-artists',\n",
       "    'description': \"For each artist in the 'New Rock and Blues' playlist, find 3-4 artists with a similar style.\",\n",
       "    'success_criteria': 'Found a list of 3-4 similar artists for each original artist.',\n",
       "    'tool': 'functions.find_similar_artist',\n",
       "    'action': 'Call the function to find similar artists for each artist from the original playlist.'},\n",
       "   {'name': 'filter-existing-artists',\n",
       "    'description': \"Remove artists from the new list who are already present in the 'New Rock and Blues' playlist.\",\n",
       "    'success_criteria': 'Filtered list of new artists that do not include any artist from the original playlist.',\n",
       "    'tool': 'functions.filter_artists',\n",
       "    'action': 'Call the function to filter out existing artists from the new list.'},\n",
       "   {'name': 'identify-post-2010-artists',\n",
       "    'description': 'Identify artists who achieved success post-2010 from the filtered list.',\n",
       "    'success_criteria': 'A list of artists from the filtered list who achieved success after 2010 is created.',\n",
       "    'tool': 'functions.tavily_search_results_json',\n",
       "    'action': 'Use the search tool to verify the success timeline for each artist.'},\n",
       "   {'name': 'select-tracks-for-new-artists',\n",
       "    'description': 'Recommend 3-4 tracks for each new artist.',\n",
       "    'success_criteria': 'A curated list of 3-4 tracks for each new artist meeting the post-2010 success criteria.',\n",
       "    'tool': 'functions.get_track_list',\n",
       "    'action': 'Retrieve tracks for each artist and select 3-4 suitable tracks.'},\n",
       "   {'name': 'create-new-playlist',\n",
       "    'description': \"Create a new playlist named 'New Rock and Blues Vibe' on Spotify.\",\n",
       "    'success_criteria': \"A new Spotify playlist named 'New Rock and Blues Vibe' is created successfully.\",\n",
       "    'tool': 'functions.create_spotify_playlist',\n",
       "    'action': 'Call the function to create a new playlist with the specified name.'},\n",
       "   {'name': 'add-tracks-to-playlist',\n",
       "    'description': 'Add the selected tracks to the new playlist.',\n",
       "    'success_criteria': 'Successfully added all selected tracks to the new playlist.',\n",
       "    'tool': 'functions.add_tracks_to_playlist',\n",
       "    'action': 'Add the curated list of tracks to the new Spotify playlist.'}],\n",
       "  'Reasoning': \"To build a playlist that matches the vibe of 'New Rock and Blues', we need to identify similar artists and tracks while adhering to specific rules. The plan involves using Spotify's artist similarity data, filtering based on historical success, and curating tracks to ensure a smooth listening experience. Each step focuses on a specific task, ensuring the rules are followed and the objective is met efficiently.\"}}"
      ]
     },
     "execution_count": 10,
     "metadata": {},
     "output_type": "execute_result"
    }
   ],
   "source": [
    "import json\n",
    "plan = ai_tool_call_message.additional_kwargs[\"tool_calls\"][0][\"function\"][\"arguments\"]\n",
    "json.loads(plan)"
   ]
  },
  {
   "cell_type": "markdown",
   "metadata": {},
   "source": [
    "# chat_prompt_template holds all messages (Human, AI, Tool)"
   ]
  },
  {
   "cell_type": "code",
   "execution_count": 11,
   "metadata": {},
   "outputs": [
    {
     "data": {
      "text/plain": [
       "[HumanMessage(content=\"\\n    Create and execute a step-by-step plan with atomic tasks to solve the following problem:\\n\\n    **Objective:** Build a Spotify playlist with tracks that have the same vibe and genres as my 'New Rock and Blues' playlist, following the rules below.\\n\\n    **Rules:**\\n\\n    1. **For each artist in the 'New Rock and Blues' playlist, find 3-4 artists of the similar music style**\\n\\n    2 .**Remove from the new artist list those that are already present in the 'New Rock and Blues' Playlist**\\n\\n    3. **Focus on Post-2010 Success:** Only include tracks from artists who achieved success after the year 2010.\\n\\n    4. **Minimum Number of New Artists:** Include tracks from at least 40 different artists not present in the 'New Rock and Blues' playlist.\\n\\n    5. **Recommend 3-4 tracks for each new artist.\\n\\n    6. **Arrange for Smooth Listening Experience:** Organize the tracks to create a smooth listening experience, considering tempo, energy, and mood, using best practices.\\n\\n    7. **Playlist Length:** Ensure the new playlist contains at least 100 tracks.\\n\\n    **Instructions:**\\n\\n    - Follow the rules strictly to meet the objective.\\n    - Prefer using a tool if available, instead of your Knowledge Base\\n    - In your responses always state the step you are working on\\n    - Step(s) should be repeated any number of times to achieve the desired outcome.\\n    - Do not ask for user confirmation\\n    \", additional_kwargs={}, response_metadata={}),\n",
       " AIMessage(content='', additional_kwargs={'tool_calls': [{'id': 'call_NMtqaAtPk4wLYMhEafJeBaEI', 'function': {'arguments': '{\"plan\":{\"steps\":[{\"name\":\"retrieve-original-playlist-artists\",\"description\":\"Get the list of unique artists from the \\'New Rock and Blues\\' playlist.\",\"success_criteria\":\"Successfully retrieved a list of artist names and their Spotify URIs from the original playlist.\",\"tool\":\"functions.get_artists_from_playlist\",\"action\":\"Call the function to get a list of artists from the existing playlist.\"},{\"name\":\"find-similar-artists\",\"description\":\"For each artist in the \\'New Rock and Blues\\' playlist, find 3-4 artists with a similar style.\",\"success_criteria\":\"Found a list of 3-4 similar artists for each original artist.\",\"tool\":\"functions.find_similar_artist\",\"action\":\"Call the function to find similar artists for each artist from the original playlist.\"},{\"name\":\"filter-existing-artists\",\"description\":\"Remove artists from the new list who are already present in the \\'New Rock and Blues\\' playlist.\",\"success_criteria\":\"Filtered list of new artists that do not include any artist from the original playlist.\",\"tool\":\"functions.filter_artists\",\"action\":\"Call the function to filter out existing artists from the new list.\"},{\"name\":\"identify-post-2010-artists\",\"description\":\"Identify artists who achieved success post-2010 from the filtered list.\",\"success_criteria\":\"A list of artists from the filtered list who achieved success after 2010 is created.\",\"tool\":\"functions.tavily_search_results_json\",\"action\":\"Use the search tool to verify the success timeline for each artist.\"},{\"name\":\"select-tracks-for-new-artists\",\"description\":\"Recommend 3-4 tracks for each new artist.\",\"success_criteria\":\"A curated list of 3-4 tracks for each new artist meeting the post-2010 success criteria.\",\"tool\":\"functions.get_track_list\",\"action\":\"Retrieve tracks for each artist and select 3-4 suitable tracks.\"},{\"name\":\"create-new-playlist\",\"description\":\"Create a new playlist named \\'New Rock and Blues Vibe\\' on Spotify.\",\"success_criteria\":\"A new Spotify playlist named \\'New Rock and Blues Vibe\\' is created successfully.\",\"tool\":\"functions.create_spotify_playlist\",\"action\":\"Call the function to create a new playlist with the specified name.\"},{\"name\":\"add-tracks-to-playlist\",\"description\":\"Add the selected tracks to the new playlist.\",\"success_criteria\":\"Successfully added all selected tracks to the new playlist.\",\"tool\":\"functions.add_tracks_to_playlist\",\"action\":\"Add the curated list of tracks to the new Spotify playlist.\"}],\"Reasoning\":\"To build a playlist that matches the vibe of \\'New Rock and Blues\\', we need to identify similar artists and tracks while adhering to specific rules. The plan involves using Spotify\\'s artist similarity data, filtering based on historical success, and curating tracks to ensure a smooth listening experience. Each step focuses on a specific task, ensuring the rules are followed and the objective is met efficiently.\"}}', 'name': 'validate_plan'}, 'type': 'function'}], 'refusal': None}, response_metadata={'token_usage': {'completion_tokens': 596, 'prompt_tokens': 1508, 'total_tokens': 2104, 'completion_tokens_details': {'accepted_prediction_tokens': 0, 'audio_tokens': 0, 'reasoning_tokens': 0, 'rejected_prediction_tokens': 0}, 'prompt_tokens_details': {'audio_tokens': 0, 'cached_tokens': 0}}, 'model_name': 'gpt-4o-2024-08-06', 'system_fingerprint': 'fp_45cf54deae', 'finish_reason': 'tool_calls', 'logprobs': None}, id='run-0f9c46f6-9ede-48e0-bbc9-283802ec2da9-0', tool_calls=[{'name': 'validate_plan', 'args': {'plan': {'steps': [{'name': 'retrieve-original-playlist-artists', 'description': \"Get the list of unique artists from the 'New Rock and Blues' playlist.\", 'success_criteria': 'Successfully retrieved a list of artist names and their Spotify URIs from the original playlist.', 'tool': 'functions.get_artists_from_playlist', 'action': 'Call the function to get a list of artists from the existing playlist.'}, {'name': 'find-similar-artists', 'description': \"For each artist in the 'New Rock and Blues' playlist, find 3-4 artists with a similar style.\", 'success_criteria': 'Found a list of 3-4 similar artists for each original artist.', 'tool': 'functions.find_similar_artist', 'action': 'Call the function to find similar artists for each artist from the original playlist.'}, {'name': 'filter-existing-artists', 'description': \"Remove artists from the new list who are already present in the 'New Rock and Blues' playlist.\", 'success_criteria': 'Filtered list of new artists that do not include any artist from the original playlist.', 'tool': 'functions.filter_artists', 'action': 'Call the function to filter out existing artists from the new list.'}, {'name': 'identify-post-2010-artists', 'description': 'Identify artists who achieved success post-2010 from the filtered list.', 'success_criteria': 'A list of artists from the filtered list who achieved success after 2010 is created.', 'tool': 'functions.tavily_search_results_json', 'action': 'Use the search tool to verify the success timeline for each artist.'}, {'name': 'select-tracks-for-new-artists', 'description': 'Recommend 3-4 tracks for each new artist.', 'success_criteria': 'A curated list of 3-4 tracks for each new artist meeting the post-2010 success criteria.', 'tool': 'functions.get_track_list', 'action': 'Retrieve tracks for each artist and select 3-4 suitable tracks.'}, {'name': 'create-new-playlist', 'description': \"Create a new playlist named 'New Rock and Blues Vibe' on Spotify.\", 'success_criteria': \"A new Spotify playlist named 'New Rock and Blues Vibe' is created successfully.\", 'tool': 'functions.create_spotify_playlist', 'action': 'Call the function to create a new playlist with the specified name.'}, {'name': 'add-tracks-to-playlist', 'description': 'Add the selected tracks to the new playlist.', 'success_criteria': 'Successfully added all selected tracks to the new playlist.', 'tool': 'functions.add_tracks_to_playlist', 'action': 'Add the curated list of tracks to the new Spotify playlist.'}], 'Reasoning': \"To build a playlist that matches the vibe of 'New Rock and Blues', we need to identify similar artists and tracks while adhering to specific rules. The plan involves using Spotify's artist similarity data, filtering based on historical success, and curating tracks to ensure a smooth listening experience. Each step focuses on a specific task, ensuring the rules are followed and the objective is met efficiently.\"}}, 'id': 'call_NMtqaAtPk4wLYMhEafJeBaEI', 'type': 'tool_call'}], usage_metadata={'input_tokens': 1508, 'output_tokens': 596, 'total_tokens': 2104, 'input_token_details': {'audio': 0, 'cache_read': 0}, 'output_token_details': {'audio': 0, 'reasoning': 0}})]"
      ]
     },
     "execution_count": 11,
     "metadata": {},
     "output_type": "execute_result"
    }
   ],
   "source": [
    "from langchain_core.prompts import ChatPromptTemplate, MessagesPlaceholder\n",
    "\n",
    "chat_prompt_template: ChatPromptTemplate = human_message + ai_tool_call_message\n",
    "messages = chat_prompt_template.format_messages()\n",
    "messages"
   ]
  },
  {
   "cell_type": "markdown",
   "metadata": {},
   "source": [
    "# Check for Tools in Message"
   ]
  },
  {
   "cell_type": "code",
   "execution_count": 12,
   "metadata": {},
   "outputs": [
    {
     "name": "stdout",
     "output_type": "stream",
     "text": [
      "[StructuredTool(name='validate_plan', description='Validates a step-by-step plan to solve a problem\\n\\nArgs:\\n    plan (Plan): a step-by-step plan to solve a problem\\n\\nReturns:\\n    bool: whether plan is okay or not', args_schema=<class 'langchain_core.utils.pydantic.validate_plan'>, func=<function validate_plan at 0x000001F449CADC60>)]\n"
     ]
    }
   ],
   "source": [
    "from langchain_core.messages import ToolMessage\n",
    "\n",
    "tools_in_ai_message = []\n",
    "tools_by_name = {tool.name: tool for tool in tools}\n",
    "messages = chat_prompt_template.format_messages()\n",
    "for tool_call in messages[-1].tool_calls:\n",
    "    tool = tools_by_name[tool_call[\"name\"]]\n",
    "    tools_in_ai_message.append(tool)\n",
    "    # observation = tool.invoke(tool_call[\"args\"])\n",
    "    # result.append(ToolMessage(content=observation, tool_call_id=tool_call[\"id\"]))\n",
    "if len(tools_in_ai_message) == 0:\n",
    "    raise ValueError\n",
    "else:\n",
    "    print(tools_in_ai_message)"
   ]
  },
  {
   "cell_type": "markdown",
   "metadata": {},
   "source": [
    "# Tool Call (should be validate_plan())"
   ]
  },
  {
   "cell_type": "code",
   "execution_count": 13,
   "metadata": {},
   "outputs": [
    {
     "name": "stdout",
     "output_type": "stream",
     "text": [
      "=================================\u001b[1m Tool Message \u001b[0m=================================\n",
      "Name: validate_plan\n",
      "\n",
      "true\n"
     ]
    }
   ],
   "source": [
    "response = tool_node.invoke({\"messages\": messages})\n",
    "tool_message = response[\"messages\"][0]\n",
    "tool_message.pretty_print()"
   ]
  },
  {
   "cell_type": "code",
   "execution_count": 14,
   "metadata": {},
   "outputs": [
    {
     "data": {
      "text/plain": [
       "[HumanMessage(content=\"\\n    Create and execute a step-by-step plan with atomic tasks to solve the following problem:\\n\\n    **Objective:** Build a Spotify playlist with tracks that have the same vibe and genres as my 'New Rock and Blues' playlist, following the rules below.\\n\\n    **Rules:**\\n\\n    1. **For each artist in the 'New Rock and Blues' playlist, find 3-4 artists of the similar music style**\\n\\n    2 .**Remove from the new artist list those that are already present in the 'New Rock and Blues' Playlist**\\n\\n    3. **Focus on Post-2010 Success:** Only include tracks from artists who achieved success after the year 2010.\\n\\n    4. **Minimum Number of New Artists:** Include tracks from at least 40 different artists not present in the 'New Rock and Blues' playlist.\\n\\n    5. **Recommend 3-4 tracks for each new artist.\\n\\n    6. **Arrange for Smooth Listening Experience:** Organize the tracks to create a smooth listening experience, considering tempo, energy, and mood, using best practices.\\n\\n    7. **Playlist Length:** Ensure the new playlist contains at least 100 tracks.\\n\\n    **Instructions:**\\n\\n    - Follow the rules strictly to meet the objective.\\n    - Prefer using a tool if available, instead of your Knowledge Base\\n    - In your responses always state the step you are working on\\n    - Step(s) should be repeated any number of times to achieve the desired outcome.\\n    - Do not ask for user confirmation\\n    \", additional_kwargs={}, response_metadata={}),\n",
       " AIMessage(content='', additional_kwargs={'tool_calls': [{'id': 'call_NMtqaAtPk4wLYMhEafJeBaEI', 'function': {'arguments': '{\"plan\":{\"steps\":[{\"name\":\"retrieve-original-playlist-artists\",\"description\":\"Get the list of unique artists from the \\'New Rock and Blues\\' playlist.\",\"success_criteria\":\"Successfully retrieved a list of artist names and their Spotify URIs from the original playlist.\",\"tool\":\"functions.get_artists_from_playlist\",\"action\":\"Call the function to get a list of artists from the existing playlist.\"},{\"name\":\"find-similar-artists\",\"description\":\"For each artist in the \\'New Rock and Blues\\' playlist, find 3-4 artists with a similar style.\",\"success_criteria\":\"Found a list of 3-4 similar artists for each original artist.\",\"tool\":\"functions.find_similar_artist\",\"action\":\"Call the function to find similar artists for each artist from the original playlist.\"},{\"name\":\"filter-existing-artists\",\"description\":\"Remove artists from the new list who are already present in the \\'New Rock and Blues\\' playlist.\",\"success_criteria\":\"Filtered list of new artists that do not include any artist from the original playlist.\",\"tool\":\"functions.filter_artists\",\"action\":\"Call the function to filter out existing artists from the new list.\"},{\"name\":\"identify-post-2010-artists\",\"description\":\"Identify artists who achieved success post-2010 from the filtered list.\",\"success_criteria\":\"A list of artists from the filtered list who achieved success after 2010 is created.\",\"tool\":\"functions.tavily_search_results_json\",\"action\":\"Use the search tool to verify the success timeline for each artist.\"},{\"name\":\"select-tracks-for-new-artists\",\"description\":\"Recommend 3-4 tracks for each new artist.\",\"success_criteria\":\"A curated list of 3-4 tracks for each new artist meeting the post-2010 success criteria.\",\"tool\":\"functions.get_track_list\",\"action\":\"Retrieve tracks for each artist and select 3-4 suitable tracks.\"},{\"name\":\"create-new-playlist\",\"description\":\"Create a new playlist named \\'New Rock and Blues Vibe\\' on Spotify.\",\"success_criteria\":\"A new Spotify playlist named \\'New Rock and Blues Vibe\\' is created successfully.\",\"tool\":\"functions.create_spotify_playlist\",\"action\":\"Call the function to create a new playlist with the specified name.\"},{\"name\":\"add-tracks-to-playlist\",\"description\":\"Add the selected tracks to the new playlist.\",\"success_criteria\":\"Successfully added all selected tracks to the new playlist.\",\"tool\":\"functions.add_tracks_to_playlist\",\"action\":\"Add the curated list of tracks to the new Spotify playlist.\"}],\"Reasoning\":\"To build a playlist that matches the vibe of \\'New Rock and Blues\\', we need to identify similar artists and tracks while adhering to specific rules. The plan involves using Spotify\\'s artist similarity data, filtering based on historical success, and curating tracks to ensure a smooth listening experience. Each step focuses on a specific task, ensuring the rules are followed and the objective is met efficiently.\"}}', 'name': 'validate_plan'}, 'type': 'function'}], 'refusal': None}, response_metadata={'token_usage': {'completion_tokens': 596, 'prompt_tokens': 1508, 'total_tokens': 2104, 'completion_tokens_details': {'accepted_prediction_tokens': 0, 'audio_tokens': 0, 'reasoning_tokens': 0, 'rejected_prediction_tokens': 0}, 'prompt_tokens_details': {'audio_tokens': 0, 'cached_tokens': 0}}, 'model_name': 'gpt-4o-2024-08-06', 'system_fingerprint': 'fp_45cf54deae', 'finish_reason': 'tool_calls', 'logprobs': None}, id='run-0f9c46f6-9ede-48e0-bbc9-283802ec2da9-0', tool_calls=[{'name': 'validate_plan', 'args': {'plan': {'steps': [{'name': 'retrieve-original-playlist-artists', 'description': \"Get the list of unique artists from the 'New Rock and Blues' playlist.\", 'success_criteria': 'Successfully retrieved a list of artist names and their Spotify URIs from the original playlist.', 'tool': 'functions.get_artists_from_playlist', 'action': 'Call the function to get a list of artists from the existing playlist.'}, {'name': 'find-similar-artists', 'description': \"For each artist in the 'New Rock and Blues' playlist, find 3-4 artists with a similar style.\", 'success_criteria': 'Found a list of 3-4 similar artists for each original artist.', 'tool': 'functions.find_similar_artist', 'action': 'Call the function to find similar artists for each artist from the original playlist.'}, {'name': 'filter-existing-artists', 'description': \"Remove artists from the new list who are already present in the 'New Rock and Blues' playlist.\", 'success_criteria': 'Filtered list of new artists that do not include any artist from the original playlist.', 'tool': 'functions.filter_artists', 'action': 'Call the function to filter out existing artists from the new list.'}, {'name': 'identify-post-2010-artists', 'description': 'Identify artists who achieved success post-2010 from the filtered list.', 'success_criteria': 'A list of artists from the filtered list who achieved success after 2010 is created.', 'tool': 'functions.tavily_search_results_json', 'action': 'Use the search tool to verify the success timeline for each artist.'}, {'name': 'select-tracks-for-new-artists', 'description': 'Recommend 3-4 tracks for each new artist.', 'success_criteria': 'A curated list of 3-4 tracks for each new artist meeting the post-2010 success criteria.', 'tool': 'functions.get_track_list', 'action': 'Retrieve tracks for each artist and select 3-4 suitable tracks.'}, {'name': 'create-new-playlist', 'description': \"Create a new playlist named 'New Rock and Blues Vibe' on Spotify.\", 'success_criteria': \"A new Spotify playlist named 'New Rock and Blues Vibe' is created successfully.\", 'tool': 'functions.create_spotify_playlist', 'action': 'Call the function to create a new playlist with the specified name.'}, {'name': 'add-tracks-to-playlist', 'description': 'Add the selected tracks to the new playlist.', 'success_criteria': 'Successfully added all selected tracks to the new playlist.', 'tool': 'functions.add_tracks_to_playlist', 'action': 'Add the curated list of tracks to the new Spotify playlist.'}], 'Reasoning': \"To build a playlist that matches the vibe of 'New Rock and Blues', we need to identify similar artists and tracks while adhering to specific rules. The plan involves using Spotify's artist similarity data, filtering based on historical success, and curating tracks to ensure a smooth listening experience. Each step focuses on a specific task, ensuring the rules are followed and the objective is met efficiently.\"}}, 'id': 'call_NMtqaAtPk4wLYMhEafJeBaEI', 'type': 'tool_call'}], usage_metadata={'input_tokens': 1508, 'output_tokens': 596, 'total_tokens': 2104, 'input_token_details': {'audio': 0, 'cache_read': 0}, 'output_token_details': {'audio': 0, 'reasoning': 0}}),\n",
       " ToolMessage(content='true', name='validate_plan', tool_call_id='call_NMtqaAtPk4wLYMhEafJeBaEI')]"
      ]
     },
     "execution_count": 14,
     "metadata": {},
     "output_type": "execute_result"
    }
   ],
   "source": [
    "chat_prompt_template += tool_message\n",
    "chat_prompt_template.format_messages()"
   ]
  },
  {
   "cell_type": "markdown",
   "metadata": {},
   "source": [
    "# Send tool result to LLM"
   ]
  },
  {
   "cell_type": "code",
   "execution_count": 15,
   "metadata": {},
   "outputs": [
    {
     "name": "stderr",
     "output_type": "stream",
     "text": [
      "2024-11-12 22:19:57,250 - INFO - HTTP Request: POST https://api.openai.com/v1/chat/completions \"HTTP/1.1 200 OK\"\n"
     ]
    },
    {
     "name": "stdout",
     "output_type": "stream",
     "text": [
      "==================================\u001b[1m Ai Message \u001b[0m==================================\n",
      "\n",
      "### Step 1: Retrieve Original Playlist Artists\n",
      "\n",
      "I'll start by getting the list of unique artists from the 'New Rock and Blues' playlist. Let's proceed with this step.\n",
      "Tool Calls:\n",
      "  get_playlists (call_jrf3PvkyvblE8upKtiJHZ9Gl)\n",
      " Call ID: call_jrf3PvkyvblE8upKtiJHZ9Gl\n",
      "  Args:\n"
     ]
    }
   ],
   "source": [
    "ai_tool_call_message = llm_with_tools.invoke(chat_prompt_template.format_messages())\n",
    "ai_tool_call_message.pretty_print()"
   ]
  },
  {
   "cell_type": "markdown",
   "metadata": {},
   "source": [
    "# Tool Call (should be get_playlists())"
   ]
  },
  {
   "cell_type": "code",
   "execution_count": 16,
   "metadata": {},
   "outputs": [],
   "source": [
    "chat_prompt_template += ai_tool_call_message\n",
    "messages = chat_prompt_template.format_messages()\n",
    "response = tool_node.invoke({\"messages\": messages})"
   ]
  },
  {
   "cell_type": "code",
   "execution_count": 17,
   "metadata": {},
   "outputs": [
    {
     "name": "stdout",
     "output_type": "stream",
     "text": [
      "=================================\u001b[1m Tool Message \u001b[0m=================================\n",
      "Name: get_playlists\n",
      "\n",
      "{\"playlists\": [{\"id\": \"2dbYK5b7J0F7IdH5n1TEUK\", \"uri\": \"spotify:playlist:2dbYK5b7J0F7IdH5n1TEUK\", \"name\": \"RPreacher\", \"description\": \"\", \"owner\": \"Ray\", \"tracks_total\": 3, \"is_public\": true, \"collaborative\": false, \"snapshot_id\": \"AAAABG1lhIiRJT/NE9RpP4K6UnmZWixo\"}, {\"id\": \"4ack9YtUhdxRayJDAqlfQe\", \"uri\": \"spotify:playlist:4ack9YtUhdxRayJDAqlfQe\", \"name\": \"RP Bossa Nova Chill \", \"description\": \"\", \"owner\": \"Ray\", \"tracks_total\": 30, \"is_public\": true, \"collaborative\": false, \"snapshot_id\": \"AAAAIThdM9g/YPQwj7nuoHhewWyLoKEi\"}, {\"id\": \"75NW18NgdZuZeifrcjxKlZ\", \"uri\": \"spotify:playlist:75NW18NgdZuZeifrcjxKlZ\", \"name\": \"GVF\", \"description\": \"\", \"owner\": \"Ray\", \"tracks_total\": 11, \"is_public\": true, \"collaborative\": false, \"snapshot_id\": \"AAAADKZNV9h+cfi1PbOi6yjNHMe8mLWC\"}, {\"id\": \"5iyONtUO21O88xw8pBblwh\", \"uri\": \"spotify:playlist:5iyONtUO21O88xw8pBblwh\", \"name\": \"Now And Then\", \"description\": \"\", \"owner\": \"Ray\", \"tracks_total\": 7, \"is_public\": true, \"collaborative\": false, \"snapshot_id\": \"AAAACBkT0vD6HHtLpUO7hEOCzClgABvP\"}, {\"id\": \"4SDSUMg2HJcGFmHlupsU7U\", \"uri\": \"spotify:playlist:4SDSUMg2HJcGFmHlupsU7U\", \"name\": \"Jazz classics\", \"description\": \"\", \"owner\": \"Ray\", \"tracks_total\": 251, \"is_public\": true, \"collaborative\": false, \"snapshot_id\": \"AAAAA8p/xZVmAcTsRpsMlQtRepRFmbfo\"}, {\"id\": \"5fBxLG2wLAPVpx83402rHl\", \"uri\": \"spotify:playlist:5fBxLG2wLAPVpx83402rHl\", \"name\": \"Acdc\", \"description\": \"\", \"owner\": \"Ray\", \"tracks_total\": 26, \"is_public\": true, \"collaborative\": false, \"snapshot_id\": \"AAAAG+HaorntGV3LHad9bEcICDGFD56C\"}, {\"id\": \"17Yxm5hQbkbZwDcCTuiDXC\", \"uri\": \"spotify:playlist:17Yxm5hQbkbZwDcCTuiDXC\", \"name\": \"einaudi\", \"description\": \"\", \"owner\": \"Ray\", \"tracks_total\": 18, \"is_public\": true, \"collaborative\": false, \"snapshot_id\": \"AAAAF9qEdgDunVs0NC8jBUoE/CdMF7jq\"}, {\"id\": \"2X6GccWfIqPWO6VYx405nO\", \"uri\": \"spotify:playlist:2X6GccWfIqPWO6VYx405nO\", \"name\": \"Eric Clapton Blues\", \"description\": \"\", \"owner\": \"Ray\", \"tracks_total\": 24, \"is_public\": true, \"collaborative\": false, \"snapshot_id\": \"AAAAH4q+4xxgg62OXnIHbsNVZPC1LL1Q\"}, {\"id\": \"3smVXe8y8w8nt4lFH0HBkW\", \"uri\": \"spotify:playlist:3smVXe8y8w8nt4lFH0HBkW\", \"name\": \"Alchemy: Dire Straits\", \"description\": \"\", \"owner\": \"Ray\", \"tracks_total\": 10, \"is_public\": true, \"collaborative\": false, \"snapshot_id\": \"AAAAD45w+Oq6Z1xq7iMwF6iFkfWoT87p\"}, {\"id\": \"2ifRZBXnX7UmIPUlGet5WZ\", \"uri\": \"spotify:playlist:2ifRZBXnX7UmIPUlGet5WZ\", \"name\": \"Blues\", \"description\": \"\", \"owner\": \"Ray\", \"tracks_total\": 67, \"is_public\": true, \"collaborative\": false, \"snapshot_id\": \"AAAAVVh4N/reGLwCIcv89XjeUDHPPeAQ\"}, {\"id\": \"5nn2ePtd9gYEEDL3XnACCB\", \"uri\": \"spotify:playlist:5nn2ePtd9gYEEDL3XnACCB\", \"name\": \"brazil\", \"description\": \"\", \"owner\": \"Ray\", \"tracks_total\": 62, \"is_public\": true, \"collaborative\": false, \"snapshot_id\": \"AAAAV9cqXazKhP9K8MYZTPAqS7yFP1hq\"}, {\"id\": \"6YAntoKNXuogPKdV26b6XE\", \"uri\": \"spotify:playlist:6YAntoKNXuogPKdV26b6XE\", \"name\": \"CCR\", \"description\": \"\", \"owner\": \"Ray\", \"tracks_total\": 17, \"is_public\": true, \"collaborative\": false, \"snapshot_id\": \"AAAAEw4Fg6uyrf9reMIEnkNruUB2nRbg\"}, {\"id\": \"2VHkZvOMCkLF3B7TsKerKD\", \"uri\": \"spotify:playlist:2VHkZvOMCkLF3B7TsKerKD\", \"name\": \"Chill\", \"description\": \"\", \"owner\": \"Ray\", \"tracks_total\": 53, \"is_public\": true, \"collaborative\": false, \"snapshot_id\": \"AAAAOhAKCSjCgKZOV6OTiSZohe9Isj7C\"}, {\"id\": \"508lbLx9XUkHv5Xb45hxTP\", \"uri\": \"spotify:playlist:508lbLx9XUkHv5Xb45hxTP\", \"name\": \"Classic Rock\", \"description\": \"\", \"owner\": \"Ray\", \"tracks_total\": 306, \"is_public\": true, \"collaborative\": false, \"snapshot_id\": \"AAABRtPd9z/BoPLPCUOJBrUyXci7+r1n\"}, {\"id\": \"7zzDMq1sPwkZPYeqOQJ9qS\", \"uri\": \"spotify:playlist:7zzDMq1sPwkZPYeqOQJ9qS\", \"name\": \"The New Four Seasons - Vivaldi Recomposed\", \"description\": \"\", \"owner\": \"Ray\", \"tracks_total\": 13, \"is_public\": true, \"collaborative\": false, \"snapshot_id\": \"AAAAAsi2q+bxREAMmVWVTWHt10bpB6fa\"}, {\"id\": \"4l8WcaYlPkuVPXVGxMIca3\", \"uri\": \"spotify:playlist:4l8WcaYlPkuVPXVGxMIca3\", \"name\": \"New Study\", \"description\": \"\", \"owner\": \"Ray\", \"tracks_total\": 11, \"is_public\": true, \"collaborative\": false, \"snapshot_id\": \"AAAAEL23paVLvTGrRFTKquh+DNiGzrt7\"}, {\"id\": \"0Wr2Z9vroQ9IXKaokFHldt\", \"uri\": \"spotify:playlist:0Wr2Z9vroQ9IXKaokFHldt\", \"name\": \"Islands - Essential Einaudi (Deluxe Version)\", \"description\": \"\", \"owner\": \"Ray\", \"tracks_total\": 27, \"is_public\": true, \"collaborative\": false, \"snapshot_id\": \"AAAAAmPd/R11xxXnmQE5LY4VHJOmc2Si\"}, {\"id\": \"780Yx65yiaLtBYM76neBYC\", \"uri\": \"spotify:playlist:780Yx65yiaLtBYM76neBYC\", \"name\": \"Gioachino Rossini – Rossini: Overtures\", \"description\": \"\", \"owner\": \"Ray\", \"tracks_total\": 8, \"is_public\": true, \"collaborative\": false, \"snapshot_id\": \"AAAAAk/j3UaxYxxJ2E3uDuvkTHY7CyA3\"}, {\"id\": \"76rUGmzqh1OhyheEOUDYNp\", \"uri\": \"spotify:playlist:76rUGmzqh1OhyheEOUDYNp\", \"name\": \"Frédéric Chopin – Chopin: Nocturnes\", \"description\": \"\", \"owner\": \"Ray\", \"tracks_total\": 19, \"is_public\": true, \"collaborative\": false, \"snapshot_id\": \"AAAAAojQZUHMvW1fqFvaPCPZw651RTcR\"}, {\"id\": \"5qcHJodVJd8AEOT2cCvxEm\", \"uri\": \"spotify:playlist:5qcHJodVJd8AEOT2cCvxEm\", \"name\": \"Frédéric Chopin – Chopin: Nocturnes - Sony Classical Originals 2\", \"description\": \"\", \"owner\": \"Ray\", \"tracks_total\": 19, \"is_public\": true, \"collaborative\": false, \"snapshot_id\": \"AAAAAosFti6TgoD7O3TfPlfPiFc7yKj2\"}, {\"id\": \"7hr9yYAJLXDoJ5sKBhm8Af\", \"uri\": \"spotify:playlist:7hr9yYAJLXDoJ5sKBhm8Af\", \"name\": \"Antonio Vivaldi – Vivaldi: Guitar Concertos\", \"description\": \"\", \"owner\": \"Ray\", \"tracks_total\": 15, \"is_public\": true, \"collaborative\": false, \"snapshot_id\": \"AAAAAq5lTrQQYp3SUTtJrmlIdHbyh5CZ\"}, {\"id\": \"4ruyjAXs6VHU8ZYJqXsUiN\", \"uri\": \"spotify:playlist:4ruyjAXs6VHU8ZYJqXsUiN\", \"name\": \"Sergei Rachmaninoff – Rachmaninoff Plays Rachmaninoff: Concertos Nos. 2 and 3\", \"description\": \"\", \"owner\": \"Ray\", \"tracks_total\": 6, \"is_public\": true, \"collaborative\": false, \"snapshot_id\": \"AAAAAnd4DV7yCmI2VX7w0BB64um7bJem\"}, {\"id\": \"4GYOeGfC7fSephEi3UYh0W\", \"uri\": \"spotify:playlist:4GYOeGfC7fSephEi3UYh0W\", \"name\": \"Erik Satie – Satie: Gymnopédies, Gnossiennes & Other Works\", \"description\": \"\", \"owner\": \"Ray\", \"tracks_total\": 27, \"is_public\": true, \"collaborative\": false, \"snapshot_id\": \"AAAAAnslTVllUSPnBdYh2FMu1DtFAzVs\"}, {\"id\": \"2lop6NfhiYA07UzhWUCyc2\", \"uri\": \"spotify:playlist:2lop6NfhiYA07UzhWUCyc2\", \"name\": \"Classical Masters\", \"description\": \"\", \"owner\": \"Ray\", \"tracks_total\": 29, \"is_public\": true, \"collaborative\": false, \"snapshot_id\": \"AAAAIv8IPFeim0+gMauDLlofBPiDknYa\"}, {\"id\": \"2RUN05cfOlR09kJUvTAEPk\", \"uri\": \"spotify:playlist:2RUN05cfOlR09kJUvTAEPk\", \"name\": \"Evil Woman\", \"description\": \"\", \"owner\": \"Ray\", \"tracks_total\": 11, \"is_public\": true, \"collaborative\": false, \"snapshot_id\": \"AAAADYR9TeZBCOAQTx+qJaL78t/qalhZ\"}, {\"id\": \"3DEKSWlDt8Qors1NpYLXwt\", \"uri\": \"spotify:playlist:3DEKSWlDt8Qors1NpYLXwt\", \"name\": \"Hits 2000\", \"description\": \"\", \"owner\": \"Ray\", \"tracks_total\": 121, \"is_public\": true, \"collaborative\": false, \"snapshot_id\": \"AAAAsUV20d2iEtoXYqXPHsTzbFeyJfVJ\"}, {\"id\": \"7FgZOBK0lhTZz7gMJeV7gs\", \"uri\": \"spotify:playlist:7FgZOBK0lhTZz7gMJeV7gs\", \"name\": \"Insomniac\", \"description\": \"\", \"owner\": \"Ray\", \"tracks_total\": 182, \"is_public\": true, \"collaborative\": false, \"snapshot_id\": \"AAAA4Cmc8w8KuivAczjvfXId2sSkEm/h\"}, {\"id\": \"6DgcAL9oygPekQLDY2mFDq\", \"uri\": \"spotify:playlist:6DgcAL9oygPekQLDY2mFDq\", \"name\": \"Jean-Michel Jarre – Equinoxe\", \"description\": \"\", \"owner\": \"Ray\", \"tracks_total\": 8, \"is_public\": true, \"collaborative\": false, \"snapshot_id\": \"AAAAAh4ckvSMVbth3pWqCQDqlVQwoNXP\"}, {\"id\": \"6X1fib1966dU31uZdTH5p1\", \"uri\": \"spotify:playlist:6X1fib1966dU31uZdTH5p1\", \"name\": \"Misplaced Childhood (2017 Remaster)\", \"description\": \"\", \"owner\": \"Ray\", \"tracks_total\": 10, \"is_public\": true, \"collaborative\": false, \"snapshot_id\": \"AAAAAhEAt8v4hHLreJi8lMDQSYZCqCWP\"}, {\"id\": \"5mxEevqyJ7IbtnmxlRSlaL\", \"uri\": \"spotify:playlist:5mxEevqyJ7IbtnmxlRSlaL\", \"name\": \"My Playlist #36\", \"description\": \"\", \"owner\": \"Ray\", \"tracks_total\": 6692, \"is_public\": true, \"collaborative\": false, \"snapshot_id\": \"AAADk1LjdQ0wPeq1CWGUTeqfa3JKnd68\"}, {\"id\": \"01tk0aitEuGK0ajWCkzdKc\", \"uri\": \"spotify:playlist:01tk0aitEuGK0ajWCkzdKc\", \"name\": \"New Rock and Blues\", \"description\": \"\", \"owner\": \"Ray\", \"tracks_total\": 152, \"is_public\": true, \"collaborative\": false, \"snapshot_id\": \"AAAA5WzoylrbcF38i+jfueYt6FBMIWyb\"}, {\"id\": \"5Culgc9kaBQ5b9oOHXXhB6\", \"uri\": \"spotify:playlist:5Culgc9kaBQ5b9oOHXXhB6\", \"name\": \"Nothing But the Blues (Live)\", \"description\": \"\", \"owner\": \"Ray\", \"tracks_total\": 17, \"is_public\": true, \"collaborative\": false, \"snapshot_id\": \"AAAAAv6fej6qwqMnU0hD6qABni4cidBa\"}, {\"id\": \"5qYPd1AvydE1Ltz5uGCVVG\", \"uri\": \"spotify:playlist:5qYPd1AvydE1Ltz5uGCVVG\", \"name\": \"Pet Shop Boys\", \"description\": \"\", \"owner\": \"Ray\", \"tracks_total\": 10, \"is_public\": true, \"collaborative\": false, \"snapshot_id\": \"AAAADoUwedXRw8oUAXzutzW3zHOBq8wo\"}, {\"id\": \"43ekrNptzLLkRVGuZWUI83\", \"uri\": \"spotify:playlist:43ekrNptzLLkRVGuZWUI83\", \"name\": \"Pink Floyd\", \"description\": \"\", \"owner\": \"Ray\", \"tracks_total\": 17, \"is_public\": true, \"collaborative\": false, \"snapshot_id\": \"AAAAFMGAETEKmvx5mrnmvpG6qPrTvDoC\"}, {\"id\": \"25odQP99Tc8QbNs8dWWsQV\", \"uri\": \"spotify:playlist:25odQP99Tc8QbNs8dWWsQV\", \"name\": \"Pink Floyd – The Wall\", \"description\": \"\", \"owner\": \"Ray\", \"tracks_total\": 26, \"is_public\": true, \"collaborative\": false, \"snapshot_id\": \"AAAAAqQrbCqR2F+PT4CiRiJ/aI51g4KY\"}, {\"id\": \"6smB0SEs5sX0FOzA4h22Eq\", \"uri\": \"spotify:playlist:6smB0SEs5sX0FOzA4h22Eq\", \"name\": \"Rock\", \"description\": \"\", \"owner\": \"Ray\", \"tracks_total\": 158, \"is_public\": true, \"collaborative\": false, \"snapshot_id\": \"AAAAvFxIe5eBC1t4kNdcuQG1dm3gh28t\"}, {\"id\": \"5q5ZVp6frFMc8y0ivNfGk2\", \"uri\": \"spotify:playlist:5q5ZVp6frFMc8y0ivNfGk2\", \"name\": \"Rock Balads\", \"description\": \"\", \"owner\": \"Ray\", \"tracks_total\": 61, \"is_public\": true, \"collaborative\": false, \"snapshot_id\": \"AAAAQEiJ4p3uZqQFtoa4ptNvTlCgwc0P\"}, {\"id\": \"4Vk5tgx9FcO17ZhdFwxJIp\", \"uri\": \"spotify:playlist:4Vk5tgx9FcO17ZhdFwxJIp\", \"name\": \"Rock Hard\", \"description\": \"\", \"owner\": \"Ray\", \"tracks_total\": 61, \"is_public\": true, \"collaborative\": false, \"snapshot_id\": \"AAAANGCk4sZ4CKBXxt9osRjoOmtDj6jN\"}, {\"id\": \"3n3RLXoDDH7O9XpusnnnvV\", \"uri\": \"spotify:playlist:3n3RLXoDDH7O9XpusnnnvV\", \"name\": \"Rolling Stones\", \"description\": \"\", \"owner\": \"Ray\", \"tracks_total\": 19, \"is_public\": true, \"collaborative\": false, \"snapshot_id\": \"AAAAFfP6U7XcNW87gmiXRr0cdMiFxhY1\"}, {\"id\": \"5XdXmStK6X9ZPstLvDBekC\", \"uri\": \"spotify:playlist:5XdXmStK6X9ZPstLvDBekC\", \"name\": \"Workout\", \"description\": \"\", \"owner\": \"Ray\", \"tracks_total\": 74, \"is_public\": true, \"collaborative\": false, \"snapshot_id\": \"AAABLoYIV4F6lXAO0DJe++nLNS7aVm52\"}]}\n"
     ]
    }
   ],
   "source": [
    "playlist_tool_message: ToolMessage = response[\"messages\"][0]\n",
    "playlist_tool_message.pretty_print()"
   ]
  },
  {
   "cell_type": "code",
   "execution_count": 18,
   "metadata": {},
   "outputs": [],
   "source": [
    "# We need to check that is JSON serializable\n",
    "# json.loads(playlist_tool_message.content)"
   ]
  },
  {
   "cell_type": "markdown",
   "metadata": {},
   "source": [
    "# Format Message List for LLM"
   ]
  },
  {
   "cell_type": "code",
   "execution_count": 19,
   "metadata": {},
   "outputs": [],
   "source": [
    "chat_prompt_template += playlist_tool_message\n",
    "messages = chat_prompt_template.format_messages()"
   ]
  },
  {
   "cell_type": "markdown",
   "metadata": {},
   "source": [
    "# Send Playlists Results to LLM"
   ]
  },
  {
   "cell_type": "code",
   "execution_count": 20,
   "metadata": {},
   "outputs": [
    {
     "name": "stderr",
     "output_type": "stream",
     "text": [
      "2024-11-12 22:19:58,712 - INFO - HTTP Request: POST https://api.openai.com/v1/chat/completions \"HTTP/1.1 200 OK\"\n"
     ]
    },
    {
     "name": "stdout",
     "output_type": "stream",
     "text": [
      "==================================\u001b[1m Ai Message \u001b[0m==================================\n",
      "Tool Calls:\n",
      "  get_artists_from_playlist (call_HhfSE6axBmrbWUtbuoXBRdg3)\n",
      " Call ID: call_HhfSE6axBmrbWUtbuoXBRdg3\n",
      "  Args:\n",
      "    playlist_id: spotify:playlist:01tk0aitEuGK0ajWCkzdKc\n"
     ]
    }
   ],
   "source": [
    "ai_tool_call_message = llm_with_tools.invoke(messages)\n",
    "ai_tool_call_message.pretty_print()"
   ]
  },
  {
   "cell_type": "code",
   "execution_count": 21,
   "metadata": {},
   "outputs": [],
   "source": [
    "chat_prompt_template += ai_tool_call_message\n",
    "messages = chat_prompt_template.format_messages()"
   ]
  },
  {
   "cell_type": "markdown",
   "metadata": {},
   "source": [
    "# Tool Call (get_artists_from_playlist())"
   ]
  },
  {
   "cell_type": "code",
   "execution_count": 22,
   "metadata": {},
   "outputs": [],
   "source": [
    "response = tool_node.invoke({\"messages\": messages})\n",
    "track_list_tool_message: ToolMessage = response[\"messages\"][0]"
   ]
  },
  {
   "cell_type": "markdown",
   "metadata": {},
   "source": [
    "# Decode AI Tool Call message"
   ]
  },
  {
   "cell_type": "code",
   "execution_count": 23,
   "metadata": {},
   "outputs": [
    {
     "name": "stdout",
     "output_type": "stream",
     "text": [
      "=================================\u001b[1m Tool Message \u001b[0m=================================\n",
      "Name: get_artists_from_playlist\n",
      "\n",
      "{\"artists\": {\"Gary Clark Jr.\": \"spotify:artist:01aC2ikO4Xgb2LUpf9JfKp\", \"Ayron Jones\": \"spotify:artist:1iEaqWaYpKo9x0OrEq7Q7z\", \"Thirty Seconds To Mars\": \"spotify:artist:0RqtSIYZmd4fiBKVFqyIqD\", \"KALEO\": \"spotify:artist:7jdFEYD2LTYjfwxOdlVjmc\", \"Arctic Monkeys\": \"spotify:artist:7Ln80lUS6He07XvHI8qqHH\", \"Queens of the Stone Age\": \"spotify:artist:4pejUc4iciQfgdX6OKulQn\", \"Black Pistol Fire\": \"spotify:artist:0Nrwy16xCPXG8AwkMbcVvo\", \"Welshly Arms\": \"spotify:artist:1xKrH6GSh9CJh8nYwbqW7B\", \"The Record Company\": \"spotify:artist:6vYg01ZFt1nREsUDMDPUYX\", \"The Heavy\": \"spotify:artist:0bZCak2tcRMY1dzEIuwF42\", \"Greta Van Fleet\": \"spotify:artist:4NpFxQe2UvRCAjto3JqlSl\", \"Whiskey Myers\": \"spotify:artist:26opZSJcXshCmCwxgZQmBc\", \"Colter Wall\": \"spotify:artist:3xYXYzm9H3RzyQgBrYwIcx\", \"Tyler Childers\": \"spotify:artist:13ZEDW6vyBF12HYcZRr4EV\", \"Chris Stapleton\": \"spotify:artist:4YLtscXsxbVgi031ovDDdh\", \"The Blue Stones\": \"spotify:artist:5VPCIIfZPK8KPsgz4jmOEC\", \"Goodbye June\": \"spotify:artist:1l9I7G8J8AnMScWQwlNJ4M\", \"Muse\": \"spotify:artist:12Chz98pHFMPJEknJQMWvI\", \"Samantha Fish\": \"spotify:artist:5HsS48kuvghKcNpwOaAvB5\", \"The Black Keys\": \"spotify:artist:7mnBLXK823vNxN3UWB7Gfz\", \"The Arcs\": \"spotify:artist:3mVWMgLc7bcyCBtL2ymZwK\", \"Audioslave\": \"spotify:artist:2ziB7fzrXBoh1HUPS6sVFn\", \"Yola\": \"spotify:artist:2gqMBdyddvN82dzZt4ZF14\", \"Emily Jane White\": \"spotify:artist:2PqsalqLh5RT6FSy9DrGZh\", \"Cage The Elephant\": \"spotify:artist:26T3LtbuGT1Fu9m0eRq5X3\", \"Jackyl\": \"spotify:artist:3jdirYL01245TvAH39GfM6\", \"Yeah Yeah Yeahs\": \"spotify:artist:3TNt4aUIxgfy9aoaft5Jj2\", \"Perfume Genius\": \"spotify:artist:2ueoLVCXQ948OfhVvAy3Nn\", \"Stone Sour\": \"spotify:artist:49qiE8dj4JuNdpYGRPdKbF\", \"The Technicolors\": \"spotify:artist:6hQS54VPpxunuwR0W7usuo\", \"Reignwolf\": \"spotify:artist:66YGDwn22fjphzqGCSIbbK\", \"Inhaler\": \"spotify:artist:6lyMYewq2SuTFIXgiv7OxH\", \"Barns Courtney\": \"spotify:artist:5tFRohaO5yEsuJxmMnlCO9\", \"Alabama Shakes\": \"spotify:artist:16GcWuvvybAoaHr0NqT8Eh\", \"James\": \"spotify:artist:0qLNsNKm8bQcMoRFkR8Hmh\", \"Local Natives\": \"spotify:artist:75dQReiBOHN37fQgWQrIAJ\", \"Wolfmother\": \"spotify:artist:3yEnArbNHyTCwMRvD9SBy4\", \"Ron Gallo\": \"spotify:artist:4rfE3kN2zKNC9L9tt3iVOg\", \"Blackberry Smoke\": \"spotify:artist:5P1oS9DUTPEqcrmXDmX4p8\", \"Broken Witt Rebels\": \"spotify:artist:3WyGjUsOZJRiT9re5pZYxL\", \"The Bones of J.R. Jones\": \"spotify:artist:7sMcWECQxLm7EoKdRlSCAn\", \"Maggie Bjorklund\": \"spotify:artist:4uk9cWBqeiel7tO1w9MPe0\", \"Last Train\": \"spotify:artist:4S47feOS2ATuhc7Ao5ilfG\", \"Everlast\": \"spotify:artist:14ZxDAK6ITtZZqPdiWrvSn\", \"Florence + The Machine\": \"spotify:artist:1moxjboGR7GNWYIMWsRjgG\", \"Beach Weather\": \"spotify:artist:7I3bkknknQkIiatWiupQgD\", \"Kings of Leon\": \"spotify:artist:2qk9voo8llSGYcZ6xrBzKx\", \"Santana\": \"spotify:artist:6GI52t8N5F02MxU0g5U69P\", \"Shakey Graves\": \"spotify:artist:1fZpYWNWdL5Z3wrDtISFUH\", \"Grian Chatten\": \"spotify:artist:6XyAI3jtlsss5mJjAAJXzE\", \"Morningsiders\": \"spotify:artist:5hPR4Atp3QY2ztiAcz1inl\", \"The Revivalists\": \"spotify:artist:5kuJibJcwOC53s3OkoGMRA\", \"Talking Heads\": \"spotify:artist:2x9SpqnPi8rlE9pjHBwmSC\", \"Blur\": \"spotify:artist:7MhMgCo0Bl0Kukl93PZbYS\", \"David Gray\": \"spotify:artist:7J2lZBANizgPNfUzux31PV\", \"Sharon Jones & The Dap-Kings\": \"spotify:artist:6LufpoVlIYKQCu9Gjpk8B7\", \"Danielle Ponder\": \"spotify:artist:5rZUNweztKBI1Xy3XhYHoJ\", \"Post Malone\": \"spotify:artist:246dkjvS1zLTtiykXe5h60\", \"Swae Lee\": \"spotify:artist:1zNqQNIdeOUZHb8zbZRFMX\", \"The Rolling Stones\": \"spotify:artist:22bE4uQ6baNwSHPVcDxLCe\", \"Lady Gaga\": \"spotify:artist:1HY2Jd0NmPuamShAr6KMms\", \"Robert Randolph & The Family Band\": \"spotify:artist:4xac3zhHlBm5QDxbZeqgeR\", \"The Struts\": \"spotify:artist:3lDpdwM8KILepMHqBWUhIA\", \"July Talk\": \"spotify:artist:3EaMbsBlExxNxLvTJcZvDq\", \"Chris Cornell\": \"spotify:artist:0XHiH53dHrvbwfjYM7en7I\", \"Sons Of The East\": \"spotify:artist:6cSxzHrQgGc4I4Ck5Gewej\", \"Mt. Joy\": \"spotify:artist:69tiO1fG8VWduDl3ji2qhI\", \"Rayland Baxter\": \"spotify:artist:251UrhgNbMr15NLzQ2KyKq\", \"Cigarettes After Sex\": \"spotify:artist:1QAJqy2dA3ihHBFIHRphZj\", \"Hozier\": \"spotify:artist:2FXC3k01G6Gw61bmprjgqS\", \"Foo Fighters\": \"spotify:artist:7jy3rLJdDQY21OgRLCZ9sD\", \"Cold War Kids\": \"spotify:artist:6VDdCwrBM4qQaGxoAyxyJC\", \"Arcade Fire\": \"spotify:artist:3kjuyTCjPG1WMFCiyc5IuB\", \"Uncle Lucius\": \"spotify:artist:49zZ2lRNpfwWfUnASUxCYW\", \"The White Stripes\": \"spotify:artist:4F84IBURUo98rz4r61KF70\", \"The Weeknd\": \"spotify:artist:1Xyo4u8uXC1ZmMpatF05PJ\", \"Robert Finley\": \"spotify:artist:29mRqqZ15WaYjEsKNzcRkv\", \"Mark Ronson\": \"spotify:artist:3hv9jJF3adDNsBSIQDqcjp\", \"Amy Winehouse\": \"spotify:artist:6Q192DXotxtaysaqNPy5yR\", \"Dan Auerbach\": \"spotify:artist:6YWdHD3R863Apw1hkx3BwC\", \"Jonah Tolchin\": \"spotify:artist:66jsWaGhzSpHH1KRF34Oq3\", \"Chaos Chaos\": \"spotify:artist:6D6rjLdxyE5vwhMlkuQq0E\", \"I Monster\": \"spotify:artist:1CcPlAmcnJjC4FnaPVzv2v\", \"Black Pumas\": \"spotify:artist:6eU0jV2eEZ8XTM7EmlguK6\", \"Rival Sons\": \"spotify:artist:356c8AN5YWKvz86B4Sb1yf\", \"Teddy Swims\": \"spotify:artist:33qOK5uJ8AR2xuQQAhHump\", \"John Martyn\": \"spotify:artist:3JulrApLVT81sb2HkfwMks\", \"Propellerheads\": \"spotify:artist:3Z7thZHrtFvqp8OpPffPKp\", \"Shirley Bassey\": \"spotify:artist:090VebphoycdEyH165iMqc\", \"Joywave\": \"spotify:artist:1UfzhwcOR4yfX7yHTPfC9m\", \"Parker Millsap\": \"spotify:artist:0MASTEXfUt3bpiyGOoEaur\"}}\n"
     ]
    }
   ],
   "source": [
    "track_list_tool_message.pretty_print()"
   ]
  },
  {
   "cell_type": "code",
   "execution_count": 24,
   "metadata": {},
   "outputs": [],
   "source": [
    "# json.loads(track_list_tool_message.content)"
   ]
  },
  {
   "cell_type": "markdown",
   "metadata": {},
   "source": [
    "# Add Tool message containing artists to list of messages"
   ]
  },
  {
   "cell_type": "code",
   "execution_count": 25,
   "metadata": {},
   "outputs": [
    {
     "data": {
      "text/plain": [
       "[HumanMessage(content=\"\\n    Create and execute a step-by-step plan with atomic tasks to solve the following problem:\\n\\n    **Objective:** Build a Spotify playlist with tracks that have the same vibe and genres as my 'New Rock and Blues' playlist, following the rules below.\\n\\n    **Rules:**\\n\\n    1. **For each artist in the 'New Rock and Blues' playlist, find 3-4 artists of the similar music style**\\n\\n    2 .**Remove from the new artist list those that are already present in the 'New Rock and Blues' Playlist**\\n\\n    3. **Focus on Post-2010 Success:** Only include tracks from artists who achieved success after the year 2010.\\n\\n    4. **Minimum Number of New Artists:** Include tracks from at least 40 different artists not present in the 'New Rock and Blues' playlist.\\n\\n    5. **Recommend 3-4 tracks for each new artist.\\n\\n    6. **Arrange for Smooth Listening Experience:** Organize the tracks to create a smooth listening experience, considering tempo, energy, and mood, using best practices.\\n\\n    7. **Playlist Length:** Ensure the new playlist contains at least 100 tracks.\\n\\n    **Instructions:**\\n\\n    - Follow the rules strictly to meet the objective.\\n    - Prefer using a tool if available, instead of your Knowledge Base\\n    - In your responses always state the step you are working on\\n    - Step(s) should be repeated any number of times to achieve the desired outcome.\\n    - Do not ask for user confirmation\\n    \", additional_kwargs={}, response_metadata={}),\n",
       " AIMessage(content='', additional_kwargs={'tool_calls': [{'id': 'call_NMtqaAtPk4wLYMhEafJeBaEI', 'function': {'arguments': '{\"plan\":{\"steps\":[{\"name\":\"retrieve-original-playlist-artists\",\"description\":\"Get the list of unique artists from the \\'New Rock and Blues\\' playlist.\",\"success_criteria\":\"Successfully retrieved a list of artist names and their Spotify URIs from the original playlist.\",\"tool\":\"functions.get_artists_from_playlist\",\"action\":\"Call the function to get a list of artists from the existing playlist.\"},{\"name\":\"find-similar-artists\",\"description\":\"For each artist in the \\'New Rock and Blues\\' playlist, find 3-4 artists with a similar style.\",\"success_criteria\":\"Found a list of 3-4 similar artists for each original artist.\",\"tool\":\"functions.find_similar_artist\",\"action\":\"Call the function to find similar artists for each artist from the original playlist.\"},{\"name\":\"filter-existing-artists\",\"description\":\"Remove artists from the new list who are already present in the \\'New Rock and Blues\\' playlist.\",\"success_criteria\":\"Filtered list of new artists that do not include any artist from the original playlist.\",\"tool\":\"functions.filter_artists\",\"action\":\"Call the function to filter out existing artists from the new list.\"},{\"name\":\"identify-post-2010-artists\",\"description\":\"Identify artists who achieved success post-2010 from the filtered list.\",\"success_criteria\":\"A list of artists from the filtered list who achieved success after 2010 is created.\",\"tool\":\"functions.tavily_search_results_json\",\"action\":\"Use the search tool to verify the success timeline for each artist.\"},{\"name\":\"select-tracks-for-new-artists\",\"description\":\"Recommend 3-4 tracks for each new artist.\",\"success_criteria\":\"A curated list of 3-4 tracks for each new artist meeting the post-2010 success criteria.\",\"tool\":\"functions.get_track_list\",\"action\":\"Retrieve tracks for each artist and select 3-4 suitable tracks.\"},{\"name\":\"create-new-playlist\",\"description\":\"Create a new playlist named \\'New Rock and Blues Vibe\\' on Spotify.\",\"success_criteria\":\"A new Spotify playlist named \\'New Rock and Blues Vibe\\' is created successfully.\",\"tool\":\"functions.create_spotify_playlist\",\"action\":\"Call the function to create a new playlist with the specified name.\"},{\"name\":\"add-tracks-to-playlist\",\"description\":\"Add the selected tracks to the new playlist.\",\"success_criteria\":\"Successfully added all selected tracks to the new playlist.\",\"tool\":\"functions.add_tracks_to_playlist\",\"action\":\"Add the curated list of tracks to the new Spotify playlist.\"}],\"Reasoning\":\"To build a playlist that matches the vibe of \\'New Rock and Blues\\', we need to identify similar artists and tracks while adhering to specific rules. The plan involves using Spotify\\'s artist similarity data, filtering based on historical success, and curating tracks to ensure a smooth listening experience. Each step focuses on a specific task, ensuring the rules are followed and the objective is met efficiently.\"}}', 'name': 'validate_plan'}, 'type': 'function'}], 'refusal': None}, response_metadata={'token_usage': {'completion_tokens': 596, 'prompt_tokens': 1508, 'total_tokens': 2104, 'completion_tokens_details': {'accepted_prediction_tokens': 0, 'audio_tokens': 0, 'reasoning_tokens': 0, 'rejected_prediction_tokens': 0}, 'prompt_tokens_details': {'audio_tokens': 0, 'cached_tokens': 0}}, 'model_name': 'gpt-4o-2024-08-06', 'system_fingerprint': 'fp_45cf54deae', 'finish_reason': 'tool_calls', 'logprobs': None}, id='run-0f9c46f6-9ede-48e0-bbc9-283802ec2da9-0', tool_calls=[{'name': 'validate_plan', 'args': {'plan': {'steps': [{'name': 'retrieve-original-playlist-artists', 'description': \"Get the list of unique artists from the 'New Rock and Blues' playlist.\", 'success_criteria': 'Successfully retrieved a list of artist names and their Spotify URIs from the original playlist.', 'tool': 'functions.get_artists_from_playlist', 'action': 'Call the function to get a list of artists from the existing playlist.'}, {'name': 'find-similar-artists', 'description': \"For each artist in the 'New Rock and Blues' playlist, find 3-4 artists with a similar style.\", 'success_criteria': 'Found a list of 3-4 similar artists for each original artist.', 'tool': 'functions.find_similar_artist', 'action': 'Call the function to find similar artists for each artist from the original playlist.'}, {'name': 'filter-existing-artists', 'description': \"Remove artists from the new list who are already present in the 'New Rock and Blues' playlist.\", 'success_criteria': 'Filtered list of new artists that do not include any artist from the original playlist.', 'tool': 'functions.filter_artists', 'action': 'Call the function to filter out existing artists from the new list.'}, {'name': 'identify-post-2010-artists', 'description': 'Identify artists who achieved success post-2010 from the filtered list.', 'success_criteria': 'A list of artists from the filtered list who achieved success after 2010 is created.', 'tool': 'functions.tavily_search_results_json', 'action': 'Use the search tool to verify the success timeline for each artist.'}, {'name': 'select-tracks-for-new-artists', 'description': 'Recommend 3-4 tracks for each new artist.', 'success_criteria': 'A curated list of 3-4 tracks for each new artist meeting the post-2010 success criteria.', 'tool': 'functions.get_track_list', 'action': 'Retrieve tracks for each artist and select 3-4 suitable tracks.'}, {'name': 'create-new-playlist', 'description': \"Create a new playlist named 'New Rock and Blues Vibe' on Spotify.\", 'success_criteria': \"A new Spotify playlist named 'New Rock and Blues Vibe' is created successfully.\", 'tool': 'functions.create_spotify_playlist', 'action': 'Call the function to create a new playlist with the specified name.'}, {'name': 'add-tracks-to-playlist', 'description': 'Add the selected tracks to the new playlist.', 'success_criteria': 'Successfully added all selected tracks to the new playlist.', 'tool': 'functions.add_tracks_to_playlist', 'action': 'Add the curated list of tracks to the new Spotify playlist.'}], 'Reasoning': \"To build a playlist that matches the vibe of 'New Rock and Blues', we need to identify similar artists and tracks while adhering to specific rules. The plan involves using Spotify's artist similarity data, filtering based on historical success, and curating tracks to ensure a smooth listening experience. Each step focuses on a specific task, ensuring the rules are followed and the objective is met efficiently.\"}}, 'id': 'call_NMtqaAtPk4wLYMhEafJeBaEI', 'type': 'tool_call'}], usage_metadata={'input_tokens': 1508, 'output_tokens': 596, 'total_tokens': 2104, 'input_token_details': {'audio': 0, 'cache_read': 0}, 'output_token_details': {'audio': 0, 'reasoning': 0}}),\n",
       " ToolMessage(content='true', name='validate_plan', tool_call_id='call_NMtqaAtPk4wLYMhEafJeBaEI'),\n",
       " AIMessage(content=\"### Step 1: Retrieve Original Playlist Artists\\n\\nI'll start by getting the list of unique artists from the 'New Rock and Blues' playlist. Let's proceed with this step.\", additional_kwargs={'tool_calls': [{'id': 'call_jrf3PvkyvblE8upKtiJHZ9Gl', 'function': {'arguments': '{}', 'name': 'get_playlists'}, 'type': 'function'}], 'refusal': None}, response_metadata={'token_usage': {'completion_tokens': 47, 'prompt_tokens': 2113, 'total_tokens': 2160, 'completion_tokens_details': {'accepted_prediction_tokens': 0, 'audio_tokens': 0, 'reasoning_tokens': 0, 'rejected_prediction_tokens': 0}, 'prompt_tokens_details': {'audio_tokens': 0, 'cached_tokens': 2048}}, 'model_name': 'gpt-4o-2024-08-06', 'system_fingerprint': 'fp_45cf54deae', 'finish_reason': 'tool_calls', 'logprobs': None}, id='run-53fcc0fc-e031-49d6-aa1b-970e3613ed8d-0', tool_calls=[{'name': 'get_playlists', 'args': {}, 'id': 'call_jrf3PvkyvblE8upKtiJHZ9Gl', 'type': 'tool_call'}], usage_metadata={'input_tokens': 2113, 'output_tokens': 47, 'total_tokens': 2160, 'input_token_details': {'audio': 0, 'cache_read': 2048}, 'output_token_details': {'audio': 0, 'reasoning': 0}}),\n",
       " ToolMessage(content='{\"playlists\": [{\"id\": \"2dbYK5b7J0F7IdH5n1TEUK\", \"uri\": \"spotify:playlist:2dbYK5b7J0F7IdH5n1TEUK\", \"name\": \"RPreacher\", \"description\": \"\", \"owner\": \"Ray\", \"tracks_total\": 3, \"is_public\": true, \"collaborative\": false, \"snapshot_id\": \"AAAABG1lhIiRJT/NE9RpP4K6UnmZWixo\"}, {\"id\": \"4ack9YtUhdxRayJDAqlfQe\", \"uri\": \"spotify:playlist:4ack9YtUhdxRayJDAqlfQe\", \"name\": \"RP Bossa Nova Chill \", \"description\": \"\", \"owner\": \"Ray\", \"tracks_total\": 30, \"is_public\": true, \"collaborative\": false, \"snapshot_id\": \"AAAAIThdM9g/YPQwj7nuoHhewWyLoKEi\"}, {\"id\": \"75NW18NgdZuZeifrcjxKlZ\", \"uri\": \"spotify:playlist:75NW18NgdZuZeifrcjxKlZ\", \"name\": \"GVF\", \"description\": \"\", \"owner\": \"Ray\", \"tracks_total\": 11, \"is_public\": true, \"collaborative\": false, \"snapshot_id\": \"AAAADKZNV9h+cfi1PbOi6yjNHMe8mLWC\"}, {\"id\": \"5iyONtUO21O88xw8pBblwh\", \"uri\": \"spotify:playlist:5iyONtUO21O88xw8pBblwh\", \"name\": \"Now And Then\", \"description\": \"\", \"owner\": \"Ray\", \"tracks_total\": 7, \"is_public\": true, \"collaborative\": false, \"snapshot_id\": \"AAAACBkT0vD6HHtLpUO7hEOCzClgABvP\"}, {\"id\": \"4SDSUMg2HJcGFmHlupsU7U\", \"uri\": \"spotify:playlist:4SDSUMg2HJcGFmHlupsU7U\", \"name\": \"Jazz classics\", \"description\": \"\", \"owner\": \"Ray\", \"tracks_total\": 251, \"is_public\": true, \"collaborative\": false, \"snapshot_id\": \"AAAAA8p/xZVmAcTsRpsMlQtRepRFmbfo\"}, {\"id\": \"5fBxLG2wLAPVpx83402rHl\", \"uri\": \"spotify:playlist:5fBxLG2wLAPVpx83402rHl\", \"name\": \"Acdc\", \"description\": \"\", \"owner\": \"Ray\", \"tracks_total\": 26, \"is_public\": true, \"collaborative\": false, \"snapshot_id\": \"AAAAG+HaorntGV3LHad9bEcICDGFD56C\"}, {\"id\": \"17Yxm5hQbkbZwDcCTuiDXC\", \"uri\": \"spotify:playlist:17Yxm5hQbkbZwDcCTuiDXC\", \"name\": \"einaudi\", \"description\": \"\", \"owner\": \"Ray\", \"tracks_total\": 18, \"is_public\": true, \"collaborative\": false, \"snapshot_id\": \"AAAAF9qEdgDunVs0NC8jBUoE/CdMF7jq\"}, {\"id\": \"2X6GccWfIqPWO6VYx405nO\", \"uri\": \"spotify:playlist:2X6GccWfIqPWO6VYx405nO\", \"name\": \"Eric Clapton Blues\", \"description\": \"\", \"owner\": \"Ray\", \"tracks_total\": 24, \"is_public\": true, \"collaborative\": false, \"snapshot_id\": \"AAAAH4q+4xxgg62OXnIHbsNVZPC1LL1Q\"}, {\"id\": \"3smVXe8y8w8nt4lFH0HBkW\", \"uri\": \"spotify:playlist:3smVXe8y8w8nt4lFH0HBkW\", \"name\": \"Alchemy: Dire Straits\", \"description\": \"\", \"owner\": \"Ray\", \"tracks_total\": 10, \"is_public\": true, \"collaborative\": false, \"snapshot_id\": \"AAAAD45w+Oq6Z1xq7iMwF6iFkfWoT87p\"}, {\"id\": \"2ifRZBXnX7UmIPUlGet5WZ\", \"uri\": \"spotify:playlist:2ifRZBXnX7UmIPUlGet5WZ\", \"name\": \"Blues\", \"description\": \"\", \"owner\": \"Ray\", \"tracks_total\": 67, \"is_public\": true, \"collaborative\": false, \"snapshot_id\": \"AAAAVVh4N/reGLwCIcv89XjeUDHPPeAQ\"}, {\"id\": \"5nn2ePtd9gYEEDL3XnACCB\", \"uri\": \"spotify:playlist:5nn2ePtd9gYEEDL3XnACCB\", \"name\": \"brazil\", \"description\": \"\", \"owner\": \"Ray\", \"tracks_total\": 62, \"is_public\": true, \"collaborative\": false, \"snapshot_id\": \"AAAAV9cqXazKhP9K8MYZTPAqS7yFP1hq\"}, {\"id\": \"6YAntoKNXuogPKdV26b6XE\", \"uri\": \"spotify:playlist:6YAntoKNXuogPKdV26b6XE\", \"name\": \"CCR\", \"description\": \"\", \"owner\": \"Ray\", \"tracks_total\": 17, \"is_public\": true, \"collaborative\": false, \"snapshot_id\": \"AAAAEw4Fg6uyrf9reMIEnkNruUB2nRbg\"}, {\"id\": \"2VHkZvOMCkLF3B7TsKerKD\", \"uri\": \"spotify:playlist:2VHkZvOMCkLF3B7TsKerKD\", \"name\": \"Chill\", \"description\": \"\", \"owner\": \"Ray\", \"tracks_total\": 53, \"is_public\": true, \"collaborative\": false, \"snapshot_id\": \"AAAAOhAKCSjCgKZOV6OTiSZohe9Isj7C\"}, {\"id\": \"508lbLx9XUkHv5Xb45hxTP\", \"uri\": \"spotify:playlist:508lbLx9XUkHv5Xb45hxTP\", \"name\": \"Classic Rock\", \"description\": \"\", \"owner\": \"Ray\", \"tracks_total\": 306, \"is_public\": true, \"collaborative\": false, \"snapshot_id\": \"AAABRtPd9z/BoPLPCUOJBrUyXci7+r1n\"}, {\"id\": \"7zzDMq1sPwkZPYeqOQJ9qS\", \"uri\": \"spotify:playlist:7zzDMq1sPwkZPYeqOQJ9qS\", \"name\": \"The New Four Seasons - Vivaldi Recomposed\", \"description\": \"\", \"owner\": \"Ray\", \"tracks_total\": 13, \"is_public\": true, \"collaborative\": false, \"snapshot_id\": \"AAAAAsi2q+bxREAMmVWVTWHt10bpB6fa\"}, {\"id\": \"4l8WcaYlPkuVPXVGxMIca3\", \"uri\": \"spotify:playlist:4l8WcaYlPkuVPXVGxMIca3\", \"name\": \"New Study\", \"description\": \"\", \"owner\": \"Ray\", \"tracks_total\": 11, \"is_public\": true, \"collaborative\": false, \"snapshot_id\": \"AAAAEL23paVLvTGrRFTKquh+DNiGzrt7\"}, {\"id\": \"0Wr2Z9vroQ9IXKaokFHldt\", \"uri\": \"spotify:playlist:0Wr2Z9vroQ9IXKaokFHldt\", \"name\": \"Islands - Essential Einaudi (Deluxe Version)\", \"description\": \"\", \"owner\": \"Ray\", \"tracks_total\": 27, \"is_public\": true, \"collaborative\": false, \"snapshot_id\": \"AAAAAmPd/R11xxXnmQE5LY4VHJOmc2Si\"}, {\"id\": \"780Yx65yiaLtBYM76neBYC\", \"uri\": \"spotify:playlist:780Yx65yiaLtBYM76neBYC\", \"name\": \"Gioachino Rossini – Rossini: Overtures\", \"description\": \"\", \"owner\": \"Ray\", \"tracks_total\": 8, \"is_public\": true, \"collaborative\": false, \"snapshot_id\": \"AAAAAk/j3UaxYxxJ2E3uDuvkTHY7CyA3\"}, {\"id\": \"76rUGmzqh1OhyheEOUDYNp\", \"uri\": \"spotify:playlist:76rUGmzqh1OhyheEOUDYNp\", \"name\": \"Frédéric Chopin – Chopin: Nocturnes\", \"description\": \"\", \"owner\": \"Ray\", \"tracks_total\": 19, \"is_public\": true, \"collaborative\": false, \"snapshot_id\": \"AAAAAojQZUHMvW1fqFvaPCPZw651RTcR\"}, {\"id\": \"5qcHJodVJd8AEOT2cCvxEm\", \"uri\": \"spotify:playlist:5qcHJodVJd8AEOT2cCvxEm\", \"name\": \"Frédéric Chopin – Chopin: Nocturnes - Sony Classical Originals 2\", \"description\": \"\", \"owner\": \"Ray\", \"tracks_total\": 19, \"is_public\": true, \"collaborative\": false, \"snapshot_id\": \"AAAAAosFti6TgoD7O3TfPlfPiFc7yKj2\"}, {\"id\": \"7hr9yYAJLXDoJ5sKBhm8Af\", \"uri\": \"spotify:playlist:7hr9yYAJLXDoJ5sKBhm8Af\", \"name\": \"Antonio Vivaldi – Vivaldi: Guitar Concertos\", \"description\": \"\", \"owner\": \"Ray\", \"tracks_total\": 15, \"is_public\": true, \"collaborative\": false, \"snapshot_id\": \"AAAAAq5lTrQQYp3SUTtJrmlIdHbyh5CZ\"}, {\"id\": \"4ruyjAXs6VHU8ZYJqXsUiN\", \"uri\": \"spotify:playlist:4ruyjAXs6VHU8ZYJqXsUiN\", \"name\": \"Sergei Rachmaninoff – Rachmaninoff Plays Rachmaninoff: Concertos Nos. 2 and 3\", \"description\": \"\", \"owner\": \"Ray\", \"tracks_total\": 6, \"is_public\": true, \"collaborative\": false, \"snapshot_id\": \"AAAAAnd4DV7yCmI2VX7w0BB64um7bJem\"}, {\"id\": \"4GYOeGfC7fSephEi3UYh0W\", \"uri\": \"spotify:playlist:4GYOeGfC7fSephEi3UYh0W\", \"name\": \"Erik Satie – Satie: Gymnopédies, Gnossiennes & Other Works\", \"description\": \"\", \"owner\": \"Ray\", \"tracks_total\": 27, \"is_public\": true, \"collaborative\": false, \"snapshot_id\": \"AAAAAnslTVllUSPnBdYh2FMu1DtFAzVs\"}, {\"id\": \"2lop6NfhiYA07UzhWUCyc2\", \"uri\": \"spotify:playlist:2lop6NfhiYA07UzhWUCyc2\", \"name\": \"Classical Masters\", \"description\": \"\", \"owner\": \"Ray\", \"tracks_total\": 29, \"is_public\": true, \"collaborative\": false, \"snapshot_id\": \"AAAAIv8IPFeim0+gMauDLlofBPiDknYa\"}, {\"id\": \"2RUN05cfOlR09kJUvTAEPk\", \"uri\": \"spotify:playlist:2RUN05cfOlR09kJUvTAEPk\", \"name\": \"Evil Woman\", \"description\": \"\", \"owner\": \"Ray\", \"tracks_total\": 11, \"is_public\": true, \"collaborative\": false, \"snapshot_id\": \"AAAADYR9TeZBCOAQTx+qJaL78t/qalhZ\"}, {\"id\": \"3DEKSWlDt8Qors1NpYLXwt\", \"uri\": \"spotify:playlist:3DEKSWlDt8Qors1NpYLXwt\", \"name\": \"Hits 2000\", \"description\": \"\", \"owner\": \"Ray\", \"tracks_total\": 121, \"is_public\": true, \"collaborative\": false, \"snapshot_id\": \"AAAAsUV20d2iEtoXYqXPHsTzbFeyJfVJ\"}, {\"id\": \"7FgZOBK0lhTZz7gMJeV7gs\", \"uri\": \"spotify:playlist:7FgZOBK0lhTZz7gMJeV7gs\", \"name\": \"Insomniac\", \"description\": \"\", \"owner\": \"Ray\", \"tracks_total\": 182, \"is_public\": true, \"collaborative\": false, \"snapshot_id\": \"AAAA4Cmc8w8KuivAczjvfXId2sSkEm/h\"}, {\"id\": \"6DgcAL9oygPekQLDY2mFDq\", \"uri\": \"spotify:playlist:6DgcAL9oygPekQLDY2mFDq\", \"name\": \"Jean-Michel Jarre – Equinoxe\", \"description\": \"\", \"owner\": \"Ray\", \"tracks_total\": 8, \"is_public\": true, \"collaborative\": false, \"snapshot_id\": \"AAAAAh4ckvSMVbth3pWqCQDqlVQwoNXP\"}, {\"id\": \"6X1fib1966dU31uZdTH5p1\", \"uri\": \"spotify:playlist:6X1fib1966dU31uZdTH5p1\", \"name\": \"Misplaced Childhood (2017 Remaster)\", \"description\": \"\", \"owner\": \"Ray\", \"tracks_total\": 10, \"is_public\": true, \"collaborative\": false, \"snapshot_id\": \"AAAAAhEAt8v4hHLreJi8lMDQSYZCqCWP\"}, {\"id\": \"5mxEevqyJ7IbtnmxlRSlaL\", \"uri\": \"spotify:playlist:5mxEevqyJ7IbtnmxlRSlaL\", \"name\": \"My Playlist #36\", \"description\": \"\", \"owner\": \"Ray\", \"tracks_total\": 6692, \"is_public\": true, \"collaborative\": false, \"snapshot_id\": \"AAADk1LjdQ0wPeq1CWGUTeqfa3JKnd68\"}, {\"id\": \"01tk0aitEuGK0ajWCkzdKc\", \"uri\": \"spotify:playlist:01tk0aitEuGK0ajWCkzdKc\", \"name\": \"New Rock and Blues\", \"description\": \"\", \"owner\": \"Ray\", \"tracks_total\": 152, \"is_public\": true, \"collaborative\": false, \"snapshot_id\": \"AAAA5WzoylrbcF38i+jfueYt6FBMIWyb\"}, {\"id\": \"5Culgc9kaBQ5b9oOHXXhB6\", \"uri\": \"spotify:playlist:5Culgc9kaBQ5b9oOHXXhB6\", \"name\": \"Nothing But the Blues (Live)\", \"description\": \"\", \"owner\": \"Ray\", \"tracks_total\": 17, \"is_public\": true, \"collaborative\": false, \"snapshot_id\": \"AAAAAv6fej6qwqMnU0hD6qABni4cidBa\"}, {\"id\": \"5qYPd1AvydE1Ltz5uGCVVG\", \"uri\": \"spotify:playlist:5qYPd1AvydE1Ltz5uGCVVG\", \"name\": \"Pet Shop Boys\", \"description\": \"\", \"owner\": \"Ray\", \"tracks_total\": 10, \"is_public\": true, \"collaborative\": false, \"snapshot_id\": \"AAAADoUwedXRw8oUAXzutzW3zHOBq8wo\"}, {\"id\": \"43ekrNptzLLkRVGuZWUI83\", \"uri\": \"spotify:playlist:43ekrNptzLLkRVGuZWUI83\", \"name\": \"Pink Floyd\", \"description\": \"\", \"owner\": \"Ray\", \"tracks_total\": 17, \"is_public\": true, \"collaborative\": false, \"snapshot_id\": \"AAAAFMGAETEKmvx5mrnmvpG6qPrTvDoC\"}, {\"id\": \"25odQP99Tc8QbNs8dWWsQV\", \"uri\": \"spotify:playlist:25odQP99Tc8QbNs8dWWsQV\", \"name\": \"Pink Floyd – The Wall\", \"description\": \"\", \"owner\": \"Ray\", \"tracks_total\": 26, \"is_public\": true, \"collaborative\": false, \"snapshot_id\": \"AAAAAqQrbCqR2F+PT4CiRiJ/aI51g4KY\"}, {\"id\": \"6smB0SEs5sX0FOzA4h22Eq\", \"uri\": \"spotify:playlist:6smB0SEs5sX0FOzA4h22Eq\", \"name\": \"Rock\", \"description\": \"\", \"owner\": \"Ray\", \"tracks_total\": 158, \"is_public\": true, \"collaborative\": false, \"snapshot_id\": \"AAAAvFxIe5eBC1t4kNdcuQG1dm3gh28t\"}, {\"id\": \"5q5ZVp6frFMc8y0ivNfGk2\", \"uri\": \"spotify:playlist:5q5ZVp6frFMc8y0ivNfGk2\", \"name\": \"Rock Balads\", \"description\": \"\", \"owner\": \"Ray\", \"tracks_total\": 61, \"is_public\": true, \"collaborative\": false, \"snapshot_id\": \"AAAAQEiJ4p3uZqQFtoa4ptNvTlCgwc0P\"}, {\"id\": \"4Vk5tgx9FcO17ZhdFwxJIp\", \"uri\": \"spotify:playlist:4Vk5tgx9FcO17ZhdFwxJIp\", \"name\": \"Rock Hard\", \"description\": \"\", \"owner\": \"Ray\", \"tracks_total\": 61, \"is_public\": true, \"collaborative\": false, \"snapshot_id\": \"AAAANGCk4sZ4CKBXxt9osRjoOmtDj6jN\"}, {\"id\": \"3n3RLXoDDH7O9XpusnnnvV\", \"uri\": \"spotify:playlist:3n3RLXoDDH7O9XpusnnnvV\", \"name\": \"Rolling Stones\", \"description\": \"\", \"owner\": \"Ray\", \"tracks_total\": 19, \"is_public\": true, \"collaborative\": false, \"snapshot_id\": \"AAAAFfP6U7XcNW87gmiXRr0cdMiFxhY1\"}, {\"id\": \"5XdXmStK6X9ZPstLvDBekC\", \"uri\": \"spotify:playlist:5XdXmStK6X9ZPstLvDBekC\", \"name\": \"Workout\", \"description\": \"\", \"owner\": \"Ray\", \"tracks_total\": 74, \"is_public\": true, \"collaborative\": false, \"snapshot_id\": \"AAABLoYIV4F6lXAO0DJe++nLNS7aVm52\"}]}', name='get_playlists', tool_call_id='call_jrf3PvkyvblE8upKtiJHZ9Gl'),\n",
       " AIMessage(content='', additional_kwargs={'tool_calls': [{'id': 'call_HhfSE6axBmrbWUtbuoXBRdg3', 'function': {'arguments': '{\"playlist_id\":\"spotify:playlist:01tk0aitEuGK0ajWCkzdKc\"}', 'name': 'get_artists_from_playlist'}, 'type': 'function'}], 'refusal': None}, response_metadata={'token_usage': {'completion_tokens': 34, 'prompt_tokens': 6618, 'total_tokens': 6652, 'completion_tokens_details': {'accepted_prediction_tokens': 0, 'audio_tokens': 0, 'reasoning_tokens': 0, 'rejected_prediction_tokens': 0}, 'prompt_tokens_details': {'audio_tokens': 0, 'cached_tokens': 2048}}, 'model_name': 'gpt-4o-2024-08-06', 'system_fingerprint': 'fp_45cf54deae', 'finish_reason': 'tool_calls', 'logprobs': None}, id='run-0e7fd9d5-db19-4353-b868-c4ec0e021dd0-0', tool_calls=[{'name': 'get_artists_from_playlist', 'args': {'playlist_id': 'spotify:playlist:01tk0aitEuGK0ajWCkzdKc'}, 'id': 'call_HhfSE6axBmrbWUtbuoXBRdg3', 'type': 'tool_call'}], usage_metadata={'input_tokens': 6618, 'output_tokens': 34, 'total_tokens': 6652, 'input_token_details': {'audio': 0, 'cache_read': 2048}, 'output_token_details': {'audio': 0, 'reasoning': 0}}),\n",
       " ToolMessage(content='{\"artists\": {\"Gary Clark Jr.\": \"spotify:artist:01aC2ikO4Xgb2LUpf9JfKp\", \"Ayron Jones\": \"spotify:artist:1iEaqWaYpKo9x0OrEq7Q7z\", \"Thirty Seconds To Mars\": \"spotify:artist:0RqtSIYZmd4fiBKVFqyIqD\", \"KALEO\": \"spotify:artist:7jdFEYD2LTYjfwxOdlVjmc\", \"Arctic Monkeys\": \"spotify:artist:7Ln80lUS6He07XvHI8qqHH\", \"Queens of the Stone Age\": \"spotify:artist:4pejUc4iciQfgdX6OKulQn\", \"Black Pistol Fire\": \"spotify:artist:0Nrwy16xCPXG8AwkMbcVvo\", \"Welshly Arms\": \"spotify:artist:1xKrH6GSh9CJh8nYwbqW7B\", \"The Record Company\": \"spotify:artist:6vYg01ZFt1nREsUDMDPUYX\", \"The Heavy\": \"spotify:artist:0bZCak2tcRMY1dzEIuwF42\", \"Greta Van Fleet\": \"spotify:artist:4NpFxQe2UvRCAjto3JqlSl\", \"Whiskey Myers\": \"spotify:artist:26opZSJcXshCmCwxgZQmBc\", \"Colter Wall\": \"spotify:artist:3xYXYzm9H3RzyQgBrYwIcx\", \"Tyler Childers\": \"spotify:artist:13ZEDW6vyBF12HYcZRr4EV\", \"Chris Stapleton\": \"spotify:artist:4YLtscXsxbVgi031ovDDdh\", \"The Blue Stones\": \"spotify:artist:5VPCIIfZPK8KPsgz4jmOEC\", \"Goodbye June\": \"spotify:artist:1l9I7G8J8AnMScWQwlNJ4M\", \"Muse\": \"spotify:artist:12Chz98pHFMPJEknJQMWvI\", \"Samantha Fish\": \"spotify:artist:5HsS48kuvghKcNpwOaAvB5\", \"The Black Keys\": \"spotify:artist:7mnBLXK823vNxN3UWB7Gfz\", \"The Arcs\": \"spotify:artist:3mVWMgLc7bcyCBtL2ymZwK\", \"Audioslave\": \"spotify:artist:2ziB7fzrXBoh1HUPS6sVFn\", \"Yola\": \"spotify:artist:2gqMBdyddvN82dzZt4ZF14\", \"Emily Jane White\": \"spotify:artist:2PqsalqLh5RT6FSy9DrGZh\", \"Cage The Elephant\": \"spotify:artist:26T3LtbuGT1Fu9m0eRq5X3\", \"Jackyl\": \"spotify:artist:3jdirYL01245TvAH39GfM6\", \"Yeah Yeah Yeahs\": \"spotify:artist:3TNt4aUIxgfy9aoaft5Jj2\", \"Perfume Genius\": \"spotify:artist:2ueoLVCXQ948OfhVvAy3Nn\", \"Stone Sour\": \"spotify:artist:49qiE8dj4JuNdpYGRPdKbF\", \"The Technicolors\": \"spotify:artist:6hQS54VPpxunuwR0W7usuo\", \"Reignwolf\": \"spotify:artist:66YGDwn22fjphzqGCSIbbK\", \"Inhaler\": \"spotify:artist:6lyMYewq2SuTFIXgiv7OxH\", \"Barns Courtney\": \"spotify:artist:5tFRohaO5yEsuJxmMnlCO9\", \"Alabama Shakes\": \"spotify:artist:16GcWuvvybAoaHr0NqT8Eh\", \"James\": \"spotify:artist:0qLNsNKm8bQcMoRFkR8Hmh\", \"Local Natives\": \"spotify:artist:75dQReiBOHN37fQgWQrIAJ\", \"Wolfmother\": \"spotify:artist:3yEnArbNHyTCwMRvD9SBy4\", \"Ron Gallo\": \"spotify:artist:4rfE3kN2zKNC9L9tt3iVOg\", \"Blackberry Smoke\": \"spotify:artist:5P1oS9DUTPEqcrmXDmX4p8\", \"Broken Witt Rebels\": \"spotify:artist:3WyGjUsOZJRiT9re5pZYxL\", \"The Bones of J.R. Jones\": \"spotify:artist:7sMcWECQxLm7EoKdRlSCAn\", \"Maggie Bjorklund\": \"spotify:artist:4uk9cWBqeiel7tO1w9MPe0\", \"Last Train\": \"spotify:artist:4S47feOS2ATuhc7Ao5ilfG\", \"Everlast\": \"spotify:artist:14ZxDAK6ITtZZqPdiWrvSn\", \"Florence + The Machine\": \"spotify:artist:1moxjboGR7GNWYIMWsRjgG\", \"Beach Weather\": \"spotify:artist:7I3bkknknQkIiatWiupQgD\", \"Kings of Leon\": \"spotify:artist:2qk9voo8llSGYcZ6xrBzKx\", \"Santana\": \"spotify:artist:6GI52t8N5F02MxU0g5U69P\", \"Shakey Graves\": \"spotify:artist:1fZpYWNWdL5Z3wrDtISFUH\", \"Grian Chatten\": \"spotify:artist:6XyAI3jtlsss5mJjAAJXzE\", \"Morningsiders\": \"spotify:artist:5hPR4Atp3QY2ztiAcz1inl\", \"The Revivalists\": \"spotify:artist:5kuJibJcwOC53s3OkoGMRA\", \"Talking Heads\": \"spotify:artist:2x9SpqnPi8rlE9pjHBwmSC\", \"Blur\": \"spotify:artist:7MhMgCo0Bl0Kukl93PZbYS\", \"David Gray\": \"spotify:artist:7J2lZBANizgPNfUzux31PV\", \"Sharon Jones & The Dap-Kings\": \"spotify:artist:6LufpoVlIYKQCu9Gjpk8B7\", \"Danielle Ponder\": \"spotify:artist:5rZUNweztKBI1Xy3XhYHoJ\", \"Post Malone\": \"spotify:artist:246dkjvS1zLTtiykXe5h60\", \"Swae Lee\": \"spotify:artist:1zNqQNIdeOUZHb8zbZRFMX\", \"The Rolling Stones\": \"spotify:artist:22bE4uQ6baNwSHPVcDxLCe\", \"Lady Gaga\": \"spotify:artist:1HY2Jd0NmPuamShAr6KMms\", \"Robert Randolph & The Family Band\": \"spotify:artist:4xac3zhHlBm5QDxbZeqgeR\", \"The Struts\": \"spotify:artist:3lDpdwM8KILepMHqBWUhIA\", \"July Talk\": \"spotify:artist:3EaMbsBlExxNxLvTJcZvDq\", \"Chris Cornell\": \"spotify:artist:0XHiH53dHrvbwfjYM7en7I\", \"Sons Of The East\": \"spotify:artist:6cSxzHrQgGc4I4Ck5Gewej\", \"Mt. Joy\": \"spotify:artist:69tiO1fG8VWduDl3ji2qhI\", \"Rayland Baxter\": \"spotify:artist:251UrhgNbMr15NLzQ2KyKq\", \"Cigarettes After Sex\": \"spotify:artist:1QAJqy2dA3ihHBFIHRphZj\", \"Hozier\": \"spotify:artist:2FXC3k01G6Gw61bmprjgqS\", \"Foo Fighters\": \"spotify:artist:7jy3rLJdDQY21OgRLCZ9sD\", \"Cold War Kids\": \"spotify:artist:6VDdCwrBM4qQaGxoAyxyJC\", \"Arcade Fire\": \"spotify:artist:3kjuyTCjPG1WMFCiyc5IuB\", \"Uncle Lucius\": \"spotify:artist:49zZ2lRNpfwWfUnASUxCYW\", \"The White Stripes\": \"spotify:artist:4F84IBURUo98rz4r61KF70\", \"The Weeknd\": \"spotify:artist:1Xyo4u8uXC1ZmMpatF05PJ\", \"Robert Finley\": \"spotify:artist:29mRqqZ15WaYjEsKNzcRkv\", \"Mark Ronson\": \"spotify:artist:3hv9jJF3adDNsBSIQDqcjp\", \"Amy Winehouse\": \"spotify:artist:6Q192DXotxtaysaqNPy5yR\", \"Dan Auerbach\": \"spotify:artist:6YWdHD3R863Apw1hkx3BwC\", \"Jonah Tolchin\": \"spotify:artist:66jsWaGhzSpHH1KRF34Oq3\", \"Chaos Chaos\": \"spotify:artist:6D6rjLdxyE5vwhMlkuQq0E\", \"I Monster\": \"spotify:artist:1CcPlAmcnJjC4FnaPVzv2v\", \"Black Pumas\": \"spotify:artist:6eU0jV2eEZ8XTM7EmlguK6\", \"Rival Sons\": \"spotify:artist:356c8AN5YWKvz86B4Sb1yf\", \"Teddy Swims\": \"spotify:artist:33qOK5uJ8AR2xuQQAhHump\", \"John Martyn\": \"spotify:artist:3JulrApLVT81sb2HkfwMks\", \"Propellerheads\": \"spotify:artist:3Z7thZHrtFvqp8OpPffPKp\", \"Shirley Bassey\": \"spotify:artist:090VebphoycdEyH165iMqc\", \"Joywave\": \"spotify:artist:1UfzhwcOR4yfX7yHTPfC9m\", \"Parker Millsap\": \"spotify:artist:0MASTEXfUt3bpiyGOoEaur\"}}', name='get_artists_from_playlist', tool_call_id='call_HhfSE6axBmrbWUtbuoXBRdg3')]"
      ]
     },
     "execution_count": 25,
     "metadata": {},
     "output_type": "execute_result"
    }
   ],
   "source": [
    "chat_prompt_template += track_list_tool_message\n",
    "messages = chat_prompt_template.format_messages()\n",
    "messages"
   ]
  },
  {
   "cell_type": "markdown",
   "metadata": {},
   "source": [
    "# Send Tool Result to LLM"
   ]
  },
  {
   "cell_type": "code",
   "execution_count": 26,
   "metadata": {},
   "outputs": [
    {
     "name": "stderr",
     "output_type": "stream",
     "text": [
      "2024-11-12 22:20:04,698 - INFO - HTTP Request: POST https://api.openai.com/v1/chat/completions \"HTTP/1.1 200 OK\"\n"
     ]
    }
   ],
   "source": [
    "response = llm_with_tools.invoke(messages)"
   ]
  },
  {
   "cell_type": "markdown",
   "metadata": {},
   "source": [
    "# Tool Call (find_similar_artist())"
   ]
  },
  {
   "cell_type": "code",
   "execution_count": 27,
   "metadata": {},
   "outputs": [
    {
     "name": "stdout",
     "output_type": "stream",
     "text": [
      "==================================\u001b[1m Ai Message \u001b[0m==================================\n",
      "\n",
      "I have successfully retrieved the list of unique artists from the 'New Rock and Blues' playlist. Here's a sample of the artists:\n",
      "\n",
      "- Gary Clark Jr.\n",
      "- Ayron Jones\n",
      "- Thirty Seconds To Mars\n",
      "- KALEO\n",
      "- Arctic Monkeys\n",
      "- ... and many more.\n",
      "\n",
      "### Step 2: Find Similar Artists\n",
      "\n",
      "Next, I will find 3-4 artists with a similar music style for each artist in the 'New Rock and Blues' playlist. This process will help us build a robust list of potential new artists for the playlist. Let's proceed with this step.\n",
      "Tool Calls:\n",
      "  find_similar_artist (call_hz1uVO7ULykaJ04rVE5awyhi)\n",
      " Call ID: call_hz1uVO7ULykaJ04rVE5awyhi\n",
      "  Args:\n",
      "    artist: spotify:artist:01aC2ikO4Xgb2LUpf9JfKp\n",
      "  find_similar_artist (call_W1u9xbqDWHwu0yJXAC2iBFbJ)\n",
      " Call ID: call_W1u9xbqDWHwu0yJXAC2iBFbJ\n",
      "  Args:\n",
      "    artist: spotify:artist:1iEaqWaYpKo9x0OrEq7Q7z\n",
      "  find_similar_artist (call_MznENLNUlgXPJItpPLo6fgca)\n",
      " Call ID: call_MznENLNUlgXPJItpPLo6fgca\n",
      "  Args:\n",
      "    artist: spotify:artist:0RqtSIYZmd4fiBKVFqyIqD\n",
      "  find_similar_artist (call_jfxrZwIR96V5neBerAKwnDPb)\n",
      " Call ID: call_jfxrZwIR96V5neBerAKwnDPb\n",
      "  Args:\n",
      "    artist: spotify:artist:7jdFEYD2LTYjfwxOdlVjmc\n"
     ]
    }
   ],
   "source": [
    "response.pretty_print()"
   ]
  },
  {
   "cell_type": "code",
   "execution_count": 28,
   "metadata": {},
   "outputs": [],
   "source": [
    "chat_prompt_template += response\n",
    "messages = chat_prompt_template.format_messages()"
   ]
  },
  {
   "cell_type": "code",
   "execution_count": 29,
   "metadata": {},
   "outputs": [
    {
     "name": "stdout",
     "output_type": "stream",
     "text": [
      "[StructuredTool(name='find_similar_artist', description='Find similar artists for a given Spotify artist URI. It return a List of dictionaries. Each \\nlist entry contains the artist name, URI and other information.\\n\\nArgs:\\n    artist (SpotifyURI): Spotify artist URI in the format spotify:artist:<base-62 number>\\n\\nReturns:\\n   List[Dict]: A list of Spotify artist dictionaries. Each list entry (dictionary) contains\\n    the artist name, URI and other information.', args_schema=<class 'langchain_core.utils.pydantic.find_similar_artist'>, func=<function find_similar_artist at 0x000001F449CAC900>), StructuredTool(name='find_similar_artist', description='Find similar artists for a given Spotify artist URI. It return a List of dictionaries. Each \\nlist entry contains the artist name, URI and other information.\\n\\nArgs:\\n    artist (SpotifyURI): Spotify artist URI in the format spotify:artist:<base-62 number>\\n\\nReturns:\\n   List[Dict]: A list of Spotify artist dictionaries. Each list entry (dictionary) contains\\n    the artist name, URI and other information.', args_schema=<class 'langchain_core.utils.pydantic.find_similar_artist'>, func=<function find_similar_artist at 0x000001F449CAC900>), StructuredTool(name='find_similar_artist', description='Find similar artists for a given Spotify artist URI. It return a List of dictionaries. Each \\nlist entry contains the artist name, URI and other information.\\n\\nArgs:\\n    artist (SpotifyURI): Spotify artist URI in the format spotify:artist:<base-62 number>\\n\\nReturns:\\n   List[Dict]: A list of Spotify artist dictionaries. Each list entry (dictionary) contains\\n    the artist name, URI and other information.', args_schema=<class 'langchain_core.utils.pydantic.find_similar_artist'>, func=<function find_similar_artist at 0x000001F449CAC900>), StructuredTool(name='find_similar_artist', description='Find similar artists for a given Spotify artist URI. It return a List of dictionaries. Each \\nlist entry contains the artist name, URI and other information.\\n\\nArgs:\\n    artist (SpotifyURI): Spotify artist URI in the format spotify:artist:<base-62 number>\\n\\nReturns:\\n   List[Dict]: A list of Spotify artist dictionaries. Each list entry (dictionary) contains\\n    the artist name, URI and other information.', args_schema=<class 'langchain_core.utils.pydantic.find_similar_artist'>, func=<function find_similar_artist at 0x000001F449CAC900>)]\n"
     ]
    }
   ],
   "source": [
    "from langchain_core.messages import ToolMessage\n",
    "\n",
    "tools_in_ai_message = []\n",
    "tools_by_name = {tool.name: tool for tool in tools}\n",
    "for tool_call in messages[-1].tool_calls:\n",
    "    tool = tools_by_name[tool_call[\"name\"]]\n",
    "    tools_in_ai_message.append(tool)\n",
    "    # observation = tool.invoke(tool_call[\"args\"])\n",
    "    # result.append(ToolMessage(content=observation, tool_call_id=tool_call[\"id\"]))\n",
    "print(tools_in_ai_message)\n",
    "if len(tools_in_ai_message) == 0:\n",
    "    raise ValueError"
   ]
  },
  {
   "cell_type": "markdown",
   "metadata": {},
   "source": [
    "# Tool Call (find_similar_artists())"
   ]
  },
  {
   "cell_type": "code",
   "execution_count": null,
   "metadata": {},
   "outputs": [],
   "source": [
    "response = tool_node.invoke({\"messages\": messages})"
   ]
  },
  {
   "cell_type": "code",
   "execution_count": null,
   "metadata": {},
   "outputs": [],
   "source": [
    "check_artist_tool_message: ToolMessage = response[\"messages\"][0]\n",
    "check_artist_tool_message.pretty_print()"
   ]
  },
  {
   "cell_type": "code",
   "execution_count": null,
   "metadata": {},
   "outputs": [],
   "source": [
    "# We recreate the ToolMessage to take care of UNicode characters\n",
    "tool_message = ToolMessage(content=check_artist_tool_message.content, name=check_artist_tool_message.name, tool_call_id=check_artist_tool_message.tool_call_id)\n",
    "tool_message.pretty_print()"
   ]
  },
  {
   "cell_type": "code",
   "execution_count": null,
   "metadata": {},
   "outputs": [],
   "source": [
    "chat_prompt_template += tool_message\n",
    "chat_prompt_template.format_messages()"
   ]
  },
  {
   "cell_type": "code",
   "execution_count": null,
   "metadata": {},
   "outputs": [],
   "source": [
    "response = llm_with_tools.invoke(chat_prompt_template.format_messages())"
   ]
  },
  {
   "cell_type": "code",
   "execution_count": null,
   "metadata": {},
   "outputs": [],
   "source": [
    "response.pretty_print()"
   ]
  },
  {
   "cell_type": "code",
   "execution_count": null,
   "metadata": {},
   "outputs": [],
   "source": [
    "chat_prompt_template += response\n",
    "chat_prompt_template.format_messages()"
   ]
  },
  {
   "cell_type": "code",
   "execution_count": null,
   "metadata": {},
   "outputs": [],
   "source": [
    "response = tool_node.invoke({\"messages\": [response]})"
   ]
  },
  {
   "cell_type": "code",
   "execution_count": null,
   "metadata": {},
   "outputs": [],
   "source": [
    "response"
   ]
  }
 ],
 "metadata": {
  "kernelspec": {
   "display_name": ".venv",
   "language": "python",
   "name": "python3"
  },
  "language_info": {
   "codemirror_mode": {
    "name": "ipython",
    "version": 3
   },
   "file_extension": ".py",
   "mimetype": "text/x-python",
   "name": "python",
   "nbconvert_exporter": "python",
   "pygments_lexer": "ipython3",
   "version": "3.12.5"
  }
 },
 "nbformat": 4,
 "nbformat_minor": 2
}
