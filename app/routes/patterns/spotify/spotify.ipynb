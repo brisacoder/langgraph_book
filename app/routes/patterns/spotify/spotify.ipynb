{
 "cells": [
  {
   "cell_type": "code",
   "execution_count": 1,
   "metadata": {},
   "outputs": [],
   "source": [
    "%%capture --no-stderr\n",
    "%pip install --quiet -U langgraph langchain-core langchain_openai python-dotenv langsmith pydantic spotipy"
   ]
  },
  {
   "cell_type": "code",
   "execution_count": 2,
   "metadata": {},
   "outputs": [
    {
     "name": "stdout",
     "output_type": "stream",
     "text": [
      "Note: you may need to restart the kernel to use updated packages.\n",
      "Note: you may need to restart the kernel to use updated packages.\n"
     ]
    }
   ],
   "source": [
    "%pip install --quiet -U jupyterlab-lsp\n",
    "%pip install --quiet -U \"python-lsp-server[all]\""
   ]
  },
  {
   "cell_type": "code",
   "execution_count": 3,
   "metadata": {},
   "outputs": [],
   "source": [
    "## Setup logging\n",
    "import logging\n",
    "import os\n",
    "from dotenv import load_dotenv\n",
    "\n",
    "load_dotenv(override=True)\n",
    "logger = logging.getLogger(__name__)\n",
    "\n",
    "# Configure logging\n",
    "logging.basicConfig(\n",
    "    level=logging.INFO,\n",
    "    format='%(asctime)s - %(levelname)s - %(message)s',  # Define the format\n",
    "    handlers=[logging.StreamHandler()]  # Output to the console\n",
    ")"
   ]
  },
  {
   "cell_type": "markdown",
   "metadata": {},
   "source": [
    "# Define Search Tool"
   ]
  },
  {
   "cell_type": "code",
   "execution_count": 4,
   "metadata": {},
   "outputs": [
    {
     "data": {
      "text/plain": [
       "'A search engine optimized for comprehensive, accurate, and trusted results. Useful for when you need to answer questions about current events. Input should be a search query.'"
      ]
     },
     "execution_count": 4,
     "metadata": {},
     "output_type": "execute_result"
    }
   ],
   "source": [
    "from langchain_community.tools.tavily_search import TavilySearchResults\n",
    "\n",
    "search_tool = TavilySearchResults(\n",
    "    max_results=50,\n",
    "    include_answer=True,\n",
    "    include_raw_content=True,\n",
    "    include_images=True,\n",
    "    # search_depth=\"advanced\",\n",
    "    # include_domains = []\n",
    "    # exclude_domains = []\n",
    ")\n",
    "name = search_tool.get_name()\n",
    "desc = search_tool.description\n",
    "desc"
   ]
  },
  {
   "cell_type": "markdown",
   "metadata": {},
   "source": [
    "# Create ToolNode"
   ]
  },
  {
   "cell_type": "code",
   "execution_count": 5,
   "metadata": {},
   "outputs": [],
   "source": [
    "from langgraph.prebuilt import ToolNode\n",
    "from spotify_tools import get_playlists, create_spotify_playlist, get_track_list_from_playlist, add_tracks_to_playlist, filter_artists, get_artists_from_playlist, find_similar_artists, find_top_tracks\n",
    "from plan import validate_plan\n",
    "\n",
    "tools = [get_playlists, create_spotify_playlist, add_tracks_to_playlist, filter_artists, validate_plan, get_artists_from_playlist, search_tool, find_similar_artists, get_track_list_from_playlist, find_top_tracks]\n",
    "# tools = [get_playlists, get_track_list, create_spotify_playlist, add_tracks_to_playlist, search_tool]\n",
    "tool_node = ToolNode(tools)"
   ]
  },
  {
   "cell_type": "markdown",
   "metadata": {},
   "source": [
    "# Bind Tools to Model"
   ]
  },
  {
   "cell_type": "code",
   "execution_count": 6,
   "metadata": {},
   "outputs": [],
   "source": [
    "from langchain_openai import ChatOpenAI\n",
    "\n",
    "llm = ChatOpenAI(model=os.getenv(\"OPENAI_MODEL_NAME\"), temperature=1.0)\n",
    "# llm_with_tools = llm.bind_tools(tools, strict=True, parallel_tool_calls=False)\n",
    "llm_with_tools = llm.bind_tools(tools, strict=True)"
   ]
  },
  {
   "cell_type": "markdown",
   "metadata": {},
   "source": [
    "# System Prompt"
   ]
  },
  {
   "cell_type": "code",
   "execution_count": 7,
   "metadata": {},
   "outputs": [],
   "source": [
    "from langchain_core.messages import SystemMessage\n",
    "from prompts import Prompts\n",
    "\n",
    "system_message = SystemMessage(Prompts.SYSTEM)\n"
   ]
  },
  {
   "cell_type": "markdown",
   "metadata": {},
   "source": [
    "# First Message"
   ]
  },
  {
   "cell_type": "code",
   "execution_count": 8,
   "metadata": {},
   "outputs": [
    {
     "name": "stderr",
     "output_type": "stream",
     "text": [
      "2024-11-14 08:39:10,920 - INFO - HTTP Request: POST https://api.openai.com/v1/chat/completions \"HTTP/1.1 200 OK\"\n"
     ]
    }
   ],
   "source": [
    "from langchain_core.messages import HumanMessage\n",
    "from prompts import Prompts\n",
    "\n",
    "human_message = HumanMessage(Prompts.SPOTIFY)\n",
    "ai_message = llm_with_tools.invoke([system_message, human_message])"
   ]
  },
  {
   "cell_type": "code",
   "execution_count": 9,
   "metadata": {},
   "outputs": [],
   "source": [
    "if ai_message.tool_calls is None or ai_message.tool_calls[0][\"name\"] != \"validate_plan\":\n",
    "    raise ValueError(\"should be tool message calling 'validate_plan'\")"
   ]
  },
  {
   "cell_type": "code",
   "execution_count": 10,
   "metadata": {},
   "outputs": [
    {
     "name": "stdout",
     "output_type": "stream",
     "text": [
      "==================================\u001b[1m Ai Message \u001b[0m==================================\n",
      "Tool Calls:\n",
      "  validate_plan (call_tbuQeDvr9TINo5L1NQ4eKgCL)\n",
      " Call ID: call_tbuQeDvr9TINo5L1NQ4eKgCL\n",
      "  Args:\n",
      "    plan: {'steps': [{'step_number': 1, 'name': 'retrieve-original-playlist-artists', 'type': 'action', 'description': \"Get the list of unique artists from the 'New Rock and Blues' playlist.\", 'success_criteria': 'A list of unique artists is retrieved successfully.', 'tool': 'functions.get_artists_from_playlist', 'action': \"Use the Spotify API to retrieve artists from the provided 'New Rock and Blues' playlist ID.\", 'condition': None, 'substeps': None}, {'step_number': 2, 'name': 'find-similar-artists', 'type': 'loop', 'description': 'For each artist, find 3-4 artists with a similar music style using the Spotify API.', 'success_criteria': 'Found a list of similar artists for all original playlist artists, ensuring that at least 3-4 similar artists are identified for each original artist.', 'tool': 'functions.find_similar_artists', 'action': None, 'condition': 'for each artist in the original playlist', 'substeps': [{'step_number': 1, 'name': 'retrieve-similar-artists', 'type': 'action', 'description': 'Retrieve similar artists for the current artist.', 'success_criteria': '3-4 similar artists are found for the current artist.', 'tool': 'functions.find_similar_artists', 'action': 'Use the Spotify API to find similar artists for each artist.', 'condition': None}]}, {'step_number': 3, 'name': 'filter-existing-artists', 'type': 'action', 'description': \"Remove artists already present in the 'New Rock and Blues' playlist from the list of new similar artists.\", 'success_criteria': 'Filtered list of new artists that do not exist in the original playlist is obtained.', 'tool': 'functions.filter_artists', 'action': 'Use the artist list obtained in step 1 to filter out existing artists from the new similar artists.', 'condition': None, 'substeps': None}, {'step_number': 4, 'name': 'filter-post-2010-artists', 'type': 'action', 'description': 'Filter artists based on post-2010 success.', 'success_criteria': 'List of artists filtered to those who achieved success after 2010.', 'tool': 'functions.tavily_search_results_json', 'action': 'Search for information about each artist to determine their success era and filter according to the criteria.', 'condition': None, 'substeps': None}, {'step_number': 5, 'name': 'ensure-minimum-artists', 'type': 'branch', 'description': 'Ensure that there are at least 40 new artists. If not, repeat the artist finding process with additional conditions or sources.', 'success_criteria': 'The list contains at least 40 new artists.', 'tool': None, 'action': None, 'condition': 'if new artist count is less than 40', 'substeps': [{'step_number': 1, 'name': 'repeat-similar-artists-search', 'type': 'loop', 'description': 'Repeat similar artist finding process with additional conditions or alternative sources.', 'success_criteria': 'At least 40 new artists identified.', 'tool': 'functions.find_similar_artists', 'action': None, 'condition': 'repeat until at least 40 new artists are identified'}]}, {'step_number': 6, 'name': 'get-top-tracks', 'type': 'loop', 'description': 'For each new artist, get their top 3-4 tracks.', 'success_criteria': 'Retrieved 3-4 top tracks for each of the new artists.', 'tool': 'functions.find_top_tracks', 'action': None, 'condition': 'for each new artist', 'substeps': [{'step_number': 1, 'name': 'retrieve-top-tracks', 'type': 'action', 'description': 'Retrieve top tracks for the current new artist.', 'success_criteria': '3-4 top tracks retrieved for the current new artist.', 'tool': 'functions.find_top_tracks', 'action': 'Use Spotify API to find top tracks for each filtered new artist.', 'condition': None}]}, {'step_number': 7, 'name': 'create-playlist', 'type': 'action', 'description': 'Create a new Spotify playlist with a descriptive name and summary.', 'success_criteria': \"A new playlist is successfully created and available on the user's Spotify account.\", 'tool': 'functions.create_spotify_playlist', 'action': \"Create a new playlist named 'New Rock and Blues Vibes' with an appropriate description.\", 'condition': None, 'substeps': None}, {'step_number': 8, 'name': 'add-tracks-to-playlist', 'type': 'loop', 'description': 'Add tracks to the new playlist while ensuring a smooth listening experience by considering tempo, energy, and mood.', 'success_criteria': 'At least 100 tracks are successfully added to the new playlist while maintaining a smooth listening experience.', 'tool': 'functions.add_tracks_to_playlist', 'action': None, 'condition': 'while the total number of tracks is less than 100', 'substeps': [{'step_number': 1, 'name': 'arrange-tracks', 'type': 'action', 'description': 'Organize tracks to create a smooth listening experience considering tempo, energy, and mood.', 'success_criteria': 'Tracks organized with a smooth flow.', 'tool': None, 'action': 'Reorder tracks based on analysis of tempo, energy, and mood to ensure a smooth playlist.', 'condition': None}, {'step_number': 2, 'name': 'add-tracks', 'type': 'action', 'description': 'Add organized tracks to the new playlist.', 'success_criteria': 'Tracks are added to the playlist successfully.', 'tool': 'functions.add_tracks_to_playlist', 'action': 'Add the organized list of tracks to the new playlist.', 'condition': None}]}], 'Reasoning': \"Outlined a structured approach to build a new Spotify playlist focusing on artists similar to those in the 'New Rock and Blues' playlist, while following specific rules and conditions. This includes gathering similar artists, filtering them, and arranging tracks for a smooth experience, ensuring the resulting playlist adheres to the specified theme and length.\"}\n"
     ]
    }
   ],
   "source": [
    "ai_message.pretty_print()"
   ]
  },
  {
   "cell_type": "code",
   "execution_count": 11,
   "metadata": {},
   "outputs": [
    {
     "data": {
      "text/plain": [
       "{'plan': {'steps': [{'step_number': 1,\n",
       "    'name': 'retrieve-original-playlist-artists',\n",
       "    'type': 'action',\n",
       "    'description': \"Get the list of unique artists from the 'New Rock and Blues' playlist.\",\n",
       "    'success_criteria': 'A list of unique artists is retrieved successfully.',\n",
       "    'tool': 'functions.get_artists_from_playlist',\n",
       "    'action': \"Use the Spotify API to retrieve artists from the provided 'New Rock and Blues' playlist ID.\",\n",
       "    'condition': None,\n",
       "    'substeps': None},\n",
       "   {'step_number': 2,\n",
       "    'name': 'find-similar-artists',\n",
       "    'type': 'loop',\n",
       "    'description': 'For each artist, find 3-4 artists with a similar music style using the Spotify API.',\n",
       "    'success_criteria': 'Found a list of similar artists for all original playlist artists, ensuring that at least 3-4 similar artists are identified for each original artist.',\n",
       "    'tool': 'functions.find_similar_artists',\n",
       "    'action': None,\n",
       "    'condition': 'for each artist in the original playlist',\n",
       "    'substeps': [{'step_number': 1,\n",
       "      'name': 'retrieve-similar-artists',\n",
       "      'type': 'action',\n",
       "      'description': 'Retrieve similar artists for the current artist.',\n",
       "      'success_criteria': '3-4 similar artists are found for the current artist.',\n",
       "      'tool': 'functions.find_similar_artists',\n",
       "      'action': 'Use the Spotify API to find similar artists for each artist.',\n",
       "      'condition': None}]},\n",
       "   {'step_number': 3,\n",
       "    'name': 'filter-existing-artists',\n",
       "    'type': 'action',\n",
       "    'description': \"Remove artists already present in the 'New Rock and Blues' playlist from the list of new similar artists.\",\n",
       "    'success_criteria': 'Filtered list of new artists that do not exist in the original playlist is obtained.',\n",
       "    'tool': 'functions.filter_artists',\n",
       "    'action': 'Use the artist list obtained in step 1 to filter out existing artists from the new similar artists.',\n",
       "    'condition': None,\n",
       "    'substeps': None},\n",
       "   {'step_number': 4,\n",
       "    'name': 'filter-post-2010-artists',\n",
       "    'type': 'action',\n",
       "    'description': 'Filter artists based on post-2010 success.',\n",
       "    'success_criteria': 'List of artists filtered to those who achieved success after 2010.',\n",
       "    'tool': 'functions.tavily_search_results_json',\n",
       "    'action': 'Search for information about each artist to determine their success era and filter according to the criteria.',\n",
       "    'condition': None,\n",
       "    'substeps': None},\n",
       "   {'step_number': 5,\n",
       "    'name': 'ensure-minimum-artists',\n",
       "    'type': 'branch',\n",
       "    'description': 'Ensure that there are at least 40 new artists. If not, repeat the artist finding process with additional conditions or sources.',\n",
       "    'success_criteria': 'The list contains at least 40 new artists.',\n",
       "    'tool': None,\n",
       "    'action': None,\n",
       "    'condition': 'if new artist count is less than 40',\n",
       "    'substeps': [{'step_number': 1,\n",
       "      'name': 'repeat-similar-artists-search',\n",
       "      'type': 'loop',\n",
       "      'description': 'Repeat similar artist finding process with additional conditions or alternative sources.',\n",
       "      'success_criteria': 'At least 40 new artists identified.',\n",
       "      'tool': 'functions.find_similar_artists',\n",
       "      'action': None,\n",
       "      'condition': 'repeat until at least 40 new artists are identified'}]},\n",
       "   {'step_number': 6,\n",
       "    'name': 'get-top-tracks',\n",
       "    'type': 'loop',\n",
       "    'description': 'For each new artist, get their top 3-4 tracks.',\n",
       "    'success_criteria': 'Retrieved 3-4 top tracks for each of the new artists.',\n",
       "    'tool': 'functions.find_top_tracks',\n",
       "    'action': None,\n",
       "    'condition': 'for each new artist',\n",
       "    'substeps': [{'step_number': 1,\n",
       "      'name': 'retrieve-top-tracks',\n",
       "      'type': 'action',\n",
       "      'description': 'Retrieve top tracks for the current new artist.',\n",
       "      'success_criteria': '3-4 top tracks retrieved for the current new artist.',\n",
       "      'tool': 'functions.find_top_tracks',\n",
       "      'action': 'Use Spotify API to find top tracks for each filtered new artist.',\n",
       "      'condition': None}]},\n",
       "   {'step_number': 7,\n",
       "    'name': 'create-playlist',\n",
       "    'type': 'action',\n",
       "    'description': 'Create a new Spotify playlist with a descriptive name and summary.',\n",
       "    'success_criteria': \"A new playlist is successfully created and available on the user's Spotify account.\",\n",
       "    'tool': 'functions.create_spotify_playlist',\n",
       "    'action': \"Create a new playlist named 'New Rock and Blues Vibes' with an appropriate description.\",\n",
       "    'condition': None,\n",
       "    'substeps': None},\n",
       "   {'step_number': 8,\n",
       "    'name': 'add-tracks-to-playlist',\n",
       "    'type': 'loop',\n",
       "    'description': 'Add tracks to the new playlist while ensuring a smooth listening experience by considering tempo, energy, and mood.',\n",
       "    'success_criteria': 'At least 100 tracks are successfully added to the new playlist while maintaining a smooth listening experience.',\n",
       "    'tool': 'functions.add_tracks_to_playlist',\n",
       "    'action': None,\n",
       "    'condition': 'while the total number of tracks is less than 100',\n",
       "    'substeps': [{'step_number': 1,\n",
       "      'name': 'arrange-tracks',\n",
       "      'type': 'action',\n",
       "      'description': 'Organize tracks to create a smooth listening experience considering tempo, energy, and mood.',\n",
       "      'success_criteria': 'Tracks organized with a smooth flow.',\n",
       "      'tool': None,\n",
       "      'action': 'Reorder tracks based on analysis of tempo, energy, and mood to ensure a smooth playlist.',\n",
       "      'condition': None},\n",
       "     {'step_number': 2,\n",
       "      'name': 'add-tracks',\n",
       "      'type': 'action',\n",
       "      'description': 'Add organized tracks to the new playlist.',\n",
       "      'success_criteria': 'Tracks are added to the playlist successfully.',\n",
       "      'tool': 'functions.add_tracks_to_playlist',\n",
       "      'action': 'Add the organized list of tracks to the new playlist.',\n",
       "      'condition': None}]}],\n",
       "  'Reasoning': \"Outlined a structured approach to build a new Spotify playlist focusing on artists similar to those in the 'New Rock and Blues' playlist, while following specific rules and conditions. This includes gathering similar artists, filtering them, and arranging tracks for a smooth experience, ensuring the resulting playlist adheres to the specified theme and length.\"}}"
      ]
     },
     "execution_count": 11,
     "metadata": {},
     "output_type": "execute_result"
    }
   ],
   "source": [
    "plan = ai_message.tool_calls[0][\"args\"]\n",
    "plan"
   ]
  },
  {
   "cell_type": "markdown",
   "metadata": {},
   "source": [
    "# chat_prompt_template holds all messages (Human, AI, Tool)"
   ]
  },
  {
   "cell_type": "code",
   "execution_count": null,
   "metadata": {},
   "outputs": [],
   "source": [
    "from langchain_core.prompts import ChatPromptTemplate\n",
    "\n",
    "chat_prompt_template: ChatPromptTemplate = system_message + human_message + ai_message\n",
    "messages = chat_prompt_template.format_messages()\n",
    "messages"
   ]
  },
  {
   "cell_type": "markdown",
   "metadata": {},
   "source": [
    "# Check for Tools in Message"
   ]
  },
  {
   "cell_type": "code",
   "execution_count": null,
   "metadata": {},
   "outputs": [],
   "source": [
    "from langchain_core.messages import ToolMessage\n",
    "\n",
    "tools_in_ai_message = []\n",
    "tools_by_name = {tool.name: tool for tool in tools}\n",
    "messages = chat_prompt_template.format_messages()\n",
    "for tool_call in messages[-1].tool_calls:\n",
    "    tool = tools_by_name[tool_call[\"name\"]]\n",
    "    tools_in_ai_message.append(tool)\n",
    "    # observation = tool.invoke(tool_call[\"args\"])\n",
    "    # result.append(ToolMessage(content=observation, tool_call_id=tool_call[\"id\"]))\n",
    "if len(tools_in_ai_message) == 0:\n",
    "    raise ValueError\n",
    "else:\n",
    "    print(tools_in_ai_message)"
   ]
  },
  {
   "cell_type": "markdown",
   "metadata": {},
   "source": [
    "# Tool Call (should be validate_plan())"
   ]
  },
  {
   "cell_type": "code",
   "execution_count": null,
   "metadata": {},
   "outputs": [],
   "source": [
    "response = tool_node.invoke({\"messages\": messages})\n",
    "tool_message = response[\"messages\"][0]\n",
    "tool_message.pretty_print()"
   ]
  },
  {
   "cell_type": "markdown",
   "metadata": {},
   "source": [
    "# Add Tool Response to Messages"
   ]
  },
  {
   "cell_type": "code",
   "execution_count": null,
   "metadata": {},
   "outputs": [],
   "source": [
    "chat_prompt_template += tool_message\n",
    "chat_prompt_template.format_messages()"
   ]
  },
  {
   "cell_type": "markdown",
   "metadata": {},
   "source": [
    "# Send Messages with Tool result to LLM"
   ]
  },
  {
   "cell_type": "code",
   "execution_count": null,
   "metadata": {},
   "outputs": [],
   "source": [
    "ai_tool_call_message = llm_with_tools.invoke(chat_prompt_template.format_messages())\n",
    "ai_tool_call_message.pretty_print()"
   ]
  },
  {
   "cell_type": "markdown",
   "metadata": {},
   "source": [
    "# Validate correct tool call"
   ]
  },
  {
   "cell_type": "code",
   "execution_count": null,
   "metadata": {},
   "outputs": [],
   "source": [
    "if ai_tool_call_message.tool_calls is None or ai_tool_call_message.tool_calls[0][\"name\"] != \"get_playlists\":\n",
    "    raise ValueError(\"should be tool message calling 'validate_plan'\")"
   ]
  },
  {
   "cell_type": "markdown",
   "metadata": {},
   "source": [
    "# Tool Call (should be get_playlists())"
   ]
  },
  {
   "cell_type": "code",
   "execution_count": null,
   "metadata": {},
   "outputs": [],
   "source": [
    "chat_prompt_template += ai_tool_call_message\n",
    "messages = chat_prompt_template.format_messages()\n",
    "response = tool_node.invoke({\"messages\": messages})"
   ]
  },
  {
   "cell_type": "code",
   "execution_count": null,
   "metadata": {},
   "outputs": [],
   "source": [
    "from langchain_core.messages import ToolMessage\n",
    "\n",
    "playlist_tool_message: ToolMessage = response[\"messages\"][0]\n",
    "playlist_tool_message.pretty_print()"
   ]
  },
  {
   "cell_type": "markdown",
   "metadata": {},
   "source": [
    "# Add Tool Response to Messages"
   ]
  },
  {
   "cell_type": "code",
   "execution_count": null,
   "metadata": {},
   "outputs": [],
   "source": [
    "chat_prompt_template += playlist_tool_message\n",
    "messages = chat_prompt_template.format_messages()"
   ]
  },
  {
   "cell_type": "markdown",
   "metadata": {},
   "source": [
    "# Send Playlists Results to LLM"
   ]
  },
  {
   "cell_type": "code",
   "execution_count": null,
   "metadata": {},
   "outputs": [],
   "source": [
    "ai_tool_call_message = llm_with_tools.invoke(messages)\n",
    "ai_tool_call_message.pretty_print()"
   ]
  },
  {
   "cell_type": "markdown",
   "metadata": {},
   "source": [
    "# Validate correct tool call"
   ]
  },
  {
   "cell_type": "code",
   "execution_count": null,
   "metadata": {},
   "outputs": [],
   "source": [
    "if ai_tool_call_message.tool_calls is None or ai_tool_call_message.tool_calls[0][\"name\"] != \"get_artists_from_playlist\":\n",
    "    raise ValueError(\"should be tool message calling 'validate_plan'\")"
   ]
  },
  {
   "cell_type": "markdown",
   "metadata": {},
   "source": [
    "# Add AI Tool Call to Messages"
   ]
  },
  {
   "cell_type": "code",
   "execution_count": null,
   "metadata": {},
   "outputs": [],
   "source": [
    "chat_prompt_template += ai_tool_call_message\n",
    "messages = chat_prompt_template.format_messages()"
   ]
  },
  {
   "cell_type": "markdown",
   "metadata": {},
   "source": [
    "# Tool Call (get_artists_from_playlist())"
   ]
  },
  {
   "cell_type": "code",
   "execution_count": null,
   "metadata": {},
   "outputs": [],
   "source": [
    "response = tool_node.invoke({\"messages\": messages})\n",
    "track_list_tool_message: ToolMessage = response[\"messages\"][0]"
   ]
  },
  {
   "cell_type": "markdown",
   "metadata": {},
   "source": [
    "# Decode AI Tool Call message"
   ]
  },
  {
   "cell_type": "code",
   "execution_count": null,
   "metadata": {},
   "outputs": [],
   "source": [
    "track_list_tool_message.pretty_print()"
   ]
  },
  {
   "cell_type": "code",
   "execution_count": null,
   "metadata": {},
   "outputs": [],
   "source": [
    "# json.loads(track_list_tool_message.content)"
   ]
  },
  {
   "cell_type": "markdown",
   "metadata": {},
   "source": [
    "# Add Tool Response to Messages"
   ]
  },
  {
   "cell_type": "code",
   "execution_count": null,
   "metadata": {},
   "outputs": [],
   "source": [
    "chat_prompt_template += track_list_tool_message\n",
    "messages = chat_prompt_template.format_messages()\n",
    "messages"
   ]
  },
  {
   "cell_type": "markdown",
   "metadata": {},
   "source": [
    "# Send Tool Result to LLM"
   ]
  },
  {
   "cell_type": "code",
   "execution_count": null,
   "metadata": {},
   "outputs": [],
   "source": [
    "response = llm_with_tools.invoke(messages)"
   ]
  },
  {
   "cell_type": "markdown",
   "metadata": {},
   "source": [
    "# AI Tool Call (find_similar_artist())"
   ]
  },
  {
   "cell_type": "code",
   "execution_count": null,
   "metadata": {},
   "outputs": [],
   "source": [
    "if ai_tool_call_message.tool_calls is None or ai_tool_call_message.tool_calls[0][\"name\"] != \"get_artists_from_playlist\":\n",
    "    raise ValueError(\"should be tool message calling 'validate_plan'\")"
   ]
  },
  {
   "cell_type": "code",
   "execution_count": null,
   "metadata": {},
   "outputs": [],
   "source": [
    "response.pretty_print()"
   ]
  },
  {
   "cell_type": "code",
   "execution_count": null,
   "metadata": {},
   "outputs": [],
   "source": [
    "if ai_tool_call_message.tool_calls is None or ai_tool_call_message.tool_calls[0][\"name\"] != \"find_similar_artists\":\n",
    "    raise ValueError(\"should be tool message calling 'validate_plan'\")"
   ]
  },
  {
   "cell_type": "markdown",
   "metadata": {},
   "source": [
    "# Add AI Tool Call to Messages"
   ]
  },
  {
   "cell_type": "code",
   "execution_count": null,
   "metadata": {},
   "outputs": [],
   "source": [
    "chat_prompt_template += response\n",
    "messages = chat_prompt_template.format_messages()\n",
    "messages"
   ]
  },
  {
   "cell_type": "markdown",
   "metadata": {},
   "source": [
    "# Tool Call (find_similar_artists())"
   ]
  },
  {
   "cell_type": "code",
   "execution_count": null,
   "metadata": {},
   "outputs": [],
   "source": [
    "response = tool_node.invoke({\"messages\": messages})"
   ]
  },
  {
   "cell_type": "code",
   "execution_count": null,
   "metadata": {},
   "outputs": [],
   "source": [
    "tool_message = response[\"messages\"][0]\n",
    "tool_message.pretty_print()"
   ]
  },
  {
   "cell_type": "markdown",
   "metadata": {},
   "source": [
    "# Add Tool Response to Messages"
   ]
  },
  {
   "cell_type": "code",
   "execution_count": null,
   "metadata": {},
   "outputs": [],
   "source": [
    "chat_prompt_template += tool_message\n",
    "messages = chat_prompt_template.format_messages()\n",
    "messages"
   ]
  },
  {
   "cell_type": "markdown",
   "metadata": {},
   "source": [
    "# Send Tool Result to LLM"
   ]
  },
  {
   "cell_type": "code",
   "execution_count": null,
   "metadata": {},
   "outputs": [],
   "source": [
    "response = llm_with_tools.invoke(messages)\n",
    "response.pretty_print()"
   ]
  },
  {
   "cell_type": "code",
   "execution_count": null,
   "metadata": {},
   "outputs": [],
   "source": [
    "chat_prompt_template += response\n",
    "messages = chat_prompt_template.format_messages()\n",
    "messages"
   ]
  },
  {
   "cell_type": "code",
   "execution_count": null,
   "metadata": {},
   "outputs": [],
   "source": [
    "hm = HumanMessage(\"Why did you only asked for similar artists for a ubset of all artists in the playlist? How can the prompt be improved to make sure you go through all of them?\")\n",
    "chat_prompt_template += hm\n",
    "response = llm_with_tools.invoke(messages)\n",
    "response.pretty_print()"
   ]
  },
  {
   "cell_type": "code",
   "execution_count": null,
   "metadata": {},
   "outputs": [],
   "source": [
    "filtered_artists: ToolMessage = response[\"messages\"][0]\n",
    "filtered_artists.pretty_print()"
   ]
  },
  {
   "cell_type": "code",
   "execution_count": null,
   "metadata": {},
   "outputs": [],
   "source": [
    "response = llm_with_tools.invoke(messages)"
   ]
  },
  {
   "cell_type": "code",
   "execution_count": null,
   "metadata": {},
   "outputs": [],
   "source": [
    "chat_prompt_template += response\n",
    "chat_prompt_template.format_messages()"
   ]
  },
  {
   "cell_type": "code",
   "execution_count": null,
   "metadata": {},
   "outputs": [],
   "source": [
    "response = tool_node.invoke({\"messages\": [response]})"
   ]
  },
  {
   "cell_type": "code",
   "execution_count": null,
   "metadata": {},
   "outputs": [],
   "source": [
    "response"
   ]
  }
 ],
 "metadata": {
  "kernelspec": {
   "display_name": ".venv",
   "language": "python",
   "name": "python3"
  },
  "language_info": {
   "codemirror_mode": {
    "name": "ipython",
    "version": 3
   },
   "file_extension": ".py",
   "mimetype": "text/x-python",
   "name": "python",
   "nbconvert_exporter": "python",
   "pygments_lexer": "ipython3",
   "version": "3.12.5"
  }
 },
 "nbformat": 4,
 "nbformat_minor": 2
}
