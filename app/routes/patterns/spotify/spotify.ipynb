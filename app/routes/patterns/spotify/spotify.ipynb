{
 "cells": [
  {
   "cell_type": "code",
   "execution_count": 1,
   "metadata": {},
   "outputs": [],
   "source": [
    "%%capture --no-stderr\n",
    "%pip install --quiet -U langgraph langchain-core langchain_openai python-dotenv langsmith pydantic spotipy"
   ]
  },
  {
   "cell_type": "code",
   "execution_count": 2,
   "metadata": {},
   "outputs": [
    {
     "name": "stdout",
     "output_type": "stream",
     "text": [
      "Note: you may need to restart the kernel to use updated packages.\n",
      "Note: you may need to restart the kernel to use updated packages.\n"
     ]
    }
   ],
   "source": [
    "%pip install --quiet -U jupyterlab-lsp\n",
    "%pip install --quiet -U \"python-lsp-server[all]\""
   ]
  },
  {
   "cell_type": "code",
   "execution_count": 3,
   "metadata": {},
   "outputs": [],
   "source": [
    "## Setup logging\n",
    "import logging\n",
    "import os\n",
    "from dotenv import load_dotenv\n",
    "\n",
    "load_dotenv(override=True)\n",
    "logger = logging.getLogger(__name__)\n",
    "\n",
    "# Configure logging\n",
    "logging.basicConfig(\n",
    "    level=logging.INFO,\n",
    "    format='%(asctime)s - %(levelname)s - %(message)s',  # Define the format\n",
    "    handlers=[logging.StreamHandler()]  # Output to the console\n",
    ")"
   ]
  },
  {
   "cell_type": "markdown",
   "metadata": {},
   "source": [
    "# Define Search Tool"
   ]
  },
  {
   "cell_type": "code",
   "execution_count": 4,
   "metadata": {},
   "outputs": [
    {
     "data": {
      "text/plain": [
       "'A search engine optimized for comprehensive, accurate, and trusted results. Useful for when you need to answer questions about current events. Input should be a search query.'"
      ]
     },
     "execution_count": 4,
     "metadata": {},
     "output_type": "execute_result"
    }
   ],
   "source": [
    "from langchain_community.tools.tavily_search import TavilySearchResults\n",
    "\n",
    "search_tool = TavilySearchResults(\n",
    "    max_results=50,\n",
    "    include_answer=True,\n",
    "    include_raw_content=True,\n",
    "    include_images=True,\n",
    "    # search_depth=\"advanced\",\n",
    "    # include_domains = []\n",
    "    # exclude_domains = []\n",
    ")\n",
    "name = search_tool.get_name()\n",
    "desc = search_tool.description\n",
    "desc"
   ]
  },
  {
   "cell_type": "markdown",
   "metadata": {},
   "source": [
    "# Create ToolNode"
   ]
  },
  {
   "cell_type": "code",
   "execution_count": 5,
   "metadata": {},
   "outputs": [],
   "source": [
    "from langgraph.prebuilt import ToolNode\n",
    "from spotify_tools import get_playlists, create_spotify_playlist, get_track_list_from_playlist, add_tracks_to_playlist, filter_artists, get_artists_from_playlist, find_similar_artists, find_top_tracks\n",
    "from plan import validate_plan\n",
    "\n",
    "tools = [get_playlists, create_spotify_playlist, add_tracks_to_playlist, filter_artists, validate_plan, get_artists_from_playlist, search_tool, find_similar_artists, get_track_list_from_playlist, find_top_tracks]\n",
    "# tools = [get_playlists, get_track_list, create_spotify_playlist, add_tracks_to_playlist, search_tool]\n",
    "tool_node = ToolNode(tools)"
   ]
  },
  {
   "cell_type": "markdown",
   "metadata": {},
   "source": [
    "# Bind Tools to Model"
   ]
  },
  {
   "cell_type": "code",
   "execution_count": 6,
   "metadata": {},
   "outputs": [],
   "source": [
    "from langchain_openai import ChatOpenAI\n",
    "\n",
    "llm = ChatOpenAI(model=os.getenv(\"OPENAI_MODEL_NAME\"), temperature=1.0)\n",
    "# llm_with_tools = llm.bind_tools(tools, strict=True, parallel_tool_calls=False)\n",
    "llm_with_tools = llm.bind_tools(tools, strict=True)"
   ]
  },
  {
   "cell_type": "markdown",
   "metadata": {},
   "source": [
    "# System Prompt"
   ]
  },
  {
   "cell_type": "code",
   "execution_count": 7,
   "metadata": {},
   "outputs": [],
   "source": [
    "from langchain_core.messages import SystemMessage\n",
    "from prompts import Prompts\n",
    "\n",
    "system_message = SystemMessage(Prompts.SYSTEM)\n"
   ]
  },
  {
   "cell_type": "markdown",
   "metadata": {},
   "source": [
    "# First Message"
   ]
  },
  {
   "cell_type": "code",
   "execution_count": 8,
   "metadata": {},
   "outputs": [
    {
     "name": "stderr",
     "output_type": "stream",
     "text": [
      "2024-11-14 07:16:19,707 - INFO - HTTP Request: POST https://api.openai.com/v1/chat/completions \"HTTP/1.1 200 OK\"\n"
     ]
    }
   ],
   "source": [
    "from langchain_core.messages import HumanMessage\n",
    "from prompts import Prompts\n",
    "\n",
    "human_message = HumanMessage(Prompts.SPOTIFY)\n",
    "ai_message = llm_with_tools.invoke([system_message, human_message])"
   ]
  },
  {
   "cell_type": "code",
   "execution_count": null,
   "metadata": {},
   "outputs": [],
   "source": [
    "if ai_message.tool_calls is None or ai_message.tool_calls[0][\"name\"] != \"validate_plan\":\n",
    "    raise ValueError(\"should be tool message calling 'validate_plan'\")"
   ]
  },
  {
   "cell_type": "code",
   "execution_count": 9,
   "metadata": {},
   "outputs": [
    {
     "name": "stdout",
     "output_type": "stream",
     "text": [
      "==================================\u001b[1m Ai Message \u001b[0m==================================\n",
      "Tool Calls:\n",
      "  validate_plan (call_SXPqjUoSUkfz90z69igIE2Qb)\n",
      " Call ID: call_SXPqjUoSUkfz90z69igIE2Qb\n",
      "  Args:\n",
      "    plan: {'steps': [{'name': 'get-existing-artist-list', 'description': \"Retrieve a list of unique artists from the 'New Rock and Blues' playlist.\", 'success_criteria': 'Complete list of unique artists retrieved from the playlist.', 'tool': 'functions.get_artists_from_playlist', 'action': 'Tool Calling'}, {'name': 'find-similar-artists', 'description': \"For each artist from the 'New Rock and Blues' playlist, find 3-4 artists of a similar style.\", 'success_criteria': 'List of similar artists found for each artist in the playlist.', 'tool': 'functions.find_similar_artists', 'action': 'Tool Calling'}, {'name': 'filter-similar-artists', 'description': \"Remove artists present in the 'New Rock and Blues' playlist from the list of similar artists.\", 'success_criteria': \"Filtered list of similar artists without any overlap with the original 'New Rock and Blues' playlist.\", 'tool': 'functions.filter_artists', 'action': 'Tool Calling'}, {'name': 'find-top-tracks', 'description': 'Find top tracks for each new artist focusing on those who had post-2010 success.', 'success_criteria': 'List of top tracks focusing on post-2010 tracks from each new artist.', 'tool': 'functions.find_top_tracks', 'action': 'Tool Calling'}, {'name': 'compile-artist-list', 'description': 'Compile a processed list ensuring at least 40 unique post-2010 artists.', 'success_criteria': 'A list containing at least 40 unique artists who have achieved success post-2010.', 'tool': 'functions.tavily_search_results_json', 'action': 'Tool Calling'}, {'name': 'select-tracks', 'description': 'Select 3-4 tracks for each new artist.', 'success_criteria': 'Selection of 3-4 tracks for each confirmed new artist.', 'tool': 'functions.find_top_tracks', 'action': 'Tool Calling'}, {'name': 'organize-tracks', 'description': 'Arrange selected tracks for a smooth listening experience.', 'success_criteria': 'Tracks arranged thoughtfully to ensure a smooth listening experience.', 'tool': 'functions.tavily_search_results_json', 'action': 'Tool Calling'}, {'name': 'create-playlist', 'description': 'Create a new playlist with the selected tracks.', 'success_criteria': 'The new playlist is created and contains at least 100 tracks.', 'tool': 'functions.create_spotify_playlist', 'action': 'Tool Calling'}], 'Reasoning': \"To build a new playlist inspired by 'New Rock and Blues,' we start by gathering existing artist data. We explore artists similar in style, ensuring no overlap with the current playlist. By focusing on tracks from post-2010, we adapt to modern successes, enriching the playlist with at least 40 new artists and ensuring a minimum of 100 tracks for a dynamic listening experience.\"}\n"
     ]
    }
   ],
   "source": [
    "ai_message.pretty_print()"
   ]
  },
  {
   "cell_type": "code",
   "execution_count": 10,
   "metadata": {},
   "outputs": [
    {
     "data": {
      "text/plain": [
       "{'plan': {'steps': [{'name': 'get-existing-artist-list',\n",
       "    'description': \"Retrieve a list of unique artists from the 'New Rock and Blues' playlist.\",\n",
       "    'success_criteria': 'Complete list of unique artists retrieved from the playlist.',\n",
       "    'tool': 'functions.get_artists_from_playlist',\n",
       "    'action': 'Tool Calling'},\n",
       "   {'name': 'find-similar-artists',\n",
       "    'description': \"For each artist from the 'New Rock and Blues' playlist, find 3-4 artists of a similar style.\",\n",
       "    'success_criteria': 'List of similar artists found for each artist in the playlist.',\n",
       "    'tool': 'functions.find_similar_artists',\n",
       "    'action': 'Tool Calling'},\n",
       "   {'name': 'filter-similar-artists',\n",
       "    'description': \"Remove artists present in the 'New Rock and Blues' playlist from the list of similar artists.\",\n",
       "    'success_criteria': \"Filtered list of similar artists without any overlap with the original 'New Rock and Blues' playlist.\",\n",
       "    'tool': 'functions.filter_artists',\n",
       "    'action': 'Tool Calling'},\n",
       "   {'name': 'find-top-tracks',\n",
       "    'description': 'Find top tracks for each new artist focusing on those who had post-2010 success.',\n",
       "    'success_criteria': 'List of top tracks focusing on post-2010 tracks from each new artist.',\n",
       "    'tool': 'functions.find_top_tracks',\n",
       "    'action': 'Tool Calling'},\n",
       "   {'name': 'compile-artist-list',\n",
       "    'description': 'Compile a processed list ensuring at least 40 unique post-2010 artists.',\n",
       "    'success_criteria': 'A list containing at least 40 unique artists who have achieved success post-2010.',\n",
       "    'tool': 'functions.tavily_search_results_json',\n",
       "    'action': 'Tool Calling'},\n",
       "   {'name': 'select-tracks',\n",
       "    'description': 'Select 3-4 tracks for each new artist.',\n",
       "    'success_criteria': 'Selection of 3-4 tracks for each confirmed new artist.',\n",
       "    'tool': 'functions.find_top_tracks',\n",
       "    'action': 'Tool Calling'},\n",
       "   {'name': 'organize-tracks',\n",
       "    'description': 'Arrange selected tracks for a smooth listening experience.',\n",
       "    'success_criteria': 'Tracks arranged thoughtfully to ensure a smooth listening experience.',\n",
       "    'tool': 'functions.tavily_search_results_json',\n",
       "    'action': 'Tool Calling'},\n",
       "   {'name': 'create-playlist',\n",
       "    'description': 'Create a new playlist with the selected tracks.',\n",
       "    'success_criteria': 'The new playlist is created and contains at least 100 tracks.',\n",
       "    'tool': 'functions.create_spotify_playlist',\n",
       "    'action': 'Tool Calling'}],\n",
       "  'Reasoning': \"To build a new playlist inspired by 'New Rock and Blues,' we start by gathering existing artist data. We explore artists similar in style, ensuring no overlap with the current playlist. By focusing on tracks from post-2010, we adapt to modern successes, enriching the playlist with at least 40 new artists and ensuring a minimum of 100 tracks for a dynamic listening experience.\"}}"
      ]
     },
     "execution_count": 10,
     "metadata": {},
     "output_type": "execute_result"
    }
   ],
   "source": [
    "plan = ai_message.tool_calls[0][\"args\"]\n",
    "plan"
   ]
  },
  {
   "cell_type": "markdown",
   "metadata": {},
   "source": [
    "# chat_prompt_template holds all messages (Human, AI, Tool)"
   ]
  },
  {
   "cell_type": "code",
   "execution_count": null,
   "metadata": {},
   "outputs": [],
   "source": [
    "from langchain_core.prompts import ChatPromptTemplate\n",
    "\n",
    "chat_prompt_template: ChatPromptTemplate = system_message + human_message + ai_message\n",
    "messages = chat_prompt_template.format_messages()\n",
    "messages"
   ]
  },
  {
   "cell_type": "markdown",
   "metadata": {},
   "source": [
    "# Check for Tools in Message"
   ]
  },
  {
   "cell_type": "code",
   "execution_count": null,
   "metadata": {},
   "outputs": [],
   "source": [
    "from langchain_core.messages import ToolMessage\n",
    "\n",
    "tools_in_ai_message = []\n",
    "tools_by_name = {tool.name: tool for tool in tools}\n",
    "messages = chat_prompt_template.format_messages()\n",
    "for tool_call in messages[-1].tool_calls:\n",
    "    tool = tools_by_name[tool_call[\"name\"]]\n",
    "    tools_in_ai_message.append(tool)\n",
    "    # observation = tool.invoke(tool_call[\"args\"])\n",
    "    # result.append(ToolMessage(content=observation, tool_call_id=tool_call[\"id\"]))\n",
    "if len(tools_in_ai_message) == 0:\n",
    "    raise ValueError\n",
    "else:\n",
    "    print(tools_in_ai_message)"
   ]
  },
  {
   "cell_type": "markdown",
   "metadata": {},
   "source": [
    "# Tool Call (should be validate_plan())"
   ]
  },
  {
   "cell_type": "code",
   "execution_count": null,
   "metadata": {},
   "outputs": [],
   "source": [
    "response = tool_node.invoke({\"messages\": messages})\n",
    "tool_message = response[\"messages\"][0]\n",
    "tool_message.pretty_print()"
   ]
  },
  {
   "cell_type": "markdown",
   "metadata": {},
   "source": [
    "# Add Tool Response to Messages"
   ]
  },
  {
   "cell_type": "code",
   "execution_count": null,
   "metadata": {},
   "outputs": [],
   "source": [
    "chat_prompt_template += tool_message\n",
    "chat_prompt_template.format_messages()"
   ]
  },
  {
   "cell_type": "markdown",
   "metadata": {},
   "source": [
    "# Send Messages with Tool result to LLM"
   ]
  },
  {
   "cell_type": "code",
   "execution_count": null,
   "metadata": {},
   "outputs": [],
   "source": [
    "ai_tool_call_message = llm_with_tools.invoke(chat_prompt_template.format_messages())\n",
    "ai_tool_call_message.pretty_print()"
   ]
  },
  {
   "cell_type": "markdown",
   "metadata": {},
   "source": [
    "# Validate correct tool call"
   ]
  },
  {
   "cell_type": "code",
   "execution_count": null,
   "metadata": {},
   "outputs": [],
   "source": [
    "if ai_tool_call_message.tool_calls is None or ai_tool_call_message.tool_calls[0][\"name\"] != \"get_playlists\":\n",
    "    raise ValueError(\"should be tool message calling 'validate_plan'\")"
   ]
  },
  {
   "cell_type": "markdown",
   "metadata": {},
   "source": [
    "# Tool Call (should be get_playlists())"
   ]
  },
  {
   "cell_type": "code",
   "execution_count": null,
   "metadata": {},
   "outputs": [],
   "source": [
    "chat_prompt_template += ai_tool_call_message\n",
    "messages = chat_prompt_template.format_messages()\n",
    "response = tool_node.invoke({\"messages\": messages})"
   ]
  },
  {
   "cell_type": "code",
   "execution_count": null,
   "metadata": {},
   "outputs": [],
   "source": [
    "from langchain_core.messages import ToolMessage\n",
    "\n",
    "playlist_tool_message: ToolMessage = response[\"messages\"][0]\n",
    "playlist_tool_message.pretty_print()"
   ]
  },
  {
   "cell_type": "markdown",
   "metadata": {},
   "source": [
    "# Add Tool Response to Messages"
   ]
  },
  {
   "cell_type": "code",
   "execution_count": null,
   "metadata": {},
   "outputs": [],
   "source": [
    "chat_prompt_template += playlist_tool_message\n",
    "messages = chat_prompt_template.format_messages()"
   ]
  },
  {
   "cell_type": "markdown",
   "metadata": {},
   "source": [
    "# Send Playlists Results to LLM"
   ]
  },
  {
   "cell_type": "code",
   "execution_count": null,
   "metadata": {},
   "outputs": [],
   "source": [
    "ai_tool_call_message = llm_with_tools.invoke(messages)\n",
    "ai_tool_call_message.pretty_print()"
   ]
  },
  {
   "cell_type": "markdown",
   "metadata": {},
   "source": [
    "# Validate correct tool call"
   ]
  },
  {
   "cell_type": "code",
   "execution_count": null,
   "metadata": {},
   "outputs": [],
   "source": [
    "if ai_tool_call_message.tool_calls is None or ai_tool_call_message.tool_calls[0][\"name\"] != \"get_artists_from_playlist\":\n",
    "    raise ValueError(\"should be tool message calling 'validate_plan'\")"
   ]
  },
  {
   "cell_type": "markdown",
   "metadata": {},
   "source": [
    "# Add AI Tool Call to Messages"
   ]
  },
  {
   "cell_type": "code",
   "execution_count": null,
   "metadata": {},
   "outputs": [],
   "source": [
    "chat_prompt_template += ai_tool_call_message\n",
    "messages = chat_prompt_template.format_messages()"
   ]
  },
  {
   "cell_type": "markdown",
   "metadata": {},
   "source": [
    "# Tool Call (get_artists_from_playlist())"
   ]
  },
  {
   "cell_type": "code",
   "execution_count": null,
   "metadata": {},
   "outputs": [],
   "source": [
    "response = tool_node.invoke({\"messages\": messages})\n",
    "track_list_tool_message: ToolMessage = response[\"messages\"][0]"
   ]
  },
  {
   "cell_type": "markdown",
   "metadata": {},
   "source": [
    "# Decode AI Tool Call message"
   ]
  },
  {
   "cell_type": "code",
   "execution_count": null,
   "metadata": {},
   "outputs": [],
   "source": [
    "track_list_tool_message.pretty_print()"
   ]
  },
  {
   "cell_type": "code",
   "execution_count": null,
   "metadata": {},
   "outputs": [],
   "source": [
    "# json.loads(track_list_tool_message.content)"
   ]
  },
  {
   "cell_type": "markdown",
   "metadata": {},
   "source": [
    "# Add Tool Response to Messages"
   ]
  },
  {
   "cell_type": "code",
   "execution_count": null,
   "metadata": {},
   "outputs": [],
   "source": [
    "chat_prompt_template += track_list_tool_message\n",
    "messages = chat_prompt_template.format_messages()\n",
    "messages"
   ]
  },
  {
   "cell_type": "markdown",
   "metadata": {},
   "source": [
    "# Send Tool Result to LLM"
   ]
  },
  {
   "cell_type": "code",
   "execution_count": null,
   "metadata": {},
   "outputs": [],
   "source": [
    "response = llm_with_tools.invoke(messages)"
   ]
  },
  {
   "cell_type": "markdown",
   "metadata": {},
   "source": [
    "# AI Tool Call (find_similar_artist())"
   ]
  },
  {
   "cell_type": "code",
   "execution_count": null,
   "metadata": {},
   "outputs": [],
   "source": [
    "if ai_tool_call_message.tool_calls is None or ai_tool_call_message.tool_calls[0][\"name\"] != \"get_artists_from_playlist\":\n",
    "    raise ValueError(\"should be tool message calling 'validate_plan'\")"
   ]
  },
  {
   "cell_type": "code",
   "execution_count": null,
   "metadata": {},
   "outputs": [],
   "source": [
    "response.pretty_print()"
   ]
  },
  {
   "cell_type": "code",
   "execution_count": null,
   "metadata": {},
   "outputs": [],
   "source": [
    "if ai_tool_call_message.tool_calls is None or ai_tool_call_message.tool_calls[0][\"name\"] != \"find_similar_artists\":\n",
    "    raise ValueError(\"should be tool message calling 'validate_plan'\")"
   ]
  },
  {
   "cell_type": "markdown",
   "metadata": {},
   "source": [
    "# Add AI Tool Call to Messages"
   ]
  },
  {
   "cell_type": "code",
   "execution_count": null,
   "metadata": {},
   "outputs": [],
   "source": [
    "chat_prompt_template += response\n",
    "messages = chat_prompt_template.format_messages()\n",
    "messages"
   ]
  },
  {
   "cell_type": "markdown",
   "metadata": {},
   "source": [
    "# Tool Call (find_similar_artists())"
   ]
  },
  {
   "cell_type": "code",
   "execution_count": null,
   "metadata": {},
   "outputs": [],
   "source": [
    "response = tool_node.invoke({\"messages\": messages})"
   ]
  },
  {
   "cell_type": "code",
   "execution_count": null,
   "metadata": {},
   "outputs": [],
   "source": [
    "tool_message = response[\"messages\"][0]\n",
    "tool_message.pretty_print()"
   ]
  },
  {
   "cell_type": "markdown",
   "metadata": {},
   "source": [
    "# Add Tool Response to Messages"
   ]
  },
  {
   "cell_type": "code",
   "execution_count": null,
   "metadata": {},
   "outputs": [],
   "source": [
    "chat_prompt_template += tool_message\n",
    "messages = chat_prompt_template.format_messages()\n",
    "messages"
   ]
  },
  {
   "cell_type": "markdown",
   "metadata": {},
   "source": [
    "# Send Tool Result to LLM"
   ]
  },
  {
   "cell_type": "code",
   "execution_count": null,
   "metadata": {},
   "outputs": [],
   "source": [
    "response = llm_with_tools.invoke(messages)\n",
    "response.pretty_print()"
   ]
  },
  {
   "cell_type": "code",
   "execution_count": null,
   "metadata": {},
   "outputs": [],
   "source": [
    "chat_prompt_template += response\n",
    "messages = chat_prompt_template.format_messages()\n",
    "messages"
   ]
  },
  {
   "cell_type": "code",
   "execution_count": null,
   "metadata": {},
   "outputs": [],
   "source": [
    "hm = HumanMessage(\"Why did you only asked for similar artists for a ubset of all artists in the playlist? How can the prompt be improved to make sure you go through all of them?\")\n",
    "chat_prompt_template += hm\n",
    "response = llm_with_tools.invoke(messages)\n",
    "response.pretty_print()"
   ]
  },
  {
   "cell_type": "code",
   "execution_count": null,
   "metadata": {},
   "outputs": [],
   "source": [
    "filtered_artists: ToolMessage = response[\"messages\"][0]\n",
    "filtered_artists.pretty_print()"
   ]
  },
  {
   "cell_type": "code",
   "execution_count": null,
   "metadata": {},
   "outputs": [],
   "source": [
    "response = llm_with_tools.invoke(messages)"
   ]
  },
  {
   "cell_type": "code",
   "execution_count": null,
   "metadata": {},
   "outputs": [],
   "source": [
    "chat_prompt_template += response\n",
    "chat_prompt_template.format_messages()"
   ]
  },
  {
   "cell_type": "code",
   "execution_count": null,
   "metadata": {},
   "outputs": [],
   "source": [
    "response = tool_node.invoke({\"messages\": [response]})"
   ]
  },
  {
   "cell_type": "code",
   "execution_count": null,
   "metadata": {},
   "outputs": [],
   "source": [
    "response"
   ]
  }
 ],
 "metadata": {
  "kernelspec": {
   "display_name": ".venv",
   "language": "python",
   "name": "python3"
  },
  "language_info": {
   "codemirror_mode": {
    "name": "ipython",
    "version": 3
   },
   "file_extension": ".py",
   "mimetype": "text/x-python",
   "name": "python",
   "nbconvert_exporter": "python",
   "pygments_lexer": "ipython3",
   "version": "3.12.5"
  }
 },
 "nbformat": 4,
 "nbformat_minor": 2
}
