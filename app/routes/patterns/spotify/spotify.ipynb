{
 "cells": [
  {
   "cell_type": "code",
   "execution_count": null,
   "metadata": {},
   "outputs": [],
   "source": [
    "%%capture --no-stderr\n",
    "%pip install --quiet -U langgraph langchain-core langchain_openai python-dotenv langsmith pydantic spotipy"
   ]
  },
  {
   "cell_type": "code",
   "execution_count": null,
   "metadata": {},
   "outputs": [],
   "source": [
    "%pip install --quiet -U jupyterlab-lsp\n",
    "%pip install --quiet -U \"python-lsp-server[all]\""
   ]
  },
  {
   "cell_type": "code",
   "execution_count": null,
   "metadata": {},
   "outputs": [],
   "source": [
    "## Setup logging\n",
    "import logging\n",
    "import os\n",
    "from dotenv import load_dotenv\n",
    "\n",
    "load_dotenv(override=True)\n",
    "logger = logging.getLogger(__name__)\n",
    "\n",
    "# Configure logging\n",
    "logging.basicConfig(\n",
    "    level=logging.INFO,\n",
    "    format='%(asctime)s - %(levelname)s - %(message)s',  # Define the format\n",
    "    handlers=[logging.StreamHandler()]  # Output to the console\n",
    ")"
   ]
  },
  {
   "cell_type": "markdown",
   "metadata": {},
   "source": [
    "# Define Spotify URI type"
   ]
  },
  {
   "cell_type": "code",
   "execution_count": 1224,
   "metadata": {},
   "outputs": [],
   "source": [
    "from typing import List, NewType\n",
    "\n",
    "# Define a custom URI type\n",
    "SpotifyURI = NewType('SpotifyURI', str)"
   ]
  },
  {
   "cell_type": "markdown",
   "metadata": {},
   "source": [
    "# Define Spotify Track and Playlist Models"
   ]
  },
  {
   "cell_type": "code",
   "execution_count": 1225,
   "metadata": {},
   "outputs": [],
   "source": [
    "from typing import List, Dict, Optional\n",
    "from pydantic import BaseModel, Field\n",
    "\n",
    "# Define a Pydantic model for Playlist\n",
    "class Playlist(BaseModel):\n",
    "    \"\"\"\n",
    "    A model representing a Spotify playlist.\n",
    "    \"\"\"\n",
    "    id: str = Field(..., description=\"The unique identifier for the playlist.\")\n",
    "    uri: str = Field(..., description=\"The Spotify URI for the playlist.\")\n",
    "    name: str = Field(..., description=\"The name of the playlist.\")\n",
    "    description: Optional[str] = Field(None, description=\"The playlist's description.\")\n",
    "    owner: Optional[str] = Field(None, description=\"The display name of the playlist's owner.\")\n",
    "    tracks_total: Optional[int] = Field(None, description=\"The total number of tracks in the playlist.\")\n",
    "    is_public: Optional[bool] = Field(None, description=\"Indicates if the playlist is public.\")\n",
    "    collaborative: Optional[bool] = Field(None, description=\"Indicates if the playlist is collaborative.\")\n",
    "    snapshot_id: Optional[str] = Field(None, description=\"The version identifier for the current playlist.\")\n",
    "\n",
    "# Define a Pydantic model for Track\n",
    "class Track(BaseModel):\n",
    "    \"\"\"\n",
    "    A model representing a Spotify track.\n",
    "    \"\"\"\n",
    "    id: str = Field(..., description=\"The unique identifier for the track.\")\n",
    "    uri: str = Field(..., description=\"The Spotify URI for the track.\")\n",
    "    name: str = Field(..., description=\"The name of the track.\")\n",
    "    artists: List[str] = Field(..., description=\"A list of artists who performed the track.\")\n",
    "    album: str = Field(..., description=\"The name of the album the track is from.\")\n",
    "    duration_ms: Optional[int] = Field(None, description=\"The track length in milliseconds.\")\n",
    "    explicit: Optional[bool] = Field(None, description=\"Indicates if the track has explicit content.\")\n",
    "    popularity: Optional[int] = Field(None, description=\"The popularity of the track (0-100).\")\n",
    "\n",
    "\n",
    "# Define a Pydantic model for Tracks\n",
    "class Tracks(BaseModel):\n",
    "    \"\"\"\n",
    "    A model representing a collection of Spotify tracks.\n",
    "    \"\"\"\n",
    "    tracks: List[Track] = Field(..., description=\"A list of Track objects.\")\n",
    "    total: Optional[int] = Field(None, description=\"Total number of tracks in the collection.\")\n",
    "    playlist_name: Optional[str] = Field(None, description=\"Name of the playlist.\")\n",
    "\n",
    "    class Config:\n",
    "        \"\"\"\n",
    "        Configuration for the Tracks model.\n",
    "        \"\"\"\n",
    "        str_strip_whitespace = True"
   ]
  },
  {
   "cell_type": "code",
   "execution_count": 1226,
   "metadata": {},
   "outputs": [],
   "source": [
    "from typing import Dict, List, Any, Annotated, Set\n",
    "from typing import Annotated\n",
    "from typing_extensions import TypedDict\n",
    "from langchain_core.messages import AIMessage, HumanMessage, BaseMessage, ToolMessage\n",
    "from langgraph.graph.message import add_messages\n",
    "\n",
    "\n",
    "class State(TypedDict, total=False):\n",
    "    \"\"\"\n",
    "    Represents the state of the conversation and Spotify information\n",
    "\n",
    "    Attributes:\n",
    "        playlists (List[Playlist]): A list of Spotify Playlists.\n",
    "        tracks (List[Track]): Track list for a Spotify Playlist\n",
    "        new_playlist: (Playlist) : New Spotify playlist data\n",
    "        new_tracks: (List[Track]): Tracks for the new playlist\n",
    "    \"\"\"\n",
    "    new_playlist: Playlist\n",
    "    new_tracks: List[Track]\n",
    "    valid_artists: Set[str]\n",
    "    candidate_artists : Set[str]\n",
    "    playlists: List[Playlist]\n",
    "    tracks: List[Track]\n",
    "    artists: Set[str]\n",
    "    messages: Annotated[List[BaseMessage], add_messages]\n",
    "\n",
    "state: State = State()\n",
    "\n",
    "def get_state():\n",
    "    return state"
   ]
  },
  {
   "cell_type": "markdown",
   "metadata": {},
   "source": [
    "# Define Spotify Tools"
   ]
  },
  {
   "cell_type": "code",
   "execution_count": 1227,
   "metadata": {},
   "outputs": [],
   "source": [
    "import os\n",
    "import spotipy\n",
    "from spotipy.oauth2 import SpotifyClientCredentials\n",
    "from langchain_core.tools import tool\n",
    "from typing import List, NewType, Set\n",
    "import json\n",
    "\n",
    "\n",
    "def get_spotify_client() -> spotipy.Spotify:\n",
    "    \"\"\"\n",
    "    Initializes and returns a Spotify client with user authentication.\n",
    "\n",
    "    Returns:\n",
    "        spotipy.Spotify: An authenticated Spotify client.\n",
    "    \"\"\"\n",
    "    auth_manager = SpotifyClientCredentials(\n",
    "        client_id=os.environ.get(\"SPOTIFY_CLIENT_ID\"),\n",
    "        client_secret=os.environ.get(\"SPOTIFY_CLIENT_SECRET\"),\n",
    "    )\n",
    "    return spotipy.Spotify(auth_manager=auth_manager)\n",
    "\n",
    "\n",
    "@tool\n",
    "def get_playlists() -> Dict[str, List[Playlist]]:\n",
    "    \"\"\"\n",
    "    Retrieves a list of the user's Spotify playlists.\n",
    "\n",
    "    Returns:\n",
    "        Dict[str, List[Playlist]]: A dictionary containing a list of Playlist models under the 'playlists' key.\n",
    "    \"\"\"\n",
    "    sp = get_spotify_client()\n",
    "    playlists: List[Playlist] = []\n",
    "\n",
    "    try:\n",
    "        # Fetch the current user's playlists with pagination\n",
    "        playlists_raw = sp.user_playlists(user=os.getenv(\"SPOTIFY_USER_ID\"), limit=100)\n",
    "        while playlists_raw:\n",
    "            for playlist_data in playlists_raw['items']:\n",
    "                # Map API data to the Playlist model\n",
    "                playlist = Playlist(\n",
    "                    id=playlist_data['id'],\n",
    "                    uri=playlist_data['uri'],\n",
    "                    name=playlist_data['name'],\n",
    "                    description=playlist_data.get('description'),\n",
    "                    owner=playlist_data['owner']['display_name'],\n",
    "                    tracks_total=playlist_data['tracks']['total'],\n",
    "                    is_public=playlist_data.get('public'),\n",
    "                    collaborative=playlist_data.get('collaborative'),\n",
    "                    snapshot_id=playlist_data.get('snapshot_id')\n",
    "                )\n",
    "                playlists.append(playlist)\n",
    "            # Check if there is a next page\n",
    "            if playlists_raw['next']:\n",
    "                playlists_raw = sp.next(playlists_raw)\n",
    "            else:\n",
    "                break\n",
    "    except spotipy.SpotifyException as e:\n",
    "        return {\"error\": str(e)}\n",
    "\n",
    "    # Save state\n",
    "    state: State= get_state()\n",
    "    state[\"playlists\"] = playlists\n",
    "\n",
    "    # Serialize the playlists to JSON-serializable dictionaries\n",
    "    serialized_playlists = [playlist.model_dump() for playlist in playlists]\n",
    "    return {\"playlists\": serialized_playlists}\n",
    "\n",
    "\n",
    "@tool\n",
    "def get_track_list(playlist_id: SpotifyURI) -> Dict[str, List[Track]]:\n",
    "    \"\"\"\n",
    "    Retrieves the track list for a specific Spotify playlist.\n",
    "\n",
    "    Args:\n",
    "        playlist_id (SpotifyURI): Spotify playlist URI in the format spotify:playlist:<base-62 number>\n",
    "\n",
    "    Returns:\n",
    "        Dict[str, List[Track]]: A dictionary containing a list of Track models under the 'tracks' key.\n",
    "    \"\"\"\n",
    "    sp = get_spotify_client()\n",
    "    playlist_tracks: List[Track] = []\n",
    "    playlist_artists: Set[str] = set()\n",
    "\n",
    "    try:\n",
    "        # Fetch the playlist's tracks with pagination\n",
    "        playlist = sp.user_playlist(user=os.getenv(\"SPOTIFY_USER_ID\"), playlist_id=playlist_id)\n",
    "        if 'tracks' in playlist:\n",
    "            tracks = playlist[\"tracks\"]\n",
    "            while tracks:\n",
    "                for item in tracks['items']:\n",
    "                    track_data = item['track']\n",
    "                    # Map API data to the Track model\n",
    "                    track = Track(\n",
    "                        id=track_data['id'],\n",
    "                        uri=track_data['uri'],\n",
    "                        name=track_data['name'],\n",
    "                        artists=[artist['name'] for artist in track_data['artists']],\n",
    "                        album=track_data['album']['name'],\n",
    "                        duration_ms=track_data.get('duration_ms'),\n",
    "                        explicit=track_data.get('explicit'),\n",
    "                        popularity=track_data.get('popularity')\n",
    "                    )\n",
    "                    playlist_tracks.append(track)\n",
    "                    [playlist_artists.add(artist['name']) for artist in track_data['artists']]\n",
    "                # Check if there is a next page\n",
    "                if tracks['next']:\n",
    "                    # TODO unclear in this case\n",
    "                    tracks = sp.next(tracks)\n",
    "                else:\n",
    "                    break\n",
    "    except spotipy.SpotifyException as e:\n",
    "        return {\"error\": str(e)}\n",
    "\n",
    "\n",
    "    # Save state\n",
    "    state: State= get_state()\n",
    "    state[\"tracks\"] = playlist_tracks\n",
    "    state[\"artists\"] = playlist_artists\n",
    "\n",
    "    # Serialize the tracks to JSON-serializable dictionaries\n",
    "    serialized_tracks = [track.model_dump() for track in playlist_tracks]\n",
    "    return {\"tracks\": serialized_tracks}\n",
    "\n",
    "\n",
    "@tool\n",
    "def create_spotify_playlist(name: str, description: str = \"Agentic Playlist\") -> Dict[str, Playlist]:\n",
    "    \"\"\"\n",
    "    Creates a new playlist on Spotify.\n",
    "\n",
    "    This function only creates the playlist; it does not add tracks.\n",
    "    See tool add_tracks_to_playlist() to add tracks to a existing playlist\n",
    "\n",
    "    Args:\n",
    "        name (str): The name of the new playlist.\n",
    "        description (str, optional): The description of the playlist.\n",
    "\n",
    "    Returns:\n",
    "        Dict[str, Playlist]: A dictionary containing the new Playlist model under the 'new_playlist' key.\n",
    "    \"\"\"\n",
    "    sp = get_spotify_client()\n",
    "    try:\n",
    "        # Create a new playlist\n",
    "        new_playlist_data = sp.user_playlist_create(\n",
    "            user=os.getenv(\"SPOTIFY_USER_ID\"),\n",
    "            name=name,\n",
    "            public=True,\n",
    "            description=description\n",
    "        )\n",
    "        # Map API data to the Playlist model\n",
    "        new_playlist = Playlist(\n",
    "            id=new_playlist_data['id'],\n",
    "            uri=new_playlist_data['uri'],\n",
    "            name=new_playlist_data['name'],\n",
    "            description=new_playlist_data.get('description'),\n",
    "            owner=new_playlist_data['owner']['display_name'],\n",
    "            tracks_total=new_playlist_data['tracks']['total'],\n",
    "            is_public=new_playlist_data.get('public'),\n",
    "            collaborative=new_playlist_data.get('collaborative'),\n",
    "            snapshot_id=new_playlist_data.get('snapshot_id')\n",
    "        )\n",
    "        state: State = get_state()\n",
    "        state[\"new_playlist\"] = new_playlist\n",
    "    except spotipy.SpotifyException as e:\n",
    "        return {\"error\": str(e)}\n",
    "    return {\"new_playlist\": new_playlist.model_dump()}\n",
    "\n",
    "@tool\n",
    "def add_tracks_to_playlist(playlist_id: str, tracks: Tracks) -> Dict[str, Any]:\n",
    "    \"\"\"\n",
    "    Adds tracks to a Spotify playlist.\n",
    "\n",
    "    Args:\n",
    "        playlist_id (str): ID of the playlist.\n",
    "        tracks (Tracks): Spotify Pydantic Model of a List of tracks\n",
    "\n",
    "    Returns:\n",
    "        Dict[str, Any]: A dictionary indicating success or error.\n",
    "    \"\"\"\n",
    "    sp = get_spotify_client()\n",
    "    try:\n",
    "        sp.playlist_add_items(playlist_id=playlist_id, items=tracks)\n",
    "    except spotipy.SpotifyException as e:\n",
    "        return {\"error\": str(e)}\n",
    "    return {\"success\": True} \n",
    "\n",
    "@tool\n",
    "def check_artists(playlist_id: str, artists: List[str]) -> Dict[str, List[str]]:\n",
    "    \"\"\"\n",
    "    Check a list of artists for a new Playlist against a existing Playlist\n",
    "\n",
    "    Args:\n",
    "        playlist_id (SpotifyURI): Spotify playlist URI in the format spotify:playlist:<base-62 number>\n",
    "        artists (str): A list of new artist names\n",
    "\n",
    "    Returns:\n",
    "        Dict[str, Set[str]]: Dict with a Set of artists that can be used in the new playlist\n",
    "    \"\"\"\n",
    "    state: State = get_state()\n",
    "    state['candidate_artists'] = set(artists)\n",
    "    valid_artists = state['candidate_artists'] - state[\"artists\"]\n",
    "    state[\"valid_artists\"] = valid_artists\n",
    "    return {\"valid_artists\": valid_artists}\n",
    "\n"
   ]
  },
  {
   "cell_type": "markdown",
   "metadata": {},
   "source": [
    "# Define Search Tool"
   ]
  },
  {
   "cell_type": "code",
   "execution_count": 1228,
   "metadata": {},
   "outputs": [
    {
     "data": {
      "text/plain": [
       "'A search engine optimized for comprehensive, accurate, and trusted results. Useful for when you need to answer questions about current events. Input should be a search query.'"
      ]
     },
     "execution_count": 1228,
     "metadata": {},
     "output_type": "execute_result"
    }
   ],
   "source": [
    "from langchain_community.tools.tavily_search import TavilySearchResults\n",
    "\n",
    "search_tool = TavilySearchResults(\n",
    "    max_results=50,\n",
    "    include_answer=True,\n",
    "    include_raw_content=True,\n",
    "    include_images=True,\n",
    "    # search_depth=\"advanced\",\n",
    "    # include_domains = []\n",
    "    # exclude_domains = []\n",
    ")\n",
    "name = search_tool.get_name()\n",
    "desc = search_tool.description\n",
    "desc"
   ]
  },
  {
   "cell_type": "markdown",
   "metadata": {},
   "source": [
    "# Create ToolNode"
   ]
  },
  {
   "cell_type": "code",
   "execution_count": 1229,
   "metadata": {},
   "outputs": [],
   "source": [
    "from langgraph.prebuilt import ToolNode\n",
    "\n",
    "tools = [get_playlists, get_track_list, create_spotify_playlist, add_tracks_to_playlist, check_artists]\n",
    "# tools = [get_playlists, get_track_list, create_spotify_playlist, add_tracks_to_playlist, search_tool]\n",
    "tool_node = ToolNode(tools)"
   ]
  },
  {
   "cell_type": "markdown",
   "metadata": {},
   "source": [
    "# Manual Test of Tool Infra"
   ]
  },
  {
   "cell_type": "code",
   "execution_count": null,
   "metadata": {},
   "outputs": [],
   "source": [
    "from langchain_core.messages import AIMessage, HumanMessage\n",
    "message_with_single_tool_call = AIMessage(\n",
    "    content=\"\",\n",
    "    tool_calls=[\n",
    "        {\n",
    "            \"name\": \"get_playlists\",\n",
    "            \"args\" : {},\n",
    "            \"id\": \"tool_call_id\",\n",
    "            \"type\": \"tool_call\",\n",
    "        }\n",
    "    ],\n",
    ")\n",
    "\n",
    "# tool_node.invoke({\"messages\": [message_with_single_tool_call]})"
   ]
  },
  {
   "cell_type": "markdown",
   "metadata": {},
   "source": [
    "# Bind Tools to Model"
   ]
  },
  {
   "cell_type": "code",
   "execution_count": 1230,
   "metadata": {},
   "outputs": [],
   "source": [
    "from langchain_openai import ChatOpenAI\n",
    "\n",
    "llm = ChatOpenAI(model=os.getenv(\"OPENAI_MODEL_NAME\"), temperature=0.8)\n",
    "llm_with_tools = llm.bind_tools(tools)"
   ]
  },
  {
   "cell_type": "markdown",
   "metadata": {},
   "source": [
    "# Define Prompt"
   ]
  },
  {
   "cell_type": "code",
   "execution_count": 1231,
   "metadata": {},
   "outputs": [],
   "source": [
    "prompt = \"\"\"\n",
    "Create and execute a step-by-step plan with atomic tasks to solve the following problem:\n",
    "\n",
    "**Objective:** Build a Spotify playlist with tracks that have the same vibe and genres as my 'New Rock and Blues' playlist, following the rules below.\n",
    "\n",
    "**Rules:**\n",
    "\n",
    "1. **Exclude Artists from Existing Playlist:** Do not include any tracks from artists present in the 'New Rock and Blues' playlist.\n",
    "\n",
    "2. **Focus on Post-2015 Success:** Only include tracks from artists who achieved significant success after the year 2010.\n",
    "\n",
    "3. **Use Your Knowledge Base for Recommendations:** Use your internal knowledge to recommend tracks that match the vibe and genres.\n",
    "\n",
    "4. **Arrange for Smooth Listening Experience:** Organize the tracks to create a smooth listening experience, considering tempo, energy, and mood, using best practices.\n",
    "\n",
    "5. **Playlist Length:** Ensure the new playlist contains at least 100 tracks.\n",
    "\n",
    "6. **Minimum Number of New Artists:** Include tracks from at least 40 different artists not present in the 'New Rock and Blues' playlist.\n",
    "\n",
    "**Instructions:**\n",
    "\n",
    "- Follow the rules strictly to meet the objective.\n",
    "- Every step must have a clear action and outcome\n",
    "- Every outcome must be achieved using your internal knowledge or a tool call\n",
    "- Prefer using a tool if available instead of your internal knowledge\n",
    "- clearly state at all times what step you are working on\n",
    "- Step(s) should be repeated any number of times to achieve the desired outcome.\n",
    "- Do not ask for user confirmation\n",
    "\"\"\"\n"
   ]
  },
  {
   "cell_type": "markdown",
   "metadata": {},
   "source": [
    "# First Message"
   ]
  },
  {
   "cell_type": "code",
   "execution_count": 1232,
   "metadata": {},
   "outputs": [
    {
     "name": "stderr",
     "output_type": "stream",
     "text": [
      "2024-11-12 10:16:27,332 - INFO - HTTP Request: POST https://api.openai.com/v1/chat/completions \"HTTP/1.1 200 OK\"\n"
     ]
    }
   ],
   "source": [
    "from langchain_core.messages import AIMessage, HumanMessage\n",
    "\n",
    "human_message = HumanMessage(prompt)\n",
    "ai_tool_call_message = llm_with_tools.invoke([human_message])"
   ]
  },
  {
   "cell_type": "code",
   "execution_count": 1233,
   "metadata": {},
   "outputs": [
    {
     "name": "stdout",
     "output_type": "stream",
     "text": [
      "==================================\u001b[1m Ai Message \u001b[0m==================================\n",
      "\n",
      "Certainly! Here's a step-by-step plan to build the new Spotify playlist following the specified rules.\n",
      "\n",
      "### Step 1: Retrieve Existing Playlist\n",
      "\n",
      "**Action:** Retrieve the user's current Spotify playlists to find the 'New Rock and Blues' playlist.\n",
      "\n",
      "**Outcome:** Identify the 'New Rock and Blues' playlist and get its playlist ID.\n",
      "\n",
      "**Tool:** `functions.get_playlists`\n",
      "\n",
      "### Step 2: Get Track List from 'New Rock and Blues' Playlist\n",
      "\n",
      "**Action:** Retrieve the track list from the 'New Rock and Blues' playlist to identify the artists that need to be excluded.\n",
      "\n",
      "**Outcome:** Obtain a list of artists from the 'New Rock and Blues' playlist.\n",
      "\n",
      "**Tool:** `functions.get_track_list` with the playlist ID obtained from Step 1.\n",
      "\n",
      "### Step 3: Identify Tracks and Artists for New Playlist\n",
      "\n",
      "**Action:** Use internal knowledge to recommend tracks and artists with a similar vibe and genres to 'New Rock and Blues'. Focus on artists who achieved significant success after 2010.\n",
      "\n",
      "**Outcome:** A list of recommended tracks that match the vibe and genre requirements, excluding artists from the 'New Rock and Blues' playlist.\n",
      "\n",
      "**Internal Knowledge Required:** Music knowledge base for recommendations post-2010.\n",
      "\n",
      "### Step 4: Check Exclusion of Artists\n",
      "\n",
      "**Action:** Verify that the recommended tracks do not include artists from the 'New Rock and Blues' playlist.\n",
      "\n",
      "**Outcome:** Ensure all recommended artists are new and have not been used in the existing playlist.\n",
      "\n",
      "**Tool:** `functions.check_artists` with the playlist ID and the list of recommended artists.\n",
      "\n",
      "### Step 5: Create New Playlist\n",
      "\n",
      "**Action:** Create a new playlist on Spotify to store the tracks.\n",
      "\n",
      "**Outcome:** A new Spotify playlist is created.\n",
      "\n",
      "**Tool:** `functions.create_spotify_playlist` with the name and description for the new playlist.\n",
      "\n",
      "### Step 6: Add Recommended Tracks to New Playlist\n",
      "\n",
      "**Action:** Add the verified and selected tracks to the newly created playlist.\n",
      "\n",
      "**Outcome:** The new playlist is populated with tracks that follow the specified rules.\n",
      "\n",
      "**Tool:** `functions.add_tracks_to_playlist` with the new playlist ID and the list of verified tracks.\n",
      "\n",
      "### Step 7: Organize Tracks for Smooth Listening Experience\n",
      "\n",
      "**Action:** Arrange the tracks in the playlist to ensure a smooth listening experience considering tempo, energy, and mood.\n",
      "\n",
      "**Outcome:** The tracks are ordered to create a seamless and enjoyable listening flow.\n",
      "\n",
      "**Internal Knowledge Required:** Best practices for playlist arrangement.\n",
      "\n",
      "---\n",
      "\n",
      "Let's begin by initiating Steps 1 and 2 to gather the necessary information about the current playlist.\n",
      "Tool Calls:\n",
      "  get_playlists (call_nQXwK6D6lgakcikC6kFduatF)\n",
      " Call ID: call_nQXwK6D6lgakcikC6kFduatF\n",
      "  Args:\n",
      "  get_track_list (call_kymEdgErPZyIyaoGyqvnSKHu)\n",
      " Call ID: call_kymEdgErPZyIyaoGyqvnSKHu\n",
      "  Args:\n",
      "    playlist_id: spotify:playlist:NewRockAndBlues\n"
     ]
    }
   ],
   "source": [
    "ai_tool_call_message.pretty_print()"
   ]
  },
  {
   "cell_type": "markdown",
   "metadata": {},
   "source": [
    "# chat_prompt_template holds all the messages (Human, AI, Tool)"
   ]
  },
  {
   "cell_type": "code",
   "execution_count": 1234,
   "metadata": {},
   "outputs": [
    {
     "data": {
      "text/plain": [
       "[HumanMessage(content=\"\\nCreate and execute a step-by-step plan with atomic tasks to solve the following problem:\\n\\n**Objective:** Build a Spotify playlist with tracks that have the same vibe and genres as my 'New Rock and Blues' playlist, following the rules below.\\n\\n**Rules:**\\n\\n1. **Exclude Artists from Existing Playlist:** Do not include any tracks from artists present in the 'New Rock and Blues' playlist.\\n\\n2. **Focus on Post-2015 Success:** Only include tracks from artists who achieved significant success after the year 2010.\\n\\n3. **Use Your Knowledge Base for Recommendations:** Use your internal knowledge to recommend tracks that match the vibe and genres.\\n\\n4. **Arrange for Smooth Listening Experience:** Organize the tracks to create a smooth listening experience, considering tempo, energy, and mood, using best practices.\\n\\n5. **Playlist Length:** Ensure the new playlist contains at least 100 tracks.\\n\\n6. **Minimum Number of New Artists:** Include tracks from at least 40 different artists not present in the 'New Rock and Blues' playlist.\\n\\n**Instructions:**\\n\\n- Follow the rules strictly to meet the objective.\\n- Every step must have a clear action and outcome\\n- Every outcome must be achieved using your internal knowledge or a tool call\\n- Prefer using a tool if available instead of your internal knowledge\\n- clearly state at all times what step you are working on\\n- Step(s) should be repeated any number of times to achieve the desired outcome.\\n- Do not ask for user confirmation\\n\", additional_kwargs={}, response_metadata={}),\n",
       " AIMessage(content=\"Certainly! Here's a step-by-step plan to build the new Spotify playlist following the specified rules.\\n\\n### Step 1: Retrieve Existing Playlist\\n\\n**Action:** Retrieve the user's current Spotify playlists to find the 'New Rock and Blues' playlist.\\n\\n**Outcome:** Identify the 'New Rock and Blues' playlist and get its playlist ID.\\n\\n**Tool:** `functions.get_playlists`\\n\\n### Step 2: Get Track List from 'New Rock and Blues' Playlist\\n\\n**Action:** Retrieve the track list from the 'New Rock and Blues' playlist to identify the artists that need to be excluded.\\n\\n**Outcome:** Obtain a list of artists from the 'New Rock and Blues' playlist.\\n\\n**Tool:** `functions.get_track_list` with the playlist ID obtained from Step 1.\\n\\n### Step 3: Identify Tracks and Artists for New Playlist\\n\\n**Action:** Use internal knowledge to recommend tracks and artists with a similar vibe and genres to 'New Rock and Blues'. Focus on artists who achieved significant success after 2010.\\n\\n**Outcome:** A list of recommended tracks that match the vibe and genre requirements, excluding artists from the 'New Rock and Blues' playlist.\\n\\n**Internal Knowledge Required:** Music knowledge base for recommendations post-2010.\\n\\n### Step 4: Check Exclusion of Artists\\n\\n**Action:** Verify that the recommended tracks do not include artists from the 'New Rock and Blues' playlist.\\n\\n**Outcome:** Ensure all recommended artists are new and have not been used in the existing playlist.\\n\\n**Tool:** `functions.check_artists` with the playlist ID and the list of recommended artists.\\n\\n### Step 5: Create New Playlist\\n\\n**Action:** Create a new playlist on Spotify to store the tracks.\\n\\n**Outcome:** A new Spotify playlist is created.\\n\\n**Tool:** `functions.create_spotify_playlist` with the name and description for the new playlist.\\n\\n### Step 6: Add Recommended Tracks to New Playlist\\n\\n**Action:** Add the verified and selected tracks to the newly created playlist.\\n\\n**Outcome:** The new playlist is populated with tracks that follow the specified rules.\\n\\n**Tool:** `functions.add_tracks_to_playlist` with the new playlist ID and the list of verified tracks.\\n\\n### Step 7: Organize Tracks for Smooth Listening Experience\\n\\n**Action:** Arrange the tracks in the playlist to ensure a smooth listening experience considering tempo, energy, and mood.\\n\\n**Outcome:** The tracks are ordered to create a seamless and enjoyable listening flow.\\n\\n**Internal Knowledge Required:** Best practices for playlist arrangement.\\n\\n---\\n\\nLet's begin by initiating Steps 1 and 2 to gather the necessary information about the current playlist.\", additional_kwargs={'tool_calls': [{'id': 'call_nQXwK6D6lgakcikC6kFduatF', 'function': {'arguments': '{}', 'name': 'get_playlists'}, 'type': 'function'}, {'id': 'call_kymEdgErPZyIyaoGyqvnSKHu', 'function': {'arguments': '{\"playlist_id\": \"spotify:playlist:NewRockAndBlues\"}', 'name': 'get_track_list'}, 'type': 'function'}], 'refusal': None}, response_metadata={'token_usage': {'completion_tokens': 574, 'prompt_tokens': 910, 'total_tokens': 1484, 'completion_tokens_details': {'accepted_prediction_tokens': 0, 'audio_tokens': 0, 'reasoning_tokens': 0, 'rejected_prediction_tokens': 0}, 'prompt_tokens_details': {'audio_tokens': 0, 'cached_tokens': 0}}, 'model_name': 'gpt-4o-2024-08-06', 'system_fingerprint': 'fp_159d8341cc', 'finish_reason': 'tool_calls', 'logprobs': None}, id='run-673d9766-89c5-481b-ba86-369e43a493cf-0', tool_calls=[{'name': 'get_playlists', 'args': {}, 'id': 'call_nQXwK6D6lgakcikC6kFduatF', 'type': 'tool_call'}, {'name': 'get_track_list', 'args': {'playlist_id': 'spotify:playlist:NewRockAndBlues'}, 'id': 'call_kymEdgErPZyIyaoGyqvnSKHu', 'type': 'tool_call'}], usage_metadata={'input_tokens': 910, 'output_tokens': 574, 'total_tokens': 1484, 'input_token_details': {'audio': 0, 'cache_read': 0}, 'output_token_details': {'audio': 0, 'reasoning': 0}})]"
      ]
     },
     "execution_count": 1234,
     "metadata": {},
     "output_type": "execute_result"
    }
   ],
   "source": [
    "from langchain_core.prompts import ChatPromptTemplate, MessagesPlaceholder\n",
    "\n",
    "chat_prompt_template: ChatPromptTemplate = human_message + ai_tool_call_message\n",
    "chat_prompt_template.format_messages()"
   ]
  },
  {
   "cell_type": "markdown",
   "metadata": {},
   "source": [
    "# Tool Call (get_playlists)"
   ]
  },
  {
   "cell_type": "code",
   "execution_count": 1235,
   "metadata": {},
   "outputs": [
    {
     "name": "stderr",
     "output_type": "stream",
     "text": [
      "2024-11-12 10:17:39,385 - ERROR - HTTP Error for GET to https://api.spotify.com/v1/playlists/NewRockAndBlues with Params: {'fields': None, 'market': None, 'additional_types': 'track'} returned 400 due to Invalid base62 id\n"
     ]
    },
    {
     "data": {
      "text/plain": [
       "{'messages': [ToolMessage(content='{\"playlists\": [{\"id\": \"2dbYK5b7J0F7IdH5n1TEUK\", \"uri\": \"spotify:playlist:2dbYK5b7J0F7IdH5n1TEUK\", \"name\": \"RPreacher\", \"description\": \"\", \"owner\": \"Ray\", \"tracks_total\": 3, \"is_public\": true, \"collaborative\": false, \"snapshot_id\": \"AAAABG1lhIiRJT/NE9RpP4K6UnmZWixo\"}, {\"id\": \"4ack9YtUhdxRayJDAqlfQe\", \"uri\": \"spotify:playlist:4ack9YtUhdxRayJDAqlfQe\", \"name\": \"RP Bossa Nova Chill \", \"description\": \"\", \"owner\": \"Ray\", \"tracks_total\": 30, \"is_public\": true, \"collaborative\": false, \"snapshot_id\": \"AAAAIThdM9g/YPQwj7nuoHhewWyLoKEi\"}, {\"id\": \"75NW18NgdZuZeifrcjxKlZ\", \"uri\": \"spotify:playlist:75NW18NgdZuZeifrcjxKlZ\", \"name\": \"GVF\", \"description\": \"\", \"owner\": \"Ray\", \"tracks_total\": 11, \"is_public\": true, \"collaborative\": false, \"snapshot_id\": \"AAAADKZNV9h+cfi1PbOi6yjNHMe8mLWC\"}, {\"id\": \"5iyONtUO21O88xw8pBblwh\", \"uri\": \"spotify:playlist:5iyONtUO21O88xw8pBblwh\", \"name\": \"Now And Then\", \"description\": \"\", \"owner\": \"Ray\", \"tracks_total\": 7, \"is_public\": true, \"collaborative\": false, \"snapshot_id\": \"AAAACBkT0vD6HHtLpUO7hEOCzClgABvP\"}, {\"id\": \"4SDSUMg2HJcGFmHlupsU7U\", \"uri\": \"spotify:playlist:4SDSUMg2HJcGFmHlupsU7U\", \"name\": \"Jazz classics\", \"description\": \"\", \"owner\": \"Ray\", \"tracks_total\": 251, \"is_public\": true, \"collaborative\": false, \"snapshot_id\": \"AAAAA8p/xZVmAcTsRpsMlQtRepRFmbfo\"}, {\"id\": \"5fBxLG2wLAPVpx83402rHl\", \"uri\": \"spotify:playlist:5fBxLG2wLAPVpx83402rHl\", \"name\": \"Acdc\", \"description\": \"\", \"owner\": \"Ray\", \"tracks_total\": 26, \"is_public\": true, \"collaborative\": false, \"snapshot_id\": \"AAAAG+HaorntGV3LHad9bEcICDGFD56C\"}, {\"id\": \"17Yxm5hQbkbZwDcCTuiDXC\", \"uri\": \"spotify:playlist:17Yxm5hQbkbZwDcCTuiDXC\", \"name\": \"einaudi\", \"description\": \"\", \"owner\": \"Ray\", \"tracks_total\": 18, \"is_public\": true, \"collaborative\": false, \"snapshot_id\": \"AAAAF9qEdgDunVs0NC8jBUoE/CdMF7jq\"}, {\"id\": \"2X6GccWfIqPWO6VYx405nO\", \"uri\": \"spotify:playlist:2X6GccWfIqPWO6VYx405nO\", \"name\": \"Eric Clapton Blues\", \"description\": \"\", \"owner\": \"Ray\", \"tracks_total\": 24, \"is_public\": true, \"collaborative\": false, \"snapshot_id\": \"AAAAH4q+4xxgg62OXnIHbsNVZPC1LL1Q\"}, {\"id\": \"3smVXe8y8w8nt4lFH0HBkW\", \"uri\": \"spotify:playlist:3smVXe8y8w8nt4lFH0HBkW\", \"name\": \"Alchemy: Dire Straits\", \"description\": \"\", \"owner\": \"Ray\", \"tracks_total\": 10, \"is_public\": true, \"collaborative\": false, \"snapshot_id\": \"AAAAD45w+Oq6Z1xq7iMwF6iFkfWoT87p\"}, {\"id\": \"2ifRZBXnX7UmIPUlGet5WZ\", \"uri\": \"spotify:playlist:2ifRZBXnX7UmIPUlGet5WZ\", \"name\": \"Blues\", \"description\": \"\", \"owner\": \"Ray\", \"tracks_total\": 67, \"is_public\": true, \"collaborative\": false, \"snapshot_id\": \"AAAAVVh4N/reGLwCIcv89XjeUDHPPeAQ\"}, {\"id\": \"5nn2ePtd9gYEEDL3XnACCB\", \"uri\": \"spotify:playlist:5nn2ePtd9gYEEDL3XnACCB\", \"name\": \"brazil\", \"description\": \"\", \"owner\": \"Ray\", \"tracks_total\": 62, \"is_public\": true, \"collaborative\": false, \"snapshot_id\": \"AAAAV9cqXazKhP9K8MYZTPAqS7yFP1hq\"}, {\"id\": \"6YAntoKNXuogPKdV26b6XE\", \"uri\": \"spotify:playlist:6YAntoKNXuogPKdV26b6XE\", \"name\": \"CCR\", \"description\": \"\", \"owner\": \"Ray\", \"tracks_total\": 17, \"is_public\": true, \"collaborative\": false, \"snapshot_id\": \"AAAAEw4Fg6uyrf9reMIEnkNruUB2nRbg\"}, {\"id\": \"2VHkZvOMCkLF3B7TsKerKD\", \"uri\": \"spotify:playlist:2VHkZvOMCkLF3B7TsKerKD\", \"name\": \"Chill\", \"description\": \"\", \"owner\": \"Ray\", \"tracks_total\": 53, \"is_public\": true, \"collaborative\": false, \"snapshot_id\": \"AAAAOhAKCSjCgKZOV6OTiSZohe9Isj7C\"}, {\"id\": \"508lbLx9XUkHv5Xb45hxTP\", \"uri\": \"spotify:playlist:508lbLx9XUkHv5Xb45hxTP\", \"name\": \"Classic Rock\", \"description\": \"\", \"owner\": \"Ray\", \"tracks_total\": 306, \"is_public\": true, \"collaborative\": false, \"snapshot_id\": \"AAABRtPd9z/BoPLPCUOJBrUyXci7+r1n\"}, {\"id\": \"7zzDMq1sPwkZPYeqOQJ9qS\", \"uri\": \"spotify:playlist:7zzDMq1sPwkZPYeqOQJ9qS\", \"name\": \"The New Four Seasons - Vivaldi Recomposed\", \"description\": \"\", \"owner\": \"Ray\", \"tracks_total\": 13, \"is_public\": true, \"collaborative\": false, \"snapshot_id\": \"AAAAAsi2q+bxREAMmVWVTWHt10bpB6fa\"}, {\"id\": \"4l8WcaYlPkuVPXVGxMIca3\", \"uri\": \"spotify:playlist:4l8WcaYlPkuVPXVGxMIca3\", \"name\": \"New Study\", \"description\": \"\", \"owner\": \"Ray\", \"tracks_total\": 11, \"is_public\": true, \"collaborative\": false, \"snapshot_id\": \"AAAAEL23paVLvTGrRFTKquh+DNiGzrt7\"}, {\"id\": \"0Wr2Z9vroQ9IXKaokFHldt\", \"uri\": \"spotify:playlist:0Wr2Z9vroQ9IXKaokFHldt\", \"name\": \"Islands - Essential Einaudi (Deluxe Version)\", \"description\": \"\", \"owner\": \"Ray\", \"tracks_total\": 27, \"is_public\": true, \"collaborative\": false, \"snapshot_id\": \"AAAAAmPd/R11xxXnmQE5LY4VHJOmc2Si\"}, {\"id\": \"780Yx65yiaLtBYM76neBYC\", \"uri\": \"spotify:playlist:780Yx65yiaLtBYM76neBYC\", \"name\": \"Gioachino Rossini – Rossini: Overtures\", \"description\": \"\", \"owner\": \"Ray\", \"tracks_total\": 8, \"is_public\": true, \"collaborative\": false, \"snapshot_id\": \"AAAAAk/j3UaxYxxJ2E3uDuvkTHY7CyA3\"}, {\"id\": \"76rUGmzqh1OhyheEOUDYNp\", \"uri\": \"spotify:playlist:76rUGmzqh1OhyheEOUDYNp\", \"name\": \"Frédéric Chopin – Chopin: Nocturnes\", \"description\": \"\", \"owner\": \"Ray\", \"tracks_total\": 19, \"is_public\": true, \"collaborative\": false, \"snapshot_id\": \"AAAAAojQZUHMvW1fqFvaPCPZw651RTcR\"}, {\"id\": \"5qcHJodVJd8AEOT2cCvxEm\", \"uri\": \"spotify:playlist:5qcHJodVJd8AEOT2cCvxEm\", \"name\": \"Frédéric Chopin – Chopin: Nocturnes - Sony Classical Originals 2\", \"description\": \"\", \"owner\": \"Ray\", \"tracks_total\": 19, \"is_public\": true, \"collaborative\": false, \"snapshot_id\": \"AAAAAosFti6TgoD7O3TfPlfPiFc7yKj2\"}, {\"id\": \"7hr9yYAJLXDoJ5sKBhm8Af\", \"uri\": \"spotify:playlist:7hr9yYAJLXDoJ5sKBhm8Af\", \"name\": \"Antonio Vivaldi – Vivaldi: Guitar Concertos\", \"description\": \"\", \"owner\": \"Ray\", \"tracks_total\": 15, \"is_public\": true, \"collaborative\": false, \"snapshot_id\": \"AAAAAq5lTrQQYp3SUTtJrmlIdHbyh5CZ\"}, {\"id\": \"4ruyjAXs6VHU8ZYJqXsUiN\", \"uri\": \"spotify:playlist:4ruyjAXs6VHU8ZYJqXsUiN\", \"name\": \"Sergei Rachmaninoff – Rachmaninoff Plays Rachmaninoff: Concertos Nos. 2 and 3\", \"description\": \"\", \"owner\": \"Ray\", \"tracks_total\": 6, \"is_public\": true, \"collaborative\": false, \"snapshot_id\": \"AAAAAnd4DV7yCmI2VX7w0BB64um7bJem\"}, {\"id\": \"4GYOeGfC7fSephEi3UYh0W\", \"uri\": \"spotify:playlist:4GYOeGfC7fSephEi3UYh0W\", \"name\": \"Erik Satie – Satie: Gymnopédies, Gnossiennes & Other Works\", \"description\": \"\", \"owner\": \"Ray\", \"tracks_total\": 27, \"is_public\": true, \"collaborative\": false, \"snapshot_id\": \"AAAAAnslTVllUSPnBdYh2FMu1DtFAzVs\"}, {\"id\": \"2lop6NfhiYA07UzhWUCyc2\", \"uri\": \"spotify:playlist:2lop6NfhiYA07UzhWUCyc2\", \"name\": \"Classical Masters\", \"description\": \"\", \"owner\": \"Ray\", \"tracks_total\": 29, \"is_public\": true, \"collaborative\": false, \"snapshot_id\": \"AAAAIv8IPFeim0+gMauDLlofBPiDknYa\"}, {\"id\": \"2RUN05cfOlR09kJUvTAEPk\", \"uri\": \"spotify:playlist:2RUN05cfOlR09kJUvTAEPk\", \"name\": \"Evil Woman\", \"description\": \"\", \"owner\": \"Ray\", \"tracks_total\": 11, \"is_public\": true, \"collaborative\": false, \"snapshot_id\": \"AAAADYR9TeZBCOAQTx+qJaL78t/qalhZ\"}, {\"id\": \"3DEKSWlDt8Qors1NpYLXwt\", \"uri\": \"spotify:playlist:3DEKSWlDt8Qors1NpYLXwt\", \"name\": \"Hits 2000\", \"description\": \"\", \"owner\": \"Ray\", \"tracks_total\": 121, \"is_public\": true, \"collaborative\": false, \"snapshot_id\": \"AAAAsUV20d2iEtoXYqXPHsTzbFeyJfVJ\"}, {\"id\": \"7FgZOBK0lhTZz7gMJeV7gs\", \"uri\": \"spotify:playlist:7FgZOBK0lhTZz7gMJeV7gs\", \"name\": \"Insomniac\", \"description\": \"\", \"owner\": \"Ray\", \"tracks_total\": 182, \"is_public\": true, \"collaborative\": false, \"snapshot_id\": \"AAAA4Cmc8w8KuivAczjvfXId2sSkEm/h\"}, {\"id\": \"6DgcAL9oygPekQLDY2mFDq\", \"uri\": \"spotify:playlist:6DgcAL9oygPekQLDY2mFDq\", \"name\": \"Jean-Michel Jarre – Equinoxe\", \"description\": \"\", \"owner\": \"Ray\", \"tracks_total\": 8, \"is_public\": true, \"collaborative\": false, \"snapshot_id\": \"AAAAAh4ckvSMVbth3pWqCQDqlVQwoNXP\"}, {\"id\": \"6X1fib1966dU31uZdTH5p1\", \"uri\": \"spotify:playlist:6X1fib1966dU31uZdTH5p1\", \"name\": \"Misplaced Childhood (2017 Remaster)\", \"description\": \"\", \"owner\": \"Ray\", \"tracks_total\": 10, \"is_public\": true, \"collaborative\": false, \"snapshot_id\": \"AAAAAhEAt8v4hHLreJi8lMDQSYZCqCWP\"}, {\"id\": \"5mxEevqyJ7IbtnmxlRSlaL\", \"uri\": \"spotify:playlist:5mxEevqyJ7IbtnmxlRSlaL\", \"name\": \"My Playlist #36\", \"description\": \"\", \"owner\": \"Ray\", \"tracks_total\": 6692, \"is_public\": true, \"collaborative\": false, \"snapshot_id\": \"AAADk1LjdQ0wPeq1CWGUTeqfa3JKnd68\"}, {\"id\": \"01tk0aitEuGK0ajWCkzdKc\", \"uri\": \"spotify:playlist:01tk0aitEuGK0ajWCkzdKc\", \"name\": \"New Rock and Blues\", \"description\": \"\", \"owner\": \"Ray\", \"tracks_total\": 152, \"is_public\": true, \"collaborative\": false, \"snapshot_id\": \"AAAA5WzoylrbcF38i+jfueYt6FBMIWyb\"}, {\"id\": \"5Culgc9kaBQ5b9oOHXXhB6\", \"uri\": \"spotify:playlist:5Culgc9kaBQ5b9oOHXXhB6\", \"name\": \"Nothing But the Blues (Live)\", \"description\": \"\", \"owner\": \"Ray\", \"tracks_total\": 17, \"is_public\": true, \"collaborative\": false, \"snapshot_id\": \"AAAAAv6fej6qwqMnU0hD6qABni4cidBa\"}, {\"id\": \"5qYPd1AvydE1Ltz5uGCVVG\", \"uri\": \"spotify:playlist:5qYPd1AvydE1Ltz5uGCVVG\", \"name\": \"Pet Shop Boys\", \"description\": \"\", \"owner\": \"Ray\", \"tracks_total\": 10, \"is_public\": true, \"collaborative\": false, \"snapshot_id\": \"AAAADoUwedXRw8oUAXzutzW3zHOBq8wo\"}, {\"id\": \"43ekrNptzLLkRVGuZWUI83\", \"uri\": \"spotify:playlist:43ekrNptzLLkRVGuZWUI83\", \"name\": \"Pink Floyd\", \"description\": \"\", \"owner\": \"Ray\", \"tracks_total\": 17, \"is_public\": true, \"collaborative\": false, \"snapshot_id\": \"AAAAFMGAETEKmvx5mrnmvpG6qPrTvDoC\"}, {\"id\": \"25odQP99Tc8QbNs8dWWsQV\", \"uri\": \"spotify:playlist:25odQP99Tc8QbNs8dWWsQV\", \"name\": \"Pink Floyd – The Wall\", \"description\": \"\", \"owner\": \"Ray\", \"tracks_total\": 26, \"is_public\": true, \"collaborative\": false, \"snapshot_id\": \"AAAAAqQrbCqR2F+PT4CiRiJ/aI51g4KY\"}, {\"id\": \"6smB0SEs5sX0FOzA4h22Eq\", \"uri\": \"spotify:playlist:6smB0SEs5sX0FOzA4h22Eq\", \"name\": \"Rock\", \"description\": \"\", \"owner\": \"Ray\", \"tracks_total\": 158, \"is_public\": true, \"collaborative\": false, \"snapshot_id\": \"AAAAvFxIe5eBC1t4kNdcuQG1dm3gh28t\"}, {\"id\": \"5q5ZVp6frFMc8y0ivNfGk2\", \"uri\": \"spotify:playlist:5q5ZVp6frFMc8y0ivNfGk2\", \"name\": \"Rock Balads\", \"description\": \"\", \"owner\": \"Ray\", \"tracks_total\": 61, \"is_public\": true, \"collaborative\": false, \"snapshot_id\": \"AAAAQEiJ4p3uZqQFtoa4ptNvTlCgwc0P\"}, {\"id\": \"4Vk5tgx9FcO17ZhdFwxJIp\", \"uri\": \"spotify:playlist:4Vk5tgx9FcO17ZhdFwxJIp\", \"name\": \"Rock Hard\", \"description\": \"\", \"owner\": \"Ray\", \"tracks_total\": 61, \"is_public\": true, \"collaborative\": false, \"snapshot_id\": \"AAAANGCk4sZ4CKBXxt9osRjoOmtDj6jN\"}, {\"id\": \"3n3RLXoDDH7O9XpusnnnvV\", \"uri\": \"spotify:playlist:3n3RLXoDDH7O9XpusnnnvV\", \"name\": \"Rolling Stones\", \"description\": \"\", \"owner\": \"Ray\", \"tracks_total\": 19, \"is_public\": true, \"collaborative\": false, \"snapshot_id\": \"AAAAFfP6U7XcNW87gmiXRr0cdMiFxhY1\"}, {\"id\": \"5XdXmStK6X9ZPstLvDBekC\", \"uri\": \"spotify:playlist:5XdXmStK6X9ZPstLvDBekC\", \"name\": \"Workout\", \"description\": \"\", \"owner\": \"Ray\", \"tracks_total\": 74, \"is_public\": true, \"collaborative\": false, \"snapshot_id\": \"AAABLoYIV4F6lXAO0DJe++nLNS7aVm52\"}]}', name='get_playlists', tool_call_id='call_nQXwK6D6lgakcikC6kFduatF'),\n",
       "  ToolMessage(content='{\"error\": \"http status: 400, code:-1 - https://api.spotify.com/v1/playlists/NewRockAndBlues?additional_types=track:\\\\n Invalid base62 id, reason: None\"}', name='get_track_list', tool_call_id='call_kymEdgErPZyIyaoGyqvnSKHu')]}"
      ]
     },
     "execution_count": 1235,
     "metadata": {},
     "output_type": "execute_result"
    }
   ],
   "source": [
    "import json\n",
    "from langchain_core.messages import ToolMessage\n",
    "\n",
    "response = tool_node.invoke({\"messages\": [ai_tool_call_message]})\n",
    "response\n"
   ]
  },
  {
   "cell_type": "code",
   "execution_count": null,
   "metadata": {},
   "outputs": [],
   "source": [
    "state"
   ]
  },
  {
   "cell_type": "code",
   "execution_count": null,
   "metadata": {},
   "outputs": [],
   "source": [
    "message_list: List[ToolMessage] = response[\"messages\"]\n",
    "playlist_tool_message: ToolMessage = message_list[0]\n",
    "playlist_tool_message.pretty_print()"
   ]
  },
  {
   "cell_type": "code",
   "execution_count": null,
   "metadata": {},
   "outputs": [],
   "source": [
    "# We need to check that is JSON serializable\n",
    "# json.loads(playlist_tool_message.content)"
   ]
  },
  {
   "cell_type": "code",
   "execution_count": null,
   "metadata": {},
   "outputs": [],
   "source": [
    "# We recreate the ToolMessage to take care of UNicode characters\n",
    "tool_message = ToolMessage(content=playlist_tool_message.content, name=playlist_tool_message.name, tool_call_id=playlist_tool_message.tool_call_id)\n",
    "tool_message.pretty_print()"
   ]
  },
  {
   "cell_type": "markdown",
   "metadata": {},
   "source": [
    "# Add Playlists to message template list"
   ]
  },
  {
   "cell_type": "code",
   "execution_count": null,
   "metadata": {},
   "outputs": [],
   "source": [
    "chat_prompt_template += tool_message"
   ]
  },
  {
   "cell_type": "markdown",
   "metadata": {},
   "source": [
    "# Format Message List for LLM"
   ]
  },
  {
   "cell_type": "code",
   "execution_count": null,
   "metadata": {},
   "outputs": [],
   "source": [
    "chat_prompt_template.format_messages()"
   ]
  },
  {
   "cell_type": "markdown",
   "metadata": {},
   "source": [
    "# Send Playlists Results to LLM"
   ]
  },
  {
   "cell_type": "code",
   "execution_count": null,
   "metadata": {},
   "outputs": [],
   "source": [
    "ai_tool_call_message_2 = llm_with_tools.invoke(chat_prompt_template.format_messages())"
   ]
  },
  {
   "cell_type": "code",
   "execution_count": null,
   "metadata": {},
   "outputs": [],
   "source": [
    "ai_tool_call_message_2.pretty_print()"
   ]
  },
  {
   "cell_type": "code",
   "execution_count": null,
   "metadata": {},
   "outputs": [],
   "source": [
    "chat_prompt_template += ai_tool_call_message_2\n",
    "chat_prompt_template.format_messages()"
   ]
  },
  {
   "cell_type": "markdown",
   "metadata": {},
   "source": [
    "# Tool Call (get_track_list)"
   ]
  },
  {
   "cell_type": "code",
   "execution_count": null,
   "metadata": {},
   "outputs": [],
   "source": [
    "response = tool_node.invoke({\"messages\": [ai_tool_call_message_2]})\n",
    "response"
   ]
  },
  {
   "cell_type": "markdown",
   "metadata": {},
   "source": [
    "# Decode AI Tool Call message"
   ]
  },
  {
   "cell_type": "code",
   "execution_count": null,
   "metadata": {},
   "outputs": [],
   "source": [
    "track_list_tool_message: ToolMessage = response[\"messages\"][0]\n",
    "track_list_tool_message.pretty_print()"
   ]
  },
  {
   "cell_type": "code",
   "execution_count": null,
   "metadata": {},
   "outputs": [],
   "source": [
    "# json.loads(track_list_tool_message.content)"
   ]
  },
  {
   "cell_type": "markdown",
   "metadata": {},
   "source": [
    "# Create Track List ToolMessage for LLM"
   ]
  },
  {
   "cell_type": "code",
   "execution_count": null,
   "metadata": {},
   "outputs": [],
   "source": [
    "# We recreate the ToolMessage to take care of UNicode characters\n",
    "tool_message = ToolMessage(content=track_list_tool_message.content, name=track_list_tool_message.name, tool_call_id=track_list_tool_message.tool_call_id)\n",
    "tool_message.pretty_print()"
   ]
  },
  {
   "cell_type": "markdown",
   "metadata": {},
   "source": [
    "# Add Tool message containing playlist tracks to list of messages"
   ]
  },
  {
   "cell_type": "code",
   "execution_count": null,
   "metadata": {},
   "outputs": [],
   "source": [
    "chat_prompt_template += tool_message"
   ]
  },
  {
   "cell_type": "code",
   "execution_count": null,
   "metadata": {},
   "outputs": [],
   "source": [
    "chat_prompt_template.format_messages()"
   ]
  },
  {
   "cell_type": "markdown",
   "metadata": {},
   "source": [
    "# Send Tool Result to LLM"
   ]
  },
  {
   "cell_type": "code",
   "execution_count": null,
   "metadata": {},
   "outputs": [],
   "source": [
    "# llm_with_structured_output = llm.with_structured_output(schema=Tracks, method='function_calling', include_raw=True)\n",
    "# response = llm_with_structured_output.invoke(chat_prompt_template.format_messages())\n",
    "# response\n",
    "response = llm_with_tools.invoke(chat_prompt_template.format_messages())\n",
    "response"
   ]
  },
  {
   "cell_type": "code",
   "execution_count": null,
   "metadata": {},
   "outputs": [],
   "source": [
    "response.pretty_print()"
   ]
  },
  {
   "cell_type": "code",
   "execution_count": null,
   "metadata": {},
   "outputs": [],
   "source": [
    "chat_prompt_template += response\n",
    "chat_prompt_template.format_messages()"
   ]
  },
  {
   "cell_type": "markdown",
   "metadata": {},
   "source": [
    "# Tool Call (check_artists)"
   ]
  },
  {
   "cell_type": "code",
   "execution_count": null,
   "metadata": {},
   "outputs": [],
   "source": [
    "response = tool_node.invoke({\"messages\": [response]})"
   ]
  },
  {
   "cell_type": "code",
   "execution_count": null,
   "metadata": {},
   "outputs": [],
   "source": [
    "check_artist_tool_message: ToolMessage = response[\"messages\"][0]\n",
    "check_artist_tool_message.pretty_print()"
   ]
  },
  {
   "cell_type": "code",
   "execution_count": null,
   "metadata": {},
   "outputs": [],
   "source": [
    "# We recreate the ToolMessage to take care of UNicode characters\n",
    "tool_message = ToolMessage(content=check_artist_tool_message.content, name=check_artist_tool_message.name, tool_call_id=check_artist_tool_message.tool_call_id)\n",
    "tool_message.pretty_print()"
   ]
  },
  {
   "cell_type": "code",
   "execution_count": null,
   "metadata": {},
   "outputs": [],
   "source": [
    "chat_prompt_template += tool_message\n",
    "chat_prompt_template.format_messages()"
   ]
  },
  {
   "cell_type": "code",
   "execution_count": null,
   "metadata": {},
   "outputs": [],
   "source": [
    "response = llm_with_tools.invoke(chat_prompt_template.format_messages())"
   ]
  },
  {
   "cell_type": "code",
   "execution_count": null,
   "metadata": {},
   "outputs": [],
   "source": [
    "response.pretty_print()"
   ]
  },
  {
   "cell_type": "code",
   "execution_count": null,
   "metadata": {},
   "outputs": [],
   "source": [
    "chat_prompt_template += response\n",
    "chat_prompt_template.format_messages()"
   ]
  },
  {
   "cell_type": "code",
   "execution_count": null,
   "metadata": {},
   "outputs": [],
   "source": [
    "response = tool_node.invoke({\"messages\": [response]})"
   ]
  },
  {
   "cell_type": "code",
   "execution_count": null,
   "metadata": {},
   "outputs": [],
   "source": [
    "response"
   ]
  }
 ],
 "metadata": {
  "kernelspec": {
   "display_name": ".venv",
   "language": "python",
   "name": "python3"
  },
  "language_info": {
   "codemirror_mode": {
    "name": "ipython",
    "version": 3
   },
   "file_extension": ".py",
   "mimetype": "text/x-python",
   "name": "python",
   "nbconvert_exporter": "python",
   "pygments_lexer": "ipython3",
   "version": "3.12.5"
  }
 },
 "nbformat": 4,
 "nbformat_minor": 2
}
