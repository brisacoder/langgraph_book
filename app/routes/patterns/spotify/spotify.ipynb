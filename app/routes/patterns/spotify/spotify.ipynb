{
 "cells": [
  {
   "cell_type": "code",
   "execution_count": 1,
   "metadata": {},
   "outputs": [],
   "source": [
    "%%capture --no-stderr\n",
    "%pip install --quiet -U langgraph langchain-core langchain_openai python-dotenv langsmith pydantic spotipy"
   ]
  },
  {
   "cell_type": "code",
   "execution_count": 2,
   "metadata": {},
   "outputs": [
    {
     "name": "stdout",
     "output_type": "stream",
     "text": [
      "Note: you may need to restart the kernel to use updated packages.\n",
      "Note: you may need to restart the kernel to use updated packages.\n"
     ]
    }
   ],
   "source": [
    "%pip install --quiet -U jupyterlab-lsp\n",
    "%pip install --quiet -U \"python-lsp-server[all]\""
   ]
  },
  {
   "cell_type": "code",
   "execution_count": 3,
   "metadata": {},
   "outputs": [],
   "source": [
    "## Setup logging\n",
    "import logging\n",
    "import os\n",
    "from dotenv import load_dotenv\n",
    "\n",
    "load_dotenv(override=True)\n",
    "logger = logging.getLogger(__name__)\n",
    "\n",
    "# Configure logging\n",
    "logging.basicConfig(\n",
    "    level=logging.INFO,\n",
    "    format='%(asctime)s - %(levelname)s - %(message)s',  # Define the format\n",
    "    handlers=[logging.StreamHandler()]  # Output to the console\n",
    ")"
   ]
  },
  {
   "cell_type": "markdown",
   "metadata": {},
   "source": [
    "# Define Search Tool"
   ]
  },
  {
   "cell_type": "code",
   "execution_count": 4,
   "metadata": {},
   "outputs": [
    {
     "data": {
      "text/plain": [
       "'A search engine optimized for comprehensive, accurate, and trusted results. Useful for when you need to answer questions about current events. Input should be a search query.'"
      ]
     },
     "execution_count": 4,
     "metadata": {},
     "output_type": "execute_result"
    }
   ],
   "source": [
    "from langchain_community.tools.tavily_search import TavilySearchResults\n",
    "\n",
    "search_tool = TavilySearchResults(\n",
    "    max_results=50,\n",
    "    include_answer=True,\n",
    "    include_raw_content=True,\n",
    "    include_images=True,\n",
    "    # search_depth=\"advanced\",\n",
    "    # include_domains = []\n",
    "    # exclude_domains = []\n",
    ")\n",
    "name = search_tool.get_name()\n",
    "desc = search_tool.description\n",
    "desc"
   ]
  },
  {
   "cell_type": "markdown",
   "metadata": {},
   "source": [
    "# Create ToolNode"
   ]
  },
  {
   "cell_type": "code",
   "execution_count": 5,
   "metadata": {},
   "outputs": [],
   "source": [
    "from langgraph.prebuilt import ToolNode\n",
    "from spotify_tools import get_playlists, create_spotify_playlist, get_track_list_from_playlist, add_tracks_to_playlist, filter_artists, get_artists_from_playlist, find_similar_artists, find_top_tracks\n",
    "from plan import validate_plan\n",
    "\n",
    "tools = [get_playlists, create_spotify_playlist, add_tracks_to_playlist, filter_artists, validate_plan, get_artists_from_playlist, search_tool, find_similar_artists, get_track_list_from_playlist, find_top_tracks]\n",
    "# tools = [get_playlists, get_track_list, create_spotify_playlist, add_tracks_to_playlist, search_tool]\n",
    "tool_node = ToolNode(tools)"
   ]
  },
  {
   "cell_type": "markdown",
   "metadata": {},
   "source": [
    "# Bind Tools to Model"
   ]
  },
  {
   "cell_type": "code",
   "execution_count": 6,
   "metadata": {},
   "outputs": [],
   "source": [
    "from langchain_openai import ChatOpenAI\n",
    "\n",
    "llm = ChatOpenAI(model=os.getenv(\"OPENAI_MODEL_NAME\"), temperature=1.0)\n",
    "# llm_with_tools = llm.bind_tools(tools, strict=True, parallel_tool_calls=False)\n",
    "llm_with_tools = llm.bind_tools(tools, strict=True)"
   ]
  },
  {
   "cell_type": "markdown",
   "metadata": {},
   "source": [
    "# System Prompt"
   ]
  },
  {
   "cell_type": "code",
   "execution_count": 7,
   "metadata": {},
   "outputs": [],
   "source": [
    "from langchain_core.messages import SystemMessage\n",
    "from prompts import Prompts\n",
    "\n",
    "system_message = SystemMessage(Prompts.SYSTEM)\n"
   ]
  },
  {
   "cell_type": "markdown",
   "metadata": {},
   "source": [
    "# First Message"
   ]
  },
  {
   "cell_type": "code",
   "execution_count": 8,
   "metadata": {},
   "outputs": [
    {
     "name": "stderr",
     "output_type": "stream",
     "text": [
      "2024-11-14 12:55:22,734 - INFO - HTTP Request: POST https://api.openai.com/v1/chat/completions \"HTTP/1.1 200 OK\"\n"
     ]
    }
   ],
   "source": [
    "from langchain_core.messages import HumanMessage\n",
    "from prompts import Prompts\n",
    "\n",
    "human_message = HumanMessage(Prompts.SPOTIFY)\n",
    "llm_response = llm_with_tools.invoke([system_message, human_message])"
   ]
  },
  {
   "cell_type": "code",
   "execution_count": 9,
   "metadata": {},
   "outputs": [],
   "source": [
    "if llm_response.tool_calls is None or llm_response.tool_calls[0][\"name\"] != \"validate_plan\":\n",
    "    raise ValueError(\"should be tool message calling 'validate_plan'\")"
   ]
  },
  {
   "cell_type": "code",
   "execution_count": 10,
   "metadata": {},
   "outputs": [
    {
     "name": "stdout",
     "output_type": "stream",
     "text": [
      "==================================\u001b[1m Ai Message \u001b[0m==================================\n",
      "Tool Calls:\n",
      "  validate_plan (call_SoqGUCt51YuwHyp5vhw8GMnp)\n",
      " Call ID: call_SoqGUCt51YuwHyp5vhw8GMnp\n",
      "  Args:\n",
      "    plan: {'steps': [{'step_number': 1, 'name': 'retrieve_original_artists', 'type': 'action', 'description': \"Retrieve the list of unique artists from the 'New Rock and Blues' playlist.\", 'success_criteria': \"A list of unique artist names and URIs from the 'New Rock and Blues' playlist is obtained.\", 'tool': 'functions.get_artists_from_playlist', 'action': \"Call get_artists_from_playlist with the playlist ID of 'New Rock and Blues'.\", 'condition': None, 'substeps': None}, {'step_number': 2, 'name': 'find_similar_artists', 'type': 'loop', 'description': 'For each artist retrieved in the previous step, find 3-4 similar artists.', 'success_criteria': 'A list of similar artists for each original artist is obtained.', 'tool': 'functions.find_similar_artists', 'action': None, 'condition': 'for each artist in the list of original artists', 'substeps': [{'step_number': 1, 'name': 'get_similar', 'type': 'action', 'description': 'Find similar artists for the current artist.', 'success_criteria': 'Similar artists for the current artist are found and recorded.', 'tool': 'functions.find_similar_artists', 'action': \"Call find_similar_artists with the current artist's URI.\", 'condition': None}]}, {'step_number': 3, 'name': 'exclude_existing_artists', 'type': 'action', 'description': \"Remove from the new artists' list those that are already present in the 'New Rock and Blues' playlist.\", 'success_criteria': \"A filtered list of new artists not present in the 'New Rock and Blues' playlist is obtained.\", 'tool': 'functions.filter_artists', 'action': \"Call filter_artists using the playlist ID of 'New Rock and Blues' and the list of new artists obtained in Step 2.\", 'condition': None, 'substeps': None}, {'step_number': 4, 'name': 'ensure_post_2010', 'type': 'branch', 'description': 'Filter artists based on their success after 2010.', 'success_criteria': 'A list of artists who achieved success post-2010 is obtained.', 'tool': 'functions.tavily_search_results_json', 'action': None, 'condition': 'if artist meets post-2010 success criteria', 'substeps': [{'step_number': 1, 'name': 'check_success_year', 'type': 'action', 'description': 'Check the year of success for each new artist.', 'success_criteria': \"Each artist's success year is verified.\", 'tool': 'functions.tavily_search_results_json', 'action': 'Use tavily_search_results_json to verify the success year of each artist.', 'condition': 'if artist meets post-2010 success criteria'}]}, {'step_number': 5, 'name': 'validate_artist_count', 'type': 'branch', 'description': \"Ensure a minimum of 40 new artists not present in 'New Rock and Blues' playlist.\", 'success_criteria': 'Confirmed at least 40 new artists post-2010.', 'tool': None, 'action': None, 'condition': 'if number of validated new artists >= 40', 'substeps': [{'step_number': 1, 'name': 'increase_artist_search_scope', 'type': 'action', 'description': 'Repeat steps to find more artists until the minimum is met.', 'success_criteria': 'Search scope is adjusted and extended until at least 40 new artists are confirmed.', 'tool': None, 'action': 'Adjust search parameters in Steps 1-4 to increase artist list until criteria is met.', 'condition': None}]}, {'step_number': 6, 'name': 'recommend_tracks', 'type': 'loop', 'description': 'For each new artist found post-2010, find at least 3 top tracks.', 'success_criteria': 'At least 3 tracks per artist are obtained.', 'tool': 'functions.find_top_tracks', 'action': None, 'condition': 'for each new artist verified post-2010', 'substeps': [{'step_number': 1, 'name': 'get_top_tracks', 'type': 'action', 'description': 'Retrieve top tracks for the current artist.', 'success_criteria': 'Top tracks for the current artist are found.', 'tool': 'functions.find_top_tracks', 'action': 'Call find_top_tracks with the artist URIs obtained post-2010.', 'condition': None}]}, {'step_number': 7, 'name': 'create_playlist', 'type': 'action', 'description': 'Create a new Spotify playlist for the tracks.', 'success_criteria': 'A new Spotify playlist is created successfully.', 'tool': 'functions.create_spotify_playlist', 'action': 'Call create_spotify_playlist to create a new playlist with a name and description.', 'condition': None, 'substeps': None}, {'step_number': 8, 'name': 'add_tracks_to_playlist', 'type': 'loop', 'description': 'Add all collected tracks to the new playlist.', 'success_criteria': 'All collected tracks are added to the new playlist.', 'tool': 'functions.add_tracks_to_playlist', 'action': None, 'condition': 'while there are tracks to add', 'substeps': [{'step_number': 1, 'name': 'batch_and_add_tracks', 'type': 'action', 'description': 'Add tracks to the playlist in batches.', 'success_criteria': 'Tracks are successfully added to the playlist in batches.', 'tool': 'functions.add_tracks_to_playlist', 'action': 'Call add_tracks_to_playlist with a batch of tracks and the playlist ID.', 'condition': None}]}, {'step_number': 9, 'name': 'organize_playlist', 'type': 'action', 'description': 'Organize the playlist for a smooth listening experience regarding tempo, energy, and mood.', 'success_criteria': 'Playlist tracks are organized to ensure a smooth listening experience.', 'tool': None, 'action': 'Implement best practices for arranging tracks by tempo, energy, and mood to ensure a smooth listening experience.', 'condition': None, 'substeps': None}, {'step_number': 10, 'name': 'check_playlist_length', 'type': 'branch', 'description': 'Ensure the playlist has at least 100 tracks.', 'success_criteria': 'Playlist contains at least 100 tracks.', 'tool': None, 'action': None, 'condition': 'if current playlist length < 100', 'substeps': [{'step_number': 1, 'name': 'adjust_playlist_length', 'type': 'action', 'description': 'Add more tracks to meet the minimum requirement.', 'success_criteria': 'Total tracks in playlist reach at least 100.', 'tool': None, 'action': 'Repeat artist and track selection steps to ensure at least 100 tracks are present.', 'condition': None}]}], 'Reasoning': 'The plan involves retrieving the original artists from the given playlist, finding similar artists, and filtering based on different criteria like existing artists, post-2010 success, and playlist length. The approach uses advanced planning structures like loops for repetitive tasks, branches for conditional logic, and actions to cover every objective provided in the problem without omissions.'}\n"
     ]
    }
   ],
   "source": [
    "llm_response.pretty_print()"
   ]
  },
  {
   "cell_type": "code",
   "execution_count": 11,
   "metadata": {},
   "outputs": [
    {
     "data": {
      "text/plain": [
       "{'plan': {'steps': [{'step_number': 1,\n",
       "    'name': 'retrieve_original_artists',\n",
       "    'type': 'action',\n",
       "    'description': \"Retrieve the list of unique artists from the 'New Rock and Blues' playlist.\",\n",
       "    'success_criteria': \"A list of unique artist names and URIs from the 'New Rock and Blues' playlist is obtained.\",\n",
       "    'tool': 'functions.get_artists_from_playlist',\n",
       "    'action': \"Call get_artists_from_playlist with the playlist ID of 'New Rock and Blues'.\",\n",
       "    'condition': None,\n",
       "    'substeps': None},\n",
       "   {'step_number': 2,\n",
       "    'name': 'find_similar_artists',\n",
       "    'type': 'loop',\n",
       "    'description': 'For each artist retrieved in the previous step, find 3-4 similar artists.',\n",
       "    'success_criteria': 'A list of similar artists for each original artist is obtained.',\n",
       "    'tool': 'functions.find_similar_artists',\n",
       "    'action': None,\n",
       "    'condition': 'for each artist in the list of original artists',\n",
       "    'substeps': [{'step_number': 1,\n",
       "      'name': 'get_similar',\n",
       "      'type': 'action',\n",
       "      'description': 'Find similar artists for the current artist.',\n",
       "      'success_criteria': 'Similar artists for the current artist are found and recorded.',\n",
       "      'tool': 'functions.find_similar_artists',\n",
       "      'action': \"Call find_similar_artists with the current artist's URI.\",\n",
       "      'condition': None}]},\n",
       "   {'step_number': 3,\n",
       "    'name': 'exclude_existing_artists',\n",
       "    'type': 'action',\n",
       "    'description': \"Remove from the new artists' list those that are already present in the 'New Rock and Blues' playlist.\",\n",
       "    'success_criteria': \"A filtered list of new artists not present in the 'New Rock and Blues' playlist is obtained.\",\n",
       "    'tool': 'functions.filter_artists',\n",
       "    'action': \"Call filter_artists using the playlist ID of 'New Rock and Blues' and the list of new artists obtained in Step 2.\",\n",
       "    'condition': None,\n",
       "    'substeps': None},\n",
       "   {'step_number': 4,\n",
       "    'name': 'ensure_post_2010',\n",
       "    'type': 'branch',\n",
       "    'description': 'Filter artists based on their success after 2010.',\n",
       "    'success_criteria': 'A list of artists who achieved success post-2010 is obtained.',\n",
       "    'tool': 'functions.tavily_search_results_json',\n",
       "    'action': None,\n",
       "    'condition': 'if artist meets post-2010 success criteria',\n",
       "    'substeps': [{'step_number': 1,\n",
       "      'name': 'check_success_year',\n",
       "      'type': 'action',\n",
       "      'description': 'Check the year of success for each new artist.',\n",
       "      'success_criteria': \"Each artist's success year is verified.\",\n",
       "      'tool': 'functions.tavily_search_results_json',\n",
       "      'action': 'Use tavily_search_results_json to verify the success year of each artist.',\n",
       "      'condition': 'if artist meets post-2010 success criteria'}]},\n",
       "   {'step_number': 5,\n",
       "    'name': 'validate_artist_count',\n",
       "    'type': 'branch',\n",
       "    'description': \"Ensure a minimum of 40 new artists not present in 'New Rock and Blues' playlist.\",\n",
       "    'success_criteria': 'Confirmed at least 40 new artists post-2010.',\n",
       "    'tool': None,\n",
       "    'action': None,\n",
       "    'condition': 'if number of validated new artists >= 40',\n",
       "    'substeps': [{'step_number': 1,\n",
       "      'name': 'increase_artist_search_scope',\n",
       "      'type': 'action',\n",
       "      'description': 'Repeat steps to find more artists until the minimum is met.',\n",
       "      'success_criteria': 'Search scope is adjusted and extended until at least 40 new artists are confirmed.',\n",
       "      'tool': None,\n",
       "      'action': 'Adjust search parameters in Steps 1-4 to increase artist list until criteria is met.',\n",
       "      'condition': None}]},\n",
       "   {'step_number': 6,\n",
       "    'name': 'recommend_tracks',\n",
       "    'type': 'loop',\n",
       "    'description': 'For each new artist found post-2010, find at least 3 top tracks.',\n",
       "    'success_criteria': 'At least 3 tracks per artist are obtained.',\n",
       "    'tool': 'functions.find_top_tracks',\n",
       "    'action': None,\n",
       "    'condition': 'for each new artist verified post-2010',\n",
       "    'substeps': [{'step_number': 1,\n",
       "      'name': 'get_top_tracks',\n",
       "      'type': 'action',\n",
       "      'description': 'Retrieve top tracks for the current artist.',\n",
       "      'success_criteria': 'Top tracks for the current artist are found.',\n",
       "      'tool': 'functions.find_top_tracks',\n",
       "      'action': 'Call find_top_tracks with the artist URIs obtained post-2010.',\n",
       "      'condition': None}]},\n",
       "   {'step_number': 7,\n",
       "    'name': 'create_playlist',\n",
       "    'type': 'action',\n",
       "    'description': 'Create a new Spotify playlist for the tracks.',\n",
       "    'success_criteria': 'A new Spotify playlist is created successfully.',\n",
       "    'tool': 'functions.create_spotify_playlist',\n",
       "    'action': 'Call create_spotify_playlist to create a new playlist with a name and description.',\n",
       "    'condition': None,\n",
       "    'substeps': None},\n",
       "   {'step_number': 8,\n",
       "    'name': 'add_tracks_to_playlist',\n",
       "    'type': 'loop',\n",
       "    'description': 'Add all collected tracks to the new playlist.',\n",
       "    'success_criteria': 'All collected tracks are added to the new playlist.',\n",
       "    'tool': 'functions.add_tracks_to_playlist',\n",
       "    'action': None,\n",
       "    'condition': 'while there are tracks to add',\n",
       "    'substeps': [{'step_number': 1,\n",
       "      'name': 'batch_and_add_tracks',\n",
       "      'type': 'action',\n",
       "      'description': 'Add tracks to the playlist in batches.',\n",
       "      'success_criteria': 'Tracks are successfully added to the playlist in batches.',\n",
       "      'tool': 'functions.add_tracks_to_playlist',\n",
       "      'action': 'Call add_tracks_to_playlist with a batch of tracks and the playlist ID.',\n",
       "      'condition': None}]},\n",
       "   {'step_number': 9,\n",
       "    'name': 'organize_playlist',\n",
       "    'type': 'action',\n",
       "    'description': 'Organize the playlist for a smooth listening experience regarding tempo, energy, and mood.',\n",
       "    'success_criteria': 'Playlist tracks are organized to ensure a smooth listening experience.',\n",
       "    'tool': None,\n",
       "    'action': 'Implement best practices for arranging tracks by tempo, energy, and mood to ensure a smooth listening experience.',\n",
       "    'condition': None,\n",
       "    'substeps': None},\n",
       "   {'step_number': 10,\n",
       "    'name': 'check_playlist_length',\n",
       "    'type': 'branch',\n",
       "    'description': 'Ensure the playlist has at least 100 tracks.',\n",
       "    'success_criteria': 'Playlist contains at least 100 tracks.',\n",
       "    'tool': None,\n",
       "    'action': None,\n",
       "    'condition': 'if current playlist length < 100',\n",
       "    'substeps': [{'step_number': 1,\n",
       "      'name': 'adjust_playlist_length',\n",
       "      'type': 'action',\n",
       "      'description': 'Add more tracks to meet the minimum requirement.',\n",
       "      'success_criteria': 'Total tracks in playlist reach at least 100.',\n",
       "      'tool': None,\n",
       "      'action': 'Repeat artist and track selection steps to ensure at least 100 tracks are present.',\n",
       "      'condition': None}]}],\n",
       "  'Reasoning': 'The plan involves retrieving the original artists from the given playlist, finding similar artists, and filtering based on different criteria like existing artists, post-2010 success, and playlist length. The approach uses advanced planning structures like loops for repetitive tasks, branches for conditional logic, and actions to cover every objective provided in the problem without omissions.'}}"
      ]
     },
     "execution_count": 11,
     "metadata": {},
     "output_type": "execute_result"
    }
   ],
   "source": [
    "plan = llm_response.tool_calls[0][\"args\"]\n",
    "plan"
   ]
  },
  {
   "cell_type": "markdown",
   "metadata": {},
   "source": [
    "# chat_prompt_template holds all messages (Human, AI, Tool)"
   ]
  },
  {
   "cell_type": "code",
   "execution_count": 12,
   "metadata": {},
   "outputs": [
    {
     "data": {
      "text/plain": [
       "[SystemMessage(content=\"\\n    You are an AI language assistant designed to execute tasks with precision and attention to detail. Your primary objective is to follow the user's instructions thoroughly and exactly as specified, leaving no detail unaddressed.\\n\\n    Guidelines:\\n\\n    - **Carefully Read Instructions:** Before starting any task, read all user instructions thoroughly to ensure complete understanding.\\n\\n    - **Create a Detailed Plan:** Develop a step-by-step plan that addresses every aspect of the user's requirements. Validate this plan before execution.\\n\\n    - **Utilize Advanced Planning Structures:** Do not limit yourself to linear or sequential plans. Employ loops for repetitive tasks, branches for conditional logic, and other programming constructs to handle complex tasks and decision-making processes.\\n\\n    - **Follow Instructions Precisely:** Execute each step exactly as described, without omitting or altering any part of the instructions.\\n\\n    - **Be Thorough:** Ensure that all elements of the task are completed fully. If the task involves processing multiple items (e.g., a list of items), process each item individually, even if it requires multiple iterations or tool calls.\\n\\n    - **Handle Limitations Proactively:** If you encounter any limitations (such as processing limits), implement solutions like batching or looping to ensure all items are processed.\\n\\n    - **Provide Clear Updates:** In your responses, clearly state which step you are working on and provide updates on your progress, ensuring transparency.\\n\\n    - **Do Not Assume or Simplify:** Avoid making assumptions or simplifying tasks unless explicitly instructed by the user.\\n\\n    - **Maintain Professionalism:** Keep your language professional and focused, aiming to deliver exactly what the user has requested.\\n\\n    Your goal is to execute tasks with high accuracy and completeness, ensuring that the user's needs are fully met.\\n    \", additional_kwargs={}, response_metadata={}),\n",
       " HumanMessage(content=\"\\n    Create, validate, and execute a step-by-step plan with atomic tasks to solve the following problem:\\n\\n    **Objective:** Build a Spotify playlist with tracks that have the same vibe and genres as the playlist named 'New Rock and Blues', following the rules below.\\n\\n    **Rules:**\\n\\n    1. **For each artist in the 'New Rock and Blues' playlist, find 3-4 artists of a similar music style.** *Ensure that you process all artists, even if it requires multiple iterations or tool calls due to API limitations.*\\n\\n    2. **Remove from the new artist list those that are already present in the 'New Rock and Blues' Playlist.**\\n\\n    3. **Focus on Post-2010 Success:** Only include tracks from artists who achieved success after the year 2010.\\n\\n    4. **Minimum Number of New Artists:** Include tracks from at least 40 different artists not present in the 'New Rock and Blues' playlist.\\n\\n    5. **Recommend 3+ tracks for each new artist.**\\n\\n    6. **Arrange for Smooth Listening Experience:** Organize the tracks to create a smooth listening experience, considering tempo, energy, and mood, using best practices.\\n\\n    7. **Playlist Length:** Ensure the new playlist contains at least 100 tracks.\\n\\n    **Instructions:**\\n\\n    - You must validate the plan before starting to work on it.\\n    - Do not ask for user confirmation.\\n    \", additional_kwargs={}, response_metadata={}),\n",
       " AIMessage(content='', additional_kwargs={'tool_calls': [{'id': 'call_SoqGUCt51YuwHyp5vhw8GMnp', 'function': {'arguments': '{\"plan\":{\"steps\":[{\"step_number\":1,\"name\":\"retrieve_original_artists\",\"type\":\"action\",\"description\":\"Retrieve the list of unique artists from the \\'New Rock and Blues\\' playlist.\",\"success_criteria\":\"A list of unique artist names and URIs from the \\'New Rock and Blues\\' playlist is obtained.\",\"tool\":\"functions.get_artists_from_playlist\",\"action\":\"Call get_artists_from_playlist with the playlist ID of \\'New Rock and Blues\\'.\" ,\"condition\":null,\"substeps\":null},{\"step_number\":2,\"name\":\"find_similar_artists\",\"type\":\"loop\",\"description\":\"For each artist retrieved in the previous step, find 3-4 similar artists.\",\"success_criteria\":\"A list of similar artists for each original artist is obtained.\",\"tool\":\"functions.find_similar_artists\",\"action\":null,\"condition\":\"for each artist in the list of original artists\",\"substeps\":[{\"step_number\":1,\"name\":\"get_similar\",\"type\":\"action\",\"description\":\"Find similar artists for the current artist.\",\"success_criteria\":\"Similar artists for the current artist are found and recorded.\",\"tool\":\"functions.find_similar_artists\",\"action\":\"Call find_similar_artists with the current artist\\'s URI.\",\"condition\":null}]} ,{\"step_number\":3,\"name\":\"exclude_existing_artists\",\"type\":\"action\",\"description\":\"Remove from the new artists\\' list those that are already present in the \\'New Rock and Blues\\' playlist.\",\"success_criteria\":\"A filtered list of new artists not present in the \\'New Rock and Blues\\' playlist is obtained.\",\"tool\":\"functions.filter_artists\",\"action\":\"Call filter_artists using the playlist ID of \\'New Rock and Blues\\' and the list of new artists obtained in Step 2.\",\"condition\":null,\"substeps\":null},{\"step_number\":4,\"name\":\"ensure_post_2010\",\"type\":\"branch\",\"description\":\"Filter artists based on their success after 2010.\",\"success_criteria\":\"A list of artists who achieved success post-2010 is obtained.\",\"tool\":\"functions.tavily_search_results_json\",\"action\":null,\"condition\":\"if artist meets post-2010 success criteria\",\"substeps\":[{\"step_number\":1,\"name\":\"check_success_year\",\"type\":\"action\",\"description\":\"Check the year of success for each new artist.\",\"success_criteria\":\"Each artist\\'s success year is verified.\",\"tool\":\"functions.tavily_search_results_json\",\"action\":\"Use tavily_search_results_json to verify the success year of each artist.\",\"condition\":\"if artist meets post-2010 success criteria\"}]},{\"step_number\":5,\"name\":\"validate_artist_count\",\"type\":\"branch\",\"description\":\"Ensure a minimum of 40 new artists not present in \\'New Rock and Blues\\' playlist.\",\"success_criteria\":\"Confirmed at least 40 new artists post-2010.\",\"tool\":null ,\"action\":null,\"condition\":\"if number of validated new artists >= 40\",\"substeps\":[{\"step_number\":1,\"name\":\"increase_artist_search_scope\",\"type\":\"action\",\"description\":\"Repeat steps to find more artists until the minimum is met.\",\"success_criteria\":\"Search scope is adjusted and extended until at least 40 new artists are confirmed.\",\"tool\":null,\"action\":\"Adjust search parameters in Steps 1-4 to increase artist list until criteria is met.\",\"condition\":null}]},{\"step_number\":6,\"name\":\"recommend_tracks\",\"type\":\"loop\",\"description\":\"For each new artist found post-2010, find at least 3 top tracks.\",\"success_criteria\":\"At least 3 tracks per artist are obtained.\",\"tool\":\"functions.find_top_tracks\",\"action\":null,\"condition\":\"for each new artist verified post-2010\",\"substeps\":[{\"step_number\":1,\"name\":\"get_top_tracks\",\"type\":\"action\",\"description\":\"Retrieve top tracks for the current artist.\",\"success_criteria\":\"Top tracks for the current artist are found.\",\"tool\":\"functions.find_top_tracks\",\"action\":\"Call find_top_tracks with the artist URIs obtained post-2010.\",\"condition\":null}]},{\"step_number\":7,\"name\":\"create_playlist\",\"type\":\"action\",\"description\":\"Create a new Spotify playlist for the tracks.\",\"success_criteria\":\"A new Spotify playlist is created successfully.\",\"tool\":\"functions.create_spotify_playlist\",\"action\":\"Call create_spotify_playlist to create a new playlist with a name and description.\",\"condition\":null ,\"substeps\":null},{\"step_number\":8,\"name\":\"add_tracks_to_playlist\",\"type\":\"loop\",\"description\":\"Add all collected tracks to the new playlist.\",\"success_criteria\":\"All collected tracks are added to the new playlist.\",\"tool\":\"functions.add_tracks_to_playlist\",\"action\":null,\"condition\":\"while there are tracks to add\",\"substeps\":[{\"step_number\":1,\"name\":\"batch_and_add_tracks\",\"type\":\"action\",\"description\":\"Add tracks to the playlist in batches.\",\"success_criteria\":\"Tracks are successfully added to the playlist in batches.\",\"tool\":\"functions.add_tracks_to_playlist\",\"action\":\"Call add_tracks_to_playlist with a batch of tracks and the playlist ID.\",\"condition\":null}]},{\"step_number\":9,\"name\":\"organize_playlist\",\"type\":\"action\",\"description\":\"Organize the playlist for a smooth listening experience regarding tempo, energy, and mood.\",\"success_criteria\":\"Playlist tracks are organized to ensure a smooth listening experience.\",\"tool\":null,\"action\":\"Implement best practices for arranging tracks by tempo, energy, and mood to ensure a smooth listening experience.\",\"condition\":null,\"substeps\":null},{\"step_number\":10,\"name\":\"check_playlist_length\",\"type\":\"branch\",\"description\":\"Ensure the playlist has at least 100 tracks.\",\"success_criteria\":\"Playlist contains at least 100 tracks.\",\"tool\":null,\"action\":null,\"condition\":\"if current playlist length < 100\",\"substeps\":[{\"step_number\":1,\"name\":\"adjust_playlist_length\",\"type\":\"action\",\"description\":\"Add more tracks to meet the minimum requirement.\",\"success_criteria\":\"Total tracks in playlist reach at least 100.\",\"tool\":null,\"action\":\"Repeat artist and track selection steps to ensure at least 100 tracks are present.\",\"condition\":null}]}],\"Reasoning\":\"The plan involves retrieving the original artists from the given playlist, finding similar artists, and filtering based on different criteria like existing artists, post-2010 success, and playlist length. The approach uses advanced planning structures like loops for repetitive tasks, branches for conditional logic, and actions to cover every objective provided in the problem without omissions.\"}}', 'name': 'validate_plan'}, 'type': 'function'}], 'refusal': None}, response_metadata={'token_usage': {'completion_tokens': 1320, 'prompt_tokens': 2047, 'total_tokens': 3367, 'completion_tokens_details': {'accepted_prediction_tokens': 0, 'audio_tokens': 0, 'reasoning_tokens': 0, 'rejected_prediction_tokens': 0}, 'prompt_tokens_details': {'audio_tokens': 0, 'cached_tokens': 0}}, 'model_name': 'gpt-4o-2024-08-06', 'system_fingerprint': 'fp_159d8341cc', 'finish_reason': 'tool_calls', 'logprobs': None}, id='run-ce62f9d9-b61c-4f2c-b248-753918aa3839-0', tool_calls=[{'name': 'validate_plan', 'args': {'plan': {'steps': [{'step_number': 1, 'name': 'retrieve_original_artists', 'type': 'action', 'description': \"Retrieve the list of unique artists from the 'New Rock and Blues' playlist.\", 'success_criteria': \"A list of unique artist names and URIs from the 'New Rock and Blues' playlist is obtained.\", 'tool': 'functions.get_artists_from_playlist', 'action': \"Call get_artists_from_playlist with the playlist ID of 'New Rock and Blues'.\", 'condition': None, 'substeps': None}, {'step_number': 2, 'name': 'find_similar_artists', 'type': 'loop', 'description': 'For each artist retrieved in the previous step, find 3-4 similar artists.', 'success_criteria': 'A list of similar artists for each original artist is obtained.', 'tool': 'functions.find_similar_artists', 'action': None, 'condition': 'for each artist in the list of original artists', 'substeps': [{'step_number': 1, 'name': 'get_similar', 'type': 'action', 'description': 'Find similar artists for the current artist.', 'success_criteria': 'Similar artists for the current artist are found and recorded.', 'tool': 'functions.find_similar_artists', 'action': \"Call find_similar_artists with the current artist's URI.\", 'condition': None}]}, {'step_number': 3, 'name': 'exclude_existing_artists', 'type': 'action', 'description': \"Remove from the new artists' list those that are already present in the 'New Rock and Blues' playlist.\", 'success_criteria': \"A filtered list of new artists not present in the 'New Rock and Blues' playlist is obtained.\", 'tool': 'functions.filter_artists', 'action': \"Call filter_artists using the playlist ID of 'New Rock and Blues' and the list of new artists obtained in Step 2.\", 'condition': None, 'substeps': None}, {'step_number': 4, 'name': 'ensure_post_2010', 'type': 'branch', 'description': 'Filter artists based on their success after 2010.', 'success_criteria': 'A list of artists who achieved success post-2010 is obtained.', 'tool': 'functions.tavily_search_results_json', 'action': None, 'condition': 'if artist meets post-2010 success criteria', 'substeps': [{'step_number': 1, 'name': 'check_success_year', 'type': 'action', 'description': 'Check the year of success for each new artist.', 'success_criteria': \"Each artist's success year is verified.\", 'tool': 'functions.tavily_search_results_json', 'action': 'Use tavily_search_results_json to verify the success year of each artist.', 'condition': 'if artist meets post-2010 success criteria'}]}, {'step_number': 5, 'name': 'validate_artist_count', 'type': 'branch', 'description': \"Ensure a minimum of 40 new artists not present in 'New Rock and Blues' playlist.\", 'success_criteria': 'Confirmed at least 40 new artists post-2010.', 'tool': None, 'action': None, 'condition': 'if number of validated new artists >= 40', 'substeps': [{'step_number': 1, 'name': 'increase_artist_search_scope', 'type': 'action', 'description': 'Repeat steps to find more artists until the minimum is met.', 'success_criteria': 'Search scope is adjusted and extended until at least 40 new artists are confirmed.', 'tool': None, 'action': 'Adjust search parameters in Steps 1-4 to increase artist list until criteria is met.', 'condition': None}]}, {'step_number': 6, 'name': 'recommend_tracks', 'type': 'loop', 'description': 'For each new artist found post-2010, find at least 3 top tracks.', 'success_criteria': 'At least 3 tracks per artist are obtained.', 'tool': 'functions.find_top_tracks', 'action': None, 'condition': 'for each new artist verified post-2010', 'substeps': [{'step_number': 1, 'name': 'get_top_tracks', 'type': 'action', 'description': 'Retrieve top tracks for the current artist.', 'success_criteria': 'Top tracks for the current artist are found.', 'tool': 'functions.find_top_tracks', 'action': 'Call find_top_tracks with the artist URIs obtained post-2010.', 'condition': None}]}, {'step_number': 7, 'name': 'create_playlist', 'type': 'action', 'description': 'Create a new Spotify playlist for the tracks.', 'success_criteria': 'A new Spotify playlist is created successfully.', 'tool': 'functions.create_spotify_playlist', 'action': 'Call create_spotify_playlist to create a new playlist with a name and description.', 'condition': None, 'substeps': None}, {'step_number': 8, 'name': 'add_tracks_to_playlist', 'type': 'loop', 'description': 'Add all collected tracks to the new playlist.', 'success_criteria': 'All collected tracks are added to the new playlist.', 'tool': 'functions.add_tracks_to_playlist', 'action': None, 'condition': 'while there are tracks to add', 'substeps': [{'step_number': 1, 'name': 'batch_and_add_tracks', 'type': 'action', 'description': 'Add tracks to the playlist in batches.', 'success_criteria': 'Tracks are successfully added to the playlist in batches.', 'tool': 'functions.add_tracks_to_playlist', 'action': 'Call add_tracks_to_playlist with a batch of tracks and the playlist ID.', 'condition': None}]}, {'step_number': 9, 'name': 'organize_playlist', 'type': 'action', 'description': 'Organize the playlist for a smooth listening experience regarding tempo, energy, and mood.', 'success_criteria': 'Playlist tracks are organized to ensure a smooth listening experience.', 'tool': None, 'action': 'Implement best practices for arranging tracks by tempo, energy, and mood to ensure a smooth listening experience.', 'condition': None, 'substeps': None}, {'step_number': 10, 'name': 'check_playlist_length', 'type': 'branch', 'description': 'Ensure the playlist has at least 100 tracks.', 'success_criteria': 'Playlist contains at least 100 tracks.', 'tool': None, 'action': None, 'condition': 'if current playlist length < 100', 'substeps': [{'step_number': 1, 'name': 'adjust_playlist_length', 'type': 'action', 'description': 'Add more tracks to meet the minimum requirement.', 'success_criteria': 'Total tracks in playlist reach at least 100.', 'tool': None, 'action': 'Repeat artist and track selection steps to ensure at least 100 tracks are present.', 'condition': None}]}], 'Reasoning': 'The plan involves retrieving the original artists from the given playlist, finding similar artists, and filtering based on different criteria like existing artists, post-2010 success, and playlist length. The approach uses advanced planning structures like loops for repetitive tasks, branches for conditional logic, and actions to cover every objective provided in the problem without omissions.'}}, 'id': 'call_SoqGUCt51YuwHyp5vhw8GMnp', 'type': 'tool_call'}], usage_metadata={'input_tokens': 2047, 'output_tokens': 1320, 'total_tokens': 3367, 'input_token_details': {'audio': 0, 'cache_read': 0}, 'output_token_details': {'audio': 0, 'reasoning': 0}})]"
      ]
     },
     "execution_count": 12,
     "metadata": {},
     "output_type": "execute_result"
    }
   ],
   "source": [
    "from langchain_core.prompts import ChatPromptTemplate\n",
    "\n",
    "chat_prompt_template: ChatPromptTemplate = system_message + human_message + llm_response\n",
    "messages = chat_prompt_template.format_messages()\n",
    "messages"
   ]
  },
  {
   "cell_type": "markdown",
   "metadata": {},
   "source": [
    "# Check for Tools in Message"
   ]
  },
  {
   "cell_type": "code",
   "execution_count": null,
   "metadata": {},
   "outputs": [],
   "source": [
    "from langchain_core.messages import ToolMessage\n",
    "\n",
    "tools_in_ai_message = []\n",
    "tools_by_name = {tool.name: tool for tool in tools}\n",
    "messages = chat_prompt_template.format_messages()\n",
    "for tool_call in messages[-1].tool_calls:\n",
    "    tool = tools_by_name[tool_call[\"name\"]]\n",
    "    tools_in_ai_message.append(tool)\n",
    "    # observation = tool.invoke(tool_call[\"args\"])\n",
    "    # result.append(ToolMessage(content=observation, tool_call_id=tool_call[\"id\"]))\n",
    "if len(tools_in_ai_message) == 0:\n",
    "    raise ValueError\n",
    "else:\n",
    "    print(tools_in_ai_message)"
   ]
  },
  {
   "cell_type": "markdown",
   "metadata": {},
   "source": [
    "# Tool Call (should be validate_plan())"
   ]
  },
  {
   "cell_type": "code",
   "execution_count": null,
   "metadata": {},
   "outputs": [],
   "source": [
    "tool_response = tool_node.invoke({\"messages\": messages})\n",
    "tool_message = tool_response[\"messages\"][0]\n",
    "tool_message.pretty_print()"
   ]
  },
  {
   "cell_type": "markdown",
   "metadata": {},
   "source": [
    "# Add Tool Response to Messages"
   ]
  },
  {
   "cell_type": "code",
   "execution_count": null,
   "metadata": {},
   "outputs": [],
   "source": [
    "chat_prompt_template += tool_message\n",
    "chat_prompt_template.format_messages()"
   ]
  },
  {
   "cell_type": "markdown",
   "metadata": {},
   "source": [
    "# Send Messages with Tool result to LLM"
   ]
  },
  {
   "cell_type": "code",
   "execution_count": null,
   "metadata": {},
   "outputs": [],
   "source": [
    "llm_response = llm_with_tools.invoke(chat_prompt_template.format_messages())\n",
    "llm_response.pretty_print()"
   ]
  },
  {
   "cell_type": "markdown",
   "metadata": {},
   "source": [
    "# Validate correct tool call"
   ]
  },
  {
   "cell_type": "code",
   "execution_count": null,
   "metadata": {},
   "outputs": [],
   "source": [
    "if llm_response.tool_calls is None or llm_response.tool_calls[0][\"name\"] != \"get_playlists\":\n",
    "    raise ValueError(\"should be tool message calling 'validate_plan'\")"
   ]
  },
  {
   "cell_type": "markdown",
   "metadata": {},
   "source": [
    "# Tool Call (should be get_playlists())"
   ]
  },
  {
   "cell_type": "code",
   "execution_count": null,
   "metadata": {},
   "outputs": [],
   "source": [
    "chat_prompt_template += llm_response\n",
    "messages = chat_prompt_template.format_messages()\n",
    "tool_response = tool_node.invoke({\"messages\": messages})"
   ]
  },
  {
   "cell_type": "code",
   "execution_count": null,
   "metadata": {},
   "outputs": [],
   "source": [
    "from langchain_core.messages import ToolMessage\n",
    "\n",
    "tool_message: ToolMessage = tool_response[\"messages\"][0]\n",
    "tool_message.pretty_print()"
   ]
  },
  {
   "cell_type": "markdown",
   "metadata": {},
   "source": [
    "# Add Tool Response to Messages"
   ]
  },
  {
   "cell_type": "code",
   "execution_count": null,
   "metadata": {},
   "outputs": [],
   "source": [
    "chat_prompt_template += tool_message\n",
    "messages = chat_prompt_template.format_messages()"
   ]
  },
  {
   "cell_type": "markdown",
   "metadata": {},
   "source": [
    "# Send Playlists Results to LLM"
   ]
  },
  {
   "cell_type": "code",
   "execution_count": null,
   "metadata": {},
   "outputs": [],
   "source": [
    "llm_response = llm_with_tools.invoke(messages)\n",
    "llm_response.pretty_print()"
   ]
  },
  {
   "cell_type": "markdown",
   "metadata": {},
   "source": [
    "# Validate correct tool call"
   ]
  },
  {
   "cell_type": "code",
   "execution_count": null,
   "metadata": {},
   "outputs": [],
   "source": [
    "if llm_response.tool_calls is None or llm_response.tool_calls[0][\"name\"] != \"get_artists_from_playlist\":\n",
    "    raise ValueError(\"should be tool message calling 'get_artists_from_playlist'\")"
   ]
  },
  {
   "cell_type": "markdown",
   "metadata": {},
   "source": [
    "# Add AI Tool Call to Messages"
   ]
  },
  {
   "cell_type": "code",
   "execution_count": null,
   "metadata": {},
   "outputs": [],
   "source": [
    "chat_prompt_template += llm_response\n",
    "messages = chat_prompt_template.format_messages()"
   ]
  },
  {
   "cell_type": "markdown",
   "metadata": {},
   "source": [
    "# Tool Call (get_artists_from_playlist())"
   ]
  },
  {
   "cell_type": "code",
   "execution_count": null,
   "metadata": {},
   "outputs": [],
   "source": [
    "tool_response = tool_node.invoke({\"messages\": messages})\n",
    "tool_message: ToolMessage = tool_response[\"messages\"][0]"
   ]
  },
  {
   "cell_type": "markdown",
   "metadata": {},
   "source": [
    "# Decode AI Tool Call message"
   ]
  },
  {
   "cell_type": "code",
   "execution_count": null,
   "metadata": {},
   "outputs": [],
   "source": [
    "tool_message.pretty_print()"
   ]
  },
  {
   "cell_type": "code",
   "execution_count": null,
   "metadata": {},
   "outputs": [],
   "source": [
    "# json.loads(track_list_tool_message.content)"
   ]
  },
  {
   "cell_type": "markdown",
   "metadata": {},
   "source": [
    "# Add Tool Response to Messages"
   ]
  },
  {
   "cell_type": "code",
   "execution_count": null,
   "metadata": {},
   "outputs": [],
   "source": [
    "chat_prompt_template += tool_message\n",
    "messages = chat_prompt_template.format_messages()\n",
    "messages"
   ]
  },
  {
   "cell_type": "markdown",
   "metadata": {},
   "source": [
    "# Send Tool Result to LLM"
   ]
  },
  {
   "cell_type": "code",
   "execution_count": null,
   "metadata": {},
   "outputs": [],
   "source": [
    "llm_response = llm_with_tools.invoke(messages)"
   ]
  },
  {
   "cell_type": "markdown",
   "metadata": {},
   "source": [
    "# AI Tool Call (find_similar_artist())"
   ]
  },
  {
   "cell_type": "code",
   "execution_count": null,
   "metadata": {},
   "outputs": [],
   "source": [
    "if llm_response.tool_calls is None or llm_response.tool_calls[0][\"name\"] != \"find_similar_artists\":\n",
    "    raise ValueError(\"should be tool message calling 'validate_plan'\")"
   ]
  },
  {
   "cell_type": "code",
   "execution_count": null,
   "metadata": {},
   "outputs": [],
   "source": [
    "llm_response.pretty_print()"
   ]
  },
  {
   "cell_type": "code",
   "execution_count": null,
   "metadata": {},
   "outputs": [],
   "source": [
    "if llm_response.tool_calls is None or llm_response.tool_calls[0][\"name\"] != \"find_similar_artists\":\n",
    "    raise ValueError(\"should be tool message calling 'find_similar_artists'\")"
   ]
  },
  {
   "cell_type": "markdown",
   "metadata": {},
   "source": [
    "# Add AI Tool Call to Messages"
   ]
  },
  {
   "cell_type": "code",
   "execution_count": null,
   "metadata": {},
   "outputs": [],
   "source": [
    "chat_prompt_template += llm_response\n",
    "messages = chat_prompt_template.format_messages()\n",
    "messages"
   ]
  },
  {
   "cell_type": "markdown",
   "metadata": {},
   "source": [
    "# Tool Call (find_similar_artists())"
   ]
  },
  {
   "cell_type": "code",
   "execution_count": null,
   "metadata": {},
   "outputs": [],
   "source": [
    "tool_response = tool_node.invoke({\"messages\": messages})\n",
    "tool_message = tool_response[\"messages\"][0]\n",
    "tool_message.pretty_print()"
   ]
  },
  {
   "cell_type": "markdown",
   "metadata": {},
   "source": [
    "# Add Tool Response to Messages"
   ]
  },
  {
   "cell_type": "code",
   "execution_count": null,
   "metadata": {},
   "outputs": [],
   "source": [
    "chat_prompt_template += tool_message\n",
    "messages = chat_prompt_template.format_messages()\n",
    "messages"
   ]
  },
  {
   "cell_type": "markdown",
   "metadata": {},
   "source": [
    "# Send Tool Result to LLM"
   ]
  },
  {
   "cell_type": "code",
   "execution_count": null,
   "metadata": {},
   "outputs": [],
   "source": [
    "llm_response = llm_with_tools.invoke(messages)\n",
    "llm_response.pretty_print()"
   ]
  },
  {
   "cell_type": "code",
   "execution_count": null,
   "metadata": {},
   "outputs": [],
   "source": [
    "chat_prompt_template += llm_response\n",
    "messages = chat_prompt_template.format_messages()\n",
    "messages"
   ]
  },
  {
   "cell_type": "code",
   "execution_count": null,
   "metadata": {},
   "outputs": [],
   "source": [
    "filtered_artists: ToolMessage = response[\"messages\"][0]\n",
    "filtered_artists.pretty_print()"
   ]
  },
  {
   "cell_type": "code",
   "execution_count": null,
   "metadata": {},
   "outputs": [],
   "source": [
    "response = llm_with_tools.invoke(messages)"
   ]
  },
  {
   "cell_type": "code",
   "execution_count": null,
   "metadata": {},
   "outputs": [],
   "source": [
    "chat_prompt_template += response\n",
    "chat_prompt_template.format_messages()"
   ]
  },
  {
   "cell_type": "code",
   "execution_count": null,
   "metadata": {},
   "outputs": [],
   "source": [
    "response = tool_node.invoke({\"messages\": [response]})"
   ]
  },
  {
   "cell_type": "code",
   "execution_count": null,
   "metadata": {},
   "outputs": [],
   "source": [
    "response"
   ]
  }
 ],
 "metadata": {
  "kernelspec": {
   "display_name": ".venv",
   "language": "python",
   "name": "python3"
  },
  "language_info": {
   "codemirror_mode": {
    "name": "ipython",
    "version": 3
   },
   "file_extension": ".py",
   "mimetype": "text/x-python",
   "name": "python",
   "nbconvert_exporter": "python",
   "pygments_lexer": "ipython3",
   "version": "3.12.5"
  }
 },
 "nbformat": 4,
 "nbformat_minor": 2
}
