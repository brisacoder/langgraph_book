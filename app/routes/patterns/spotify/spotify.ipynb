{
 "cells": [
  {
   "cell_type": "code",
   "execution_count": 1,
   "metadata": {},
   "outputs": [],
   "source": [
    "%%capture --no-stderr\n",
    "%pip install --quiet -U langgraph langchain-core langchain_openai python-dotenv langsmith pydantic spotipy"
   ]
  },
  {
   "cell_type": "code",
   "execution_count": 2,
   "metadata": {},
   "outputs": [
    {
     "name": "stdout",
     "output_type": "stream",
     "text": [
      "Note: you may need to restart the kernel to use updated packages.\n",
      "Note: you may need to restart the kernel to use updated packages.\n"
     ]
    }
   ],
   "source": [
    "%pip install --quiet -U jupyterlab-lsp\n",
    "%pip install --quiet -U \"python-lsp-server[all]\""
   ]
  },
  {
   "cell_type": "code",
   "execution_count": 3,
   "metadata": {},
   "outputs": [],
   "source": [
    "## Setup logging\n",
    "import logging\n",
    "import os\n",
    "from dotenv import load_dotenv\n",
    "\n",
    "load_dotenv(override=True)\n",
    "logger = logging.getLogger(__name__)\n",
    "\n",
    "# Configure logging\n",
    "logging.basicConfig(\n",
    "    level=logging.INFO,\n",
    "    format='%(asctime)s - %(levelname)s - %(message)s',  # Define the format\n",
    "    handlers=[logging.StreamHandler()]  # Output to the console\n",
    ")"
   ]
  },
  {
   "cell_type": "markdown",
   "metadata": {},
   "source": [
    "# Define Search Tool"
   ]
  },
  {
   "cell_type": "code",
   "execution_count": 4,
   "metadata": {},
   "outputs": [
    {
     "data": {
      "text/plain": [
       "'A search engine optimized for comprehensive, accurate, and trusted results. Useful for when you need to answer questions about current events. Input should be a search query.'"
      ]
     },
     "execution_count": 4,
     "metadata": {},
     "output_type": "execute_result"
    }
   ],
   "source": [
    "from langchain_community.tools.tavily_search import TavilySearchResults\n",
    "\n",
    "search_tool = TavilySearchResults(\n",
    "    max_results=50,\n",
    "    include_answer=True,\n",
    "    include_raw_content=True,\n",
    "    include_images=True,\n",
    "    # search_depth=\"advanced\",\n",
    "    # include_domains = []\n",
    "    # exclude_domains = []\n",
    ")\n",
    "name = search_tool.get_name()\n",
    "desc = search_tool.description\n",
    "desc"
   ]
  },
  {
   "cell_type": "markdown",
   "metadata": {},
   "source": [
    "# Create ToolNode"
   ]
  },
  {
   "cell_type": "code",
   "execution_count": 5,
   "metadata": {},
   "outputs": [],
   "source": [
    "from langgraph.prebuilt import ToolNode\n",
    "from spotify_tools import get_playlists, create_spotify_playlist, get_track_list_from_playlist, add_tracks_to_playlist, filter_artists, get_artists_from_playlist, find_similar_artists, find_top_tracks\n",
    "from plan import validate_plan\n",
    "\n",
    "tools = [get_playlists, create_spotify_playlist, add_tracks_to_playlist, filter_artists, validate_plan, get_artists_from_playlist, search_tool, find_similar_artists, get_track_list_from_playlist, find_top_tracks]\n",
    "# tools = [get_playlists, get_track_list, create_spotify_playlist, add_tracks_to_playlist, search_tool]\n",
    "tool_node = ToolNode(tools)"
   ]
  },
  {
   "cell_type": "markdown",
   "metadata": {},
   "source": [
    "# Bind Tools to Model"
   ]
  },
  {
   "cell_type": "code",
   "execution_count": 6,
   "metadata": {},
   "outputs": [],
   "source": [
    "from langchain_openai import ChatOpenAI\n",
    "\n",
    "llm = ChatOpenAI(model=os.getenv(\"OPENAI_MODEL_NAME\"), temperature=1.0)\n",
    "# llm_with_tools = llm.bind_tools(tools, strict=True, parallel_tool_calls=False)\n",
    "llm_with_tools = llm.bind_tools(tools, strict=True)"
   ]
  },
  {
   "cell_type": "markdown",
   "metadata": {},
   "source": [
    "# System Prompt"
   ]
  },
  {
   "cell_type": "code",
   "execution_count": 7,
   "metadata": {},
   "outputs": [],
   "source": [
    "from langchain_core.messages import SystemMessage\n",
    "from prompts import Prompts\n",
    "\n",
    "system_message = SystemMessage(Prompts.SYSTEM)\n"
   ]
  },
  {
   "cell_type": "markdown",
   "metadata": {},
   "source": [
    "# First Message"
   ]
  },
  {
   "cell_type": "code",
   "execution_count": 8,
   "metadata": {},
   "outputs": [
    {
     "name": "stderr",
     "output_type": "stream",
     "text": [
      "2024-11-14 09:15:47,801 - INFO - HTTP Request: POST https://api.openai.com/v1/chat/completions \"HTTP/1.1 200 OK\"\n"
     ]
    }
   ],
   "source": [
    "from langchain_core.messages import HumanMessage\n",
    "from prompts import Prompts\n",
    "\n",
    "human_message = HumanMessage(Prompts.SPOTIFY)\n",
    "ai_message = llm_with_tools.invoke([system_message, human_message])"
   ]
  },
  {
   "cell_type": "code",
   "execution_count": 9,
   "metadata": {},
   "outputs": [],
   "source": [
    "if ai_message.tool_calls is None or ai_message.tool_calls[0][\"name\"] != \"validate_plan\":\n",
    "    raise ValueError(\"should be tool message calling 'validate_plan'\")"
   ]
  },
  {
   "cell_type": "code",
   "execution_count": 10,
   "metadata": {},
   "outputs": [
    {
     "name": "stdout",
     "output_type": "stream",
     "text": [
      "==================================\u001b[1m Ai Message \u001b[0m==================================\n",
      "Tool Calls:\n",
      "  validate_plan (call_99aaGewOyDzPciZz48L6Mkg3)\n",
      " Call ID: call_99aaGewOyDzPciZz48L6Mkg3\n",
      "  Args:\n",
      "    plan: {'steps': [{'step_number': 1, 'name': 'get-new-rock-and-blues-artists', 'type': 'action', 'description': \"Retrieve the list of unique artists from the 'New Rock and Blues' Spotify playlist.\", 'success_criteria': 'List of unique artists is retrieved.', 'tool': 'functions.get_artists_from_playlist', 'action': \"Use the tool to get the list of artists from the 'New Rock and Blues' playlist.\", 'condition': None, 'substeps': None}, {'step_number': 2, 'name': 'find-similar-artists-loops', 'type': 'loop', 'description': \"Find similar artists for each artist obtained from the 'New Rock and Blues' playlist.\", 'success_criteria': 'Similar artists found for each artist in the list.', 'tool': 'functions.find_similar_artists', 'action': None, 'condition': 'For each artist in the list.', 'substeps': [{'step_number': 1, 'name': 'find-similar-artists', 'type': 'action', 'description': 'Use the tool to find similar artists for an individual artist.', 'success_criteria': 'Similar artists obtained for the given artist.', 'tool': 'functions.find_similar_artists', 'action': 'Find similar artists for the selected artist from the list.', 'condition': None}]}, {'step_number': 3, 'name': 'filter-existing-artists', 'type': 'action', 'description': \"Filter out any artists from the list of similar artists that are already in the 'New Rock and Blues' playlist.\", 'success_criteria': 'Filtered list contains only new artists not in the original playlist.', 'tool': 'functions.filter_artists', 'action': 'Use the tool to filter out existing artists from the list.', 'condition': None, 'substeps': None}, {'step_number': 4, 'name': 'post-2010-success-filter', 'type': 'branch', 'description': 'Filter out artists that were not successful post-2010.', 'success_criteria': 'List contains only post-2010 successful artists.', 'tool': None, 'action': None, 'condition': 'Artist success year > 2010.', 'substeps': [{'step_number': 1, 'name': 'filter-post-2010-artists', 'type': 'action', 'description': 'Research artist success year and filter accordingly.', 'success_criteria': 'Artists filtered based on success year.', 'tool': 'functions.tavily_search_results_json', 'action': 'Search for artist success years and apply filter.', 'condition': None}]}, {'step_number': 5, 'name': 'ensure-minimum-new-artists', 'type': 'branch', 'description': 'Ensure there are at least 40 new artists in the list.', 'success_criteria': 'List contains at least 40 new artists.', 'tool': None, 'action': None, 'condition': 'Number of new artists < 40.', 'substeps': [{'step_number': 1, 'name': 'expand-new-artists-list', 'type': 'action', 'description': 'Expand the list by finding more similar artists if needed.', 'success_criteria': 'New list now contains at least 40 artists.', 'tool': 'functions.find_similar_artists', 'action': 'Continue finding similar artists and adding to the list until there are at least 40.', 'condition': None}]}, {'step_number': 6, 'name': 'recommend-tracks-for-new-artists', 'type': 'loop', 'description': 'Find and recommend 3 or more tracks for each new artist in the list.', 'success_criteria': 'Each new artist has 3+ tracks recommended.', 'tool': 'functions.find_top_tracks', 'action': None, 'condition': 'For each new artist in the list.', 'substeps': [{'step_number': 1, 'name': 'get-top-tracks', 'type': 'action', 'description': 'Get top tracks for a new artist.', 'success_criteria': '3+ top tracks retrieved for the artist.', 'tool': 'functions.find_top_tracks', 'action': 'Retrieve top tracks for the specific artist.', 'condition': None}]}, {'step_number': 7, 'name': 'organize-tracks-for-smooth-experience', 'type': 'action', 'description': 'Organize tracks to create a smooth listening experience focusing on tempo, energy, and mood.', 'success_criteria': 'Tracks are organized to ensure smooth listening.', 'tool': None, 'action': 'Arrange tracks using best practices for music arrangement.', 'condition': None, 'substeps': None}, {'step_number': 8, 'name': 'create-and-add-tracks-to-playlist', 'type': 'action', 'description': 'Create a new playlist and add the organized tracks.', 'success_criteria': 'New playlist is created with at least 100 tracks.', 'tool': 'functions.create_spotify_playlist', 'action': 'Create a new playlist and use the tool to add tracks to it.', 'condition': None, 'substeps': None}], 'Reasoning': 'The plan starts by retrieving the artists from the existing playlist, identifying similar artists (while ensuring they are not already present), and refining our list based on post-2010 success. We ensure at least 40 new artists are included, select top tracks for them, arrange these for a good listening flow, and create the final playlist while adhering to all defined rules.'}\n"
     ]
    }
   ],
   "source": [
    "ai_message.pretty_print()"
   ]
  },
  {
   "cell_type": "code",
   "execution_count": 11,
   "metadata": {},
   "outputs": [
    {
     "data": {
      "text/plain": [
       "{'plan': {'steps': [{'step_number': 1,\n",
       "    'name': 'get-new-rock-and-blues-artists',\n",
       "    'type': 'action',\n",
       "    'description': \"Retrieve the list of unique artists from the 'New Rock and Blues' Spotify playlist.\",\n",
       "    'success_criteria': 'List of unique artists is retrieved.',\n",
       "    'tool': 'functions.get_artists_from_playlist',\n",
       "    'action': \"Use the tool to get the list of artists from the 'New Rock and Blues' playlist.\",\n",
       "    'condition': None,\n",
       "    'substeps': None},\n",
       "   {'step_number': 2,\n",
       "    'name': 'find-similar-artists-loops',\n",
       "    'type': 'loop',\n",
       "    'description': \"Find similar artists for each artist obtained from the 'New Rock and Blues' playlist.\",\n",
       "    'success_criteria': 'Similar artists found for each artist in the list.',\n",
       "    'tool': 'functions.find_similar_artists',\n",
       "    'action': None,\n",
       "    'condition': 'For each artist in the list.',\n",
       "    'substeps': [{'step_number': 1,\n",
       "      'name': 'find-similar-artists',\n",
       "      'type': 'action',\n",
       "      'description': 'Use the tool to find similar artists for an individual artist.',\n",
       "      'success_criteria': 'Similar artists obtained for the given artist.',\n",
       "      'tool': 'functions.find_similar_artists',\n",
       "      'action': 'Find similar artists for the selected artist from the list.',\n",
       "      'condition': None}]},\n",
       "   {'step_number': 3,\n",
       "    'name': 'filter-existing-artists',\n",
       "    'type': 'action',\n",
       "    'description': \"Filter out any artists from the list of similar artists that are already in the 'New Rock and Blues' playlist.\",\n",
       "    'success_criteria': 'Filtered list contains only new artists not in the original playlist.',\n",
       "    'tool': 'functions.filter_artists',\n",
       "    'action': 'Use the tool to filter out existing artists from the list.',\n",
       "    'condition': None,\n",
       "    'substeps': None},\n",
       "   {'step_number': 4,\n",
       "    'name': 'post-2010-success-filter',\n",
       "    'type': 'branch',\n",
       "    'description': 'Filter out artists that were not successful post-2010.',\n",
       "    'success_criteria': 'List contains only post-2010 successful artists.',\n",
       "    'tool': None,\n",
       "    'action': None,\n",
       "    'condition': 'Artist success year > 2010.',\n",
       "    'substeps': [{'step_number': 1,\n",
       "      'name': 'filter-post-2010-artists',\n",
       "      'type': 'action',\n",
       "      'description': 'Research artist success year and filter accordingly.',\n",
       "      'success_criteria': 'Artists filtered based on success year.',\n",
       "      'tool': 'functions.tavily_search_results_json',\n",
       "      'action': 'Search for artist success years and apply filter.',\n",
       "      'condition': None}]},\n",
       "   {'step_number': 5,\n",
       "    'name': 'ensure-minimum-new-artists',\n",
       "    'type': 'branch',\n",
       "    'description': 'Ensure there are at least 40 new artists in the list.',\n",
       "    'success_criteria': 'List contains at least 40 new artists.',\n",
       "    'tool': None,\n",
       "    'action': None,\n",
       "    'condition': 'Number of new artists < 40.',\n",
       "    'substeps': [{'step_number': 1,\n",
       "      'name': 'expand-new-artists-list',\n",
       "      'type': 'action',\n",
       "      'description': 'Expand the list by finding more similar artists if needed.',\n",
       "      'success_criteria': 'New list now contains at least 40 artists.',\n",
       "      'tool': 'functions.find_similar_artists',\n",
       "      'action': 'Continue finding similar artists and adding to the list until there are at least 40.',\n",
       "      'condition': None}]},\n",
       "   {'step_number': 6,\n",
       "    'name': 'recommend-tracks-for-new-artists',\n",
       "    'type': 'loop',\n",
       "    'description': 'Find and recommend 3 or more tracks for each new artist in the list.',\n",
       "    'success_criteria': 'Each new artist has 3+ tracks recommended.',\n",
       "    'tool': 'functions.find_top_tracks',\n",
       "    'action': None,\n",
       "    'condition': 'For each new artist in the list.',\n",
       "    'substeps': [{'step_number': 1,\n",
       "      'name': 'get-top-tracks',\n",
       "      'type': 'action',\n",
       "      'description': 'Get top tracks for a new artist.',\n",
       "      'success_criteria': '3+ top tracks retrieved for the artist.',\n",
       "      'tool': 'functions.find_top_tracks',\n",
       "      'action': 'Retrieve top tracks for the specific artist.',\n",
       "      'condition': None}]},\n",
       "   {'step_number': 7,\n",
       "    'name': 'organize-tracks-for-smooth-experience',\n",
       "    'type': 'action',\n",
       "    'description': 'Organize tracks to create a smooth listening experience focusing on tempo, energy, and mood.',\n",
       "    'success_criteria': 'Tracks are organized to ensure smooth listening.',\n",
       "    'tool': None,\n",
       "    'action': 'Arrange tracks using best practices for music arrangement.',\n",
       "    'condition': None,\n",
       "    'substeps': None},\n",
       "   {'step_number': 8,\n",
       "    'name': 'create-and-add-tracks-to-playlist',\n",
       "    'type': 'action',\n",
       "    'description': 'Create a new playlist and add the organized tracks.',\n",
       "    'success_criteria': 'New playlist is created with at least 100 tracks.',\n",
       "    'tool': 'functions.create_spotify_playlist',\n",
       "    'action': 'Create a new playlist and use the tool to add tracks to it.',\n",
       "    'condition': None,\n",
       "    'substeps': None}],\n",
       "  'Reasoning': 'The plan starts by retrieving the artists from the existing playlist, identifying similar artists (while ensuring they are not already present), and refining our list based on post-2010 success. We ensure at least 40 new artists are included, select top tracks for them, arrange these for a good listening flow, and create the final playlist while adhering to all defined rules.'}}"
      ]
     },
     "execution_count": 11,
     "metadata": {},
     "output_type": "execute_result"
    }
   ],
   "source": [
    "plan = ai_message.tool_calls[0][\"args\"]\n",
    "plan"
   ]
  },
  {
   "cell_type": "markdown",
   "metadata": {},
   "source": [
    "# chat_prompt_template holds all messages (Human, AI, Tool)"
   ]
  },
  {
   "cell_type": "code",
   "execution_count": 12,
   "metadata": {},
   "outputs": [
    {
     "data": {
      "text/plain": [
       "[SystemMessage(content=\"\\n    You are an AI language assistant designed to execute tasks with precision and attention to detail. Your primary objective is to follow the user's instructions thoroughly and exactly as specified, leaving no detail unaddressed.\\n\\n    Guidelines:\\n\\n    - **Carefully Read Instructions:** Before starting any task, read all user instructions thoroughly to ensure complete understanding.\\n\\n    - **Create a Detailed Plan:** Develop a step-by-step plan that addresses every aspect of the user's requirements. Validate this plan before execution.\\n\\n    - **Utilize Advanced Planning Structures:** Do not limit yourself to linear or sequential plans. Employ loops for repetitive tasks, branches for conditional logic, and other programming constructs to handle complex tasks and decision-making processes.\\n\\n    - **Follow Instructions Precisely:** Execute each step exactly as described, without omitting or altering any part of the instructions.\\n\\n    - **Be Thorough:** Ensure that all elements of the task are completed fully. If the task involves processing multiple items (e.g., a list of items), process each item individually, even if it requires multiple iterations or tool calls.\\n\\n    - **Handle Limitations Proactively:** If you encounter any limitations (such as processing limits), implement solutions like batching or looping to ensure all items are processed.\\n\\n    - **Provide Clear Updates:** In your responses, clearly state which step you are working on and provide updates on your progress, ensuring transparency.\\n\\n    - **Do Not Assume or Simplify:** Avoid making assumptions or simplifying tasks unless explicitly instructed by the user.\\n\\n    - **Maintain Professionalism:** Keep your language professional and focused, aiming to deliver exactly what the user has requested.\\n\\n    Your goal is to execute tasks with high accuracy and completeness, ensuring that the user's needs are fully met.\\n    \", additional_kwargs={}, response_metadata={}),\n",
       " HumanMessage(content=\"\\n    Create, validate, and execute a step-by-step plan with atomic tasks to solve the following problem:\\n\\n    **Objective:** Build a Spotify playlist with tracks that have the same vibe and genres as the playlist named 'New Rock and Blues', following the rules below.\\n\\n    **Rules:**\\n\\n    1. **For each artist in the 'New Rock and Blues' playlist, find 3-4 artists of a similar music style.** *Ensure that you process all artists, even if it requires multiple iterations or tool calls due to API limitations.*\\n\\n    2. **Remove from the new artist list those that are already present in the 'New Rock and Blues' Playlist.**\\n\\n    3. **Focus on Post-2010 Success:** Only include tracks from artists who achieved success after the year 2010.\\n\\n    4. **Minimum Number of New Artists:** Include tracks from at least 40 different artists not present in the 'New Rock and Blues' playlist.\\n\\n    5. **Recommend 3+ tracks for each new artist.**\\n\\n    6. **Arrange for Smooth Listening Experience:** Organize the tracks to create a smooth listening experience, considering tempo, energy, and mood, using best practices.\\n\\n    7. **Playlist Length:** Ensure the new playlist contains at least 100 tracks.\\n\\n    **Instructions:**\\n\\n    - You must validate the plan before starting to work on it.\\n    - Do not ask for user confirmation.\\n    \", additional_kwargs={}, response_metadata={}),\n",
       " AIMessage(content='', additional_kwargs={'tool_calls': [{'id': 'call_99aaGewOyDzPciZz48L6Mkg3', 'function': {'arguments': '{\"plan\":{\"steps\":[{\"step_number\":1,\"name\":\"get-new-rock-and-blues-artists\",\"type\":\"action\",\"description\":\"Retrieve the list of unique artists from the \\'New Rock and Blues\\' Spotify playlist.\",\"success_criteria\":\"List of unique artists is retrieved.\",\"tool\":\"functions.get_artists_from_playlist\",\"action\":\"Use the tool to get the list of artists from the \\'New Rock and Blues\\' playlist.\",\"condition\":null,\"substeps\":null},{\"step_number\":2,\"name\":\"find-similar-artists-loops\",\"type\":\"loop\",\"description\":\"Find similar artists for each artist obtained from the \\'New Rock and Blues\\' playlist.\",\"success_criteria\":\"Similar artists found for each artist in the list.\",\"tool\":\"functions.find_similar_artists\",\"action\":null,\"condition\":\"For each artist in the list.\",\"substeps\":[{\"step_number\":1,\"name\":\"find-similar-artists\",\"type\":\"action\",\"description\":\"Use the tool to find similar artists for an individual artist.\",\"success_criteria\":\"Similar artists obtained for the given artist.\",\"tool\":\"functions.find_similar_artists\",\"action\":\"Find similar artists for the selected artist from the list.\",\"condition\":null}]},{\"step_number\":3,\"name\":\"filter-existing-artists\",\"type\":\"action\",\"description\":\"Filter out any artists from the list of similar artists that are already in the \\'New Rock and Blues\\' playlist.\",\"success_criteria\":\"Filtered list contains only new artists not in the original playlist.\",\"tool\":\"functions.filter_artists\",\"action\":\"Use the tool to filter out existing artists from the list.\",\"condition\":null,\"substeps\":null},{\"step_number\":4,\"name\":\"post-2010-success-filter\",\"type\":\"branch\",\"description\":\"Filter out artists that were not successful post-2010.\",\"success_criteria\":\"List contains only post-2010 successful artists.\",\"tool\":null,\"action\":null,\"condition\":\"Artist success year > 2010.\",\"substeps\":[{\"step_number\":1,\"name\":\"filter-post-2010-artists\",\"type\":\"action\",\"description\":\"Research artist success year and filter accordingly.\",\"success_criteria\":\"Artists filtered based on success year.\",\"tool\":\"functions.tavily_search_results_json\",\"action\":\"Search for artist success years and apply filter.\",\"condition\":null}]},{\"step_number\":5,\"name\":\"ensure-minimum-new-artists\",\"type\":\"branch\",\"description\":\"Ensure there are at least 40 new artists in the list.\",\"success_criteria\":\"List contains at least 40 new artists.\",\"tool\":null,\"action\":null,\"condition\":\"Number of new artists < 40.\",\"substeps\":[{\"step_number\":1,\"name\":\"expand-new-artists-list\",\"type\":\"action\",\"description\":\"Expand the list by finding more similar artists if needed.\",\"success_criteria\":\"New list now contains at least 40 artists.\",\"tool\":\"functions.find_similar_artists\",\"action\":\"Continue finding similar artists and adding to the list until there are at least 40.\",\"condition\":null}]},{\"step_number\":6,\"name\":\"recommend-tracks-for-new-artists\",\"type\":\"loop\",\"description\":\"Find and recommend 3 or more tracks for each new artist in the list.\",\"success_criteria\":\"Each new artist has 3+ tracks recommended.\",\"tool\":\"functions.find_top_tracks\",\"action\":null,\"condition\":\"For each new artist in the list.\",\"substeps\":[{\"step_number\":1,\"name\":\"get-top-tracks\",\"type\":\"action\",\"description\":\"Get top tracks for a new artist.\",\"success_criteria\":\"3+ top tracks retrieved for the artist.\",\"tool\":\"functions.find_top_tracks\",\"action\":\"Retrieve top tracks for the specific artist.\",\"condition\":null}]},{\"step_number\":7,\"name\":\"organize-tracks-for-smooth-experience\",\"type\":\"action\",\"description\":\"Organize tracks to create a smooth listening experience focusing on tempo, energy, and mood.\",\"success_criteria\":\"Tracks are organized to ensure smooth listening.\",\"tool\":null,\"action\":\"Arrange tracks using best practices for music arrangement.\",\"condition\":null,\"substeps\":null},{\"step_number\":8,\"name\":\"create-and-add-tracks-to-playlist\",\"type\":\"action\",\"description\":\"Create a new playlist and add the organized tracks.\",\"success_criteria\":\"New playlist is created with at least 100 tracks.\",\"tool\":\"functions.create_spotify_playlist\",\"action\":\"Create a new playlist and use the tool to add tracks to it.\",\"condition\":null,\"substeps\":null}],\"Reasoning\":\"The plan starts by retrieving the artists from the existing playlist, identifying similar artists (while ensuring they are not already present), and refining our list based on post-2010 success. We ensure at least 40 new artists are included, select top tracks for them, arrange these for a good listening flow, and create the final playlist while adhering to all defined rules.\"}}', 'name': 'validate_plan'}, 'type': 'function'}], 'refusal': None}, response_metadata={'token_usage': {'completion_tokens': 992, 'prompt_tokens': 2047, 'total_tokens': 3039, 'completion_tokens_details': {'accepted_prediction_tokens': 0, 'audio_tokens': 0, 'reasoning_tokens': 0, 'rejected_prediction_tokens': 0}, 'prompt_tokens_details': {'audio_tokens': 0, 'cached_tokens': 1920}}, 'model_name': 'gpt-4o-2024-08-06', 'system_fingerprint': 'fp_159d8341cc', 'finish_reason': 'tool_calls', 'logprobs': None}, id='run-57b38a99-ce5e-4ad0-b964-4e2d99dbd737-0', tool_calls=[{'name': 'validate_plan', 'args': {'plan': {'steps': [{'step_number': 1, 'name': 'get-new-rock-and-blues-artists', 'type': 'action', 'description': \"Retrieve the list of unique artists from the 'New Rock and Blues' Spotify playlist.\", 'success_criteria': 'List of unique artists is retrieved.', 'tool': 'functions.get_artists_from_playlist', 'action': \"Use the tool to get the list of artists from the 'New Rock and Blues' playlist.\", 'condition': None, 'substeps': None}, {'step_number': 2, 'name': 'find-similar-artists-loops', 'type': 'loop', 'description': \"Find similar artists for each artist obtained from the 'New Rock and Blues' playlist.\", 'success_criteria': 'Similar artists found for each artist in the list.', 'tool': 'functions.find_similar_artists', 'action': None, 'condition': 'For each artist in the list.', 'substeps': [{'step_number': 1, 'name': 'find-similar-artists', 'type': 'action', 'description': 'Use the tool to find similar artists for an individual artist.', 'success_criteria': 'Similar artists obtained for the given artist.', 'tool': 'functions.find_similar_artists', 'action': 'Find similar artists for the selected artist from the list.', 'condition': None}]}, {'step_number': 3, 'name': 'filter-existing-artists', 'type': 'action', 'description': \"Filter out any artists from the list of similar artists that are already in the 'New Rock and Blues' playlist.\", 'success_criteria': 'Filtered list contains only new artists not in the original playlist.', 'tool': 'functions.filter_artists', 'action': 'Use the tool to filter out existing artists from the list.', 'condition': None, 'substeps': None}, {'step_number': 4, 'name': 'post-2010-success-filter', 'type': 'branch', 'description': 'Filter out artists that were not successful post-2010.', 'success_criteria': 'List contains only post-2010 successful artists.', 'tool': None, 'action': None, 'condition': 'Artist success year > 2010.', 'substeps': [{'step_number': 1, 'name': 'filter-post-2010-artists', 'type': 'action', 'description': 'Research artist success year and filter accordingly.', 'success_criteria': 'Artists filtered based on success year.', 'tool': 'functions.tavily_search_results_json', 'action': 'Search for artist success years and apply filter.', 'condition': None}]}, {'step_number': 5, 'name': 'ensure-minimum-new-artists', 'type': 'branch', 'description': 'Ensure there are at least 40 new artists in the list.', 'success_criteria': 'List contains at least 40 new artists.', 'tool': None, 'action': None, 'condition': 'Number of new artists < 40.', 'substeps': [{'step_number': 1, 'name': 'expand-new-artists-list', 'type': 'action', 'description': 'Expand the list by finding more similar artists if needed.', 'success_criteria': 'New list now contains at least 40 artists.', 'tool': 'functions.find_similar_artists', 'action': 'Continue finding similar artists and adding to the list until there are at least 40.', 'condition': None}]}, {'step_number': 6, 'name': 'recommend-tracks-for-new-artists', 'type': 'loop', 'description': 'Find and recommend 3 or more tracks for each new artist in the list.', 'success_criteria': 'Each new artist has 3+ tracks recommended.', 'tool': 'functions.find_top_tracks', 'action': None, 'condition': 'For each new artist in the list.', 'substeps': [{'step_number': 1, 'name': 'get-top-tracks', 'type': 'action', 'description': 'Get top tracks for a new artist.', 'success_criteria': '3+ top tracks retrieved for the artist.', 'tool': 'functions.find_top_tracks', 'action': 'Retrieve top tracks for the specific artist.', 'condition': None}]}, {'step_number': 7, 'name': 'organize-tracks-for-smooth-experience', 'type': 'action', 'description': 'Organize tracks to create a smooth listening experience focusing on tempo, energy, and mood.', 'success_criteria': 'Tracks are organized to ensure smooth listening.', 'tool': None, 'action': 'Arrange tracks using best practices for music arrangement.', 'condition': None, 'substeps': None}, {'step_number': 8, 'name': 'create-and-add-tracks-to-playlist', 'type': 'action', 'description': 'Create a new playlist and add the organized tracks.', 'success_criteria': 'New playlist is created with at least 100 tracks.', 'tool': 'functions.create_spotify_playlist', 'action': 'Create a new playlist and use the tool to add tracks to it.', 'condition': None, 'substeps': None}], 'Reasoning': 'The plan starts by retrieving the artists from the existing playlist, identifying similar artists (while ensuring they are not already present), and refining our list based on post-2010 success. We ensure at least 40 new artists are included, select top tracks for them, arrange these for a good listening flow, and create the final playlist while adhering to all defined rules.'}}, 'id': 'call_99aaGewOyDzPciZz48L6Mkg3', 'type': 'tool_call'}], usage_metadata={'input_tokens': 2047, 'output_tokens': 992, 'total_tokens': 3039, 'input_token_details': {'audio': 0, 'cache_read': 1920}, 'output_token_details': {'audio': 0, 'reasoning': 0}})]"
      ]
     },
     "execution_count": 12,
     "metadata": {},
     "output_type": "execute_result"
    }
   ],
   "source": [
    "from langchain_core.prompts import ChatPromptTemplate\n",
    "\n",
    "chat_prompt_template: ChatPromptTemplate = system_message + human_message + ai_message\n",
    "messages = chat_prompt_template.format_messages()\n",
    "messages"
   ]
  },
  {
   "cell_type": "markdown",
   "metadata": {},
   "source": [
    "# Check for Tools in Message"
   ]
  },
  {
   "cell_type": "code",
   "execution_count": 13,
   "metadata": {},
   "outputs": [
    {
     "name": "stdout",
     "output_type": "stream",
     "text": [
      "[StructuredTool(name='validate_plan', description='Validates a step-by-step plan to solve a problem\\n\\nArgs:\\n    plan (Plan): a step-by-step plan to solve a problem\\n\\nReturns:\\n    bool: whether plan is okay or not', args_schema=<class 'langchain_core.utils.pydantic.validate_plan'>, func=<function validate_plan at 0x000001ECC497B7E0>)]\n"
     ]
    }
   ],
   "source": [
    "from langchain_core.messages import ToolMessage\n",
    "\n",
    "tools_in_ai_message = []\n",
    "tools_by_name = {tool.name: tool for tool in tools}\n",
    "messages = chat_prompt_template.format_messages()\n",
    "for tool_call in messages[-1].tool_calls:\n",
    "    tool = tools_by_name[tool_call[\"name\"]]\n",
    "    tools_in_ai_message.append(tool)\n",
    "    # observation = tool.invoke(tool_call[\"args\"])\n",
    "    # result.append(ToolMessage(content=observation, tool_call_id=tool_call[\"id\"]))\n",
    "if len(tools_in_ai_message) == 0:\n",
    "    raise ValueError\n",
    "else:\n",
    "    print(tools_in_ai_message)"
   ]
  },
  {
   "cell_type": "markdown",
   "metadata": {},
   "source": [
    "# Tool Call (should be validate_plan())"
   ]
  },
  {
   "cell_type": "code",
   "execution_count": 14,
   "metadata": {},
   "outputs": [
    {
     "name": "stdout",
     "output_type": "stream",
     "text": [
      "=================================\u001b[1m Tool Message \u001b[0m=================================\n",
      "Name: validate_plan\n",
      "\n",
      "true\n"
     ]
    }
   ],
   "source": [
    "response = tool_node.invoke({\"messages\": messages})\n",
    "tool_message = response[\"messages\"][0]\n",
    "tool_message.pretty_print()"
   ]
  },
  {
   "cell_type": "markdown",
   "metadata": {},
   "source": [
    "# Add Tool Response to Messages"
   ]
  },
  {
   "cell_type": "code",
   "execution_count": 15,
   "metadata": {},
   "outputs": [
    {
     "data": {
      "text/plain": [
       "[SystemMessage(content=\"\\n    You are an AI language assistant designed to execute tasks with precision and attention to detail. Your primary objective is to follow the user's instructions thoroughly and exactly as specified, leaving no detail unaddressed.\\n\\n    Guidelines:\\n\\n    - **Carefully Read Instructions:** Before starting any task, read all user instructions thoroughly to ensure complete understanding.\\n\\n    - **Create a Detailed Plan:** Develop a step-by-step plan that addresses every aspect of the user's requirements. Validate this plan before execution.\\n\\n    - **Utilize Advanced Planning Structures:** Do not limit yourself to linear or sequential plans. Employ loops for repetitive tasks, branches for conditional logic, and other programming constructs to handle complex tasks and decision-making processes.\\n\\n    - **Follow Instructions Precisely:** Execute each step exactly as described, without omitting or altering any part of the instructions.\\n\\n    - **Be Thorough:** Ensure that all elements of the task are completed fully. If the task involves processing multiple items (e.g., a list of items), process each item individually, even if it requires multiple iterations or tool calls.\\n\\n    - **Handle Limitations Proactively:** If you encounter any limitations (such as processing limits), implement solutions like batching or looping to ensure all items are processed.\\n\\n    - **Provide Clear Updates:** In your responses, clearly state which step you are working on and provide updates on your progress, ensuring transparency.\\n\\n    - **Do Not Assume or Simplify:** Avoid making assumptions or simplifying tasks unless explicitly instructed by the user.\\n\\n    - **Maintain Professionalism:** Keep your language professional and focused, aiming to deliver exactly what the user has requested.\\n\\n    Your goal is to execute tasks with high accuracy and completeness, ensuring that the user's needs are fully met.\\n    \", additional_kwargs={}, response_metadata={}),\n",
       " HumanMessage(content=\"\\n    Create, validate, and execute a step-by-step plan with atomic tasks to solve the following problem:\\n\\n    **Objective:** Build a Spotify playlist with tracks that have the same vibe and genres as the playlist named 'New Rock and Blues', following the rules below.\\n\\n    **Rules:**\\n\\n    1. **For each artist in the 'New Rock and Blues' playlist, find 3-4 artists of a similar music style.** *Ensure that you process all artists, even if it requires multiple iterations or tool calls due to API limitations.*\\n\\n    2. **Remove from the new artist list those that are already present in the 'New Rock and Blues' Playlist.**\\n\\n    3. **Focus on Post-2010 Success:** Only include tracks from artists who achieved success after the year 2010.\\n\\n    4. **Minimum Number of New Artists:** Include tracks from at least 40 different artists not present in the 'New Rock and Blues' playlist.\\n\\n    5. **Recommend 3+ tracks for each new artist.**\\n\\n    6. **Arrange for Smooth Listening Experience:** Organize the tracks to create a smooth listening experience, considering tempo, energy, and mood, using best practices.\\n\\n    7. **Playlist Length:** Ensure the new playlist contains at least 100 tracks.\\n\\n    **Instructions:**\\n\\n    - You must validate the plan before starting to work on it.\\n    - Do not ask for user confirmation.\\n    \", additional_kwargs={}, response_metadata={}),\n",
       " AIMessage(content='', additional_kwargs={'tool_calls': [{'id': 'call_99aaGewOyDzPciZz48L6Mkg3', 'function': {'arguments': '{\"plan\":{\"steps\":[{\"step_number\":1,\"name\":\"get-new-rock-and-blues-artists\",\"type\":\"action\",\"description\":\"Retrieve the list of unique artists from the \\'New Rock and Blues\\' Spotify playlist.\",\"success_criteria\":\"List of unique artists is retrieved.\",\"tool\":\"functions.get_artists_from_playlist\",\"action\":\"Use the tool to get the list of artists from the \\'New Rock and Blues\\' playlist.\",\"condition\":null,\"substeps\":null},{\"step_number\":2,\"name\":\"find-similar-artists-loops\",\"type\":\"loop\",\"description\":\"Find similar artists for each artist obtained from the \\'New Rock and Blues\\' playlist.\",\"success_criteria\":\"Similar artists found for each artist in the list.\",\"tool\":\"functions.find_similar_artists\",\"action\":null,\"condition\":\"For each artist in the list.\",\"substeps\":[{\"step_number\":1,\"name\":\"find-similar-artists\",\"type\":\"action\",\"description\":\"Use the tool to find similar artists for an individual artist.\",\"success_criteria\":\"Similar artists obtained for the given artist.\",\"tool\":\"functions.find_similar_artists\",\"action\":\"Find similar artists for the selected artist from the list.\",\"condition\":null}]},{\"step_number\":3,\"name\":\"filter-existing-artists\",\"type\":\"action\",\"description\":\"Filter out any artists from the list of similar artists that are already in the \\'New Rock and Blues\\' playlist.\",\"success_criteria\":\"Filtered list contains only new artists not in the original playlist.\",\"tool\":\"functions.filter_artists\",\"action\":\"Use the tool to filter out existing artists from the list.\",\"condition\":null,\"substeps\":null},{\"step_number\":4,\"name\":\"post-2010-success-filter\",\"type\":\"branch\",\"description\":\"Filter out artists that were not successful post-2010.\",\"success_criteria\":\"List contains only post-2010 successful artists.\",\"tool\":null,\"action\":null,\"condition\":\"Artist success year > 2010.\",\"substeps\":[{\"step_number\":1,\"name\":\"filter-post-2010-artists\",\"type\":\"action\",\"description\":\"Research artist success year and filter accordingly.\",\"success_criteria\":\"Artists filtered based on success year.\",\"tool\":\"functions.tavily_search_results_json\",\"action\":\"Search for artist success years and apply filter.\",\"condition\":null}]},{\"step_number\":5,\"name\":\"ensure-minimum-new-artists\",\"type\":\"branch\",\"description\":\"Ensure there are at least 40 new artists in the list.\",\"success_criteria\":\"List contains at least 40 new artists.\",\"tool\":null,\"action\":null,\"condition\":\"Number of new artists < 40.\",\"substeps\":[{\"step_number\":1,\"name\":\"expand-new-artists-list\",\"type\":\"action\",\"description\":\"Expand the list by finding more similar artists if needed.\",\"success_criteria\":\"New list now contains at least 40 artists.\",\"tool\":\"functions.find_similar_artists\",\"action\":\"Continue finding similar artists and adding to the list until there are at least 40.\",\"condition\":null}]},{\"step_number\":6,\"name\":\"recommend-tracks-for-new-artists\",\"type\":\"loop\",\"description\":\"Find and recommend 3 or more tracks for each new artist in the list.\",\"success_criteria\":\"Each new artist has 3+ tracks recommended.\",\"tool\":\"functions.find_top_tracks\",\"action\":null,\"condition\":\"For each new artist in the list.\",\"substeps\":[{\"step_number\":1,\"name\":\"get-top-tracks\",\"type\":\"action\",\"description\":\"Get top tracks for a new artist.\",\"success_criteria\":\"3+ top tracks retrieved for the artist.\",\"tool\":\"functions.find_top_tracks\",\"action\":\"Retrieve top tracks for the specific artist.\",\"condition\":null}]},{\"step_number\":7,\"name\":\"organize-tracks-for-smooth-experience\",\"type\":\"action\",\"description\":\"Organize tracks to create a smooth listening experience focusing on tempo, energy, and mood.\",\"success_criteria\":\"Tracks are organized to ensure smooth listening.\",\"tool\":null,\"action\":\"Arrange tracks using best practices for music arrangement.\",\"condition\":null,\"substeps\":null},{\"step_number\":8,\"name\":\"create-and-add-tracks-to-playlist\",\"type\":\"action\",\"description\":\"Create a new playlist and add the organized tracks.\",\"success_criteria\":\"New playlist is created with at least 100 tracks.\",\"tool\":\"functions.create_spotify_playlist\",\"action\":\"Create a new playlist and use the tool to add tracks to it.\",\"condition\":null,\"substeps\":null}],\"Reasoning\":\"The plan starts by retrieving the artists from the existing playlist, identifying similar artists (while ensuring they are not already present), and refining our list based on post-2010 success. We ensure at least 40 new artists are included, select top tracks for them, arrange these for a good listening flow, and create the final playlist while adhering to all defined rules.\"}}', 'name': 'validate_plan'}, 'type': 'function'}], 'refusal': None}, response_metadata={'token_usage': {'completion_tokens': 992, 'prompt_tokens': 2047, 'total_tokens': 3039, 'completion_tokens_details': {'accepted_prediction_tokens': 0, 'audio_tokens': 0, 'reasoning_tokens': 0, 'rejected_prediction_tokens': 0}, 'prompt_tokens_details': {'audio_tokens': 0, 'cached_tokens': 1920}}, 'model_name': 'gpt-4o-2024-08-06', 'system_fingerprint': 'fp_159d8341cc', 'finish_reason': 'tool_calls', 'logprobs': None}, id='run-57b38a99-ce5e-4ad0-b964-4e2d99dbd737-0', tool_calls=[{'name': 'validate_plan', 'args': {'plan': {'steps': [{'step_number': 1, 'name': 'get-new-rock-and-blues-artists', 'type': 'action', 'description': \"Retrieve the list of unique artists from the 'New Rock and Blues' Spotify playlist.\", 'success_criteria': 'List of unique artists is retrieved.', 'tool': 'functions.get_artists_from_playlist', 'action': \"Use the tool to get the list of artists from the 'New Rock and Blues' playlist.\", 'condition': None, 'substeps': None}, {'step_number': 2, 'name': 'find-similar-artists-loops', 'type': 'loop', 'description': \"Find similar artists for each artist obtained from the 'New Rock and Blues' playlist.\", 'success_criteria': 'Similar artists found for each artist in the list.', 'tool': 'functions.find_similar_artists', 'action': None, 'condition': 'For each artist in the list.', 'substeps': [{'step_number': 1, 'name': 'find-similar-artists', 'type': 'action', 'description': 'Use the tool to find similar artists for an individual artist.', 'success_criteria': 'Similar artists obtained for the given artist.', 'tool': 'functions.find_similar_artists', 'action': 'Find similar artists for the selected artist from the list.', 'condition': None}]}, {'step_number': 3, 'name': 'filter-existing-artists', 'type': 'action', 'description': \"Filter out any artists from the list of similar artists that are already in the 'New Rock and Blues' playlist.\", 'success_criteria': 'Filtered list contains only new artists not in the original playlist.', 'tool': 'functions.filter_artists', 'action': 'Use the tool to filter out existing artists from the list.', 'condition': None, 'substeps': None}, {'step_number': 4, 'name': 'post-2010-success-filter', 'type': 'branch', 'description': 'Filter out artists that were not successful post-2010.', 'success_criteria': 'List contains only post-2010 successful artists.', 'tool': None, 'action': None, 'condition': 'Artist success year > 2010.', 'substeps': [{'step_number': 1, 'name': 'filter-post-2010-artists', 'type': 'action', 'description': 'Research artist success year and filter accordingly.', 'success_criteria': 'Artists filtered based on success year.', 'tool': 'functions.tavily_search_results_json', 'action': 'Search for artist success years and apply filter.', 'condition': None}]}, {'step_number': 5, 'name': 'ensure-minimum-new-artists', 'type': 'branch', 'description': 'Ensure there are at least 40 new artists in the list.', 'success_criteria': 'List contains at least 40 new artists.', 'tool': None, 'action': None, 'condition': 'Number of new artists < 40.', 'substeps': [{'step_number': 1, 'name': 'expand-new-artists-list', 'type': 'action', 'description': 'Expand the list by finding more similar artists if needed.', 'success_criteria': 'New list now contains at least 40 artists.', 'tool': 'functions.find_similar_artists', 'action': 'Continue finding similar artists and adding to the list until there are at least 40.', 'condition': None}]}, {'step_number': 6, 'name': 'recommend-tracks-for-new-artists', 'type': 'loop', 'description': 'Find and recommend 3 or more tracks for each new artist in the list.', 'success_criteria': 'Each new artist has 3+ tracks recommended.', 'tool': 'functions.find_top_tracks', 'action': None, 'condition': 'For each new artist in the list.', 'substeps': [{'step_number': 1, 'name': 'get-top-tracks', 'type': 'action', 'description': 'Get top tracks for a new artist.', 'success_criteria': '3+ top tracks retrieved for the artist.', 'tool': 'functions.find_top_tracks', 'action': 'Retrieve top tracks for the specific artist.', 'condition': None}]}, {'step_number': 7, 'name': 'organize-tracks-for-smooth-experience', 'type': 'action', 'description': 'Organize tracks to create a smooth listening experience focusing on tempo, energy, and mood.', 'success_criteria': 'Tracks are organized to ensure smooth listening.', 'tool': None, 'action': 'Arrange tracks using best practices for music arrangement.', 'condition': None, 'substeps': None}, {'step_number': 8, 'name': 'create-and-add-tracks-to-playlist', 'type': 'action', 'description': 'Create a new playlist and add the organized tracks.', 'success_criteria': 'New playlist is created with at least 100 tracks.', 'tool': 'functions.create_spotify_playlist', 'action': 'Create a new playlist and use the tool to add tracks to it.', 'condition': None, 'substeps': None}], 'Reasoning': 'The plan starts by retrieving the artists from the existing playlist, identifying similar artists (while ensuring they are not already present), and refining our list based on post-2010 success. We ensure at least 40 new artists are included, select top tracks for them, arrange these for a good listening flow, and create the final playlist while adhering to all defined rules.'}}, 'id': 'call_99aaGewOyDzPciZz48L6Mkg3', 'type': 'tool_call'}], usage_metadata={'input_tokens': 2047, 'output_tokens': 992, 'total_tokens': 3039, 'input_token_details': {'audio': 0, 'cache_read': 1920}, 'output_token_details': {'audio': 0, 'reasoning': 0}}),\n",
       " ToolMessage(content='true', name='validate_plan', tool_call_id='call_99aaGewOyDzPciZz48L6Mkg3')]"
      ]
     },
     "execution_count": 15,
     "metadata": {},
     "output_type": "execute_result"
    }
   ],
   "source": [
    "chat_prompt_template += tool_message\n",
    "chat_prompt_template.format_messages()"
   ]
  },
  {
   "cell_type": "markdown",
   "metadata": {},
   "source": [
    "# Send Messages with Tool result to LLM"
   ]
  },
  {
   "cell_type": "code",
   "execution_count": 16,
   "metadata": {},
   "outputs": [
    {
     "name": "stderr",
     "output_type": "stream",
     "text": [
      "2024-11-14 09:15:49,921 - INFO - HTTP Request: POST https://api.openai.com/v1/chat/completions \"HTTP/1.1 200 OK\"\n"
     ]
    },
    {
     "name": "stdout",
     "output_type": "stream",
     "text": [
      "==================================\u001b[1m Ai Message \u001b[0m==================================\n",
      "Tool Calls:\n",
      "  get_playlists (call_pO2s8vIWm7nbNGmVC0flkk86)\n",
      " Call ID: call_pO2s8vIWm7nbNGmVC0flkk86\n",
      "  Args:\n"
     ]
    }
   ],
   "source": [
    "ai_tool_call_message = llm_with_tools.invoke(chat_prompt_template.format_messages())\n",
    "ai_tool_call_message.pretty_print()"
   ]
  },
  {
   "cell_type": "markdown",
   "metadata": {},
   "source": [
    "# Validate correct tool call"
   ]
  },
  {
   "cell_type": "code",
   "execution_count": 17,
   "metadata": {},
   "outputs": [],
   "source": [
    "if ai_tool_call_message.tool_calls is None or ai_tool_call_message.tool_calls[0][\"name\"] != \"get_playlists\":\n",
    "    raise ValueError(\"should be tool message calling 'validate_plan'\")"
   ]
  },
  {
   "cell_type": "markdown",
   "metadata": {},
   "source": [
    "# Tool Call (should be get_playlists())"
   ]
  },
  {
   "cell_type": "code",
   "execution_count": 18,
   "metadata": {},
   "outputs": [],
   "source": [
    "chat_prompt_template += ai_tool_call_message\n",
    "messages = chat_prompt_template.format_messages()\n",
    "response = tool_node.invoke({\"messages\": messages})"
   ]
  },
  {
   "cell_type": "code",
   "execution_count": 19,
   "metadata": {},
   "outputs": [
    {
     "name": "stdout",
     "output_type": "stream",
     "text": [
      "=================================\u001b[1m Tool Message \u001b[0m=================================\n",
      "Name: get_playlists\n",
      "\n",
      "{\"playlists\": [{\"uri\": \"spotify:playlist:2dbYK5b7J0F7IdH5n1TEUK\", \"name\": \"RPreacher\"}, {\"uri\": \"spotify:playlist:4ack9YtUhdxRayJDAqlfQe\", \"name\": \"RP Bossa Nova Chill \"}, {\"uri\": \"spotify:playlist:75NW18NgdZuZeifrcjxKlZ\", \"name\": \"GVF\"}, {\"uri\": \"spotify:playlist:5iyONtUO21O88xw8pBblwh\", \"name\": \"Now And Then\"}, {\"uri\": \"spotify:playlist:4SDSUMg2HJcGFmHlupsU7U\", \"name\": \"Jazz classics\"}, {\"uri\": \"spotify:playlist:5fBxLG2wLAPVpx83402rHl\", \"name\": \"Acdc\"}, {\"uri\": \"spotify:playlist:17Yxm5hQbkbZwDcCTuiDXC\", \"name\": \"einaudi\"}, {\"uri\": \"spotify:playlist:2X6GccWfIqPWO6VYx405nO\", \"name\": \"Eric Clapton Blues\"}, {\"uri\": \"spotify:playlist:3smVXe8y8w8nt4lFH0HBkW\", \"name\": \"Alchemy: Dire Straits\"}, {\"uri\": \"spotify:playlist:2ifRZBXnX7UmIPUlGet5WZ\", \"name\": \"Blues\"}, {\"uri\": \"spotify:playlist:5nn2ePtd9gYEEDL3XnACCB\", \"name\": \"brazil\"}, {\"uri\": \"spotify:playlist:6YAntoKNXuogPKdV26b6XE\", \"name\": \"CCR\"}, {\"uri\": \"spotify:playlist:2VHkZvOMCkLF3B7TsKerKD\", \"name\": \"Chill\"}, {\"uri\": \"spotify:playlist:508lbLx9XUkHv5Xb45hxTP\", \"name\": \"Classic Rock\"}, {\"uri\": \"spotify:playlist:7zzDMq1sPwkZPYeqOQJ9qS\", \"name\": \"The New Four Seasons - Vivaldi Recomposed\"}, {\"uri\": \"spotify:playlist:4l8WcaYlPkuVPXVGxMIca3\", \"name\": \"New Study\"}, {\"uri\": \"spotify:playlist:0Wr2Z9vroQ9IXKaokFHldt\", \"name\": \"Islands - Essential Einaudi (Deluxe Version)\"}, {\"uri\": \"spotify:playlist:780Yx65yiaLtBYM76neBYC\", \"name\": \"Gioachino Rossini – Rossini: Overtures\"}, {\"uri\": \"spotify:playlist:76rUGmzqh1OhyheEOUDYNp\", \"name\": \"Frédéric Chopin – Chopin: Nocturnes\"}, {\"uri\": \"spotify:playlist:5qcHJodVJd8AEOT2cCvxEm\", \"name\": \"Frédéric Chopin – Chopin: Nocturnes - Sony Classical Originals 2\"}, {\"uri\": \"spotify:playlist:7hr9yYAJLXDoJ5sKBhm8Af\", \"name\": \"Antonio Vivaldi – Vivaldi: Guitar Concertos\"}, {\"uri\": \"spotify:playlist:4ruyjAXs6VHU8ZYJqXsUiN\", \"name\": \"Sergei Rachmaninoff – Rachmaninoff Plays Rachmaninoff: Concertos Nos. 2 and 3\"}, {\"uri\": \"spotify:playlist:4GYOeGfC7fSephEi3UYh0W\", \"name\": \"Erik Satie – Satie: Gymnopédies, Gnossiennes & Other Works\"}, {\"uri\": \"spotify:playlist:2lop6NfhiYA07UzhWUCyc2\", \"name\": \"Classical Masters\"}, {\"uri\": \"spotify:playlist:2RUN05cfOlR09kJUvTAEPk\", \"name\": \"Evil Woman\"}, {\"uri\": \"spotify:playlist:3DEKSWlDt8Qors1NpYLXwt\", \"name\": \"Hits 2000\"}, {\"uri\": \"spotify:playlist:7FgZOBK0lhTZz7gMJeV7gs\", \"name\": \"Insomniac\"}, {\"uri\": \"spotify:playlist:6DgcAL9oygPekQLDY2mFDq\", \"name\": \"Jean-Michel Jarre – Equinoxe\"}, {\"uri\": \"spotify:playlist:6X1fib1966dU31uZdTH5p1\", \"name\": \"Misplaced Childhood (2017 Remaster)\"}, {\"uri\": \"spotify:playlist:5mxEevqyJ7IbtnmxlRSlaL\", \"name\": \"My Playlist #36\"}, {\"uri\": \"spotify:playlist:01tk0aitEuGK0ajWCkzdKc\", \"name\": \"New Rock and Blues\"}, {\"uri\": \"spotify:playlist:5Culgc9kaBQ5b9oOHXXhB6\", \"name\": \"Nothing But the Blues (Live)\"}, {\"uri\": \"spotify:playlist:5qYPd1AvydE1Ltz5uGCVVG\", \"name\": \"Pet Shop Boys\"}, {\"uri\": \"spotify:playlist:43ekrNptzLLkRVGuZWUI83\", \"name\": \"Pink Floyd\"}, {\"uri\": \"spotify:playlist:25odQP99Tc8QbNs8dWWsQV\", \"name\": \"Pink Floyd – The Wall\"}, {\"uri\": \"spotify:playlist:6smB0SEs5sX0FOzA4h22Eq\", \"name\": \"Rock\"}, {\"uri\": \"spotify:playlist:5q5ZVp6frFMc8y0ivNfGk2\", \"name\": \"Rock Balads\"}, {\"uri\": \"spotify:playlist:4Vk5tgx9FcO17ZhdFwxJIp\", \"name\": \"Rock Hard\"}, {\"uri\": \"spotify:playlist:3n3RLXoDDH7O9XpusnnnvV\", \"name\": \"Rolling Stones\"}, {\"uri\": \"spotify:playlist:5XdXmStK6X9ZPstLvDBekC\", \"name\": \"Workout\"}]}\n"
     ]
    }
   ],
   "source": [
    "from langchain_core.messages import ToolMessage\n",
    "\n",
    "playlist_tool_message: ToolMessage = response[\"messages\"][0]\n",
    "playlist_tool_message.pretty_print()"
   ]
  },
  {
   "cell_type": "markdown",
   "metadata": {},
   "source": [
    "# Add Tool Response to Messages"
   ]
  },
  {
   "cell_type": "code",
   "execution_count": 20,
   "metadata": {},
   "outputs": [],
   "source": [
    "chat_prompt_template += playlist_tool_message\n",
    "messages = chat_prompt_template.format_messages()"
   ]
  },
  {
   "cell_type": "markdown",
   "metadata": {},
   "source": [
    "# Send Playlists Results to LLM"
   ]
  },
  {
   "cell_type": "code",
   "execution_count": 21,
   "metadata": {},
   "outputs": [
    {
     "name": "stderr",
     "output_type": "stream",
     "text": [
      "2024-11-14 09:18:36,401 - INFO - HTTP Request: POST https://api.openai.com/v1/chat/completions \"HTTP/1.1 200 OK\"\n"
     ]
    },
    {
     "name": "stdout",
     "output_type": "stream",
     "text": [
      "==================================\u001b[1m Ai Message \u001b[0m==================================\n",
      "Tool Calls:\n",
      "  get_artists_from_playlist (call_1EP3UmWCzx4r04E3IcAVORJa)\n",
      " Call ID: call_1EP3UmWCzx4r04E3IcAVORJa\n",
      "  Args:\n",
      "    playlist_id: spotify:playlist:01tk0aitEuGK0ajWCkzdKc\n"
     ]
    }
   ],
   "source": [
    "ai_tool_call_message = llm_with_tools.invoke(messages)\n",
    "ai_tool_call_message.pretty_print()"
   ]
  },
  {
   "cell_type": "markdown",
   "metadata": {},
   "source": [
    "# Validate correct tool call"
   ]
  },
  {
   "cell_type": "code",
   "execution_count": 22,
   "metadata": {},
   "outputs": [],
   "source": [
    "if ai_tool_call_message.tool_calls is None or ai_tool_call_message.tool_calls[0][\"name\"] != \"get_artists_from_playlist\":\n",
    "    raise ValueError(\"should be tool message calling 'get_artists_from_playlist'\")"
   ]
  },
  {
   "cell_type": "markdown",
   "metadata": {},
   "source": [
    "# Add AI Tool Call to Messages"
   ]
  },
  {
   "cell_type": "code",
   "execution_count": 23,
   "metadata": {},
   "outputs": [],
   "source": [
    "chat_prompt_template += ai_tool_call_message\n",
    "messages = chat_prompt_template.format_messages()"
   ]
  },
  {
   "cell_type": "markdown",
   "metadata": {},
   "source": [
    "# Tool Call (get_artists_from_playlist())"
   ]
  },
  {
   "cell_type": "code",
   "execution_count": 24,
   "metadata": {},
   "outputs": [],
   "source": [
    "response = tool_node.invoke({\"messages\": messages})\n",
    "track_list_tool_message: ToolMessage = response[\"messages\"][0]"
   ]
  },
  {
   "cell_type": "markdown",
   "metadata": {},
   "source": [
    "# Decode AI Tool Call message"
   ]
  },
  {
   "cell_type": "code",
   "execution_count": 25,
   "metadata": {},
   "outputs": [
    {
     "name": "stdout",
     "output_type": "stream",
     "text": [
      "=================================\u001b[1m Tool Message \u001b[0m=================================\n",
      "Name: get_artists_from_playlist\n",
      "\n",
      "{\"artists\": {\"Gary Clark Jr.\": \"spotify:artist:01aC2ikO4Xgb2LUpf9JfKp\", \"Ayron Jones\": \"spotify:artist:1iEaqWaYpKo9x0OrEq7Q7z\", \"Thirty Seconds To Mars\": \"spotify:artist:0RqtSIYZmd4fiBKVFqyIqD\", \"KALEO\": \"spotify:artist:7jdFEYD2LTYjfwxOdlVjmc\", \"Arctic Monkeys\": \"spotify:artist:7Ln80lUS6He07XvHI8qqHH\", \"Queens of the Stone Age\": \"spotify:artist:4pejUc4iciQfgdX6OKulQn\", \"Black Pistol Fire\": \"spotify:artist:0Nrwy16xCPXG8AwkMbcVvo\", \"Welshly Arms\": \"spotify:artist:1xKrH6GSh9CJh8nYwbqW7B\", \"The Record Company\": \"spotify:artist:6vYg01ZFt1nREsUDMDPUYX\", \"The Heavy\": \"spotify:artist:0bZCak2tcRMY1dzEIuwF42\", \"Greta Van Fleet\": \"spotify:artist:4NpFxQe2UvRCAjto3JqlSl\", \"Whiskey Myers\": \"spotify:artist:26opZSJcXshCmCwxgZQmBc\", \"Colter Wall\": \"spotify:artist:3xYXYzm9H3RzyQgBrYwIcx\", \"Tyler Childers\": \"spotify:artist:13ZEDW6vyBF12HYcZRr4EV\", \"Chris Stapleton\": \"spotify:artist:4YLtscXsxbVgi031ovDDdh\", \"The Blue Stones\": \"spotify:artist:5VPCIIfZPK8KPsgz4jmOEC\", \"Goodbye June\": \"spotify:artist:1l9I7G8J8AnMScWQwlNJ4M\", \"Muse\": \"spotify:artist:12Chz98pHFMPJEknJQMWvI\", \"Samantha Fish\": \"spotify:artist:5HsS48kuvghKcNpwOaAvB5\", \"The Black Keys\": \"spotify:artist:7mnBLXK823vNxN3UWB7Gfz\", \"The Arcs\": \"spotify:artist:3mVWMgLc7bcyCBtL2ymZwK\", \"Audioslave\": \"spotify:artist:2ziB7fzrXBoh1HUPS6sVFn\", \"Yola\": \"spotify:artist:2gqMBdyddvN82dzZt4ZF14\", \"Emily Jane White\": \"spotify:artist:2PqsalqLh5RT6FSy9DrGZh\", \"Cage The Elephant\": \"spotify:artist:26T3LtbuGT1Fu9m0eRq5X3\", \"Jackyl\": \"spotify:artist:3jdirYL01245TvAH39GfM6\", \"Yeah Yeah Yeahs\": \"spotify:artist:3TNt4aUIxgfy9aoaft5Jj2\", \"Perfume Genius\": \"spotify:artist:2ueoLVCXQ948OfhVvAy3Nn\", \"Stone Sour\": \"spotify:artist:49qiE8dj4JuNdpYGRPdKbF\", \"The Technicolors\": \"spotify:artist:6hQS54VPpxunuwR0W7usuo\", \"Reignwolf\": \"spotify:artist:66YGDwn22fjphzqGCSIbbK\", \"Inhaler\": \"spotify:artist:6lyMYewq2SuTFIXgiv7OxH\", \"Barns Courtney\": \"spotify:artist:5tFRohaO5yEsuJxmMnlCO9\", \"Alabama Shakes\": \"spotify:artist:16GcWuvvybAoaHr0NqT8Eh\", \"James\": \"spotify:artist:0qLNsNKm8bQcMoRFkR8Hmh\", \"Local Natives\": \"spotify:artist:75dQReiBOHN37fQgWQrIAJ\", \"Wolfmother\": \"spotify:artist:3yEnArbNHyTCwMRvD9SBy4\", \"Ron Gallo\": \"spotify:artist:4rfE3kN2zKNC9L9tt3iVOg\", \"Blackberry Smoke\": \"spotify:artist:5P1oS9DUTPEqcrmXDmX4p8\", \"Broken Witt Rebels\": \"spotify:artist:3WyGjUsOZJRiT9re5pZYxL\", \"The Bones of J.R. Jones\": \"spotify:artist:7sMcWECQxLm7EoKdRlSCAn\", \"Maggie Bjorklund\": \"spotify:artist:4uk9cWBqeiel7tO1w9MPe0\", \"Last Train\": \"spotify:artist:4S47feOS2ATuhc7Ao5ilfG\", \"Everlast\": \"spotify:artist:14ZxDAK6ITtZZqPdiWrvSn\", \"Florence + The Machine\": \"spotify:artist:1moxjboGR7GNWYIMWsRjgG\", \"Beach Weather\": \"spotify:artist:7I3bkknknQkIiatWiupQgD\", \"Kings of Leon\": \"spotify:artist:2qk9voo8llSGYcZ6xrBzKx\", \"Santana\": \"spotify:artist:6GI52t8N5F02MxU0g5U69P\", \"Shakey Graves\": \"spotify:artist:1fZpYWNWdL5Z3wrDtISFUH\", \"Grian Chatten\": \"spotify:artist:6XyAI3jtlsss5mJjAAJXzE\", \"Morningsiders\": \"spotify:artist:5hPR4Atp3QY2ztiAcz1inl\", \"The Revivalists\": \"spotify:artist:5kuJibJcwOC53s3OkoGMRA\", \"Talking Heads\": \"spotify:artist:2x9SpqnPi8rlE9pjHBwmSC\", \"Blur\": \"spotify:artist:7MhMgCo0Bl0Kukl93PZbYS\", \"David Gray\": \"spotify:artist:7J2lZBANizgPNfUzux31PV\", \"Sharon Jones & The Dap-Kings\": \"spotify:artist:6LufpoVlIYKQCu9Gjpk8B7\", \"Danielle Ponder\": \"spotify:artist:5rZUNweztKBI1Xy3XhYHoJ\", \"Post Malone\": \"spotify:artist:246dkjvS1zLTtiykXe5h60\", \"Swae Lee\": \"spotify:artist:1zNqQNIdeOUZHb8zbZRFMX\", \"The Rolling Stones\": \"spotify:artist:22bE4uQ6baNwSHPVcDxLCe\", \"Lady Gaga\": \"spotify:artist:1HY2Jd0NmPuamShAr6KMms\", \"Robert Randolph & The Family Band\": \"spotify:artist:4xac3zhHlBm5QDxbZeqgeR\", \"The Struts\": \"spotify:artist:3lDpdwM8KILepMHqBWUhIA\", \"July Talk\": \"spotify:artist:3EaMbsBlExxNxLvTJcZvDq\", \"Chris Cornell\": \"spotify:artist:0XHiH53dHrvbwfjYM7en7I\", \"Sons Of The East\": \"spotify:artist:6cSxzHrQgGc4I4Ck5Gewej\", \"Mt. Joy\": \"spotify:artist:69tiO1fG8VWduDl3ji2qhI\", \"Rayland Baxter\": \"spotify:artist:251UrhgNbMr15NLzQ2KyKq\", \"Cigarettes After Sex\": \"spotify:artist:1QAJqy2dA3ihHBFIHRphZj\", \"Hozier\": \"spotify:artist:2FXC3k01G6Gw61bmprjgqS\", \"Foo Fighters\": \"spotify:artist:7jy3rLJdDQY21OgRLCZ9sD\", \"Cold War Kids\": \"spotify:artist:6VDdCwrBM4qQaGxoAyxyJC\", \"Arcade Fire\": \"spotify:artist:3kjuyTCjPG1WMFCiyc5IuB\", \"Uncle Lucius\": \"spotify:artist:49zZ2lRNpfwWfUnASUxCYW\", \"The White Stripes\": \"spotify:artist:4F84IBURUo98rz4r61KF70\", \"The Weeknd\": \"spotify:artist:1Xyo4u8uXC1ZmMpatF05PJ\", \"Robert Finley\": \"spotify:artist:29mRqqZ15WaYjEsKNzcRkv\", \"Mark Ronson\": \"spotify:artist:3hv9jJF3adDNsBSIQDqcjp\", \"Amy Winehouse\": \"spotify:artist:6Q192DXotxtaysaqNPy5yR\", \"Dan Auerbach\": \"spotify:artist:6YWdHD3R863Apw1hkx3BwC\", \"Jonah Tolchin\": \"spotify:artist:66jsWaGhzSpHH1KRF34Oq3\", \"Chaos Chaos\": \"spotify:artist:6D6rjLdxyE5vwhMlkuQq0E\", \"I Monster\": \"spotify:artist:1CcPlAmcnJjC4FnaPVzv2v\", \"Black Pumas\": \"spotify:artist:6eU0jV2eEZ8XTM7EmlguK6\", \"Rival Sons\": \"spotify:artist:356c8AN5YWKvz86B4Sb1yf\", \"Teddy Swims\": \"spotify:artist:33qOK5uJ8AR2xuQQAhHump\", \"John Martyn\": \"spotify:artist:3JulrApLVT81sb2HkfwMks\", \"Propellerheads\": \"spotify:artist:3Z7thZHrtFvqp8OpPffPKp\", \"Shirley Bassey\": \"spotify:artist:090VebphoycdEyH165iMqc\", \"Joywave\": \"spotify:artist:1UfzhwcOR4yfX7yHTPfC9m\", \"Parker Millsap\": \"spotify:artist:0MASTEXfUt3bpiyGOoEaur\"}}\n"
     ]
    }
   ],
   "source": [
    "track_list_tool_message.pretty_print()"
   ]
  },
  {
   "cell_type": "code",
   "execution_count": null,
   "metadata": {},
   "outputs": [],
   "source": [
    "# json.loads(track_list_tool_message.content)"
   ]
  },
  {
   "cell_type": "markdown",
   "metadata": {},
   "source": [
    "# Add Tool Response to Messages"
   ]
  },
  {
   "cell_type": "code",
   "execution_count": 26,
   "metadata": {},
   "outputs": [
    {
     "data": {
      "text/plain": [
       "[SystemMessage(content=\"\\n    You are an AI language assistant designed to execute tasks with precision and attention to detail. Your primary objective is to follow the user's instructions thoroughly and exactly as specified, leaving no detail unaddressed.\\n\\n    Guidelines:\\n\\n    - **Carefully Read Instructions:** Before starting any task, read all user instructions thoroughly to ensure complete understanding.\\n\\n    - **Create a Detailed Plan:** Develop a step-by-step plan that addresses every aspect of the user's requirements. Validate this plan before execution.\\n\\n    - **Utilize Advanced Planning Structures:** Do not limit yourself to linear or sequential plans. Employ loops for repetitive tasks, branches for conditional logic, and other programming constructs to handle complex tasks and decision-making processes.\\n\\n    - **Follow Instructions Precisely:** Execute each step exactly as described, without omitting or altering any part of the instructions.\\n\\n    - **Be Thorough:** Ensure that all elements of the task are completed fully. If the task involves processing multiple items (e.g., a list of items), process each item individually, even if it requires multiple iterations or tool calls.\\n\\n    - **Handle Limitations Proactively:** If you encounter any limitations (such as processing limits), implement solutions like batching or looping to ensure all items are processed.\\n\\n    - **Provide Clear Updates:** In your responses, clearly state which step you are working on and provide updates on your progress, ensuring transparency.\\n\\n    - **Do Not Assume or Simplify:** Avoid making assumptions or simplifying tasks unless explicitly instructed by the user.\\n\\n    - **Maintain Professionalism:** Keep your language professional and focused, aiming to deliver exactly what the user has requested.\\n\\n    Your goal is to execute tasks with high accuracy and completeness, ensuring that the user's needs are fully met.\\n    \", additional_kwargs={}, response_metadata={}),\n",
       " HumanMessage(content=\"\\n    Create, validate, and execute a step-by-step plan with atomic tasks to solve the following problem:\\n\\n    **Objective:** Build a Spotify playlist with tracks that have the same vibe and genres as the playlist named 'New Rock and Blues', following the rules below.\\n\\n    **Rules:**\\n\\n    1. **For each artist in the 'New Rock and Blues' playlist, find 3-4 artists of a similar music style.** *Ensure that you process all artists, even if it requires multiple iterations or tool calls due to API limitations.*\\n\\n    2. **Remove from the new artist list those that are already present in the 'New Rock and Blues' Playlist.**\\n\\n    3. **Focus on Post-2010 Success:** Only include tracks from artists who achieved success after the year 2010.\\n\\n    4. **Minimum Number of New Artists:** Include tracks from at least 40 different artists not present in the 'New Rock and Blues' playlist.\\n\\n    5. **Recommend 3+ tracks for each new artist.**\\n\\n    6. **Arrange for Smooth Listening Experience:** Organize the tracks to create a smooth listening experience, considering tempo, energy, and mood, using best practices.\\n\\n    7. **Playlist Length:** Ensure the new playlist contains at least 100 tracks.\\n\\n    **Instructions:**\\n\\n    - You must validate the plan before starting to work on it.\\n    - Do not ask for user confirmation.\\n    \", additional_kwargs={}, response_metadata={}),\n",
       " AIMessage(content='', additional_kwargs={'tool_calls': [{'id': 'call_99aaGewOyDzPciZz48L6Mkg3', 'function': {'arguments': '{\"plan\":{\"steps\":[{\"step_number\":1,\"name\":\"get-new-rock-and-blues-artists\",\"type\":\"action\",\"description\":\"Retrieve the list of unique artists from the \\'New Rock and Blues\\' Spotify playlist.\",\"success_criteria\":\"List of unique artists is retrieved.\",\"tool\":\"functions.get_artists_from_playlist\",\"action\":\"Use the tool to get the list of artists from the \\'New Rock and Blues\\' playlist.\",\"condition\":null,\"substeps\":null},{\"step_number\":2,\"name\":\"find-similar-artists-loops\",\"type\":\"loop\",\"description\":\"Find similar artists for each artist obtained from the \\'New Rock and Blues\\' playlist.\",\"success_criteria\":\"Similar artists found for each artist in the list.\",\"tool\":\"functions.find_similar_artists\",\"action\":null,\"condition\":\"For each artist in the list.\",\"substeps\":[{\"step_number\":1,\"name\":\"find-similar-artists\",\"type\":\"action\",\"description\":\"Use the tool to find similar artists for an individual artist.\",\"success_criteria\":\"Similar artists obtained for the given artist.\",\"tool\":\"functions.find_similar_artists\",\"action\":\"Find similar artists for the selected artist from the list.\",\"condition\":null}]},{\"step_number\":3,\"name\":\"filter-existing-artists\",\"type\":\"action\",\"description\":\"Filter out any artists from the list of similar artists that are already in the \\'New Rock and Blues\\' playlist.\",\"success_criteria\":\"Filtered list contains only new artists not in the original playlist.\",\"tool\":\"functions.filter_artists\",\"action\":\"Use the tool to filter out existing artists from the list.\",\"condition\":null,\"substeps\":null},{\"step_number\":4,\"name\":\"post-2010-success-filter\",\"type\":\"branch\",\"description\":\"Filter out artists that were not successful post-2010.\",\"success_criteria\":\"List contains only post-2010 successful artists.\",\"tool\":null,\"action\":null,\"condition\":\"Artist success year > 2010.\",\"substeps\":[{\"step_number\":1,\"name\":\"filter-post-2010-artists\",\"type\":\"action\",\"description\":\"Research artist success year and filter accordingly.\",\"success_criteria\":\"Artists filtered based on success year.\",\"tool\":\"functions.tavily_search_results_json\",\"action\":\"Search for artist success years and apply filter.\",\"condition\":null}]},{\"step_number\":5,\"name\":\"ensure-minimum-new-artists\",\"type\":\"branch\",\"description\":\"Ensure there are at least 40 new artists in the list.\",\"success_criteria\":\"List contains at least 40 new artists.\",\"tool\":null,\"action\":null,\"condition\":\"Number of new artists < 40.\",\"substeps\":[{\"step_number\":1,\"name\":\"expand-new-artists-list\",\"type\":\"action\",\"description\":\"Expand the list by finding more similar artists if needed.\",\"success_criteria\":\"New list now contains at least 40 artists.\",\"tool\":\"functions.find_similar_artists\",\"action\":\"Continue finding similar artists and adding to the list until there are at least 40.\",\"condition\":null}]},{\"step_number\":6,\"name\":\"recommend-tracks-for-new-artists\",\"type\":\"loop\",\"description\":\"Find and recommend 3 or more tracks for each new artist in the list.\",\"success_criteria\":\"Each new artist has 3+ tracks recommended.\",\"tool\":\"functions.find_top_tracks\",\"action\":null,\"condition\":\"For each new artist in the list.\",\"substeps\":[{\"step_number\":1,\"name\":\"get-top-tracks\",\"type\":\"action\",\"description\":\"Get top tracks for a new artist.\",\"success_criteria\":\"3+ top tracks retrieved for the artist.\",\"tool\":\"functions.find_top_tracks\",\"action\":\"Retrieve top tracks for the specific artist.\",\"condition\":null}]},{\"step_number\":7,\"name\":\"organize-tracks-for-smooth-experience\",\"type\":\"action\",\"description\":\"Organize tracks to create a smooth listening experience focusing on tempo, energy, and mood.\",\"success_criteria\":\"Tracks are organized to ensure smooth listening.\",\"tool\":null,\"action\":\"Arrange tracks using best practices for music arrangement.\",\"condition\":null,\"substeps\":null},{\"step_number\":8,\"name\":\"create-and-add-tracks-to-playlist\",\"type\":\"action\",\"description\":\"Create a new playlist and add the organized tracks.\",\"success_criteria\":\"New playlist is created with at least 100 tracks.\",\"tool\":\"functions.create_spotify_playlist\",\"action\":\"Create a new playlist and use the tool to add tracks to it.\",\"condition\":null,\"substeps\":null}],\"Reasoning\":\"The plan starts by retrieving the artists from the existing playlist, identifying similar artists (while ensuring they are not already present), and refining our list based on post-2010 success. We ensure at least 40 new artists are included, select top tracks for them, arrange these for a good listening flow, and create the final playlist while adhering to all defined rules.\"}}', 'name': 'validate_plan'}, 'type': 'function'}], 'refusal': None}, response_metadata={'token_usage': {'completion_tokens': 992, 'prompt_tokens': 2047, 'total_tokens': 3039, 'completion_tokens_details': {'accepted_prediction_tokens': 0, 'audio_tokens': 0, 'reasoning_tokens': 0, 'rejected_prediction_tokens': 0}, 'prompt_tokens_details': {'audio_tokens': 0, 'cached_tokens': 1920}}, 'model_name': 'gpt-4o-2024-08-06', 'system_fingerprint': 'fp_159d8341cc', 'finish_reason': 'tool_calls', 'logprobs': None}, id='run-57b38a99-ce5e-4ad0-b964-4e2d99dbd737-0', tool_calls=[{'name': 'validate_plan', 'args': {'plan': {'steps': [{'step_number': 1, 'name': 'get-new-rock-and-blues-artists', 'type': 'action', 'description': \"Retrieve the list of unique artists from the 'New Rock and Blues' Spotify playlist.\", 'success_criteria': 'List of unique artists is retrieved.', 'tool': 'functions.get_artists_from_playlist', 'action': \"Use the tool to get the list of artists from the 'New Rock and Blues' playlist.\", 'condition': None, 'substeps': None}, {'step_number': 2, 'name': 'find-similar-artists-loops', 'type': 'loop', 'description': \"Find similar artists for each artist obtained from the 'New Rock and Blues' playlist.\", 'success_criteria': 'Similar artists found for each artist in the list.', 'tool': 'functions.find_similar_artists', 'action': None, 'condition': 'For each artist in the list.', 'substeps': [{'step_number': 1, 'name': 'find-similar-artists', 'type': 'action', 'description': 'Use the tool to find similar artists for an individual artist.', 'success_criteria': 'Similar artists obtained for the given artist.', 'tool': 'functions.find_similar_artists', 'action': 'Find similar artists for the selected artist from the list.', 'condition': None}]}, {'step_number': 3, 'name': 'filter-existing-artists', 'type': 'action', 'description': \"Filter out any artists from the list of similar artists that are already in the 'New Rock and Blues' playlist.\", 'success_criteria': 'Filtered list contains only new artists not in the original playlist.', 'tool': 'functions.filter_artists', 'action': 'Use the tool to filter out existing artists from the list.', 'condition': None, 'substeps': None}, {'step_number': 4, 'name': 'post-2010-success-filter', 'type': 'branch', 'description': 'Filter out artists that were not successful post-2010.', 'success_criteria': 'List contains only post-2010 successful artists.', 'tool': None, 'action': None, 'condition': 'Artist success year > 2010.', 'substeps': [{'step_number': 1, 'name': 'filter-post-2010-artists', 'type': 'action', 'description': 'Research artist success year and filter accordingly.', 'success_criteria': 'Artists filtered based on success year.', 'tool': 'functions.tavily_search_results_json', 'action': 'Search for artist success years and apply filter.', 'condition': None}]}, {'step_number': 5, 'name': 'ensure-minimum-new-artists', 'type': 'branch', 'description': 'Ensure there are at least 40 new artists in the list.', 'success_criteria': 'List contains at least 40 new artists.', 'tool': None, 'action': None, 'condition': 'Number of new artists < 40.', 'substeps': [{'step_number': 1, 'name': 'expand-new-artists-list', 'type': 'action', 'description': 'Expand the list by finding more similar artists if needed.', 'success_criteria': 'New list now contains at least 40 artists.', 'tool': 'functions.find_similar_artists', 'action': 'Continue finding similar artists and adding to the list until there are at least 40.', 'condition': None}]}, {'step_number': 6, 'name': 'recommend-tracks-for-new-artists', 'type': 'loop', 'description': 'Find and recommend 3 or more tracks for each new artist in the list.', 'success_criteria': 'Each new artist has 3+ tracks recommended.', 'tool': 'functions.find_top_tracks', 'action': None, 'condition': 'For each new artist in the list.', 'substeps': [{'step_number': 1, 'name': 'get-top-tracks', 'type': 'action', 'description': 'Get top tracks for a new artist.', 'success_criteria': '3+ top tracks retrieved for the artist.', 'tool': 'functions.find_top_tracks', 'action': 'Retrieve top tracks for the specific artist.', 'condition': None}]}, {'step_number': 7, 'name': 'organize-tracks-for-smooth-experience', 'type': 'action', 'description': 'Organize tracks to create a smooth listening experience focusing on tempo, energy, and mood.', 'success_criteria': 'Tracks are organized to ensure smooth listening.', 'tool': None, 'action': 'Arrange tracks using best practices for music arrangement.', 'condition': None, 'substeps': None}, {'step_number': 8, 'name': 'create-and-add-tracks-to-playlist', 'type': 'action', 'description': 'Create a new playlist and add the organized tracks.', 'success_criteria': 'New playlist is created with at least 100 tracks.', 'tool': 'functions.create_spotify_playlist', 'action': 'Create a new playlist and use the tool to add tracks to it.', 'condition': None, 'substeps': None}], 'Reasoning': 'The plan starts by retrieving the artists from the existing playlist, identifying similar artists (while ensuring they are not already present), and refining our list based on post-2010 success. We ensure at least 40 new artists are included, select top tracks for them, arrange these for a good listening flow, and create the final playlist while adhering to all defined rules.'}}, 'id': 'call_99aaGewOyDzPciZz48L6Mkg3', 'type': 'tool_call'}], usage_metadata={'input_tokens': 2047, 'output_tokens': 992, 'total_tokens': 3039, 'input_token_details': {'audio': 0, 'cache_read': 1920}, 'output_token_details': {'audio': 0, 'reasoning': 0}}),\n",
       " ToolMessage(content='true', name='validate_plan', tool_call_id='call_99aaGewOyDzPciZz48L6Mkg3'),\n",
       " AIMessage(content='', additional_kwargs={'tool_calls': [{'id': 'call_pO2s8vIWm7nbNGmVC0flkk86', 'function': {'arguments': '{}', 'name': 'get_playlists'}, 'type': 'function'}], 'refusal': None}, response_metadata={'token_usage': {'completion_tokens': 11, 'prompt_tokens': 3048, 'total_tokens': 3059, 'completion_tokens_details': {'accepted_prediction_tokens': 0, 'audio_tokens': 0, 'reasoning_tokens': 0, 'rejected_prediction_tokens': 0}, 'prompt_tokens_details': {'audio_tokens': 0, 'cached_tokens': 2944}}, 'model_name': 'gpt-4o-2024-08-06', 'system_fingerprint': 'fp_159d8341cc', 'finish_reason': 'tool_calls', 'logprobs': None}, id='run-f8e5f508-6ffe-4bc0-83da-75fa0c89bda7-0', tool_calls=[{'name': 'get_playlists', 'args': {}, 'id': 'call_pO2s8vIWm7nbNGmVC0flkk86', 'type': 'tool_call'}], usage_metadata={'input_tokens': 3048, 'output_tokens': 11, 'total_tokens': 3059, 'input_token_details': {'audio': 0, 'cache_read': 2944}, 'output_token_details': {'audio': 0, 'reasoning': 0}}),\n",
       " ToolMessage(content='{\"playlists\": [{\"uri\": \"spotify:playlist:2dbYK5b7J0F7IdH5n1TEUK\", \"name\": \"RPreacher\"}, {\"uri\": \"spotify:playlist:4ack9YtUhdxRayJDAqlfQe\", \"name\": \"RP Bossa Nova Chill \"}, {\"uri\": \"spotify:playlist:75NW18NgdZuZeifrcjxKlZ\", \"name\": \"GVF\"}, {\"uri\": \"spotify:playlist:5iyONtUO21O88xw8pBblwh\", \"name\": \"Now And Then\"}, {\"uri\": \"spotify:playlist:4SDSUMg2HJcGFmHlupsU7U\", \"name\": \"Jazz classics\"}, {\"uri\": \"spotify:playlist:5fBxLG2wLAPVpx83402rHl\", \"name\": \"Acdc\"}, {\"uri\": \"spotify:playlist:17Yxm5hQbkbZwDcCTuiDXC\", \"name\": \"einaudi\"}, {\"uri\": \"spotify:playlist:2X6GccWfIqPWO6VYx405nO\", \"name\": \"Eric Clapton Blues\"}, {\"uri\": \"spotify:playlist:3smVXe8y8w8nt4lFH0HBkW\", \"name\": \"Alchemy: Dire Straits\"}, {\"uri\": \"spotify:playlist:2ifRZBXnX7UmIPUlGet5WZ\", \"name\": \"Blues\"}, {\"uri\": \"spotify:playlist:5nn2ePtd9gYEEDL3XnACCB\", \"name\": \"brazil\"}, {\"uri\": \"spotify:playlist:6YAntoKNXuogPKdV26b6XE\", \"name\": \"CCR\"}, {\"uri\": \"spotify:playlist:2VHkZvOMCkLF3B7TsKerKD\", \"name\": \"Chill\"}, {\"uri\": \"spotify:playlist:508lbLx9XUkHv5Xb45hxTP\", \"name\": \"Classic Rock\"}, {\"uri\": \"spotify:playlist:7zzDMq1sPwkZPYeqOQJ9qS\", \"name\": \"The New Four Seasons - Vivaldi Recomposed\"}, {\"uri\": \"spotify:playlist:4l8WcaYlPkuVPXVGxMIca3\", \"name\": \"New Study\"}, {\"uri\": \"spotify:playlist:0Wr2Z9vroQ9IXKaokFHldt\", \"name\": \"Islands - Essential Einaudi (Deluxe Version)\"}, {\"uri\": \"spotify:playlist:780Yx65yiaLtBYM76neBYC\", \"name\": \"Gioachino Rossini – Rossini: Overtures\"}, {\"uri\": \"spotify:playlist:76rUGmzqh1OhyheEOUDYNp\", \"name\": \"Frédéric Chopin – Chopin: Nocturnes\"}, {\"uri\": \"spotify:playlist:5qcHJodVJd8AEOT2cCvxEm\", \"name\": \"Frédéric Chopin – Chopin: Nocturnes - Sony Classical Originals 2\"}, {\"uri\": \"spotify:playlist:7hr9yYAJLXDoJ5sKBhm8Af\", \"name\": \"Antonio Vivaldi – Vivaldi: Guitar Concertos\"}, {\"uri\": \"spotify:playlist:4ruyjAXs6VHU8ZYJqXsUiN\", \"name\": \"Sergei Rachmaninoff – Rachmaninoff Plays Rachmaninoff: Concertos Nos. 2 and 3\"}, {\"uri\": \"spotify:playlist:4GYOeGfC7fSephEi3UYh0W\", \"name\": \"Erik Satie – Satie: Gymnopédies, Gnossiennes & Other Works\"}, {\"uri\": \"spotify:playlist:2lop6NfhiYA07UzhWUCyc2\", \"name\": \"Classical Masters\"}, {\"uri\": \"spotify:playlist:2RUN05cfOlR09kJUvTAEPk\", \"name\": \"Evil Woman\"}, {\"uri\": \"spotify:playlist:3DEKSWlDt8Qors1NpYLXwt\", \"name\": \"Hits 2000\"}, {\"uri\": \"spotify:playlist:7FgZOBK0lhTZz7gMJeV7gs\", \"name\": \"Insomniac\"}, {\"uri\": \"spotify:playlist:6DgcAL9oygPekQLDY2mFDq\", \"name\": \"Jean-Michel Jarre – Equinoxe\"}, {\"uri\": \"spotify:playlist:6X1fib1966dU31uZdTH5p1\", \"name\": \"Misplaced Childhood (2017 Remaster)\"}, {\"uri\": \"spotify:playlist:5mxEevqyJ7IbtnmxlRSlaL\", \"name\": \"My Playlist #36\"}, {\"uri\": \"spotify:playlist:01tk0aitEuGK0ajWCkzdKc\", \"name\": \"New Rock and Blues\"}, {\"uri\": \"spotify:playlist:5Culgc9kaBQ5b9oOHXXhB6\", \"name\": \"Nothing But the Blues (Live)\"}, {\"uri\": \"spotify:playlist:5qYPd1AvydE1Ltz5uGCVVG\", \"name\": \"Pet Shop Boys\"}, {\"uri\": \"spotify:playlist:43ekrNptzLLkRVGuZWUI83\", \"name\": \"Pink Floyd\"}, {\"uri\": \"spotify:playlist:25odQP99Tc8QbNs8dWWsQV\", \"name\": \"Pink Floyd – The Wall\"}, {\"uri\": \"spotify:playlist:6smB0SEs5sX0FOzA4h22Eq\", \"name\": \"Rock\"}, {\"uri\": \"spotify:playlist:5q5ZVp6frFMc8y0ivNfGk2\", \"name\": \"Rock Balads\"}, {\"uri\": \"spotify:playlist:4Vk5tgx9FcO17ZhdFwxJIp\", \"name\": \"Rock Hard\"}, {\"uri\": \"spotify:playlist:3n3RLXoDDH7O9XpusnnnvV\", \"name\": \"Rolling Stones\"}, {\"uri\": \"spotify:playlist:5XdXmStK6X9ZPstLvDBekC\", \"name\": \"Workout\"}]}', name='get_playlists', tool_call_id='call_pO2s8vIWm7nbNGmVC0flkk86'),\n",
       " AIMessage(content='', additional_kwargs={'tool_calls': [{'id': 'call_1EP3UmWCzx4r04E3IcAVORJa', 'function': {'arguments': '{\"playlist_id\":\"spotify:playlist:01tk0aitEuGK0ajWCkzdKc\"}', 'name': 'get_artists_from_playlist'}, 'type': 'function'}], 'refusal': None}, response_metadata={'token_usage': {'completion_tokens': 34, 'prompt_tokens': 4466, 'total_tokens': 4500, 'completion_tokens_details': {'accepted_prediction_tokens': 0, 'audio_tokens': 0, 'reasoning_tokens': 0, 'rejected_prediction_tokens': 0}, 'prompt_tokens_details': {'audio_tokens': 0, 'cached_tokens': 2944}}, 'model_name': 'gpt-4o-2024-08-06', 'system_fingerprint': 'fp_159d8341cc', 'finish_reason': 'tool_calls', 'logprobs': None}, id='run-60686f10-703f-487b-bee8-b039b3b7d594-0', tool_calls=[{'name': 'get_artists_from_playlist', 'args': {'playlist_id': 'spotify:playlist:01tk0aitEuGK0ajWCkzdKc'}, 'id': 'call_1EP3UmWCzx4r04E3IcAVORJa', 'type': 'tool_call'}], usage_metadata={'input_tokens': 4466, 'output_tokens': 34, 'total_tokens': 4500, 'input_token_details': {'audio': 0, 'cache_read': 2944}, 'output_token_details': {'audio': 0, 'reasoning': 0}}),\n",
       " ToolMessage(content='{\"artists\": {\"Gary Clark Jr.\": \"spotify:artist:01aC2ikO4Xgb2LUpf9JfKp\", \"Ayron Jones\": \"spotify:artist:1iEaqWaYpKo9x0OrEq7Q7z\", \"Thirty Seconds To Mars\": \"spotify:artist:0RqtSIYZmd4fiBKVFqyIqD\", \"KALEO\": \"spotify:artist:7jdFEYD2LTYjfwxOdlVjmc\", \"Arctic Monkeys\": \"spotify:artist:7Ln80lUS6He07XvHI8qqHH\", \"Queens of the Stone Age\": \"spotify:artist:4pejUc4iciQfgdX6OKulQn\", \"Black Pistol Fire\": \"spotify:artist:0Nrwy16xCPXG8AwkMbcVvo\", \"Welshly Arms\": \"spotify:artist:1xKrH6GSh9CJh8nYwbqW7B\", \"The Record Company\": \"spotify:artist:6vYg01ZFt1nREsUDMDPUYX\", \"The Heavy\": \"spotify:artist:0bZCak2tcRMY1dzEIuwF42\", \"Greta Van Fleet\": \"spotify:artist:4NpFxQe2UvRCAjto3JqlSl\", \"Whiskey Myers\": \"spotify:artist:26opZSJcXshCmCwxgZQmBc\", \"Colter Wall\": \"spotify:artist:3xYXYzm9H3RzyQgBrYwIcx\", \"Tyler Childers\": \"spotify:artist:13ZEDW6vyBF12HYcZRr4EV\", \"Chris Stapleton\": \"spotify:artist:4YLtscXsxbVgi031ovDDdh\", \"The Blue Stones\": \"spotify:artist:5VPCIIfZPK8KPsgz4jmOEC\", \"Goodbye June\": \"spotify:artist:1l9I7G8J8AnMScWQwlNJ4M\", \"Muse\": \"spotify:artist:12Chz98pHFMPJEknJQMWvI\", \"Samantha Fish\": \"spotify:artist:5HsS48kuvghKcNpwOaAvB5\", \"The Black Keys\": \"spotify:artist:7mnBLXK823vNxN3UWB7Gfz\", \"The Arcs\": \"spotify:artist:3mVWMgLc7bcyCBtL2ymZwK\", \"Audioslave\": \"spotify:artist:2ziB7fzrXBoh1HUPS6sVFn\", \"Yola\": \"spotify:artist:2gqMBdyddvN82dzZt4ZF14\", \"Emily Jane White\": \"spotify:artist:2PqsalqLh5RT6FSy9DrGZh\", \"Cage The Elephant\": \"spotify:artist:26T3LtbuGT1Fu9m0eRq5X3\", \"Jackyl\": \"spotify:artist:3jdirYL01245TvAH39GfM6\", \"Yeah Yeah Yeahs\": \"spotify:artist:3TNt4aUIxgfy9aoaft5Jj2\", \"Perfume Genius\": \"spotify:artist:2ueoLVCXQ948OfhVvAy3Nn\", \"Stone Sour\": \"spotify:artist:49qiE8dj4JuNdpYGRPdKbF\", \"The Technicolors\": \"spotify:artist:6hQS54VPpxunuwR0W7usuo\", \"Reignwolf\": \"spotify:artist:66YGDwn22fjphzqGCSIbbK\", \"Inhaler\": \"spotify:artist:6lyMYewq2SuTFIXgiv7OxH\", \"Barns Courtney\": \"spotify:artist:5tFRohaO5yEsuJxmMnlCO9\", \"Alabama Shakes\": \"spotify:artist:16GcWuvvybAoaHr0NqT8Eh\", \"James\": \"spotify:artist:0qLNsNKm8bQcMoRFkR8Hmh\", \"Local Natives\": \"spotify:artist:75dQReiBOHN37fQgWQrIAJ\", \"Wolfmother\": \"spotify:artist:3yEnArbNHyTCwMRvD9SBy4\", \"Ron Gallo\": \"spotify:artist:4rfE3kN2zKNC9L9tt3iVOg\", \"Blackberry Smoke\": \"spotify:artist:5P1oS9DUTPEqcrmXDmX4p8\", \"Broken Witt Rebels\": \"spotify:artist:3WyGjUsOZJRiT9re5pZYxL\", \"The Bones of J.R. Jones\": \"spotify:artist:7sMcWECQxLm7EoKdRlSCAn\", \"Maggie Bjorklund\": \"spotify:artist:4uk9cWBqeiel7tO1w9MPe0\", \"Last Train\": \"spotify:artist:4S47feOS2ATuhc7Ao5ilfG\", \"Everlast\": \"spotify:artist:14ZxDAK6ITtZZqPdiWrvSn\", \"Florence + The Machine\": \"spotify:artist:1moxjboGR7GNWYIMWsRjgG\", \"Beach Weather\": \"spotify:artist:7I3bkknknQkIiatWiupQgD\", \"Kings of Leon\": \"spotify:artist:2qk9voo8llSGYcZ6xrBzKx\", \"Santana\": \"spotify:artist:6GI52t8N5F02MxU0g5U69P\", \"Shakey Graves\": \"spotify:artist:1fZpYWNWdL5Z3wrDtISFUH\", \"Grian Chatten\": \"spotify:artist:6XyAI3jtlsss5mJjAAJXzE\", \"Morningsiders\": \"spotify:artist:5hPR4Atp3QY2ztiAcz1inl\", \"The Revivalists\": \"spotify:artist:5kuJibJcwOC53s3OkoGMRA\", \"Talking Heads\": \"spotify:artist:2x9SpqnPi8rlE9pjHBwmSC\", \"Blur\": \"spotify:artist:7MhMgCo0Bl0Kukl93PZbYS\", \"David Gray\": \"spotify:artist:7J2lZBANizgPNfUzux31PV\", \"Sharon Jones & The Dap-Kings\": \"spotify:artist:6LufpoVlIYKQCu9Gjpk8B7\", \"Danielle Ponder\": \"spotify:artist:5rZUNweztKBI1Xy3XhYHoJ\", \"Post Malone\": \"spotify:artist:246dkjvS1zLTtiykXe5h60\", \"Swae Lee\": \"spotify:artist:1zNqQNIdeOUZHb8zbZRFMX\", \"The Rolling Stones\": \"spotify:artist:22bE4uQ6baNwSHPVcDxLCe\", \"Lady Gaga\": \"spotify:artist:1HY2Jd0NmPuamShAr6KMms\", \"Robert Randolph & The Family Band\": \"spotify:artist:4xac3zhHlBm5QDxbZeqgeR\", \"The Struts\": \"spotify:artist:3lDpdwM8KILepMHqBWUhIA\", \"July Talk\": \"spotify:artist:3EaMbsBlExxNxLvTJcZvDq\", \"Chris Cornell\": \"spotify:artist:0XHiH53dHrvbwfjYM7en7I\", \"Sons Of The East\": \"spotify:artist:6cSxzHrQgGc4I4Ck5Gewej\", \"Mt. Joy\": \"spotify:artist:69tiO1fG8VWduDl3ji2qhI\", \"Rayland Baxter\": \"spotify:artist:251UrhgNbMr15NLzQ2KyKq\", \"Cigarettes After Sex\": \"spotify:artist:1QAJqy2dA3ihHBFIHRphZj\", \"Hozier\": \"spotify:artist:2FXC3k01G6Gw61bmprjgqS\", \"Foo Fighters\": \"spotify:artist:7jy3rLJdDQY21OgRLCZ9sD\", \"Cold War Kids\": \"spotify:artist:6VDdCwrBM4qQaGxoAyxyJC\", \"Arcade Fire\": \"spotify:artist:3kjuyTCjPG1WMFCiyc5IuB\", \"Uncle Lucius\": \"spotify:artist:49zZ2lRNpfwWfUnASUxCYW\", \"The White Stripes\": \"spotify:artist:4F84IBURUo98rz4r61KF70\", \"The Weeknd\": \"spotify:artist:1Xyo4u8uXC1ZmMpatF05PJ\", \"Robert Finley\": \"spotify:artist:29mRqqZ15WaYjEsKNzcRkv\", \"Mark Ronson\": \"spotify:artist:3hv9jJF3adDNsBSIQDqcjp\", \"Amy Winehouse\": \"spotify:artist:6Q192DXotxtaysaqNPy5yR\", \"Dan Auerbach\": \"spotify:artist:6YWdHD3R863Apw1hkx3BwC\", \"Jonah Tolchin\": \"spotify:artist:66jsWaGhzSpHH1KRF34Oq3\", \"Chaos Chaos\": \"spotify:artist:6D6rjLdxyE5vwhMlkuQq0E\", \"I Monster\": \"spotify:artist:1CcPlAmcnJjC4FnaPVzv2v\", \"Black Pumas\": \"spotify:artist:6eU0jV2eEZ8XTM7EmlguK6\", \"Rival Sons\": \"spotify:artist:356c8AN5YWKvz86B4Sb1yf\", \"Teddy Swims\": \"spotify:artist:33qOK5uJ8AR2xuQQAhHump\", \"John Martyn\": \"spotify:artist:3JulrApLVT81sb2HkfwMks\", \"Propellerheads\": \"spotify:artist:3Z7thZHrtFvqp8OpPffPKp\", \"Shirley Bassey\": \"spotify:artist:090VebphoycdEyH165iMqc\", \"Joywave\": \"spotify:artist:1UfzhwcOR4yfX7yHTPfC9m\", \"Parker Millsap\": \"spotify:artist:0MASTEXfUt3bpiyGOoEaur\"}}', name='get_artists_from_playlist', tool_call_id='call_1EP3UmWCzx4r04E3IcAVORJa')]"
      ]
     },
     "execution_count": 26,
     "metadata": {},
     "output_type": "execute_result"
    }
   ],
   "source": [
    "chat_prompt_template += track_list_tool_message\n",
    "messages = chat_prompt_template.format_messages()\n",
    "messages"
   ]
  },
  {
   "cell_type": "markdown",
   "metadata": {},
   "source": [
    "# Send Tool Result to LLM"
   ]
  },
  {
   "cell_type": "code",
   "execution_count": 27,
   "metadata": {},
   "outputs": [
    {
     "name": "stderr",
     "output_type": "stream",
     "text": [
      "2024-11-14 09:20:06,002 - INFO - HTTP Request: POST https://api.openai.com/v1/chat/completions \"HTTP/1.1 200 OK\"\n"
     ]
    }
   ],
   "source": [
    "response = llm_with_tools.invoke(messages)"
   ]
  },
  {
   "cell_type": "markdown",
   "metadata": {},
   "source": [
    "# AI Tool Call (find_similar_artist())"
   ]
  },
  {
   "cell_type": "code",
   "execution_count": null,
   "metadata": {},
   "outputs": [],
   "source": [
    "if ai_tool_call_message.tool_calls is None or ai_tool_call_message.tool_calls[0][\"name\"] != \"get_artists_from_playlist\":\n",
    "    raise ValueError(\"should be tool message calling 'validate_plan'\")"
   ]
  },
  {
   "cell_type": "code",
   "execution_count": 28,
   "metadata": {},
   "outputs": [
    {
     "name": "stdout",
     "output_type": "stream",
     "text": [
      "==================================\u001b[1m Ai Message \u001b[0m==================================\n",
      "Tool Calls:\n",
      "  find_similar_artists (call_GV7H9t6hvoZNu8TNqger5Nbg)\n",
      " Call ID: call_GV7H9t6hvoZNu8TNqger5Nbg\n",
      "  Args:\n",
      "    artists: ['spotify:artist:01aC2ikO4Xgb2LUpf9JfKp', 'spotify:artist:1iEaqWaYpKo9x0OrEq7Q7z', 'spotify:artist:0RqtSIYZmd4fiBKVFqyIqD', 'spotify:artist:7jdFEYD2LTYjfwxOdlVjmc', 'spotify:artist:7Ln80lUS6He07XvHI8qqHH', 'spotify:artist:4pejUc4iciQfgdX6OKulQn', 'spotify:artist:0Nrwy16xCPXG8AwkMbcVvo']\n",
      "  find_similar_artists (call_BynT7v5QQmUiLqtHe8UZpKyY)\n",
      " Call ID: call_BynT7v5QQmUiLqtHe8UZpKyY\n",
      "  Args:\n",
      "    artists: ['spotify:artist:1xKrH6GSh9CJh8nYwbqW7B', 'spotify:artist:6vYg01ZFt1nREsUDMDPUYX', 'spotify:artist:0bZCak2tcRMY1dzEIuwF42', 'spotify:artist:4NpFxQe2UvRCAjto3JqlSl', 'spotify:artist:26opZSJcXshCmCwxgZQmBc', 'spotify:artist:3xYXYzm9H3RzyQgBrYwIcx', 'spotify:artist:13ZEDW6vyBF12HYcZRr4EV']\n",
      "  find_similar_artists (call_xEIyEPEIpptTRAI5i0vo8j1x)\n",
      " Call ID: call_xEIyEPEIpptTRAI5i0vo8j1x\n",
      "  Args:\n",
      "    artists: ['spotify:artist:4YLtscXsxbVgi031ovDDdh', 'spotify:artist:5VPCIIfZPK8KPsgz4jmOEC', 'spotify:artist:1l9I7G8J8AnMScWQwlNJ4M', 'spotify:artist:12Chz98pHFMPJEknJQMWvI', 'spotify:artist:5HsS48kuvghKcNpwOaAvB5', 'spotify:artist:7mnBLXK823vNxN3UWB7Gfz', 'spotify:artist:3mVWMgLc7bcyCBtL2ymZwK']\n",
      "  find_similar_artists (call_3yLITMvJThBS7wZ5mVrheTDt)\n",
      " Call ID: call_3yLITMvJThBS7wZ5mVrheTDt\n",
      "  Args:\n",
      "    artists: ['spotify:artist:2ziB7fzrXBoh1HUPS6sVFn', 'spotify:artist:2gqMBdyddvN82dzZt4ZF14', 'spotify:artist:2PqsalqLh5RT6FSy9DrGZh', 'spotify:artist:26T3LtbuGT1Fu9m0eRq5X3', 'spotify:artist:3jdirYL01245TvAH39GfM6', 'spotify:artist:3TNt4aUIxgfy9aoaft5Jj2', 'spotify:artist:2ueoLVCXQ948OfhVvAy3Nn']\n",
      "  find_similar_artists (call_cGRu52ykdZMb9WFJf369Pk35)\n",
      " Call ID: call_cGRu52ykdZMb9WFJf369Pk35\n",
      "  Args:\n",
      "    artists: ['spotify:artist:49qiE8dj4JuNdpYGRPdKbF', 'spotify:artist:6hQS54VPpxunuwR0W7usuo', 'spotify:artist:66YGDwn22fjphzqGCSIbbK', 'spotify:artist:6lyMYewq2SuTFIXgiv7OxH', 'spotify:artist:5tFRohaO5yEsuJxmMnlCO9', 'spotify:artist:16GcWuvvybAoaHr0NqT8Eh', 'spotify:artist:0qLNsNKm8bQcMoRFkR8Hmh']\n",
      "  find_similar_artists (call_elanzT0Xv5nJWhq7gG0kAZFr)\n",
      " Call ID: call_elanzT0Xv5nJWhq7gG0kAZFr\n",
      "  Args:\n",
      "    artists: ['spotify:artist:75dQReiBOHN37fQgWQrIAJ', 'spotify:artist:3yEnArbNHyTCwMRvD9SBy4', 'spotify:artist:4rfE3kN2zKNC9L9tt3iVOg', 'spotify:artist:5P1oS9DUTPEqcrmXDmX4p8', 'spotify:artist:3WyGjUsOZJRiT9re5pZYxL', 'spotify:artist:7sMcWECQxLm7EoKdRlSCAn', 'spotify:artist:4uk9cWBqeiel7tO1w9MPe0']\n",
      "  find_similar_artists (call_cPnUjbFcFF87ri1s25HNzQ6G)\n",
      " Call ID: call_cPnUjbFcFF87ri1s25HNzQ6G\n",
      "  Args:\n",
      "    artists: ['spotify:artist:4S47feOS2ATuhc7Ao5ilfG', 'spotify:artist:14ZxDAK6ITtZZqPdiWrvSn', 'spotify:artist:1moxjboGR7GNWYIMWsRjgG', 'spotify:artist:7I3bkknknQkIiatWiupQgD', 'spotify:artist:2qk9voo8llSGYcZ6xrBzKx', 'spotify:artist:6GI52t8N5F02MxU0g5U69P', 'spotify:artist:1fZpYWNWdL5Z3wrDtISFUH']\n",
      "  find_similar_artists (call_hWrHjmJ4O63QZNNQ94a4aqPt)\n",
      " Call ID: call_hWrHjmJ4O63QZNNQ94a4aqPt\n",
      "  Args:\n",
      "    artists: ['spotify:artist:6XyAI3jtlsss5mJjAAJXzE', 'spotify:artist:5hPR4Atp3QY2ztiAcz1inl', 'spotify:artist:5kuJibJcwOC53s3OkoGMRA', 'spotify:artist:2x9SpqnPi8rlE9pjHBwmSC', 'spotify:artist:7MhMgCo0Bl0Kukl93PZbYS', 'spotify:artist:7J2lZBANizgPNfUzux31PV', 'spotify:artist:6LufpoVlIYKQCu9Gjpk8B7']\n",
      "  find_similar_artists (call_Zp7fdiQ6H7GiEMDX5p7EcKgx)\n",
      " Call ID: call_Zp7fdiQ6H7GiEMDX5p7EcKgx\n",
      "  Args:\n",
      "    artists: ['spotify:artist:5rZUNweztKBI1Xy3XhYHoJ', 'spotify:artist:246dkjvS1zLTtiykXe5h60', 'spotify:artist:1zNqQNIdeOUZHb8zbZRFMX', 'spotify:artist:22bE4uQ6baNwSHPVcDxLCe', 'spotify:artist:1HY2Jd0NmPuamShAr6KMms', 'spotify:artist:4xac3zhHlBm5QDxbZeqgeR']\n",
      "  find_similar_artists (call_OBgmpp0UX167dodxfpGlu6a2)\n",
      " Call ID: call_OBgmpp0UX167dodxfpGlu6a2\n",
      "  Args:\n",
      "    artists: ['spotify:artist:3lDpdwM8KILepMHqBWUhIA', 'spotify:artist:3EaMbsBlExxNxLvTJcZvDq', 'spotify:artist:0XHiH53dHrvbwfjYM7en7I', 'spotify:artist:6cSxzHrQgGc4I4Ck5Gewej', 'spotify:artist:69tiO1fG8VWduDl3ji2qhI', 'spotify:artist:251UrhgNbMr15NLzQ2KyKq', 'spotify:artist:1QAJqy2dA3ihHBFIHRphZj']\n",
      "  find_similar_artists (call_MdDU39iWbOf3DlnNg5TgUaGy)\n",
      " Call ID: call_MdDU39iWbOf3DlnNg5TgUaGy\n",
      "  Args:\n",
      "    artists: ['spotify:artist:2FXC3k01G6Gw61bmprjgqS', 'spotify:artist:7jy3rLJdDQY21OgRLCZ9sD', 'spotify:artist:6VDdCwrBM4qQaGxoAyxyJC', 'spotify:artist:3kjuyTCjPG1WMFCiyc5IuB', 'spotify:artist:49zZ2lRNpfwWfUnASUxCYW', 'spotify:artist:4F84IBURUo98rz4r61KF70', 'spotify:artist:1Xyo4u8uXC1ZmMpatF05PJ']\n",
      "  find_similar_artists (call_PVV9UM7ZIX5OaA2ybSjvFAyR)\n",
      " Call ID: call_PVV9UM7ZIX5OaA2ybSjvFAyR\n",
      "  Args:\n",
      "    artists: ['spotify:artist:29mRqqZ15WaYjEsKNzcRkv', 'spotify:artist:3hv9jJF3adDNsBSIQDqcjp', 'spotify:artist:6Q192DXotxtaysaqNPy5yR', 'spotify:artist:6YWdHD3R863Apw1hkx3BwC', 'spotify:artist:66jsWaGhzSpHH1KRF34Oq3', 'spotify:artist:6D6rjLdxyE5vwhMlkuQq0E']\n",
      "  find_similar_artists (call_G9nssbQc0y5NHgiLFtObWVC5)\n",
      " Call ID: call_G9nssbQc0y5NHgiLFtObWVC5\n",
      "  Args:\n",
      "    artists: ['spotify:artist:1CcPlAmcnJjC4FnaPVzv2v', 'spotify:artist:6eU0jV2eEZ8XTM7EmlguK6', 'spotify:artist:356c8AN5YWKvz86B4Sb1yf', 'spotify:artist:33qOK5uJ8AR2xuQQAhHump', 'spotify:artist:3JulrApLVT81sb2HkfwMks', 'spotify:artist:3Z7thZHrtFvqp8OpPffPKp', 'spotify:artist:090VebphoycdEyH165iMqc']\n",
      "  find_similar_artists (call_Mngyc4M3SHIdFJ3nrC3r2EQf)\n",
      " Call ID: call_Mngyc4M3SHIdFJ3nrC3r2EQf\n",
      "  Args:\n",
      "    artists: ['spotify:artist:1UfzhwcOR4yfX7yHTPfC9m', 'spotify:artist:0MASTEXfUt3bpiyGOoEaur']\n"
     ]
    }
   ],
   "source": [
    "response.pretty_print()"
   ]
  },
  {
   "cell_type": "code",
   "execution_count": null,
   "metadata": {},
   "outputs": [],
   "source": [
    "if ai_tool_call_message.tool_calls is None or ai_tool_call_message.tool_calls[0][\"name\"] != \"find_similar_artists\":\n",
    "    raise ValueError(\"should be tool message calling 'validate_plan'\")"
   ]
  },
  {
   "cell_type": "markdown",
   "metadata": {},
   "source": [
    "# Add AI Tool Call to Messages"
   ]
  },
  {
   "cell_type": "code",
   "execution_count": null,
   "metadata": {},
   "outputs": [],
   "source": [
    "chat_prompt_template += response\n",
    "messages = chat_prompt_template.format_messages()\n",
    "messages"
   ]
  },
  {
   "cell_type": "markdown",
   "metadata": {},
   "source": [
    "# Tool Call (find_similar_artists())"
   ]
  },
  {
   "cell_type": "code",
   "execution_count": null,
   "metadata": {},
   "outputs": [],
   "source": [
    "response = tool_node.invoke({\"messages\": messages})"
   ]
  },
  {
   "cell_type": "code",
   "execution_count": null,
   "metadata": {},
   "outputs": [],
   "source": [
    "tool_message = response[\"messages\"][0]\n",
    "tool_message.pretty_print()"
   ]
  },
  {
   "cell_type": "markdown",
   "metadata": {},
   "source": [
    "# Add Tool Response to Messages"
   ]
  },
  {
   "cell_type": "code",
   "execution_count": null,
   "metadata": {},
   "outputs": [],
   "source": [
    "chat_prompt_template += tool_message\n",
    "messages = chat_prompt_template.format_messages()\n",
    "messages"
   ]
  },
  {
   "cell_type": "markdown",
   "metadata": {},
   "source": [
    "# Send Tool Result to LLM"
   ]
  },
  {
   "cell_type": "code",
   "execution_count": null,
   "metadata": {},
   "outputs": [],
   "source": [
    "response = llm_with_tools.invoke(messages)\n",
    "response.pretty_print()"
   ]
  },
  {
   "cell_type": "code",
   "execution_count": null,
   "metadata": {},
   "outputs": [],
   "source": [
    "chat_prompt_template += response\n",
    "messages = chat_prompt_template.format_messages()\n",
    "messages"
   ]
  },
  {
   "cell_type": "code",
   "execution_count": null,
   "metadata": {},
   "outputs": [],
   "source": [
    "hm = HumanMessage(\"Why did you only asked for similar artists for a ubset of all artists in the playlist? How can the prompt be improved to make sure you go through all of them?\")\n",
    "chat_prompt_template += hm\n",
    "response = llm_with_tools.invoke(messages)\n",
    "response.pretty_print()"
   ]
  },
  {
   "cell_type": "code",
   "execution_count": null,
   "metadata": {},
   "outputs": [],
   "source": [
    "filtered_artists: ToolMessage = response[\"messages\"][0]\n",
    "filtered_artists.pretty_print()"
   ]
  },
  {
   "cell_type": "code",
   "execution_count": null,
   "metadata": {},
   "outputs": [],
   "source": [
    "response = llm_with_tools.invoke(messages)"
   ]
  },
  {
   "cell_type": "code",
   "execution_count": null,
   "metadata": {},
   "outputs": [],
   "source": [
    "chat_prompt_template += response\n",
    "chat_prompt_template.format_messages()"
   ]
  },
  {
   "cell_type": "code",
   "execution_count": null,
   "metadata": {},
   "outputs": [],
   "source": [
    "response = tool_node.invoke({\"messages\": [response]})"
   ]
  },
  {
   "cell_type": "code",
   "execution_count": null,
   "metadata": {},
   "outputs": [],
   "source": [
    "response"
   ]
  }
 ],
 "metadata": {
  "kernelspec": {
   "display_name": ".venv",
   "language": "python",
   "name": "python3"
  },
  "language_info": {
   "codemirror_mode": {
    "name": "ipython",
    "version": 3
   },
   "file_extension": ".py",
   "mimetype": "text/x-python",
   "name": "python",
   "nbconvert_exporter": "python",
   "pygments_lexer": "ipython3",
   "version": "3.12.5"
  }
 },
 "nbformat": 4,
 "nbformat_minor": 2
}
