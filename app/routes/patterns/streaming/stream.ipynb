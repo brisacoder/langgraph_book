{
 "cells": [
  {
   "cell_type": "code",
   "execution_count": 1,
   "metadata": {},
   "outputs": [],
   "source": [
    "%%capture --no-stderr\n",
    "%pip install -U langgraph langchain-openai"
   ]
  },
  {
   "cell_type": "code",
   "execution_count": 3,
   "metadata": {},
   "outputs": [],
   "source": [
    "import getpass\n",
    "import os\n",
    "\n",
    "\n",
    "def _set_env(var: str):\n",
    "    os.environ[var] = getpass.getpass(f\"{var}: \")\n",
    "\n",
    "\n",
    "_set_env(\"OPENAI_API_KEY\")"
   ]
  },
  {
   "cell_type": "code",
   "execution_count": 7,
   "metadata": {},
   "outputs": [],
   "source": [
    "from langchain_core.callbacks import Callbacks\n",
    "from langchain_core.messages import HumanMessage\n",
    "from langchain_core.tools import tool\n",
    "\n",
    "from langgraph.prebuilt import create_react_agent\n",
    "from langchain_openai import ChatOpenAI\n",
    "\n",
    "\n",
    "@tool\n",
    "async def get_items(\n",
    "    place: str,\n",
    ") -> str:\n",
    "    \"\"\"Use this tool to look up which items are in the given place\"\"\"\n",
    "    # Attention when using async, you should be invoking the LLM using ainvoke!\n",
    "    # If you fail to do so, streaming will not WORK.\n",
    "    return await llm.ainvoke(\n",
    "        [\n",
    "            {\n",
    "                \"role\": \"user\",\n",
    "                \"content\": f\"Can you tell me what kind of items i might find in the following place: '{place}'. \"\n",
    "                \"List at least 3 such items separating them by a comma. And include a brief description of each item..\",\n",
    "            }\n",
    "        ],\n",
    "    )\n",
    "\n",
    "\n",
    "llm = ChatOpenAI(model_name=\"gpt-4o\")\n",
    "tools = [get_items]\n",
    "agent = create_react_agent(llm, tools=tools)"
   ]
  },
  {
   "cell_type": "code",
   "execution_count": null,
   "metadata": {},
   "outputs": [],
   "source": [
    "final_message = \"\"\n",
    "async for msg, metadata in agent.astream(\n",
    "    {\"messages\": [(\"human\", \"what items are on the pantry shelf?\")]}, stream_mode=\"messages\"\n",
    "):\n",
    "    # Stream all messages from the tool node\n",
    "    if (\n",
    "        msg.content\n",
    "        and not isinstance(msg, HumanMessage)\n",
    "        and metadata[\"langgraph_node\"] == \"tools\"\n",
    "        and not msg.name\n",
    "    ):\n",
    "        print(msg.content, end=\"|\", flush=True)\n",
    "    # Final message should come from our agent\n",
    "    if msg.content and metadata[\"langgraph_node\"] == \"agent\":\n",
    "        final_message += msg.content"
   ]
  },
  {
   "cell_type": "code",
   "execution_count": 12,
   "metadata": {},
   "outputs": [
    {
     "name": "stdout",
     "output_type": "stream",
     "text": [
      "|In| a| bedroom|,| you| might| typically| find| the| following| items|:\n",
      "\n",
      "|1|.| **|Bed|**|:| The| primary| piece| of| furniture| for| sleeping|,| usually| consisting| of| a| mattress| on| a| frame|,| and| often| accompanied| by| bedding| such| as| sheets|,| blankets|,| and| pillows|.\n",
      "\n",
      "|2|.| **|Ward|robe|**|:| A| tall|,| standalone| cabinet| used| for| storing| clothes|,| shoes|,| and| accessories|.| It| often| includes| shelves|,| drawers|,| and| hanging| space| to| help| organize| clothing|.\n",
      "\n",
      "|3|.| **|Night|stand|**|:| A| small| table| or| cabinet| placed| beside| the| bed|,| used| for| holding| items| that| might| be| needed| during| the| night|,| such| as| a| lamp|,| alarm| clock|,| or| personal| belongings| like| a| phone| or| books|.||"
     ]
    }
   ],
   "source": [
    "from langchain_core.messages import HumanMessage\n",
    "\n",
    "async for event in agent.astream_events(\n",
    "    {\"messages\": [{\"role\": \"user\", \"content\": \"what's in the bedroom.\"}]}, version=\"v2\"\n",
    "):\n",
    "    if (\n",
    "        event[\"event\"] == \"on_chat_model_stream\"\n",
    "        and event[\"metadata\"].get(\"langgraph_node\") == \"tools\"\n",
    "    ):\n",
    "        print(event[\"data\"][\"chunk\"].content, end=\"|\", flush=True)"
   ]
  }
 ],
 "metadata": {
  "kernelspec": {
   "display_name": ".venv",
   "language": "python",
   "name": "python3"
  },
  "language_info": {
   "codemirror_mode": {
    "name": "ipython",
    "version": 3
   },
   "file_extension": ".py",
   "mimetype": "text/x-python",
   "name": "python",
   "nbconvert_exporter": "python",
   "pygments_lexer": "ipython3",
   "version": "3.13.0"
  }
 },
 "nbformat": 4,
 "nbformat_minor": 2
}
